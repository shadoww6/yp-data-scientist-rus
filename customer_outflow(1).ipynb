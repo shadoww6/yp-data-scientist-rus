{
  "cells": [
    {
      "cell_type": "markdown",
      "source": [
        "❗ Оставлены рекомендации ревьюера"
      ],
      "metadata": {
        "id": "nkb4zJR8Edc1"
      }
    },
    {
      "cell_type": "markdown",
      "metadata": {
        "id": "rtNwPEqhCi2f"
      },
      "source": [
        "# Отток клиентов"
      ]
    },
    {
      "cell_type": "markdown",
      "metadata": {
        "id": "hX3Pn2ybCi2f"
      },
      "source": [
        "Из «Бета-Банка» стали уходить клиенты. Каждый месяц. Немного, но заметно. Банковские маркетологи посчитали: сохранять текущих клиентов дешевле, чем привлекать новых.\n",
        "\n",
        "Нужно спрогнозировать, уйдёт клиент из банка в ближайшее время или нет. Вам предоставлены исторические данные о поведении клиентов и расторжении договоров с банком.\n",
        "\n",
        "Постройте модель с предельно большим значением *F1*-меры. Чтобы сдать проект успешно, нужно довести метрику до 0.59. Проверьте *F1*-меру на тестовой выборке самостоятельно.\n",
        "\n",
        "Дополнительно измеряйте *AUC-ROC*, сравнивайте её значение с *F1*-мерой.\n",
        "\n",
        "Источник данных: [https://www.kaggle.com/barelydedicated/bank-customer-churn-modeling](https://www.kaggle.com/barelydedicated/bank-customer-churn-modeling)\n",
        "\n",
        "Признаки\n",
        "\n",
        "* *RowNumber* — индекс строки в данных\n",
        "* *CustomerId* — уникальный идентификатор клиента\n",
        "* *Surname* — фамилия\n",
        "* *CreditScore* — кредитный рейтинг\n",
        "* *Geography* — страна проживания\n",
        "* *Gender* — пол\n",
        "* *Age* — возраст\n",
        "* *Tenure* — сколько лет человек является клиентом банка\n",
        "* *Balance* — баланс на счёте\n",
        "* *NumOfProducts* — количество продуктов банка, используемых клиентом\n",
        "* *HasCrCard* — наличие кредитной карты\n",
        "* *IsActiveMember* — активность клиента\n",
        "* *EstimatedSalary* — предполагаемая зарплата\n",
        "\n",
        "Целевой признак\n",
        "\n",
        "* *Exited* — факт ухода клиента"
      ]
    },
    {
      "cell_type": "markdown",
      "metadata": {
        "toc": true,
        "id": "C5RbcZorCi2e"
      },
      "source": [
        "<h1>Содержание<span class=\"tocSkip\"></span></h1>\n",
        "<div class=\"toc\"><ul class=\"toc-item\"><li><span><a href=\"#Подготовка-данных\" data-toc-modified-id=\"Подготовка-данных-1\"><span class=\"toc-item-num\">1&nbsp;&nbsp;</span>Подготовка данных</a></span></li><li><span><a href=\"#Исследование-задачи\" data-toc-modified-id=\"Исследование-задачи-2\"><span class=\"toc-item-num\">2&nbsp;&nbsp;</span>Исследование задачи</a></span><ul class=\"toc-item\"><li><span><a href=\"#Исследование-баланса\" data-toc-modified-id=\"Исследование-баланса-2.1\"><span class=\"toc-item-num\">2.1&nbsp;&nbsp;</span>Исследование баланса</a></span></li><li><span><a href=\"#Решающее-дерево\" data-toc-modified-id=\"Решающее-дерево-2.2\"><span class=\"toc-item-num\">2.2&nbsp;&nbsp;</span>Решающее дерево</a></span></li><li><span><a href=\"#Случайный-лес\" data-toc-modified-id=\"Случайный-лес-2.3\"><span class=\"toc-item-num\">2.3&nbsp;&nbsp;</span>Случайный лес</a></span></li><li><span><a href=\"#Логистическая-регрессия\" data-toc-modified-id=\"Логистическая-регрессия-2.4\"><span class=\"toc-item-num\">2.4&nbsp;&nbsp;</span>Логистическая регрессия</a></span></li><li><span><a href=\"#Вывод\" data-toc-modified-id=\"Вывод-2.5\"><span class=\"toc-item-num\">2.5&nbsp;&nbsp;</span>Вывод</a></span></li></ul></li><li><span><a href=\"#Борьба-с-дисбалансом\" data-toc-modified-id=\"Борьба-с-дисбалансом-3\"><span class=\"toc-item-num\">3&nbsp;&nbsp;</span>Борьба с дисбалансом</a></span><ul class=\"toc-item\"><li><span><a href=\"#Взвешивание-классов\" data-toc-modified-id=\"Взвешивание-классов-3.1\"><span class=\"toc-item-num\">3.1&nbsp;&nbsp;</span>Взвешивание классов</a></span></li><li><span><a href=\"#Увеличение-и-уменьшение-выборок\" data-toc-modified-id=\"Увеличение-и-уменьшение-выборок-3.2\"><span class=\"toc-item-num\">3.2&nbsp;&nbsp;</span>Увеличение и уменьшение выборок</a></span></li><li><span><a href=\"#Вывод\" data-toc-modified-id=\"Вывод-3.3\"><span class=\"toc-item-num\">3.3&nbsp;&nbsp;</span>Вывод</a></span></li></ul></li><li><span><a href=\"#Тестирование-модели\" data-toc-modified-id=\"Тестирование-модели-4\"><span class=\"toc-item-num\">4&nbsp;&nbsp;</span>Тестирование модели</a></span><ul class=\"toc-item\"><li><span><a href=\"#Решающее-дерево\" data-toc-modified-id=\"Решающее-дерево-4.1\"><span class=\"toc-item-num\">4.1&nbsp;&nbsp;</span>Решающее дерево</a></span></li><li><span><a href=\"#Случайный-лес\" data-toc-modified-id=\"Случайный-лес-4.2\"><span class=\"toc-item-num\">4.2&nbsp;&nbsp;</span>Случайный лес</a></span></li><li><span><a href=\"#Вывод\" data-toc-modified-id=\"Вывод-4.3\"><span class=\"toc-item-num\">4.3&nbsp;&nbsp;</span>Вывод</a></span></li></ul></li><li><span><a href=\"#Общий-вывод\" data-toc-modified-id=\"Общий-вывод-5\"><span class=\"toc-item-num\">5&nbsp;&nbsp;</span>Общий вывод</a></span></li><li><span><a href=\"#Чек-лист-готовности-проекта\" data-toc-modified-id=\"Чек-лист-готовности-проекта-6\"><span class=\"toc-item-num\">6&nbsp;&nbsp;</span>Чек-лист готовности проекта</a></span></li></ul></div>"
      ]
    },
    {
      "cell_type": "markdown",
      "metadata": {
        "id": "L8Y7IA0_Ci2g"
      },
      "source": [
        "## Подготовка данных"
      ]
    },
    {
      "cell_type": "code",
      "execution_count": null,
      "metadata": {
        "id": "vTwOQlt9Ci2h"
      },
      "outputs": [],
      "source": [
        "import pandas as pd\n",
        "import numpy as np\n",
        "import random\n",
        "import seaborn as sns\n",
        "import matplotlib.pyplot as plt\n",
        "\n",
        "from sklearn.model_selection import train_test_split\n",
        "from sklearn.preprocessing import StandardScaler\n",
        "from sklearn.tree import DecisionTreeClassifier\n",
        "from sklearn.ensemble import RandomForestClassifier\n",
        "from sklearn.linear_model import LogisticRegression\n",
        "from sklearn.dummy import DummyClassifier\n",
        "from sklearn.metrics import accuracy_score\n",
        "from sklearn.ensemble import RandomForestRegressor\n",
        "from sklearn.linear_model import LinearRegression\n",
        "from sklearn.neighbors import KNeighborsClassifier\n",
        "from sklearn.svm import SVC\n",
        "from sklearn.metrics import accuracy_score, f1_score, roc_auc_score, r2_score\n",
        "from sklearn.utils import shuffle\n",
        "\n",
        "\n",
        "df = pd.read_csv('/datasets/Churn.csv')"
      ]
    },
    {
      "cell_type": "code",
      "execution_count": null,
      "metadata": {
        "scrolled": true,
        "id": "B_YsqKpkCi2h",
        "outputId": "fbc57b70-6311-4846-a086-285a0b4fa476"
      },
      "outputs": [
        {
          "data": {
            "text/html": [
              "<div>\n",
              "<style scoped>\n",
              "    .dataframe tbody tr th:only-of-type {\n",
              "        vertical-align: middle;\n",
              "    }\n",
              "\n",
              "    .dataframe tbody tr th {\n",
              "        vertical-align: top;\n",
              "    }\n",
              "\n",
              "    .dataframe thead th {\n",
              "        text-align: right;\n",
              "    }\n",
              "</style>\n",
              "<table border=\"1\" class=\"dataframe\">\n",
              "  <thead>\n",
              "    <tr style=\"text-align: right;\">\n",
              "      <th></th>\n",
              "      <th>RowNumber</th>\n",
              "      <th>CustomerId</th>\n",
              "      <th>Surname</th>\n",
              "      <th>CreditScore</th>\n",
              "      <th>Geography</th>\n",
              "      <th>Gender</th>\n",
              "      <th>Age</th>\n",
              "      <th>Tenure</th>\n",
              "      <th>Balance</th>\n",
              "      <th>NumOfProducts</th>\n",
              "      <th>HasCrCard</th>\n",
              "      <th>IsActiveMember</th>\n",
              "      <th>EstimatedSalary</th>\n",
              "      <th>Exited</th>\n",
              "    </tr>\n",
              "  </thead>\n",
              "  <tbody>\n",
              "    <tr>\n",
              "      <th>0</th>\n",
              "      <td>1</td>\n",
              "      <td>15634602</td>\n",
              "      <td>Hargrave</td>\n",
              "      <td>619</td>\n",
              "      <td>France</td>\n",
              "      <td>Female</td>\n",
              "      <td>42</td>\n",
              "      <td>2.0</td>\n",
              "      <td>0.00</td>\n",
              "      <td>1</td>\n",
              "      <td>1</td>\n",
              "      <td>1</td>\n",
              "      <td>101348.88</td>\n",
              "      <td>1</td>\n",
              "    </tr>\n",
              "    <tr>\n",
              "      <th>1</th>\n",
              "      <td>2</td>\n",
              "      <td>15647311</td>\n",
              "      <td>Hill</td>\n",
              "      <td>608</td>\n",
              "      <td>Spain</td>\n",
              "      <td>Female</td>\n",
              "      <td>41</td>\n",
              "      <td>1.0</td>\n",
              "      <td>83807.86</td>\n",
              "      <td>1</td>\n",
              "      <td>0</td>\n",
              "      <td>1</td>\n",
              "      <td>112542.58</td>\n",
              "      <td>0</td>\n",
              "    </tr>\n",
              "    <tr>\n",
              "      <th>2</th>\n",
              "      <td>3</td>\n",
              "      <td>15619304</td>\n",
              "      <td>Onio</td>\n",
              "      <td>502</td>\n",
              "      <td>France</td>\n",
              "      <td>Female</td>\n",
              "      <td>42</td>\n",
              "      <td>8.0</td>\n",
              "      <td>159660.80</td>\n",
              "      <td>3</td>\n",
              "      <td>1</td>\n",
              "      <td>0</td>\n",
              "      <td>113931.57</td>\n",
              "      <td>1</td>\n",
              "    </tr>\n",
              "    <tr>\n",
              "      <th>3</th>\n",
              "      <td>4</td>\n",
              "      <td>15701354</td>\n",
              "      <td>Boni</td>\n",
              "      <td>699</td>\n",
              "      <td>France</td>\n",
              "      <td>Female</td>\n",
              "      <td>39</td>\n",
              "      <td>1.0</td>\n",
              "      <td>0.00</td>\n",
              "      <td>2</td>\n",
              "      <td>0</td>\n",
              "      <td>0</td>\n",
              "      <td>93826.63</td>\n",
              "      <td>0</td>\n",
              "    </tr>\n",
              "    <tr>\n",
              "      <th>4</th>\n",
              "      <td>5</td>\n",
              "      <td>15737888</td>\n",
              "      <td>Mitchell</td>\n",
              "      <td>850</td>\n",
              "      <td>Spain</td>\n",
              "      <td>Female</td>\n",
              "      <td>43</td>\n",
              "      <td>2.0</td>\n",
              "      <td>125510.82</td>\n",
              "      <td>1</td>\n",
              "      <td>1</td>\n",
              "      <td>1</td>\n",
              "      <td>79084.10</td>\n",
              "      <td>0</td>\n",
              "    </tr>\n",
              "    <tr>\n",
              "      <th>5</th>\n",
              "      <td>6</td>\n",
              "      <td>15574012</td>\n",
              "      <td>Chu</td>\n",
              "      <td>645</td>\n",
              "      <td>Spain</td>\n",
              "      <td>Male</td>\n",
              "      <td>44</td>\n",
              "      <td>8.0</td>\n",
              "      <td>113755.78</td>\n",
              "      <td>2</td>\n",
              "      <td>1</td>\n",
              "      <td>0</td>\n",
              "      <td>149756.71</td>\n",
              "      <td>1</td>\n",
              "    </tr>\n",
              "    <tr>\n",
              "      <th>6</th>\n",
              "      <td>7</td>\n",
              "      <td>15592531</td>\n",
              "      <td>Bartlett</td>\n",
              "      <td>822</td>\n",
              "      <td>France</td>\n",
              "      <td>Male</td>\n",
              "      <td>50</td>\n",
              "      <td>7.0</td>\n",
              "      <td>0.00</td>\n",
              "      <td>2</td>\n",
              "      <td>1</td>\n",
              "      <td>1</td>\n",
              "      <td>10062.80</td>\n",
              "      <td>0</td>\n",
              "    </tr>\n",
              "    <tr>\n",
              "      <th>7</th>\n",
              "      <td>8</td>\n",
              "      <td>15656148</td>\n",
              "      <td>Obinna</td>\n",
              "      <td>376</td>\n",
              "      <td>Germany</td>\n",
              "      <td>Female</td>\n",
              "      <td>29</td>\n",
              "      <td>4.0</td>\n",
              "      <td>115046.74</td>\n",
              "      <td>4</td>\n",
              "      <td>1</td>\n",
              "      <td>0</td>\n",
              "      <td>119346.88</td>\n",
              "      <td>1</td>\n",
              "    </tr>\n",
              "    <tr>\n",
              "      <th>8</th>\n",
              "      <td>9</td>\n",
              "      <td>15792365</td>\n",
              "      <td>He</td>\n",
              "      <td>501</td>\n",
              "      <td>France</td>\n",
              "      <td>Male</td>\n",
              "      <td>44</td>\n",
              "      <td>4.0</td>\n",
              "      <td>142051.07</td>\n",
              "      <td>2</td>\n",
              "      <td>0</td>\n",
              "      <td>1</td>\n",
              "      <td>74940.50</td>\n",
              "      <td>0</td>\n",
              "    </tr>\n",
              "    <tr>\n",
              "      <th>9</th>\n",
              "      <td>10</td>\n",
              "      <td>15592389</td>\n",
              "      <td>H?</td>\n",
              "      <td>684</td>\n",
              "      <td>France</td>\n",
              "      <td>Male</td>\n",
              "      <td>27</td>\n",
              "      <td>2.0</td>\n",
              "      <td>134603.88</td>\n",
              "      <td>1</td>\n",
              "      <td>1</td>\n",
              "      <td>1</td>\n",
              "      <td>71725.73</td>\n",
              "      <td>0</td>\n",
              "    </tr>\n",
              "    <tr>\n",
              "      <th>10</th>\n",
              "      <td>11</td>\n",
              "      <td>15767821</td>\n",
              "      <td>Bearce</td>\n",
              "      <td>528</td>\n",
              "      <td>France</td>\n",
              "      <td>Male</td>\n",
              "      <td>31</td>\n",
              "      <td>6.0</td>\n",
              "      <td>102016.72</td>\n",
              "      <td>2</td>\n",
              "      <td>0</td>\n",
              "      <td>0</td>\n",
              "      <td>80181.12</td>\n",
              "      <td>0</td>\n",
              "    </tr>\n",
              "    <tr>\n",
              "      <th>11</th>\n",
              "      <td>12</td>\n",
              "      <td>15737173</td>\n",
              "      <td>Andrews</td>\n",
              "      <td>497</td>\n",
              "      <td>Spain</td>\n",
              "      <td>Male</td>\n",
              "      <td>24</td>\n",
              "      <td>3.0</td>\n",
              "      <td>0.00</td>\n",
              "      <td>2</td>\n",
              "      <td>1</td>\n",
              "      <td>0</td>\n",
              "      <td>76390.01</td>\n",
              "      <td>0</td>\n",
              "    </tr>\n",
              "    <tr>\n",
              "      <th>12</th>\n",
              "      <td>13</td>\n",
              "      <td>15632264</td>\n",
              "      <td>Kay</td>\n",
              "      <td>476</td>\n",
              "      <td>France</td>\n",
              "      <td>Female</td>\n",
              "      <td>34</td>\n",
              "      <td>10.0</td>\n",
              "      <td>0.00</td>\n",
              "      <td>2</td>\n",
              "      <td>1</td>\n",
              "      <td>0</td>\n",
              "      <td>26260.98</td>\n",
              "      <td>0</td>\n",
              "    </tr>\n",
              "    <tr>\n",
              "      <th>13</th>\n",
              "      <td>14</td>\n",
              "      <td>15691483</td>\n",
              "      <td>Chin</td>\n",
              "      <td>549</td>\n",
              "      <td>France</td>\n",
              "      <td>Female</td>\n",
              "      <td>25</td>\n",
              "      <td>5.0</td>\n",
              "      <td>0.00</td>\n",
              "      <td>2</td>\n",
              "      <td>0</td>\n",
              "      <td>0</td>\n",
              "      <td>190857.79</td>\n",
              "      <td>0</td>\n",
              "    </tr>\n",
              "    <tr>\n",
              "      <th>14</th>\n",
              "      <td>15</td>\n",
              "      <td>15600882</td>\n",
              "      <td>Scott</td>\n",
              "      <td>635</td>\n",
              "      <td>Spain</td>\n",
              "      <td>Female</td>\n",
              "      <td>35</td>\n",
              "      <td>7.0</td>\n",
              "      <td>0.00</td>\n",
              "      <td>2</td>\n",
              "      <td>1</td>\n",
              "      <td>1</td>\n",
              "      <td>65951.65</td>\n",
              "      <td>0</td>\n",
              "    </tr>\n",
              "    <tr>\n",
              "      <th>15</th>\n",
              "      <td>16</td>\n",
              "      <td>15643966</td>\n",
              "      <td>Goforth</td>\n",
              "      <td>616</td>\n",
              "      <td>Germany</td>\n",
              "      <td>Male</td>\n",
              "      <td>45</td>\n",
              "      <td>3.0</td>\n",
              "      <td>143129.41</td>\n",
              "      <td>2</td>\n",
              "      <td>0</td>\n",
              "      <td>1</td>\n",
              "      <td>64327.26</td>\n",
              "      <td>0</td>\n",
              "    </tr>\n",
              "    <tr>\n",
              "      <th>16</th>\n",
              "      <td>17</td>\n",
              "      <td>15737452</td>\n",
              "      <td>Romeo</td>\n",
              "      <td>653</td>\n",
              "      <td>Germany</td>\n",
              "      <td>Male</td>\n",
              "      <td>58</td>\n",
              "      <td>1.0</td>\n",
              "      <td>132602.88</td>\n",
              "      <td>1</td>\n",
              "      <td>1</td>\n",
              "      <td>0</td>\n",
              "      <td>5097.67</td>\n",
              "      <td>1</td>\n",
              "    </tr>\n",
              "    <tr>\n",
              "      <th>17</th>\n",
              "      <td>18</td>\n",
              "      <td>15788218</td>\n",
              "      <td>Henderson</td>\n",
              "      <td>549</td>\n",
              "      <td>Spain</td>\n",
              "      <td>Female</td>\n",
              "      <td>24</td>\n",
              "      <td>9.0</td>\n",
              "      <td>0.00</td>\n",
              "      <td>2</td>\n",
              "      <td>1</td>\n",
              "      <td>1</td>\n",
              "      <td>14406.41</td>\n",
              "      <td>0</td>\n",
              "    </tr>\n",
              "    <tr>\n",
              "      <th>18</th>\n",
              "      <td>19</td>\n",
              "      <td>15661507</td>\n",
              "      <td>Muldrow</td>\n",
              "      <td>587</td>\n",
              "      <td>Spain</td>\n",
              "      <td>Male</td>\n",
              "      <td>45</td>\n",
              "      <td>6.0</td>\n",
              "      <td>0.00</td>\n",
              "      <td>1</td>\n",
              "      <td>0</td>\n",
              "      <td>0</td>\n",
              "      <td>158684.81</td>\n",
              "      <td>0</td>\n",
              "    </tr>\n",
              "    <tr>\n",
              "      <th>19</th>\n",
              "      <td>20</td>\n",
              "      <td>15568982</td>\n",
              "      <td>Hao</td>\n",
              "      <td>726</td>\n",
              "      <td>France</td>\n",
              "      <td>Female</td>\n",
              "      <td>24</td>\n",
              "      <td>6.0</td>\n",
              "      <td>0.00</td>\n",
              "      <td>2</td>\n",
              "      <td>1</td>\n",
              "      <td>1</td>\n",
              "      <td>54724.03</td>\n",
              "      <td>0</td>\n",
              "    </tr>\n",
              "  </tbody>\n",
              "</table>\n",
              "</div>"
            ],
            "text/plain": [
              "    RowNumber  CustomerId    Surname  CreditScore Geography  Gender  Age  \\\n",
              "0           1    15634602   Hargrave          619    France  Female   42   \n",
              "1           2    15647311       Hill          608     Spain  Female   41   \n",
              "2           3    15619304       Onio          502    France  Female   42   \n",
              "3           4    15701354       Boni          699    France  Female   39   \n",
              "4           5    15737888   Mitchell          850     Spain  Female   43   \n",
              "5           6    15574012        Chu          645     Spain    Male   44   \n",
              "6           7    15592531   Bartlett          822    France    Male   50   \n",
              "7           8    15656148     Obinna          376   Germany  Female   29   \n",
              "8           9    15792365         He          501    France    Male   44   \n",
              "9          10    15592389         H?          684    France    Male   27   \n",
              "10         11    15767821     Bearce          528    France    Male   31   \n",
              "11         12    15737173    Andrews          497     Spain    Male   24   \n",
              "12         13    15632264        Kay          476    France  Female   34   \n",
              "13         14    15691483       Chin          549    France  Female   25   \n",
              "14         15    15600882      Scott          635     Spain  Female   35   \n",
              "15         16    15643966    Goforth          616   Germany    Male   45   \n",
              "16         17    15737452      Romeo          653   Germany    Male   58   \n",
              "17         18    15788218  Henderson          549     Spain  Female   24   \n",
              "18         19    15661507    Muldrow          587     Spain    Male   45   \n",
              "19         20    15568982        Hao          726    France  Female   24   \n",
              "\n",
              "    Tenure    Balance  NumOfProducts  HasCrCard  IsActiveMember  \\\n",
              "0      2.0       0.00              1          1               1   \n",
              "1      1.0   83807.86              1          0               1   \n",
              "2      8.0  159660.80              3          1               0   \n",
              "3      1.0       0.00              2          0               0   \n",
              "4      2.0  125510.82              1          1               1   \n",
              "5      8.0  113755.78              2          1               0   \n",
              "6      7.0       0.00              2          1               1   \n",
              "7      4.0  115046.74              4          1               0   \n",
              "8      4.0  142051.07              2          0               1   \n",
              "9      2.0  134603.88              1          1               1   \n",
              "10     6.0  102016.72              2          0               0   \n",
              "11     3.0       0.00              2          1               0   \n",
              "12    10.0       0.00              2          1               0   \n",
              "13     5.0       0.00              2          0               0   \n",
              "14     7.0       0.00              2          1               1   \n",
              "15     3.0  143129.41              2          0               1   \n",
              "16     1.0  132602.88              1          1               0   \n",
              "17     9.0       0.00              2          1               1   \n",
              "18     6.0       0.00              1          0               0   \n",
              "19     6.0       0.00              2          1               1   \n",
              "\n",
              "    EstimatedSalary  Exited  \n",
              "0         101348.88       1  \n",
              "1         112542.58       0  \n",
              "2         113931.57       1  \n",
              "3          93826.63       0  \n",
              "4          79084.10       0  \n",
              "5         149756.71       1  \n",
              "6          10062.80       0  \n",
              "7         119346.88       1  \n",
              "8          74940.50       0  \n",
              "9          71725.73       0  \n",
              "10         80181.12       0  \n",
              "11         76390.01       0  \n",
              "12         26260.98       0  \n",
              "13        190857.79       0  \n",
              "14         65951.65       0  \n",
              "15         64327.26       0  \n",
              "16          5097.67       1  \n",
              "17         14406.41       0  \n",
              "18        158684.81       0  \n",
              "19         54724.03       0  "
            ]
          },
          "execution_count": 2,
          "metadata": {},
          "output_type": "execute_result"
        }
      ],
      "source": [
        "df.head(20)"
      ]
    },
    {
      "cell_type": "code",
      "execution_count": null,
      "metadata": {
        "id": "pvRozaTOCi2i",
        "outputId": "8bbf619a-f6ec-4f53-8341-c736e109b35b"
      },
      "outputs": [
        {
          "name": "stdout",
          "output_type": "stream",
          "text": [
            "<class 'pandas.core.frame.DataFrame'>\n",
            "RangeIndex: 10000 entries, 0 to 9999\n",
            "Data columns (total 14 columns):\n",
            " #   Column           Non-Null Count  Dtype  \n",
            "---  ------           --------------  -----  \n",
            " 0   RowNumber        10000 non-null  int64  \n",
            " 1   CustomerId       10000 non-null  int64  \n",
            " 2   Surname          10000 non-null  object \n",
            " 3   CreditScore      10000 non-null  int64  \n",
            " 4   Geography        10000 non-null  object \n",
            " 5   Gender           10000 non-null  object \n",
            " 6   Age              10000 non-null  int64  \n",
            " 7   Tenure           9091 non-null   float64\n",
            " 8   Balance          10000 non-null  float64\n",
            " 9   NumOfProducts    10000 non-null  int64  \n",
            " 10  HasCrCard        10000 non-null  int64  \n",
            " 11  IsActiveMember   10000 non-null  int64  \n",
            " 12  EstimatedSalary  10000 non-null  float64\n",
            " 13  Exited           10000 non-null  int64  \n",
            "dtypes: float64(3), int64(8), object(3)\n",
            "memory usage: 1.1+ MB\n"
          ]
        }
      ],
      "source": [
        "df.info()"
      ]
    },
    {
      "cell_type": "code",
      "execution_count": null,
      "metadata": {
        "scrolled": false,
        "id": "WV9rf-GfCi2j",
        "outputId": "1fbd54c5-a77f-4fc8-de82-3a1cdb265630"
      },
      "outputs": [
        {
          "data": {
            "text/html": [
              "<div>\n",
              "<style scoped>\n",
              "    .dataframe tbody tr th:only-of-type {\n",
              "        vertical-align: middle;\n",
              "    }\n",
              "\n",
              "    .dataframe tbody tr th {\n",
              "        vertical-align: top;\n",
              "    }\n",
              "\n",
              "    .dataframe thead th {\n",
              "        text-align: right;\n",
              "    }\n",
              "</style>\n",
              "<table border=\"1\" class=\"dataframe\">\n",
              "  <thead>\n",
              "    <tr style=\"text-align: right;\">\n",
              "      <th></th>\n",
              "      <th>RowNumber</th>\n",
              "      <th>CustomerId</th>\n",
              "      <th>CreditScore</th>\n",
              "      <th>Age</th>\n",
              "      <th>Tenure</th>\n",
              "      <th>Balance</th>\n",
              "      <th>NumOfProducts</th>\n",
              "      <th>HasCrCard</th>\n",
              "      <th>IsActiveMember</th>\n",
              "      <th>EstimatedSalary</th>\n",
              "      <th>Exited</th>\n",
              "    </tr>\n",
              "  </thead>\n",
              "  <tbody>\n",
              "    <tr>\n",
              "      <th>count</th>\n",
              "      <td>10000.00000</td>\n",
              "      <td>1.000000e+04</td>\n",
              "      <td>10000.000000</td>\n",
              "      <td>10000.000000</td>\n",
              "      <td>9091.000000</td>\n",
              "      <td>10000.000000</td>\n",
              "      <td>10000.000000</td>\n",
              "      <td>10000.00000</td>\n",
              "      <td>10000.000000</td>\n",
              "      <td>10000.000000</td>\n",
              "      <td>10000.000000</td>\n",
              "    </tr>\n",
              "    <tr>\n",
              "      <th>mean</th>\n",
              "      <td>5000.50000</td>\n",
              "      <td>1.569094e+07</td>\n",
              "      <td>650.528800</td>\n",
              "      <td>38.921800</td>\n",
              "      <td>4.997690</td>\n",
              "      <td>76485.889288</td>\n",
              "      <td>1.530200</td>\n",
              "      <td>0.70550</td>\n",
              "      <td>0.515100</td>\n",
              "      <td>100090.239881</td>\n",
              "      <td>0.203700</td>\n",
              "    </tr>\n",
              "    <tr>\n",
              "      <th>std</th>\n",
              "      <td>2886.89568</td>\n",
              "      <td>7.193619e+04</td>\n",
              "      <td>96.653299</td>\n",
              "      <td>10.487806</td>\n",
              "      <td>2.894723</td>\n",
              "      <td>62397.405202</td>\n",
              "      <td>0.581654</td>\n",
              "      <td>0.45584</td>\n",
              "      <td>0.499797</td>\n",
              "      <td>57510.492818</td>\n",
              "      <td>0.402769</td>\n",
              "    </tr>\n",
              "    <tr>\n",
              "      <th>min</th>\n",
              "      <td>1.00000</td>\n",
              "      <td>1.556570e+07</td>\n",
              "      <td>350.000000</td>\n",
              "      <td>18.000000</td>\n",
              "      <td>0.000000</td>\n",
              "      <td>0.000000</td>\n",
              "      <td>1.000000</td>\n",
              "      <td>0.00000</td>\n",
              "      <td>0.000000</td>\n",
              "      <td>11.580000</td>\n",
              "      <td>0.000000</td>\n",
              "    </tr>\n",
              "    <tr>\n",
              "      <th>25%</th>\n",
              "      <td>2500.75000</td>\n",
              "      <td>1.562853e+07</td>\n",
              "      <td>584.000000</td>\n",
              "      <td>32.000000</td>\n",
              "      <td>2.000000</td>\n",
              "      <td>0.000000</td>\n",
              "      <td>1.000000</td>\n",
              "      <td>0.00000</td>\n",
              "      <td>0.000000</td>\n",
              "      <td>51002.110000</td>\n",
              "      <td>0.000000</td>\n",
              "    </tr>\n",
              "    <tr>\n",
              "      <th>50%</th>\n",
              "      <td>5000.50000</td>\n",
              "      <td>1.569074e+07</td>\n",
              "      <td>652.000000</td>\n",
              "      <td>37.000000</td>\n",
              "      <td>5.000000</td>\n",
              "      <td>97198.540000</td>\n",
              "      <td>1.000000</td>\n",
              "      <td>1.00000</td>\n",
              "      <td>1.000000</td>\n",
              "      <td>100193.915000</td>\n",
              "      <td>0.000000</td>\n",
              "    </tr>\n",
              "    <tr>\n",
              "      <th>75%</th>\n",
              "      <td>7500.25000</td>\n",
              "      <td>1.575323e+07</td>\n",
              "      <td>718.000000</td>\n",
              "      <td>44.000000</td>\n",
              "      <td>7.000000</td>\n",
              "      <td>127644.240000</td>\n",
              "      <td>2.000000</td>\n",
              "      <td>1.00000</td>\n",
              "      <td>1.000000</td>\n",
              "      <td>149388.247500</td>\n",
              "      <td>0.000000</td>\n",
              "    </tr>\n",
              "    <tr>\n",
              "      <th>max</th>\n",
              "      <td>10000.00000</td>\n",
              "      <td>1.581569e+07</td>\n",
              "      <td>850.000000</td>\n",
              "      <td>92.000000</td>\n",
              "      <td>10.000000</td>\n",
              "      <td>250898.090000</td>\n",
              "      <td>4.000000</td>\n",
              "      <td>1.00000</td>\n",
              "      <td>1.000000</td>\n",
              "      <td>199992.480000</td>\n",
              "      <td>1.000000</td>\n",
              "    </tr>\n",
              "  </tbody>\n",
              "</table>\n",
              "</div>"
            ],
            "text/plain": [
              "         RowNumber    CustomerId   CreditScore           Age       Tenure  \\\n",
              "count  10000.00000  1.000000e+04  10000.000000  10000.000000  9091.000000   \n",
              "mean    5000.50000  1.569094e+07    650.528800     38.921800     4.997690   \n",
              "std     2886.89568  7.193619e+04     96.653299     10.487806     2.894723   \n",
              "min        1.00000  1.556570e+07    350.000000     18.000000     0.000000   \n",
              "25%     2500.75000  1.562853e+07    584.000000     32.000000     2.000000   \n",
              "50%     5000.50000  1.569074e+07    652.000000     37.000000     5.000000   \n",
              "75%     7500.25000  1.575323e+07    718.000000     44.000000     7.000000   \n",
              "max    10000.00000  1.581569e+07    850.000000     92.000000    10.000000   \n",
              "\n",
              "             Balance  NumOfProducts    HasCrCard  IsActiveMember  \\\n",
              "count   10000.000000   10000.000000  10000.00000    10000.000000   \n",
              "mean    76485.889288       1.530200      0.70550        0.515100   \n",
              "std     62397.405202       0.581654      0.45584        0.499797   \n",
              "min         0.000000       1.000000      0.00000        0.000000   \n",
              "25%         0.000000       1.000000      0.00000        0.000000   \n",
              "50%     97198.540000       1.000000      1.00000        1.000000   \n",
              "75%    127644.240000       2.000000      1.00000        1.000000   \n",
              "max    250898.090000       4.000000      1.00000        1.000000   \n",
              "\n",
              "       EstimatedSalary        Exited  \n",
              "count     10000.000000  10000.000000  \n",
              "mean     100090.239881      0.203700  \n",
              "std       57510.492818      0.402769  \n",
              "min          11.580000      0.000000  \n",
              "25%       51002.110000      0.000000  \n",
              "50%      100193.915000      0.000000  \n",
              "75%      149388.247500      0.000000  \n",
              "max      199992.480000      1.000000  "
            ]
          },
          "execution_count": 4,
          "metadata": {},
          "output_type": "execute_result"
        }
      ],
      "source": [
        "df.describe()"
      ]
    },
    {
      "cell_type": "markdown",
      "metadata": {
        "id": "gMXyUZc-Ci2j"
      },
      "source": [
        "В признаке Tenure (сколько лет пользователь является клиентом банка) есть пропуски. Скорее всего такие пользователи только пришли, поэтому стажа для подсчёта лет в базе у них ещё недостаточно. Заменим пропуски на нули."
      ]
    },
    {
      "cell_type": "code",
      "execution_count": null,
      "metadata": {
        "scrolled": true,
        "id": "EP-u3lxWCi2k",
        "outputId": "b8b99233-d1db-47cd-965b-54af8982e3ed"
      },
      "outputs": [
        {
          "name": "stdout",
          "output_type": "stream",
          "text": [
            "<class 'pandas.core.frame.DataFrame'>\n",
            "RangeIndex: 10000 entries, 0 to 9999\n",
            "Data columns (total 14 columns):\n",
            " #   Column           Non-Null Count  Dtype  \n",
            "---  ------           --------------  -----  \n",
            " 0   RowNumber        10000 non-null  int64  \n",
            " 1   CustomerId       10000 non-null  int64  \n",
            " 2   Surname          10000 non-null  object \n",
            " 3   CreditScore      10000 non-null  int64  \n",
            " 4   Geography        10000 non-null  object \n",
            " 5   Gender           10000 non-null  object \n",
            " 6   Age              10000 non-null  int64  \n",
            " 7   Tenure           10000 non-null  float64\n",
            " 8   Balance          10000 non-null  float64\n",
            " 9   NumOfProducts    10000 non-null  int64  \n",
            " 10  HasCrCard        10000 non-null  int64  \n",
            " 11  IsActiveMember   10000 non-null  int64  \n",
            " 12  EstimatedSalary  10000 non-null  float64\n",
            " 13  Exited           10000 non-null  int64  \n",
            "dtypes: float64(3), int64(8), object(3)\n",
            "memory usage: 1.1+ MB\n"
          ]
        }
      ],
      "source": [
        "df['Tenure'] = df['Tenure'].fillna(0)\n",
        "\n",
        "df.info()"
      ]
    },
    {
      "cell_type": "markdown",
      "metadata": {
        "id": "F_SqGmddCi2k"
      },
      "source": [
        "Заодно сделаем этот столбец целочисленным для экономии памяти"
      ]
    },
    {
      "cell_type": "code",
      "execution_count": null,
      "metadata": {
        "id": "jzvXi1PCCi2l"
      },
      "outputs": [],
      "source": [
        "df['Tenure'] = df['Tenure'].astype('int64')"
      ]
    },
    {
      "cell_type": "markdown",
      "metadata": {
        "id": "dHvAFUXFCi2l"
      },
      "source": [
        "Проверим данные на явные дубликаты"
      ]
    },
    {
      "cell_type": "code",
      "execution_count": null,
      "metadata": {
        "id": "aPzPMk6OCi2l",
        "outputId": "9dc6c73e-891e-4d7d-fc52-69f4b34501da"
      },
      "outputs": [
        {
          "data": {
            "text/plain": [
              "0"
            ]
          },
          "execution_count": 7,
          "metadata": {},
          "output_type": "execute_result"
        }
      ],
      "source": [
        "df.duplicated().sum()"
      ]
    },
    {
      "cell_type": "markdown",
      "metadata": {
        "id": "qvlvARPYCi2n"
      },
      "source": [
        "Здесь чисто.\n",
        "Остальные данные выглядят адекватными.  "
      ]
    },
    {
      "cell_type": "markdown",
      "metadata": {
        "id": "4sne36NZCi2n"
      },
      "source": [
        "Дальше немного уменьшим таблицу: нас интересует уйдёт ли клиент из банка, но на это вряд ли влияют столбцы с фамилией,  идентификатором строки в данных и ID пользователя. Избавимся от этих столбцов."
      ]
    },
    {
      "cell_type": "code",
      "execution_count": null,
      "metadata": {
        "scrolled": true,
        "id": "PkfRx14pCi2n",
        "outputId": "3df4525b-1ec9-442d-abe1-8dba5b768a22"
      },
      "outputs": [
        {
          "name": "stdout",
          "output_type": "stream",
          "text": [
            "<class 'pandas.core.frame.DataFrame'>\n",
            "RangeIndex: 10000 entries, 0 to 9999\n",
            "Data columns (total 11 columns):\n",
            " #   Column           Non-Null Count  Dtype  \n",
            "---  ------           --------------  -----  \n",
            " 0   CreditScore      10000 non-null  int64  \n",
            " 1   Geography        10000 non-null  object \n",
            " 2   Gender           10000 non-null  object \n",
            " 3   Age              10000 non-null  int64  \n",
            " 4   Tenure           10000 non-null  int64  \n",
            " 5   Balance          10000 non-null  float64\n",
            " 6   NumOfProducts    10000 non-null  int64  \n",
            " 7   HasCrCard        10000 non-null  int64  \n",
            " 8   IsActiveMember   10000 non-null  int64  \n",
            " 9   EstimatedSalary  10000 non-null  float64\n",
            " 10  Exited           10000 non-null  int64  \n",
            "dtypes: float64(2), int64(7), object(2)\n",
            "memory usage: 859.5+ KB\n"
          ]
        }
      ],
      "source": [
        "df = df.drop(['Surname','RowNumber', 'CustomerId'], axis=1)\n",
        "\n",
        "df.info()"
      ]
    },
    {
      "cell_type": "markdown",
      "metadata": {
        "id": "MWAaSZl4Ci2o"
      },
      "source": [
        "Дальше воспользуемся техникой прямого кодирования (OHE), чтобы преобразовать категориальные признаки в численные. Также проставим аргумент drop_first = True, чтобы один из столбцов наших фиктивных переменных для каждого признака был сброшен(это нужно чтобы не угодить в так называемую дамми-ловушку, когда фиктивных признаков слишком много)."
      ]
    },
    {
      "cell_type": "code",
      "execution_count": null,
      "metadata": {
        "scrolled": true,
        "id": "OZ3jR47xCi2o",
        "outputId": "645fc2a9-3da6-458e-ca4b-59602678cf0f"
      },
      "outputs": [
        {
          "name": "stdout",
          "output_type": "stream",
          "text": [
            "<class 'pandas.core.frame.DataFrame'>\n",
            "RangeIndex: 10000 entries, 0 to 9999\n",
            "Data columns (total 12 columns):\n",
            " #   Column             Non-Null Count  Dtype  \n",
            "---  ------             --------------  -----  \n",
            " 0   CreditScore        10000 non-null  int64  \n",
            " 1   Age                10000 non-null  int64  \n",
            " 2   Tenure             10000 non-null  int64  \n",
            " 3   Balance            10000 non-null  float64\n",
            " 4   NumOfProducts      10000 non-null  int64  \n",
            " 5   HasCrCard          10000 non-null  int64  \n",
            " 6   IsActiveMember     10000 non-null  int64  \n",
            " 7   EstimatedSalary    10000 non-null  float64\n",
            " 8   Exited             10000 non-null  int64  \n",
            " 9   Geography_Germany  10000 non-null  uint8  \n",
            " 10  Geography_Spain    10000 non-null  uint8  \n",
            " 11  Gender_Male        10000 non-null  uint8  \n",
            "dtypes: float64(2), int64(7), uint8(3)\n",
            "memory usage: 732.5 KB\n"
          ]
        },
        {
          "data": {
            "text/html": [
              "<div>\n",
              "<style scoped>\n",
              "    .dataframe tbody tr th:only-of-type {\n",
              "        vertical-align: middle;\n",
              "    }\n",
              "\n",
              "    .dataframe tbody tr th {\n",
              "        vertical-align: top;\n",
              "    }\n",
              "\n",
              "    .dataframe thead th {\n",
              "        text-align: right;\n",
              "    }\n",
              "</style>\n",
              "<table border=\"1\" class=\"dataframe\">\n",
              "  <thead>\n",
              "    <tr style=\"text-align: right;\">\n",
              "      <th></th>\n",
              "      <th>CreditScore</th>\n",
              "      <th>Age</th>\n",
              "      <th>Tenure</th>\n",
              "      <th>Balance</th>\n",
              "      <th>NumOfProducts</th>\n",
              "      <th>HasCrCard</th>\n",
              "      <th>IsActiveMember</th>\n",
              "      <th>EstimatedSalary</th>\n",
              "      <th>Exited</th>\n",
              "      <th>Geography_Germany</th>\n",
              "      <th>Geography_Spain</th>\n",
              "      <th>Gender_Male</th>\n",
              "    </tr>\n",
              "  </thead>\n",
              "  <tbody>\n",
              "    <tr>\n",
              "      <th>0</th>\n",
              "      <td>619</td>\n",
              "      <td>42</td>\n",
              "      <td>2</td>\n",
              "      <td>0.00</td>\n",
              "      <td>1</td>\n",
              "      <td>1</td>\n",
              "      <td>1</td>\n",
              "      <td>101348.88</td>\n",
              "      <td>1</td>\n",
              "      <td>0</td>\n",
              "      <td>0</td>\n",
              "      <td>0</td>\n",
              "    </tr>\n",
              "    <tr>\n",
              "      <th>1</th>\n",
              "      <td>608</td>\n",
              "      <td>41</td>\n",
              "      <td>1</td>\n",
              "      <td>83807.86</td>\n",
              "      <td>1</td>\n",
              "      <td>0</td>\n",
              "      <td>1</td>\n",
              "      <td>112542.58</td>\n",
              "      <td>0</td>\n",
              "      <td>0</td>\n",
              "      <td>1</td>\n",
              "      <td>0</td>\n",
              "    </tr>\n",
              "    <tr>\n",
              "      <th>2</th>\n",
              "      <td>502</td>\n",
              "      <td>42</td>\n",
              "      <td>8</td>\n",
              "      <td>159660.80</td>\n",
              "      <td>3</td>\n",
              "      <td>1</td>\n",
              "      <td>0</td>\n",
              "      <td>113931.57</td>\n",
              "      <td>1</td>\n",
              "      <td>0</td>\n",
              "      <td>0</td>\n",
              "      <td>0</td>\n",
              "    </tr>\n",
              "    <tr>\n",
              "      <th>3</th>\n",
              "      <td>699</td>\n",
              "      <td>39</td>\n",
              "      <td>1</td>\n",
              "      <td>0.00</td>\n",
              "      <td>2</td>\n",
              "      <td>0</td>\n",
              "      <td>0</td>\n",
              "      <td>93826.63</td>\n",
              "      <td>0</td>\n",
              "      <td>0</td>\n",
              "      <td>0</td>\n",
              "      <td>0</td>\n",
              "    </tr>\n",
              "    <tr>\n",
              "      <th>4</th>\n",
              "      <td>850</td>\n",
              "      <td>43</td>\n",
              "      <td>2</td>\n",
              "      <td>125510.82</td>\n",
              "      <td>1</td>\n",
              "      <td>1</td>\n",
              "      <td>1</td>\n",
              "      <td>79084.10</td>\n",
              "      <td>0</td>\n",
              "      <td>0</td>\n",
              "      <td>1</td>\n",
              "      <td>0</td>\n",
              "    </tr>\n",
              "    <tr>\n",
              "      <th>5</th>\n",
              "      <td>645</td>\n",
              "      <td>44</td>\n",
              "      <td>8</td>\n",
              "      <td>113755.78</td>\n",
              "      <td>2</td>\n",
              "      <td>1</td>\n",
              "      <td>0</td>\n",
              "      <td>149756.71</td>\n",
              "      <td>1</td>\n",
              "      <td>0</td>\n",
              "      <td>1</td>\n",
              "      <td>1</td>\n",
              "    </tr>\n",
              "    <tr>\n",
              "      <th>6</th>\n",
              "      <td>822</td>\n",
              "      <td>50</td>\n",
              "      <td>7</td>\n",
              "      <td>0.00</td>\n",
              "      <td>2</td>\n",
              "      <td>1</td>\n",
              "      <td>1</td>\n",
              "      <td>10062.80</td>\n",
              "      <td>0</td>\n",
              "      <td>0</td>\n",
              "      <td>0</td>\n",
              "      <td>1</td>\n",
              "    </tr>\n",
              "    <tr>\n",
              "      <th>7</th>\n",
              "      <td>376</td>\n",
              "      <td>29</td>\n",
              "      <td>4</td>\n",
              "      <td>115046.74</td>\n",
              "      <td>4</td>\n",
              "      <td>1</td>\n",
              "      <td>0</td>\n",
              "      <td>119346.88</td>\n",
              "      <td>1</td>\n",
              "      <td>1</td>\n",
              "      <td>0</td>\n",
              "      <td>0</td>\n",
              "    </tr>\n",
              "    <tr>\n",
              "      <th>8</th>\n",
              "      <td>501</td>\n",
              "      <td>44</td>\n",
              "      <td>4</td>\n",
              "      <td>142051.07</td>\n",
              "      <td>2</td>\n",
              "      <td>0</td>\n",
              "      <td>1</td>\n",
              "      <td>74940.50</td>\n",
              "      <td>0</td>\n",
              "      <td>0</td>\n",
              "      <td>0</td>\n",
              "      <td>1</td>\n",
              "    </tr>\n",
              "    <tr>\n",
              "      <th>9</th>\n",
              "      <td>684</td>\n",
              "      <td>27</td>\n",
              "      <td>2</td>\n",
              "      <td>134603.88</td>\n",
              "      <td>1</td>\n",
              "      <td>1</td>\n",
              "      <td>1</td>\n",
              "      <td>71725.73</td>\n",
              "      <td>0</td>\n",
              "      <td>0</td>\n",
              "      <td>0</td>\n",
              "      <td>1</td>\n",
              "    </tr>\n",
              "  </tbody>\n",
              "</table>\n",
              "</div>"
            ],
            "text/plain": [
              "   CreditScore  Age  Tenure    Balance  NumOfProducts  HasCrCard  \\\n",
              "0          619   42       2       0.00              1          1   \n",
              "1          608   41       1   83807.86              1          0   \n",
              "2          502   42       8  159660.80              3          1   \n",
              "3          699   39       1       0.00              2          0   \n",
              "4          850   43       2  125510.82              1          1   \n",
              "5          645   44       8  113755.78              2          1   \n",
              "6          822   50       7       0.00              2          1   \n",
              "7          376   29       4  115046.74              4          1   \n",
              "8          501   44       4  142051.07              2          0   \n",
              "9          684   27       2  134603.88              1          1   \n",
              "\n",
              "   IsActiveMember  EstimatedSalary  Exited  Geography_Germany  \\\n",
              "0               1        101348.88       1                  0   \n",
              "1               1        112542.58       0                  0   \n",
              "2               0        113931.57       1                  0   \n",
              "3               0         93826.63       0                  0   \n",
              "4               1         79084.10       0                  0   \n",
              "5               0        149756.71       1                  0   \n",
              "6               1         10062.80       0                  0   \n",
              "7               0        119346.88       1                  1   \n",
              "8               1         74940.50       0                  0   \n",
              "9               1         71725.73       0                  0   \n",
              "\n",
              "   Geography_Spain  Gender_Male  \n",
              "0                0            0  \n",
              "1                1            0  \n",
              "2                0            0  \n",
              "3                0            0  \n",
              "4                1            0  \n",
              "5                1            1  \n",
              "6                0            1  \n",
              "7                0            0  \n",
              "8                0            1  \n",
              "9                0            1  "
            ]
          },
          "execution_count": 9,
          "metadata": {},
          "output_type": "execute_result"
        }
      ],
      "source": [
        "df = pd.get_dummies(df, drop_first=True)\n",
        "\n",
        "df.info()\n",
        "df.head(10)"
      ]
    },
    {
      "cell_type": "markdown",
      "metadata": {
        "id": "skLDiDNcCi2o"
      },
      "source": [
        "Дальше перейдём к разделению на выборке и масштабированию признаков"
      ]
    },
    {
      "cell_type": "markdown",
      "metadata": {
        "id": "sgT3lX6ACi2o"
      },
      "source": [
        "Дальше разделим данные с помощью train_test_split() на выборки: обучающая+валидационная и тестовая. Потом одну из выборки снова разделим на обучающую и валидационную. У нас получится соотношение 3:1:1"
      ]
    },
    {
      "cell_type": "code",
      "execution_count": null,
      "metadata": {
        "id": "TVhwluiQCi2o"
      },
      "outputs": [],
      "source": [
        "df_train_first, df_test = train_test_split(df, test_size=0.2, random_state=12345)"
      ]
    },
    {
      "cell_type": "code",
      "execution_count": null,
      "metadata": {
        "id": "Thb8FgzFCi2o"
      },
      "outputs": [],
      "source": [
        "df_train, df_valid = train_test_split(df_train_first, test_size=0.25, random_state=12345)"
      ]
    },
    {
      "cell_type": "markdown",
      "metadata": {
        "id": "t9hfxartCi2p"
      },
      "source": [
        "<div class='alert alert-success'> ✔️Корректное разделение на 3 выборки, если знаешь про дисбаланс, советую еще рассмотреть параметр stratify (https://zen.yandex.ru/media/id/5ee6f73b7cadb75a66e4c7e3/sozdanie-vyborok-v-usloviiah-disbalansa-klassov-625654c41dd29a5c65819c90).\n",
        "</div>"
      ]
    },
    {
      "cell_type": "code",
      "execution_count": null,
      "metadata": {
        "id": "zUuCUO3nCi2p",
        "outputId": "ede40c20-7ff6-4410-9eda-acb777b36c7a"
      },
      "outputs": [
        {
          "data": {
            "text/plain": [
              "(2000, 12)"
            ]
          },
          "execution_count": 12,
          "metadata": {},
          "output_type": "execute_result"
        }
      ],
      "source": [
        "df_valid.shape"
      ]
    },
    {
      "cell_type": "code",
      "execution_count": null,
      "metadata": {
        "id": "lGW5UrQHCi2p",
        "outputId": "9c2fa27c-a64d-4cf3-aa4a-d3eece877726"
      },
      "outputs": [
        {
          "data": {
            "text/plain": [
              "(6000, 12)"
            ]
          },
          "execution_count": 13,
          "metadata": {},
          "output_type": "execute_result"
        }
      ],
      "source": [
        "df_train.shape"
      ]
    },
    {
      "cell_type": "code",
      "execution_count": null,
      "metadata": {
        "id": "ICIRqUfdCi2q",
        "outputId": "c7233d09-7d01-4747-a5cd-5c28c2ff2e63"
      },
      "outputs": [
        {
          "data": {
            "text/plain": [
              "(2000, 12)"
            ]
          },
          "execution_count": 14,
          "metadata": {},
          "output_type": "execute_result"
        }
      ],
      "source": [
        "df_test.shape"
      ]
    },
    {
      "cell_type": "markdown",
      "metadata": {
        "id": "h3yxUmznCi2q"
      },
      "source": [
        "Дальше мы объявим переменные с признаками для обучения (target_train и features_train) и для проверки на валидационной выборке (target_valid и features_valid). Целевой признак — Exited."
      ]
    },
    {
      "cell_type": "code",
      "execution_count": null,
      "metadata": {
        "id": "QnrlS-TNCi2q"
      },
      "outputs": [],
      "source": [
        "features_train = df_train.drop(['Exited'], axis=1)\n",
        "target_train = df_train['Exited']\n",
        "\n",
        "features_valid = df_valid.drop(['Exited'], axis=1)\n",
        "target_valid = df_valid['Exited']"
      ]
    },
    {
      "cell_type": "markdown",
      "metadata": {
        "id": "frq-ymdOCi2q"
      },
      "source": [
        "Теперь проведём масштабирование признаков методом StandardScaler."
      ]
    },
    {
      "cell_type": "markdown",
      "metadata": {
        "id": "5GBwu0U2Ci2r"
      },
      "source": [
        "В переменную запишем численные признаки, которые будем масшатбировать"
      ]
    },
    {
      "cell_type": "code",
      "execution_count": null,
      "metadata": {
        "id": "y6mm3Qs8Ci2r"
      },
      "outputs": [],
      "source": [
        "numeric = ['CreditScore', 'Age', 'Tenure','Balance', 'NumOfProducts', 'EstimatedSalary']\n"
      ]
    },
    {
      "cell_type": "code",
      "execution_count": null,
      "metadata": {
        "id": "QWhOwsOTCi2r"
      },
      "outputs": [],
      "source": [
        "scaler = StandardScaler()\n",
        "scaler.fit(features_train[numeric])\n",
        "features_train[numeric] = scaler.transform(features_train[numeric])\n",
        "features_valid[numeric] = scaler.transform(features_valid[numeric])"
      ]
    },
    {
      "cell_type": "markdown",
      "metadata": {
        "id": "xUqKqR3jCi2r"
      },
      "source": [
        "Теперь можем переходить к исследованию"
      ]
    },
    {
      "cell_type": "markdown",
      "metadata": {
        "id": "RLdO087UCi2r"
      },
      "source": [
        "## Исследование задачи"
      ]
    },
    {
      "cell_type": "markdown",
      "metadata": {
        "id": "FmiVjUc7Ci2s"
      },
      "source": [
        "### Исследование баланса"
      ]
    },
    {
      "cell_type": "code",
      "execution_count": null,
      "metadata": {
        "id": "WlBGq_--Ci2s",
        "outputId": "04d12f25-7f99-4ed3-cd1c-bd92a18d8653"
      },
      "outputs": [
        {
          "name": "stdout",
          "output_type": "stream",
          "text": [
            "0    0.7963\n",
            "1    0.2037\n",
            "Name: Exited, dtype: float64\n"
          ]
        }
      ],
      "source": [
        "class_frequency = df['Exited'].value_counts(normalize=True)\n",
        "print(class_frequency)"
      ]
    },
    {
      "cell_type": "code",
      "execution_count": null,
      "metadata": {
        "id": "TUIXNU8yCi2s",
        "outputId": "8c660c0c-2273-4645-8176-7a6ef4298676"
      },
      "outputs": [
        {
          "data": {
            "text/plain": [
              "<AxesSubplot:>"
            ]
          },
          "execution_count": 19,
          "metadata": {},
          "output_type": "execute_result"
        },
        {
          "data": {
            "image/png": "[encoded data removed]",
            "text/plain": [
              "<Figure size 432x288 with 1 Axes>"
            ]
          },
          "metadata": {
            "needs_background": "light"
          },
          "output_type": "display_data"
        }
      ],
      "source": [
        "class_frequency.plot(kind='bar')"
      ]
    },
    {
      "cell_type": "markdown",
      "metadata": {
        "id": "olWiZf7BCi2s"
      },
      "source": [
        "Около 80% клиентов в датафрейме из банка не ушли: классы не сбалансированы.\n",
        "Баланс классов (англ. class balance) наблюдается, если их количество примерно равно, поэтому нам нужно стремиться к соотношению классов близко равному к 1:1.\n",
        "\n",
        "Попробуем обучить модель, несмотря на дисбаланс."
      ]
    },
    {
      "cell_type": "markdown",
      "metadata": {
        "id": "mb4Aw6PqCi2t"
      },
      "source": [
        "Попробуем обучить различные классификационные модели без учёта дисбаланса классов."
      ]
    },
    {
      "cell_type": "markdown",
      "metadata": {
        "id": "RUJnIn92Ci2t"
      },
      "source": [
        "### Решающее дерево"
      ]
    },
    {
      "cell_type": "markdown",
      "metadata": {
        "id": "-jpnWggXCi2t"
      },
      "source": [
        "Гиперпараметры для настройки модели:\n",
        "* max_depth - максимальная глубина древа\n",
        "* min_samples_split - минимальное количество объектов в узле\n",
        "* min_samples_leaf - минимальное количество объектов в листе\n",
        "\n",
        "\n",
        "Так как у нас модель классификации, будем использовать F1-меру для оценки.\n",
        "  \n",
        "Напишем функцию, которая будет на вход принимать переменные с признаками для обучения и для проверки на валидационной выборке. Внутри функции обучается модель решающего дерева DecisionTreeClassifier с различными сочетаниями гиперпараметров, считается метрика качества F1 и выбирается наилучший результат, значение метрики и параметры которого выводятся на экран.\n",
        "\n",
        "cw - параметр class_weight для модели решающего дерева, пока передадим ему значение None\n"
      ]
    },
    {
      "cell_type": "code",
      "execution_count": null,
      "metadata": {
        "id": "vFMMR-JMCi2t"
      },
      "outputs": [],
      "source": [
        "def tree_f1(features_train, features_valid, target_train, target_valid, cw=None):\n",
        "\n",
        "    best_params = []\n",
        "    best_f1 = 0\n",
        "\n",
        "    # проходим в циклах по всем выбранным гиперпараметрам\n",
        "    for depth in range(2, 10):\n",
        "        for samp_split in range(2, 10):\n",
        "            for samp_leaf in range(1, 10):\n",
        "                model_tree = DecisionTreeClassifier(random_state=12345,\n",
        "                                                      max_depth=depth,\n",
        "                                                      min_samples_split=samp_split,\n",
        "                                                      min_samples_leaf=samp_leaf,\n",
        "                                                      class_weight=cw)\n",
        "                # обучение модели\n",
        "                model_tree.fit(features_train, target_train)\n",
        "                # поиск предсказаний модели\n",
        "                predictions = model_tree.predict(features_valid)\n",
        "                # вычисление f1 модели\n",
        "                f1 = f1_score(target_valid, predictions)\n",
        "                # если текущее значение метрики f1 выше предыдущего лучшего значения, сохраняем параметры модели и текущую метрику f1\n",
        "                if f1 > best_f1:\n",
        "                    best_f1 = f1\n",
        "                    best_params = [depth, samp_split, samp_leaf]\n",
        "\n",
        "    # вывод наилучшей метрики f1 и параметров модели.\n",
        "    print('Наилучшая метрика f1:', best_f1)\n",
        "    print('Наилучшая глубина:', best_params[0])\n",
        "    print('Минимальное кол-во объектов для создания узла:', best_params[1])\n",
        "    print('Минимальное кол-во объектов в листе:', best_params[2])"
      ]
    },
    {
      "cell_type": "code",
      "execution_count": null,
      "metadata": {
        "id": "pCiCAnsfCi2u",
        "outputId": "486d9be3-5230-481f-b794-d9b7f3f00ca5"
      },
      "outputs": [
        {
          "name": "stdout",
          "output_type": "stream",
          "text": [
            "Наилучшая метрика f1: 0.5665101721439749\n",
            "Наилучшая глубина: 7\n",
            "Минимальное кол-во объектов для создания узла: 2\n",
            "Минимальное кол-во объектов в листе: 8\n",
            "CPU times: user 8.79 s, sys: 8.03 ms, total: 8.8 s\n",
            "Wall time: 8.81 s\n"
          ]
        }
      ],
      "source": [
        "%%time\n",
        "tree_f1(features_train, features_valid, target_train, target_valid)"
      ]
    },
    {
      "cell_type": "markdown",
      "metadata": {
        "id": "ui9NPTEQCi2u"
      },
      "source": [
        "Оценка неплоха, близка к оценке, к которой мы стремимся.  \n",
        "\n",
        "Теперь напишем аналогичную функцию, только в ней поситаем метрику roc_auc"
      ]
    },
    {
      "cell_type": "code",
      "execution_count": null,
      "metadata": {
        "id": "32aU-huGCi2u"
      },
      "outputs": [],
      "source": [
        "def tree_roc_auc(features_train, features_valid, target_train, target_valid, cw=None):\n",
        "\n",
        "    best_params = []\n",
        "    best_roc_auc = 0.5\n",
        "\n",
        "    # проходим в циклах по всем выбранным гиперпараметрам\n",
        "    for depth in range(2, 10):\n",
        "        for samp_split in range(2, 10):\n",
        "            for samp_leaf in range(1, 10):\n",
        "                model_tree = DecisionTreeClassifier(random_state=12345,\n",
        "                                                      max_depth=depth,\n",
        "                                                      min_samples_split=samp_split,\n",
        "                                                      min_samples_leaf=samp_leaf,\n",
        "                                                      class_weight=cw)\n",
        "                # обучение модели\n",
        "                model_tree.fit(features_train, target_train)\n",
        "                probabilities_valid = model_tree.predict_proba(features_valid)\n",
        "                # вычисление roc_auc модели\n",
        "                probabilities_one_valid = probabilities_valid[:, 1]\n",
        "                roc_auc = roc_auc_score(target_valid, probabilities_one_valid)\n",
        "                # если текущее значение метрики roc_auc выше предыдущего лучшего значения, сохраняем параметры модели и текущую метрику roc_auc\n",
        "                if roc_auc > best_roc_auc:\n",
        "                    best_roc_auc = roc_auc\n",
        "                    best_params = [depth, samp_split, samp_leaf]\n",
        "\n",
        "    # вывод наилучшей метрики roc_auc и параметров модели.\n",
        "    print('Наилучшая метрика roc_auc:', best_roc_auc)\n",
        "    print('Наилучшая глубина:', best_params[0])\n",
        "    print('Минимальное кол-во объектов для создания узла:', best_params[1])\n",
        "    print('Минимальное кол-во объектов в листе:', best_params[2])"
      ]
    },
    {
      "cell_type": "code",
      "execution_count": null,
      "metadata": {
        "scrolled": true,
        "id": "W7vcdEwpCi2u",
        "outputId": "54e55855-b3f3-47c5-b0c9-ec5762774982"
      },
      "outputs": [
        {
          "name": "stdout",
          "output_type": "stream",
          "text": [
            "Наилучшая метрика roc_auc: 0.8353077875568851\n",
            "Наилучшая глубина: 7\n",
            "Минимальное кол-во объектов для создания узла: 9\n",
            "Минимальное кол-во объектов в листе: 4\n",
            "CPU times: user 8.75 s, sys: 19.5 ms, total: 8.77 s\n",
            "Wall time: 8.78 s\n"
          ]
        }
      ],
      "source": [
        "%%time\n",
        "tree_roc_auc(features_train, features_valid, target_train, target_valid)"
      ]
    },
    {
      "cell_type": "markdown",
      "metadata": {
        "id": "eXbA8YSDCi2v"
      },
      "source": [
        "Наилучшее значение мы получили от модели с такими же надстройками как модель с лучшим F1.  \n",
        "Эта метрика выше 0.5, а значит проходит проверку на адекватность. Но нам нужно стремиться к 1."
      ]
    },
    {
      "cell_type": "markdown",
      "metadata": {
        "id": "8QXKrLL1Ci2v"
      },
      "source": [
        "### Случайный лес"
      ]
    },
    {
      "cell_type": "markdown",
      "metadata": {
        "id": "kQ2ixU5qCi2v"
      },
      "source": [
        "Гиперпараметры для настройки модели:\n",
        "* n_estimators - количество деревьев\n",
        "* max_depth - максимальная глубина дерева\n",
        "* min_samples_split - минимальное количество объектов в узле\n",
        "* min_samples_leaf - минимальное количество объектов в листе\n",
        "\n",
        "Снова пишем две функции, которая будет на вход принимать переменные с признаками для обучения и для проверки на валидационной выборке. Внутри функций обучается модель случайного леса RandomForestClassifier с различными сочетаниями гиперпараметров. В одной функции считается метрика качества F1, во второй ROC_AUC и выбираются наилучшие результаты, значение метрики и параметры которого выводятся на экран."
      ]
    },
    {
      "cell_type": "code",
      "execution_count": null,
      "metadata": {
        "id": "7JTcqcM1Ci2v"
      },
      "outputs": [],
      "source": [
        "def forest_f1(features_train, features_valid, target_train, target_valid, cw=None):\n",
        "\n",
        "    best_params = []\n",
        "    best_f1 = 0\n",
        "\n",
        "    # проходим в циклах по всем выбранным гиперпараметрам\n",
        "    for n_estimators in range(30, 50, 10):\n",
        "        for depth in range(15, 20, 2):\n",
        "            for samp_split in range(2, 5):\n",
        "                for samp_leaf in range(1, 7):\n",
        "                    model_forest = RandomForestClassifier(random_state=12345,\n",
        "                                                          max_depth=depth,\n",
        "                                                          min_samples_split=samp_split,\n",
        "                                                          min_samples_leaf=samp_leaf,\n",
        "                                                          n_estimators=n_estimators,\n",
        "                                                          class_weight=cw)\n",
        "                    # обучение модели\n",
        "                    model_forest.fit(features_train, target_train)\n",
        "                    # поиск предсказаний модели\n",
        "                    predictions = model_forest.predict(features_valid)\n",
        "                    # вычисление f1 модели\n",
        "                    f1 = f1_score(target_valid, predictions)\n",
        "                    # если текущее значение метрики f1 выше предыдущего лучшего значения, сохраняем параметры модели и текущую метрику f1\n",
        "                    if f1 > best_f1:\n",
        "                        best_f1 = f1\n",
        "                        best_params = [depth, samp_split, samp_leaf, n_estimators]\n",
        "\n",
        "    # вывод наилучшей метрики f1 и параметров модели.\n",
        "    print('Наилучшая метрика f1:', best_f1)\n",
        "    print('Наилучшая глубина:', best_params[0])\n",
        "    print('Минимальное кол-во объектов для создания узла:', best_params[1])\n",
        "    print('Минимальное кол-во объектов в листе:', best_params[2])\n",
        "    print('Количество деревьев:', best_params[3])"
      ]
    },
    {
      "cell_type": "code",
      "execution_count": null,
      "metadata": {
        "scrolled": true,
        "id": "6b4JLL_4Ci2w",
        "outputId": "b77d18c8-5af8-4fb8-be05-52d411f07cc0"
      },
      "outputs": [
        {
          "name": "stdout",
          "output_type": "stream",
          "text": [
            "Наилучшая метрика f1: 0.5788617886178863\n",
            "Наилучшая глубина: 15\n",
            "Минимальное кол-во объектов для создания узла: 2\n",
            "Минимальное кол-во объектов в листе: 4\n",
            "Количество деревьев: 30\n",
            "CPU times: user 22.8 s, sys: 91.6 ms, total: 22.9 s\n",
            "Wall time: 22.9 s\n"
          ]
        }
      ],
      "source": [
        "%%time\n",
        "forest_f1(features_train, features_valid, target_train, target_valid)"
      ]
    },
    {
      "cell_type": "markdown",
      "metadata": {
        "id": "8pjBqlHwCi2w"
      },
      "source": [
        "F1 на 1% лучше, чем у решающего дерева, но всё равно ещё не дотягивает до значения по ТЗ."
      ]
    },
    {
      "cell_type": "code",
      "execution_count": null,
      "metadata": {
        "id": "wJAGpxeECi2w"
      },
      "outputs": [],
      "source": [
        "def forest_roc_auc(features_train, features_valid, target_train, target_valid, cw=None):\n",
        "\n",
        "    best_params = []\n",
        "    best_roc_auc = 0.5\n",
        "\n",
        "    # проходим в циклах по всем выбранным гиперпараметрам\n",
        "    for n_estimators in range(30, 50, 10):\n",
        "        for depth in range(15, 20, 2):\n",
        "            for samp_split in range(2, 5):\n",
        "                for samp_leaf in range(1, 7):\n",
        "                    model_forest = RandomForestClassifier(random_state=12345,\n",
        "                                                          max_depth=depth,\n",
        "                                                          min_samples_split=samp_split,\n",
        "                                                          min_samples_leaf=samp_leaf,\n",
        "                                                          n_estimators=n_estimators,\n",
        "                                                          class_weight=cw)\n",
        "                    # обучение модели\n",
        "                    model_forest.fit(features_train, target_train)\n",
        "                    probabilities_valid = model_forest.predict_proba(features_valid)\n",
        "                    # вычисление roc_auc модели\n",
        "                    probabilities_one_valid = probabilities_valid[:, 1]\n",
        "                    roc_auc = roc_auc_score(target_valid, probabilities_one_valid)\n",
        "                    # если текущее значение метрики f1 выше предыдущего лучшего значения, сохраняем параметры модели и текущую метрику f1\n",
        "                    if roc_auc > best_roc_auc:\n",
        "                        best_roc_auc = roc_auc\n",
        "                        best_params = [depth, samp_split, samp_leaf, n_estimators]\n",
        "\n",
        "    # вывод наилучшей метрики f1 и параметров модели.\n",
        "    print('Наилучшая метрика roc_auc:', best_roc_auc)\n",
        "    print('Наилучшая глубина:', best_params[0])\n",
        "    print('Минимальное кол-во объектов для создания узла:', best_params[1])\n",
        "    print('Минимальное кол-во объектов в листе:', best_params[2])\n",
        "    print('Количество деревьев:', best_params[3])"
      ]
    },
    {
      "cell_type": "code",
      "execution_count": null,
      "metadata": {
        "scrolled": true,
        "id": "Zq0cMWzlCi2w",
        "outputId": "cd6a8bdd-9c3b-4120-a4bc-4199bfed2c29"
      },
      "outputs": [
        {
          "name": "stdout",
          "output_type": "stream",
          "text": [
            "Наилучшая метрика roc_auc: 0.853450619040277\n",
            "Наилучшая глубина: 15\n",
            "Минимальное кол-во объектов для создания узла: 2\n",
            "Минимальное кол-во объектов в листе: 4\n",
            "Количество деревьев: 40\n",
            "CPU times: user 23.3 s, sys: 104 ms, total: 23.4 s\n",
            "Wall time: 24.2 s\n"
          ]
        }
      ],
      "source": [
        "%%time\n",
        "forest_roc_auc(features_train, features_valid, target_train, target_valid)"
      ]
    },
    {
      "cell_type": "markdown",
      "metadata": {
        "id": "wtKf4xFdCi2w"
      },
      "source": [
        "Наилучший результат по метрикам f1 и roc_auc достигается при одинаковой настройке гиперпараметров.​ Эта метрика у леса немного лучше, чем у решающего дерева."
      ]
    },
    {
      "cell_type": "markdown",
      "metadata": {
        "id": "BW4nTgPkCi2x"
      },
      "source": [
        "### Логистическая регрессия"
      ]
    },
    {
      "cell_type": "markdown",
      "metadata": {
        "id": "Fq6KseaGCi2x"
      },
      "source": [
        "Здесь будем перебирать только один гиперпараметр max_iter (максимальное количество итераций обучения)."
      ]
    },
    {
      "cell_type": "code",
      "execution_count": null,
      "metadata": {
        "id": "YX-Zf3OnCi2x"
      },
      "outputs": [],
      "source": [
        "def log_reg_f1(features_train, features_valid, target_train, target_valid, cw=None):\n",
        "\n",
        "    best_params = []\n",
        "    best_f1 = 0\n",
        "\n",
        "    # проходим в циклах по всем выбранным гиперпараметрам\n",
        "    for max_iter in range(100, 1000, 100):\n",
        "        model_log_reg = LogisticRegression(random_state=12345, solver='lbfgs', max_iter=max_iter, class_weight=cw)\n",
        "                    # обучение модели\n",
        "        model_log_reg.fit(features_train, target_train)\n",
        "                    # поиск предсказаний модели\n",
        "        predictions = model_log_reg.predict(features_valid)\n",
        "                    # вычисление f1 модели\n",
        "        f1 = f1_score(target_valid, predictions)\n",
        "                    # если текущее значение метрики f1 выше предыдущего лучшего значения, сохраняем параметры модели и текущую метрику f1\n",
        "        if f1 > best_f1:\n",
        "            best_f1 = f1\n",
        "            best_params = max_iter\n",
        "\n",
        "    # вывод наилучшей метрики f1 и параметров модели.\n",
        "    print('Наилучшая метрика f1:', best_f1)\n",
        "    print('Оптимальное количество итераций:', best_params)"
      ]
    },
    {
      "cell_type": "code",
      "execution_count": null,
      "metadata": {
        "id": "E3L5bHnoCi2x",
        "outputId": "1ec3b186-02a7-42c3-e712-383341816196"
      },
      "outputs": [
        {
          "name": "stdout",
          "output_type": "stream",
          "text": [
            "Наилучшая метрика f1: 0.3056603773584906\n",
            "Оптимальное количество итераций: 100\n",
            "CPU times: user 1.37 s, sys: 1.37 s, total: 2.74 s\n",
            "Wall time: 2.76 s\n"
          ]
        }
      ],
      "source": [
        "%%time\n",
        "log_reg_f1(features_train, features_valid, target_train, target_valid)"
      ]
    },
    {
      "cell_type": "code",
      "execution_count": null,
      "metadata": {
        "id": "-MQXypsDCi2x"
      },
      "outputs": [],
      "source": [
        "def log_reg_roc_auc(features_train, features_valid, target_train, target_valid, cw=None):\n",
        "\n",
        "    best_params = []\n",
        "    best_roc_auc = 0\n",
        "\n",
        "    # проходим в циклах по всем выбранным гиперпараметрам\n",
        "    for max_iter in range(100, 1000, 100):\n",
        "        model_log_reg = LogisticRegression(random_state=12345, solver='lbfgs', max_iter=max_iter, class_weight=cw)\n",
        "                    # обучение модели\n",
        "        model_log_reg.fit(features_train, target_train)\n",
        "                    # поиск предсказаний модели\n",
        "        probabilities_valid = model_log_reg.predict_proba(features_valid)\n",
        "                    # вычисление roc_auc модели\n",
        "        probabilities_one_valid = probabilities_valid[:, 1]\n",
        "        roc_auc = roc_auc_score(target_valid, probabilities_one_valid)\n",
        "                    # если текущее значение метрики f1 выше предыдущего лучшего значения, сохраняем параметры модели и текущую метрику f1\n",
        "        if roc_auc > best_roc_auc:\n",
        "            best_roc_auc = roc_auc\n",
        "            best_params = max_iter\n",
        "\n",
        "    # вывод наилучшей метрики f1 и параметров модели.\n",
        "    print('Наилучшая метрика roc_auc:', best_roc_auc)\n",
        "    print('Оптимальное количество итераций:', best_params)"
      ]
    },
    {
      "cell_type": "code",
      "execution_count": null,
      "metadata": {
        "scrolled": true,
        "id": "zrFxz4VeCi2y",
        "outputId": "1f9f8249-c56c-40fa-84df-95e89a46304b"
      },
      "outputs": [
        {
          "name": "stdout",
          "output_type": "stream",
          "text": [
            "Наилучшая метрика roc_auc: 0.770792171274433\n",
            "Оптимальное количество итераций: 100\n",
            "CPU times: user 1.34 s, sys: 1.3 s, total: 2.65 s\n",
            "Wall time: 2.58 s\n"
          ]
        }
      ],
      "source": [
        "%%time\n",
        "log_reg_roc_auc(features_train, features_valid, target_train, target_valid)"
      ]
    },
    {
      "cell_type": "markdown",
      "metadata": {
        "id": "0T-8vQ2GCi2y"
      },
      "source": [
        "Эта модель показала самые худшие результаты."
      ]
    },
    {
      "cell_type": "markdown",
      "metadata": {
        "id": "ya_XRqJoCi2y"
      },
      "source": [
        "### Вывод"
      ]
    },
    {
      "cell_type": "markdown",
      "metadata": {
        "id": "EULxXjgTCi2y"
      },
      "source": [
        "1. Обучили модели: Решающее дерево, Случайный лес, Логистическая регрессия без учёта дисбаланса классов.   \n",
        "2. Максимальное значение метрики F1 = 0.58 получено при обучении модели случайного леса. Но качество модели пока ещё не удовлетворяет условию технического задания.  \n",
        "3. Качество моделей дополнительно оценили по метрике ROC_AUC. Максимальное значение метрики — 0.85, тоже достигнуто при обучении модели случайного леса.  \n",
        "4. Самой плохой моделью оказала Логистическая регрессия: она показала самые худшие результаты метрик. F1 = 0.30, ROC_AUC = 0.77.  \n",
        "5. Метрики F1 и ROC_AUC достигли максимальных значений при одинаковых настройках гиперпараметров (но такой результат получается не всегда)."
      ]
    },
    {
      "cell_type": "markdown",
      "metadata": {
        "id": "HjuSRLYVCi2y"
      },
      "source": [
        "<div class=\"alert alert-info\">\n",
        "\n",
        "Сделано во всех моделях, выводы тоже подогнала под результаты\n",
        "</div>"
      ]
    },
    {
      "cell_type": "markdown",
      "metadata": {
        "id": "ieI68gxFCi2z"
      },
      "source": [
        "## Борьба с дисбалансом"
      ]
    },
    {
      "cell_type": "markdown",
      "metadata": {
        "id": "64INQjMrCi2z"
      },
      "source": [
        "Для борьбы с дисбалансом классов попробуем:\n",
        "\n",
        "* взвешивание классов (class_weight='balanced')\n",
        "* увеличение выборки положительного класса (upsampling)\n",
        "* уменьшение выборки отрицательного класса (downsampling)\n"
      ]
    },
    {
      "cell_type": "markdown",
      "metadata": {
        "id": "L789UqrSCi2z"
      },
      "source": [
        "### Взвешивание классов"
      ]
    },
    {
      "cell_type": "markdown",
      "metadata": {
        "id": "Qd1wyhX1Ci2z"
      },
      "source": [
        "**Дерево решений:**"
      ]
    },
    {
      "cell_type": "code",
      "execution_count": null,
      "metadata": {
        "id": "wXJPKFUeCi2z",
        "outputId": "b04a3a7c-bffc-49c6-bbd6-dbf688f89eb8"
      },
      "outputs": [
        {
          "name": "stdout",
          "output_type": "stream",
          "text": [
            "Наилучшая метрика f1: 0.5622489959839357\n",
            "Наилучшая глубина: 7\n",
            "Минимальное кол-во объектов для создания узла: 2\n",
            "Минимальное кол-во объектов в листе: 3\n"
          ]
        }
      ],
      "source": [
        "tree_f1(features_train, features_valid, target_train, target_valid, cw='balanced')"
      ]
    },
    {
      "cell_type": "code",
      "execution_count": null,
      "metadata": {
        "id": "JS_of5-wCi2z",
        "outputId": "7001fb64-5623-4841-ec02-ef80a5372c2c"
      },
      "outputs": [
        {
          "name": "stdout",
          "output_type": "stream",
          "text": [
            "Наилучшая метрика roc_auc: 0.8332668382293336\n",
            "Наилучшая глубина: 5\n",
            "Минимальное кол-во объектов для создания узла: 2\n",
            "Минимальное кол-во объектов в листе: 9\n"
          ]
        }
      ],
      "source": [
        "tree_roc_auc(features_train, features_valid, target_train, target_valid, cw='balanced')"
      ]
    },
    {
      "cell_type": "markdown",
      "metadata": {
        "id": "_249xy7yCi20"
      },
      "source": [
        "**Случайный лес:**"
      ]
    },
    {
      "cell_type": "code",
      "execution_count": null,
      "metadata": {
        "id": "alophtltCi20",
        "outputId": "bde8f5fc-4e96-4525-8637-6c587b13be4a"
      },
      "outputs": [
        {
          "name": "stdout",
          "output_type": "stream",
          "text": [
            "Наилучшая метрика f1: 0.6113989637305699\n",
            "Наилучшая глубина: 19\n",
            "Минимальное кол-во объектов для создания узла: 2\n",
            "Минимальное кол-во объектов в листе: 4\n",
            "Количество деревьев: 40\n"
          ]
        }
      ],
      "source": [
        "forest_f1(features_train, features_valid, target_train, target_valid, cw='balanced')"
      ]
    },
    {
      "cell_type": "code",
      "execution_count": null,
      "metadata": {
        "id": "QG-L2DnkCi20",
        "outputId": "17e1e05a-60e4-45dc-abde-e3cdbc9c03a9"
      },
      "outputs": [
        {
          "name": "stdout",
          "output_type": "stream",
          "text": [
            "Наилучшая метрика roc_auc: 0.8535030733454243\n",
            "Наилучшая глубина: 15\n",
            "Минимальное кол-во объектов для создания узла: 2\n",
            "Минимальное кол-во объектов в листе: 6\n",
            "Количество деревьев: 40\n"
          ]
        }
      ],
      "source": [
        "forest_roc_auc(features_train, features_valid, target_train, target_valid, cw='balanced')"
      ]
    },
    {
      "cell_type": "markdown",
      "metadata": {
        "id": "ND5m91nZCi20"
      },
      "source": [
        "После придания редким объектам веса у решающего дерева ничего особо не поменялось, а вот у случайного леса метрики вырасли на 4%"
      ]
    },
    {
      "cell_type": "markdown",
      "metadata": {
        "id": "9QCf1D4eCi21"
      },
      "source": [
        "### Увеличение и уменьшение выборок"
      ]
    },
    {
      "cell_type": "markdown",
      "metadata": {
        "id": "pJPK4l_uCi21"
      },
      "source": [
        "Напишем функции для увеличения и уменьшения выборок\n",
        "\n",
        "* features - признаки\n",
        "* target - целевой признак\n",
        "* repeat (int) - множитель для повторения признаков\n",
        "* features_upsampled - увеличенная выборка признаков\n",
        "* target_upsampled - увеличенная выборка целевого признака\n",
        "* features_zeros — признаки объектов с ответом «0»;\n",
        "* target_zeros — целевой признак объектов, у которых ответы только «0»;\n",
        "* target_ones — целевой признак объектов, у которых ответы только «1».\n",
        "  \n",
        "Функция разделяет признаки по классам целевого признака (0, 1),повторяет признаки целевого положительного класса repeat раз, объединяет объекты с разными целевыми признаками методом concat, перемешивает объекты методом shuffle\n"
      ]
    },
    {
      "cell_type": "code",
      "execution_count": null,
      "metadata": {
        "id": "ULFr71LcCi21"
      },
      "outputs": [],
      "source": [
        "target = df_train_first['Exited']\n",
        "features = df_train_first.drop('Exited', axis=1)\n",
        "\n",
        "def upsample(features, target, repeat):\n",
        "\n",
        "    features_zeros = features[target == 0]\n",
        "    features_ones = features[target == 1]\n",
        "    target_zeros = target[target == 0]\n",
        "    target_ones = target[target == 1]\n",
        "\n",
        "    features_upsampled = pd.concat([features_zeros] + [features_ones] * repeat)\n",
        "    target_upsampled = pd.concat([target_zeros] + [target_ones] * repeat)\n",
        "\n",
        "    features_upsampled, target_upsampled = shuffle(\n",
        "        features_upsampled, target_upsampled, random_state=12345)\n",
        "    return features_upsampled, target_upsampled"
      ]
    },
    {
      "cell_type": "markdown",
      "metadata": {
        "id": "-aUFZ3NyCi21"
      },
      "source": [
        "* features - признаки\n",
        "* target - целевой признак\n",
        "* fraction - доля объектов для сэмплирования\n",
        "* features_downsampled - уменьшенная выборка признаков\n",
        "* target_downsampled - уменьшенная выборка целевого признака"
      ]
    },
    {
      "cell_type": "code",
      "execution_count": null,
      "metadata": {
        "id": "HH1LF1B7Ci21"
      },
      "outputs": [],
      "source": [
        "def downsample(features, target, fraction):\n",
        "\n",
        "    features_zeros = features[target == 0]\n",
        "    features_ones = features[target == 1]\n",
        "    target_zeros = target[target == 0]\n",
        "    target_ones = target[target == 1]\n",
        "\n",
        "    features_downsampled = pd.concat(\n",
        "        [features_zeros.sample(frac=fraction, random_state=12345)] + [features_ones])\n",
        "    target_downsampled = pd.concat(\n",
        "        [target_zeros.sample(frac=fraction, random_state=12345)] + [target_ones])\n",
        "\n",
        "    features_downsampled, target_downsampled = shuffle(\n",
        "        features_downsampled, target_downsampled, random_state=12345)\n",
        "    return features_downsampled, target_downsampled"
      ]
    },
    {
      "cell_type": "markdown",
      "metadata": {
        "id": "uE02jUiTCi22"
      },
      "source": [
        "Исходное соотношение значений целевого признака 4:1.  \n",
        "Для обучающей выборки увеличим количество объектов класса «1» в 2 раза, уменьшим количество объектов класса «0» в 1.5 раза."
      ]
    },
    {
      "cell_type": "code",
      "execution_count": null,
      "metadata": {
        "id": "B_6oAKfECi23"
      },
      "outputs": [],
      "source": [
        "features_train_upsampled, target_train_upsampled = upsample(features_train, target_train, 2)\n",
        "features_train_balanced, target_train_balanced = downsample(features_train_upsampled, target_train_upsampled, 0.75)\n"
      ]
    },
    {
      "cell_type": "markdown",
      "metadata": {
        "id": "xa7isYv2Ci23"
      },
      "source": [
        "Обучим модели случайного леса и решающего дерева, как самые точные, на сбалансированных обучающих выборках."
      ]
    },
    {
      "cell_type": "code",
      "execution_count": null,
      "metadata": {
        "id": "rXM2TDHsCi23",
        "outputId": "fda22671-411a-4d73-a517-32db7befacab"
      },
      "outputs": [
        {
          "name": "stdout",
          "output_type": "stream",
          "text": [
            "Наилучшая метрика f1: 0.5899280575539568\n",
            "Наилучшая глубина: 8\n",
            "Минимальное кол-во объектов для создания узла: 2\n",
            "Минимальное кол-во объектов в листе: 5\n"
          ]
        }
      ],
      "source": [
        "tree_f1(features_train_balanced, features_valid, target_train_balanced, target_valid)"
      ]
    },
    {
      "cell_type": "code",
      "execution_count": null,
      "metadata": {
        "id": "lN5vBCxHCi23",
        "outputId": "3411b407-be45-4087-fef2-7469d0d781e6"
      },
      "outputs": [
        {
          "name": "stdout",
          "output_type": "stream",
          "text": [
            "Наилучшая метрика roc_auc: 0.8349867036284073\n",
            "Наилучшая глубина: 5\n",
            "Минимальное кол-во объектов для создания узла: 2\n",
            "Минимальное кол-во объектов в листе: 8\n"
          ]
        }
      ],
      "source": [
        "tree_roc_auc(features_train_balanced, features_valid, target_train_balanced, target_valid)"
      ]
    },
    {
      "cell_type": "code",
      "execution_count": null,
      "metadata": {
        "id": "z4VHZW3-Ci23",
        "outputId": "01ad331a-19d0-44ea-a403-7ab41176adec"
      },
      "outputs": [
        {
          "name": "stdout",
          "output_type": "stream",
          "text": [
            "Наилучшая метрика f1: 0.6126582278481012\n",
            "Наилучшая глубина: 19\n",
            "Минимальное кол-во объектов для создания узла: 2\n",
            "Минимальное кол-во объектов в листе: 4\n",
            "Количество деревьев: 40\n"
          ]
        }
      ],
      "source": [
        "forest_f1(features_train_balanced, features_valid, target_train_balanced, target_valid)"
      ]
    },
    {
      "cell_type": "code",
      "execution_count": null,
      "metadata": {
        "scrolled": false,
        "id": "7jqi7O2_Ci24",
        "outputId": "7e3ef404-f853-4aab-9092-a0208554c097"
      },
      "outputs": [
        {
          "name": "stdout",
          "output_type": "stream",
          "text": [
            "Наилучшая метрика roc_auc: 0.8518499679710834\n",
            "Наилучшая глубина: 17\n",
            "Минимальное кол-во объектов для создания узла: 2\n",
            "Минимальное кол-во объектов в листе: 4\n",
            "Количество деревьев: 40\n"
          ]
        }
      ],
      "source": [
        "forest_roc_auc(features_train_balanced, features_valid, target_train_balanced, target_valid)"
      ]
    },
    {
      "cell_type": "markdown",
      "metadata": {
        "id": "dUB1pMvJCi24"
      },
      "source": [
        "Наилучший результат для решающего дерева достигнут при увеличении положительного класса тренировочной выборки в 2 раза и сэмплировании отрицательного класса с коэффициентом 0.55. При этом метрика f1 = 0.604 а roc_auc = 0.834, что удовлетворяет условиям технического задания."
      ]
    },
    {
      "cell_type": "markdown",
      "metadata": {
        "id": "omJpzdSbCi24"
      },
      "source": [
        "### Вывод"
      ]
    },
    {
      "cell_type": "markdown",
      "metadata": {
        "id": "hRHOLpIXCi24"
      },
      "source": [
        "* Метрика F1 для модели Случайный лес достигла значения 0.61 на сбалансированной выборке, что удовлетворяет условию технического задания (>0.59).\n",
        "* Для модели Решающее дерево метрика F1 также достигла минимально допустимого значения (0.59).\n",
        "* Наилучшие значения метрик f1 и roc_auc получились на обеих моделях при одинаковых значениях гиперпараметров. Для решающего дерева оптимальные значения гиперпараметров различаются.\n",
        "* Максимальное значение метрики ROC_AUC почти одинаковое у обеих моделей"
      ]
    },
    {
      "cell_type": "markdown",
      "metadata": {
        "id": "JH2y2nQdCi24"
      },
      "source": [
        "## Тестирование модели"
      ]
    },
    {
      "cell_type": "markdown",
      "metadata": {
        "id": "QXOT5Pg5Ci24"
      },
      "source": [
        "1. Обучим обе модели на всех доступных данных (обучающие + валидационные), предварительно сбалансировав классы.\n",
        "2. Вычислим метрики f1 и roc_auc на тестовой выборке."
      ]
    },
    {
      "cell_type": "code",
      "execution_count": null,
      "metadata": {
        "id": "LnqRhi70Ci25"
      },
      "outputs": [],
      "source": [
        "features_test = df_test.drop(['Exited'], axis=1)\n",
        "target_test = df_test['Exited']"
      ]
    },
    {
      "cell_type": "markdown",
      "metadata": {
        "id": "RsfA1rrxCi25"
      },
      "source": [
        "### Решающее дерево"
      ]
    },
    {
      "cell_type": "code",
      "execution_count": null,
      "metadata": {
        "id": "wEgtGd2ICi25",
        "outputId": "5f8fcddb-54f9-4b1b-e364-388ca2c2221b"
      },
      "outputs": [
        {
          "name": "stdout",
          "output_type": "stream",
          "text": [
            " f1 = 0.63, \n",
            " roc_auc = 0.84\n",
            "CPU times: user 52.4 ms, sys: 5 µs, total: 52.4 ms\n",
            "Wall time: 50.7 ms\n"
          ]
        }
      ],
      "source": [
        "%%time\n",
        "\n",
        "features_upsampled, target_upsampled = upsample(features, target, 2)\n",
        "features_balanced, target_balanced = downsample(features_upsampled, target_upsampled, 0.75)\n",
        "\n",
        "\n",
        "model_tree_final = DecisionTreeClassifier(random_state=12345,\n",
        "                                         max_depth=8,\n",
        "                                         min_samples_split=2,\n",
        "                                         min_samples_leaf=7)\n",
        "model_tree_final.fit(features_balanced, target_balanced)\n",
        "predictions = model_tree_final.predict(features_test)\n",
        "f1 = f1_score(target_test, predictions)\n",
        "\n",
        "probabilities_test = model_tree_final.predict_proba(features_test)\n",
        "probabilities_one_test = probabilities_test[:, 1]\n",
        "roc_auc = roc_auc_score(target_test, probabilities_one_test)\n",
        "\n",
        "print(' f1 = {}, \\n roc_auc = {}'.format(round(f1,2), round(roc_auc,2)))"
      ]
    },
    {
      "cell_type": "markdown",
      "metadata": {
        "id": "z_0C_VBACi25"
      },
      "source": [
        "### Случайный лес"
      ]
    },
    {
      "cell_type": "code",
      "execution_count": null,
      "metadata": {
        "id": "-v2nUETTCi26",
        "outputId": "0f894878-681e-4e39-884a-2b382cd329af"
      },
      "outputs": [
        {
          "name": "stdout",
          "output_type": "stream",
          "text": [
            " f1 = 0.64, \n",
            " roc_auc = 0.86\n",
            "CPU times: user 255 ms, sys: 0 ns, total: 255 ms\n",
            "Wall time: 253 ms\n"
          ]
        }
      ],
      "source": [
        "%%time\n",
        "\n",
        "features_upsampled, target_upsampled = upsample(features, target, 2)\n",
        "features_balanced, target_balanced = downsample(features_upsampled, target_upsampled, 0.75)\n",
        "\n",
        "\n",
        "model_forest_final = RandomForestClassifier(random_state=12345,\n",
        "                                         n_estimators=30,\n",
        "                                         max_depth=15,\n",
        "                                         min_samples_split=2,\n",
        "                                         min_samples_leaf=5)\n",
        "model_forest_final.fit(features_balanced, target_balanced)\n",
        "predictions = model_forest_final.predict(features_test)\n",
        "f1 = f1_score(target_test, predictions)\n",
        "\n",
        "probabilities_test = model_forest_final.predict_proba(features_test)\n",
        "probabilities_one_test = probabilities_test[:, 1]\n",
        "roc_auc = roc_auc_score(target_test, probabilities_one_test)\n",
        "\n",
        "print(' f1 = {}, \\n roc_auc = {}'.format(round(f1,2), round(roc_auc,2)))"
      ]
    },
    {
      "cell_type": "markdown",
      "metadata": {
        "id": "WApc8ABICi26"
      },
      "source": [
        "### Вывод"
      ]
    },
    {
      "cell_type": "markdown",
      "metadata": {
        "id": "tFMTyK7gCi26"
      },
      "source": [
        "Удовлетворяющее техническому заданию значение метрики f1 (на тестовой выборке) удалось получить на двух моделях:\n",
        "* Случайный лес F1 = 0.63 ROC_AUC = 0.77\n",
        "* Решающее дерево F1 = 0.62 ROC_AUC = 0.77\n",
        "  \n",
        "При этом оьбе метрики выше у модели Случайный лес.\n"
      ]
    },
    {
      "cell_type": "markdown",
      "metadata": {
        "id": "WLlc3pa2Ci26"
      },
      "source": [
        "## Общий вывод"
      ]
    },
    {
      "cell_type": "markdown",
      "metadata": {
        "id": "SjSgYWUyCi26"
      },
      "source": [
        "1. Перед исследованием категориальные признаки были преобразованы методом One-Hot Encoder, а количественные масштабированы методом StandardScaler.\n",
        "2. Пропуски в признаке Tenure заполнили нулями.\n",
        "3. Исходные данные разделены на обучающую, валидационную и тестовую выборки в соотношении 3:1:1 соответственно\n",
        "4. Данные были изначально несбалансированы: целевой признак распределён в сооотношении 4:1.\n",
        "5. Проведён анализ моделей без учёта дисбаланса классов:\n",
        "    * Обучены модели Решающее Дерево, Случайный лес, Логистическая Регрессия без учёта дисбаланса классов. Максимальное значение метрики F1 = 0.57 получено при обучении модели случайного леса. Хуже всего себя показала Логистическая регрессия (F1 = 0.30).\n",
        "    * Качество моделей также оценено по метрике ROC_AUC. Максимальное значение метрики ROC_AUC = 0.85 достигнуто при обучении модели Cлучайного леса. Самое низкое значение снова у Логистической регрессии — 0.77\n",
        "\n",
        "6. Проведён анализ дисбаланса классов\n",
        "    * Взвешивание классов с помощью параметра class_weight не дало значительного увеличения метрики F1, для Дерева решений. А у Случайного леса удалось набрать требуемый порог — 0.60\n",
        "    * Увеличение выборки положительного класса и уменьшение выборки отрицательного класса дали необходимый прирост точности моделей.\n",
        "        * Необходимое значение F1 на валидационной выборке получила модель:  \n",
        "            **Случайный лес:**\n",
        "                F1 = 0.61\n",
        "                ROC_AUC = 0.75\n",
        "7. Проведено тестирование обеих моделей на тестовой выборке:\n",
        "    * Значение метрики F1 на тестовой выборке:  \n",
        "        **Случайный лес:**\n",
        "                F1 = 0.64\n",
        "                ROC_AUC = 0.86\n",
        "        **Решающее дерево:**\n",
        "                F1 = 0.63\n",
        "                ROC_AUC = 0.84\n",
        "        На тестовой выборке модель Решающее дерево показало себя лучше, чем на валидационной и увеличила метрику F1 на 3%, а ROC_AUC у обеих моделей так и отличается на \"%.\n",
        "\n",
        "\n",
        "**Если выбирать одну из моделей, то я бы выбрала Решающее дерево: порог требуемой F1-меры оно прошло, ROC_AUC у него почти такой же как у Случайного леса. Поэтому сейчас решающее значение в выборе играет скорость модели: у дерева она ощутимо выше, чем у леса.**"
      ]
    }
  ],
  "metadata": {
    "ExecuteTimeLog": [
      {
        "duration": 782,
        "start_time": "2022-05-19T18:08:28.487Z"
      },
      {
        "duration": 24,
        "start_time": "2022-05-19T19:57:28.453Z"
      },
      {
        "duration": 19,
        "start_time": "2022-05-19T19:57:45.686Z"
      },
      {
        "duration": 41,
        "start_time": "2022-05-19T19:57:48.792Z"
      },
      {
        "duration": 13,
        "start_time": "2022-05-19T20:33:13.559Z"
      },
      {
        "duration": 11,
        "start_time": "2022-05-19T20:33:33.121Z"
      },
      {
        "duration": 26,
        "start_time": "2022-05-19T20:33:53.551Z"
      },
      {
        "duration": 4,
        "start_time": "2022-05-19T20:35:31.395Z"
      },
      {
        "duration": 5,
        "start_time": "2022-05-19T20:42:31.427Z"
      },
      {
        "duration": 77,
        "start_time": "2022-05-19T20:42:48.886Z"
      },
      {
        "duration": 416,
        "start_time": "2022-05-19T20:42:58.829Z"
      },
      {
        "duration": 24,
        "start_time": "2022-05-19T20:42:59.247Z"
      },
      {
        "duration": 13,
        "start_time": "2022-05-19T20:42:59.272Z"
      },
      {
        "duration": 40,
        "start_time": "2022-05-19T20:42:59.287Z"
      },
      {
        "duration": 12,
        "start_time": "2022-05-19T20:42:59.329Z"
      },
      {
        "duration": 3,
        "start_time": "2022-05-19T20:42:59.342Z"
      },
      {
        "duration": 36,
        "start_time": "2022-05-19T20:42:59.347Z"
      },
      {
        "duration": 12,
        "start_time": "2022-05-19T20:42:59.385Z"
      },
      {
        "duration": 19,
        "start_time": "2022-05-19T21:42:48.748Z"
      },
      {
        "duration": 25,
        "start_time": "2022-05-19T21:44:37.022Z"
      },
      {
        "duration": 28,
        "start_time": "2022-05-19T21:50:39.099Z"
      },
      {
        "duration": 68,
        "start_time": "2022-05-19T22:10:59.569Z"
      },
      {
        "duration": 780,
        "start_time": "2022-05-19T22:11:35.563Z"
      },
      {
        "duration": 7,
        "start_time": "2022-05-19T22:11:40.942Z"
      },
      {
        "duration": 3,
        "start_time": "2022-05-19T22:11:42.378Z"
      },
      {
        "duration": 4,
        "start_time": "2022-05-19T22:11:49.261Z"
      },
      {
        "duration": 4,
        "start_time": "2022-05-19T22:11:49.461Z"
      },
      {
        "duration": 658,
        "start_time": "2022-05-19T22:15:14.568Z"
      },
      {
        "duration": 58001,
        "start_time": "2022-05-19T22:15:27.664Z"
      },
      {
        "duration": 62,
        "start_time": "2022-05-19T22:18:30.593Z"
      },
      {
        "duration": 59963,
        "start_time": "2022-05-19T22:18:40.423Z"
      },
      {
        "duration": 185,
        "start_time": "2022-05-19T22:23:38.829Z"
      },
      {
        "duration": 6,
        "start_time": "2022-05-19T22:37:48.910Z"
      },
      {
        "duration": 4,
        "start_time": "2022-05-19T22:39:59.039Z"
      },
      {
        "duration": 4,
        "start_time": "2022-05-19T22:39:59.428Z"
      },
      {
        "duration": 5,
        "start_time": "2022-05-19T22:40:28.477Z"
      },
      {
        "duration": 4,
        "start_time": "2022-05-19T22:40:28.914Z"
      },
      {
        "duration": 4,
        "start_time": "2022-05-19T22:40:30.018Z"
      },
      {
        "duration": 1342,
        "start_time": "2022-05-19T22:40:42.171Z"
      },
      {
        "duration": 21,
        "start_time": "2022-05-19T22:40:43.514Z"
      },
      {
        "duration": 12,
        "start_time": "2022-05-19T22:40:43.536Z"
      },
      {
        "duration": 43,
        "start_time": "2022-05-19T22:40:43.549Z"
      },
      {
        "duration": 11,
        "start_time": "2022-05-19T22:40:43.593Z"
      },
      {
        "duration": 4,
        "start_time": "2022-05-19T22:40:43.605Z"
      },
      {
        "duration": 16,
        "start_time": "2022-05-19T22:40:43.610Z"
      },
      {
        "duration": 13,
        "start_time": "2022-05-19T22:40:43.628Z"
      },
      {
        "duration": 55,
        "start_time": "2022-05-19T22:40:43.643Z"
      },
      {
        "duration": 7,
        "start_time": "2022-05-19T22:40:43.700Z"
      },
      {
        "duration": 5,
        "start_time": "2022-05-19T22:40:43.708Z"
      },
      {
        "duration": 9,
        "start_time": "2022-05-19T22:40:43.714Z"
      },
      {
        "duration": 7,
        "start_time": "2022-05-19T22:40:43.724Z"
      },
      {
        "duration": 10,
        "start_time": "2022-05-19T22:40:43.732Z"
      },
      {
        "duration": 5,
        "start_time": "2022-05-19T22:40:43.743Z"
      },
      {
        "duration": 5,
        "start_time": "2022-05-19T22:40:43.750Z"
      },
      {
        "duration": 0,
        "start_time": "2022-05-19T22:40:43.756Z"
      },
      {
        "duration": 6,
        "start_time": "2022-05-19T22:40:54.025Z"
      },
      {
        "duration": 4,
        "start_time": "2022-05-19T22:40:54.534Z"
      },
      {
        "duration": 4,
        "start_time": "2022-05-19T22:40:55.066Z"
      },
      {
        "duration": 1276,
        "start_time": "2022-05-19T22:40:59.639Z"
      },
      {
        "duration": 22,
        "start_time": "2022-05-19T22:41:00.917Z"
      },
      {
        "duration": 14,
        "start_time": "2022-05-19T22:41:00.941Z"
      },
      {
        "duration": 44,
        "start_time": "2022-05-19T22:41:00.957Z"
      },
      {
        "duration": 13,
        "start_time": "2022-05-19T22:41:01.003Z"
      },
      {
        "duration": 5,
        "start_time": "2022-05-19T22:41:01.018Z"
      },
      {
        "duration": 18,
        "start_time": "2022-05-19T22:41:01.025Z"
      },
      {
        "duration": 14,
        "start_time": "2022-05-19T22:41:01.044Z"
      },
      {
        "duration": 51,
        "start_time": "2022-05-19T22:41:01.059Z"
      },
      {
        "duration": 6,
        "start_time": "2022-05-19T22:41:01.113Z"
      },
      {
        "duration": 5,
        "start_time": "2022-05-19T22:41:01.121Z"
      },
      {
        "duration": 9,
        "start_time": "2022-05-19T22:41:01.128Z"
      },
      {
        "duration": 12,
        "start_time": "2022-05-19T22:41:01.139Z"
      },
      {
        "duration": 8,
        "start_time": "2022-05-19T22:41:01.153Z"
      },
      {
        "duration": 4,
        "start_time": "2022-05-19T22:41:01.184Z"
      },
      {
        "duration": 12,
        "start_time": "2022-05-19T22:41:01.189Z"
      },
      {
        "duration": 0,
        "start_time": "2022-05-19T22:41:01.203Z"
      },
      {
        "duration": 1344,
        "start_time": "2022-05-19T22:41:19.053Z"
      },
      {
        "duration": 20,
        "start_time": "2022-05-19T22:41:20.399Z"
      },
      {
        "duration": 15,
        "start_time": "2022-05-19T22:41:20.421Z"
      },
      {
        "duration": 53,
        "start_time": "2022-05-19T22:41:20.437Z"
      },
      {
        "duration": 11,
        "start_time": "2022-05-19T22:41:20.492Z"
      },
      {
        "duration": 4,
        "start_time": "2022-05-19T22:41:20.504Z"
      },
      {
        "duration": 21,
        "start_time": "2022-05-19T22:41:20.509Z"
      },
      {
        "duration": 12,
        "start_time": "2022-05-19T22:41:20.531Z"
      },
      {
        "duration": 45,
        "start_time": "2022-05-19T22:41:20.545Z"
      },
      {
        "duration": 6,
        "start_time": "2022-05-19T22:41:20.593Z"
      },
      {
        "duration": 7,
        "start_time": "2022-05-19T22:41:20.600Z"
      },
      {
        "duration": 6,
        "start_time": "2022-05-19T22:41:20.609Z"
      },
      {
        "duration": 18,
        "start_time": "2022-05-19T22:41:20.617Z"
      },
      {
        "duration": 5,
        "start_time": "2022-05-19T22:41:20.637Z"
      },
      {
        "duration": 6,
        "start_time": "2022-05-19T22:41:20.644Z"
      },
      {
        "duration": 5,
        "start_time": "2022-05-19T22:41:20.651Z"
      },
      {
        "duration": 0,
        "start_time": "2022-05-19T22:41:20.658Z"
      },
      {
        "duration": 5,
        "start_time": "2022-05-19T22:59:43.970Z"
      },
      {
        "duration": 6,
        "start_time": "2022-05-19T22:59:46.150Z"
      },
      {
        "duration": 5,
        "start_time": "2022-05-19T22:59:46.529Z"
      },
      {
        "duration": 4,
        "start_time": "2022-05-19T22:59:46.957Z"
      },
      {
        "duration": 4,
        "start_time": "2022-05-19T22:59:47.333Z"
      },
      {
        "duration": 4,
        "start_time": "2022-05-19T22:59:47.774Z"
      },
      {
        "duration": 7,
        "start_time": "2022-05-19T23:02:42.310Z"
      },
      {
        "duration": 115,
        "start_time": "2022-05-19T23:04:40.782Z"
      },
      {
        "duration": 41,
        "start_time": "2022-05-19T23:04:50.413Z"
      },
      {
        "duration": 9,
        "start_time": "2022-05-19T23:04:56.310Z"
      },
      {
        "duration": 3,
        "start_time": "2022-05-19T23:05:20.132Z"
      },
      {
        "duration": 1348,
        "start_time": "2022-05-19T23:06:46.657Z"
      },
      {
        "duration": 22,
        "start_time": "2022-05-19T23:06:48.007Z"
      },
      {
        "duration": 13,
        "start_time": "2022-05-19T23:06:48.030Z"
      },
      {
        "duration": 53,
        "start_time": "2022-05-19T23:06:48.045Z"
      },
      {
        "duration": 13,
        "start_time": "2022-05-19T23:06:48.100Z"
      },
      {
        "duration": 3,
        "start_time": "2022-05-19T23:06:48.115Z"
      },
      {
        "duration": 12,
        "start_time": "2022-05-19T23:06:48.120Z"
      },
      {
        "duration": 12,
        "start_time": "2022-05-19T23:06:48.134Z"
      },
      {
        "duration": 55,
        "start_time": "2022-05-19T23:06:48.148Z"
      },
      {
        "duration": 6,
        "start_time": "2022-05-19T23:06:48.206Z"
      },
      {
        "duration": 5,
        "start_time": "2022-05-19T23:06:48.213Z"
      },
      {
        "duration": 8,
        "start_time": "2022-05-19T23:06:48.220Z"
      },
      {
        "duration": 7,
        "start_time": "2022-05-19T23:06:48.229Z"
      },
      {
        "duration": 8,
        "start_time": "2022-05-19T23:06:48.237Z"
      },
      {
        "duration": 8,
        "start_time": "2022-05-19T23:06:48.246Z"
      },
      {
        "duration": 6,
        "start_time": "2022-05-19T23:06:48.255Z"
      },
      {
        "duration": 132,
        "start_time": "2022-05-19T23:06:48.283Z"
      },
      {
        "duration": 22,
        "start_time": "2022-05-19T23:09:22.460Z"
      },
      {
        "duration": 25,
        "start_time": "2022-05-19T23:09:41.422Z"
      },
      {
        "duration": 26,
        "start_time": "2022-05-19T23:10:01.826Z"
      },
      {
        "duration": 3,
        "start_time": "2022-05-19T23:32:02.490Z"
      },
      {
        "duration": 1538,
        "start_time": "2022-05-21T20:20:07.942Z"
      },
      {
        "duration": 22,
        "start_time": "2022-05-21T20:20:09.483Z"
      },
      {
        "duration": 14,
        "start_time": "2022-05-21T20:20:09.507Z"
      },
      {
        "duration": 41,
        "start_time": "2022-05-21T20:20:09.523Z"
      },
      {
        "duration": 16,
        "start_time": "2022-05-21T20:20:09.565Z"
      },
      {
        "duration": 4,
        "start_time": "2022-05-21T20:20:09.582Z"
      },
      {
        "duration": 34,
        "start_time": "2022-05-21T20:20:09.588Z"
      },
      {
        "duration": 11,
        "start_time": "2022-05-21T20:20:09.624Z"
      },
      {
        "duration": 25,
        "start_time": "2022-05-21T20:20:09.636Z"
      },
      {
        "duration": 6,
        "start_time": "2022-05-21T20:20:09.663Z"
      },
      {
        "duration": 5,
        "start_time": "2022-05-21T20:20:09.670Z"
      },
      {
        "duration": 36,
        "start_time": "2022-05-21T20:20:09.676Z"
      },
      {
        "duration": 3,
        "start_time": "2022-05-21T20:20:09.714Z"
      },
      {
        "duration": 6,
        "start_time": "2022-05-21T20:20:09.718Z"
      },
      {
        "duration": 7,
        "start_time": "2022-05-21T20:20:09.725Z"
      },
      {
        "duration": 4,
        "start_time": "2022-05-21T20:20:09.733Z"
      },
      {
        "duration": 23,
        "start_time": "2022-05-21T20:20:09.739Z"
      },
      {
        "duration": 7,
        "start_time": "2022-05-21T20:20:09.764Z"
      },
      {
        "duration": 150,
        "start_time": "2022-05-21T20:20:09.773Z"
      },
      {
        "duration": 8,
        "start_time": "2022-05-21T20:20:26.926Z"
      },
      {
        "duration": 21,
        "start_time": "2022-05-21T20:20:30.104Z"
      },
      {
        "duration": 7,
        "start_time": "2022-05-21T20:21:20.722Z"
      },
      {
        "duration": 25,
        "start_time": "2022-05-21T20:21:21.296Z"
      },
      {
        "duration": 38,
        "start_time": "2022-05-21T20:23:04.514Z"
      },
      {
        "duration": 7,
        "start_time": "2022-05-21T20:23:17.559Z"
      },
      {
        "duration": 35,
        "start_time": "2022-05-21T20:23:18.090Z"
      },
      {
        "duration": 7,
        "start_time": "2022-05-21T20:24:02.376Z"
      },
      {
        "duration": 25,
        "start_time": "2022-05-21T20:24:03.176Z"
      },
      {
        "duration": 8,
        "start_time": "2022-05-21T20:24:21.181Z"
      },
      {
        "duration": 7,
        "start_time": "2022-05-21T20:24:52.972Z"
      },
      {
        "duration": 24748,
        "start_time": "2022-05-21T20:24:55.738Z"
      },
      {
        "duration": 9,
        "start_time": "2022-05-21T20:45:28.279Z"
      },
      {
        "duration": 25495,
        "start_time": "2022-05-21T20:45:30.394Z"
      },
      {
        "duration": 7,
        "start_time": "2022-05-21T20:47:26.370Z"
      },
      {
        "duration": 25242,
        "start_time": "2022-05-21T20:47:26.752Z"
      },
      {
        "duration": 7,
        "start_time": "2022-05-21T20:48:47.451Z"
      },
      {
        "duration": 25169,
        "start_time": "2022-05-21T20:48:48.482Z"
      },
      {
        "duration": 7,
        "start_time": "2022-05-21T20:49:30.327Z"
      },
      {
        "duration": 25145,
        "start_time": "2022-05-21T20:49:30.661Z"
      },
      {
        "duration": 5,
        "start_time": "2022-05-21T21:28:02.774Z"
      },
      {
        "duration": 24130,
        "start_time": "2022-05-21T21:28:05.186Z"
      },
      {
        "duration": 6,
        "start_time": "2022-05-21T21:28:49.537Z"
      },
      {
        "duration": 24891,
        "start_time": "2022-05-21T21:29:27.556Z"
      },
      {
        "duration": 5,
        "start_time": "2022-05-21T21:30:09.503Z"
      },
      {
        "duration": 25350,
        "start_time": "2022-05-21T21:30:09.959Z"
      },
      {
        "duration": 6,
        "start_time": "2022-05-21T21:40:20.960Z"
      },
      {
        "duration": 26423,
        "start_time": "2022-05-21T21:40:30.029Z"
      },
      {
        "duration": 5,
        "start_time": "2022-05-21T21:45:03.429Z"
      },
      {
        "duration": 6,
        "start_time": "2022-05-21T22:40:50.710Z"
      },
      {
        "duration": 24,
        "start_time": "2022-05-21T22:40:53.122Z"
      },
      {
        "duration": 6,
        "start_time": "2022-05-21T22:41:48.117Z"
      },
      {
        "duration": 1268,
        "start_time": "2022-05-21T22:46:30.060Z"
      },
      {
        "duration": 21,
        "start_time": "2022-05-21T22:46:31.329Z"
      },
      {
        "duration": 12,
        "start_time": "2022-05-21T22:46:31.351Z"
      },
      {
        "duration": 57,
        "start_time": "2022-05-21T22:46:31.365Z"
      },
      {
        "duration": 16,
        "start_time": "2022-05-21T22:46:31.424Z"
      },
      {
        "duration": 5,
        "start_time": "2022-05-21T22:46:31.442Z"
      },
      {
        "duration": 18,
        "start_time": "2022-05-21T22:46:31.449Z"
      },
      {
        "duration": 19,
        "start_time": "2022-05-21T22:46:31.469Z"
      },
      {
        "duration": 34,
        "start_time": "2022-05-21T22:46:31.512Z"
      },
      {
        "duration": 7,
        "start_time": "2022-05-21T22:46:31.548Z"
      },
      {
        "duration": 13,
        "start_time": "2022-05-21T22:46:31.557Z"
      },
      {
        "duration": 12,
        "start_time": "2022-05-21T22:46:31.571Z"
      },
      {
        "duration": 27,
        "start_time": "2022-05-21T22:46:31.587Z"
      },
      {
        "duration": 19,
        "start_time": "2022-05-21T22:46:31.615Z"
      },
      {
        "duration": 8,
        "start_time": "2022-05-21T22:46:31.636Z"
      },
      {
        "duration": 6,
        "start_time": "2022-05-21T22:46:31.646Z"
      },
      {
        "duration": 29,
        "start_time": "2022-05-21T22:46:31.654Z"
      },
      {
        "duration": 9,
        "start_time": "2022-05-21T22:46:31.685Z"
      },
      {
        "duration": 1286,
        "start_time": "2022-05-21T22:47:04.144Z"
      },
      {
        "duration": 25,
        "start_time": "2022-05-21T22:47:05.433Z"
      },
      {
        "duration": 18,
        "start_time": "2022-05-21T22:47:05.460Z"
      },
      {
        "duration": 51,
        "start_time": "2022-05-21T22:47:05.479Z"
      },
      {
        "duration": 16,
        "start_time": "2022-05-21T22:47:05.532Z"
      },
      {
        "duration": 3,
        "start_time": "2022-05-21T22:47:05.550Z"
      },
      {
        "duration": 26,
        "start_time": "2022-05-21T22:47:05.555Z"
      },
      {
        "duration": 13,
        "start_time": "2022-05-21T22:47:05.582Z"
      },
      {
        "duration": 28,
        "start_time": "2022-05-21T22:47:05.611Z"
      },
      {
        "duration": 6,
        "start_time": "2022-05-21T22:47:05.640Z"
      },
      {
        "duration": 10,
        "start_time": "2022-05-21T22:47:05.650Z"
      },
      {
        "duration": 6,
        "start_time": "2022-05-21T22:47:05.662Z"
      },
      {
        "duration": 9,
        "start_time": "2022-05-21T22:47:05.670Z"
      },
      {
        "duration": 6,
        "start_time": "2022-05-21T22:47:05.682Z"
      },
      {
        "duration": 7,
        "start_time": "2022-05-21T22:47:05.713Z"
      },
      {
        "duration": 9,
        "start_time": "2022-05-21T22:47:05.722Z"
      },
      {
        "duration": 40,
        "start_time": "2022-05-21T22:47:05.733Z"
      },
      {
        "duration": 8,
        "start_time": "2022-05-21T22:47:05.775Z"
      },
      {
        "duration": 23630,
        "start_time": "2022-05-21T22:47:05.784Z"
      },
      {
        "duration": 5,
        "start_time": "2022-05-21T22:47:29.415Z"
      },
      {
        "duration": 23784,
        "start_time": "2022-05-21T22:47:29.421Z"
      },
      {
        "duration": 8,
        "start_time": "2022-05-21T22:47:53.207Z"
      },
      {
        "duration": 390325,
        "start_time": "2022-05-21T22:47:53.216Z"
      },
      {
        "duration": 6,
        "start_time": "2022-05-21T22:54:23.542Z"
      },
      {
        "duration": 397272,
        "start_time": "2022-05-21T22:54:23.549Z"
      },
      {
        "duration": 1229,
        "start_time": "2022-05-21T23:01:38.869Z"
      },
      {
        "duration": 19,
        "start_time": "2022-05-21T23:01:40.100Z"
      },
      {
        "duration": 11,
        "start_time": "2022-05-21T23:01:40.121Z"
      },
      {
        "duration": 37,
        "start_time": "2022-05-21T23:01:40.134Z"
      },
      {
        "duration": 12,
        "start_time": "2022-05-21T23:01:40.173Z"
      },
      {
        "duration": 3,
        "start_time": "2022-05-21T23:01:40.186Z"
      },
      {
        "duration": 12,
        "start_time": "2022-05-21T23:01:40.212Z"
      },
      {
        "duration": 14,
        "start_time": "2022-05-21T23:01:40.226Z"
      },
      {
        "duration": 35,
        "start_time": "2022-05-21T23:01:40.242Z"
      },
      {
        "duration": 5,
        "start_time": "2022-05-21T23:01:40.278Z"
      },
      {
        "duration": 20,
        "start_time": "2022-05-21T23:01:40.285Z"
      },
      {
        "duration": 12,
        "start_time": "2022-05-21T23:01:40.307Z"
      },
      {
        "duration": 24,
        "start_time": "2022-05-21T23:01:40.321Z"
      },
      {
        "duration": 16,
        "start_time": "2022-05-21T23:01:40.348Z"
      },
      {
        "duration": 17,
        "start_time": "2022-05-21T23:01:40.366Z"
      },
      {
        "duration": 24,
        "start_time": "2022-05-21T23:01:40.384Z"
      },
      {
        "duration": 24,
        "start_time": "2022-05-21T23:01:40.410Z"
      },
      {
        "duration": 6,
        "start_time": "2022-05-21T23:01:40.435Z"
      },
      {
        "duration": 23214,
        "start_time": "2022-05-21T23:01:40.443Z"
      },
      {
        "duration": 5,
        "start_time": "2022-05-21T23:02:03.659Z"
      },
      {
        "duration": 22642,
        "start_time": "2022-05-21T23:02:03.666Z"
      },
      {
        "duration": 5,
        "start_time": "2022-05-21T23:02:26.312Z"
      },
      {
        "duration": 37577,
        "start_time": "2022-05-21T23:02:26.319Z"
      },
      {
        "duration": 6,
        "start_time": "2022-05-21T23:03:03.897Z"
      },
      {
        "duration": 1286,
        "start_time": "2022-05-21T23:03:47.916Z"
      },
      {
        "duration": 20,
        "start_time": "2022-05-21T23:03:49.204Z"
      },
      {
        "duration": 24,
        "start_time": "2022-05-21T23:03:49.225Z"
      },
      {
        "duration": 62,
        "start_time": "2022-05-21T23:03:49.252Z"
      },
      {
        "duration": 11,
        "start_time": "2022-05-21T23:03:49.316Z"
      },
      {
        "duration": 17,
        "start_time": "2022-05-21T23:03:49.328Z"
      },
      {
        "duration": 20,
        "start_time": "2022-05-21T23:03:49.347Z"
      },
      {
        "duration": 12,
        "start_time": "2022-05-21T23:03:49.369Z"
      },
      {
        "duration": 37,
        "start_time": "2022-05-21T23:03:49.383Z"
      },
      {
        "duration": 5,
        "start_time": "2022-05-21T23:03:49.422Z"
      },
      {
        "duration": 5,
        "start_time": "2022-05-21T23:03:49.429Z"
      },
      {
        "duration": 4,
        "start_time": "2022-05-21T23:03:49.435Z"
      },
      {
        "duration": 4,
        "start_time": "2022-05-21T23:03:49.441Z"
      },
      {
        "duration": 5,
        "start_time": "2022-05-21T23:03:49.446Z"
      },
      {
        "duration": 10,
        "start_time": "2022-05-21T23:03:49.453Z"
      },
      {
        "duration": 12,
        "start_time": "2022-05-21T23:03:49.465Z"
      },
      {
        "duration": 48,
        "start_time": "2022-05-21T23:03:49.478Z"
      },
      {
        "duration": 5,
        "start_time": "2022-05-21T23:03:49.528Z"
      },
      {
        "duration": 23668,
        "start_time": "2022-05-21T23:03:49.535Z"
      },
      {
        "duration": 8,
        "start_time": "2022-05-21T23:04:13.205Z"
      },
      {
        "duration": 23062,
        "start_time": "2022-05-21T23:04:13.215Z"
      },
      {
        "duration": 5,
        "start_time": "2022-05-21T23:04:36.279Z"
      },
      {
        "duration": 37204,
        "start_time": "2022-05-21T23:04:36.286Z"
      },
      {
        "duration": 5,
        "start_time": "2022-05-21T23:05:13.492Z"
      },
      {
        "duration": 37594,
        "start_time": "2022-05-21T23:05:13.498Z"
      },
      {
        "duration": 6,
        "start_time": "2022-05-21T23:13:35.677Z"
      },
      {
        "duration": 14725,
        "start_time": "2022-05-21T23:13:37.404Z"
      },
      {
        "duration": 6,
        "start_time": "2022-05-21T23:13:52.131Z"
      },
      {
        "duration": 14525,
        "start_time": "2022-05-21T23:13:52.138Z"
      },
      {
        "duration": 5,
        "start_time": "2022-05-21T23:27:06.122Z"
      },
      {
        "duration": 110,
        "start_time": "2022-05-21T23:27:13.179Z"
      },
      {
        "duration": 4,
        "start_time": "2022-05-21T23:27:58.805Z"
      },
      {
        "duration": 0,
        "start_time": "2022-05-21T23:28:28.223Z"
      },
      {
        "duration": 0,
        "start_time": "2022-05-21T23:28:28.224Z"
      },
      {
        "duration": 5,
        "start_time": "2022-05-21T23:28:34.489Z"
      },
      {
        "duration": 2,
        "start_time": "2022-05-21T23:28:38.871Z"
      },
      {
        "duration": 1296,
        "start_time": "2022-05-21T23:30:05.092Z"
      },
      {
        "duration": 20,
        "start_time": "2022-05-21T23:30:06.390Z"
      },
      {
        "duration": 11,
        "start_time": "2022-05-21T23:30:06.411Z"
      },
      {
        "duration": 37,
        "start_time": "2022-05-21T23:30:06.425Z"
      },
      {
        "duration": 10,
        "start_time": "2022-05-21T23:30:06.464Z"
      },
      {
        "duration": 3,
        "start_time": "2022-05-21T23:30:06.476Z"
      },
      {
        "duration": 35,
        "start_time": "2022-05-21T23:30:06.481Z"
      },
      {
        "duration": 12,
        "start_time": "2022-05-21T23:30:06.517Z"
      },
      {
        "duration": 25,
        "start_time": "2022-05-21T23:30:06.531Z"
      },
      {
        "duration": 5,
        "start_time": "2022-05-21T23:30:06.558Z"
      },
      {
        "duration": 6,
        "start_time": "2022-05-21T23:30:06.565Z"
      },
      {
        "duration": 5,
        "start_time": "2022-05-21T23:30:06.572Z"
      },
      {
        "duration": 35,
        "start_time": "2022-05-21T23:30:06.578Z"
      },
      {
        "duration": 6,
        "start_time": "2022-05-21T23:30:06.614Z"
      },
      {
        "duration": 8,
        "start_time": "2022-05-21T23:30:06.621Z"
      },
      {
        "duration": 5,
        "start_time": "2022-05-21T23:30:06.630Z"
      },
      {
        "duration": 24,
        "start_time": "2022-05-21T23:30:06.637Z"
      },
      {
        "duration": 5,
        "start_time": "2022-05-21T23:30:06.663Z"
      },
      {
        "duration": 23758,
        "start_time": "2022-05-21T23:30:06.669Z"
      },
      {
        "duration": 6,
        "start_time": "2022-05-21T23:30:30.429Z"
      },
      {
        "duration": 23092,
        "start_time": "2022-05-21T23:30:30.436Z"
      },
      {
        "duration": 6,
        "start_time": "2022-05-21T23:30:53.530Z"
      },
      {
        "duration": 15235,
        "start_time": "2022-05-21T23:30:53.537Z"
      },
      {
        "duration": 5,
        "start_time": "2022-05-21T23:31:08.774Z"
      },
      {
        "duration": 14426,
        "start_time": "2022-05-21T23:31:08.780Z"
      },
      {
        "duration": 7,
        "start_time": "2022-05-21T23:31:23.207Z"
      },
      {
        "duration": 1304,
        "start_time": "2022-05-21T23:34:34.698Z"
      },
      {
        "duration": 21,
        "start_time": "2022-05-21T23:34:36.004Z"
      },
      {
        "duration": 12,
        "start_time": "2022-05-21T23:34:36.027Z"
      },
      {
        "duration": 38,
        "start_time": "2022-05-21T23:34:36.042Z"
      },
      {
        "duration": 36,
        "start_time": "2022-05-21T23:34:36.082Z"
      },
      {
        "duration": 4,
        "start_time": "2022-05-21T23:34:36.120Z"
      },
      {
        "duration": 14,
        "start_time": "2022-05-21T23:34:36.125Z"
      },
      {
        "duration": 12,
        "start_time": "2022-05-21T23:34:36.140Z"
      },
      {
        "duration": 59,
        "start_time": "2022-05-21T23:34:36.154Z"
      },
      {
        "duration": 7,
        "start_time": "2022-05-21T23:34:36.215Z"
      },
      {
        "duration": 6,
        "start_time": "2022-05-21T23:34:36.223Z"
      },
      {
        "duration": 5,
        "start_time": "2022-05-21T23:34:36.230Z"
      },
      {
        "duration": 5,
        "start_time": "2022-05-21T23:34:36.237Z"
      },
      {
        "duration": 5,
        "start_time": "2022-05-21T23:34:36.243Z"
      },
      {
        "duration": 6,
        "start_time": "2022-05-21T23:34:36.250Z"
      },
      {
        "duration": 3,
        "start_time": "2022-05-21T23:34:36.258Z"
      },
      {
        "duration": 61,
        "start_time": "2022-05-21T23:34:36.262Z"
      },
      {
        "duration": 5,
        "start_time": "2022-05-21T23:34:36.324Z"
      },
      {
        "duration": 22872,
        "start_time": "2022-05-21T23:34:36.330Z"
      },
      {
        "duration": 9,
        "start_time": "2022-05-21T23:34:59.204Z"
      },
      {
        "duration": 23277,
        "start_time": "2022-05-21T23:34:59.215Z"
      },
      {
        "duration": 6,
        "start_time": "2022-05-21T23:35:22.493Z"
      },
      {
        "duration": 15173,
        "start_time": "2022-05-21T23:35:22.500Z"
      },
      {
        "duration": 6,
        "start_time": "2022-05-21T23:35:37.674Z"
      },
      {
        "duration": 14541,
        "start_time": "2022-05-21T23:35:37.681Z"
      },
      {
        "duration": 4,
        "start_time": "2022-05-21T23:35:52.224Z"
      },
      {
        "duration": 2957,
        "start_time": "2022-05-21T23:35:52.229Z"
      },
      {
        "duration": 4,
        "start_time": "2022-05-21T23:35:55.189Z"
      },
      {
        "duration": 2449,
        "start_time": "2022-05-21T23:35:55.194Z"
      },
      {
        "duration": 68,
        "start_time": "2022-05-21T23:35:57.645Z"
      },
      {
        "duration": 5,
        "start_time": "2022-05-21T23:37:02.880Z"
      },
      {
        "duration": 2629,
        "start_time": "2022-05-21T23:37:03.288Z"
      },
      {
        "duration": 5,
        "start_time": "2022-05-21T23:37:25.244Z"
      },
      {
        "duration": 2238,
        "start_time": "2022-05-21T23:37:29.076Z"
      },
      {
        "duration": 13,
        "start_time": "2022-05-21T23:40:16.896Z"
      },
      {
        "duration": 134,
        "start_time": "2022-05-21T23:41:14.901Z"
      },
      {
        "duration": 123,
        "start_time": "2022-05-21T23:41:16.895Z"
      },
      {
        "duration": 38,
        "start_time": "2022-05-22T00:42:25.445Z"
      },
      {
        "duration": 11,
        "start_time": "2022-05-22T00:44:01.193Z"
      },
      {
        "duration": 1275,
        "start_time": "2022-05-22T00:47:04.718Z"
      },
      {
        "duration": 19,
        "start_time": "2022-05-22T00:47:05.995Z"
      },
      {
        "duration": 25,
        "start_time": "2022-05-22T00:47:06.015Z"
      },
      {
        "duration": 58,
        "start_time": "2022-05-22T00:47:06.042Z"
      },
      {
        "duration": 13,
        "start_time": "2022-05-22T00:47:06.102Z"
      },
      {
        "duration": 17,
        "start_time": "2022-05-22T00:47:06.117Z"
      },
      {
        "duration": 42,
        "start_time": "2022-05-22T00:47:06.136Z"
      },
      {
        "duration": 16,
        "start_time": "2022-05-22T00:47:06.179Z"
      },
      {
        "duration": 47,
        "start_time": "2022-05-22T00:47:06.196Z"
      },
      {
        "duration": 6,
        "start_time": "2022-05-22T00:47:06.245Z"
      },
      {
        "duration": 20,
        "start_time": "2022-05-22T00:47:06.252Z"
      },
      {
        "duration": 28,
        "start_time": "2022-05-22T00:47:06.274Z"
      },
      {
        "duration": 22,
        "start_time": "2022-05-22T00:47:06.304Z"
      },
      {
        "duration": 58,
        "start_time": "2022-05-22T00:47:06.328Z"
      },
      {
        "duration": 28,
        "start_time": "2022-05-22T00:47:06.388Z"
      },
      {
        "duration": 18,
        "start_time": "2022-05-22T00:47:06.418Z"
      },
      {
        "duration": 62,
        "start_time": "2022-05-22T00:47:06.437Z"
      },
      {
        "duration": 6,
        "start_time": "2022-05-22T00:47:06.501Z"
      },
      {
        "duration": 131,
        "start_time": "2022-05-22T00:47:06.508Z"
      },
      {
        "duration": 5,
        "start_time": "2022-05-22T00:47:06.641Z"
      },
      {
        "duration": 22822,
        "start_time": "2022-05-22T00:47:06.647Z"
      },
      {
        "duration": 5,
        "start_time": "2022-05-22T00:47:29.471Z"
      },
      {
        "duration": 22982,
        "start_time": "2022-05-22T00:47:29.477Z"
      },
      {
        "duration": 5,
        "start_time": "2022-05-22T00:47:52.461Z"
      },
      {
        "duration": 14567,
        "start_time": "2022-05-22T00:47:52.467Z"
      },
      {
        "duration": 6,
        "start_time": "2022-05-22T00:48:07.035Z"
      },
      {
        "duration": 14550,
        "start_time": "2022-05-22T00:48:07.042Z"
      },
      {
        "duration": 4,
        "start_time": "2022-05-22T00:48:21.595Z"
      },
      {
        "duration": 2617,
        "start_time": "2022-05-22T00:48:21.600Z"
      },
      {
        "duration": 93,
        "start_time": "2022-05-22T00:48:24.219Z"
      },
      {
        "duration": 2704,
        "start_time": "2022-05-22T00:48:24.315Z"
      },
      {
        "duration": 24487,
        "start_time": "2022-05-22T00:48:27.023Z"
      },
      {
        "duration": 109,
        "start_time": "2022-05-22T00:52:11.802Z"
      },
      {
        "duration": 1237,
        "start_time": "2022-05-22T00:53:31.554Z"
      },
      {
        "duration": 21,
        "start_time": "2022-05-22T00:53:32.793Z"
      },
      {
        "duration": 13,
        "start_time": "2022-05-22T00:53:32.819Z"
      },
      {
        "duration": 38,
        "start_time": "2022-05-22T00:53:32.834Z"
      },
      {
        "duration": 11,
        "start_time": "2022-05-22T00:53:32.873Z"
      },
      {
        "duration": 28,
        "start_time": "2022-05-22T00:53:32.885Z"
      },
      {
        "duration": 12,
        "start_time": "2022-05-22T00:53:32.915Z"
      },
      {
        "duration": 12,
        "start_time": "2022-05-22T00:53:32.928Z"
      },
      {
        "duration": 27,
        "start_time": "2022-05-22T00:53:32.942Z"
      },
      {
        "duration": 6,
        "start_time": "2022-05-22T00:53:32.970Z"
      },
      {
        "duration": 35,
        "start_time": "2022-05-22T00:53:32.977Z"
      },
      {
        "duration": 4,
        "start_time": "2022-05-22T00:53:33.013Z"
      },
      {
        "duration": 8,
        "start_time": "2022-05-22T00:53:33.018Z"
      },
      {
        "duration": 6,
        "start_time": "2022-05-22T00:53:33.027Z"
      },
      {
        "duration": 8,
        "start_time": "2022-05-22T00:53:33.035Z"
      },
      {
        "duration": 4,
        "start_time": "2022-05-22T00:53:33.045Z"
      },
      {
        "duration": 26,
        "start_time": "2022-05-22T00:53:33.051Z"
      },
      {
        "duration": 5,
        "start_time": "2022-05-22T00:53:33.079Z"
      },
      {
        "duration": 144,
        "start_time": "2022-05-22T00:53:33.086Z"
      },
      {
        "duration": 6,
        "start_time": "2022-05-22T00:53:33.231Z"
      },
      {
        "duration": 22995,
        "start_time": "2022-05-22T00:53:33.239Z"
      },
      {
        "duration": 5,
        "start_time": "2022-05-22T00:53:56.236Z"
      },
      {
        "duration": 22799,
        "start_time": "2022-05-22T00:53:56.244Z"
      },
      {
        "duration": 6,
        "start_time": "2022-05-22T00:54:19.045Z"
      },
      {
        "duration": 14532,
        "start_time": "2022-05-22T00:54:19.053Z"
      },
      {
        "duration": 6,
        "start_time": "2022-05-22T00:54:33.587Z"
      },
      {
        "duration": 14521,
        "start_time": "2022-05-22T00:54:33.613Z"
      },
      {
        "duration": 4,
        "start_time": "2022-05-22T00:54:48.136Z"
      },
      {
        "duration": 2576,
        "start_time": "2022-05-22T00:54:48.141Z"
      },
      {
        "duration": 96,
        "start_time": "2022-05-22T00:54:50.719Z"
      },
      {
        "duration": 2801,
        "start_time": "2022-05-22T00:54:50.816Z"
      },
      {
        "duration": 24820,
        "start_time": "2022-05-22T00:54:53.619Z"
      },
      {
        "duration": 24023,
        "start_time": "2022-05-22T00:55:18.440Z"
      },
      {
        "duration": 14056,
        "start_time": "2022-05-22T00:55:42.464Z"
      },
      {
        "duration": 14110,
        "start_time": "2022-05-22T00:55:56.521Z"
      },
      {
        "duration": 2180,
        "start_time": "2022-05-22T00:56:10.632Z"
      },
      {
        "duration": 2201,
        "start_time": "2022-05-22T00:56:12.818Z"
      },
      {
        "duration": 2,
        "start_time": "2022-05-22T01:01:02.840Z"
      },
      {
        "duration": 34,
        "start_time": "2022-05-22T01:01:36.171Z"
      },
      {
        "duration": 6,
        "start_time": "2022-05-22T01:05:53.985Z"
      },
      {
        "duration": 4,
        "start_time": "2022-05-22T01:07:42.265Z"
      },
      {
        "duration": 15,
        "start_time": "2022-05-22T01:10:25.040Z"
      },
      {
        "duration": 21571,
        "start_time": "2022-05-22T01:14:32.001Z"
      },
      {
        "duration": 22645,
        "start_time": "2022-05-22T01:14:53.574Z"
      },
      {
        "duration": 1289,
        "start_time": "2022-05-22T01:16:06.126Z"
      },
      {
        "duration": 21,
        "start_time": "2022-05-22T01:16:07.417Z"
      },
      {
        "duration": 35,
        "start_time": "2022-05-22T01:16:07.439Z"
      },
      {
        "duration": 46,
        "start_time": "2022-05-22T01:16:07.476Z"
      },
      {
        "duration": 12,
        "start_time": "2022-05-22T01:16:07.524Z"
      },
      {
        "duration": 4,
        "start_time": "2022-05-22T01:16:07.537Z"
      },
      {
        "duration": 18,
        "start_time": "2022-05-22T01:16:07.542Z"
      },
      {
        "duration": 13,
        "start_time": "2022-05-22T01:16:07.561Z"
      },
      {
        "duration": 46,
        "start_time": "2022-05-22T01:16:07.576Z"
      },
      {
        "duration": 6,
        "start_time": "2022-05-22T01:16:07.625Z"
      },
      {
        "duration": 4,
        "start_time": "2022-05-22T01:16:07.632Z"
      },
      {
        "duration": 4,
        "start_time": "2022-05-22T01:16:07.638Z"
      },
      {
        "duration": 5,
        "start_time": "2022-05-22T01:16:07.643Z"
      },
      {
        "duration": 5,
        "start_time": "2022-05-22T01:16:07.649Z"
      },
      {
        "duration": 6,
        "start_time": "2022-05-22T01:16:07.655Z"
      },
      {
        "duration": 4,
        "start_time": "2022-05-22T01:16:07.663Z"
      },
      {
        "duration": 55,
        "start_time": "2022-05-22T01:16:07.668Z"
      },
      {
        "duration": 6,
        "start_time": "2022-05-22T01:16:07.724Z"
      },
      {
        "duration": 122,
        "start_time": "2022-05-22T01:16:07.731Z"
      },
      {
        "duration": 6,
        "start_time": "2022-05-22T01:16:07.854Z"
      },
      {
        "duration": 22627,
        "start_time": "2022-05-22T01:16:07.861Z"
      },
      {
        "duration": 5,
        "start_time": "2022-05-22T01:16:30.490Z"
      },
      {
        "duration": 22588,
        "start_time": "2022-05-22T01:16:30.497Z"
      },
      {
        "duration": 5,
        "start_time": "2022-05-22T01:16:53.087Z"
      },
      {
        "duration": 14819,
        "start_time": "2022-05-22T01:16:53.093Z"
      },
      {
        "duration": 6,
        "start_time": "2022-05-22T01:17:07.914Z"
      },
      {
        "duration": 14359,
        "start_time": "2022-05-22T01:17:07.922Z"
      },
      {
        "duration": 4,
        "start_time": "2022-05-22T01:17:22.285Z"
      },
      {
        "duration": 2523,
        "start_time": "2022-05-22T01:17:22.290Z"
      },
      {
        "duration": 97,
        "start_time": "2022-05-22T01:17:24.815Z"
      },
      {
        "duration": 2306,
        "start_time": "2022-05-22T01:17:24.914Z"
      },
      {
        "duration": 24713,
        "start_time": "2022-05-22T01:17:27.222Z"
      },
      {
        "duration": 23648,
        "start_time": "2022-05-22T01:17:51.937Z"
      },
      {
        "duration": 14353,
        "start_time": "2022-05-22T01:18:15.586Z"
      },
      {
        "duration": 14353,
        "start_time": "2022-05-22T01:18:29.940Z"
      },
      {
        "duration": 2219,
        "start_time": "2022-05-22T01:18:44.294Z"
      },
      {
        "duration": 2101,
        "start_time": "2022-05-22T01:18:46.516Z"
      },
      {
        "duration": 93,
        "start_time": "2022-05-22T01:18:48.620Z"
      },
      {
        "duration": 12,
        "start_time": "2022-05-22T01:18:48.715Z"
      },
      {
        "duration": 96,
        "start_time": "2022-05-22T01:18:48.729Z"
      },
      {
        "duration": 21594,
        "start_time": "2022-05-22T01:18:48.827Z"
      },
      {
        "duration": 21509,
        "start_time": "2022-05-22T01:19:10.423Z"
      },
      {
        "duration": 14409,
        "start_time": "2022-05-22T01:19:31.934Z"
      },
      {
        "duration": 14163,
        "start_time": "2022-05-22T01:19:46.344Z"
      },
      {
        "duration": 2,
        "start_time": "2022-05-22T01:24:57.511Z"
      },
      {
        "duration": 1265,
        "start_time": "2022-05-22T01:35:16.147Z"
      },
      {
        "duration": 19,
        "start_time": "2022-05-22T01:35:17.414Z"
      },
      {
        "duration": 14,
        "start_time": "2022-05-22T01:35:17.434Z"
      },
      {
        "duration": 39,
        "start_time": "2022-05-22T01:35:17.451Z"
      },
      {
        "duration": 30,
        "start_time": "2022-05-22T01:35:17.491Z"
      },
      {
        "duration": 3,
        "start_time": "2022-05-22T01:35:17.523Z"
      },
      {
        "duration": 13,
        "start_time": "2022-05-22T01:35:17.528Z"
      },
      {
        "duration": 11,
        "start_time": "2022-05-22T01:35:17.542Z"
      },
      {
        "duration": 23,
        "start_time": "2022-05-22T01:35:17.555Z"
      },
      {
        "duration": 33,
        "start_time": "2022-05-22T01:35:17.581Z"
      },
      {
        "duration": 4,
        "start_time": "2022-05-22T01:35:17.616Z"
      },
      {
        "duration": 6,
        "start_time": "2022-05-22T01:35:17.622Z"
      },
      {
        "duration": 4,
        "start_time": "2022-05-22T01:35:17.629Z"
      },
      {
        "duration": 4,
        "start_time": "2022-05-22T01:35:17.635Z"
      },
      {
        "duration": 6,
        "start_time": "2022-05-22T01:35:17.641Z"
      },
      {
        "duration": 5,
        "start_time": "2022-05-22T01:35:17.648Z"
      },
      {
        "duration": 23,
        "start_time": "2022-05-22T01:35:17.654Z"
      },
      {
        "duration": 5,
        "start_time": "2022-05-22T01:35:17.678Z"
      },
      {
        "duration": 119,
        "start_time": "2022-05-22T01:35:17.713Z"
      },
      {
        "duration": 5,
        "start_time": "2022-05-22T01:35:17.833Z"
      },
      {
        "duration": 22870,
        "start_time": "2022-05-22T01:35:17.839Z"
      },
      {
        "duration": 5,
        "start_time": "2022-05-22T01:35:40.712Z"
      },
      {
        "duration": 22465,
        "start_time": "2022-05-22T01:35:40.719Z"
      },
      {
        "duration": 6,
        "start_time": "2022-05-22T01:36:03.186Z"
      },
      {
        "duration": 14414,
        "start_time": "2022-05-22T01:36:03.193Z"
      },
      {
        "duration": 5,
        "start_time": "2022-05-22T01:36:17.612Z"
      },
      {
        "duration": 14586,
        "start_time": "2022-05-22T01:36:17.618Z"
      },
      {
        "duration": 4,
        "start_time": "2022-05-22T01:36:32.211Z"
      },
      {
        "duration": 2600,
        "start_time": "2022-05-22T01:36:32.217Z"
      },
      {
        "duration": 94,
        "start_time": "2022-05-22T01:36:34.819Z"
      },
      {
        "duration": 2697,
        "start_time": "2022-05-22T01:36:34.916Z"
      },
      {
        "duration": 24036,
        "start_time": "2022-05-22T01:36:37.616Z"
      },
      {
        "duration": 23699,
        "start_time": "2022-05-22T01:37:01.653Z"
      },
      {
        "duration": 14253,
        "start_time": "2022-05-22T01:37:25.354Z"
      },
      {
        "duration": 13994,
        "start_time": "2022-05-22T01:37:39.611Z"
      },
      {
        "duration": 2108,
        "start_time": "2022-05-22T01:37:53.606Z"
      },
      {
        "duration": 2003,
        "start_time": "2022-05-22T01:37:55.716Z"
      },
      {
        "duration": 91,
        "start_time": "2022-05-22T01:37:57.723Z"
      },
      {
        "duration": 8,
        "start_time": "2022-05-22T01:37:57.815Z"
      },
      {
        "duration": 16,
        "start_time": "2022-05-22T01:37:57.825Z"
      },
      {
        "duration": 21446,
        "start_time": "2022-05-22T01:37:57.843Z"
      },
      {
        "duration": 21361,
        "start_time": "2022-05-22T01:38:19.291Z"
      },
      {
        "duration": 14051,
        "start_time": "2022-05-22T01:38:40.653Z"
      },
      {
        "duration": 14109,
        "start_time": "2022-05-22T01:38:54.705Z"
      },
      {
        "duration": 113,
        "start_time": "2022-05-22T01:39:08.816Z"
      },
      {
        "duration": 1290,
        "start_time": "2022-05-22T01:41:34.144Z"
      },
      {
        "duration": 23,
        "start_time": "2022-05-22T01:41:35.436Z"
      },
      {
        "duration": 12,
        "start_time": "2022-05-22T01:41:35.461Z"
      },
      {
        "duration": 51,
        "start_time": "2022-05-22T01:41:35.475Z"
      },
      {
        "duration": 12,
        "start_time": "2022-05-22T01:41:35.528Z"
      },
      {
        "duration": 4,
        "start_time": "2022-05-22T01:41:35.541Z"
      },
      {
        "duration": 14,
        "start_time": "2022-05-22T01:41:35.546Z"
      },
      {
        "duration": 13,
        "start_time": "2022-05-22T01:41:35.562Z"
      },
      {
        "duration": 57,
        "start_time": "2022-05-22T01:41:35.576Z"
      },
      {
        "duration": 5,
        "start_time": "2022-05-22T01:41:35.636Z"
      },
      {
        "duration": 4,
        "start_time": "2022-05-22T01:41:35.643Z"
      },
      {
        "duration": 4,
        "start_time": "2022-05-22T01:41:35.648Z"
      },
      {
        "duration": 5,
        "start_time": "2022-05-22T01:41:35.654Z"
      },
      {
        "duration": 5,
        "start_time": "2022-05-22T01:41:35.660Z"
      },
      {
        "duration": 7,
        "start_time": "2022-05-22T01:41:35.667Z"
      },
      {
        "duration": 7,
        "start_time": "2022-05-22T01:41:35.676Z"
      },
      {
        "duration": 26,
        "start_time": "2022-05-22T01:41:35.712Z"
      },
      {
        "duration": 6,
        "start_time": "2022-05-22T01:41:35.739Z"
      },
      {
        "duration": 134,
        "start_time": "2022-05-22T01:41:35.747Z"
      },
      {
        "duration": 6,
        "start_time": "2022-05-22T01:41:35.883Z"
      },
      {
        "duration": 22447,
        "start_time": "2022-05-22T01:41:35.891Z"
      },
      {
        "duration": 5,
        "start_time": "2022-05-22T01:41:58.340Z"
      },
      {
        "duration": 22716,
        "start_time": "2022-05-22T01:41:58.347Z"
      },
      {
        "duration": 5,
        "start_time": "2022-05-22T01:42:21.064Z"
      },
      {
        "duration": 15100,
        "start_time": "2022-05-22T01:42:21.070Z"
      },
      {
        "duration": 6,
        "start_time": "2022-05-22T01:42:36.172Z"
      },
      {
        "duration": 14434,
        "start_time": "2022-05-22T01:42:36.180Z"
      },
      {
        "duration": 4,
        "start_time": "2022-05-22T01:42:50.617Z"
      },
      {
        "duration": 2395,
        "start_time": "2022-05-22T01:42:50.622Z"
      },
      {
        "duration": 94,
        "start_time": "2022-05-22T01:42:53.019Z"
      },
      {
        "duration": 2499,
        "start_time": "2022-05-22T01:42:53.115Z"
      },
      {
        "duration": 24154,
        "start_time": "2022-05-22T01:42:55.616Z"
      },
      {
        "duration": 23647,
        "start_time": "2022-05-22T01:43:19.772Z"
      },
      {
        "duration": 14109,
        "start_time": "2022-05-22T01:43:43.421Z"
      },
      {
        "duration": 14098,
        "start_time": "2022-05-22T01:43:57.532Z"
      },
      {
        "duration": 2081,
        "start_time": "2022-05-22T01:44:11.632Z"
      },
      {
        "duration": 2201,
        "start_time": "2022-05-22T01:44:13.716Z"
      },
      {
        "duration": 97,
        "start_time": "2022-05-22T01:44:15.919Z"
      },
      {
        "duration": 12,
        "start_time": "2022-05-22T01:44:16.019Z"
      },
      {
        "duration": 18,
        "start_time": "2022-05-22T01:44:16.112Z"
      },
      {
        "duration": 21610,
        "start_time": "2022-05-22T01:44:16.132Z"
      },
      {
        "duration": 21065,
        "start_time": "2022-05-22T01:44:37.744Z"
      },
      {
        "duration": 14196,
        "start_time": "2022-05-22T01:44:58.812Z"
      },
      {
        "duration": 14012,
        "start_time": "2022-05-22T01:45:13.012Z"
      },
      {
        "duration": 112,
        "start_time": "2022-05-22T01:45:27.025Z"
      },
      {
        "duration": 1257,
        "start_time": "2022-05-22T01:45:52.421Z"
      },
      {
        "duration": 20,
        "start_time": "2022-05-22T01:45:53.679Z"
      },
      {
        "duration": 18,
        "start_time": "2022-05-22T01:45:53.701Z"
      },
      {
        "duration": 38,
        "start_time": "2022-05-22T01:45:53.721Z"
      },
      {
        "duration": 13,
        "start_time": "2022-05-22T01:45:53.760Z"
      },
      {
        "duration": 4,
        "start_time": "2022-05-22T01:45:53.774Z"
      },
      {
        "duration": 37,
        "start_time": "2022-05-22T01:45:53.780Z"
      },
      {
        "duration": 11,
        "start_time": "2022-05-22T01:45:53.819Z"
      },
      {
        "duration": 30,
        "start_time": "2022-05-22T01:45:53.832Z"
      },
      {
        "duration": 5,
        "start_time": "2022-05-22T01:45:53.864Z"
      },
      {
        "duration": 21,
        "start_time": "2022-05-22T01:45:53.870Z"
      },
      {
        "duration": 16,
        "start_time": "2022-05-22T01:45:53.893Z"
      },
      {
        "duration": 8,
        "start_time": "2022-05-22T01:45:53.910Z"
      },
      {
        "duration": 18,
        "start_time": "2022-05-22T01:45:53.920Z"
      },
      {
        "duration": 19,
        "start_time": "2022-05-22T01:45:53.939Z"
      },
      {
        "duration": 10,
        "start_time": "2022-05-22T01:45:53.960Z"
      },
      {
        "duration": 38,
        "start_time": "2022-05-22T01:45:53.971Z"
      },
      {
        "duration": 5,
        "start_time": "2022-05-22T01:45:54.010Z"
      },
      {
        "duration": 127,
        "start_time": "2022-05-22T01:45:54.017Z"
      },
      {
        "duration": 5,
        "start_time": "2022-05-22T01:45:54.145Z"
      },
      {
        "duration": 22652,
        "start_time": "2022-05-22T01:45:54.152Z"
      },
      {
        "duration": 8,
        "start_time": "2022-05-22T01:46:16.806Z"
      },
      {
        "duration": 22789,
        "start_time": "2022-05-22T01:46:16.816Z"
      },
      {
        "duration": 5,
        "start_time": "2022-05-22T01:46:39.611Z"
      },
      {
        "duration": 25317,
        "start_time": "2022-05-22T01:46:39.618Z"
      },
      {
        "duration": 5,
        "start_time": "2022-05-22T01:47:04.937Z"
      },
      {
        "duration": 25336,
        "start_time": "2022-05-22T01:47:04.944Z"
      },
      {
        "duration": 4,
        "start_time": "2022-05-22T01:47:30.283Z"
      },
      {
        "duration": 2625,
        "start_time": "2022-05-22T01:47:30.289Z"
      },
      {
        "duration": 96,
        "start_time": "2022-05-22T01:47:32.916Z"
      },
      {
        "duration": 2601,
        "start_time": "2022-05-22T01:47:33.014Z"
      },
      {
        "duration": 23914,
        "start_time": "2022-05-22T01:47:35.619Z"
      },
      {
        "duration": 23668,
        "start_time": "2022-05-22T01:47:59.534Z"
      },
      {
        "duration": 25099,
        "start_time": "2022-05-22T01:48:23.204Z"
      },
      {
        "duration": 25026,
        "start_time": "2022-05-22T01:48:48.305Z"
      },
      {
        "duration": 2080,
        "start_time": "2022-05-22T01:49:13.333Z"
      },
      {
        "duration": 2197,
        "start_time": "2022-05-22T01:49:15.416Z"
      },
      {
        "duration": 99,
        "start_time": "2022-05-22T01:49:17.615Z"
      },
      {
        "duration": 7,
        "start_time": "2022-05-22T01:49:17.716Z"
      },
      {
        "duration": 16,
        "start_time": "2022-05-22T01:49:17.725Z"
      },
      {
        "duration": 21717,
        "start_time": "2022-05-22T01:49:17.743Z"
      },
      {
        "duration": 21111,
        "start_time": "2022-05-22T01:49:39.461Z"
      },
      {
        "duration": 24657,
        "start_time": "2022-05-22T01:50:00.573Z"
      },
      {
        "duration": 25008,
        "start_time": "2022-05-22T01:50:25.232Z"
      },
      {
        "duration": 122,
        "start_time": "2022-05-22T01:50:50.241Z"
      },
      {
        "duration": 3,
        "start_time": "2022-05-22T01:55:53.748Z"
      },
      {
        "duration": 1405,
        "start_time": "2022-05-22T01:59:55.288Z"
      },
      {
        "duration": 19,
        "start_time": "2022-05-22T01:59:56.695Z"
      },
      {
        "duration": 11,
        "start_time": "2022-05-22T01:59:56.716Z"
      },
      {
        "duration": 37,
        "start_time": "2022-05-22T01:59:56.729Z"
      },
      {
        "duration": 11,
        "start_time": "2022-05-22T01:59:56.767Z"
      },
      {
        "duration": 3,
        "start_time": "2022-05-22T01:59:56.780Z"
      },
      {
        "duration": 31,
        "start_time": "2022-05-22T01:59:56.785Z"
      },
      {
        "duration": 11,
        "start_time": "2022-05-22T01:59:56.818Z"
      },
      {
        "duration": 23,
        "start_time": "2022-05-22T01:59:56.831Z"
      },
      {
        "duration": 5,
        "start_time": "2022-05-22T01:59:56.857Z"
      },
      {
        "duration": 4,
        "start_time": "2022-05-22T01:59:56.864Z"
      },
      {
        "duration": 4,
        "start_time": "2022-05-22T01:59:56.870Z"
      },
      {
        "duration": 5,
        "start_time": "2022-05-22T01:59:56.876Z"
      },
      {
        "duration": 5,
        "start_time": "2022-05-22T01:59:56.911Z"
      },
      {
        "duration": 7,
        "start_time": "2022-05-22T01:59:56.917Z"
      },
      {
        "duration": 5,
        "start_time": "2022-05-22T01:59:56.926Z"
      },
      {
        "duration": 24,
        "start_time": "2022-05-22T01:59:56.932Z"
      },
      {
        "duration": 5,
        "start_time": "2022-05-22T01:59:56.958Z"
      },
      {
        "duration": 136,
        "start_time": "2022-05-22T01:59:56.965Z"
      },
      {
        "duration": 9,
        "start_time": "2022-05-22T01:59:57.103Z"
      },
      {
        "duration": 151,
        "start_time": "2022-05-22T01:59:57.114Z"
      },
      {
        "duration": 5,
        "start_time": "2022-05-22T01:59:57.267Z"
      },
      {
        "duration": 30,
        "start_time": "2022-05-22T01:59:57.273Z"
      },
      {
        "duration": 6,
        "start_time": "2022-05-22T01:59:57.311Z"
      },
      {
        "duration": 25650,
        "start_time": "2022-05-22T01:59:57.319Z"
      },
      {
        "duration": 5,
        "start_time": "2022-05-22T02:00:22.972Z"
      },
      {
        "duration": 26020,
        "start_time": "2022-05-22T02:00:22.979Z"
      },
      {
        "duration": 9,
        "start_time": "2022-05-22T02:00:49.003Z"
      },
      {
        "duration": 2706,
        "start_time": "2022-05-22T02:00:49.013Z"
      },
      {
        "duration": 93,
        "start_time": "2022-05-22T02:00:51.722Z"
      },
      {
        "duration": 2603,
        "start_time": "2022-05-22T02:00:51.817Z"
      },
      {
        "duration": 202,
        "start_time": "2022-05-22T02:00:54.422Z"
      },
      {
        "duration": 0,
        "start_time": "2022-05-22T02:00:54.626Z"
      },
      {
        "duration": 0,
        "start_time": "2022-05-22T02:00:54.627Z"
      },
      {
        "duration": 0,
        "start_time": "2022-05-22T02:00:54.627Z"
      },
      {
        "duration": 0,
        "start_time": "2022-05-22T02:00:54.628Z"
      },
      {
        "duration": 0,
        "start_time": "2022-05-22T02:00:54.629Z"
      },
      {
        "duration": 0,
        "start_time": "2022-05-22T02:00:54.630Z"
      },
      {
        "duration": 0,
        "start_time": "2022-05-22T02:00:54.631Z"
      },
      {
        "duration": 0,
        "start_time": "2022-05-22T02:00:54.633Z"
      },
      {
        "duration": 0,
        "start_time": "2022-05-22T02:00:54.634Z"
      },
      {
        "duration": 0,
        "start_time": "2022-05-22T02:00:54.634Z"
      },
      {
        "duration": 0,
        "start_time": "2022-05-22T02:00:54.635Z"
      },
      {
        "duration": 0,
        "start_time": "2022-05-22T02:00:54.636Z"
      },
      {
        "duration": 0,
        "start_time": "2022-05-22T02:00:54.637Z"
      },
      {
        "duration": 1310,
        "start_time": "2022-05-22T02:02:02.406Z"
      },
      {
        "duration": 20,
        "start_time": "2022-05-22T02:02:03.718Z"
      },
      {
        "duration": 12,
        "start_time": "2022-05-22T02:02:03.742Z"
      },
      {
        "duration": 58,
        "start_time": "2022-05-22T02:02:03.755Z"
      },
      {
        "duration": 12,
        "start_time": "2022-05-22T02:02:03.815Z"
      },
      {
        "duration": 10,
        "start_time": "2022-05-22T02:02:03.828Z"
      },
      {
        "duration": 13,
        "start_time": "2022-05-22T02:02:03.839Z"
      },
      {
        "duration": 11,
        "start_time": "2022-05-22T02:02:03.854Z"
      },
      {
        "duration": 45,
        "start_time": "2022-05-22T02:02:03.868Z"
      },
      {
        "duration": 5,
        "start_time": "2022-05-22T02:02:03.915Z"
      },
      {
        "duration": 5,
        "start_time": "2022-05-22T02:02:03.921Z"
      },
      {
        "duration": 4,
        "start_time": "2022-05-22T02:02:03.927Z"
      },
      {
        "duration": 6,
        "start_time": "2022-05-22T02:02:03.933Z"
      },
      {
        "duration": 5,
        "start_time": "2022-05-22T02:02:03.941Z"
      },
      {
        "duration": 11,
        "start_time": "2022-05-22T02:02:03.948Z"
      },
      {
        "duration": 5,
        "start_time": "2022-05-22T02:02:03.960Z"
      },
      {
        "duration": 49,
        "start_time": "2022-05-22T02:02:03.967Z"
      },
      {
        "duration": 5,
        "start_time": "2022-05-22T02:02:04.018Z"
      },
      {
        "duration": 129,
        "start_time": "2022-05-22T02:02:04.025Z"
      },
      {
        "duration": 5,
        "start_time": "2022-05-22T02:02:04.156Z"
      },
      {
        "duration": 10590,
        "start_time": "2022-05-22T02:02:04.162Z"
      },
      {
        "duration": 5,
        "start_time": "2022-05-22T02:02:14.753Z"
      },
      {
        "duration": 10462,
        "start_time": "2022-05-22T02:02:14.759Z"
      },
      {
        "duration": 5,
        "start_time": "2022-05-22T02:02:25.223Z"
      },
      {
        "duration": 26199,
        "start_time": "2022-05-22T02:02:25.230Z"
      },
      {
        "duration": 7,
        "start_time": "2022-05-22T02:02:51.432Z"
      },
      {
        "duration": 25738,
        "start_time": "2022-05-22T02:02:51.443Z"
      },
      {
        "duration": 6,
        "start_time": "2022-05-22T02:03:17.183Z"
      },
      {
        "duration": 2424,
        "start_time": "2022-05-22T02:03:17.190Z"
      },
      {
        "duration": 96,
        "start_time": "2022-05-22T02:03:19.616Z"
      },
      {
        "duration": 2503,
        "start_time": "2022-05-22T02:03:19.714Z"
      },
      {
        "duration": 11151,
        "start_time": "2022-05-22T02:03:22.219Z"
      },
      {
        "duration": 11164,
        "start_time": "2022-05-22T02:03:33.372Z"
      },
      {
        "duration": 24807,
        "start_time": "2022-05-22T02:03:44.538Z"
      },
      {
        "duration": 24884,
        "start_time": "2022-05-22T02:04:09.346Z"
      },
      {
        "duration": 5,
        "start_time": "2022-05-22T02:04:34.232Z"
      },
      {
        "duration": 9,
        "start_time": "2022-05-22T02:04:34.239Z"
      },
      {
        "duration": 17,
        "start_time": "2022-05-22T02:04:34.250Z"
      },
      {
        "duration": 9939,
        "start_time": "2022-05-22T02:04:34.268Z"
      },
      {
        "duration": 9875,
        "start_time": "2022-05-22T02:04:44.209Z"
      },
      {
        "duration": 24739,
        "start_time": "2022-05-22T02:04:54.086Z"
      },
      {
        "duration": 25116,
        "start_time": "2022-05-22T02:05:18.827Z"
      },
      {
        "duration": 4,
        "start_time": "2022-05-22T02:05:43.944Z"
      },
      {
        "duration": 51,
        "start_time": "2022-05-22T02:05:43.949Z"
      },
      {
        "duration": 281,
        "start_time": "2022-05-22T02:05:44.001Z"
      },
      {
        "duration": 1248,
        "start_time": "2022-05-22T02:26:23.731Z"
      },
      {
        "duration": 19,
        "start_time": "2022-05-22T02:26:24.981Z"
      },
      {
        "duration": 13,
        "start_time": "2022-05-22T02:26:25.002Z"
      },
      {
        "duration": 36,
        "start_time": "2022-05-22T02:26:25.018Z"
      },
      {
        "duration": 12,
        "start_time": "2022-05-22T02:26:25.056Z"
      },
      {
        "duration": 4,
        "start_time": "2022-05-22T02:26:25.070Z"
      },
      {
        "duration": 15,
        "start_time": "2022-05-22T02:26:25.075Z"
      },
      {
        "duration": 14,
        "start_time": "2022-05-22T02:26:25.111Z"
      },
      {
        "duration": 25,
        "start_time": "2022-05-22T02:26:25.126Z"
      },
      {
        "duration": 6,
        "start_time": "2022-05-22T02:26:25.153Z"
      },
      {
        "duration": 4,
        "start_time": "2022-05-22T02:26:25.160Z"
      },
      {
        "duration": 3,
        "start_time": "2022-05-22T02:26:25.166Z"
      },
      {
        "duration": 5,
        "start_time": "2022-05-22T02:26:25.171Z"
      },
      {
        "duration": 37,
        "start_time": "2022-05-22T02:26:25.177Z"
      },
      {
        "duration": 6,
        "start_time": "2022-05-22T02:26:25.216Z"
      },
      {
        "duration": 5,
        "start_time": "2022-05-22T02:26:25.223Z"
      },
      {
        "duration": 22,
        "start_time": "2022-05-22T02:26:25.229Z"
      },
      {
        "duration": 5,
        "start_time": "2022-05-22T02:26:25.253Z"
      },
      {
        "duration": 126,
        "start_time": "2022-05-22T02:26:25.259Z"
      },
      {
        "duration": 5,
        "start_time": "2022-05-22T02:26:25.386Z"
      },
      {
        "duration": 10709,
        "start_time": "2022-05-22T02:26:25.392Z"
      },
      {
        "duration": 9,
        "start_time": "2022-05-22T02:26:36.103Z"
      },
      {
        "duration": 10349,
        "start_time": "2022-05-22T02:26:36.114Z"
      },
      {
        "duration": 5,
        "start_time": "2022-05-22T02:26:46.465Z"
      },
      {
        "duration": 25495,
        "start_time": "2022-05-22T02:26:46.472Z"
      },
      {
        "duration": 6,
        "start_time": "2022-05-22T02:27:11.968Z"
      },
      {
        "duration": 25708,
        "start_time": "2022-05-22T02:27:11.975Z"
      },
      {
        "duration": 4,
        "start_time": "2022-05-22T02:27:37.688Z"
      },
      {
        "duration": 2421,
        "start_time": "2022-05-22T02:27:37.693Z"
      },
      {
        "duration": 96,
        "start_time": "2022-05-22T02:27:40.116Z"
      },
      {
        "duration": 2402,
        "start_time": "2022-05-22T02:27:40.214Z"
      },
      {
        "duration": 11019,
        "start_time": "2022-05-22T02:27:42.618Z"
      },
      {
        "duration": 11157,
        "start_time": "2022-05-22T02:27:53.638Z"
      },
      {
        "duration": 25324,
        "start_time": "2022-05-22T02:28:04.797Z"
      },
      {
        "duration": 25419,
        "start_time": "2022-05-22T02:28:30.123Z"
      },
      {
        "duration": 5,
        "start_time": "2022-05-22T02:28:55.543Z"
      },
      {
        "duration": 11,
        "start_time": "2022-05-22T02:28:55.549Z"
      },
      {
        "duration": 17,
        "start_time": "2022-05-22T02:28:55.561Z"
      },
      {
        "duration": 10341,
        "start_time": "2022-05-22T02:28:55.579Z"
      },
      {
        "duration": 10007,
        "start_time": "2022-05-22T02:29:05.922Z"
      },
      {
        "duration": 24787,
        "start_time": "2022-05-22T02:29:15.931Z"
      },
      {
        "duration": 24480,
        "start_time": "2022-05-22T02:29:40.719Z"
      },
      {
        "duration": 11,
        "start_time": "2022-05-22T02:30:05.201Z"
      },
      {
        "duration": 51,
        "start_time": "2022-05-22T02:30:05.213Z"
      },
      {
        "duration": 272,
        "start_time": "2022-05-22T02:30:05.265Z"
      },
      {
        "duration": 1377,
        "start_time": "2022-05-23T03:40:35.740Z"
      },
      {
        "duration": 28,
        "start_time": "2022-05-23T03:40:37.119Z"
      },
      {
        "duration": 12,
        "start_time": "2022-05-23T03:40:38.166Z"
      },
      {
        "duration": 50,
        "start_time": "2022-05-23T03:40:40.305Z"
      },
      {
        "duration": 43,
        "start_time": "2022-05-23T03:41:33.215Z"
      },
      {
        "duration": 18,
        "start_time": "2022-05-23T03:41:46.353Z"
      },
      {
        "duration": 4,
        "start_time": "2022-05-23T03:41:55.428Z"
      },
      {
        "duration": 13,
        "start_time": "2022-05-23T03:41:59.085Z"
      },
      {
        "duration": 19,
        "start_time": "2022-05-23T03:42:14.329Z"
      },
      {
        "duration": 27,
        "start_time": "2022-05-23T03:43:11.977Z"
      },
      {
        "duration": 7,
        "start_time": "2022-05-23T03:43:46.352Z"
      },
      {
        "duration": 5,
        "start_time": "2022-05-23T03:43:47.864Z"
      },
      {
        "duration": 4,
        "start_time": "2022-05-23T03:44:22.661Z"
      },
      {
        "duration": 7,
        "start_time": "2022-05-23T03:44:23.256Z"
      },
      {
        "duration": 5,
        "start_time": "2022-05-23T03:44:24.023Z"
      },
      {
        "duration": 6,
        "start_time": "2022-05-23T03:44:34.715Z"
      },
      {
        "duration": 3,
        "start_time": "2022-05-23T03:45:00.545Z"
      },
      {
        "duration": 27,
        "start_time": "2022-05-23T03:45:06.445Z"
      },
      {
        "duration": 17,
        "start_time": "2022-05-23T03:45:12.001Z"
      },
      {
        "duration": 155,
        "start_time": "2022-05-23T03:46:33.254Z"
      },
      {
        "duration": 123,
        "start_time": "2022-05-23T03:46:35.375Z"
      },
      {
        "duration": 7,
        "start_time": "2022-05-23T04:05:05.799Z"
      },
      {
        "duration": 19,
        "start_time": "2022-05-23T04:05:11.123Z"
      },
      {
        "duration": 124,
        "start_time": "2022-05-23T04:07:22.701Z"
      },
      {
        "duration": 6,
        "start_time": "2022-05-23T04:07:24.928Z"
      },
      {
        "duration": 15,
        "start_time": "2022-05-23T04:07:27.608Z"
      },
      {
        "duration": 4,
        "start_time": "2022-05-23T04:09:04.380Z"
      },
      {
        "duration": 17,
        "start_time": "2022-05-23T04:09:09.554Z"
      },
      {
        "duration": 9,
        "start_time": "2022-05-23T04:13:46.973Z"
      },
      {
        "duration": 17,
        "start_time": "2022-05-23T04:13:52.936Z"
      },
      {
        "duration": 15,
        "start_time": "2022-05-23T04:13:59.939Z"
      },
      {
        "duration": 16,
        "start_time": "2022-05-23T04:15:54.106Z"
      },
      {
        "duration": 56,
        "start_time": "2022-05-23T23:24:16.928Z"
      },
      {
        "duration": 1462,
        "start_time": "2022-05-23T23:24:22.482Z"
      },
      {
        "duration": 21,
        "start_time": "2022-05-23T23:24:23.946Z"
      },
      {
        "duration": 21,
        "start_time": "2022-05-23T23:24:23.969Z"
      },
      {
        "duration": 50,
        "start_time": "2022-05-23T23:24:23.992Z"
      },
      {
        "duration": 11,
        "start_time": "2022-05-23T23:24:24.044Z"
      },
      {
        "duration": 23,
        "start_time": "2022-05-23T23:24:24.057Z"
      },
      {
        "duration": 34,
        "start_time": "2022-05-23T23:24:24.082Z"
      },
      {
        "duration": 23,
        "start_time": "2022-05-23T23:24:24.117Z"
      },
      {
        "duration": 25,
        "start_time": "2022-05-23T23:24:24.141Z"
      },
      {
        "duration": 27,
        "start_time": "2022-05-23T23:24:24.169Z"
      },
      {
        "duration": 6,
        "start_time": "2022-05-23T23:24:24.197Z"
      },
      {
        "duration": 16,
        "start_time": "2022-05-23T23:24:24.205Z"
      },
      {
        "duration": 5,
        "start_time": "2022-05-23T23:24:24.227Z"
      },
      {
        "duration": 6,
        "start_time": "2022-05-23T23:24:24.234Z"
      },
      {
        "duration": 5,
        "start_time": "2022-05-23T23:24:24.242Z"
      },
      {
        "duration": 8,
        "start_time": "2022-05-23T23:24:24.249Z"
      },
      {
        "duration": 3,
        "start_time": "2022-05-23T23:24:24.259Z"
      },
      {
        "duration": 30,
        "start_time": "2022-05-23T23:24:24.264Z"
      },
      {
        "duration": 33,
        "start_time": "2022-05-23T23:24:24.296Z"
      },
      {
        "duration": 127,
        "start_time": "2022-05-23T23:24:24.331Z"
      },
      {
        "duration": 5,
        "start_time": "2022-05-23T23:24:24.460Z"
      },
      {
        "duration": 10639,
        "start_time": "2022-05-23T23:24:24.466Z"
      },
      {
        "duration": 5,
        "start_time": "2022-05-23T23:24:35.107Z"
      },
      {
        "duration": 11175,
        "start_time": "2022-05-23T23:24:35.113Z"
      },
      {
        "duration": 7,
        "start_time": "2022-05-23T23:24:46.290Z"
      },
      {
        "duration": 26670,
        "start_time": "2022-05-23T23:24:46.299Z"
      },
      {
        "duration": 56,
        "start_time": "2022-05-23T23:25:12.971Z"
      },
      {
        "duration": 27423,
        "start_time": "2022-05-23T23:25:13.031Z"
      },
      {
        "duration": 4,
        "start_time": "2022-05-23T23:25:40.455Z"
      },
      {
        "duration": 2567,
        "start_time": "2022-05-23T23:25:40.461Z"
      },
      {
        "duration": 96,
        "start_time": "2022-05-23T23:25:43.031Z"
      },
      {
        "duration": 2699,
        "start_time": "2022-05-23T23:25:43.129Z"
      },
      {
        "duration": 11893,
        "start_time": "2022-05-23T23:25:45.830Z"
      },
      {
        "duration": 11994,
        "start_time": "2022-05-23T23:25:57.724Z"
      },
      {
        "duration": 26035,
        "start_time": "2022-05-23T23:26:09.720Z"
      },
      {
        "duration": 24871,
        "start_time": "2022-05-23T23:26:35.756Z"
      },
      {
        "duration": 6,
        "start_time": "2022-05-23T23:27:00.629Z"
      },
      {
        "duration": 24,
        "start_time": "2022-05-23T23:27:00.637Z"
      },
      {
        "duration": 27,
        "start_time": "2022-05-23T23:27:00.663Z"
      },
      {
        "duration": 10211,
        "start_time": "2022-05-23T23:27:00.692Z"
      },
      {
        "duration": 10630,
        "start_time": "2022-05-23T23:27:10.904Z"
      },
      {
        "duration": 25027,
        "start_time": "2022-05-23T23:27:21.536Z"
      },
      {
        "duration": 25358,
        "start_time": "2022-05-23T23:27:46.565Z"
      },
      {
        "duration": 3,
        "start_time": "2022-05-23T23:28:11.927Z"
      },
      {
        "duration": 51,
        "start_time": "2022-05-23T23:28:11.932Z"
      },
      {
        "duration": 286,
        "start_time": "2022-05-23T23:28:11.985Z"
      },
      {
        "duration": 123,
        "start_time": "2022-05-23T23:28:12.274Z"
      },
      {
        "duration": 40,
        "start_time": "2022-05-23T23:29:24.476Z"
      },
      {
        "duration": 15,
        "start_time": "2022-05-23T23:29:31.919Z"
      },
      {
        "duration": 20,
        "start_time": "2022-05-23T23:30:01.418Z"
      },
      {
        "duration": 13,
        "start_time": "2022-05-23T23:32:18.262Z"
      },
      {
        "duration": 1371,
        "start_time": "2022-05-24T01:04:14.564Z"
      },
      {
        "duration": 21,
        "start_time": "2022-05-24T01:04:15.937Z"
      },
      {
        "duration": 12,
        "start_time": "2022-05-24T01:04:15.959Z"
      },
      {
        "duration": 61,
        "start_time": "2022-05-24T01:04:15.973Z"
      },
      {
        "duration": 12,
        "start_time": "2022-05-24T01:04:16.036Z"
      },
      {
        "duration": 4,
        "start_time": "2022-05-24T01:04:16.049Z"
      },
      {
        "duration": 14,
        "start_time": "2022-05-24T01:04:16.055Z"
      },
      {
        "duration": 11,
        "start_time": "2022-05-24T01:04:16.071Z"
      },
      {
        "duration": 54,
        "start_time": "2022-05-24T01:04:16.083Z"
      },
      {
        "duration": 6,
        "start_time": "2022-05-24T01:04:16.140Z"
      },
      {
        "duration": 7,
        "start_time": "2022-05-24T01:04:16.147Z"
      },
      {
        "duration": 7,
        "start_time": "2022-05-24T01:04:16.155Z"
      },
      {
        "duration": 6,
        "start_time": "2022-05-24T01:04:16.163Z"
      },
      {
        "duration": 6,
        "start_time": "2022-05-24T01:04:16.170Z"
      },
      {
        "duration": 11,
        "start_time": "2022-05-24T01:04:16.178Z"
      },
      {
        "duration": 8,
        "start_time": "2022-05-24T01:04:16.191Z"
      },
      {
        "duration": 165,
        "start_time": "2022-05-24T01:04:16.201Z"
      },
      {
        "duration": 0,
        "start_time": "2022-05-24T01:04:16.369Z"
      },
      {
        "duration": 0,
        "start_time": "2022-05-24T01:04:16.371Z"
      },
      {
        "duration": 0,
        "start_time": "2022-05-24T01:04:16.372Z"
      },
      {
        "duration": 0,
        "start_time": "2022-05-24T01:04:16.373Z"
      },
      {
        "duration": 0,
        "start_time": "2022-05-24T01:04:16.374Z"
      },
      {
        "duration": 0,
        "start_time": "2022-05-24T01:04:16.375Z"
      },
      {
        "duration": 0,
        "start_time": "2022-05-24T01:04:16.376Z"
      },
      {
        "duration": 0,
        "start_time": "2022-05-24T01:04:16.377Z"
      },
      {
        "duration": 0,
        "start_time": "2022-05-24T01:04:16.378Z"
      },
      {
        "duration": 0,
        "start_time": "2022-05-24T01:04:16.379Z"
      },
      {
        "duration": 0,
        "start_time": "2022-05-24T01:04:16.380Z"
      },
      {
        "duration": 0,
        "start_time": "2022-05-24T01:04:16.382Z"
      },
      {
        "duration": 0,
        "start_time": "2022-05-24T01:04:16.383Z"
      },
      {
        "duration": 0,
        "start_time": "2022-05-24T01:04:16.384Z"
      },
      {
        "duration": 0,
        "start_time": "2022-05-24T01:04:16.385Z"
      },
      {
        "duration": 0,
        "start_time": "2022-05-24T01:04:16.387Z"
      },
      {
        "duration": 0,
        "start_time": "2022-05-24T01:04:16.388Z"
      },
      {
        "duration": 0,
        "start_time": "2022-05-24T01:04:16.388Z"
      },
      {
        "duration": 0,
        "start_time": "2022-05-24T01:04:16.427Z"
      },
      {
        "duration": 0,
        "start_time": "2022-05-24T01:04:16.429Z"
      },
      {
        "duration": 0,
        "start_time": "2022-05-24T01:04:16.430Z"
      },
      {
        "duration": 0,
        "start_time": "2022-05-24T01:04:16.431Z"
      },
      {
        "duration": 1,
        "start_time": "2022-05-24T01:04:16.431Z"
      },
      {
        "duration": 0,
        "start_time": "2022-05-24T01:04:16.433Z"
      },
      {
        "duration": 0,
        "start_time": "2022-05-24T01:04:16.434Z"
      },
      {
        "duration": 0,
        "start_time": "2022-05-24T01:04:16.435Z"
      },
      {
        "duration": 0,
        "start_time": "2022-05-24T01:04:16.436Z"
      },
      {
        "duration": 0,
        "start_time": "2022-05-24T01:04:16.437Z"
      },
      {
        "duration": 1355,
        "start_time": "2022-05-24T01:04:45.950Z"
      },
      {
        "duration": 21,
        "start_time": "2022-05-24T01:04:47.307Z"
      },
      {
        "duration": 11,
        "start_time": "2022-05-24T01:04:47.330Z"
      },
      {
        "duration": 42,
        "start_time": "2022-05-24T01:04:47.344Z"
      },
      {
        "duration": 11,
        "start_time": "2022-05-24T01:04:47.387Z"
      },
      {
        "duration": 3,
        "start_time": "2022-05-24T01:04:47.400Z"
      },
      {
        "duration": 29,
        "start_time": "2022-05-24T01:04:47.405Z"
      },
      {
        "duration": 13,
        "start_time": "2022-05-24T01:04:47.435Z"
      },
      {
        "duration": 24,
        "start_time": "2022-05-24T01:04:47.449Z"
      },
      {
        "duration": 6,
        "start_time": "2022-05-24T01:04:47.476Z"
      },
      {
        "duration": 15,
        "start_time": "2022-05-24T01:04:47.483Z"
      },
      {
        "duration": 3,
        "start_time": "2022-05-24T01:04:47.527Z"
      },
      {
        "duration": 11,
        "start_time": "2022-05-24T01:04:47.531Z"
      },
      {
        "duration": 11,
        "start_time": "2022-05-24T01:04:47.543Z"
      },
      {
        "duration": 12,
        "start_time": "2022-05-24T01:04:47.555Z"
      },
      {
        "duration": 7,
        "start_time": "2022-05-24T01:04:47.568Z"
      },
      {
        "duration": 23,
        "start_time": "2022-05-24T01:04:47.576Z"
      },
      {
        "duration": 6,
        "start_time": "2022-05-24T01:04:47.601Z"
      },
      {
        "duration": 138,
        "start_time": "2022-05-24T01:04:47.608Z"
      },
      {
        "duration": 5,
        "start_time": "2022-05-24T01:04:47.748Z"
      },
      {
        "duration": 8796,
        "start_time": "2022-05-24T01:04:47.754Z"
      },
      {
        "duration": 5,
        "start_time": "2022-05-24T01:04:56.558Z"
      },
      {
        "duration": 8880,
        "start_time": "2022-05-24T01:04:56.565Z"
      },
      {
        "duration": 5,
        "start_time": "2022-05-24T01:05:05.447Z"
      },
      {
        "duration": 23948,
        "start_time": "2022-05-24T01:05:05.453Z"
      },
      {
        "duration": 5,
        "start_time": "2022-05-24T01:05:29.403Z"
      },
      {
        "duration": 326,
        "start_time": "2022-05-24T01:05:29.409Z"
      },
      {
        "duration": 5,
        "start_time": "2022-05-24T01:05:29.738Z"
      },
      {
        "duration": 2990,
        "start_time": "2022-05-24T01:05:29.744Z"
      },
      {
        "duration": 94,
        "start_time": "2022-05-24T01:05:32.736Z"
      },
      {
        "duration": 303,
        "start_time": "2022-05-24T01:05:32.832Z"
      },
      {
        "duration": 9584,
        "start_time": "2022-05-24T01:05:33.136Z"
      },
      {
        "duration": 9555,
        "start_time": "2022-05-24T01:05:42.722Z"
      },
      {
        "duration": 23427,
        "start_time": "2022-05-24T01:05:52.279Z"
      },
      {
        "duration": 1260,
        "start_time": "2022-05-24T01:06:17.382Z"
      },
      {
        "duration": 21,
        "start_time": "2022-05-24T01:06:18.644Z"
      },
      {
        "duration": 12,
        "start_time": "2022-05-24T01:06:18.666Z"
      },
      {
        "duration": 55,
        "start_time": "2022-05-24T01:06:18.680Z"
      },
      {
        "duration": 11,
        "start_time": "2022-05-24T01:06:18.737Z"
      },
      {
        "duration": 4,
        "start_time": "2022-05-24T01:06:18.749Z"
      },
      {
        "duration": 25,
        "start_time": "2022-05-24T01:06:18.754Z"
      },
      {
        "duration": 12,
        "start_time": "2022-05-24T01:06:18.781Z"
      },
      {
        "duration": 42,
        "start_time": "2022-05-24T01:06:18.794Z"
      },
      {
        "duration": 6,
        "start_time": "2022-05-24T01:06:18.839Z"
      },
      {
        "duration": 8,
        "start_time": "2022-05-24T01:06:18.847Z"
      },
      {
        "duration": 9,
        "start_time": "2022-05-24T01:06:18.856Z"
      },
      {
        "duration": 10,
        "start_time": "2022-05-24T01:06:18.866Z"
      },
      {
        "duration": 10,
        "start_time": "2022-05-24T01:06:18.878Z"
      },
      {
        "duration": 10,
        "start_time": "2022-05-24T01:06:18.889Z"
      },
      {
        "duration": 6,
        "start_time": "2022-05-24T01:06:18.901Z"
      },
      {
        "duration": 30,
        "start_time": "2022-05-24T01:06:18.909Z"
      },
      {
        "duration": 6,
        "start_time": "2022-05-24T01:06:18.940Z"
      },
      {
        "duration": 127,
        "start_time": "2022-05-24T01:06:18.948Z"
      },
      {
        "duration": 5,
        "start_time": "2022-05-24T01:06:19.077Z"
      },
      {
        "duration": 8819,
        "start_time": "2022-05-24T01:06:19.083Z"
      },
      {
        "duration": 5,
        "start_time": "2022-05-24T01:06:27.904Z"
      },
      {
        "duration": 8795,
        "start_time": "2022-05-24T01:06:27.910Z"
      },
      {
        "duration": 6,
        "start_time": "2022-05-24T01:06:36.707Z"
      },
      {
        "duration": 22887,
        "start_time": "2022-05-24T01:06:36.714Z"
      },
      {
        "duration": 6,
        "start_time": "2022-05-24T01:06:59.602Z"
      },
      {
        "duration": 24241,
        "start_time": "2022-05-24T01:06:59.609Z"
      },
      {
        "duration": 4,
        "start_time": "2022-05-24T01:07:23.853Z"
      },
      {
        "duration": 2771,
        "start_time": "2022-05-24T01:07:23.858Z"
      },
      {
        "duration": 96,
        "start_time": "2022-05-24T01:07:26.631Z"
      },
      {
        "duration": 510,
        "start_time": "2022-05-24T01:07:26.730Z"
      },
      {
        "duration": 9419,
        "start_time": "2022-05-24T01:07:27.243Z"
      },
      {
        "duration": 9361,
        "start_time": "2022-05-24T01:07:36.664Z"
      },
      {
        "duration": 23433,
        "start_time": "2022-05-24T01:07:46.027Z"
      },
      {
        "duration": 5,
        "start_time": "2022-05-24T01:09:35.912Z"
      },
      {
        "duration": 2708,
        "start_time": "2022-05-24T01:09:35.918Z"
      },
      {
        "duration": 9476,
        "start_time": "2022-05-24T01:09:38.629Z"
      },
      {
        "duration": 9746,
        "start_time": "2022-05-24T01:09:48.106Z"
      },
      {
        "duration": 23327,
        "start_time": "2022-05-24T01:09:57.855Z"
      },
      {
        "duration": 22658,
        "start_time": "2022-05-24T01:10:21.184Z"
      },
      {
        "duration": 5,
        "start_time": "2022-05-24T01:10:43.844Z"
      },
      {
        "duration": 20,
        "start_time": "2022-05-24T01:10:43.851Z"
      },
      {
        "duration": 35,
        "start_time": "2022-05-24T01:10:43.872Z"
      },
      {
        "duration": 8433,
        "start_time": "2022-05-24T01:10:43.909Z"
      },
      {
        "duration": 8392,
        "start_time": "2022-05-24T01:10:52.344Z"
      },
      {
        "duration": 23068,
        "start_time": "2022-05-24T01:11:00.738Z"
      },
      {
        "duration": 23253,
        "start_time": "2022-05-24T01:11:23.808Z"
      },
      {
        "duration": 4,
        "start_time": "2022-05-24T01:11:47.063Z"
      },
      {
        "duration": 83,
        "start_time": "2022-05-24T01:11:47.068Z"
      },
      {
        "duration": 258,
        "start_time": "2022-05-24T01:11:47.152Z"
      },
      {
        "duration": 21,
        "start_time": "2022-05-24T01:12:23.701Z"
      },
      {
        "duration": 55,
        "start_time": "2022-05-24T01:13:01.801Z"
      },
      {
        "duration": 258,
        "start_time": "2022-05-24T01:13:14.582Z"
      }
    ],
    "kernelspec": {
      "display_name": "Python 3 (ipykernel)",
      "language": "python",
      "name": "python3"
    },
    "language_info": {
      "codemirror_mode": {
        "name": "ipython",
        "version": 3
      },
      "file_extension": ".py",
      "mimetype": "text/x-python",
      "name": "python",
      "nbconvert_exporter": "python",
      "pygments_lexer": "ipython3",
      "version": "3.9.5"
    },
    "toc": {
      "base_numbering": 1,
      "nav_menu": {},
      "number_sections": true,
      "sideBar": true,
      "skip_h1_title": true,
      "title_cell": "Содержание",
      "title_sidebar": "Contents",
      "toc_cell": true,
      "toc_position": {
        "height": "calc(100% - 180px)",
        "left": "10px",
        "top": "150px",
        "width": "298.383px"
      },
      "toc_section_display": true,
      "toc_window_display": true
    },
    "colab": {
      "provenance": []
    }
  },
  "nbformat": 4,
  "nbformat_minor": 0
}