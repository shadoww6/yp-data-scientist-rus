{
  "cells": [
    {
      "cell_type": "markdown",
      "source": [
        "\n",
        "❗ Оставлены рекомандации ревьюера\n"
      ],
      "metadata": {
        "id": "THbygOM65DCC"
      }
    },
    {
      "cell_type": "markdown",
      "metadata": {
        "id": "WVMIiBEM4nxg"
      },
      "source": [
        "# Защита персональных данных клиентов"
      ]
    },
    {
      "cell_type": "markdown",
      "metadata": {
        "id": "CYyb21M-4nxh"
      },
      "source": [
        "Нужно защитить данные клиентов страховой компании «Хоть потоп». Нужно разработать такой метод преобразования данных, чтобы по ним было сложно восстановить персональную информацию. Кроме того, нужно корректность его работы.\n",
        "\n",
        "Нужно защитить данные, чтобы при преобразовании качество моделей машинного обучения не ухудшилось. Подбирать наилучшую модель не требуется."
      ]
    },
    {
      "cell_type": "markdown",
      "metadata": {
        "toc": true,
        "id": "_gtTv75O4nxf"
      },
      "source": [
        "<h1>Содержание<span class=\"tocSkip\"></span></h1>\n",
        "<div class=\"toc\"><ul class=\"toc-item\"><li><span><a href=\"#Загрузка-данных\" data-toc-modified-id=\"Загрузка-данных-1\"><span class=\"toc-item-num\">1&nbsp;&nbsp;</span>Загрузка данных</a></span></li><li><span><a href=\"#Умножение-матриц\" data-toc-modified-id=\"Умножение-матриц-2\"><span class=\"toc-item-num\">2&nbsp;&nbsp;</span>Умножение матриц</a></span><ul class=\"toc-item\"><li><span><a href=\"#Признаки-умножают-на-обратимую-матрицу.-Изменится-ли-качество-линейной-регрессии?\" data-toc-modified-id=\"Признаки-умножают-на-обратимую-матрицу.-Изменится-ли-качество-линейной-регрессии?-2.1\"><span class=\"toc-item-num\">2.1&nbsp;&nbsp;</span>Признаки умножают на обратимую матрицу. Изменится ли качество линейной регрессии?</a></span></li><li><span><a href=\"#Вывод\" data-toc-modified-id=\"Вывод-2.2\"><span class=\"toc-item-num\">2.2&nbsp;&nbsp;</span>Вывод</a></span></li></ul></li><li><span><a href=\"#Алгоритм-преобразования\" data-toc-modified-id=\"Алгоритм-преобразования-3\"><span class=\"toc-item-num\">3&nbsp;&nbsp;</span>Алгоритм преобразования</a></span></li><li><span><a href=\"#Проверка-алгоритма\" data-toc-modified-id=\"Проверка-алгоритма-4\"><span class=\"toc-item-num\">4&nbsp;&nbsp;</span>Проверка алгоритма</a></span><ul class=\"toc-item\"><li><span><a href=\"#Вывод\" data-toc-modified-id=\"Вывод-4.1\"><span class=\"toc-item-num\">4.1&nbsp;&nbsp;</span>Вывод</a></span></li></ul></li><li><span><a href=\"#Чек-лист-проверки\" data-toc-modified-id=\"Чек-лист-проверки-5\"><span class=\"toc-item-num\">5&nbsp;&nbsp;</span>Чек-лист проверки</a></span></li></ul></div>"
      ]
    },
    {
      "cell_type": "markdown",
      "metadata": {
        "id": "MaI-eIfa4nxi"
      },
      "source": [
        "## Загрузка данных"
      ]
    },
    {
      "cell_type": "code",
      "execution_count": null,
      "metadata": {
        "id": "h0b0tRKS4nxi"
      },
      "outputs": [],
      "source": [
        "import pandas as pd\n",
        "import sklearn\n",
        "import numpy as np\n",
        "\n",
        "from sklearn.linear_model import LinearRegression\n",
        "from sklearn.metrics import r2_score"
      ]
    },
    {
      "cell_type": "markdown",
      "metadata": {
        "id": "NLW2CEnX4nxj"
      },
      "source": [
        "<div class=\"alert alert-success\">\n",
        "<b>✔️ Комментарий ревьювера:</b> Необходимые библиотеки импортированы, ничего лишнего.\n",
        "    \n",
        "</div>"
      ]
    },
    {
      "cell_type": "code",
      "execution_count": null,
      "metadata": {
        "id": "2KiIKp0j4nxj"
      },
      "outputs": [],
      "source": [
        "try:\n",
        "    df = pd.read_csv('/datasets/insurance.csv')\n",
        "except:\n",
        "    df = pd.read_csv('C:\\\\Users\\\\HARD_REBOOT\\\\Downloads\\\\insurance.csv')"
      ]
    },
    {
      "cell_type": "code",
      "execution_count": null,
      "metadata": {
        "id": "FilgYodF4nxk",
        "outputId": "e6ecdfd5-24db-41a4-b751-5f69266f41ac"
      },
      "outputs": [
        {
          "data": {
            "text/html": [
              "<div>\n",
              "<style scoped>\n",
              "    .dataframe tbody tr th:only-of-type {\n",
              "        vertical-align: middle;\n",
              "    }\n",
              "\n",
              "    .dataframe tbody tr th {\n",
              "        vertical-align: top;\n",
              "    }\n",
              "\n",
              "    .dataframe thead th {\n",
              "        text-align: right;\n",
              "    }\n",
              "</style>\n",
              "<table border=\"1\" class=\"dataframe\">\n",
              "  <thead>\n",
              "    <tr style=\"text-align: right;\">\n",
              "      <th></th>\n",
              "      <th>Пол</th>\n",
              "      <th>Возраст</th>\n",
              "      <th>Зарплата</th>\n",
              "      <th>Члены семьи</th>\n",
              "      <th>Страховые выплаты</th>\n",
              "    </tr>\n",
              "  </thead>\n",
              "  <tbody>\n",
              "    <tr>\n",
              "      <th>0</th>\n",
              "      <td>1</td>\n",
              "      <td>41.0</td>\n",
              "      <td>49600.0</td>\n",
              "      <td>1</td>\n",
              "      <td>0</td>\n",
              "    </tr>\n",
              "    <tr>\n",
              "      <th>1</th>\n",
              "      <td>0</td>\n",
              "      <td>46.0</td>\n",
              "      <td>38000.0</td>\n",
              "      <td>1</td>\n",
              "      <td>1</td>\n",
              "    </tr>\n",
              "    <tr>\n",
              "      <th>2</th>\n",
              "      <td>0</td>\n",
              "      <td>29.0</td>\n",
              "      <td>21000.0</td>\n",
              "      <td>0</td>\n",
              "      <td>0</td>\n",
              "    </tr>\n",
              "    <tr>\n",
              "      <th>3</th>\n",
              "      <td>0</td>\n",
              "      <td>21.0</td>\n",
              "      <td>41700.0</td>\n",
              "      <td>2</td>\n",
              "      <td>0</td>\n",
              "    </tr>\n",
              "    <tr>\n",
              "      <th>4</th>\n",
              "      <td>1</td>\n",
              "      <td>28.0</td>\n",
              "      <td>26100.0</td>\n",
              "      <td>0</td>\n",
              "      <td>0</td>\n",
              "    </tr>\n",
              "    <tr>\n",
              "      <th>5</th>\n",
              "      <td>1</td>\n",
              "      <td>43.0</td>\n",
              "      <td>41000.0</td>\n",
              "      <td>2</td>\n",
              "      <td>1</td>\n",
              "    </tr>\n",
              "    <tr>\n",
              "      <th>6</th>\n",
              "      <td>1</td>\n",
              "      <td>39.0</td>\n",
              "      <td>39700.0</td>\n",
              "      <td>2</td>\n",
              "      <td>0</td>\n",
              "    </tr>\n",
              "    <tr>\n",
              "      <th>7</th>\n",
              "      <td>1</td>\n",
              "      <td>25.0</td>\n",
              "      <td>38600.0</td>\n",
              "      <td>4</td>\n",
              "      <td>0</td>\n",
              "    </tr>\n",
              "    <tr>\n",
              "      <th>8</th>\n",
              "      <td>1</td>\n",
              "      <td>36.0</td>\n",
              "      <td>49700.0</td>\n",
              "      <td>1</td>\n",
              "      <td>0</td>\n",
              "    </tr>\n",
              "    <tr>\n",
              "      <th>9</th>\n",
              "      <td>1</td>\n",
              "      <td>32.0</td>\n",
              "      <td>51700.0</td>\n",
              "      <td>1</td>\n",
              "      <td>0</td>\n",
              "    </tr>\n",
              "  </tbody>\n",
              "</table>\n",
              "</div>"
            ],
            "text/plain": [
              "   Пол  Возраст  Зарплата  Члены семьи  Страховые выплаты\n",
              "0    1     41.0   49600.0            1                  0\n",
              "1    0     46.0   38000.0            1                  1\n",
              "2    0     29.0   21000.0            0                  0\n",
              "3    0     21.0   41700.0            2                  0\n",
              "4    1     28.0   26100.0            0                  0\n",
              "5    1     43.0   41000.0            2                  1\n",
              "6    1     39.0   39700.0            2                  0\n",
              "7    1     25.0   38600.0            4                  0\n",
              "8    1     36.0   49700.0            1                  0\n",
              "9    1     32.0   51700.0            1                  0"
            ]
          },
          "execution_count": 3,
          "metadata": {},
          "output_type": "execute_result"
        }
      ],
      "source": [
        "df.head(10)"
      ]
    },
    {
      "cell_type": "markdown",
      "metadata": {
        "id": "XGz6XI2Y4nxl"
      },
      "source": [
        "* Признаки: пол, возраст и зарплата застрахованного, количество членов его семьи.\n",
        "* Целевой признак: количество страховых выплат клиенту за последние 5 лет."
      ]
    },
    {
      "cell_type": "code",
      "execution_count": null,
      "metadata": {
        "scrolled": true,
        "id": "3LBfuGlF4nxl",
        "outputId": "9d84d525-eb3c-4386-d6f7-b2814dd701e0"
      },
      "outputs": [
        {
          "data": {
            "text/html": [
              "<div>\n",
              "<style scoped>\n",
              "    .dataframe tbody tr th:only-of-type {\n",
              "        vertical-align: middle;\n",
              "    }\n",
              "\n",
              "    .dataframe tbody tr th {\n",
              "        vertical-align: top;\n",
              "    }\n",
              "\n",
              "    .dataframe thead th {\n",
              "        text-align: right;\n",
              "    }\n",
              "</style>\n",
              "<table border=\"1\" class=\"dataframe\">\n",
              "  <thead>\n",
              "    <tr style=\"text-align: right;\">\n",
              "      <th></th>\n",
              "      <th>Пол</th>\n",
              "      <th>Возраст</th>\n",
              "      <th>Зарплата</th>\n",
              "      <th>Члены семьи</th>\n",
              "      <th>Страховые выплаты</th>\n",
              "    </tr>\n",
              "  </thead>\n",
              "  <tbody>\n",
              "    <tr>\n",
              "      <th>count</th>\n",
              "      <td>5000.000000</td>\n",
              "      <td>5000.000000</td>\n",
              "      <td>5000.000000</td>\n",
              "      <td>5000.000000</td>\n",
              "      <td>5000.000000</td>\n",
              "    </tr>\n",
              "    <tr>\n",
              "      <th>mean</th>\n",
              "      <td>0.499000</td>\n",
              "      <td>30.952800</td>\n",
              "      <td>39916.360000</td>\n",
              "      <td>1.194200</td>\n",
              "      <td>0.148000</td>\n",
              "    </tr>\n",
              "    <tr>\n",
              "      <th>std</th>\n",
              "      <td>0.500049</td>\n",
              "      <td>8.440807</td>\n",
              "      <td>9900.083569</td>\n",
              "      <td>1.091387</td>\n",
              "      <td>0.463183</td>\n",
              "    </tr>\n",
              "    <tr>\n",
              "      <th>min</th>\n",
              "      <td>0.000000</td>\n",
              "      <td>18.000000</td>\n",
              "      <td>5300.000000</td>\n",
              "      <td>0.000000</td>\n",
              "      <td>0.000000</td>\n",
              "    </tr>\n",
              "    <tr>\n",
              "      <th>25%</th>\n",
              "      <td>0.000000</td>\n",
              "      <td>24.000000</td>\n",
              "      <td>33300.000000</td>\n",
              "      <td>0.000000</td>\n",
              "      <td>0.000000</td>\n",
              "    </tr>\n",
              "    <tr>\n",
              "      <th>50%</th>\n",
              "      <td>0.000000</td>\n",
              "      <td>30.000000</td>\n",
              "      <td>40200.000000</td>\n",
              "      <td>1.000000</td>\n",
              "      <td>0.000000</td>\n",
              "    </tr>\n",
              "    <tr>\n",
              "      <th>75%</th>\n",
              "      <td>1.000000</td>\n",
              "      <td>37.000000</td>\n",
              "      <td>46600.000000</td>\n",
              "      <td>2.000000</td>\n",
              "      <td>0.000000</td>\n",
              "    </tr>\n",
              "    <tr>\n",
              "      <th>max</th>\n",
              "      <td>1.000000</td>\n",
              "      <td>65.000000</td>\n",
              "      <td>79000.000000</td>\n",
              "      <td>6.000000</td>\n",
              "      <td>5.000000</td>\n",
              "    </tr>\n",
              "  </tbody>\n",
              "</table>\n",
              "</div>"
            ],
            "text/plain": [
              "               Пол      Возраст      Зарплата  Члены семьи  Страховые выплаты\n",
              "count  5000.000000  5000.000000   5000.000000  5000.000000        5000.000000\n",
              "mean      0.499000    30.952800  39916.360000     1.194200           0.148000\n",
              "std       0.500049     8.440807   9900.083569     1.091387           0.463183\n",
              "min       0.000000    18.000000   5300.000000     0.000000           0.000000\n",
              "25%       0.000000    24.000000  33300.000000     0.000000           0.000000\n",
              "50%       0.000000    30.000000  40200.000000     1.000000           0.000000\n",
              "75%       1.000000    37.000000  46600.000000     2.000000           0.000000\n",
              "max       1.000000    65.000000  79000.000000     6.000000           5.000000"
            ]
          },
          "execution_count": 4,
          "metadata": {},
          "output_type": "execute_result"
        }
      ],
      "source": [
        "df.describe()"
      ]
    },
    {
      "cell_type": "code",
      "execution_count": null,
      "metadata": {
        "id": "cn0ED7_T4nxl",
        "outputId": "7a745f80-6be0-4bfc-888d-3e19067ce4ad"
      },
      "outputs": [
        {
          "name": "stdout",
          "output_type": "stream",
          "text": [
            "<class 'pandas.core.frame.DataFrame'>\n",
            "RangeIndex: 5000 entries, 0 to 4999\n",
            "Data columns (total 5 columns):\n",
            " #   Column             Non-Null Count  Dtype  \n",
            "---  ------             --------------  -----  \n",
            " 0   Пол                5000 non-null   int64  \n",
            " 1   Возраст            5000 non-null   float64\n",
            " 2   Зарплата           5000 non-null   float64\n",
            " 3   Члены семьи        5000 non-null   int64  \n",
            " 4   Страховые выплаты  5000 non-null   int64  \n",
            "dtypes: float64(2), int64(3)\n",
            "memory usage: 195.4 KB\n"
          ]
        }
      ],
      "source": [
        "df.info()"
      ]
    },
    {
      "cell_type": "markdown",
      "metadata": {
        "id": "S2N126Nn4nxm"
      },
      "source": [
        "Данные выглядят адекватно и в обработке не нуждаются. Очевидно странных выбросов, к примеру, слишком маленького/большого возраста, неадекватно высоких зарплат и семей в 50 человек не видно, поэтому не будем избавляться от остальных выбивающихся значений, пусть модель учится их обрабатывать."
      ]
    },
    {
      "cell_type": "markdown",
      "metadata": {
        "id": "FJG75tnA4nxm"
      },
      "source": [
        "## Умножение матриц"
      ]
    },
    {
      "cell_type": "markdown",
      "metadata": {
        "id": "qkIZgSmO4nxn"
      },
      "source": [
        "Обозначения:\n",
        "\n",
        "- $X$ — матрица признаков (нулевой столбец состоит из единиц)\n",
        "\n",
        "- $y$ — вектор целевого признака\n",
        "\n",
        "- $P$ — матрица, на которую умножаются признаки\n",
        "\n",
        "- $w$ — вектор весов линейной регрессии (нулевой элемент равен сдвигу)"
      ]
    },
    {
      "cell_type": "markdown",
      "metadata": {
        "id": "GxKcvaiu4nxn"
      },
      "source": [
        "Предсказания:\n",
        "\n",
        "$$\n",
        "a = Xw\n",
        "$$\n",
        "\n",
        "Задача обучения:\n",
        "\n",
        "$$\n",
        "w = \\arg\\min_w MSE(Xw, y)\n",
        "$$\n",
        "\n",
        "Формула обучения:\n",
        "\n",
        "$$\n",
        "w = (X^T X)^{-1} X^T y\n",
        "$$"
      ]
    },
    {
      "cell_type": "markdown",
      "metadata": {
        "id": "k6fKtdzx4nxn"
      },
      "source": [
        "### Признаки умножают на обратимую матрицу. Изменится ли качество линейной регрессии?"
      ]
    },
    {
      "cell_type": "markdown",
      "metadata": {
        "id": "W6TOQ6AN4nxn"
      },
      "source": [
        "**Ответ:** Не изменится\n",
        "\n",
        "**Обоснование:**\n",
        "\n",
        "1. Подставляем в формулу обучения вместо матрицы X произведение XM, где M — обратимая квадратная матрица со случайными числами:\n",
        "  \n",
        "$$\n",
        "w_m = ((XM)^T XM)^{-1} (XM)^T y\n",
        "$$\n",
        "  \n",
        "2. Преобразуем выражение, используя правила матричного умножения $ (AB)^T = B^T A^T $ и $ (AB)^{-1} = B^{-1} A^{-1} $ :\n",
        "  \n",
        "$$\n",
        "w_m = (X^TM^T XM)^{-1} X^TM^T y\n",
        "$$\n",
        "\n",
        "3. M — обратимая матрица, следовательно, $ (M^T)^{-1}M^T $ даёт единичную матрицу. Умножение матрицы на обратную матрицу равно единичной матрице, а умножение любой матрицы на единичную равно этой самой матрице, поэтому снова можем преобразовать выражение:\n",
        "\n",
        "$$\n",
        "w_m = M^{-1} (X^TX)^{-1}X^Ty\n",
        "$$\n",
        "\n",
        "4. Снова преобразуем выражение, т.к. вторая его часть — это формула обучения:\n",
        "\n",
        "$$\n",
        "w_m = M^{-1}w\n",
        "$$\n",
        "\n",
        "5. Подставим теперь $ w_m $ в формулу предсказания (матрицу тоже меняем на M):\n",
        "\n",
        "$$\n",
        "a_m = XMM^{-1}w\n",
        "$$\n",
        "\n",
        "5. $MM^{-1}$ — снова единичная матрица, умножение на неё равно умножаемой матрице. Преобразовываем выражение:\n",
        "\n",
        "$$\n",
        "a_m = Xw\n",
        "$$\n",
        "\n",
        "6. Следовательно $a_m = a$, что и требовалось доказать"
      ]
    },
    {
      "cell_type": "markdown",
      "metadata": {
        "id": "HjJ9vSzv4nxo"
      },
      "source": [
        "### Вывод"
      ]
    },
    {
      "cell_type": "markdown",
      "metadata": {
        "id": "PFReNJxy4nxo"
      },
      "source": [
        "Мы доказали, что при умножении матрицы признаков на некую обратимую матрицу предсказания модели останутся такими же, как при исходной матрице."
      ]
    },
    {
      "cell_type": "markdown",
      "metadata": {
        "id": "94gjYX0H4nxo"
      },
      "source": [
        "## Алгоритм преобразования"
      ]
    },
    {
      "cell_type": "markdown",
      "metadata": {
        "id": "exL8bYo74nxo"
      },
      "source": [
        "**Алгоритм**\n",
        "\n",
        "1. Выделим из исходных данных признаки: целевой и фичи\n",
        "2. Создадим обратимую квадратную матрицу со случайными числами размерностью 4x4, т.к. у нас 4 признака\n",
        "3. Шифруем фичи способом умножения на обратимую матрицу"
      ]
    },
    {
      "cell_type": "markdown",
      "metadata": {
        "id": "R5G1HT-b4nxp"
      },
      "source": [
        "<div class=\"alert alert-success\">\n",
        "<b>✔️ Комментарий ревьювера:</b> Можно добавить пункт 4 — сравнение метрик r2.\n",
        "\n",
        "</div>"
      ]
    },
    {
      "cell_type": "code",
      "execution_count": null,
      "metadata": {
        "id": "OsIPBZmL4nxp"
      },
      "outputs": [],
      "source": [
        "features = df.drop('Страховые выплаты', axis=1)\n",
        "target = df['Страховые выплаты']"
      ]
    },
    {
      "cell_type": "code",
      "execution_count": null,
      "metadata": {
        "id": "82heCcl14nxp"
      },
      "outputs": [],
      "source": [
        "random_matrix = np.random.normal(0, 1, size=(4, 4))"
      ]
    },
    {
      "cell_type": "markdown",
      "metadata": {
        "id": "yhK-mXhC4nxp"
      },
      "source": [
        "Проверим, что матрица обратима"
      ]
    },
    {
      "cell_type": "code",
      "execution_count": null,
      "metadata": {
        "id": "BPxBS8r74nxq",
        "outputId": "a6732d1a-0b38-4cd0-a01f-fd163de67317"
      },
      "outputs": [
        {
          "data": {
            "text/plain": [
              "array([[-0.15322401, -0.61505429, -0.49127374, -0.40116523],\n",
              "       [-0.72399782, -0.02741325, -1.38618345, -1.12388088],\n",
              "       [ 0.62931673,  0.05228831, -0.00399652,  0.39646498],\n",
              "       [ 0.28265313,  0.00805019,  0.08182665, -0.6066265 ]])"
            ]
          },
          "execution_count": 8,
          "metadata": {},
          "output_type": "execute_result"
        }
      ],
      "source": [
        "np.linalg.inv(random_matrix)"
      ]
    },
    {
      "cell_type": "code",
      "execution_count": null,
      "metadata": {
        "id": "j40xpT_F4nxq"
      },
      "outputs": [],
      "source": [
        "encrypted_features = features.dot(random_matrix)"
      ]
    },
    {
      "cell_type": "code",
      "execution_count": null,
      "metadata": {
        "scrolled": true,
        "id": "C3P-AtTB4nxq",
        "outputId": "bb2b262e-213e-4679-f754-ffa083e9a18e"
      },
      "outputs": [
        {
          "data": {
            "text/html": [
              "<div>\n",
              "<style scoped>\n",
              "    .dataframe tbody tr th:only-of-type {\n",
              "        vertical-align: middle;\n",
              "    }\n",
              "\n",
              "    .dataframe tbody tr th {\n",
              "        vertical-align: top;\n",
              "    }\n",
              "\n",
              "    .dataframe thead th {\n",
              "        text-align: right;\n",
              "    }\n",
              "</style>\n",
              "<table border=\"1\" class=\"dataframe\">\n",
              "  <thead>\n",
              "    <tr style=\"text-align: right;\">\n",
              "      <th></th>\n",
              "      <th>0</th>\n",
              "      <th>1</th>\n",
              "      <th>2</th>\n",
              "      <th>3</th>\n",
              "    </tr>\n",
              "  </thead>\n",
              "  <tbody>\n",
              "    <tr>\n",
              "      <th>0</th>\n",
              "      <td>-2606.719711</td>\n",
              "      <td>-32991.911545</td>\n",
              "      <td>-51652.988082</td>\n",
              "      <td>29087.261044</td>\n",
              "    </tr>\n",
              "    <tr>\n",
              "      <th>1</th>\n",
              "      <td>-2020.974948</td>\n",
              "      <td>-25267.535263</td>\n",
              "      <td>-39570.576352</td>\n",
              "      <td>22285.701593</td>\n",
              "    </tr>\n",
              "    <tr>\n",
              "      <th>2</th>\n",
              "      <td>-1122.709647</td>\n",
              "      <td>-13961.496163</td>\n",
              "      <td>-21867.430325</td>\n",
              "      <td>12316.937179</td>\n",
              "    </tr>\n",
              "    <tr>\n",
              "      <th>3</th>\n",
              "      <td>-2169.624470</td>\n",
              "      <td>-27745.135428</td>\n",
              "      <td>-43429.450271</td>\n",
              "      <td>24450.546236</td>\n",
              "    </tr>\n",
              "    <tr>\n",
              "      <th>4</th>\n",
              "      <td>-1382.124394</td>\n",
              "      <td>-17356.856852</td>\n",
              "      <td>-27178.551258</td>\n",
              "      <td>15307.864411</td>\n",
              "    </tr>\n",
              "    <tr>\n",
              "      <th>...</th>\n",
              "      <td>...</td>\n",
              "      <td>...</td>\n",
              "      <td>...</td>\n",
              "      <td>...</td>\n",
              "    </tr>\n",
              "    <tr>\n",
              "      <th>4995</th>\n",
              "      <td>-1873.794459</td>\n",
              "      <td>-23747.183730</td>\n",
              "      <td>-37178.314147</td>\n",
              "      <td>20933.486445</td>\n",
              "    </tr>\n",
              "    <tr>\n",
              "      <th>4996</th>\n",
              "      <td>-2738.799910</td>\n",
              "      <td>-34859.807994</td>\n",
              "      <td>-54572.267137</td>\n",
              "      <td>30727.293577</td>\n",
              "    </tr>\n",
              "    <tr>\n",
              "      <th>4997</th>\n",
              "      <td>-1768.563651</td>\n",
              "      <td>-22553.713759</td>\n",
              "      <td>-35305.153042</td>\n",
              "      <td>19877.003986</td>\n",
              "    </tr>\n",
              "    <tr>\n",
              "      <th>4998</th>\n",
              "      <td>-1710.231647</td>\n",
              "      <td>-21753.855401</td>\n",
              "      <td>-34053.062707</td>\n",
              "      <td>19173.216193</td>\n",
              "    </tr>\n",
              "    <tr>\n",
              "      <th>4999</th>\n",
              "      <td>-2124.625941</td>\n",
              "      <td>-27008.747873</td>\n",
              "      <td>-42281.355551</td>\n",
              "      <td>23808.496480</td>\n",
              "    </tr>\n",
              "  </tbody>\n",
              "</table>\n",
              "<p>5000 rows × 4 columns</p>\n",
              "</div>"
            ],
            "text/plain": [
              "                0             1             2             3\n",
              "0    -2606.719711 -32991.911545 -51652.988082  29087.261044\n",
              "1    -2020.974948 -25267.535263 -39570.576352  22285.701593\n",
              "2    -1122.709647 -13961.496163 -21867.430325  12316.937179\n",
              "3    -2169.624470 -27745.135428 -43429.450271  24450.546236\n",
              "4    -1382.124394 -17356.856852 -27178.551258  15307.864411\n",
              "...           ...           ...           ...           ...\n",
              "4995 -1873.794459 -23747.183730 -37178.314147  20933.486445\n",
              "4996 -2738.799910 -34859.807994 -54572.267137  30727.293577\n",
              "4997 -1768.563651 -22553.713759 -35305.153042  19877.003986\n",
              "4998 -1710.231647 -21753.855401 -34053.062707  19173.216193\n",
              "4999 -2124.625941 -27008.747873 -42281.355551  23808.496480\n",
              "\n",
              "[5000 rows x 4 columns]"
            ]
          },
          "execution_count": 10,
          "metadata": {},
          "output_type": "execute_result"
        }
      ],
      "source": [
        "encrypted_features"
      ]
    },
    {
      "cell_type": "markdown",
      "metadata": {
        "id": "5OOeqQUV4nxr"
      },
      "source": [
        "Сравним с исходными фичами:"
      ]
    },
    {
      "cell_type": "code",
      "execution_count": null,
      "metadata": {
        "id": "e7J8ImK74nxr",
        "outputId": "fa05fd2f-66c6-434c-f435-f05157478ec9"
      },
      "outputs": [
        {
          "data": {
            "text/html": [
              "<div>\n",
              "<style scoped>\n",
              "    .dataframe tbody tr th:only-of-type {\n",
              "        vertical-align: middle;\n",
              "    }\n",
              "\n",
              "    .dataframe tbody tr th {\n",
              "        vertical-align: top;\n",
              "    }\n",
              "\n",
              "    .dataframe thead th {\n",
              "        text-align: right;\n",
              "    }\n",
              "</style>\n",
              "<table border=\"1\" class=\"dataframe\">\n",
              "  <thead>\n",
              "    <tr style=\"text-align: right;\">\n",
              "      <th></th>\n",
              "      <th>Пол</th>\n",
              "      <th>Возраст</th>\n",
              "      <th>Зарплата</th>\n",
              "      <th>Члены семьи</th>\n",
              "    </tr>\n",
              "  </thead>\n",
              "  <tbody>\n",
              "    <tr>\n",
              "      <th>0</th>\n",
              "      <td>1</td>\n",
              "      <td>41.0</td>\n",
              "      <td>49600.0</td>\n",
              "      <td>1</td>\n",
              "    </tr>\n",
              "    <tr>\n",
              "      <th>1</th>\n",
              "      <td>0</td>\n",
              "      <td>46.0</td>\n",
              "      <td>38000.0</td>\n",
              "      <td>1</td>\n",
              "    </tr>\n",
              "    <tr>\n",
              "      <th>2</th>\n",
              "      <td>0</td>\n",
              "      <td>29.0</td>\n",
              "      <td>21000.0</td>\n",
              "      <td>0</td>\n",
              "    </tr>\n",
              "    <tr>\n",
              "      <th>3</th>\n",
              "      <td>0</td>\n",
              "      <td>21.0</td>\n",
              "      <td>41700.0</td>\n",
              "      <td>2</td>\n",
              "    </tr>\n",
              "    <tr>\n",
              "      <th>4</th>\n",
              "      <td>1</td>\n",
              "      <td>28.0</td>\n",
              "      <td>26100.0</td>\n",
              "      <td>0</td>\n",
              "    </tr>\n",
              "    <tr>\n",
              "      <th>...</th>\n",
              "      <td>...</td>\n",
              "      <td>...</td>\n",
              "      <td>...</td>\n",
              "      <td>...</td>\n",
              "    </tr>\n",
              "    <tr>\n",
              "      <th>4995</th>\n",
              "      <td>0</td>\n",
              "      <td>28.0</td>\n",
              "      <td>35700.0</td>\n",
              "      <td>2</td>\n",
              "    </tr>\n",
              "    <tr>\n",
              "      <th>4996</th>\n",
              "      <td>0</td>\n",
              "      <td>34.0</td>\n",
              "      <td>52400.0</td>\n",
              "      <td>1</td>\n",
              "    </tr>\n",
              "    <tr>\n",
              "      <th>4997</th>\n",
              "      <td>0</td>\n",
              "      <td>20.0</td>\n",
              "      <td>33900.0</td>\n",
              "      <td>2</td>\n",
              "    </tr>\n",
              "    <tr>\n",
              "      <th>4998</th>\n",
              "      <td>1</td>\n",
              "      <td>22.0</td>\n",
              "      <td>32700.0</td>\n",
              "      <td>3</td>\n",
              "    </tr>\n",
              "    <tr>\n",
              "      <th>4999</th>\n",
              "      <td>1</td>\n",
              "      <td>28.0</td>\n",
              "      <td>40600.0</td>\n",
              "      <td>1</td>\n",
              "    </tr>\n",
              "  </tbody>\n",
              "</table>\n",
              "<p>5000 rows × 4 columns</p>\n",
              "</div>"
            ],
            "text/plain": [
              "      Пол  Возраст  Зарплата  Члены семьи\n",
              "0       1     41.0   49600.0            1\n",
              "1       0     46.0   38000.0            1\n",
              "2       0     29.0   21000.0            0\n",
              "3       0     21.0   41700.0            2\n",
              "4       1     28.0   26100.0            0\n",
              "...   ...      ...       ...          ...\n",
              "4995    0     28.0   35700.0            2\n",
              "4996    0     34.0   52400.0            1\n",
              "4997    0     20.0   33900.0            2\n",
              "4998    1     22.0   32700.0            3\n",
              "4999    1     28.0   40600.0            1\n",
              "\n",
              "[5000 rows x 4 columns]"
            ]
          },
          "execution_count": 11,
          "metadata": {},
          "output_type": "execute_result"
        }
      ],
      "source": [
        "features"
      ]
    },
    {
      "cell_type": "markdown",
      "metadata": {
        "id": "GVrOIezI4nxr"
      },
      "source": [
        "**Обоснование**\n",
        "\n",
        "В предыдущем пункте мы теоретически доказали, что $a_m = a$, теперь подставим в формулы наши данные"
      ]
    },
    {
      "cell_type": "markdown",
      "metadata": {
        "id": "m1_8mjTZ4nxr"
      },
      "source": [
        "Рассчитаем вектор весов для изначальной матрицы данных по формуле $w = (X^T X)^{-1} X^T y$"
      ]
    },
    {
      "cell_type": "markdown",
      "metadata": {
        "id": "upDcxbX74nxr"
      },
      "source": [
        "<div class=\"alert alert-warning\">\n",
        "<b>⚠️ Комментарий ревьювера:</b> Предпочтительнее использовать оператор @ при умножении матриц. Он строже, чем np.dot и допускает только матричное умножение.\n",
        "    \n",
        "</div>"
      ]
    },
    {
      "cell_type": "code",
      "execution_count": null,
      "metadata": {
        "id": "u2EXLVqP4nxr"
      },
      "outputs": [],
      "source": [
        "w = np.linalg.inv(features.T.dot(features)).dot(features.T).dot(target)"
      ]
    },
    {
      "cell_type": "markdown",
      "metadata": {
        "id": "g9IEojgG4nxr"
      },
      "source": [
        "Вычисляем вектор предсказаний $a$ по формуле $a = Xw$"
      ]
    },
    {
      "cell_type": "code",
      "execution_count": null,
      "metadata": {
        "id": "pD3EfLGH4nxs"
      },
      "outputs": [],
      "source": [
        "a = features.dot(w)"
      ]
    },
    {
      "cell_type": "markdown",
      "metadata": {
        "id": "sVuudYRK4nxs"
      },
      "source": [
        "Вычисляем то же самое только уже для зашифрованной матрицы"
      ]
    },
    {
      "cell_type": "code",
      "execution_count": null,
      "metadata": {
        "id": "zIXtlNRR4nxs"
      },
      "outputs": [],
      "source": [
        "w_m = np.linalg.inv(encrypted_features.T.dot(encrypted_features)).dot(encrypted_features.T).dot(target)\n",
        "\n",
        "a_m = encrypted_features.dot(w_m)"
      ]
    },
    {
      "cell_type": "markdown",
      "metadata": {
        "id": "T3W0GxVG4nxs"
      },
      "source": [
        "Посмотрим на сумму предсказаний в обоих случаях, для удобства сравнения округлив значение до 4 знаков после запятой"
      ]
    },
    {
      "cell_type": "code",
      "execution_count": null,
      "metadata": {
        "scrolled": true,
        "id": "0p_ebZeI4nxs",
        "outputId": "38a75a4a-9dba-417b-be9c-35c305bdab36"
      },
      "outputs": [
        {
          "data": {
            "text/plain": [
              "879.1347"
            ]
          },
          "execution_count": 15,
          "metadata": {},
          "output_type": "execute_result"
        }
      ],
      "source": [
        "a.sum().round(4)"
      ]
    },
    {
      "cell_type": "code",
      "execution_count": null,
      "metadata": {
        "scrolled": true,
        "id": "Njse6krG4nxt",
        "outputId": "a2225761-26a8-44da-970a-20095218b6c5"
      },
      "outputs": [
        {
          "data": {
            "text/plain": [
              "879.1347"
            ]
          },
          "execution_count": 16,
          "metadata": {},
          "output_type": "execute_result"
        }
      ],
      "source": [
        "a_m.sum().round(4)"
      ]
    },
    {
      "cell_type": "markdown",
      "metadata": {
        "id": "eFobEnJC4nxt"
      },
      "source": [
        "Разницы между предсказаниями нет. Если есть, то она очень минимальна и при округлении пропадает совсем"
      ]
    },
    {
      "cell_type": "markdown",
      "metadata": {
        "id": "mwuRHSmm4nxt"
      },
      "source": [
        "## Проверка алгоритма"
      ]
    },
    {
      "cell_type": "markdown",
      "metadata": {
        "id": "R6t4mUXq4nxu"
      },
      "source": [
        "Пишем функцию, которая на вход берёт матрицу признаков и целевой признак, создаёт модель линейной регрессии, обучается, делает предсказание.   \n",
        "Выводить на экран будет метрику R2, округлённую до 4 знаков после запятой"
      ]
    },
    {
      "cell_type": "code",
      "execution_count": null,
      "metadata": {
        "id": "7tzP1yaE4nxu"
      },
      "outputs": [],
      "source": [
        "def lin_r(features, target):\n",
        "    model = LinearRegression()\n",
        "    model.fit(features, target)\n",
        "    predictions = model.predict(features)\n",
        "\n",
        "\n",
        "    print('R2:','{:.4f}'.format(r2_score(target,predictions)))"
      ]
    },
    {
      "cell_type": "markdown",
      "metadata": {
        "id": "EmZ0C5ha4nxu"
      },
      "source": [
        "Применяем функцию на исходных данных:"
      ]
    },
    {
      "cell_type": "code",
      "execution_count": null,
      "metadata": {
        "id": "8YZDbPpW4nxu",
        "outputId": "4a7f6766-977d-4f2d-fd7a-4c878a5d1339"
      },
      "outputs": [
        {
          "name": "stdout",
          "output_type": "stream",
          "text": [
            "R2: 0.4249\n"
          ]
        }
      ],
      "source": [
        "lin_r(features, target)"
      ]
    },
    {
      "cell_type": "markdown",
      "metadata": {
        "id": "WVj7K4HX4nxv"
      },
      "source": [
        "Теперь на зашифрованных:"
      ]
    },
    {
      "cell_type": "code",
      "execution_count": null,
      "metadata": {
        "scrolled": true,
        "id": "F1tQgE1V4nxv",
        "outputId": "96986455-c793-4340-af8c-b72b59668aed"
      },
      "outputs": [
        {
          "name": "stdout",
          "output_type": "stream",
          "text": [
            "R2: 0.4249\n"
          ]
        }
      ],
      "source": [
        "lin_r(encrypted_features, target)"
      ]
    },
    {
      "cell_type": "markdown",
      "metadata": {
        "id": "-zXlZ4X74nxv"
      },
      "source": [
        "<div class=\"alert alert-success\">\n",
        "<b>✔️ Комментарий ревьювера:</b> Качество предсказания действительно не изменяется, результат достигнут!\n",
        "    \n",
        "Еще могу порекомендовать вот такой материал:\n",
        "    \n",
        "https://habr.com/ru/post/479398/\n",
        "\n",
        "https://habr.com/ru/company/vk/blog/478514/ Применение зашифрованных данных для машинного обучения\n",
        "\n",
        "https://www.amazon.science/blog/machine-learning-models-that-act-on-encrypted-data#:~:text=Privacy%2Dpreserving%20machine%20learning%20 Privacy-preserving machine learning (PPML)\n",
        "\n",
        "</div>"
      ]
    },
    {
      "cell_type": "markdown",
      "metadata": {
        "id": "6TEYnRau4nxv"
      },
      "source": [
        "### Вывод"
      ]
    },
    {
      "cell_type": "markdown",
      "metadata": {
        "id": "jriSkp-K4nxv"
      },
      "source": [
        "Качество моделей до и после преобразования не изменилось"
      ]
    },
    {
      "cell_type": "markdown",
      "metadata": {
        "id": "G9hMSPkz4nxw"
      },
      "source": [
        "<div class=\"alert alert-success\">\n",
        "<b>✔️ Комментарий ревьювера (v2):</b> На всякий случай, здесь я добавил дополнительные материалы по матрицам. Может пригодится =)\n",
        "    \n",
        "http://publish.sutd.ru/e_books/lin_alg_2013/html/matrix_33.html основные операции с матрицами    \n",
        "\n",
        "https://python-scripts.com/numpy информация по numpy с примерами\n",
        "    \n",
        "https://xn--80apmoib.xn--p1ai/media/uploads/2019/07/18/2-2.Matricy_i_osnovnye_matrichnye_operacii.pdf матричные операции\n",
        "    \n",
        "https://ml-handbook.ru/chapters/linear_models/intro Можешь посмотреть вот здесь теорию по линейной регрессии и по матрицам в том числе.\n",
        "\n",
        "Вот неплохая статья по основам матричных операций и линейным моделям, правда на английском языке:\n",
        "\n",
        "https://jonathan-hui.medium.com/machine-learning-linear-algebra-a5b1658f0151\n",
        "\n",
        "http://www.machinelearning.ru/wiki/images/b/bb/Sem08_factorizations.pdf по матричным разложениям\n",
        "    \n",
        "Как дополнение по матричным разложениями и теории машинного обучения можно посмотреть видеолекции К. Воронцова или Е. Соколова, они есть на Youtube.\n",
        "    \n",
        "</div>"
      ]
    }
  ],
  "metadata": {
    "ExecuteTimeLog": [
      {
        "duration": 981,
        "start_time": "2022-07-08T21:38:18.144Z"
      },
      {
        "duration": 49,
        "start_time": "2022-07-08T21:38:19.127Z"
      },
      {
        "duration": 17,
        "start_time": "2022-07-08T21:38:42.793Z"
      },
      {
        "duration": 24,
        "start_time": "2022-07-08T21:39:54.376Z"
      },
      {
        "duration": 95,
        "start_time": "2022-07-08T21:40:48.281Z"
      },
      {
        "duration": 14,
        "start_time": "2022-07-08T21:40:54.174Z"
      },
      {
        "duration": 45,
        "start_time": "2022-07-12T21:39:05.738Z"
      },
      {
        "duration": 1048,
        "start_time": "2022-07-12T21:39:46.408Z"
      },
      {
        "duration": 55,
        "start_time": "2022-07-12T21:39:47.458Z"
      },
      {
        "duration": 16,
        "start_time": "2022-07-12T21:39:47.514Z"
      },
      {
        "duration": 22,
        "start_time": "2022-07-12T21:39:47.531Z"
      },
      {
        "duration": 10,
        "start_time": "2022-07-12T21:39:47.555Z"
      },
      {
        "duration": 7,
        "start_time": "2022-07-12T21:39:47.567Z"
      },
      {
        "duration": 3,
        "start_time": "2022-07-12T21:49:03.270Z"
      },
      {
        "duration": 951,
        "start_time": "2022-07-12T21:52:25.546Z"
      },
      {
        "duration": 17,
        "start_time": "2022-07-12T21:52:26.499Z"
      },
      {
        "duration": 19,
        "start_time": "2022-07-12T21:52:26.518Z"
      },
      {
        "duration": 23,
        "start_time": "2022-07-12T21:52:26.539Z"
      },
      {
        "duration": 10,
        "start_time": "2022-07-12T21:52:26.564Z"
      },
      {
        "duration": 3,
        "start_time": "2022-07-12T21:52:26.576Z"
      },
      {
        "duration": 6,
        "start_time": "2022-07-12T21:52:26.580Z"
      },
      {
        "duration": 0,
        "start_time": "2022-07-12T21:52:26.588Z"
      },
      {
        "duration": 3,
        "start_time": "2022-07-12T21:52:33.974Z"
      },
      {
        "duration": 3,
        "start_time": "2022-07-12T21:52:34.646Z"
      },
      {
        "duration": 10,
        "start_time": "2022-07-12T21:53:03.483Z"
      },
      {
        "duration": 3,
        "start_time": "2022-07-12T21:53:13.041Z"
      },
      {
        "duration": 3,
        "start_time": "2022-07-12T21:53:13.474Z"
      },
      {
        "duration": 10,
        "start_time": "2022-07-12T21:53:13.839Z"
      },
      {
        "duration": 4,
        "start_time": "2022-07-12T21:53:31.411Z"
      },
      {
        "duration": 3,
        "start_time": "2022-07-12T21:53:31.758Z"
      },
      {
        "duration": 4,
        "start_time": "2022-07-12T21:53:32.081Z"
      },
      {
        "duration": 10,
        "start_time": "2022-07-12T21:53:32.420Z"
      },
      {
        "duration": 12,
        "start_time": "2022-07-12T21:54:19.118Z"
      },
      {
        "duration": 48,
        "start_time": "2022-07-12T21:59:55.441Z"
      },
      {
        "duration": 227,
        "start_time": "2022-07-12T22:02:22.069Z"
      },
      {
        "duration": 6,
        "start_time": "2022-07-12T22:03:10.188Z"
      },
      {
        "duration": 75,
        "start_time": "2022-07-12T22:04:17.915Z"
      },
      {
        "duration": 3,
        "start_time": "2022-07-12T22:05:09.693Z"
      },
      {
        "duration": 5,
        "start_time": "2022-07-12T22:06:28.947Z"
      },
      {
        "duration": 56,
        "start_time": "2022-07-12T22:06:58.875Z"
      },
      {
        "duration": 10,
        "start_time": "2022-07-12T22:08:39.783Z"
      },
      {
        "duration": 6,
        "start_time": "2022-07-12T22:08:47.886Z"
      },
      {
        "duration": 6,
        "start_time": "2022-07-12T22:09:17.048Z"
      },
      {
        "duration": 5,
        "start_time": "2022-07-12T22:09:19.045Z"
      },
      {
        "duration": 4,
        "start_time": "2022-07-12T22:09:51.134Z"
      },
      {
        "duration": 7,
        "start_time": "2022-07-12T22:09:57.321Z"
      },
      {
        "duration": 4,
        "start_time": "2022-07-12T22:11:06.065Z"
      },
      {
        "duration": 4,
        "start_time": "2022-07-12T22:11:08.032Z"
      },
      {
        "duration": 63,
        "start_time": "2022-07-12T22:14:42.257Z"
      },
      {
        "duration": 5,
        "start_time": "2022-07-12T22:14:46.736Z"
      },
      {
        "duration": 4,
        "start_time": "2022-07-12T22:14:47.295Z"
      },
      {
        "duration": 60,
        "start_time": "2022-07-12T22:15:32.350Z"
      },
      {
        "duration": 3,
        "start_time": "2022-07-12T22:20:35.231Z"
      },
      {
        "duration": 12,
        "start_time": "2022-07-12T22:21:19.294Z"
      },
      {
        "duration": 1117,
        "start_time": "2022-07-12T22:22:00.452Z"
      },
      {
        "duration": 18,
        "start_time": "2022-07-12T22:22:01.571Z"
      },
      {
        "duration": 32,
        "start_time": "2022-07-12T22:22:01.590Z"
      },
      {
        "duration": 24,
        "start_time": "2022-07-12T22:22:01.624Z"
      },
      {
        "duration": 11,
        "start_time": "2022-07-12T22:22:01.650Z"
      },
      {
        "duration": 44,
        "start_time": "2022-07-12T22:22:01.663Z"
      },
      {
        "duration": 24,
        "start_time": "2022-07-12T22:22:01.709Z"
      },
      {
        "duration": 17,
        "start_time": "2022-07-12T22:22:01.735Z"
      },
      {
        "duration": 70,
        "start_time": "2022-07-12T22:22:01.754Z"
      },
      {
        "duration": 12,
        "start_time": "2022-07-12T22:22:01.828Z"
      },
      {
        "duration": 92,
        "start_time": "2022-07-12T22:22:01.842Z"
      },
      {
        "duration": 28,
        "start_time": "2022-07-12T22:22:01.936Z"
      },
      {
        "duration": 70,
        "start_time": "2022-07-12T22:22:01.967Z"
      },
      {
        "duration": 220,
        "start_time": "2022-07-12T22:22:02.039Z"
      },
      {
        "duration": 166,
        "start_time": "2022-07-12T22:22:02.261Z"
      },
      {
        "duration": 23,
        "start_time": "2022-07-12T22:22:02.428Z"
      },
      {
        "duration": 27,
        "start_time": "2022-07-12T22:22:02.452Z"
      },
      {
        "duration": 30,
        "start_time": "2022-07-12T22:22:02.481Z"
      },
      {
        "duration": 9,
        "start_time": "2022-07-12T22:22:37.037Z"
      },
      {
        "duration": 4,
        "start_time": "2022-07-12T22:23:27.006Z"
      },
      {
        "duration": 8,
        "start_time": "2022-07-12T22:23:27.777Z"
      },
      {
        "duration": 8,
        "start_time": "2022-07-12T22:23:28.555Z"
      },
      {
        "duration": 109,
        "start_time": "2022-07-12T22:25:08.662Z"
      },
      {
        "duration": 955,
        "start_time": "2022-07-12T22:32:16.366Z"
      },
      {
        "duration": 19,
        "start_time": "2022-07-12T22:32:17.323Z"
      },
      {
        "duration": 15,
        "start_time": "2022-07-12T22:32:17.343Z"
      },
      {
        "duration": 22,
        "start_time": "2022-07-12T22:32:17.360Z"
      },
      {
        "duration": 10,
        "start_time": "2022-07-12T22:32:17.384Z"
      },
      {
        "duration": 3,
        "start_time": "2022-07-12T22:32:17.396Z"
      },
      {
        "duration": 23,
        "start_time": "2022-07-12T22:32:17.401Z"
      },
      {
        "duration": 5,
        "start_time": "2022-07-12T22:32:17.426Z"
      },
      {
        "duration": 5,
        "start_time": "2022-07-12T22:32:17.433Z"
      },
      {
        "duration": 91,
        "start_time": "2022-07-12T22:32:17.440Z"
      },
      {
        "duration": 95,
        "start_time": "2022-07-12T22:32:17.534Z"
      },
      {
        "duration": 6,
        "start_time": "2022-07-12T22:32:17.630Z"
      },
      {
        "duration": 86,
        "start_time": "2022-07-12T22:32:17.638Z"
      },
      {
        "duration": 96,
        "start_time": "2022-07-12T22:32:17.729Z"
      },
      {
        "duration": 106,
        "start_time": "2022-07-12T22:32:17.827Z"
      },
      {
        "duration": 7,
        "start_time": "2022-07-12T22:32:17.934Z"
      },
      {
        "duration": 8,
        "start_time": "2022-07-12T22:32:17.943Z"
      },
      {
        "duration": 78,
        "start_time": "2022-07-12T22:32:17.952Z"
      },
      {
        "duration": 195,
        "start_time": "2022-07-12T22:32:18.032Z"
      },
      {
        "duration": 1508,
        "start_time": "2022-07-13T03:14:42.034Z"
      },
      {
        "duration": 30,
        "start_time": "2022-07-13T03:14:43.545Z"
      },
      {
        "duration": 51,
        "start_time": "2022-07-13T03:14:43.577Z"
      },
      {
        "duration": 34,
        "start_time": "2022-07-13T03:14:43.641Z"
      },
      {
        "duration": 16,
        "start_time": "2022-07-13T03:14:43.679Z"
      },
      {
        "duration": 50,
        "start_time": "2022-07-13T03:14:43.697Z"
      },
      {
        "duration": 8,
        "start_time": "2022-07-13T03:14:43.749Z"
      },
      {
        "duration": 11,
        "start_time": "2022-07-13T03:14:43.760Z"
      },
      {
        "duration": 33,
        "start_time": "2022-07-13T03:14:43.772Z"
      },
      {
        "duration": 92,
        "start_time": "2022-07-13T03:14:43.817Z"
      },
      {
        "duration": 30,
        "start_time": "2022-07-13T03:14:43.911Z"
      },
      {
        "duration": 10,
        "start_time": "2022-07-13T03:14:43.943Z"
      },
      {
        "duration": 91,
        "start_time": "2022-07-13T03:14:43.955Z"
      },
      {
        "duration": 105,
        "start_time": "2022-07-13T03:14:44.053Z"
      },
      {
        "duration": 176,
        "start_time": "2022-07-13T03:14:44.160Z"
      },
      {
        "duration": 12,
        "start_time": "2022-07-13T03:14:44.339Z"
      },
      {
        "duration": 10,
        "start_time": "2022-07-13T03:14:44.353Z"
      },
      {
        "duration": 16,
        "start_time": "2022-07-13T03:14:44.365Z"
      },
      {
        "duration": 158,
        "start_time": "2022-07-13T03:14:44.383Z"
      }
    ],
    "kernelspec": {
      "display_name": "Python 3 (ipykernel)",
      "language": "python",
      "name": "python3"
    },
    "language_info": {
      "codemirror_mode": {
        "name": "ipython",
        "version": 3
      },
      "file_extension": ".py",
      "mimetype": "text/x-python",
      "name": "python",
      "nbconvert_exporter": "python",
      "pygments_lexer": "ipython3",
      "version": "3.9.5"
    },
    "toc": {
      "base_numbering": 1,
      "nav_menu": {},
      "number_sections": true,
      "sideBar": true,
      "skip_h1_title": true,
      "title_cell": "Содержание",
      "title_sidebar": "Contents",
      "toc_cell": true,
      "toc_position": {
        "height": "calc(100% - 180px)",
        "left": "10px",
        "top": "150px",
        "width": "225.087px"
      },
      "toc_section_display": true,
      "toc_window_display": true
    },
    "colab": {
      "provenance": []
    }
  },
  "nbformat": 4,
  "nbformat_minor": 0
}