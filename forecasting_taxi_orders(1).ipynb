{
  "cells": [
    {
      "cell_type": "markdown",
      "source": [
        "❗ Оставлены рекомендации ревьюера"
      ],
      "metadata": {
        "id": "k9sFjsvfO4WI"
      }
    },
    {
      "cell_type": "markdown",
      "metadata": {
        "id": "te2Ow6WaOmLS"
      },
      "source": [
        "#  Прогнозирование заказов такси"
      ]
    },
    {
      "cell_type": "markdown",
      "metadata": {
        "id": "Fx8fQVdTOmLT"
      },
      "source": [
        "Компания «Чётенькое такси» собрала исторические данные о заказах такси в аэропортах. Чтобы привлекать больше водителей в период пиковой нагрузки, нужно спрогнозировать количество заказов такси на следующий час. Постройте модель для такого предсказания.\n",
        "\n",
        "Значение метрики *RMSE* на тестовой выборке должно быть не больше 48.\n",
        "\n",
        "Задачи:\n",
        "\n",
        "1. Загрузить данные и выполнить их ресемплирование по одному часу.\n",
        "2. Проанализировать данные.\n",
        "3. Обучить разные модели с различными гиперпараметрами. Сделать тестовую выборку размером 10% от исходных данных.\n",
        "4. Проверить данные на тестовой выборке и сделать выводы.\n",
        "\n",
        "\n",
        "Данные лежат в файле `taxi.csv`. Количество заказов находится в столбце `num_orders` (от англ. *number of orders*, «число заказов»)."
      ]
    },
    {
      "cell_type": "markdown",
      "metadata": {
        "id": "eDl0UyeGOmLT"
      },
      "source": [
        "## Подготовка"
      ]
    },
    {
      "cell_type": "code",
      "execution_count": null,
      "metadata": {
        "id": "kAqe5aqEOmLT"
      },
      "outputs": [],
      "source": [
        "import pandas as pd\n",
        "import sklearn\n",
        "import numpy as np\n",
        "import matplotlib.pyplot as plt\n",
        "\n",
        "\n",
        "import warnings\n",
        "warnings.filterwarnings('ignore')\n",
        "\n",
        "from lightgbm import LGBMRegressor\n",
        "from catboost import CatBoostRegressor\n",
        "from sklearn.linear_model import LinearRegression\n",
        "from sklearn.preprocessing import StandardScaler\n",
        "\n",
        "\n",
        "from statsmodels.tsa.seasonal import seasonal_decompose\n",
        "from sklearn.model_selection import train_test_split\n",
        "from sklearn.metrics import mean_squared_error"
      ]
    },
    {
      "cell_type": "markdown",
      "metadata": {
        "id": "19nuFr6TOmLU"
      },
      "source": [
        "<div class=\"alert alert-block alert-success\">\n",
        "<b>Успех:</b> Отлично, что все импорты собраны в первой ячейке ноутбука! Если у того, кто будет запускать твой ноутбук будут отсутствовать некоторые библиотеки, то он это увидит сразу, а не в процессе!\n",
        "</div>"
      ]
    },
    {
      "cell_type": "code",
      "execution_count": null,
      "metadata": {
        "id": "UmpagMgLOmLU"
      },
      "outputs": [],
      "source": [
        "try:\n",
        "    df = pd.read_csv('/datasets/taxi.csv')\n",
        "except:\n",
        "    df = pd.read_csv('C:\\\\Users\\\\HARD_REBOOT\\\\Downloads\\\\taxi.csv')"
      ]
    },
    {
      "cell_type": "code",
      "execution_count": null,
      "metadata": {
        "id": "AbunfOxGOmLV",
        "outputId": "2253aca4-0cd6-4e44-c904-e9e3cad76e12"
      },
      "outputs": [
        {
          "data": {
            "text/html": [
              "<div>\n",
              "<style scoped>\n",
              "    .dataframe tbody tr th:only-of-type {\n",
              "        vertical-align: middle;\n",
              "    }\n",
              "\n",
              "    .dataframe tbody tr th {\n",
              "        vertical-align: top;\n",
              "    }\n",
              "\n",
              "    .dataframe thead th {\n",
              "        text-align: right;\n",
              "    }\n",
              "</style>\n",
              "<table border=\"1\" class=\"dataframe\">\n",
              "  <thead>\n",
              "    <tr style=\"text-align: right;\">\n",
              "      <th></th>\n",
              "      <th>datetime</th>\n",
              "      <th>num_orders</th>\n",
              "    </tr>\n",
              "  </thead>\n",
              "  <tbody>\n",
              "    <tr>\n",
              "      <th>0</th>\n",
              "      <td>2018-03-01 00:00:00</td>\n",
              "      <td>9</td>\n",
              "    </tr>\n",
              "    <tr>\n",
              "      <th>1</th>\n",
              "      <td>2018-03-01 00:10:00</td>\n",
              "      <td>14</td>\n",
              "    </tr>\n",
              "    <tr>\n",
              "      <th>2</th>\n",
              "      <td>2018-03-01 00:20:00</td>\n",
              "      <td>28</td>\n",
              "    </tr>\n",
              "    <tr>\n",
              "      <th>3</th>\n",
              "      <td>2018-03-01 00:30:00</td>\n",
              "      <td>20</td>\n",
              "    </tr>\n",
              "    <tr>\n",
              "      <th>4</th>\n",
              "      <td>2018-03-01 00:40:00</td>\n",
              "      <td>32</td>\n",
              "    </tr>\n",
              "  </tbody>\n",
              "</table>\n",
              "</div>"
            ],
            "text/plain": [
              "              datetime  num_orders\n",
              "0  2018-03-01 00:00:00           9\n",
              "1  2018-03-01 00:10:00          14\n",
              "2  2018-03-01 00:20:00          28\n",
              "3  2018-03-01 00:30:00          20\n",
              "4  2018-03-01 00:40:00          32"
            ]
          },
          "execution_count": 3,
          "metadata": {},
          "output_type": "execute_result"
        }
      ],
      "source": [
        "df.head()"
      ]
    },
    {
      "cell_type": "code",
      "execution_count": null,
      "metadata": {
        "id": "77CMvJLDOmLW",
        "outputId": "720dd7ff-7ed2-4dbc-cdc9-ad5c76f9c068"
      },
      "outputs": [
        {
          "name": "stdout",
          "output_type": "stream",
          "text": [
            "<class 'pandas.core.frame.DataFrame'>\n",
            "RangeIndex: 26496 entries, 0 to 26495\n",
            "Data columns (total 2 columns):\n",
            " #   Column      Non-Null Count  Dtype \n",
            "---  ------      --------------  ----- \n",
            " 0   datetime    26496 non-null  object\n",
            " 1   num_orders  26496 non-null  int64 \n",
            "dtypes: int64(1), object(1)\n",
            "memory usage: 414.1+ KB\n"
          ]
        }
      ],
      "source": [
        "df.info()"
      ]
    },
    {
      "cell_type": "code",
      "execution_count": null,
      "metadata": {
        "id": "VKQO214-OmLW"
      },
      "outputs": [],
      "source": [
        "try:\n",
        "    df = pd.read_csv('/datasets/taxi.csv', index_col=[0], parse_dates=[0])\n",
        "except:\n",
        "    df = pd.read_csv('C:\\\\Users\\\\HARD_REBOOT\\\\Downloads\\\\taxi.csv', index_col=[0], parse_dates=[0])"
      ]
    },
    {
      "cell_type": "code",
      "execution_count": null,
      "metadata": {
        "id": "rg1_rovKOmLX",
        "outputId": "9cd61e98-228f-4db8-c2df-ed365832403f"
      },
      "outputs": [
        {
          "name": "stdout",
          "output_type": "stream",
          "text": [
            "<class 'pandas.core.frame.DataFrame'>\n",
            "DatetimeIndex: 26496 entries, 2018-03-01 00:00:00 to 2018-08-31 23:50:00\n",
            "Data columns (total 1 columns):\n",
            " #   Column      Non-Null Count  Dtype\n",
            "---  ------      --------------  -----\n",
            " 0   num_orders  26496 non-null  int64\n",
            "dtypes: int64(1)\n",
            "memory usage: 414.0 KB\n"
          ]
        }
      ],
      "source": [
        "df.info()"
      ]
    },
    {
      "cell_type": "code",
      "execution_count": null,
      "metadata": {
        "scrolled": true,
        "id": "7aiRkDQHOmLX",
        "outputId": "8fad2805-0147-4eba-84b6-92c2b0629eaf"
      },
      "outputs": [
        {
          "data": {
            "text/html": [
              "<div>\n",
              "<style scoped>\n",
              "    .dataframe tbody tr th:only-of-type {\n",
              "        vertical-align: middle;\n",
              "    }\n",
              "\n",
              "    .dataframe tbody tr th {\n",
              "        vertical-align: top;\n",
              "    }\n",
              "\n",
              "    .dataframe thead th {\n",
              "        text-align: right;\n",
              "    }\n",
              "</style>\n",
              "<table border=\"1\" class=\"dataframe\">\n",
              "  <thead>\n",
              "    <tr style=\"text-align: right;\">\n",
              "      <th></th>\n",
              "      <th>num_orders</th>\n",
              "    </tr>\n",
              "    <tr>\n",
              "      <th>datetime</th>\n",
              "      <th></th>\n",
              "    </tr>\n",
              "  </thead>\n",
              "  <tbody>\n",
              "    <tr>\n",
              "      <th>2018-03-01 00:00:00</th>\n",
              "      <td>9</td>\n",
              "    </tr>\n",
              "    <tr>\n",
              "      <th>2018-03-01 00:10:00</th>\n",
              "      <td>14</td>\n",
              "    </tr>\n",
              "    <tr>\n",
              "      <th>2018-03-01 00:20:00</th>\n",
              "      <td>28</td>\n",
              "    </tr>\n",
              "    <tr>\n",
              "      <th>2018-03-01 00:30:00</th>\n",
              "      <td>20</td>\n",
              "    </tr>\n",
              "    <tr>\n",
              "      <th>2018-03-01 00:40:00</th>\n",
              "      <td>32</td>\n",
              "    </tr>\n",
              "  </tbody>\n",
              "</table>\n",
              "</div>"
            ],
            "text/plain": [
              "                     num_orders\n",
              "datetime                       \n",
              "2018-03-01 00:00:00           9\n",
              "2018-03-01 00:10:00          14\n",
              "2018-03-01 00:20:00          28\n",
              "2018-03-01 00:30:00          20\n",
              "2018-03-01 00:40:00          32"
            ]
          },
          "execution_count": 7,
          "metadata": {},
          "output_type": "execute_result"
        }
      ],
      "source": [
        "df.head()"
      ]
    },
    {
      "cell_type": "markdown",
      "metadata": {
        "id": "YNl3lvMrOmLX"
      },
      "source": [
        "Проверим, в хронологическом ли порядке расположены даты и время"
      ]
    },
    {
      "cell_type": "code",
      "execution_count": null,
      "metadata": {
        "id": "XeZXrLWKOmLY",
        "outputId": "d369a39c-7503-4de6-f846-f151634ba7d0"
      },
      "outputs": [
        {
          "data": {
            "text/plain": [
              "True"
            ]
          },
          "execution_count": 8,
          "metadata": {},
          "output_type": "execute_result"
        }
      ],
      "source": [
        "df.index.is_monotonic"
      ]
    },
    {
      "cell_type": "markdown",
      "metadata": {
        "id": "ojKWFmatOmLY"
      },
      "source": [
        "Интервал между соседними датами 10 минут. Чтобы график отрисовался понятнее, проведём ресемплирование: увеличим интервал до 1 часа и сложим количество заказов."
      ]
    },
    {
      "cell_type": "code",
      "execution_count": null,
      "metadata": {
        "id": "yiQ8hWEbOmLY",
        "outputId": "fbc26909-e864-4f76-8813-a8cc4a159ead"
      },
      "outputs": [
        {
          "data": {
            "text/html": [
              "<div>\n",
              "<style scoped>\n",
              "    .dataframe tbody tr th:only-of-type {\n",
              "        vertical-align: middle;\n",
              "    }\n",
              "\n",
              "    .dataframe tbody tr th {\n",
              "        vertical-align: top;\n",
              "    }\n",
              "\n",
              "    .dataframe thead th {\n",
              "        text-align: right;\n",
              "    }\n",
              "</style>\n",
              "<table border=\"1\" class=\"dataframe\">\n",
              "  <thead>\n",
              "    <tr style=\"text-align: right;\">\n",
              "      <th></th>\n",
              "      <th>num_orders</th>\n",
              "    </tr>\n",
              "    <tr>\n",
              "      <th>datetime</th>\n",
              "      <th></th>\n",
              "    </tr>\n",
              "  </thead>\n",
              "  <tbody>\n",
              "    <tr>\n",
              "      <th>2018-03-01 00:00:00</th>\n",
              "      <td>124</td>\n",
              "    </tr>\n",
              "    <tr>\n",
              "      <th>2018-03-01 01:00:00</th>\n",
              "      <td>85</td>\n",
              "    </tr>\n",
              "    <tr>\n",
              "      <th>2018-03-01 02:00:00</th>\n",
              "      <td>71</td>\n",
              "    </tr>\n",
              "    <tr>\n",
              "      <th>2018-03-01 03:00:00</th>\n",
              "      <td>66</td>\n",
              "    </tr>\n",
              "    <tr>\n",
              "      <th>2018-03-01 04:00:00</th>\n",
              "      <td>43</td>\n",
              "    </tr>\n",
              "    <tr>\n",
              "      <th>2018-03-01 05:00:00</th>\n",
              "      <td>6</td>\n",
              "    </tr>\n",
              "    <tr>\n",
              "      <th>2018-03-01 06:00:00</th>\n",
              "      <td>12</td>\n",
              "    </tr>\n",
              "    <tr>\n",
              "      <th>2018-03-01 07:00:00</th>\n",
              "      <td>15</td>\n",
              "    </tr>\n",
              "    <tr>\n",
              "      <th>2018-03-01 08:00:00</th>\n",
              "      <td>34</td>\n",
              "    </tr>\n",
              "    <tr>\n",
              "      <th>2018-03-01 09:00:00</th>\n",
              "      <td>69</td>\n",
              "    </tr>\n",
              "  </tbody>\n",
              "</table>\n",
              "</div>"
            ],
            "text/plain": [
              "                     num_orders\n",
              "datetime                       \n",
              "2018-03-01 00:00:00         124\n",
              "2018-03-01 01:00:00          85\n",
              "2018-03-01 02:00:00          71\n",
              "2018-03-01 03:00:00          66\n",
              "2018-03-01 04:00:00          43\n",
              "2018-03-01 05:00:00           6\n",
              "2018-03-01 06:00:00          12\n",
              "2018-03-01 07:00:00          15\n",
              "2018-03-01 08:00:00          34\n",
              "2018-03-01 09:00:00          69"
            ]
          },
          "execution_count": 9,
          "metadata": {},
          "output_type": "execute_result"
        }
      ],
      "source": [
        "df = df.resample('1H').sum()\n",
        "\n",
        "df.head(10)"
      ]
    },
    {
      "cell_type": "markdown",
      "metadata": {
        "id": "fKLxVupYOmLZ"
      },
      "source": [
        "**Вывод**"
      ]
    },
    {
      "cell_type": "markdown",
      "metadata": {
        "id": "_8uwYs48OmLZ"
      },
      "source": [
        "1. Изменили тип данных datetime с object на datetime64.\n",
        "2. Установили индекс таблицы равным столбцу datetime.\n",
        "3. Убедились, что даты расположены в хронологическом порядке.\n",
        "4. Провели ресемплирование: увеличили интервал до 1 часа и сложили количество заказов."
      ]
    },
    {
      "cell_type": "markdown",
      "metadata": {
        "id": "So-d60NoOmLZ"
      },
      "source": [
        "<div class=\"alert alert-block alert-success\">\n",
        "<b>Успех:</b> Данные загружены корректно, первичный осмотр проведен. Ресемплинг был сделан верно.\n",
        "</div>"
      ]
    },
    {
      "cell_type": "markdown",
      "metadata": {
        "id": "f8XnRcHvOmLZ"
      },
      "source": [
        "## Анализ"
      ]
    },
    {
      "cell_type": "markdown",
      "metadata": {
        "id": "plEVHxPtOmLZ"
      },
      "source": [
        "Посмотрим как меняются данные на протяжении всего временного ряда:"
      ]
    },
    {
      "cell_type": "code",
      "execution_count": null,
      "metadata": {
        "id": "B4jl_Ng7OmLZ",
        "outputId": "225cd357-dc8b-48fe-9e27-8db215e9b735"
      },
      "outputs": [
        {
          "data": {
            "text/plain": [
              "<AxesSubplot:xlabel='datetime'>"
            ]
          },
          "execution_count": 10,
          "metadata": {},
          "output_type": "execute_result"
        },
        {
          "data": {
            "image/png": "[encoded data removed]",
            "text/plain": [
              "<Figure size 1152x432 with 1 Axes>"
            ]
          },
          "metadata": {
            "needs_background": "light"
          },
          "output_type": "display_data"
        }
      ],
      "source": [
        "plt.figure(figsize=(16, 6))\n",
        "df.resample('1H').sum().plot(ax=plt.gca())"
      ]
    },
    {
      "cell_type": "markdown",
      "metadata": {
        "id": "hXd1VBQMOmLa"
      },
      "source": [
        "На таком графике ничего не понять, просемплируем данные до дня"
      ]
    },
    {
      "cell_type": "code",
      "execution_count": null,
      "metadata": {
        "id": "-f3SYJg5OmLa",
        "outputId": "2242d052-3648-42e3-f338-3b3934c730f9"
      },
      "outputs": [
        {
          "data": {
            "text/plain": [
              "<AxesSubplot:xlabel='datetime'>"
            ]
          },
          "execution_count": 11,
          "metadata": {},
          "output_type": "execute_result"
        },
        {
          "data": {
            "image/png": "[encoded data removed]",
            "text/plain": [
              "<Figure size 1152x432 with 1 Axes>"
            ]
          },
          "metadata": {
            "needs_background": "light"
          },
          "output_type": "display_data"
        }
      ],
      "source": [
        "plt.figure(figsize=(16, 6))\n",
        "df.resample('1D').sum().plot(ax=plt.gca())"
      ]
    },
    {
      "cell_type": "markdown",
      "metadata": {
        "id": "3haa1A1HOmLa"
      },
      "source": [
        "Распределение и среднее значение со временем у временного ряда меняется, поэтому мы можем сделать вывод, что ряд не стационарный.\n",
        "Можно ещё заметить, что летом/в начале осени количество заказов увеличивается. Возможно это зависит от того, что лето, особенно август, — сезон отпусков и такси берут чтобы доехать, например, до аэропорта или вокзала."
      ]
    },
    {
      "cell_type": "markdown",
      "metadata": {
        "id": "Y3Nu6tPDOmLa"
      },
      "source": [
        "Разложим данные на тренд, сезонность и остаток."
      ]
    },
    {
      "cell_type": "code",
      "execution_count": null,
      "metadata": {
        "scrolled": true,
        "id": "kh3Rdw2oOmLb",
        "outputId": "fd07ac83-2c61-48a0-b3f2-6789b0f44a64"
      },
      "outputs": [
        {
          "data": {
            "text/plain": [
              "<AxesSubplot:xlabel='datetime'>"
            ]
          },
          "execution_count": 12,
          "metadata": {},
          "output_type": "execute_result"
        },
        {
          "data": {
            "image/png": "[encoded data removed]",
            "text/plain": [
              "<Figure size 1152x432 with 1 Axes>"
            ]
          },
          "metadata": {
            "needs_background": "light"
          },
          "output_type": "display_data"
        }
      ],
      "source": [
        "decomposed = seasonal_decompose(df.resample('1D').sum())\n",
        "\n",
        "plt.figure(figsize=(16, 6))\n",
        "decomposed.trend.plot(ax=plt.gca())"
      ]
    },
    {
      "cell_type": "code",
      "execution_count": null,
      "metadata": {
        "id": "ntsX-XoAOmLb",
        "outputId": "32e49112-e1d6-456b-a687-40948834e0ad"
      },
      "outputs": [
        {
          "data": {
            "text/plain": [
              "<AxesSubplot:xlabel='datetime'>"
            ]
          },
          "execution_count": 13,
          "metadata": {},
          "output_type": "execute_result"
        },
        {
          "data": {
            "image/png": "[encoded data removed]",
            "text/plain": [
              "<Figure size 1152x432 with 1 Axes>"
            ]
          },
          "metadata": {
            "needs_background": "light"
          },
          "output_type": "display_data"
        }
      ],
      "source": [
        "plt.figure(figsize=(16, 6))\n",
        "decomposed.seasonal.plot(ax=plt.gca())"
      ]
    },
    {
      "cell_type": "code",
      "execution_count": null,
      "metadata": {
        "scrolled": true,
        "id": "9Be90KGrOmLb",
        "outputId": "318f7c46-82f7-4cd8-9f0c-02769e2809be"
      },
      "outputs": [
        {
          "data": {
            "text/plain": [
              "<AxesSubplot:xlabel='datetime'>"
            ]
          },
          "execution_count": 14,
          "metadata": {},
          "output_type": "execute_result"
        },
        {
          "data": {
            "image/png": "[encoded data removed]",
            "text/plain": [
              "<Figure size 1152x432 with 1 Axes>"
            ]
          },
          "metadata": {
            "needs_background": "light"
          },
          "output_type": "display_data"
        }
      ],
      "source": [
        "plt.figure(figsize=(16, 6))\n",
        "decomposed.resid.plot(ax=plt.gca())"
      ]
    },
    {
      "cell_type": "markdown",
      "metadata": {
        "id": "7b9LowoJOmLc"
      },
      "source": [
        "Тренд — увеличение заказов летом\n",
        "У сезонности такой график, потому что мы взяли небольшой интервал значений. Посмотрим на сезонность за 2 дня"
      ]
    },
    {
      "cell_type": "code",
      "execution_count": null,
      "metadata": {
        "scrolled": true,
        "id": "mQtaqvxIOmLc",
        "outputId": "02153cf8-0224-4f9d-f01a-f90b66fe3b6c"
      },
      "outputs": [
        {
          "data": {
            "text/plain": [
              "<AxesSubplot:xlabel='datetime'>"
            ]
          },
          "execution_count": 15,
          "metadata": {},
          "output_type": "execute_result"
        },
        {
          "data": {
            "image/png": "[encoded data removed]",
            "text/plain": [
              "<Figure size 1152x432 with 1 Axes>"
            ]
          },
          "metadata": {
            "needs_background": "light"
          },
          "output_type": "display_data"
        }
      ],
      "source": [
        "decomposed = seasonal_decompose(df.resample('1H').sum())\n",
        "\n",
        "plt.figure(figsize=(16, 6))\n",
        "decomposed.seasonal['2018-04-01':'2018-04-03'].plot(ax=plt.gca())"
      ]
    },
    {
      "cell_type": "markdown",
      "metadata": {
        "id": "7n90tdtjOmLc"
      },
      "source": [
        "Можем заметить, что наименьшее число заказов приходится на 6-7 утра, а потом стремительно возрастает. Возможно это связано с поездками на работу. Также можно заметить два пика: один к вечеру (возможно, возвращение с работы), а второй поздно ночью (в это время общественный транспорт перестаёт ходить, закрывается метро)"
      ]
    },
    {
      "cell_type": "markdown",
      "metadata": {
        "id": "ReQQljc6OmLc"
      },
      "source": [
        "**Вывод**"
      ]
    },
    {
      "cell_type": "markdown",
      "metadata": {
        "id": "mck2psgiOmLd"
      },
      "source": [
        "1. Летом/в начале осени количество заказов увеличивается. Возможно это зависит от того, что лето, особенно август, — сезон отпусков и такси берут чтобы доехать, например, до аэропорта или вокзала. Либо это растёт спрос на такси со временем в принципе.\n",
        "2. Наименьшее число заказов приходится на раннее утро, а потом стремительно возрастает из-за поездок на работу. Также можно заметить два пика: один к вечеру (возвращение с работы), а второй поздно ночью (в это время общественный транспорт перестаёт ходить, закрывается метро)\n",
        "3. В данных есть выбросы, поэтому придётся найти дальше скользящее среднее.\n"
      ]
    },
    {
      "cell_type": "markdown",
      "metadata": {
        "id": "W-k-OiUpOmLd"
      },
      "source": [
        "<div class=\"alert alert-block alert-success\">\n",
        "<b>Успех:</b> Декомпозиция была сделана верно. Хорошо, что сезонность была визуализирована на более коротком интервале!\n",
        "</div>"
      ]
    },
    {
      "cell_type": "markdown",
      "metadata": {
        "id": "kteSzxUfOmLd"
      },
      "source": [
        "## Обучение"
      ]
    },
    {
      "cell_type": "markdown",
      "metadata": {
        "id": "B2wJGj-wOmLd"
      },
      "source": [
        "Напишем функцию для создания признаков. Она будет создавать:\n",
        "\n",
        "* Календарные признаки\n",
        "* Отстающие значения\n",
        "* Скользящее среднее\n",
        "\n"
      ]
    },
    {
      "cell_type": "code",
      "execution_count": null,
      "metadata": {
        "id": "6_ShymPHOmLd"
      },
      "outputs": [],
      "source": [
        "df_new = df\n",
        "\n",
        "def make_features(data, max_lag, rolling_mean_size):\n",
        "    data['difference'] = abs(data['num_orders'] - data['num_orders'].shift())\n",
        "    data['month'] = data.index.month\n",
        "    data['day'] = data.index.day\n",
        "    data['dayofweek'] = data.index.dayofweek\n",
        "    data['hour'] = data.index.hour\n",
        "\n",
        "    for i in range(1, max_lag + 1):\n",
        "        data['lag_' + str(i)] = data['num_orders'].shift(i)\n",
        "\n",
        "    data['rolling_mean'] = data['num_orders'].shift().rolling(rolling_mean_size).mean()\n",
        "    data['std'] = data['num_orders'].shift().rolling(rolling_mean_size).std()\n",
        "\n",
        "make_features(df_new, 10, 10)\n",
        "\n"
      ]
    },
    {
      "cell_type": "code",
      "execution_count": null,
      "metadata": {
        "id": "rZ2KhY71OmLd",
        "outputId": "0c011382-6ac7-4d72-95e2-207755e4a317"
      },
      "outputs": [
        {
          "data": {
            "text/html": [
              "<div>\n",
              "<style scoped>\n",
              "    .dataframe tbody tr th:only-of-type {\n",
              "        vertical-align: middle;\n",
              "    }\n",
              "\n",
              "    .dataframe tbody tr th {\n",
              "        vertical-align: top;\n",
              "    }\n",
              "\n",
              "    .dataframe thead th {\n",
              "        text-align: right;\n",
              "    }\n",
              "</style>\n",
              "<table border=\"1\" class=\"dataframe\">\n",
              "  <thead>\n",
              "    <tr style=\"text-align: right;\">\n",
              "      <th></th>\n",
              "      <th>num_orders</th>\n",
              "      <th>difference</th>\n",
              "      <th>month</th>\n",
              "      <th>day</th>\n",
              "      <th>dayofweek</th>\n",
              "      <th>hour</th>\n",
              "      <th>lag_1</th>\n",
              "      <th>lag_2</th>\n",
              "      <th>lag_3</th>\n",
              "      <th>lag_4</th>\n",
              "      <th>lag_5</th>\n",
              "      <th>lag_6</th>\n",
              "      <th>lag_7</th>\n",
              "      <th>lag_8</th>\n",
              "      <th>lag_9</th>\n",
              "      <th>lag_10</th>\n",
              "      <th>rolling_mean</th>\n",
              "      <th>std</th>\n",
              "    </tr>\n",
              "    <tr>\n",
              "      <th>datetime</th>\n",
              "      <th></th>\n",
              "      <th></th>\n",
              "      <th></th>\n",
              "      <th></th>\n",
              "      <th></th>\n",
              "      <th></th>\n",
              "      <th></th>\n",
              "      <th></th>\n",
              "      <th></th>\n",
              "      <th></th>\n",
              "      <th></th>\n",
              "      <th></th>\n",
              "      <th></th>\n",
              "      <th></th>\n",
              "      <th></th>\n",
              "      <th></th>\n",
              "      <th></th>\n",
              "      <th></th>\n",
              "    </tr>\n",
              "  </thead>\n",
              "  <tbody>\n",
              "    <tr>\n",
              "      <th>2018-03-01 00:00:00</th>\n",
              "      <td>124</td>\n",
              "      <td>NaN</td>\n",
              "      <td>3</td>\n",
              "      <td>1</td>\n",
              "      <td>3</td>\n",
              "      <td>0</td>\n",
              "      <td>NaN</td>\n",
              "      <td>NaN</td>\n",
              "      <td>NaN</td>\n",
              "      <td>NaN</td>\n",
              "      <td>NaN</td>\n",
              "      <td>NaN</td>\n",
              "      <td>NaN</td>\n",
              "      <td>NaN</td>\n",
              "      <td>NaN</td>\n",
              "      <td>NaN</td>\n",
              "      <td>NaN</td>\n",
              "      <td>NaN</td>\n",
              "    </tr>\n",
              "    <tr>\n",
              "      <th>2018-03-01 01:00:00</th>\n",
              "      <td>85</td>\n",
              "      <td>39.0</td>\n",
              "      <td>3</td>\n",
              "      <td>1</td>\n",
              "      <td>3</td>\n",
              "      <td>1</td>\n",
              "      <td>124.0</td>\n",
              "      <td>NaN</td>\n",
              "      <td>NaN</td>\n",
              "      <td>NaN</td>\n",
              "      <td>NaN</td>\n",
              "      <td>NaN</td>\n",
              "      <td>NaN</td>\n",
              "      <td>NaN</td>\n",
              "      <td>NaN</td>\n",
              "      <td>NaN</td>\n",
              "      <td>NaN</td>\n",
              "      <td>NaN</td>\n",
              "    </tr>\n",
              "    <tr>\n",
              "      <th>2018-03-01 02:00:00</th>\n",
              "      <td>71</td>\n",
              "      <td>14.0</td>\n",
              "      <td>3</td>\n",
              "      <td>1</td>\n",
              "      <td>3</td>\n",
              "      <td>2</td>\n",
              "      <td>85.0</td>\n",
              "      <td>124.0</td>\n",
              "      <td>NaN</td>\n",
              "      <td>NaN</td>\n",
              "      <td>NaN</td>\n",
              "      <td>NaN</td>\n",
              "      <td>NaN</td>\n",
              "      <td>NaN</td>\n",
              "      <td>NaN</td>\n",
              "      <td>NaN</td>\n",
              "      <td>NaN</td>\n",
              "      <td>NaN</td>\n",
              "    </tr>\n",
              "    <tr>\n",
              "      <th>2018-03-01 03:00:00</th>\n",
              "      <td>66</td>\n",
              "      <td>5.0</td>\n",
              "      <td>3</td>\n",
              "      <td>1</td>\n",
              "      <td>3</td>\n",
              "      <td>3</td>\n",
              "      <td>71.0</td>\n",
              "      <td>85.0</td>\n",
              "      <td>124.0</td>\n",
              "      <td>NaN</td>\n",
              "      <td>NaN</td>\n",
              "      <td>NaN</td>\n",
              "      <td>NaN</td>\n",
              "      <td>NaN</td>\n",
              "      <td>NaN</td>\n",
              "      <td>NaN</td>\n",
              "      <td>NaN</td>\n",
              "      <td>NaN</td>\n",
              "    </tr>\n",
              "    <tr>\n",
              "      <th>2018-03-01 04:00:00</th>\n",
              "      <td>43</td>\n",
              "      <td>23.0</td>\n",
              "      <td>3</td>\n",
              "      <td>1</td>\n",
              "      <td>3</td>\n",
              "      <td>4</td>\n",
              "      <td>66.0</td>\n",
              "      <td>71.0</td>\n",
              "      <td>85.0</td>\n",
              "      <td>124.0</td>\n",
              "      <td>NaN</td>\n",
              "      <td>NaN</td>\n",
              "      <td>NaN</td>\n",
              "      <td>NaN</td>\n",
              "      <td>NaN</td>\n",
              "      <td>NaN</td>\n",
              "      <td>NaN</td>\n",
              "      <td>NaN</td>\n",
              "    </tr>\n",
              "    <tr>\n",
              "      <th>...</th>\n",
              "      <td>...</td>\n",
              "      <td>...</td>\n",
              "      <td>...</td>\n",
              "      <td>...</td>\n",
              "      <td>...</td>\n",
              "      <td>...</td>\n",
              "      <td>...</td>\n",
              "      <td>...</td>\n",
              "      <td>...</td>\n",
              "      <td>...</td>\n",
              "      <td>...</td>\n",
              "      <td>...</td>\n",
              "      <td>...</td>\n",
              "      <td>...</td>\n",
              "      <td>...</td>\n",
              "      <td>...</td>\n",
              "      <td>...</td>\n",
              "      <td>...</td>\n",
              "    </tr>\n",
              "    <tr>\n",
              "      <th>2018-08-31 19:00:00</th>\n",
              "      <td>136</td>\n",
              "      <td>71.0</td>\n",
              "      <td>8</td>\n",
              "      <td>31</td>\n",
              "      <td>4</td>\n",
              "      <td>19</td>\n",
              "      <td>207.0</td>\n",
              "      <td>217.0</td>\n",
              "      <td>197.0</td>\n",
              "      <td>116.0</td>\n",
              "      <td>133.0</td>\n",
              "      <td>166.0</td>\n",
              "      <td>136.0</td>\n",
              "      <td>167.0</td>\n",
              "      <td>191.0</td>\n",
              "      <td>203.0</td>\n",
              "      <td>173.3</td>\n",
              "      <td>35.267391</td>\n",
              "    </tr>\n",
              "    <tr>\n",
              "      <th>2018-08-31 20:00:00</th>\n",
              "      <td>154</td>\n",
              "      <td>18.0</td>\n",
              "      <td>8</td>\n",
              "      <td>31</td>\n",
              "      <td>4</td>\n",
              "      <td>20</td>\n",
              "      <td>136.0</td>\n",
              "      <td>207.0</td>\n",
              "      <td>217.0</td>\n",
              "      <td>197.0</td>\n",
              "      <td>116.0</td>\n",
              "      <td>133.0</td>\n",
              "      <td>166.0</td>\n",
              "      <td>136.0</td>\n",
              "      <td>167.0</td>\n",
              "      <td>191.0</td>\n",
              "      <td>166.6</td>\n",
              "      <td>35.362252</td>\n",
              "    </tr>\n",
              "    <tr>\n",
              "      <th>2018-08-31 21:00:00</th>\n",
              "      <td>159</td>\n",
              "      <td>5.0</td>\n",
              "      <td>8</td>\n",
              "      <td>31</td>\n",
              "      <td>4</td>\n",
              "      <td>21</td>\n",
              "      <td>154.0</td>\n",
              "      <td>136.0</td>\n",
              "      <td>207.0</td>\n",
              "      <td>217.0</td>\n",
              "      <td>197.0</td>\n",
              "      <td>116.0</td>\n",
              "      <td>133.0</td>\n",
              "      <td>166.0</td>\n",
              "      <td>136.0</td>\n",
              "      <td>167.0</td>\n",
              "      <td>162.9</td>\n",
              "      <td>34.449480</td>\n",
              "    </tr>\n",
              "    <tr>\n",
              "      <th>2018-08-31 22:00:00</th>\n",
              "      <td>223</td>\n",
              "      <td>64.0</td>\n",
              "      <td>8</td>\n",
              "      <td>31</td>\n",
              "      <td>4</td>\n",
              "      <td>22</td>\n",
              "      <td>159.0</td>\n",
              "      <td>154.0</td>\n",
              "      <td>136.0</td>\n",
              "      <td>207.0</td>\n",
              "      <td>217.0</td>\n",
              "      <td>197.0</td>\n",
              "      <td>116.0</td>\n",
              "      <td>133.0</td>\n",
              "      <td>166.0</td>\n",
              "      <td>136.0</td>\n",
              "      <td>162.1</td>\n",
              "      <td>34.436576</td>\n",
              "    </tr>\n",
              "    <tr>\n",
              "      <th>2018-08-31 23:00:00</th>\n",
              "      <td>205</td>\n",
              "      <td>18.0</td>\n",
              "      <td>8</td>\n",
              "      <td>31</td>\n",
              "      <td>4</td>\n",
              "      <td>23</td>\n",
              "      <td>223.0</td>\n",
              "      <td>159.0</td>\n",
              "      <td>154.0</td>\n",
              "      <td>136.0</td>\n",
              "      <td>207.0</td>\n",
              "      <td>217.0</td>\n",
              "      <td>197.0</td>\n",
              "      <td>116.0</td>\n",
              "      <td>133.0</td>\n",
              "      <td>166.0</td>\n",
              "      <td>170.8</td>\n",
              "      <td>37.923314</td>\n",
              "    </tr>\n",
              "  </tbody>\n",
              "</table>\n",
              "<p>4416 rows × 18 columns</p>\n",
              "</div>"
            ],
            "text/plain": [
              "                     num_orders  difference  month  day  dayofweek  hour  \\\n",
              "datetime                                                                   \n",
              "2018-03-01 00:00:00         124         NaN      3    1          3     0   \n",
              "2018-03-01 01:00:00          85        39.0      3    1          3     1   \n",
              "2018-03-01 02:00:00          71        14.0      3    1          3     2   \n",
              "2018-03-01 03:00:00          66         5.0      3    1          3     3   \n",
              "2018-03-01 04:00:00          43        23.0      3    1          3     4   \n",
              "...                         ...         ...    ...  ...        ...   ...   \n",
              "2018-08-31 19:00:00         136        71.0      8   31          4    19   \n",
              "2018-08-31 20:00:00         154        18.0      8   31          4    20   \n",
              "2018-08-31 21:00:00         159         5.0      8   31          4    21   \n",
              "2018-08-31 22:00:00         223        64.0      8   31          4    22   \n",
              "2018-08-31 23:00:00         205        18.0      8   31          4    23   \n",
              "\n",
              "                     lag_1  lag_2  lag_3  lag_4  lag_5  lag_6  lag_7  lag_8  \\\n",
              "datetime                                                                      \n",
              "2018-03-01 00:00:00    NaN    NaN    NaN    NaN    NaN    NaN    NaN    NaN   \n",
              "2018-03-01 01:00:00  124.0    NaN    NaN    NaN    NaN    NaN    NaN    NaN   \n",
              "2018-03-01 02:00:00   85.0  124.0    NaN    NaN    NaN    NaN    NaN    NaN   \n",
              "2018-03-01 03:00:00   71.0   85.0  124.0    NaN    NaN    NaN    NaN    NaN   \n",
              "2018-03-01 04:00:00   66.0   71.0   85.0  124.0    NaN    NaN    NaN    NaN   \n",
              "...                    ...    ...    ...    ...    ...    ...    ...    ...   \n",
              "2018-08-31 19:00:00  207.0  217.0  197.0  116.0  133.0  166.0  136.0  167.0   \n",
              "2018-08-31 20:00:00  136.0  207.0  217.0  197.0  116.0  133.0  166.0  136.0   \n",
              "2018-08-31 21:00:00  154.0  136.0  207.0  217.0  197.0  116.0  133.0  166.0   \n",
              "2018-08-31 22:00:00  159.0  154.0  136.0  207.0  217.0  197.0  116.0  133.0   \n",
              "2018-08-31 23:00:00  223.0  159.0  154.0  136.0  207.0  217.0  197.0  116.0   \n",
              "\n",
              "                     lag_9  lag_10  rolling_mean        std  \n",
              "datetime                                                     \n",
              "2018-03-01 00:00:00    NaN     NaN           NaN        NaN  \n",
              "2018-03-01 01:00:00    NaN     NaN           NaN        NaN  \n",
              "2018-03-01 02:00:00    NaN     NaN           NaN        NaN  \n",
              "2018-03-01 03:00:00    NaN     NaN           NaN        NaN  \n",
              "2018-03-01 04:00:00    NaN     NaN           NaN        NaN  \n",
              "...                    ...     ...           ...        ...  \n",
              "2018-08-31 19:00:00  191.0   203.0         173.3  35.267391  \n",
              "2018-08-31 20:00:00  167.0   191.0         166.6  35.362252  \n",
              "2018-08-31 21:00:00  136.0   167.0         162.9  34.449480  \n",
              "2018-08-31 22:00:00  166.0   136.0         162.1  34.436576  \n",
              "2018-08-31 23:00:00  133.0   166.0         170.8  37.923314  \n",
              "\n",
              "[4416 rows x 18 columns]"
            ]
          },
          "execution_count": 17,
          "metadata": {},
          "output_type": "execute_result"
        }
      ],
      "source": [
        "df_new"
      ]
    },
    {
      "cell_type": "markdown",
      "metadata": {
        "id": "iJZBXTZEOmLe"
      },
      "source": [
        "<div class=\"alert alert-block alert-info\">\n",
        "<b>Совет: </b> Желательно было написать функцию таким образом, чтобы она возвращала новый датафрейм, а не изменяла глобальную переменную.\n",
        "</div>"
      ]
    },
    {
      "cell_type": "code",
      "execution_count": null,
      "metadata": {
        "id": "bSN2IAYYOmLe"
      },
      "outputs": [],
      "source": [
        "#df_new= df - df.shift(fill_value=df.iloc[0,0])\n",
        "#df_new = make_features(df, 30, 15,'num_orders')\n",
        "#df_new.dropna(inplace = True)"
      ]
    },
    {
      "cell_type": "markdown",
      "metadata": {
        "id": "UivDtaucOmLe"
      },
      "source": [
        "<div class=\"alert alert-block alert-info\">\n",
        "<b>Совет: </b> Таким образом ты изменила задачу и теперь предсказываешь разность, а не количество заказов.\n",
        "</div>"
      ]
    },
    {
      "cell_type": "markdown",
      "metadata": {
        "id": "sJB9dcxHOmLe"
      },
      "source": [
        "Разобьем данные на три выборки: обучающую, валидационную и тестовую. Разобьем их в отношении 8:1:1 (10% на тестовую, 10% на валидационную и 80% на обучающую)\n",
        "Из обучающей удалим пропуски"
      ]
    },
    {
      "cell_type": "code",
      "execution_count": null,
      "metadata": {
        "scrolled": true,
        "id": "_6kvCggZOmLe"
      },
      "outputs": [],
      "source": [
        "df_train, df_valid_1 = train_test_split(df_new, shuffle=False, test_size=0.2, random_state=12345)\n",
        "\n",
        "df_valid, df_test = train_test_split(df_valid_1, shuffle=False, test_size=0.50, random_state=12345)\n",
        "\n",
        "df_train = df_train.dropna()"
      ]
    },
    {
      "cell_type": "markdown",
      "metadata": {
        "id": "5aFfN4owOmLe"
      },
      "source": [
        "<div class=\"alert alert-block alert-success\">\n",
        "<b>Успех:</b> Разбиение было сделано верно.\n",
        "</div>"
      ]
    },
    {
      "cell_type": "markdown",
      "metadata": {
        "id": "YhDkMzOYOmLf"
      },
      "source": [
        "Теперь делим данные на целевой остальные признаки"
      ]
    },
    {
      "cell_type": "code",
      "execution_count": null,
      "metadata": {
        "id": "icLBihEPOmLf"
      },
      "outputs": [],
      "source": [
        "features_train = df_train.drop(['num_orders'], axis=1)\n",
        "target_train = df_train['num_orders']\n",
        "\n",
        "features_valid = df_valid.drop(['num_orders'], axis=1)\n",
        "target_valid = df_valid['num_orders']\n",
        "\n",
        "features_test = df_test.drop(['num_orders'], axis=1)\n",
        "target_test = df_test['num_orders']"
      ]
    },
    {
      "cell_type": "markdown",
      "metadata": {
        "id": "egErWtFrOmLf"
      },
      "source": [
        "Маштабируем признаки"
      ]
    },
    {
      "cell_type": "code",
      "execution_count": null,
      "metadata": {
        "id": "x5J-KEXGOmLf"
      },
      "outputs": [],
      "source": [
        "#scaler = StandardScaler()\n",
        "#scaler.fit(features_train)\n",
        "\n",
        "#features_train = scaler.transform(features_train)\n",
        "#features_valid = scaler.transform(features_valid)\n",
        "#features_test = scaler.transform(features_test)"
      ]
    },
    {
      "cell_type": "markdown",
      "metadata": {
        "id": "maPfwPvhOmLf"
      },
      "source": [
        "Попробуем обучить модели линейной регрессии, LGBMRegressor и CatBoostRegressor"
      ]
    },
    {
      "cell_type": "markdown",
      "metadata": {
        "id": "Nawl6g8jOmLg"
      },
      "source": [
        "**Линейная регрессия**"
      ]
    },
    {
      "cell_type": "code",
      "execution_count": null,
      "metadata": {
        "scrolled": true,
        "id": "rxYxleNUOmLg",
        "outputId": "e703f81e-aa8a-4b5f-bd84-40044afb30f9"
      },
      "outputs": [
        {
          "name": "stdout",
          "output_type": "stream",
          "text": [
            "RMSE: 40.110\n",
            "CPU times: user 5.69 ms, sys: 15.8 ms, total: 21.5 ms\n",
            "Wall time: 7.83 ms\n"
          ]
        }
      ],
      "source": [
        "%%time\n",
        "\n",
        "lr = LinearRegression().fit(features_train, target_train)\n",
        "predictions = lr.predict(features_valid)\n",
        "\n",
        "print('RMSE:','{:.3f}'.format(mean_squared_error(target_valid,predictions)**0.5))"
      ]
    },
    {
      "cell_type": "markdown",
      "metadata": {
        "id": "BYaX6VHpOmLg"
      },
      "source": [
        "**LGBMRegressor**"
      ]
    },
    {
      "cell_type": "code",
      "execution_count": null,
      "metadata": {
        "id": "fAPTqMNfOmLg"
      },
      "outputs": [],
      "source": [
        "def lgbm_f(features_train, target_train, features_valid, target_valid):\n",
        "    for depth in range(2, 10, 5):\n",
        "        best_rmse = 48\n",
        "        best_est = 0\n",
        "        best_learning_rate = 0\n",
        "        best_parameters = ''\n",
        "\n",
        "        for est in range(60, 110, 50):\n",
        "            for learning_rate in [0.1, 0.3, 0.5]:\n",
        "                lgbm = LGBMRegressor(max_depth=depth, n_estimators=est, learning_rate=learning_rate, random_state=12345)\n",
        "\n",
        "                lgbm.fit(features_train, target_train)\n",
        "                predictions = lgbm.predict(features_valid)\n",
        "\n",
        "                rmse = mean_squared_error(target_valid, predictions)**0.5\n",
        "\n",
        "                if best_rmse > rmse:\n",
        "                    best_learning_rate = learning_rate\n",
        "                    best_rmse = rmse\n",
        "                    best_est = est\n",
        "                    best_parameters = 'Глубина', depth, 'Оценщиков', est\n",
        "\n",
        "        print('Наилучший результат при', depth, 'глубине, при', est, 'оценщиках:', best_rmse, 'best_learning_rate', best_learning_rate, '\\n')"
      ]
    },
    {
      "cell_type": "code",
      "execution_count": null,
      "metadata": {
        "id": "i6Hjo2grOmLg",
        "outputId": "d4cf4698-7ec3-4c3d-8c0c-b22edfed9ed7"
      },
      "outputs": [
        {
          "name": "stdout",
          "output_type": "stream",
          "text": [
            "Наилучший результат при 2 глубине, при 60 оценщиках: 30.83275336955914 best_learning_rate 0.5 \n",
            "\n",
            "Наилучший результат при 7 глубине, при 60 оценщиках: 29.1594306868302 best_learning_rate 0.1 \n",
            "\n",
            "CPU times: user 1min 53s, sys: 1.13 s, total: 1min 54s\n",
            "Wall time: 1min 55s\n"
          ]
        }
      ],
      "source": [
        "%%time\n",
        "\n",
        "lgbm_f(features_train, target_train, features_valid, target_valid)"
      ]
    },
    {
      "cell_type": "markdown",
      "metadata": {
        "id": "lLlu7lUTOmLh"
      },
      "source": [
        "**CatBoostRegressor**"
      ]
    },
    {
      "cell_type": "code",
      "execution_count": null,
      "metadata": {
        "id": "a6cdfYcmOmLh"
      },
      "outputs": [],
      "source": [
        "def cat_b(features_train, target_train, features_valid, target_valid):\n",
        "\n",
        "    for depth in range(2, 10, 5):\n",
        "        best_rmse = 48\n",
        "        best_iterations = 0\n",
        "        best_parameters = ''\n",
        "\n",
        "        for iteration in range(50, 110, 50):\n",
        "            catboost = CatBoostRegressor(depth=depth, iterations=iteration, random_state=12345)\n",
        "\n",
        "            catboost.fit(features_train, target_train)\n",
        "            predictions = catboost.predict(features_valid)\n",
        "\n",
        "            rmse = mean_squared_error(target_valid, predictions)**0.5\n",
        "\n",
        "\n",
        "            if best_rmse > rmse:\n",
        "                best_rmse = rmse\n",
        "                best_iterations = iteration\n",
        "                best_parameters = 'Глубина', depth, 'Итераций', iteration\n",
        "\n",
        "        print('Наилучший результат при', depth, 'глубине, при', best_iterations, 'итерациях:', best_rmse, '\\n')"
      ]
    },
    {
      "cell_type": "code",
      "execution_count": null,
      "metadata": {
        "scrolled": true,
        "id": "G_PwBmB9OmLh",
        "outputId": "b7da9080-2747-488b-f43a-c0c867ec474e"
      },
      "outputs": [
        {
          "name": "stdout",
          "output_type": "stream",
          "text": [
            "Learning rate set to 0.5\n",
            "0:\tlearn: 31.6766172\ttotal: 1.02ms\tremaining: 50.3ms\n",
            "1:\tlearn: 29.5196649\ttotal: 1.98ms\tremaining: 47.4ms\n",
            "2:\tlearn: 28.0902087\ttotal: 2.8ms\tremaining: 43.9ms\n",
            "3:\tlearn: 27.2424885\ttotal: 3.58ms\tremaining: 41.2ms\n",
            "4:\tlearn: 26.7720790\ttotal: 4.36ms\tremaining: 39.2ms\n",
            "5:\tlearn: 26.1224132\ttotal: 5.33ms\tremaining: 39.1ms\n",
            "6:\tlearn: 25.1373637\ttotal: 6.13ms\tremaining: 37.7ms\n",
            "7:\tlearn: 24.7870478\ttotal: 6.89ms\tremaining: 36.2ms\n",
            "8:\tlearn: 24.6080505\ttotal: 7.82ms\tremaining: 35.6ms\n",
            "9:\tlearn: 24.4189249\ttotal: 8.63ms\tremaining: 34.5ms\n",
            "10:\tlearn: 24.1808078\ttotal: 9.39ms\tremaining: 33.3ms\n",
            "11:\tlearn: 23.9457362\ttotal: 10.1ms\tremaining: 31.8ms\n",
            "12:\tlearn: 22.9850972\ttotal: 10.8ms\tremaining: 30.7ms\n",
            "13:\tlearn: 22.1240034\ttotal: 11.6ms\tremaining: 29.8ms\n",
            "14:\tlearn: 21.6607938\ttotal: 12.4ms\tremaining: 29ms\n",
            "15:\tlearn: 21.4894240\ttotal: 13.1ms\tremaining: 27.9ms\n",
            "16:\tlearn: 21.3875201\ttotal: 13.8ms\tremaining: 26.8ms\n",
            "17:\tlearn: 20.9777474\ttotal: 14.6ms\tremaining: 25.9ms\n",
            "18:\tlearn: 20.8842353\ttotal: 15.3ms\tremaining: 25ms\n",
            "19:\tlearn: 20.7990267\ttotal: 16ms\tremaining: 24.1ms\n",
            "20:\tlearn: 20.7612102\ttotal: 16.7ms\tremaining: 23ms\n",
            "21:\tlearn: 20.5498030\ttotal: 17.4ms\tremaining: 22.1ms\n",
            "22:\tlearn: 20.4545528\ttotal: 18.1ms\tremaining: 21.2ms\n",
            "23:\tlearn: 20.3710763\ttotal: 18.7ms\tremaining: 20.3ms\n",
            "24:\tlearn: 20.2793953\ttotal: 19.5ms\tremaining: 19.5ms\n",
            "25:\tlearn: 20.2129655\ttotal: 20.2ms\tremaining: 18.7ms\n",
            "26:\tlearn: 20.1763465\ttotal: 20.9ms\tremaining: 17.8ms\n",
            "27:\tlearn: 20.0464713\ttotal: 21.7ms\tremaining: 17.1ms\n",
            "28:\tlearn: 19.9709409\ttotal: 22.5ms\tremaining: 16.3ms\n",
            "29:\tlearn: 19.7054041\ttotal: 23.2ms\tremaining: 15.5ms\n",
            "30:\tlearn: 19.5929988\ttotal: 24ms\tremaining: 14.7ms\n",
            "31:\tlearn: 19.5210092\ttotal: 24.8ms\tremaining: 14ms\n",
            "32:\tlearn: 19.4985807\ttotal: 25.5ms\tremaining: 13.1ms\n",
            "33:\tlearn: 19.4419429\ttotal: 26.3ms\tremaining: 12.4ms\n",
            "34:\tlearn: 19.4324102\ttotal: 27ms\tremaining: 11.6ms\n",
            "35:\tlearn: 19.3423545\ttotal: 28ms\tremaining: 10.9ms\n",
            "36:\tlearn: 19.3042040\ttotal: 28.9ms\tremaining: 10.2ms\n",
            "37:\tlearn: 19.2675764\ttotal: 29.8ms\tremaining: 9.41ms\n",
            "38:\tlearn: 19.0054154\ttotal: 30.8ms\tremaining: 8.69ms\n",
            "39:\tlearn: 18.7607113\ttotal: 31.7ms\tremaining: 7.93ms\n",
            "40:\tlearn: 18.7198474\ttotal: 32.6ms\tremaining: 7.16ms\n",
            "41:\tlearn: 18.6958744\ttotal: 33.5ms\tremaining: 6.39ms\n",
            "42:\tlearn: 18.6205197\ttotal: 34.5ms\tremaining: 5.61ms\n",
            "43:\tlearn: 18.5971737\ttotal: 35.3ms\tremaining: 4.81ms\n",
            "44:\tlearn: 18.5199408\ttotal: 36.1ms\tremaining: 4.01ms\n",
            "45:\tlearn: 18.4737765\ttotal: 36.9ms\tremaining: 3.21ms\n",
            "46:\tlearn: 18.3820402\ttotal: 37.7ms\tremaining: 2.4ms\n",
            "47:\tlearn: 18.2671851\ttotal: 38.5ms\tremaining: 1.6ms\n",
            "48:\tlearn: 18.1890051\ttotal: 39.3ms\tremaining: 801us\n",
            "49:\tlearn: 18.0616037\ttotal: 40.1ms\tremaining: 0us\n",
            "Learning rate set to 0.324767\n",
            "0:\tlearn: 32.8322245\ttotal: 950us\tremaining: 94.1ms\n",
            "1:\tlearn: 31.1843674\ttotal: 1.95ms\tremaining: 95.4ms\n",
            "2:\tlearn: 29.9824407\ttotal: 2.77ms\tremaining: 89.5ms\n",
            "3:\tlearn: 29.0730414\ttotal: 3.62ms\tremaining: 86.8ms\n",
            "4:\tlearn: 28.3691260\ttotal: 4.46ms\tremaining: 84.7ms\n",
            "5:\tlearn: 27.5685971\ttotal: 5.12ms\tremaining: 80.3ms\n",
            "6:\tlearn: 26.4705918\ttotal: 6.09ms\tremaining: 81ms\n",
            "7:\tlearn: 25.2777838\ttotal: 7.12ms\tremaining: 81.9ms\n",
            "8:\tlearn: 24.8665231\ttotal: 8.06ms\tremaining: 81.5ms\n",
            "9:\tlearn: 24.0409052\ttotal: 9ms\tremaining: 81ms\n",
            "10:\tlearn: 23.7504086\ttotal: 9.71ms\tremaining: 78.6ms\n",
            "11:\tlearn: 23.5602985\ttotal: 10.5ms\tremaining: 77ms\n",
            "12:\tlearn: 23.3262446\ttotal: 11.3ms\tremaining: 75.3ms\n",
            "13:\tlearn: 23.1976337\ttotal: 12ms\tremaining: 74ms\n",
            "14:\tlearn: 22.7205771\ttotal: 13.1ms\tremaining: 74ms\n",
            "15:\tlearn: 22.4931536\ttotal: 13.9ms\tremaining: 72.9ms\n",
            "16:\tlearn: 22.3637605\ttotal: 15.2ms\tremaining: 74.1ms\n",
            "17:\tlearn: 22.0998766\ttotal: 16.3ms\tremaining: 74.2ms\n",
            "18:\tlearn: 21.9866937\ttotal: 17.7ms\tremaining: 75.4ms\n",
            "19:\tlearn: 21.8024667\ttotal: 18.9ms\tremaining: 75.8ms\n",
            "20:\tlearn: 21.6844839\ttotal: 20ms\tremaining: 75.2ms\n",
            "21:\tlearn: 21.5897861\ttotal: 21.2ms\tremaining: 75.2ms\n",
            "22:\tlearn: 21.5371513\ttotal: 22.3ms\tremaining: 74.8ms\n",
            "23:\tlearn: 21.4743908\ttotal: 23.6ms\tremaining: 74.7ms\n",
            "24:\tlearn: 21.4092326\ttotal: 24.8ms\tremaining: 74.4ms\n",
            "25:\tlearn: 21.3389529\ttotal: 26.1ms\tremaining: 74.3ms\n",
            "26:\tlearn: 21.1050062\ttotal: 27.4ms\tremaining: 74ms\n",
            "27:\tlearn: 21.0014151\ttotal: 28.6ms\tremaining: 73.6ms\n",
            "28:\tlearn: 20.8264144\ttotal: 29.9ms\tremaining: 73.1ms\n",
            "29:\tlearn: 20.7571306\ttotal: 30.7ms\tremaining: 71.6ms\n",
            "30:\tlearn: 20.6162278\ttotal: 31.5ms\tremaining: 70ms\n",
            "31:\tlearn: 20.5424369\ttotal: 32.1ms\tremaining: 68.3ms\n",
            "32:\tlearn: 20.5011302\ttotal: 32.9ms\tremaining: 66.7ms\n",
            "33:\tlearn: 20.4416499\ttotal: 33.6ms\tremaining: 65.2ms\n",
            "34:\tlearn: 20.3935962\ttotal: 34.3ms\tremaining: 63.7ms\n",
            "35:\tlearn: 20.2791409\ttotal: 35.1ms\tremaining: 62.3ms\n",
            "36:\tlearn: 20.2064581\ttotal: 35.8ms\tremaining: 60.9ms\n",
            "37:\tlearn: 20.0839049\ttotal: 36.5ms\tremaining: 59.6ms\n",
            "38:\tlearn: 20.0468362\ttotal: 37.3ms\tremaining: 58.4ms\n",
            "39:\tlearn: 19.9996234\ttotal: 38.2ms\tremaining: 57.3ms\n",
            "40:\tlearn: 19.9611952\ttotal: 38.9ms\tremaining: 56ms\n",
            "41:\tlearn: 19.8942998\ttotal: 39.7ms\tremaining: 54.8ms\n",
            "42:\tlearn: 19.8321931\ttotal: 40.5ms\tremaining: 53.6ms\n",
            "43:\tlearn: 19.7176239\ttotal: 41.2ms\tremaining: 52.4ms\n",
            "44:\tlearn: 19.6385283\ttotal: 42.1ms\tremaining: 51.5ms\n",
            "45:\tlearn: 19.6128559\ttotal: 43.1ms\tremaining: 50.5ms\n",
            "46:\tlearn: 19.3020135\ttotal: 43.8ms\tremaining: 49.4ms\n",
            "47:\tlearn: 19.2750410\ttotal: 44.5ms\tremaining: 48.3ms\n",
            "48:\tlearn: 19.0841235\ttotal: 45.5ms\tremaining: 47.3ms\n",
            "49:\tlearn: 19.0278900\ttotal: 46.3ms\tremaining: 46.3ms\n",
            "50:\tlearn: 19.0018156\ttotal: 47.2ms\tremaining: 45.3ms\n",
            "51:\tlearn: 18.9610620\ttotal: 48ms\tremaining: 44.3ms\n",
            "52:\tlearn: 18.9355414\ttotal: 48.7ms\tremaining: 43.2ms\n",
            "53:\tlearn: 18.8781289\ttotal: 49.6ms\tremaining: 42.2ms\n",
            "54:\tlearn: 18.8595238\ttotal: 50.4ms\tremaining: 41.3ms\n",
            "55:\tlearn: 18.8433356\ttotal: 51.2ms\tremaining: 40.3ms\n",
            "56:\tlearn: 18.8148746\ttotal: 52.1ms\tremaining: 39.3ms\n",
            "57:\tlearn: 18.7016629\ttotal: 52.9ms\tremaining: 38.3ms\n",
            "58:\tlearn: 18.6611430\ttotal: 53.6ms\tremaining: 37.3ms\n",
            "59:\tlearn: 18.5947068\ttotal: 54.4ms\tremaining: 36.2ms\n",
            "60:\tlearn: 18.5646836\ttotal: 55.1ms\tremaining: 35.2ms\n",
            "61:\tlearn: 18.4612358\ttotal: 55.9ms\tremaining: 34.2ms\n",
            "62:\tlearn: 18.4391460\ttotal: 56.5ms\tremaining: 33.2ms\n",
            "63:\tlearn: 18.4225975\ttotal: 57.3ms\tremaining: 32.2ms\n",
            "64:\tlearn: 18.3985059\ttotal: 58.1ms\tremaining: 31.3ms\n",
            "65:\tlearn: 18.3858528\ttotal: 58.8ms\tremaining: 30.3ms\n",
            "66:\tlearn: 18.3724625\ttotal: 59.6ms\tremaining: 29.3ms\n",
            "67:\tlearn: 18.3027856\ttotal: 60.4ms\tremaining: 28.4ms\n",
            "68:\tlearn: 18.2042271\ttotal: 61.4ms\tremaining: 27.6ms\n",
            "69:\tlearn: 18.1541043\ttotal: 62.2ms\tremaining: 26.6ms\n",
            "70:\tlearn: 18.1354317\ttotal: 62.8ms\tremaining: 25.7ms\n",
            "71:\tlearn: 18.0360131\ttotal: 63.6ms\tremaining: 24.7ms\n",
            "72:\tlearn: 17.9560495\ttotal: 64.4ms\tremaining: 23.8ms\n",
            "73:\tlearn: 17.9527024\ttotal: 65ms\tremaining: 22.9ms\n",
            "74:\tlearn: 17.9151483\ttotal: 65.8ms\tremaining: 21.9ms\n",
            "75:\tlearn: 17.8923144\ttotal: 66.5ms\tremaining: 21ms\n",
            "76:\tlearn: 17.8408032\ttotal: 67.3ms\tremaining: 20.1ms\n",
            "77:\tlearn: 17.8002186\ttotal: 67.9ms\tremaining: 19.2ms\n",
            "78:\tlearn: 17.7845766\ttotal: 68.6ms\tremaining: 18.2ms\n",
            "79:\tlearn: 17.7624566\ttotal: 69.3ms\tremaining: 17.3ms\n",
            "80:\tlearn: 17.6988545\ttotal: 70.1ms\tremaining: 16.5ms\n",
            "81:\tlearn: 17.6876303\ttotal: 71.2ms\tremaining: 15.6ms\n",
            "82:\tlearn: 17.6381403\ttotal: 72.2ms\tremaining: 14.8ms\n",
            "83:\tlearn: 17.6119570\ttotal: 74.5ms\tremaining: 14.2ms\n",
            "84:\tlearn: 17.5908917\ttotal: 75.6ms\tremaining: 13.3ms\n",
            "85:\tlearn: 17.5486716\ttotal: 76.6ms\tremaining: 12.5ms\n",
            "86:\tlearn: 17.5372492\ttotal: 77.5ms\tremaining: 11.6ms\n",
            "87:\tlearn: 17.4986252\ttotal: 78.5ms\tremaining: 10.7ms\n",
            "88:\tlearn: 17.4804714\ttotal: 79.5ms\tremaining: 9.82ms\n",
            "89:\tlearn: 17.4707617\ttotal: 80.3ms\tremaining: 8.92ms\n",
            "90:\tlearn: 17.4529081\ttotal: 81.2ms\tremaining: 8.03ms\n",
            "91:\tlearn: 17.4348303\ttotal: 82.2ms\tremaining: 7.15ms\n",
            "92:\tlearn: 17.3932599\ttotal: 83ms\tremaining: 6.24ms\n",
            "93:\tlearn: 17.3582912\ttotal: 84.2ms\tremaining: 5.37ms\n",
            "94:\tlearn: 17.3469016\ttotal: 85ms\tremaining: 4.47ms\n",
            "95:\tlearn: 17.1771278\ttotal: 85.6ms\tremaining: 3.57ms\n",
            "96:\tlearn: 17.1703177\ttotal: 86.3ms\tremaining: 2.67ms\n",
            "97:\tlearn: 17.1579579\ttotal: 87ms\tremaining: 1.77ms\n",
            "98:\tlearn: 17.1438059\ttotal: 87.8ms\tremaining: 886us\n",
            "99:\tlearn: 17.1361253\ttotal: 88.6ms\tremaining: 0us\n",
            "Наилучший результат при 2 глубине, при 50 итерациях: 32.10595946165252 \n",
            "\n",
            "Learning rate set to 0.5\n",
            "0:\tlearn: 28.9641146\ttotal: 8.95ms\tremaining: 438ms\n",
            "1:\tlearn: 24.5105835\ttotal: 18ms\tremaining: 432ms\n",
            "2:\tlearn: 21.3556471\ttotal: 27.4ms\tremaining: 430ms\n",
            "3:\tlearn: 19.8226389\ttotal: 36.3ms\tremaining: 418ms\n",
            "4:\tlearn: 19.4072195\ttotal: 45.8ms\tremaining: 412ms\n",
            "5:\tlearn: 18.4157461\ttotal: 54.9ms\tremaining: 403ms\n",
            "6:\tlearn: 17.6960610\ttotal: 64.2ms\tremaining: 394ms\n",
            "7:\tlearn: 17.3886362\ttotal: 73.3ms\tremaining: 385ms\n",
            "8:\tlearn: 16.8900754\ttotal: 82.2ms\tremaining: 374ms\n",
            "9:\tlearn: 16.5821289\ttotal: 91.3ms\tremaining: 365ms\n",
            "10:\tlearn: 16.3503789\ttotal: 97.5ms\tremaining: 346ms\n",
            "11:\tlearn: 15.8889254\ttotal: 103ms\tremaining: 326ms\n",
            "12:\tlearn: 15.6577426\ttotal: 108ms\tremaining: 308ms\n",
            "13:\tlearn: 15.5099486\ttotal: 113ms\tremaining: 291ms\n",
            "14:\tlearn: 15.3407684\ttotal: 118ms\tremaining: 276ms\n",
            "15:\tlearn: 15.2150623\ttotal: 123ms\tremaining: 261ms\n",
            "16:\tlearn: 15.0887635\ttotal: 128ms\tremaining: 248ms\n",
            "17:\tlearn: 14.8700580\ttotal: 135ms\tremaining: 240ms\n",
            "18:\tlearn: 14.6538285\ttotal: 142ms\tremaining: 231ms\n",
            "19:\tlearn: 14.3814920\ttotal: 148ms\tremaining: 223ms\n",
            "20:\tlearn: 14.1057479\ttotal: 153ms\tremaining: 212ms\n",
            "21:\tlearn: 13.9946828\ttotal: 158ms\tremaining: 201ms\n",
            "22:\tlearn: 13.7883974\ttotal: 163ms\tremaining: 192ms\n",
            "23:\tlearn: 13.5641803\ttotal: 168ms\tremaining: 182ms\n",
            "24:\tlearn: 13.3581654\ttotal: 173ms\tremaining: 173ms\n",
            "25:\tlearn: 13.1801639\ttotal: 178ms\tremaining: 164ms\n",
            "26:\tlearn: 12.8908319\ttotal: 183ms\tremaining: 156ms\n",
            "27:\tlearn: 12.6694949\ttotal: 187ms\tremaining: 147ms\n"
          ]
        },
        {
          "name": "stdout",
          "output_type": "stream",
          "text": [
            "28:\tlearn: 12.4898744\ttotal: 193ms\tremaining: 139ms\n",
            "29:\tlearn: 12.4082650\ttotal: 197ms\tremaining: 131ms\n",
            "30:\tlearn: 12.3853837\ttotal: 202ms\tremaining: 124ms\n",
            "31:\tlearn: 12.3702846\ttotal: 207ms\tremaining: 116ms\n",
            "32:\tlearn: 12.1869803\ttotal: 211ms\tremaining: 109ms\n",
            "33:\tlearn: 12.0568172\ttotal: 217ms\tremaining: 102ms\n",
            "34:\tlearn: 11.7795356\ttotal: 223ms\tremaining: 95.7ms\n",
            "35:\tlearn: 11.6310862\ttotal: 230ms\tremaining: 89.5ms\n",
            "36:\tlearn: 11.5171492\ttotal: 237ms\tremaining: 83.3ms\n",
            "37:\tlearn: 11.3303344\ttotal: 243ms\tremaining: 76.7ms\n",
            "38:\tlearn: 11.3243896\ttotal: 248ms\tremaining: 69.8ms\n",
            "39:\tlearn: 11.2032048\ttotal: 253ms\tremaining: 63.1ms\n",
            "40:\tlearn: 11.1182212\ttotal: 257ms\tremaining: 56.5ms\n",
            "41:\tlearn: 11.0018779\ttotal: 262ms\tremaining: 50ms\n",
            "42:\tlearn: 10.9368795\ttotal: 272ms\tremaining: 44.2ms\n",
            "43:\tlearn: 10.9302088\ttotal: 276ms\tremaining: 37.7ms\n",
            "44:\tlearn: 10.9163540\ttotal: 282ms\tremaining: 31.3ms\n",
            "45:\tlearn: 10.7736476\ttotal: 287ms\tremaining: 24.9ms\n",
            "46:\tlearn: 10.6560924\ttotal: 292ms\tremaining: 18.6ms\n",
            "47:\tlearn: 10.5521910\ttotal: 297ms\tremaining: 12.4ms\n",
            "48:\tlearn: 10.4258880\ttotal: 302ms\tremaining: 6.16ms\n",
            "49:\tlearn: 10.2644416\ttotal: 307ms\tremaining: 0us\n",
            "Learning rate set to 0.324767\n",
            "0:\tlearn: 31.0002468\ttotal: 9.92ms\tremaining: 982ms\n",
            "1:\tlearn: 27.1314474\ttotal: 19.1ms\tremaining: 934ms\n",
            "2:\tlearn: 24.2528161\ttotal: 27.9ms\tremaining: 901ms\n",
            "3:\tlearn: 22.5051957\ttotal: 36.9ms\tremaining: 885ms\n",
            "4:\tlearn: 21.0453562\ttotal: 46.4ms\tremaining: 881ms\n",
            "5:\tlearn: 20.0716354\ttotal: 54.8ms\tremaining: 859ms\n",
            "6:\tlearn: 19.1126394\ttotal: 63.5ms\tremaining: 844ms\n",
            "7:\tlearn: 18.6723539\ttotal: 72.3ms\tremaining: 832ms\n",
            "8:\tlearn: 18.1786704\ttotal: 80.8ms\tremaining: 817ms\n",
            "9:\tlearn: 17.7385203\ttotal: 89.1ms\tremaining: 802ms\n",
            "10:\tlearn: 17.5086315\ttotal: 97.4ms\tremaining: 788ms\n",
            "11:\tlearn: 17.1049468\ttotal: 106ms\tremaining: 777ms\n",
            "12:\tlearn: 16.8362234\ttotal: 114ms\tremaining: 762ms\n",
            "13:\tlearn: 16.5568803\ttotal: 121ms\tremaining: 746ms\n",
            "14:\tlearn: 16.4062554\ttotal: 127ms\tremaining: 719ms\n",
            "15:\tlearn: 16.2172911\ttotal: 132ms\tremaining: 693ms\n",
            "16:\tlearn: 16.1209757\ttotal: 136ms\tremaining: 666ms\n",
            "17:\tlearn: 15.8942328\ttotal: 141ms\tremaining: 643ms\n",
            "18:\tlearn: 15.7504351\ttotal: 146ms\tremaining: 624ms\n",
            "19:\tlearn: 15.6324210\ttotal: 151ms\tremaining: 604ms\n",
            "20:\tlearn: 15.5766696\ttotal: 156ms\tremaining: 587ms\n",
            "21:\tlearn: 15.3904557\ttotal: 160ms\tremaining: 569ms\n",
            "22:\tlearn: 15.3033028\ttotal: 166ms\tremaining: 555ms\n",
            "23:\tlearn: 15.1206298\ttotal: 170ms\tremaining: 538ms\n",
            "24:\tlearn: 15.0236452\ttotal: 175ms\tremaining: 524ms\n",
            "25:\tlearn: 14.8602867\ttotal: 179ms\tremaining: 511ms\n",
            "26:\tlearn: 14.5517040\ttotal: 184ms\tremaining: 498ms\n",
            "27:\tlearn: 14.4156645\ttotal: 189ms\tremaining: 486ms\n",
            "28:\tlearn: 14.3086231\ttotal: 193ms\tremaining: 474ms\n",
            "29:\tlearn: 14.2583550\ttotal: 198ms\tremaining: 463ms\n",
            "30:\tlearn: 14.1675123\ttotal: 205ms\tremaining: 456ms\n",
            "31:\tlearn: 14.1299557\ttotal: 211ms\tremaining: 448ms\n",
            "32:\tlearn: 13.9942752\ttotal: 215ms\tremaining: 437ms\n",
            "33:\tlearn: 13.8810368\ttotal: 220ms\tremaining: 427ms\n",
            "34:\tlearn: 13.6869693\ttotal: 225ms\tremaining: 417ms\n",
            "35:\tlearn: 13.4234750\ttotal: 229ms\tremaining: 407ms\n",
            "36:\tlearn: 13.4163112\ttotal: 233ms\tremaining: 397ms\n",
            "37:\tlearn: 13.1875892\ttotal: 237ms\tremaining: 387ms\n",
            "38:\tlearn: 13.1776934\ttotal: 242ms\tremaining: 378ms\n",
            "39:\tlearn: 13.1164147\ttotal: 246ms\tremaining: 369ms\n",
            "40:\tlearn: 13.0003673\ttotal: 251ms\tremaining: 361ms\n",
            "41:\tlearn: 12.8541035\ttotal: 256ms\tremaining: 353ms\n",
            "42:\tlearn: 12.7223631\ttotal: 263ms\tremaining: 349ms\n",
            "43:\tlearn: 12.6930216\ttotal: 271ms\tremaining: 345ms\n",
            "44:\tlearn: 12.5876135\ttotal: 278ms\tremaining: 340ms\n",
            "45:\tlearn: 12.4769020\ttotal: 284ms\tremaining: 333ms\n",
            "46:\tlearn: 12.4256717\ttotal: 288ms\tremaining: 325ms\n",
            "47:\tlearn: 12.4204606\ttotal: 295ms\tremaining: 319ms\n",
            "48:\tlearn: 12.2820725\ttotal: 302ms\tremaining: 314ms\n",
            "49:\tlearn: 12.2083758\ttotal: 307ms\tremaining: 307ms\n",
            "50:\tlearn: 12.1871033\ttotal: 311ms\tremaining: 299ms\n",
            "51:\tlearn: 12.1004297\ttotal: 316ms\tremaining: 292ms\n",
            "52:\tlearn: 12.0296095\ttotal: 321ms\tremaining: 285ms\n",
            "53:\tlearn: 12.0233019\ttotal: 325ms\tremaining: 277ms\n",
            "54:\tlearn: 11.9280477\ttotal: 330ms\tremaining: 270ms\n",
            "55:\tlearn: 11.9216038\ttotal: 334ms\tremaining: 263ms\n",
            "56:\tlearn: 11.8435905\ttotal: 339ms\tremaining: 256ms\n",
            "57:\tlearn: 11.8167411\ttotal: 343ms\tremaining: 249ms\n",
            "58:\tlearn: 11.7456088\ttotal: 348ms\tremaining: 242ms\n",
            "59:\tlearn: 11.7378583\ttotal: 352ms\tremaining: 235ms\n",
            "60:\tlearn: 11.7265055\ttotal: 356ms\tremaining: 228ms\n",
            "61:\tlearn: 11.6838367\ttotal: 361ms\tremaining: 221ms\n",
            "62:\tlearn: 11.5975467\ttotal: 365ms\tremaining: 215ms\n",
            "63:\tlearn: 11.5029203\ttotal: 370ms\tremaining: 208ms\n",
            "64:\tlearn: 11.4987578\ttotal: 374ms\tremaining: 201ms\n",
            "65:\tlearn: 11.3715126\ttotal: 380ms\tremaining: 196ms\n",
            "66:\tlearn: 11.2064908\ttotal: 386ms\tremaining: 190ms\n",
            "67:\tlearn: 11.1236375\ttotal: 392ms\tremaining: 185ms\n",
            "68:\tlearn: 11.0331939\ttotal: 397ms\tremaining: 178ms\n",
            "69:\tlearn: 11.0278387\ttotal: 401ms\tremaining: 172ms\n",
            "70:\tlearn: 10.9466941\ttotal: 406ms\tremaining: 166ms\n",
            "71:\tlearn: 10.8857768\ttotal: 411ms\tremaining: 160ms\n",
            "72:\tlearn: 10.8813273\ttotal: 415ms\tremaining: 153ms\n",
            "73:\tlearn: 10.8480376\ttotal: 419ms\tremaining: 147ms\n",
            "74:\tlearn: 10.7017857\ttotal: 424ms\tremaining: 141ms\n",
            "75:\tlearn: 10.6531341\ttotal: 428ms\tremaining: 135ms\n",
            "76:\tlearn: 10.6049340\ttotal: 433ms\tremaining: 129ms\n",
            "77:\tlearn: 10.6030619\ttotal: 437ms\tremaining: 123ms\n",
            "78:\tlearn: 10.5292802\ttotal: 442ms\tremaining: 117ms\n",
            "79:\tlearn: 10.4492622\ttotal: 446ms\tremaining: 112ms\n",
            "80:\tlearn: 10.3153600\ttotal: 451ms\tremaining: 106ms\n",
            "81:\tlearn: 10.2768716\ttotal: 455ms\tremaining: 99.9ms\n",
            "82:\tlearn: 10.2638344\ttotal: 459ms\tremaining: 94.1ms\n",
            "83:\tlearn: 10.2052785\ttotal: 464ms\tremaining: 88.4ms\n",
            "84:\tlearn: 10.1205986\ttotal: 471ms\tremaining: 83.1ms\n",
            "85:\tlearn: 10.1142774\ttotal: 477ms\tremaining: 77.7ms\n",
            "86:\tlearn: 10.0506853\ttotal: 483ms\tremaining: 72.2ms\n",
            "87:\tlearn: 9.9757585\ttotal: 488ms\tremaining: 66.5ms\n",
            "88:\tlearn: 9.9011109\ttotal: 493ms\tremaining: 60.9ms\n",
            "89:\tlearn: 9.8410391\ttotal: 497ms\tremaining: 55.2ms\n",
            "90:\tlearn: 9.7841801\ttotal: 502ms\tremaining: 49.6ms\n",
            "91:\tlearn: 9.7386898\ttotal: 506ms\tremaining: 44ms\n",
            "92:\tlearn: 9.7014810\ttotal: 511ms\tremaining: 38.5ms\n",
            "93:\tlearn: 9.6437011\ttotal: 516ms\tremaining: 32.9ms\n",
            "94:\tlearn: 9.5622879\ttotal: 520ms\tremaining: 27.4ms\n",
            "95:\tlearn: 9.4528147\ttotal: 525ms\tremaining: 21.9ms\n",
            "96:\tlearn: 9.3697046\ttotal: 529ms\tremaining: 16.4ms\n",
            "97:\tlearn: 9.2798345\ttotal: 534ms\tremaining: 10.9ms\n",
            "98:\tlearn: 9.2209042\ttotal: 539ms\tremaining: 5.44ms\n",
            "99:\tlearn: 9.2177631\ttotal: 543ms\tremaining: 0us\n",
            "Наилучший результат при 7 глубине, при 100 итерациях: 30.610755558271677 \n",
            "\n",
            "CPU times: user 1.07 s, sys: 63.3 ms, total: 1.13 s\n",
            "Wall time: 2.83 s\n"
          ]
        }
      ],
      "source": [
        "%%time\n",
        "\n",
        "cat_b(features_train, target_train, features_valid, target_valid)"
      ]
    },
    {
      "cell_type": "markdown",
      "metadata": {
        "id": "XO3TiVBMOmLi"
      },
      "source": [
        "Из 3 обученных моделях на валидационной выборке самой качественной оказалась модель CatBoostRegressor(RMSE: 30.61)"
      ]
    },
    {
      "cell_type": "markdown",
      "metadata": {
        "id": "gvmguUMpOmLi"
      },
      "source": [
        "<div class=\"alert alert-block alert-info\">\n",
        "<b>Совет: </b> Можно было использовать кросс-валидацию и вообще не выделять валидационный набор. При работе с временными рядами нельзя использовать стандартную кросс-валидацию, так как в определенный момент тренировочная выборка окажется позже валидационной. Для решения этой проблемы стоит использовать <a href=\"https://scikit-learn.org/stable/modules/generated/sklearn.model_selection.TimeSeriesSplit.html\">TimeSeriesSplit</a>. Объект этого типа можно передать в параметр cv в метод основанный на кросс-валидации.\n",
        "</div>"
      ]
    },
    {
      "cell_type": "markdown",
      "metadata": {
        "id": "Ro-CEPwtOmLi"
      },
      "source": [
        "## Тестирование"
      ]
    },
    {
      "cell_type": "markdown",
      "metadata": {
        "id": "zzno8jOmOmLi"
      },
      "source": [
        "**Линейная регрессия**"
      ]
    },
    {
      "cell_type": "code",
      "execution_count": null,
      "metadata": {
        "id": "MqevkrL1OmLi",
        "outputId": "a980c49f-d16b-4f48-cff5-5a9d48c9857d"
      },
      "outputs": [
        {
          "name": "stdout",
          "output_type": "stream",
          "text": [
            "RMSE: 54.278\n",
            "CPU times: user 8.73 ms, sys: 12.7 ms, total: 21.4 ms\n",
            "Wall time: 8.28 ms\n"
          ]
        }
      ],
      "source": [
        "%%time\n",
        "\n",
        "lr = LinearRegression()\n",
        "lr.fit(features_train, target_train)\n",
        "predictions = lr.predict(features_test)\n",
        "\n",
        "print('RMSE:','{:.3f}'.format(mean_squared_error(target_test, predictions)**0.5))"
      ]
    },
    {
      "cell_type": "markdown",
      "metadata": {
        "id": "IiGrq2FeOmLj"
      },
      "source": [
        "**LGBMRegressor**"
      ]
    },
    {
      "cell_type": "code",
      "execution_count": null,
      "metadata": {
        "scrolled": true,
        "id": "jUNW-84OOmLj",
        "outputId": "73a70f52-1b95-453d-bd01-c073d83b34d7"
      },
      "outputs": [
        {
          "name": "stdout",
          "output_type": "stream",
          "text": [
            "RMSE: 49.728\n",
            "CPU times: user 2min 10s, sys: 990 ms, total: 2min 11s\n",
            "Wall time: 2min 12s\n"
          ]
        }
      ],
      "source": [
        "%%time\n",
        "\n",
        "lgbm = LGBMRegressor(max_depth=7, n_estimators=60, learning_rate=0.1, random_state=12345)\n",
        "lgbm.fit(features_train, target_train)\n",
        "predictions = lgbm.predict(features_test)\n",
        "\n",
        "print('RMSE:','{:.3f}'.format(mean_squared_error(target_test, predictions)**0.5))"
      ]
    },
    {
      "cell_type": "markdown",
      "metadata": {
        "id": "KG3fMHIIOmLj"
      },
      "source": [
        "**CatBoostRegressor**"
      ]
    },
    {
      "cell_type": "code",
      "execution_count": null,
      "metadata": {
        "scrolled": true,
        "id": "A9gUurNyOmLj",
        "outputId": "de542278-9b39-403a-cdab-17de66f18a4b"
      },
      "outputs": [
        {
          "name": "stdout",
          "output_type": "stream",
          "text": [
            "Learning rate set to 0.324767\n",
            "0:\tlearn: 31.0002468\ttotal: 6.43ms\tremaining: 636ms\n",
            "1:\tlearn: 27.1314474\ttotal: 12.8ms\tremaining: 625ms\n",
            "2:\tlearn: 24.2528161\ttotal: 19ms\tremaining: 615ms\n",
            "3:\tlearn: 22.5051957\ttotal: 26.7ms\tremaining: 641ms\n",
            "4:\tlearn: 21.0453562\ttotal: 34.6ms\tremaining: 658ms\n",
            "5:\tlearn: 20.0716354\ttotal: 40.1ms\tremaining: 628ms\n",
            "6:\tlearn: 19.1126394\ttotal: 46.2ms\tremaining: 614ms\n",
            "7:\tlearn: 18.6723539\ttotal: 51.7ms\tremaining: 595ms\n",
            "8:\tlearn: 18.1786704\ttotal: 57.3ms\tremaining: 579ms\n",
            "9:\tlearn: 17.7385203\ttotal: 63.5ms\tremaining: 572ms\n",
            "10:\tlearn: 17.5086315\ttotal: 69.1ms\tremaining: 559ms\n",
            "11:\tlearn: 17.1049468\ttotal: 74.7ms\tremaining: 548ms\n",
            "12:\tlearn: 16.8362234\ttotal: 80.7ms\tremaining: 540ms\n",
            "13:\tlearn: 16.5568803\ttotal: 85.5ms\tremaining: 525ms\n",
            "14:\tlearn: 16.4062554\ttotal: 90.5ms\tremaining: 513ms\n",
            "15:\tlearn: 16.2172911\ttotal: 95.3ms\tremaining: 500ms\n",
            "16:\tlearn: 16.1209757\ttotal: 100ms\tremaining: 488ms\n",
            "17:\tlearn: 15.8942328\ttotal: 105ms\tremaining: 478ms\n",
            "18:\tlearn: 15.7504351\ttotal: 109ms\tremaining: 467ms\n",
            "19:\tlearn: 15.6324210\ttotal: 115ms\tremaining: 458ms\n",
            "20:\tlearn: 15.5766696\ttotal: 119ms\tremaining: 449ms\n",
            "21:\tlearn: 15.3904557\ttotal: 124ms\tremaining: 441ms\n",
            "22:\tlearn: 15.3033028\ttotal: 129ms\tremaining: 431ms\n",
            "23:\tlearn: 15.1206298\ttotal: 133ms\tremaining: 422ms\n",
            "24:\tlearn: 15.0236452\ttotal: 138ms\tremaining: 414ms\n",
            "25:\tlearn: 14.8602867\ttotal: 142ms\tremaining: 405ms\n",
            "26:\tlearn: 14.5517040\ttotal: 147ms\tremaining: 398ms\n",
            "27:\tlearn: 14.4156645\ttotal: 152ms\tremaining: 390ms\n",
            "28:\tlearn: 14.3086231\ttotal: 156ms\tremaining: 383ms\n",
            "29:\tlearn: 14.2583550\ttotal: 161ms\tremaining: 375ms\n",
            "30:\tlearn: 14.1675123\ttotal: 165ms\tremaining: 368ms\n",
            "31:\tlearn: 14.1299557\ttotal: 171ms\tremaining: 362ms\n",
            "32:\tlearn: 13.9942752\ttotal: 175ms\tremaining: 355ms\n",
            "33:\tlearn: 13.8810368\ttotal: 180ms\tremaining: 349ms\n",
            "34:\tlearn: 13.6869693\ttotal: 184ms\tremaining: 342ms\n",
            "35:\tlearn: 13.4234750\ttotal: 189ms\tremaining: 336ms\n",
            "36:\tlearn: 13.4163112\ttotal: 194ms\tremaining: 330ms\n",
            "37:\tlearn: 13.1875892\ttotal: 198ms\tremaining: 324ms\n",
            "38:\tlearn: 13.1776934\ttotal: 203ms\tremaining: 317ms\n",
            "39:\tlearn: 13.1164147\ttotal: 207ms\tremaining: 311ms\n",
            "40:\tlearn: 13.0003673\ttotal: 212ms\tremaining: 305ms\n",
            "41:\tlearn: 12.8541035\ttotal: 216ms\tremaining: 299ms\n",
            "42:\tlearn: 12.7223631\ttotal: 221ms\tremaining: 292ms\n",
            "43:\tlearn: 12.6930216\ttotal: 225ms\tremaining: 287ms\n",
            "44:\tlearn: 12.5876135\ttotal: 229ms\tremaining: 280ms\n",
            "45:\tlearn: 12.4769020\ttotal: 234ms\tremaining: 275ms\n",
            "46:\tlearn: 12.4256717\ttotal: 238ms\tremaining: 269ms\n",
            "47:\tlearn: 12.4204606\ttotal: 242ms\tremaining: 263ms\n",
            "48:\tlearn: 12.2820725\ttotal: 247ms\tremaining: 257ms\n",
            "49:\tlearn: 12.2083758\ttotal: 252ms\tremaining: 252ms\n",
            "50:\tlearn: 12.1871033\ttotal: 256ms\tremaining: 246ms\n",
            "51:\tlearn: 12.1004297\ttotal: 261ms\tremaining: 241ms\n",
            "52:\tlearn: 12.0296095\ttotal: 266ms\tremaining: 236ms\n",
            "53:\tlearn: 12.0233019\ttotal: 271ms\tremaining: 231ms\n",
            "54:\tlearn: 11.9280477\ttotal: 276ms\tremaining: 226ms\n",
            "55:\tlearn: 11.9216038\ttotal: 280ms\tremaining: 220ms\n",
            "56:\tlearn: 11.8435905\ttotal: 285ms\tremaining: 215ms\n",
            "57:\tlearn: 11.8167411\ttotal: 289ms\tremaining: 210ms\n",
            "58:\tlearn: 11.7456088\ttotal: 295ms\tremaining: 205ms\n",
            "59:\tlearn: 11.7378583\ttotal: 299ms\tremaining: 199ms\n",
            "60:\tlearn: 11.7265055\ttotal: 304ms\tremaining: 194ms\n",
            "61:\tlearn: 11.6838367\ttotal: 308ms\tremaining: 189ms\n",
            "62:\tlearn: 11.5975467\ttotal: 312ms\tremaining: 183ms\n",
            "63:\tlearn: 11.5029203\ttotal: 317ms\tremaining: 178ms\n",
            "64:\tlearn: 11.4987578\ttotal: 322ms\tremaining: 173ms\n",
            "65:\tlearn: 11.3715126\ttotal: 326ms\tremaining: 168ms\n",
            "66:\tlearn: 11.2064908\ttotal: 331ms\tremaining: 163ms\n",
            "67:\tlearn: 11.1236375\ttotal: 335ms\tremaining: 158ms\n",
            "68:\tlearn: 11.0331939\ttotal: 340ms\tremaining: 153ms\n",
            "69:\tlearn: 11.0278387\ttotal: 344ms\tremaining: 148ms\n",
            "70:\tlearn: 10.9466941\ttotal: 349ms\tremaining: 142ms\n",
            "71:\tlearn: 10.8857768\ttotal: 353ms\tremaining: 137ms\n",
            "72:\tlearn: 10.8813273\ttotal: 358ms\tremaining: 132ms\n",
            "73:\tlearn: 10.8480376\ttotal: 362ms\tremaining: 127ms\n",
            "74:\tlearn: 10.7017857\ttotal: 367ms\tremaining: 122ms\n",
            "75:\tlearn: 10.6531341\ttotal: 371ms\tremaining: 117ms\n",
            "76:\tlearn: 10.6049340\ttotal: 376ms\tremaining: 112ms\n",
            "77:\tlearn: 10.6030619\ttotal: 380ms\tremaining: 107ms\n",
            "78:\tlearn: 10.5292802\ttotal: 384ms\tremaining: 102ms\n",
            "79:\tlearn: 10.4492622\ttotal: 389ms\tremaining: 97.2ms\n",
            "80:\tlearn: 10.3153600\ttotal: 393ms\tremaining: 92.2ms\n",
            "81:\tlearn: 10.2768716\ttotal: 397ms\tremaining: 87.2ms\n",
            "82:\tlearn: 10.2638344\ttotal: 401ms\tremaining: 82.2ms\n",
            "83:\tlearn: 10.2052785\ttotal: 405ms\tremaining: 77.2ms\n",
            "84:\tlearn: 10.1205986\ttotal: 410ms\tremaining: 72.3ms\n",
            "85:\tlearn: 10.1142774\ttotal: 414ms\tremaining: 67.4ms\n",
            "86:\tlearn: 10.0506853\ttotal: 418ms\tremaining: 62.5ms\n",
            "87:\tlearn: 9.9757585\ttotal: 423ms\tremaining: 57.6ms\n",
            "88:\tlearn: 9.9011109\ttotal: 427ms\tremaining: 52.8ms\n",
            "89:\tlearn: 9.8410391\ttotal: 432ms\tremaining: 48ms\n",
            "90:\tlearn: 9.7841801\ttotal: 436ms\tremaining: 43.2ms\n",
            "91:\tlearn: 9.7386898\ttotal: 441ms\tremaining: 38.3ms\n",
            "92:\tlearn: 9.7014810\ttotal: 445ms\tremaining: 33.5ms\n",
            "93:\tlearn: 9.6437011\ttotal: 450ms\tremaining: 28.7ms\n",
            "94:\tlearn: 9.5622879\ttotal: 454ms\tremaining: 23.9ms\n",
            "95:\tlearn: 9.4528147\ttotal: 458ms\tremaining: 19.1ms\n",
            "96:\tlearn: 9.3697046\ttotal: 463ms\tremaining: 14.3ms\n",
            "97:\tlearn: 9.2798345\ttotal: 467ms\tremaining: 9.54ms\n",
            "98:\tlearn: 9.2209042\ttotal: 472ms\tremaining: 4.77ms\n",
            "99:\tlearn: 9.2177631\ttotal: 476ms\tremaining: 0us\n",
            "RMSE: 48.474\n",
            "CPU times: user 518 ms, sys: 12.7 ms, total: 530 ms\n",
            "Wall time: 889 ms\n"
          ]
        }
      ],
      "source": [
        "%%time\n",
        "\n",
        "catboost = CatBoostRegressor(depth=7, iterations=100, random_state=12345)\n",
        "catboost.fit(features_train, target_train)\n",
        "predictions = catboost.predict(features_test)\n",
        "\n",
        "\n",
        "print('RMSE:','{:.3f}'.format(mean_squared_error(target_test, predictions)**0.5))"
      ]
    },
    {
      "cell_type": "markdown",
      "metadata": {
        "id": "yq_RZtYxOmLj"
      },
      "source": [
        "<div class=\"alert alert-block alert-info\">\n",
        "<b>Совет: </b> Финальные предсказания можно было визуализирвоать: графики исходного и предсказанных рядов.\n",
        "</div>"
      ]
    },
    {
      "cell_type": "markdown",
      "metadata": {
        "id": "e7UdbFIDOmLj"
      },
      "source": [
        "**Вывод**"
      ]
    },
    {
      "cell_type": "markdown",
      "metadata": {
        "id": "ii5PC__2OmLj"
      },
      "source": [
        "    На тестовой выборке модель CatBoostRegressor оказалась самой качественной, она единственная получила значение метрики равное 48, остальные модели показалаи метрику хуже. А также она оказалась самой быстрой: на обучение и предсказание вместе у неё уходит менее минуты. LGBMRegressor по времени отработки оказалась самой медленной, а линейная регрессия самой некачественное (RMSE: 54.2)"
      ]
    }
  ],
  "metadata": {
    "ExecuteTimeLog": [
      {
        "duration": 1291,
        "start_time": "2022-07-16T20:04:17.406Z"
      },
      {
        "duration": 108,
        "start_time": "2022-07-16T20:04:18.700Z"
      },
      {
        "duration": 17,
        "start_time": "2022-07-16T20:04:48.055Z"
      },
      {
        "duration": 12,
        "start_time": "2022-07-16T20:12:34.846Z"
      },
      {
        "duration": 43,
        "start_time": "2022-07-16T20:13:06.710Z"
      },
      {
        "duration": 10,
        "start_time": "2022-07-16T20:13:15.550Z"
      },
      {
        "duration": 7,
        "start_time": "2022-07-16T20:13:37.098Z"
      },
      {
        "duration": 4,
        "start_time": "2022-07-16T20:17:15.646Z"
      },
      {
        "duration": 15,
        "start_time": "2022-07-16T20:50:19.126Z"
      },
      {
        "duration": 45,
        "start_time": "2022-07-16T20:50:48.464Z"
      },
      {
        "duration": 257,
        "start_time": "2022-07-16T21:07:43.311Z"
      },
      {
        "duration": 50,
        "start_time": "2022-07-16T21:09:03.416Z"
      },
      {
        "duration": 51,
        "start_time": "2022-07-16T21:36:35.392Z"
      },
      {
        "duration": 227,
        "start_time": "2022-07-16T21:36:40.871Z"
      },
      {
        "duration": 43,
        "start_time": "2022-07-16T21:42:26.114Z"
      },
      {
        "duration": 207,
        "start_time": "2022-07-16T21:46:28.946Z"
      },
      {
        "duration": 268,
        "start_time": "2022-07-16T21:46:32.296Z"
      },
      {
        "duration": 203,
        "start_time": "2022-07-16T21:46:35.228Z"
      },
      {
        "duration": 4,
        "start_time": "2022-07-16T21:48:55.973Z"
      },
      {
        "duration": 51,
        "start_time": "2022-07-16T21:50:41.906Z"
      },
      {
        "duration": 274,
        "start_time": "2022-07-16T21:52:13.344Z"
      },
      {
        "duration": 190,
        "start_time": "2022-07-16T21:52:58.486Z"
      },
      {
        "duration": 107,
        "start_time": "2022-07-16T21:53:15.719Z"
      },
      {
        "duration": 193,
        "start_time": "2022-07-16T21:53:20.431Z"
      },
      {
        "duration": 191,
        "start_time": "2022-07-16T21:53:26.709Z"
      },
      {
        "duration": 183,
        "start_time": "2022-07-16T21:53:33.420Z"
      },
      {
        "duration": 112,
        "start_time": "2022-07-16T21:59:31.704Z"
      },
      {
        "duration": 129,
        "start_time": "2022-07-16T22:00:42.488Z"
      },
      {
        "duration": 138,
        "start_time": "2022-07-16T22:13:49.712Z"
      },
      {
        "duration": 146,
        "start_time": "2022-07-16T22:14:27.708Z"
      },
      {
        "duration": 1298,
        "start_time": "2022-07-16T22:14:35.591Z"
      },
      {
        "duration": 40,
        "start_time": "2022-07-16T22:14:36.890Z"
      },
      {
        "duration": 9,
        "start_time": "2022-07-16T22:14:36.932Z"
      },
      {
        "duration": 10,
        "start_time": "2022-07-16T22:14:36.943Z"
      },
      {
        "duration": 25,
        "start_time": "2022-07-16T22:14:36.955Z"
      },
      {
        "duration": 9,
        "start_time": "2022-07-16T22:14:36.981Z"
      },
      {
        "duration": 7,
        "start_time": "2022-07-16T22:14:36.991Z"
      },
      {
        "duration": 10,
        "start_time": "2022-07-16T22:14:36.999Z"
      },
      {
        "duration": 16,
        "start_time": "2022-07-16T22:14:37.011Z"
      },
      {
        "duration": 267,
        "start_time": "2022-07-16T22:14:37.028Z"
      },
      {
        "duration": 262,
        "start_time": "2022-07-16T22:14:37.296Z"
      },
      {
        "duration": 210,
        "start_time": "2022-07-16T22:14:37.563Z"
      },
      {
        "duration": 250,
        "start_time": "2022-07-16T22:14:37.774Z"
      },
      {
        "duration": 212,
        "start_time": "2022-07-16T22:14:38.027Z"
      },
      {
        "duration": 150,
        "start_time": "2022-07-16T22:14:38.241Z"
      },
      {
        "duration": 1263,
        "start_time": "2022-07-16T22:15:24.091Z"
      },
      {
        "duration": 41,
        "start_time": "2022-07-16T22:15:25.356Z"
      },
      {
        "duration": 11,
        "start_time": "2022-07-16T22:15:25.399Z"
      },
      {
        "duration": 15,
        "start_time": "2022-07-16T22:15:25.411Z"
      },
      {
        "duration": 25,
        "start_time": "2022-07-16T22:15:25.428Z"
      },
      {
        "duration": 10,
        "start_time": "2022-07-16T22:15:25.455Z"
      },
      {
        "duration": 7,
        "start_time": "2022-07-16T22:15:25.466Z"
      },
      {
        "duration": 19,
        "start_time": "2022-07-16T22:15:25.474Z"
      },
      {
        "duration": 29,
        "start_time": "2022-07-16T22:15:25.494Z"
      },
      {
        "duration": 282,
        "start_time": "2022-07-16T22:15:25.524Z"
      },
      {
        "duration": 248,
        "start_time": "2022-07-16T22:15:25.808Z"
      },
      {
        "duration": 219,
        "start_time": "2022-07-16T22:15:26.058Z"
      },
      {
        "duration": 239,
        "start_time": "2022-07-16T22:15:26.279Z"
      },
      {
        "duration": 211,
        "start_time": "2022-07-16T22:15:26.520Z"
      },
      {
        "duration": 149,
        "start_time": "2022-07-16T22:15:26.733Z"
      },
      {
        "duration": 235,
        "start_time": "2022-07-16T22:16:08.419Z"
      },
      {
        "duration": 161,
        "start_time": "2022-07-16T22:16:43.028Z"
      },
      {
        "duration": 160,
        "start_time": "2022-07-16T22:21:49.126Z"
      },
      {
        "duration": 3,
        "start_time": "2022-07-16T22:40:31.302Z"
      },
      {
        "duration": 4,
        "start_time": "2022-07-16T22:46:10.932Z"
      },
      {
        "duration": 99,
        "start_time": "2022-07-16T22:46:57.412Z"
      },
      {
        "duration": 4,
        "start_time": "2022-07-16T22:47:35.212Z"
      },
      {
        "duration": 9,
        "start_time": "2022-07-16T22:47:36.580Z"
      },
      {
        "duration": 30,
        "start_time": "2022-07-16T22:48:24.202Z"
      },
      {
        "duration": 23,
        "start_time": "2022-07-16T22:50:11.279Z"
      },
      {
        "duration": 6,
        "start_time": "2022-07-16T22:51:30.894Z"
      },
      {
        "duration": 6,
        "start_time": "2022-07-16T22:52:47.111Z"
      },
      {
        "duration": 101,
        "start_time": "2022-07-16T22:55:42.373Z"
      },
      {
        "duration": 26,
        "start_time": "2022-07-16T22:56:33.005Z"
      },
      {
        "duration": 18,
        "start_time": "2022-07-16T22:57:41.605Z"
      },
      {
        "duration": 19,
        "start_time": "2022-07-16T22:58:10.380Z"
      },
      {
        "duration": 1399,
        "start_time": "2022-07-16T22:58:21.549Z"
      },
      {
        "duration": 40,
        "start_time": "2022-07-16T22:58:22.950Z"
      },
      {
        "duration": 10,
        "start_time": "2022-07-16T22:58:22.991Z"
      },
      {
        "duration": 11,
        "start_time": "2022-07-16T22:58:23.003Z"
      },
      {
        "duration": 30,
        "start_time": "2022-07-16T22:58:23.016Z"
      },
      {
        "duration": 18,
        "start_time": "2022-07-16T22:58:23.048Z"
      },
      {
        "duration": 6,
        "start_time": "2022-07-16T22:58:23.068Z"
      },
      {
        "duration": 10,
        "start_time": "2022-07-16T22:58:23.075Z"
      },
      {
        "duration": 16,
        "start_time": "2022-07-16T22:58:23.087Z"
      },
      {
        "duration": 274,
        "start_time": "2022-07-16T22:58:23.104Z"
      },
      {
        "duration": 230,
        "start_time": "2022-07-16T22:58:23.380Z"
      },
      {
        "duration": 201,
        "start_time": "2022-07-16T22:58:23.612Z"
      },
      {
        "duration": 549,
        "start_time": "2022-07-16T22:58:23.815Z"
      },
      {
        "duration": 402,
        "start_time": "2022-07-16T22:58:24.366Z"
      },
      {
        "duration": 331,
        "start_time": "2022-07-16T22:58:24.769Z"
      },
      {
        "duration": 4,
        "start_time": "2022-07-16T22:58:25.102Z"
      },
      {
        "duration": 282,
        "start_time": "2022-07-16T22:58:25.107Z"
      },
      {
        "duration": 0,
        "start_time": "2022-07-16T22:58:25.391Z"
      },
      {
        "duration": 0,
        "start_time": "2022-07-16T22:58:25.392Z"
      },
      {
        "duration": 0,
        "start_time": "2022-07-16T22:58:25.394Z"
      },
      {
        "duration": 1419,
        "start_time": "2022-07-16T23:00:13.055Z"
      },
      {
        "duration": 41,
        "start_time": "2022-07-16T23:00:14.476Z"
      },
      {
        "duration": 10,
        "start_time": "2022-07-16T23:00:14.521Z"
      },
      {
        "duration": 25,
        "start_time": "2022-07-16T23:00:14.534Z"
      },
      {
        "duration": 33,
        "start_time": "2022-07-16T23:00:14.561Z"
      },
      {
        "duration": 9,
        "start_time": "2022-07-16T23:00:14.596Z"
      },
      {
        "duration": 32,
        "start_time": "2022-07-16T23:00:14.606Z"
      },
      {
        "duration": 25,
        "start_time": "2022-07-16T23:00:14.640Z"
      },
      {
        "duration": 25,
        "start_time": "2022-07-16T23:00:14.667Z"
      },
      {
        "duration": 273,
        "start_time": "2022-07-16T23:00:14.693Z"
      },
      {
        "duration": 233,
        "start_time": "2022-07-16T23:00:14.967Z"
      },
      {
        "duration": 207,
        "start_time": "2022-07-16T23:00:15.201Z"
      },
      {
        "duration": 305,
        "start_time": "2022-07-16T23:00:15.410Z"
      },
      {
        "duration": 225,
        "start_time": "2022-07-16T23:00:15.717Z"
      },
      {
        "duration": 172,
        "start_time": "2022-07-16T23:00:15.943Z"
      },
      {
        "duration": 4,
        "start_time": "2022-07-16T23:00:16.117Z"
      },
      {
        "duration": 114,
        "start_time": "2022-07-16T23:00:16.122Z"
      },
      {
        "duration": 0,
        "start_time": "2022-07-16T23:00:16.238Z"
      },
      {
        "duration": 0,
        "start_time": "2022-07-16T23:00:16.239Z"
      },
      {
        "duration": 0,
        "start_time": "2022-07-16T23:00:16.241Z"
      },
      {
        "duration": 54,
        "start_time": "2022-07-16T23:00:29.759Z"
      },
      {
        "duration": 33,
        "start_time": "2022-07-17T00:02:51.080Z"
      },
      {
        "duration": 6,
        "start_time": "2022-07-17T00:03:20.272Z"
      },
      {
        "duration": 7,
        "start_time": "2022-07-17T00:03:22.623Z"
      },
      {
        "duration": 39,
        "start_time": "2022-07-17T00:03:23.827Z"
      },
      {
        "duration": 34,
        "start_time": "2022-07-17T00:03:42.934Z"
      },
      {
        "duration": 5,
        "start_time": "2022-07-17T00:08:01.844Z"
      },
      {
        "duration": 2234,
        "start_time": "2022-07-17T00:08:11.139Z"
      },
      {
        "duration": 6,
        "start_time": "2022-07-17T00:08:35.591Z"
      },
      {
        "duration": 9993,
        "start_time": "2022-07-17T00:08:35.972Z"
      },
      {
        "duration": 5,
        "start_time": "2022-07-17T00:09:01.086Z"
      },
      {
        "duration": 22287,
        "start_time": "2022-07-17T00:09:02.688Z"
      },
      {
        "duration": 5,
        "start_time": "2022-07-17T00:09:39.027Z"
      },
      {
        "duration": 4,
        "start_time": "2022-07-17T00:11:02.971Z"
      },
      {
        "duration": 7596,
        "start_time": "2022-07-17T00:11:02.977Z"
      },
      {
        "duration": 5,
        "start_time": "2022-07-17T00:11:10.575Z"
      },
      {
        "duration": 6008,
        "start_time": "2022-07-17T00:11:28.312Z"
      },
      {
        "duration": 1423,
        "start_time": "2022-07-17T00:12:10.455Z"
      },
      {
        "duration": 40,
        "start_time": "2022-07-17T00:12:11.880Z"
      },
      {
        "duration": 11,
        "start_time": "2022-07-17T00:12:11.921Z"
      },
      {
        "duration": 12,
        "start_time": "2022-07-17T00:12:11.933Z"
      },
      {
        "duration": 25,
        "start_time": "2022-07-17T00:12:11.947Z"
      },
      {
        "duration": 10,
        "start_time": "2022-07-17T00:12:11.973Z"
      },
      {
        "duration": 6,
        "start_time": "2022-07-17T00:12:11.984Z"
      },
      {
        "duration": 5,
        "start_time": "2022-07-17T00:12:11.992Z"
      },
      {
        "duration": 13,
        "start_time": "2022-07-17T00:12:11.999Z"
      },
      {
        "duration": 284,
        "start_time": "2022-07-17T00:12:12.014Z"
      },
      {
        "duration": 237,
        "start_time": "2022-07-17T00:12:12.299Z"
      },
      {
        "duration": 233,
        "start_time": "2022-07-17T00:12:12.538Z"
      },
      {
        "duration": 308,
        "start_time": "2022-07-17T00:12:12.773Z"
      },
      {
        "duration": 208,
        "start_time": "2022-07-17T00:12:13.084Z"
      },
      {
        "duration": 182,
        "start_time": "2022-07-17T00:12:13.294Z"
      },
      {
        "duration": 4,
        "start_time": "2022-07-17T00:12:13.478Z"
      },
      {
        "duration": 35,
        "start_time": "2022-07-17T00:12:13.483Z"
      },
      {
        "duration": 5,
        "start_time": "2022-07-17T00:12:13.519Z"
      },
      {
        "duration": 20,
        "start_time": "2022-07-17T00:12:13.526Z"
      },
      {
        "duration": 217,
        "start_time": "2022-07-17T00:12:13.548Z"
      },
      {
        "duration": 5,
        "start_time": "2022-07-17T00:12:13.767Z"
      },
      {
        "duration": 7503,
        "start_time": "2022-07-17T00:12:13.773Z"
      },
      {
        "duration": 4,
        "start_time": "2022-07-17T00:12:21.277Z"
      },
      {
        "duration": 1418,
        "start_time": "2022-07-17T00:12:32.324Z"
      },
      {
        "duration": 40,
        "start_time": "2022-07-17T00:12:33.744Z"
      },
      {
        "duration": 10,
        "start_time": "2022-07-17T00:12:33.785Z"
      },
      {
        "duration": 11,
        "start_time": "2022-07-17T00:12:33.796Z"
      },
      {
        "duration": 25,
        "start_time": "2022-07-17T00:12:33.808Z"
      },
      {
        "duration": 29,
        "start_time": "2022-07-17T00:12:33.835Z"
      },
      {
        "duration": 6,
        "start_time": "2022-07-17T00:12:33.865Z"
      },
      {
        "duration": 5,
        "start_time": "2022-07-17T00:12:33.873Z"
      },
      {
        "duration": 14,
        "start_time": "2022-07-17T00:12:33.880Z"
      },
      {
        "duration": 278,
        "start_time": "2022-07-17T00:12:33.895Z"
      },
      {
        "duration": 232,
        "start_time": "2022-07-17T00:12:34.174Z"
      },
      {
        "duration": 212,
        "start_time": "2022-07-17T00:12:34.408Z"
      },
      {
        "duration": 321,
        "start_time": "2022-07-17T00:12:34.622Z"
      },
      {
        "duration": 217,
        "start_time": "2022-07-17T00:12:34.947Z"
      },
      {
        "duration": 192,
        "start_time": "2022-07-17T00:12:35.166Z"
      },
      {
        "duration": 6,
        "start_time": "2022-07-17T00:12:35.364Z"
      },
      {
        "duration": 42,
        "start_time": "2022-07-17T00:12:35.371Z"
      },
      {
        "duration": 5,
        "start_time": "2022-07-17T00:12:35.415Z"
      },
      {
        "duration": 8,
        "start_time": "2022-07-17T00:12:35.422Z"
      },
      {
        "duration": 138,
        "start_time": "2022-07-17T00:12:35.431Z"
      },
      {
        "duration": 98,
        "start_time": "2022-07-17T00:12:35.572Z"
      },
      {
        "duration": 7811,
        "start_time": "2022-07-17T00:12:35.763Z"
      },
      {
        "duration": 4,
        "start_time": "2022-07-17T00:12:43.576Z"
      },
      {
        "duration": 45414,
        "start_time": "2022-07-17T00:12:43.582Z"
      },
      {
        "duration": 4,
        "start_time": "2022-07-17T00:13:47.409Z"
      },
      {
        "duration": 45210,
        "start_time": "2022-07-17T00:13:49.182Z"
      },
      {
        "duration": 4,
        "start_time": "2022-07-17T00:15:35.189Z"
      },
      {
        "duration": 1089,
        "start_time": "2022-07-17T00:15:36.776Z"
      },
      {
        "duration": 4,
        "start_time": "2022-07-17T00:15:53.436Z"
      },
      {
        "duration": 4057,
        "start_time": "2022-07-17T00:15:53.845Z"
      },
      {
        "duration": 13,
        "start_time": "2022-07-17T00:22:24.607Z"
      },
      {
        "duration": 1182,
        "start_time": "2022-07-17T00:22:27.191Z"
      },
      {
        "duration": 1756,
        "start_time": "2022-07-17T00:22:28.444Z"
      },
      {
        "duration": 1482,
        "start_time": "2022-07-17T12:42:38.933Z"
      },
      {
        "duration": 42,
        "start_time": "2022-07-17T12:42:40.416Z"
      },
      {
        "duration": 10,
        "start_time": "2022-07-17T12:42:40.460Z"
      },
      {
        "duration": 13,
        "start_time": "2022-07-17T12:42:40.473Z"
      },
      {
        "duration": 27,
        "start_time": "2022-07-17T12:42:40.487Z"
      },
      {
        "duration": 11,
        "start_time": "2022-07-17T12:42:40.516Z"
      },
      {
        "duration": 10,
        "start_time": "2022-07-17T12:42:40.529Z"
      },
      {
        "duration": 5,
        "start_time": "2022-07-17T12:42:40.564Z"
      },
      {
        "duration": 18,
        "start_time": "2022-07-17T12:42:40.571Z"
      },
      {
        "duration": 301,
        "start_time": "2022-07-17T12:42:40.593Z"
      },
      {
        "duration": 247,
        "start_time": "2022-07-17T12:42:40.896Z"
      },
      {
        "duration": 244,
        "start_time": "2022-07-17T12:42:41.145Z"
      },
      {
        "duration": 373,
        "start_time": "2022-07-17T12:42:41.391Z"
      },
      {
        "duration": 229,
        "start_time": "2022-07-17T12:42:41.766Z"
      },
      {
        "duration": 182,
        "start_time": "2022-07-17T12:42:41.997Z"
      },
      {
        "duration": 4,
        "start_time": "2022-07-17T12:42:42.181Z"
      },
      {
        "duration": 161,
        "start_time": "2022-07-17T12:42:42.187Z"
      },
      {
        "duration": 1,
        "start_time": "2022-07-17T12:42:42.349Z"
      },
      {
        "duration": 0,
        "start_time": "2022-07-17T12:42:42.351Z"
      },
      {
        "duration": 0,
        "start_time": "2022-07-17T12:42:42.352Z"
      },
      {
        "duration": 0,
        "start_time": "2022-07-17T12:42:42.353Z"
      },
      {
        "duration": 0,
        "start_time": "2022-07-17T12:42:42.363Z"
      },
      {
        "duration": 0,
        "start_time": "2022-07-17T12:42:42.364Z"
      },
      {
        "duration": 0,
        "start_time": "2022-07-17T12:42:42.365Z"
      },
      {
        "duration": 0,
        "start_time": "2022-07-17T12:42:42.366Z"
      },
      {
        "duration": 0,
        "start_time": "2022-07-17T12:42:42.367Z"
      },
      {
        "duration": 0,
        "start_time": "2022-07-17T12:42:42.368Z"
      },
      {
        "duration": 4,
        "start_time": "2022-07-17T12:43:43.547Z"
      },
      {
        "duration": 21,
        "start_time": "2022-07-17T12:43:44.129Z"
      },
      {
        "duration": 8,
        "start_time": "2022-07-17T12:43:47.759Z"
      },
      {
        "duration": 6,
        "start_time": "2022-07-17T12:43:49.742Z"
      },
      {
        "duration": 25,
        "start_time": "2022-07-17T12:43:52.242Z"
      },
      {
        "duration": 12,
        "start_time": "2022-07-17T12:52:26.869Z"
      },
      {
        "duration": 7,
        "start_time": "2022-07-17T12:52:29.614Z"
      },
      {
        "duration": 8,
        "start_time": "2022-07-17T12:52:30.641Z"
      },
      {
        "duration": 18,
        "start_time": "2022-07-17T12:52:32.749Z"
      },
      {
        "duration": 1445,
        "start_time": "2022-07-17T13:02:22.857Z"
      },
      {
        "duration": 45,
        "start_time": "2022-07-17T13:02:24.305Z"
      },
      {
        "duration": 10,
        "start_time": "2022-07-17T13:02:24.351Z"
      },
      {
        "duration": 12,
        "start_time": "2022-07-17T13:02:24.362Z"
      },
      {
        "duration": 34,
        "start_time": "2022-07-17T13:02:24.376Z"
      },
      {
        "duration": 9,
        "start_time": "2022-07-17T13:02:24.412Z"
      },
      {
        "duration": 6,
        "start_time": "2022-07-17T13:02:24.423Z"
      },
      {
        "duration": 8,
        "start_time": "2022-07-17T13:02:24.431Z"
      },
      {
        "duration": 30,
        "start_time": "2022-07-17T13:02:24.441Z"
      },
      {
        "duration": 301,
        "start_time": "2022-07-17T13:02:24.474Z"
      },
      {
        "duration": 263,
        "start_time": "2022-07-17T13:02:24.777Z"
      },
      {
        "duration": 221,
        "start_time": "2022-07-17T13:02:25.042Z"
      },
      {
        "duration": 327,
        "start_time": "2022-07-17T13:02:25.265Z"
      },
      {
        "duration": 227,
        "start_time": "2022-07-17T13:02:25.594Z"
      },
      {
        "duration": 185,
        "start_time": "2022-07-17T13:02:25.822Z"
      },
      {
        "duration": 5,
        "start_time": "2022-07-17T13:02:26.009Z"
      },
      {
        "duration": 134,
        "start_time": "2022-07-17T13:02:26.016Z"
      },
      {
        "duration": 0,
        "start_time": "2022-07-17T13:02:26.152Z"
      },
      {
        "duration": 0,
        "start_time": "2022-07-17T13:02:26.154Z"
      },
      {
        "duration": 0,
        "start_time": "2022-07-17T13:02:26.155Z"
      },
      {
        "duration": 0,
        "start_time": "2022-07-17T13:02:26.163Z"
      },
      {
        "duration": 0,
        "start_time": "2022-07-17T13:02:26.164Z"
      },
      {
        "duration": 0,
        "start_time": "2022-07-17T13:02:26.165Z"
      },
      {
        "duration": 0,
        "start_time": "2022-07-17T13:02:26.167Z"
      },
      {
        "duration": 0,
        "start_time": "2022-07-17T13:02:26.168Z"
      },
      {
        "duration": 0,
        "start_time": "2022-07-17T13:02:26.169Z"
      },
      {
        "duration": 0,
        "start_time": "2022-07-17T13:02:26.171Z"
      },
      {
        "duration": 1437,
        "start_time": "2022-07-17T13:03:08.018Z"
      },
      {
        "duration": 46,
        "start_time": "2022-07-17T13:03:09.457Z"
      },
      {
        "duration": 10,
        "start_time": "2022-07-17T13:03:09.505Z"
      },
      {
        "duration": 28,
        "start_time": "2022-07-17T13:03:09.517Z"
      },
      {
        "duration": 36,
        "start_time": "2022-07-17T13:03:09.546Z"
      },
      {
        "duration": 14,
        "start_time": "2022-07-17T13:03:09.584Z"
      },
      {
        "duration": 10,
        "start_time": "2022-07-17T13:03:09.600Z"
      },
      {
        "duration": 7,
        "start_time": "2022-07-17T13:03:09.612Z"
      },
      {
        "duration": 14,
        "start_time": "2022-07-17T13:03:09.622Z"
      },
      {
        "duration": 310,
        "start_time": "2022-07-17T13:03:09.638Z"
      },
      {
        "duration": 240,
        "start_time": "2022-07-17T13:03:09.950Z"
      },
      {
        "duration": 229,
        "start_time": "2022-07-17T13:03:10.191Z"
      },
      {
        "duration": 361,
        "start_time": "2022-07-17T13:03:10.422Z"
      },
      {
        "duration": 262,
        "start_time": "2022-07-17T13:03:10.785Z"
      },
      {
        "duration": 179,
        "start_time": "2022-07-17T13:03:11.049Z"
      },
      {
        "duration": 5,
        "start_time": "2022-07-17T13:03:11.230Z"
      },
      {
        "duration": 30,
        "start_time": "2022-07-17T13:03:11.236Z"
      },
      {
        "duration": 5,
        "start_time": "2022-07-17T13:03:11.268Z"
      },
      {
        "duration": 7,
        "start_time": "2022-07-17T13:03:11.275Z"
      },
      {
        "duration": 21,
        "start_time": "2022-07-17T13:03:11.284Z"
      },
      {
        "duration": 7,
        "start_time": "2022-07-17T13:03:11.307Z"
      },
      {
        "duration": 28758,
        "start_time": "2022-07-17T13:03:11.315Z"
      },
      {
        "duration": 5,
        "start_time": "2022-07-17T13:03:40.075Z"
      },
      {
        "duration": 2303,
        "start_time": "2022-07-17T13:03:40.082Z"
      },
      {
        "duration": 10,
        "start_time": "2022-07-17T13:03:42.388Z"
      },
      {
        "duration": 3975,
        "start_time": "2022-07-17T13:03:42.400Z"
      },
      {
        "duration": 813,
        "start_time": "2022-07-17T13:03:46.377Z"
      },
      {
        "duration": 131,
        "start_time": "2022-07-17T13:09:22.433Z"
      },
      {
        "duration": 12,
        "start_time": "2022-07-17T13:09:27.600Z"
      },
      {
        "duration": 15,
        "start_time": "2022-07-17T13:09:39.294Z"
      },
      {
        "duration": 8,
        "start_time": "2022-07-17T13:09:55.645Z"
      },
      {
        "duration": 4,
        "start_time": "2022-07-17T13:20:56.433Z"
      },
      {
        "duration": 184,
        "start_time": "2022-07-17T13:21:07.171Z"
      },
      {
        "duration": 1665,
        "start_time": "2022-07-17T13:22:31.250Z"
      },
      {
        "duration": 40,
        "start_time": "2022-07-17T13:22:32.919Z"
      },
      {
        "duration": 19,
        "start_time": "2022-07-17T13:22:32.961Z"
      },
      {
        "duration": 19,
        "start_time": "2022-07-17T13:22:32.982Z"
      },
      {
        "duration": 35,
        "start_time": "2022-07-17T13:22:33.004Z"
      },
      {
        "duration": 10,
        "start_time": "2022-07-17T13:22:33.041Z"
      },
      {
        "duration": 18,
        "start_time": "2022-07-17T13:22:33.052Z"
      },
      {
        "duration": 11,
        "start_time": "2022-07-17T13:22:33.073Z"
      },
      {
        "duration": 16,
        "start_time": "2022-07-17T13:22:33.086Z"
      },
      {
        "duration": 368,
        "start_time": "2022-07-17T13:22:33.104Z"
      },
      {
        "duration": 301,
        "start_time": "2022-07-17T13:22:33.474Z"
      },
      {
        "duration": 233,
        "start_time": "2022-07-17T13:22:33.781Z"
      },
      {
        "duration": 386,
        "start_time": "2022-07-17T13:22:34.016Z"
      },
      {
        "duration": 246,
        "start_time": "2022-07-17T13:22:34.405Z"
      },
      {
        "duration": 198,
        "start_time": "2022-07-17T13:22:34.653Z"
      },
      {
        "duration": 4,
        "start_time": "2022-07-17T13:22:34.853Z"
      },
      {
        "duration": 24,
        "start_time": "2022-07-17T13:22:34.863Z"
      },
      {
        "duration": 7,
        "start_time": "2022-07-17T13:22:34.890Z"
      },
      {
        "duration": 9,
        "start_time": "2022-07-17T13:22:34.898Z"
      },
      {
        "duration": 56,
        "start_time": "2022-07-17T13:22:34.909Z"
      },
      {
        "duration": 20,
        "start_time": "2022-07-17T13:22:34.966Z"
      },
      {
        "duration": 442840,
        "start_time": "2022-07-17T13:22:34.988Z"
      },
      {
        "duration": 5,
        "start_time": "2022-07-17T13:29:57.829Z"
      },
      {
        "duration": 1442,
        "start_time": "2022-07-17T13:30:03.428Z"
      },
      {
        "duration": 52,
        "start_time": "2022-07-17T13:30:04.872Z"
      },
      {
        "duration": 10,
        "start_time": "2022-07-17T13:30:04.925Z"
      },
      {
        "duration": 16,
        "start_time": "2022-07-17T13:30:04.937Z"
      },
      {
        "duration": 32,
        "start_time": "2022-07-17T13:30:04.955Z"
      },
      {
        "duration": 14,
        "start_time": "2022-07-17T13:30:04.989Z"
      },
      {
        "duration": 8,
        "start_time": "2022-07-17T13:30:05.005Z"
      },
      {
        "duration": 10,
        "start_time": "2022-07-17T13:30:05.015Z"
      },
      {
        "duration": 15,
        "start_time": "2022-07-17T13:30:05.026Z"
      },
      {
        "duration": 351,
        "start_time": "2022-07-17T13:30:05.042Z"
      },
      {
        "duration": 262,
        "start_time": "2022-07-17T13:30:05.394Z"
      },
      {
        "duration": 222,
        "start_time": "2022-07-17T13:30:05.657Z"
      },
      {
        "duration": 335,
        "start_time": "2022-07-17T13:30:05.883Z"
      },
      {
        "duration": 237,
        "start_time": "2022-07-17T13:30:06.221Z"
      },
      {
        "duration": 199,
        "start_time": "2022-07-17T13:30:06.467Z"
      },
      {
        "duration": 7,
        "start_time": "2022-07-17T13:30:06.675Z"
      },
      {
        "duration": 36,
        "start_time": "2022-07-17T13:30:06.683Z"
      },
      {
        "duration": 5,
        "start_time": "2022-07-17T13:30:06.721Z"
      },
      {
        "duration": 14,
        "start_time": "2022-07-17T13:30:06.727Z"
      },
      {
        "duration": 325,
        "start_time": "2022-07-17T13:30:06.742Z"
      },
      {
        "duration": 10,
        "start_time": "2022-07-17T13:30:07.069Z"
      },
      {
        "duration": 40959,
        "start_time": "2022-07-17T13:30:07.083Z"
      },
      {
        "duration": 4,
        "start_time": "2022-07-17T13:30:48.045Z"
      },
      {
        "duration": 4049,
        "start_time": "2022-07-17T13:30:48.051Z"
      },
      {
        "duration": 265,
        "start_time": "2022-07-17T13:30:52.102Z"
      },
      {
        "duration": 1614,
        "start_time": "2022-07-17T13:31:03.776Z"
      },
      {
        "duration": 43,
        "start_time": "2022-07-17T13:31:05.393Z"
      },
      {
        "duration": 10,
        "start_time": "2022-07-17T13:31:05.437Z"
      },
      {
        "duration": 28,
        "start_time": "2022-07-17T13:31:05.449Z"
      },
      {
        "duration": 42,
        "start_time": "2022-07-17T13:31:05.479Z"
      },
      {
        "duration": 11,
        "start_time": "2022-07-17T13:31:05.523Z"
      },
      {
        "duration": 8,
        "start_time": "2022-07-17T13:31:05.550Z"
      },
      {
        "duration": 5,
        "start_time": "2022-07-17T13:31:05.981Z"
      },
      {
        "duration": 13,
        "start_time": "2022-07-17T13:31:06.380Z"
      },
      {
        "duration": 306,
        "start_time": "2022-07-17T13:31:07.984Z"
      },
      {
        "duration": 245,
        "start_time": "2022-07-17T13:31:08.313Z"
      },
      {
        "duration": 241,
        "start_time": "2022-07-17T13:31:08.908Z"
      },
      {
        "duration": 347,
        "start_time": "2022-07-17T13:31:09.151Z"
      },
      {
        "duration": 236,
        "start_time": "2022-07-17T13:31:09.500Z"
      },
      {
        "duration": 212,
        "start_time": "2022-07-17T13:31:09.738Z"
      },
      {
        "duration": 5,
        "start_time": "2022-07-17T13:31:11.908Z"
      },
      {
        "duration": 46,
        "start_time": "2022-07-17T13:31:12.801Z"
      },
      {
        "duration": 13,
        "start_time": "2022-07-17T13:31:13.969Z"
      },
      {
        "duration": 8,
        "start_time": "2022-07-17T13:31:14.739Z"
      },
      {
        "duration": 43,
        "start_time": "2022-07-17T13:31:15.630Z"
      },
      {
        "duration": 5,
        "start_time": "2022-07-17T13:31:16.924Z"
      },
      {
        "duration": 1500,
        "start_time": "2022-07-17T13:35:50.140Z"
      },
      {
        "duration": 45,
        "start_time": "2022-07-17T13:35:51.641Z"
      },
      {
        "duration": 12,
        "start_time": "2022-07-17T13:35:51.688Z"
      },
      {
        "duration": 11,
        "start_time": "2022-07-17T13:35:51.703Z"
      },
      {
        "duration": 33,
        "start_time": "2022-07-17T13:35:51.716Z"
      },
      {
        "duration": 36,
        "start_time": "2022-07-17T13:35:51.750Z"
      },
      {
        "duration": 21,
        "start_time": "2022-07-17T13:35:51.787Z"
      },
      {
        "duration": 12,
        "start_time": "2022-07-17T13:35:51.811Z"
      },
      {
        "duration": 19,
        "start_time": "2022-07-17T13:35:51.825Z"
      },
      {
        "duration": 326,
        "start_time": "2022-07-17T13:35:51.847Z"
      },
      {
        "duration": 252,
        "start_time": "2022-07-17T13:35:52.174Z"
      },
      {
        "duration": 298,
        "start_time": "2022-07-17T13:35:52.428Z"
      },
      {
        "duration": 399,
        "start_time": "2022-07-17T13:35:52.728Z"
      },
      {
        "duration": 257,
        "start_time": "2022-07-17T13:35:53.129Z"
      },
      {
        "duration": 218,
        "start_time": "2022-07-17T13:35:53.388Z"
      },
      {
        "duration": 5,
        "start_time": "2022-07-17T13:35:53.612Z"
      },
      {
        "duration": 38,
        "start_time": "2022-07-17T13:35:53.618Z"
      },
      {
        "duration": 18,
        "start_time": "2022-07-17T13:35:53.664Z"
      },
      {
        "duration": 17,
        "start_time": "2022-07-17T13:35:53.686Z"
      },
      {
        "duration": 169,
        "start_time": "2022-07-17T13:35:53.705Z"
      },
      {
        "duration": 18,
        "start_time": "2022-07-17T13:35:53.875Z"
      },
      {
        "duration": 126782,
        "start_time": "2022-07-17T13:35:53.898Z"
      },
      {
        "duration": 7,
        "start_time": "2022-07-17T13:38:00.683Z"
      },
      {
        "duration": 4502,
        "start_time": "2022-07-17T13:38:00.692Z"
      },
      {
        "duration": 174,
        "start_time": "2022-07-17T13:38:05.196Z"
      },
      {
        "duration": 14908,
        "start_time": "2022-07-17T13:38:05.373Z"
      },
      {
        "duration": 1638,
        "start_time": "2022-07-17T13:38:20.283Z"
      },
      {
        "duration": 607,
        "start_time": "2022-07-17T13:40:22.564Z"
      },
      {
        "duration": 1396,
        "start_time": "2022-07-17T13:41:26.766Z"
      },
      {
        "duration": 40,
        "start_time": "2022-07-17T13:41:28.164Z"
      },
      {
        "duration": 10,
        "start_time": "2022-07-17T13:41:28.206Z"
      },
      {
        "duration": 12,
        "start_time": "2022-07-17T13:41:28.218Z"
      },
      {
        "duration": 34,
        "start_time": "2022-07-17T13:41:28.232Z"
      },
      {
        "duration": 10,
        "start_time": "2022-07-17T13:41:28.268Z"
      },
      {
        "duration": 6,
        "start_time": "2022-07-17T13:41:28.280Z"
      },
      {
        "duration": 7,
        "start_time": "2022-07-17T13:41:28.288Z"
      },
      {
        "duration": 14,
        "start_time": "2022-07-17T13:41:28.297Z"
      },
      {
        "duration": 314,
        "start_time": "2022-07-17T13:41:28.313Z"
      },
      {
        "duration": 285,
        "start_time": "2022-07-17T13:41:28.629Z"
      },
      {
        "duration": 233,
        "start_time": "2022-07-17T13:41:28.916Z"
      },
      {
        "duration": 352,
        "start_time": "2022-07-17T13:41:29.151Z"
      },
      {
        "duration": 213,
        "start_time": "2022-07-17T13:41:29.506Z"
      },
      {
        "duration": 217,
        "start_time": "2022-07-17T13:41:29.721Z"
      },
      {
        "duration": 4,
        "start_time": "2022-07-17T13:41:29.940Z"
      },
      {
        "duration": 45,
        "start_time": "2022-07-17T13:41:29.945Z"
      },
      {
        "duration": 6,
        "start_time": "2022-07-17T13:41:29.991Z"
      },
      {
        "duration": 9,
        "start_time": "2022-07-17T13:41:29.999Z"
      },
      {
        "duration": 264,
        "start_time": "2022-07-17T13:41:30.009Z"
      },
      {
        "duration": 89,
        "start_time": "2022-07-17T13:41:30.277Z"
      },
      {
        "duration": 22807,
        "start_time": "2022-07-17T13:41:30.368Z"
      },
      {
        "duration": 87,
        "start_time": "2022-07-17T13:41:53.177Z"
      },
      {
        "duration": 3480,
        "start_time": "2022-07-17T13:41:53.266Z"
      },
      {
        "duration": 17,
        "start_time": "2022-07-17T13:41:56.748Z"
      },
      {
        "duration": 903,
        "start_time": "2022-07-17T13:41:56.767Z"
      },
      {
        "duration": 1461,
        "start_time": "2022-07-17T13:41:57.673Z"
      },
      {
        "duration": 4,
        "start_time": "2022-07-17T13:46:19.908Z"
      },
      {
        "duration": 7,
        "start_time": "2022-07-17T13:46:30.030Z"
      },
      {
        "duration": 160,
        "start_time": "2022-07-17T13:46:30.763Z"
      },
      {
        "duration": 6,
        "start_time": "2022-07-17T13:47:26.272Z"
      },
      {
        "duration": 6,
        "start_time": "2022-07-17T13:48:35.765Z"
      },
      {
        "duration": 4102,
        "start_time": "2022-07-17T13:48:35.772Z"
      },
      {
        "duration": 26755,
        "start_time": "2022-07-17T13:49:26.826Z"
      },
      {
        "duration": 1502,
        "start_time": "2022-07-17T13:57:44.309Z"
      },
      {
        "duration": 40,
        "start_time": "2022-07-17T13:57:45.813Z"
      },
      {
        "duration": 11,
        "start_time": "2022-07-17T13:57:45.855Z"
      },
      {
        "duration": 24,
        "start_time": "2022-07-17T13:57:45.868Z"
      },
      {
        "duration": 36,
        "start_time": "2022-07-17T13:57:45.893Z"
      },
      {
        "duration": 10,
        "start_time": "2022-07-17T13:57:45.931Z"
      },
      {
        "duration": 9,
        "start_time": "2022-07-17T13:57:45.943Z"
      },
      {
        "duration": 5,
        "start_time": "2022-07-17T13:57:46.123Z"
      },
      {
        "duration": 16,
        "start_time": "2022-07-17T13:57:46.479Z"
      },
      {
        "duration": 340,
        "start_time": "2022-07-17T13:57:47.574Z"
      },
      {
        "duration": 276,
        "start_time": "2022-07-17T13:57:47.973Z"
      },
      {
        "duration": 215,
        "start_time": "2022-07-17T13:57:48.520Z"
      },
      {
        "duration": 370,
        "start_time": "2022-07-17T13:57:48.737Z"
      },
      {
        "duration": 256,
        "start_time": "2022-07-17T13:57:49.109Z"
      },
      {
        "duration": 211,
        "start_time": "2022-07-17T13:57:49.373Z"
      },
      {
        "duration": 9,
        "start_time": "2022-07-17T13:57:51.657Z"
      },
      {
        "duration": 1507,
        "start_time": "2022-07-17T13:58:09.910Z"
      },
      {
        "duration": 42,
        "start_time": "2022-07-17T13:58:11.419Z"
      },
      {
        "duration": 13,
        "start_time": "2022-07-17T13:58:11.463Z"
      },
      {
        "duration": 22,
        "start_time": "2022-07-17T13:58:11.478Z"
      },
      {
        "duration": 30,
        "start_time": "2022-07-17T13:58:11.502Z"
      },
      {
        "duration": 11,
        "start_time": "2022-07-17T13:58:11.534Z"
      },
      {
        "duration": 8,
        "start_time": "2022-07-17T13:58:11.700Z"
      },
      {
        "duration": 5,
        "start_time": "2022-07-17T13:58:12.521Z"
      },
      {
        "duration": 17,
        "start_time": "2022-07-17T13:58:13.260Z"
      },
      {
        "duration": 303,
        "start_time": "2022-07-17T13:58:31.127Z"
      },
      {
        "duration": 262,
        "start_time": "2022-07-17T13:58:31.869Z"
      },
      {
        "duration": 257,
        "start_time": "2022-07-17T13:58:33.160Z"
      },
      {
        "duration": 348,
        "start_time": "2022-07-17T13:58:33.757Z"
      },
      {
        "duration": 260,
        "start_time": "2022-07-17T13:58:35.559Z"
      },
      {
        "duration": 178,
        "start_time": "2022-07-17T13:58:38.469Z"
      },
      {
        "duration": 19,
        "start_time": "2022-07-17T13:58:48.357Z"
      },
      {
        "duration": 121,
        "start_time": "2022-07-17T13:58:54.469Z"
      },
      {
        "duration": 10,
        "start_time": "2022-07-17T14:01:36.753Z"
      },
      {
        "duration": 2,
        "start_time": "2022-07-17T14:01:49.796Z"
      },
      {
        "duration": 13,
        "start_time": "2022-07-17T14:02:11.059Z"
      },
      {
        "duration": 1501,
        "start_time": "2022-07-17T14:02:31.871Z"
      },
      {
        "duration": 44,
        "start_time": "2022-07-17T14:02:33.374Z"
      },
      {
        "duration": 13,
        "start_time": "2022-07-17T14:02:33.420Z"
      },
      {
        "duration": 15,
        "start_time": "2022-07-17T14:02:33.435Z"
      },
      {
        "duration": 33,
        "start_time": "2022-07-17T14:02:33.452Z"
      },
      {
        "duration": 11,
        "start_time": "2022-07-17T14:02:33.487Z"
      },
      {
        "duration": 7,
        "start_time": "2022-07-17T14:02:33.500Z"
      },
      {
        "duration": 9,
        "start_time": "2022-07-17T14:02:33.509Z"
      },
      {
        "duration": 29,
        "start_time": "2022-07-17T14:02:33.520Z"
      },
      {
        "duration": 288,
        "start_time": "2022-07-17T14:02:33.552Z"
      },
      {
        "duration": 247,
        "start_time": "2022-07-17T14:02:33.841Z"
      },
      {
        "duration": 237,
        "start_time": "2022-07-17T14:02:34.089Z"
      },
      {
        "duration": 325,
        "start_time": "2022-07-17T14:02:34.327Z"
      },
      {
        "duration": 228,
        "start_time": "2022-07-17T14:02:34.654Z"
      },
      {
        "duration": 188,
        "start_time": "2022-07-17T14:02:34.884Z"
      },
      {
        "duration": 20,
        "start_time": "2022-07-17T14:02:35.074Z"
      },
      {
        "duration": 3,
        "start_time": "2022-07-17T14:02:35.096Z"
      },
      {
        "duration": 130,
        "start_time": "2022-07-17T14:02:35.101Z"
      },
      {
        "duration": 0,
        "start_time": "2022-07-17T14:02:35.232Z"
      },
      {
        "duration": 0,
        "start_time": "2022-07-17T14:02:35.233Z"
      },
      {
        "duration": 0,
        "start_time": "2022-07-17T14:02:35.235Z"
      },
      {
        "duration": 0,
        "start_time": "2022-07-17T14:02:35.236Z"
      },
      {
        "duration": 0,
        "start_time": "2022-07-17T14:02:35.237Z"
      },
      {
        "duration": 0,
        "start_time": "2022-07-17T14:02:35.238Z"
      },
      {
        "duration": 0,
        "start_time": "2022-07-17T14:02:35.240Z"
      },
      {
        "duration": 0,
        "start_time": "2022-07-17T14:02:35.241Z"
      },
      {
        "duration": 0,
        "start_time": "2022-07-17T14:02:35.264Z"
      },
      {
        "duration": 0,
        "start_time": "2022-07-17T14:02:35.266Z"
      },
      {
        "duration": 33,
        "start_time": "2022-07-17T14:03:10.489Z"
      },
      {
        "duration": 1442,
        "start_time": "2022-07-17T14:04:36.321Z"
      },
      {
        "duration": 44,
        "start_time": "2022-07-17T14:04:37.766Z"
      },
      {
        "duration": 11,
        "start_time": "2022-07-17T14:04:37.812Z"
      },
      {
        "duration": 15,
        "start_time": "2022-07-17T14:04:37.825Z"
      },
      {
        "duration": 31,
        "start_time": "2022-07-17T14:04:37.841Z"
      },
      {
        "duration": 12,
        "start_time": "2022-07-17T14:04:37.875Z"
      },
      {
        "duration": 9,
        "start_time": "2022-07-17T14:04:37.889Z"
      },
      {
        "duration": 8,
        "start_time": "2022-07-17T14:04:37.900Z"
      },
      {
        "duration": 17,
        "start_time": "2022-07-17T14:04:37.911Z"
      },
      {
        "duration": 326,
        "start_time": "2022-07-17T14:04:37.930Z"
      },
      {
        "duration": 251,
        "start_time": "2022-07-17T14:04:38.258Z"
      },
      {
        "duration": 214,
        "start_time": "2022-07-17T14:04:38.510Z"
      },
      {
        "duration": 364,
        "start_time": "2022-07-17T14:04:38.726Z"
      },
      {
        "duration": 236,
        "start_time": "2022-07-17T14:04:39.092Z"
      },
      {
        "duration": 191,
        "start_time": "2022-07-17T14:04:39.329Z"
      },
      {
        "duration": 26,
        "start_time": "2022-07-17T14:04:39.522Z"
      },
      {
        "duration": 48,
        "start_time": "2022-07-17T14:04:39.551Z"
      },
      {
        "duration": 2,
        "start_time": "2022-07-17T14:04:39.601Z"
      },
      {
        "duration": 9,
        "start_time": "2022-07-17T14:04:39.605Z"
      },
      {
        "duration": 6,
        "start_time": "2022-07-17T14:04:39.616Z"
      },
      {
        "duration": 41,
        "start_time": "2022-07-17T14:04:39.623Z"
      },
      {
        "duration": 7,
        "start_time": "2022-07-17T14:04:39.666Z"
      },
      {
        "duration": 31500,
        "start_time": "2022-07-17T14:04:39.676Z"
      },
      {
        "duration": 6,
        "start_time": "2022-07-17T14:05:11.177Z"
      },
      {
        "duration": 2826,
        "start_time": "2022-07-17T14:05:11.185Z"
      },
      {
        "duration": 14,
        "start_time": "2022-07-17T14:05:14.013Z"
      },
      {
        "duration": 943,
        "start_time": "2022-07-17T14:05:14.029Z"
      },
      {
        "duration": 1352,
        "start_time": "2022-07-17T14:05:14.975Z"
      },
      {
        "duration": 1420,
        "start_time": "2022-07-17T14:06:16.573Z"
      },
      {
        "duration": 50,
        "start_time": "2022-07-17T14:06:17.994Z"
      },
      {
        "duration": 13,
        "start_time": "2022-07-17T14:06:18.046Z"
      },
      {
        "duration": 27,
        "start_time": "2022-07-17T14:06:18.062Z"
      },
      {
        "duration": 30,
        "start_time": "2022-07-17T14:06:18.090Z"
      },
      {
        "duration": 11,
        "start_time": "2022-07-17T14:06:18.121Z"
      },
      {
        "duration": 11,
        "start_time": "2022-07-17T14:06:18.136Z"
      },
      {
        "duration": 30,
        "start_time": "2022-07-17T14:06:18.149Z"
      },
      {
        "duration": 28,
        "start_time": "2022-07-17T14:06:18.181Z"
      },
      {
        "duration": 270,
        "start_time": "2022-07-17T14:06:18.212Z"
      },
      {
        "duration": 244,
        "start_time": "2022-07-17T14:06:18.485Z"
      },
      {
        "duration": 243,
        "start_time": "2022-07-17T14:06:18.731Z"
      },
      {
        "duration": 327,
        "start_time": "2022-07-17T14:06:18.976Z"
      },
      {
        "duration": 222,
        "start_time": "2022-07-17T14:06:19.305Z"
      },
      {
        "duration": 214,
        "start_time": "2022-07-17T14:06:19.529Z"
      },
      {
        "duration": 30,
        "start_time": "2022-07-17T14:06:19.745Z"
      },
      {
        "duration": 32,
        "start_time": "2022-07-17T14:06:19.776Z"
      },
      {
        "duration": 3,
        "start_time": "2022-07-17T14:06:19.809Z"
      },
      {
        "duration": 11,
        "start_time": "2022-07-17T14:06:19.814Z"
      },
      {
        "duration": 139,
        "start_time": "2022-07-17T14:06:19.826Z"
      },
      {
        "duration": 0,
        "start_time": "2022-07-17T14:06:19.967Z"
      },
      {
        "duration": 0,
        "start_time": "2022-07-17T14:06:19.968Z"
      },
      {
        "duration": 0,
        "start_time": "2022-07-17T14:06:19.970Z"
      },
      {
        "duration": 0,
        "start_time": "2022-07-17T14:06:19.971Z"
      },
      {
        "duration": 0,
        "start_time": "2022-07-17T14:06:19.972Z"
      },
      {
        "duration": 0,
        "start_time": "2022-07-17T14:06:19.973Z"
      },
      {
        "duration": 0,
        "start_time": "2022-07-17T14:06:19.974Z"
      },
      {
        "duration": 0,
        "start_time": "2022-07-17T14:06:19.975Z"
      },
      {
        "duration": 1481,
        "start_time": "2022-07-17T14:09:36.269Z"
      },
      {
        "duration": 41,
        "start_time": "2022-07-17T14:09:37.752Z"
      },
      {
        "duration": 11,
        "start_time": "2022-07-17T14:09:37.795Z"
      },
      {
        "duration": 14,
        "start_time": "2022-07-17T14:09:37.807Z"
      },
      {
        "duration": 27,
        "start_time": "2022-07-17T14:09:37.824Z"
      },
      {
        "duration": 20,
        "start_time": "2022-07-17T14:09:37.853Z"
      },
      {
        "duration": 12,
        "start_time": "2022-07-17T14:09:37.874Z"
      },
      {
        "duration": 10,
        "start_time": "2022-07-17T14:09:37.888Z"
      },
      {
        "duration": 19,
        "start_time": "2022-07-17T14:09:37.900Z"
      },
      {
        "duration": 321,
        "start_time": "2022-07-17T14:09:37.921Z"
      },
      {
        "duration": 255,
        "start_time": "2022-07-17T14:09:38.244Z"
      },
      {
        "duration": 221,
        "start_time": "2022-07-17T14:09:38.501Z"
      },
      {
        "duration": 352,
        "start_time": "2022-07-17T14:09:38.723Z"
      },
      {
        "duration": 215,
        "start_time": "2022-07-17T14:09:39.078Z"
      },
      {
        "duration": 187,
        "start_time": "2022-07-17T14:09:39.294Z"
      },
      {
        "duration": 19,
        "start_time": "2022-07-17T14:09:39.483Z"
      },
      {
        "duration": 7,
        "start_time": "2022-07-17T14:09:39.503Z"
      },
      {
        "duration": 3,
        "start_time": "2022-07-17T14:09:39.512Z"
      },
      {
        "duration": 11,
        "start_time": "2022-07-17T14:09:39.516Z"
      },
      {
        "duration": 7,
        "start_time": "2022-07-17T14:09:39.528Z"
      },
      {
        "duration": 36,
        "start_time": "2022-07-17T14:09:39.536Z"
      },
      {
        "duration": 96,
        "start_time": "2022-07-17T14:09:39.574Z"
      },
      {
        "duration": 3701,
        "start_time": "2022-07-17T14:09:39.672Z"
      },
      {
        "duration": 5,
        "start_time": "2022-07-17T14:09:43.375Z"
      },
      {
        "duration": 2624,
        "start_time": "2022-07-17T14:09:43.381Z"
      },
      {
        "duration": 10,
        "start_time": "2022-07-17T14:09:46.006Z"
      },
      {
        "duration": 657,
        "start_time": "2022-07-17T14:09:46.018Z"
      },
      {
        "duration": 992,
        "start_time": "2022-07-17T14:09:46.676Z"
      },
      {
        "duration": 5,
        "start_time": "2022-07-17T14:13:01.120Z"
      },
      {
        "duration": 1423,
        "start_time": "2022-07-17T14:16:39.188Z"
      },
      {
        "duration": 44,
        "start_time": "2022-07-17T14:16:40.612Z"
      },
      {
        "duration": 11,
        "start_time": "2022-07-17T14:16:40.657Z"
      },
      {
        "duration": 38,
        "start_time": "2022-07-17T14:16:40.670Z"
      },
      {
        "duration": 53,
        "start_time": "2022-07-17T14:16:40.712Z"
      },
      {
        "duration": 9,
        "start_time": "2022-07-17T14:16:40.767Z"
      },
      {
        "duration": 36,
        "start_time": "2022-07-17T14:16:40.778Z"
      },
      {
        "duration": 25,
        "start_time": "2022-07-17T14:16:40.816Z"
      },
      {
        "duration": 43,
        "start_time": "2022-07-17T14:16:40.843Z"
      },
      {
        "duration": 292,
        "start_time": "2022-07-17T14:16:40.887Z"
      },
      {
        "duration": 239,
        "start_time": "2022-07-17T14:16:41.180Z"
      },
      {
        "duration": 218,
        "start_time": "2022-07-17T14:16:41.421Z"
      },
      {
        "duration": 319,
        "start_time": "2022-07-17T14:16:41.641Z"
      },
      {
        "duration": 227,
        "start_time": "2022-07-17T14:16:41.963Z"
      },
      {
        "duration": 179,
        "start_time": "2022-07-17T14:16:42.191Z"
      },
      {
        "duration": 20,
        "start_time": "2022-07-17T14:16:42.371Z"
      },
      {
        "duration": 14,
        "start_time": "2022-07-17T14:16:42.393Z"
      },
      {
        "duration": 12,
        "start_time": "2022-07-17T14:16:42.409Z"
      },
      {
        "duration": 9,
        "start_time": "2022-07-17T14:16:42.423Z"
      },
      {
        "duration": 16,
        "start_time": "2022-07-17T14:16:42.433Z"
      },
      {
        "duration": 132,
        "start_time": "2022-07-17T14:16:42.451Z"
      },
      {
        "duration": 0,
        "start_time": "2022-07-17T14:16:42.585Z"
      },
      {
        "duration": 0,
        "start_time": "2022-07-17T14:16:42.588Z"
      },
      {
        "duration": 0,
        "start_time": "2022-07-17T14:16:42.590Z"
      },
      {
        "duration": 0,
        "start_time": "2022-07-17T14:16:42.592Z"
      },
      {
        "duration": 0,
        "start_time": "2022-07-17T14:16:42.593Z"
      },
      {
        "duration": 0,
        "start_time": "2022-07-17T14:16:42.594Z"
      },
      {
        "duration": 0,
        "start_time": "2022-07-17T14:16:42.596Z"
      },
      {
        "duration": 0,
        "start_time": "2022-07-17T14:16:42.597Z"
      },
      {
        "duration": 13,
        "start_time": "2022-07-17T14:18:41.801Z"
      },
      {
        "duration": 8,
        "start_time": "2022-07-17T14:18:44.280Z"
      },
      {
        "duration": 6,
        "start_time": "2022-07-17T14:18:52.893Z"
      },
      {
        "duration": 3082,
        "start_time": "2022-07-17T14:18:55.692Z"
      },
      {
        "duration": 5,
        "start_time": "2022-07-17T14:19:03.300Z"
      },
      {
        "duration": 2942,
        "start_time": "2022-07-17T14:19:03.510Z"
      },
      {
        "duration": 8,
        "start_time": "2022-07-17T14:19:12.380Z"
      },
      {
        "duration": 410,
        "start_time": "2022-07-17T14:19:16.163Z"
      },
      {
        "duration": 891,
        "start_time": "2022-07-17T14:19:19.296Z"
      },
      {
        "duration": 1367,
        "start_time": "2022-07-17T14:19:48.301Z"
      },
      {
        "duration": 39,
        "start_time": "2022-07-17T14:19:49.670Z"
      },
      {
        "duration": 10,
        "start_time": "2022-07-17T14:19:49.713Z"
      },
      {
        "duration": 11,
        "start_time": "2022-07-17T14:19:49.725Z"
      },
      {
        "duration": 29,
        "start_time": "2022-07-17T14:19:49.737Z"
      },
      {
        "duration": 9,
        "start_time": "2022-07-17T14:19:49.768Z"
      },
      {
        "duration": 5,
        "start_time": "2022-07-17T14:19:49.779Z"
      },
      {
        "duration": 5,
        "start_time": "2022-07-17T14:19:49.786Z"
      },
      {
        "duration": 12,
        "start_time": "2022-07-17T14:19:49.794Z"
      },
      {
        "duration": 312,
        "start_time": "2022-07-17T14:19:49.808Z"
      },
      {
        "duration": 248,
        "start_time": "2022-07-17T14:19:50.122Z"
      },
      {
        "duration": 236,
        "start_time": "2022-07-17T14:19:50.372Z"
      },
      {
        "duration": 338,
        "start_time": "2022-07-17T14:19:50.610Z"
      },
      {
        "duration": 222,
        "start_time": "2022-07-17T14:19:50.950Z"
      },
      {
        "duration": 183,
        "start_time": "2022-07-17T14:19:51.173Z"
      },
      {
        "duration": 20,
        "start_time": "2022-07-17T14:19:51.358Z"
      },
      {
        "duration": 27,
        "start_time": "2022-07-17T14:19:51.381Z"
      },
      {
        "duration": 3,
        "start_time": "2022-07-17T14:19:51.410Z"
      },
      {
        "duration": 12,
        "start_time": "2022-07-17T14:19:51.415Z"
      },
      {
        "duration": 6,
        "start_time": "2022-07-17T14:19:51.428Z"
      },
      {
        "duration": 53,
        "start_time": "2022-07-17T14:19:51.436Z"
      },
      {
        "duration": 9,
        "start_time": "2022-07-17T14:19:51.491Z"
      },
      {
        "duration": 8,
        "start_time": "2022-07-17T14:19:51.502Z"
      },
      {
        "duration": 1471,
        "start_time": "2022-07-17T14:22:59.287Z"
      },
      {
        "duration": 43,
        "start_time": "2022-07-17T14:23:02.004Z"
      },
      {
        "duration": 13,
        "start_time": "2022-07-17T14:23:02.588Z"
      },
      {
        "duration": 13,
        "start_time": "2022-07-17T14:23:02.892Z"
      },
      {
        "duration": 42,
        "start_time": "2022-07-17T14:23:03.092Z"
      },
      {
        "duration": 12,
        "start_time": "2022-07-17T14:23:03.287Z"
      },
      {
        "duration": 7,
        "start_time": "2022-07-17T14:23:03.501Z"
      },
      {
        "duration": 4,
        "start_time": "2022-07-17T14:23:03.887Z"
      },
      {
        "duration": 13,
        "start_time": "2022-07-17T14:23:04.284Z"
      },
      {
        "duration": 276,
        "start_time": "2022-07-17T14:23:05.608Z"
      },
      {
        "duration": 226,
        "start_time": "2022-07-17T14:23:06.191Z"
      },
      {
        "duration": 209,
        "start_time": "2022-07-17T14:23:06.800Z"
      },
      {
        "duration": 334,
        "start_time": "2022-07-17T14:23:07.011Z"
      },
      {
        "duration": 231,
        "start_time": "2022-07-17T14:23:07.347Z"
      },
      {
        "duration": 177,
        "start_time": "2022-07-17T14:23:08.175Z"
      },
      {
        "duration": 19,
        "start_time": "2022-07-17T14:23:16.821Z"
      },
      {
        "duration": 28,
        "start_time": "2022-07-17T14:23:19.111Z"
      },
      {
        "duration": 2,
        "start_time": "2022-07-17T14:23:26.239Z"
      },
      {
        "duration": 9,
        "start_time": "2022-07-17T14:23:29.537Z"
      },
      {
        "duration": 7,
        "start_time": "2022-07-17T14:23:32.391Z"
      },
      {
        "duration": 13,
        "start_time": "2022-07-17T14:23:34.224Z"
      },
      {
        "duration": 9,
        "start_time": "2022-07-17T14:23:35.753Z"
      },
      {
        "duration": 8,
        "start_time": "2022-07-17T14:23:40.608Z"
      },
      {
        "duration": 169546,
        "start_time": "2022-07-17T14:23:44.038Z"
      },
      {
        "duration": 959,
        "start_time": "2022-07-17T14:26:33.588Z"
      },
      {
        "duration": 1398,
        "start_time": "2022-07-17T14:31:04.336Z"
      },
      {
        "duration": 45,
        "start_time": "2022-07-17T14:31:05.737Z"
      },
      {
        "duration": 11,
        "start_time": "2022-07-17T14:31:05.784Z"
      },
      {
        "duration": 12,
        "start_time": "2022-07-17T14:31:05.796Z"
      },
      {
        "duration": 26,
        "start_time": "2022-07-17T14:31:05.809Z"
      },
      {
        "duration": 10,
        "start_time": "2022-07-17T14:31:05.836Z"
      },
      {
        "duration": 14,
        "start_time": "2022-07-17T14:31:05.865Z"
      },
      {
        "duration": 13,
        "start_time": "2022-07-17T14:31:05.881Z"
      },
      {
        "duration": 18,
        "start_time": "2022-07-17T14:31:05.896Z"
      },
      {
        "duration": 283,
        "start_time": "2022-07-17T14:31:05.916Z"
      },
      {
        "duration": 252,
        "start_time": "2022-07-17T14:31:06.201Z"
      },
      {
        "duration": 222,
        "start_time": "2022-07-17T14:31:06.455Z"
      },
      {
        "duration": 340,
        "start_time": "2022-07-17T14:31:06.680Z"
      },
      {
        "duration": 229,
        "start_time": "2022-07-17T14:31:07.021Z"
      },
      {
        "duration": 196,
        "start_time": "2022-07-17T14:31:07.251Z"
      },
      {
        "duration": 29,
        "start_time": "2022-07-17T14:31:07.449Z"
      },
      {
        "duration": 27,
        "start_time": "2022-07-17T14:31:07.480Z"
      },
      {
        "duration": 2,
        "start_time": "2022-07-17T14:31:07.509Z"
      },
      {
        "duration": 12,
        "start_time": "2022-07-17T14:31:07.512Z"
      },
      {
        "duration": 6,
        "start_time": "2022-07-17T14:31:07.526Z"
      },
      {
        "duration": 5,
        "start_time": "2022-07-17T14:31:07.533Z"
      },
      {
        "duration": 43,
        "start_time": "2022-07-17T14:31:07.539Z"
      },
      {
        "duration": 10,
        "start_time": "2022-07-17T14:31:07.584Z"
      },
      {
        "duration": 20718,
        "start_time": "2022-07-17T14:31:07.596Z"
      },
      {
        "duration": 6,
        "start_time": "2022-07-17T14:31:28.316Z"
      },
      {
        "duration": 2912,
        "start_time": "2022-07-17T14:31:28.324Z"
      },
      {
        "duration": 11,
        "start_time": "2022-07-17T14:31:31.238Z"
      },
      {
        "duration": 19490,
        "start_time": "2022-07-17T14:31:31.256Z"
      },
      {
        "duration": 1074,
        "start_time": "2022-07-17T14:31:50.765Z"
      },
      {
        "duration": 164576,
        "start_time": "2022-07-17T14:33:24.295Z"
      },
      {
        "duration": 1383,
        "start_time": "2022-07-17T14:42:48.586Z"
      },
      {
        "duration": 41,
        "start_time": "2022-07-17T14:42:49.971Z"
      },
      {
        "duration": 13,
        "start_time": "2022-07-17T14:42:50.013Z"
      },
      {
        "duration": 16,
        "start_time": "2022-07-17T14:42:50.029Z"
      },
      {
        "duration": 41,
        "start_time": "2022-07-17T14:42:50.047Z"
      },
      {
        "duration": 10,
        "start_time": "2022-07-17T14:42:50.090Z"
      },
      {
        "duration": 11,
        "start_time": "2022-07-17T14:42:50.101Z"
      },
      {
        "duration": 6,
        "start_time": "2022-07-17T14:42:50.114Z"
      },
      {
        "duration": 17,
        "start_time": "2022-07-17T14:42:50.122Z"
      },
      {
        "duration": 326,
        "start_time": "2022-07-17T14:42:50.163Z"
      },
      {
        "duration": 247,
        "start_time": "2022-07-17T14:42:50.491Z"
      },
      {
        "duration": 206,
        "start_time": "2022-07-17T14:42:50.744Z"
      },
      {
        "duration": 317,
        "start_time": "2022-07-17T14:42:50.952Z"
      },
      {
        "duration": 242,
        "start_time": "2022-07-17T14:42:51.271Z"
      },
      {
        "duration": 178,
        "start_time": "2022-07-17T14:42:51.515Z"
      },
      {
        "duration": 19,
        "start_time": "2022-07-17T14:42:51.695Z"
      },
      {
        "duration": 27,
        "start_time": "2022-07-17T14:42:51.716Z"
      },
      {
        "duration": 3,
        "start_time": "2022-07-17T14:42:51.764Z"
      },
      {
        "duration": 14,
        "start_time": "2022-07-17T14:42:51.768Z"
      },
      {
        "duration": 7,
        "start_time": "2022-07-17T14:42:51.784Z"
      },
      {
        "duration": 9,
        "start_time": "2022-07-17T14:42:51.793Z"
      },
      {
        "duration": 14,
        "start_time": "2022-07-17T14:42:51.804Z"
      },
      {
        "duration": 8,
        "start_time": "2022-07-17T14:42:51.865Z"
      },
      {
        "duration": 65302,
        "start_time": "2022-07-17T14:42:51.876Z"
      },
      {
        "duration": 5,
        "start_time": "2022-07-17T14:43:57.264Z"
      },
      {
        "duration": 2642,
        "start_time": "2022-07-17T14:43:57.271Z"
      },
      {
        "duration": 11,
        "start_time": "2022-07-17T14:43:59.914Z"
      },
      {
        "duration": 132944,
        "start_time": "2022-07-17T14:43:59.929Z"
      },
      {
        "duration": 893,
        "start_time": "2022-07-17T14:46:12.875Z"
      },
      {
        "duration": 5,
        "start_time": "2022-07-17T14:46:13.770Z"
      },
      {
        "duration": 115592,
        "start_time": "2022-07-17T14:46:13.776Z"
      },
      {
        "duration": 9,
        "start_time": "2022-07-17T14:48:09.371Z"
      },
      {
        "duration": 2846,
        "start_time": "2022-07-17T14:48:09.382Z"
      },
      {
        "duration": 12,
        "start_time": "2022-07-17T14:48:12.230Z"
      }
    ],
    "kernelspec": {
      "display_name": "Python 3 (ipykernel)",
      "language": "python",
      "name": "python3"
    },
    "language_info": {
      "codemirror_mode": {
        "name": "ipython",
        "version": 3
      },
      "file_extension": ".py",
      "mimetype": "text/x-python",
      "name": "python",
      "nbconvert_exporter": "python",
      "pygments_lexer": "ipython3",
      "version": "3.9.5"
    },
    "toc": {
      "base_numbering": 1,
      "nav_menu": {},
      "number_sections": true,
      "sideBar": true,
      "skip_h1_title": true,
      "title_cell": "Содержание",
      "title_sidebar": "Contents",
      "toc_cell": true,
      "toc_position": {
        "height": "calc(100% - 180px)",
        "left": "10px",
        "top": "150px",
        "width": "366.4px"
      },
      "toc_section_display": true,
      "toc_window_display": false
    },
    "colab": {
      "provenance": []
    }
  },
  "nbformat": 4,
  "nbformat_minor": 0
}