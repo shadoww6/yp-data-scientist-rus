{
  "cells": [
    {
      "cell_type": "markdown",
      "source": [
        "❗ Оставлены рекомендации ревьюера"
      ],
      "metadata": {
        "id": "zjcAY-KJNXlU"
      }
    },
    {
      "cell_type": "markdown",
      "metadata": {
        "id": "ec71VIePNSZE"
      },
      "source": [
        "# Определение стоимости автомобилей"
      ]
    },
    {
      "cell_type": "markdown",
      "metadata": {
        "id": "Jp596nGpNSZG"
      },
      "source": [
        "Сервис по продаже автомобилей с пробегом «Не бит, не крашен» разрабатывает приложение для привлечения новых клиентов. В нём можно быстро узнать рыночную стоимость своего автомобиля. В вашем распоряжении исторические данные: технические характеристики, комплектации и цены автомобилей. Вам нужно построить модель для определения стоимости.\n",
        "\n",
        "Заказчику важны:\n",
        "\n",
        "- качество предсказания;\n",
        "- скорость предсказания;\n",
        "- время обучения."
      ]
    },
    {
      "cell_type": "markdown",
      "metadata": {
        "id": "HM6J335cNSZH"
      },
      "source": [
        "**Задачи**\n",
        "1. Загрузить и подготовить данные.\n",
        "2. Обучить разные модели. Для каждой попробовать различные гиперпараметры.\n",
        "3. Проанализировать скорость работы и качество моделей."
      ]
    },
    {
      "cell_type": "markdown",
      "metadata": {
        "id": "-nqEiep2NSZI"
      },
      "source": [
        "## Подготовка данных"
      ]
    },
    {
      "cell_type": "code",
      "execution_count": null,
      "metadata": {
        "id": "Ha5xahooNSZI"
      },
      "outputs": [],
      "source": [
        "import pandas as pd\n",
        "import sklearn\n",
        "import warnings\n",
        "warnings.filterwarnings('ignore')\n",
        "import numpy as np\n",
        "import seaborn as sns\n",
        "import matplotlib.pyplot as plt\n",
        "import time\n",
        "\n",
        "from lightgbm import LGBMRegressor\n",
        "\n",
        "from catboost import CatBoostRegressor\n",
        "\n",
        "from sklearn.linear_model import LinearRegression\n",
        "\n",
        "from sklearn.model_selection import cross_val_score\n",
        "from sklearn.model_selection import train_test_split\n",
        "from sklearn.preprocessing import StandardScaler\n",
        "from sklearn.metrics import mean_squared_error"
      ]
    },
    {
      "cell_type": "code",
      "execution_count": null,
      "metadata": {
        "id": "xfdv8pTRNSZJ"
      },
      "outputs": [],
      "source": [
        "try:\n",
        "    df = pd.read_csv('/datasets/autos.csv')\n",
        "except:\n",
        "    df = pd.read_csv('C:\\\\Users\\\\HARD_REBOOT\\\\Downloads\\\\autos.csv')"
      ]
    },
    {
      "cell_type": "code",
      "execution_count": null,
      "metadata": {
        "scrolled": true,
        "id": "qBADwTQnNSZK",
        "outputId": "3f173f0a-eb2a-4f82-ab91-ad3f8ee7e167"
      },
      "outputs": [
        {
          "data": {
            "text/html": [
              "<div>\n",
              "<style scoped>\n",
              "    .dataframe tbody tr th:only-of-type {\n",
              "        vertical-align: middle;\n",
              "    }\n",
              "\n",
              "    .dataframe tbody tr th {\n",
              "        vertical-align: top;\n",
              "    }\n",
              "\n",
              "    .dataframe thead th {\n",
              "        text-align: right;\n",
              "    }\n",
              "</style>\n",
              "<table border=\"1\" class=\"dataframe\">\n",
              "  <thead>\n",
              "    <tr style=\"text-align: right;\">\n",
              "      <th></th>\n",
              "      <th>DateCrawled</th>\n",
              "      <th>Price</th>\n",
              "      <th>VehicleType</th>\n",
              "      <th>RegistrationYear</th>\n",
              "      <th>Gearbox</th>\n",
              "      <th>Power</th>\n",
              "      <th>Model</th>\n",
              "      <th>Kilometer</th>\n",
              "      <th>RegistrationMonth</th>\n",
              "      <th>FuelType</th>\n",
              "      <th>Brand</th>\n",
              "      <th>NotRepaired</th>\n",
              "      <th>DateCreated</th>\n",
              "      <th>NumberOfPictures</th>\n",
              "      <th>PostalCode</th>\n",
              "      <th>LastSeen</th>\n",
              "    </tr>\n",
              "  </thead>\n",
              "  <tbody>\n",
              "    <tr>\n",
              "      <th>0</th>\n",
              "      <td>2016-03-24 11:52:17</td>\n",
              "      <td>480</td>\n",
              "      <td>NaN</td>\n",
              "      <td>1993</td>\n",
              "      <td>manual</td>\n",
              "      <td>0</td>\n",
              "      <td>golf</td>\n",
              "      <td>150000</td>\n",
              "      <td>0</td>\n",
              "      <td>petrol</td>\n",
              "      <td>volkswagen</td>\n",
              "      <td>NaN</td>\n",
              "      <td>2016-03-24 00:00:00</td>\n",
              "      <td>0</td>\n",
              "      <td>70435</td>\n",
              "      <td>2016-04-07 03:16:57</td>\n",
              "    </tr>\n",
              "    <tr>\n",
              "      <th>1</th>\n",
              "      <td>2016-03-24 10:58:45</td>\n",
              "      <td>18300</td>\n",
              "      <td>coupe</td>\n",
              "      <td>2011</td>\n",
              "      <td>manual</td>\n",
              "      <td>190</td>\n",
              "      <td>NaN</td>\n",
              "      <td>125000</td>\n",
              "      <td>5</td>\n",
              "      <td>gasoline</td>\n",
              "      <td>audi</td>\n",
              "      <td>yes</td>\n",
              "      <td>2016-03-24 00:00:00</td>\n",
              "      <td>0</td>\n",
              "      <td>66954</td>\n",
              "      <td>2016-04-07 01:46:50</td>\n",
              "    </tr>\n",
              "    <tr>\n",
              "      <th>2</th>\n",
              "      <td>2016-03-14 12:52:21</td>\n",
              "      <td>9800</td>\n",
              "      <td>suv</td>\n",
              "      <td>2004</td>\n",
              "      <td>auto</td>\n",
              "      <td>163</td>\n",
              "      <td>grand</td>\n",
              "      <td>125000</td>\n",
              "      <td>8</td>\n",
              "      <td>gasoline</td>\n",
              "      <td>jeep</td>\n",
              "      <td>NaN</td>\n",
              "      <td>2016-03-14 00:00:00</td>\n",
              "      <td>0</td>\n",
              "      <td>90480</td>\n",
              "      <td>2016-04-05 12:47:46</td>\n",
              "    </tr>\n",
              "    <tr>\n",
              "      <th>3</th>\n",
              "      <td>2016-03-17 16:54:04</td>\n",
              "      <td>1500</td>\n",
              "      <td>small</td>\n",
              "      <td>2001</td>\n",
              "      <td>manual</td>\n",
              "      <td>75</td>\n",
              "      <td>golf</td>\n",
              "      <td>150000</td>\n",
              "      <td>6</td>\n",
              "      <td>petrol</td>\n",
              "      <td>volkswagen</td>\n",
              "      <td>no</td>\n",
              "      <td>2016-03-17 00:00:00</td>\n",
              "      <td>0</td>\n",
              "      <td>91074</td>\n",
              "      <td>2016-03-17 17:40:17</td>\n",
              "    </tr>\n",
              "    <tr>\n",
              "      <th>4</th>\n",
              "      <td>2016-03-31 17:25:20</td>\n",
              "      <td>3600</td>\n",
              "      <td>small</td>\n",
              "      <td>2008</td>\n",
              "      <td>manual</td>\n",
              "      <td>69</td>\n",
              "      <td>fabia</td>\n",
              "      <td>90000</td>\n",
              "      <td>7</td>\n",
              "      <td>gasoline</td>\n",
              "      <td>skoda</td>\n",
              "      <td>no</td>\n",
              "      <td>2016-03-31 00:00:00</td>\n",
              "      <td>0</td>\n",
              "      <td>60437</td>\n",
              "      <td>2016-04-06 10:17:21</td>\n",
              "    </tr>\n",
              "    <tr>\n",
              "      <th>5</th>\n",
              "      <td>2016-04-04 17:36:23</td>\n",
              "      <td>650</td>\n",
              "      <td>sedan</td>\n",
              "      <td>1995</td>\n",
              "      <td>manual</td>\n",
              "      <td>102</td>\n",
              "      <td>3er</td>\n",
              "      <td>150000</td>\n",
              "      <td>10</td>\n",
              "      <td>petrol</td>\n",
              "      <td>bmw</td>\n",
              "      <td>yes</td>\n",
              "      <td>2016-04-04 00:00:00</td>\n",
              "      <td>0</td>\n",
              "      <td>33775</td>\n",
              "      <td>2016-04-06 19:17:07</td>\n",
              "    </tr>\n",
              "    <tr>\n",
              "      <th>6</th>\n",
              "      <td>2016-04-01 20:48:51</td>\n",
              "      <td>2200</td>\n",
              "      <td>convertible</td>\n",
              "      <td>2004</td>\n",
              "      <td>manual</td>\n",
              "      <td>109</td>\n",
              "      <td>2_reihe</td>\n",
              "      <td>150000</td>\n",
              "      <td>8</td>\n",
              "      <td>petrol</td>\n",
              "      <td>peugeot</td>\n",
              "      <td>no</td>\n",
              "      <td>2016-04-01 00:00:00</td>\n",
              "      <td>0</td>\n",
              "      <td>67112</td>\n",
              "      <td>2016-04-05 18:18:39</td>\n",
              "    </tr>\n",
              "    <tr>\n",
              "      <th>7</th>\n",
              "      <td>2016-03-21 18:54:38</td>\n",
              "      <td>0</td>\n",
              "      <td>sedan</td>\n",
              "      <td>1980</td>\n",
              "      <td>manual</td>\n",
              "      <td>50</td>\n",
              "      <td>other</td>\n",
              "      <td>40000</td>\n",
              "      <td>7</td>\n",
              "      <td>petrol</td>\n",
              "      <td>volkswagen</td>\n",
              "      <td>no</td>\n",
              "      <td>2016-03-21 00:00:00</td>\n",
              "      <td>0</td>\n",
              "      <td>19348</td>\n",
              "      <td>2016-03-25 16:47:58</td>\n",
              "    </tr>\n",
              "    <tr>\n",
              "      <th>8</th>\n",
              "      <td>2016-04-04 23:42:13</td>\n",
              "      <td>14500</td>\n",
              "      <td>bus</td>\n",
              "      <td>2014</td>\n",
              "      <td>manual</td>\n",
              "      <td>125</td>\n",
              "      <td>c_max</td>\n",
              "      <td>30000</td>\n",
              "      <td>8</td>\n",
              "      <td>petrol</td>\n",
              "      <td>ford</td>\n",
              "      <td>NaN</td>\n",
              "      <td>2016-04-04 00:00:00</td>\n",
              "      <td>0</td>\n",
              "      <td>94505</td>\n",
              "      <td>2016-04-04 23:42:13</td>\n",
              "    </tr>\n",
              "    <tr>\n",
              "      <th>9</th>\n",
              "      <td>2016-03-17 10:53:50</td>\n",
              "      <td>999</td>\n",
              "      <td>small</td>\n",
              "      <td>1998</td>\n",
              "      <td>manual</td>\n",
              "      <td>101</td>\n",
              "      <td>golf</td>\n",
              "      <td>150000</td>\n",
              "      <td>0</td>\n",
              "      <td>NaN</td>\n",
              "      <td>volkswagen</td>\n",
              "      <td>NaN</td>\n",
              "      <td>2016-03-17 00:00:00</td>\n",
              "      <td>0</td>\n",
              "      <td>27472</td>\n",
              "      <td>2016-03-31 17:17:06</td>\n",
              "    </tr>\n",
              "  </tbody>\n",
              "</table>\n",
              "</div>"
            ],
            "text/plain": [
              "           DateCrawled  Price  VehicleType  RegistrationYear Gearbox  Power  \\\n",
              "0  2016-03-24 11:52:17    480          NaN              1993  manual      0   \n",
              "1  2016-03-24 10:58:45  18300        coupe              2011  manual    190   \n",
              "2  2016-03-14 12:52:21   9800          suv              2004    auto    163   \n",
              "3  2016-03-17 16:54:04   1500        small              2001  manual     75   \n",
              "4  2016-03-31 17:25:20   3600        small              2008  manual     69   \n",
              "5  2016-04-04 17:36:23    650        sedan              1995  manual    102   \n",
              "6  2016-04-01 20:48:51   2200  convertible              2004  manual    109   \n",
              "7  2016-03-21 18:54:38      0        sedan              1980  manual     50   \n",
              "8  2016-04-04 23:42:13  14500          bus              2014  manual    125   \n",
              "9  2016-03-17 10:53:50    999        small              1998  manual    101   \n",
              "\n",
              "     Model  Kilometer  RegistrationMonth  FuelType       Brand NotRepaired  \\\n",
              "0     golf     150000                  0    petrol  volkswagen         NaN   \n",
              "1      NaN     125000                  5  gasoline        audi         yes   \n",
              "2    grand     125000                  8  gasoline        jeep         NaN   \n",
              "3     golf     150000                  6    petrol  volkswagen          no   \n",
              "4    fabia      90000                  7  gasoline       skoda          no   \n",
              "5      3er     150000                 10    petrol         bmw         yes   \n",
              "6  2_reihe     150000                  8    petrol     peugeot          no   \n",
              "7    other      40000                  7    petrol  volkswagen          no   \n",
              "8    c_max      30000                  8    petrol        ford         NaN   \n",
              "9     golf     150000                  0       NaN  volkswagen         NaN   \n",
              "\n",
              "           DateCreated  NumberOfPictures  PostalCode             LastSeen  \n",
              "0  2016-03-24 00:00:00                 0       70435  2016-04-07 03:16:57  \n",
              "1  2016-03-24 00:00:00                 0       66954  2016-04-07 01:46:50  \n",
              "2  2016-03-14 00:00:00                 0       90480  2016-04-05 12:47:46  \n",
              "3  2016-03-17 00:00:00                 0       91074  2016-03-17 17:40:17  \n",
              "4  2016-03-31 00:00:00                 0       60437  2016-04-06 10:17:21  \n",
              "5  2016-04-04 00:00:00                 0       33775  2016-04-06 19:17:07  \n",
              "6  2016-04-01 00:00:00                 0       67112  2016-04-05 18:18:39  \n",
              "7  2016-03-21 00:00:00                 0       19348  2016-03-25 16:47:58  \n",
              "8  2016-04-04 00:00:00                 0       94505  2016-04-04 23:42:13  \n",
              "9  2016-03-17 00:00:00                 0       27472  2016-03-31 17:17:06  "
            ]
          },
          "execution_count": 3,
          "metadata": {},
          "output_type": "execute_result"
        }
      ],
      "source": [
        "df.head(10)"
      ]
    },
    {
      "cell_type": "markdown",
      "metadata": {
        "id": "XGyI8xTdNSZK"
      },
      "source": [
        "**Признаки**\n",
        "\n",
        "    DateCrawled — дата скачивания анкеты из базы\n",
        "    VehicleType — тип автомобильного кузова\n",
        "    RegistrationYear — год регистрации автомобиля\n",
        "    Gearbox — тип коробки передач\n",
        "    Power — мощность (л. с.)\n",
        "    Model — модель автомобиля\n",
        "    Kilometer — пробег (км)\n",
        "    RegistrationMonth — месяц регистрации автомобиля\n",
        "    FuelType — тип топлива\n",
        "    Brand — марка автомобиля\n",
        "    NotRepaired — была машина в ремонте или нет\n",
        "    DateCreated — дата создания анкеты\n",
        "    NumberOfPictures — количество фотографий автомобиля\n",
        "    PostalCode — почтовый индекс владельца анкеты (пользователя)\n",
        "    LastSeen — дата последней активности пользователя\n",
        "\n",
        "**Целевой признак**  \n",
        "       \n",
        "   Price — цена (евро)"
      ]
    },
    {
      "cell_type": "code",
      "execution_count": null,
      "metadata": {
        "scrolled": true,
        "id": "YsCYUvMeNSZL",
        "outputId": "1600184e-d7e9-4205-ac0d-bd5fe4807b69"
      },
      "outputs": [
        {
          "name": "stdout",
          "output_type": "stream",
          "text": [
            "<class 'pandas.core.frame.DataFrame'>\n",
            "RangeIndex: 354369 entries, 0 to 354368\n",
            "Data columns (total 16 columns):\n",
            " #   Column             Non-Null Count   Dtype \n",
            "---  ------             --------------   ----- \n",
            " 0   DateCrawled        354369 non-null  object\n",
            " 1   Price              354369 non-null  int64 \n",
            " 2   VehicleType        316879 non-null  object\n",
            " 3   RegistrationYear   354369 non-null  int64 \n",
            " 4   Gearbox            334536 non-null  object\n",
            " 5   Power              354369 non-null  int64 \n",
            " 6   Model              334664 non-null  object\n",
            " 7   Kilometer          354369 non-null  int64 \n",
            " 8   RegistrationMonth  354369 non-null  int64 \n",
            " 9   FuelType           321474 non-null  object\n",
            " 10  Brand              354369 non-null  object\n",
            " 11  NotRepaired        283215 non-null  object\n",
            " 12  DateCreated        354369 non-null  object\n",
            " 13  NumberOfPictures   354369 non-null  int64 \n",
            " 14  PostalCode         354369 non-null  int64 \n",
            " 15  LastSeen           354369 non-null  object\n",
            "dtypes: int64(7), object(9)\n",
            "memory usage: 43.3+ MB\n"
          ]
        }
      ],
      "source": [
        "df.info()"
      ]
    },
    {
      "cell_type": "code",
      "execution_count": null,
      "metadata": {
        "id": "gFkzC5X_NSZM",
        "outputId": "4e9af620-ff9f-4383-9a1a-ae05845a7592"
      },
      "outputs": [
        {
          "data": {
            "text/html": [
              "<div>\n",
              "<style scoped>\n",
              "    .dataframe tbody tr th:only-of-type {\n",
              "        vertical-align: middle;\n",
              "    }\n",
              "\n",
              "    .dataframe tbody tr th {\n",
              "        vertical-align: top;\n",
              "    }\n",
              "\n",
              "    .dataframe thead th {\n",
              "        text-align: right;\n",
              "    }\n",
              "</style>\n",
              "<table border=\"1\" class=\"dataframe\">\n",
              "  <thead>\n",
              "    <tr style=\"text-align: right;\">\n",
              "      <th></th>\n",
              "      <th>Price</th>\n",
              "      <th>RegistrationYear</th>\n",
              "      <th>Power</th>\n",
              "      <th>Kilometer</th>\n",
              "      <th>RegistrationMonth</th>\n",
              "      <th>NumberOfPictures</th>\n",
              "      <th>PostalCode</th>\n",
              "    </tr>\n",
              "  </thead>\n",
              "  <tbody>\n",
              "    <tr>\n",
              "      <th>count</th>\n",
              "      <td>354369.000000</td>\n",
              "      <td>354369.000000</td>\n",
              "      <td>354369.000000</td>\n",
              "      <td>354369.000000</td>\n",
              "      <td>354369.000000</td>\n",
              "      <td>354369.0</td>\n",
              "      <td>354369.000000</td>\n",
              "    </tr>\n",
              "    <tr>\n",
              "      <th>mean</th>\n",
              "      <td>4416.656776</td>\n",
              "      <td>2004.234448</td>\n",
              "      <td>110.094337</td>\n",
              "      <td>128211.172535</td>\n",
              "      <td>5.714645</td>\n",
              "      <td>0.0</td>\n",
              "      <td>50508.689087</td>\n",
              "    </tr>\n",
              "    <tr>\n",
              "      <th>std</th>\n",
              "      <td>4514.158514</td>\n",
              "      <td>90.227958</td>\n",
              "      <td>189.850405</td>\n",
              "      <td>37905.341530</td>\n",
              "      <td>3.726421</td>\n",
              "      <td>0.0</td>\n",
              "      <td>25783.096248</td>\n",
              "    </tr>\n",
              "    <tr>\n",
              "      <th>min</th>\n",
              "      <td>0.000000</td>\n",
              "      <td>1000.000000</td>\n",
              "      <td>0.000000</td>\n",
              "      <td>5000.000000</td>\n",
              "      <td>0.000000</td>\n",
              "      <td>0.0</td>\n",
              "      <td>1067.000000</td>\n",
              "    </tr>\n",
              "    <tr>\n",
              "      <th>25%</th>\n",
              "      <td>1050.000000</td>\n",
              "      <td>1999.000000</td>\n",
              "      <td>69.000000</td>\n",
              "      <td>125000.000000</td>\n",
              "      <td>3.000000</td>\n",
              "      <td>0.0</td>\n",
              "      <td>30165.000000</td>\n",
              "    </tr>\n",
              "    <tr>\n",
              "      <th>50%</th>\n",
              "      <td>2700.000000</td>\n",
              "      <td>2003.000000</td>\n",
              "      <td>105.000000</td>\n",
              "      <td>150000.000000</td>\n",
              "      <td>6.000000</td>\n",
              "      <td>0.0</td>\n",
              "      <td>49413.000000</td>\n",
              "    </tr>\n",
              "    <tr>\n",
              "      <th>75%</th>\n",
              "      <td>6400.000000</td>\n",
              "      <td>2008.000000</td>\n",
              "      <td>143.000000</td>\n",
              "      <td>150000.000000</td>\n",
              "      <td>9.000000</td>\n",
              "      <td>0.0</td>\n",
              "      <td>71083.000000</td>\n",
              "    </tr>\n",
              "    <tr>\n",
              "      <th>max</th>\n",
              "      <td>20000.000000</td>\n",
              "      <td>9999.000000</td>\n",
              "      <td>20000.000000</td>\n",
              "      <td>150000.000000</td>\n",
              "      <td>12.000000</td>\n",
              "      <td>0.0</td>\n",
              "      <td>99998.000000</td>\n",
              "    </tr>\n",
              "  </tbody>\n",
              "</table>\n",
              "</div>"
            ],
            "text/plain": [
              "               Price  RegistrationYear          Power      Kilometer  \\\n",
              "count  354369.000000     354369.000000  354369.000000  354369.000000   \n",
              "mean     4416.656776       2004.234448     110.094337  128211.172535   \n",
              "std      4514.158514         90.227958     189.850405   37905.341530   \n",
              "min         0.000000       1000.000000       0.000000    5000.000000   \n",
              "25%      1050.000000       1999.000000      69.000000  125000.000000   \n",
              "50%      2700.000000       2003.000000     105.000000  150000.000000   \n",
              "75%      6400.000000       2008.000000     143.000000  150000.000000   \n",
              "max     20000.000000       9999.000000   20000.000000  150000.000000   \n",
              "\n",
              "       RegistrationMonth  NumberOfPictures     PostalCode  \n",
              "count      354369.000000          354369.0  354369.000000  \n",
              "mean            5.714645               0.0   50508.689087  \n",
              "std             3.726421               0.0   25783.096248  \n",
              "min             0.000000               0.0    1067.000000  \n",
              "25%             3.000000               0.0   30165.000000  \n",
              "50%             6.000000               0.0   49413.000000  \n",
              "75%             9.000000               0.0   71083.000000  \n",
              "max            12.000000               0.0   99998.000000  "
            ]
          },
          "execution_count": 5,
          "metadata": {},
          "output_type": "execute_result"
        }
      ],
      "source": [
        "df.describe()"
      ]
    },
    {
      "cell_type": "code",
      "execution_count": null,
      "metadata": {
        "id": "ydEZ8jEkNSZM",
        "outputId": "0082a16f-73f0-42be-837a-21c9d5dd0495"
      },
      "outputs": [
        {
          "data": {
            "text/html": [
              "<div>\n",
              "<style scoped>\n",
              "    .dataframe tbody tr th:only-of-type {\n",
              "        vertical-align: middle;\n",
              "    }\n",
              "\n",
              "    .dataframe tbody tr th {\n",
              "        vertical-align: top;\n",
              "    }\n",
              "\n",
              "    .dataframe thead th {\n",
              "        text-align: right;\n",
              "    }\n",
              "</style>\n",
              "<table border=\"1\" class=\"dataframe\">\n",
              "  <thead>\n",
              "    <tr style=\"text-align: right;\">\n",
              "      <th></th>\n",
              "      <th>DateCrawled</th>\n",
              "      <th>VehicleType</th>\n",
              "      <th>Gearbox</th>\n",
              "      <th>Model</th>\n",
              "      <th>FuelType</th>\n",
              "      <th>Brand</th>\n",
              "      <th>NotRepaired</th>\n",
              "      <th>DateCreated</th>\n",
              "      <th>LastSeen</th>\n",
              "    </tr>\n",
              "  </thead>\n",
              "  <tbody>\n",
              "    <tr>\n",
              "      <th>count</th>\n",
              "      <td>354369</td>\n",
              "      <td>316879</td>\n",
              "      <td>334536</td>\n",
              "      <td>334664</td>\n",
              "      <td>321474</td>\n",
              "      <td>354369</td>\n",
              "      <td>283215</td>\n",
              "      <td>354369</td>\n",
              "      <td>354369</td>\n",
              "    </tr>\n",
              "    <tr>\n",
              "      <th>unique</th>\n",
              "      <td>271174</td>\n",
              "      <td>8</td>\n",
              "      <td>2</td>\n",
              "      <td>250</td>\n",
              "      <td>7</td>\n",
              "      <td>40</td>\n",
              "      <td>2</td>\n",
              "      <td>109</td>\n",
              "      <td>179150</td>\n",
              "    </tr>\n",
              "    <tr>\n",
              "      <th>top</th>\n",
              "      <td>2016-03-24 14:49:47</td>\n",
              "      <td>sedan</td>\n",
              "      <td>manual</td>\n",
              "      <td>golf</td>\n",
              "      <td>petrol</td>\n",
              "      <td>volkswagen</td>\n",
              "      <td>no</td>\n",
              "      <td>2016-04-03 00:00:00</td>\n",
              "      <td>2016-04-06 13:45:54</td>\n",
              "    </tr>\n",
              "    <tr>\n",
              "      <th>freq</th>\n",
              "      <td>7</td>\n",
              "      <td>91457</td>\n",
              "      <td>268251</td>\n",
              "      <td>29232</td>\n",
              "      <td>216352</td>\n",
              "      <td>77013</td>\n",
              "      <td>247161</td>\n",
              "      <td>13719</td>\n",
              "      <td>17</td>\n",
              "    </tr>\n",
              "  </tbody>\n",
              "</table>\n",
              "</div>"
            ],
            "text/plain": [
              "                DateCrawled VehicleType Gearbox   Model FuelType       Brand  \\\n",
              "count                354369      316879  334536  334664   321474      354369   \n",
              "unique               271174           8       2     250        7          40   \n",
              "top     2016-03-24 14:49:47       sedan  manual    golf   petrol  volkswagen   \n",
              "freq                      7       91457  268251   29232   216352       77013   \n",
              "\n",
              "       NotRepaired          DateCreated             LastSeen  \n",
              "count       283215               354369               354369  \n",
              "unique           2                  109               179150  \n",
              "top             no  2016-04-03 00:00:00  2016-04-06 13:45:54  \n",
              "freq        247161                13719                   17  "
            ]
          },
          "execution_count": 6,
          "metadata": {},
          "output_type": "execute_result"
        }
      ],
      "source": [
        "df.describe(include='object')"
      ]
    },
    {
      "cell_type": "code",
      "execution_count": null,
      "metadata": {
        "id": "CuYt5RoLNSZM",
        "outputId": "04a84c0e-92ed-41a4-ecc9-1c364ede3122"
      },
      "outputs": [
        {
          "data": {
            "text/plain": [
              "'2016-04-07 14:36:58'"
            ]
          },
          "execution_count": 8,
          "metadata": {},
          "output_type": "execute_result"
        }
      ],
      "source": [
        "df['DateCrawled'].max()"
      ]
    },
    {
      "cell_type": "markdown",
      "metadata": {
        "id": "SX6bedS6NSZN"
      },
      "source": [
        "1. Есть пропуски в типах кузова, мощности, моделях автомобиля, типах коробки передач, типе топлива, наличии ремонта. Вероятно они появились потому, что продавцы не знали или забыли указать информацию.\n",
        "2. Есть неверные типы данных: даты в формате object.\n",
        "3. В данных точно есть аномалии, например, в годах регистрации автомобиля минимальный год 1000, а максимальный 9999, чего быть не модет.\n",
        "4. Ещё можно заметить, что количество фотографий автомобиля везде нулевое. Эти данные мы не сможем восстановить на основе имеющихся, поэтому этот столбец можно вообще удалить.\n",
        "5. Названия столбцов написаны неудобно, переименуем.\n",
        "6. Не все признаки годятся для предсказания стоимости автомобиля, от каких-то можем избавиться вместе со столбцом с фотографиями машин."
      ]
    },
    {
      "cell_type": "markdown",
      "metadata": {
        "id": "Ld7ED3npNSZN"
      },
      "source": [
        "Начнём с переименовывания и удаления признаков, возможно, что-то из описанных пунктов параллельно отпадёт"
      ]
    },
    {
      "cell_type": "code",
      "execution_count": null,
      "metadata": {
        "id": "eXKaXRGZNSZN",
        "outputId": "5e7521b0-0d48-411f-d91d-4864300d2396"
      },
      "outputs": [
        {
          "data": {
            "text/plain": [
              "Index(['DateCrawled', 'Price', 'VehicleType', 'RegistrationYear', 'Gearbox',\n",
              "       'Power', 'Model', 'Kilometer', 'RegistrationMonth', 'FuelType', 'Brand',\n",
              "       'NotRepaired', 'DateCreated', 'NumberOfPictures', 'PostalCode',\n",
              "       'LastSeen'],\n",
              "      dtype='object')"
            ]
          },
          "execution_count": 9,
          "metadata": {},
          "output_type": "execute_result"
        }
      ],
      "source": [
        "df.columns"
      ]
    },
    {
      "cell_type": "code",
      "execution_count": null,
      "metadata": {
        "scrolled": true,
        "id": "6eCoL8FNNSZO",
        "outputId": "7b558317-98c2-42b6-d69e-83edcc7a9154"
      },
      "outputs": [
        {
          "data": {
            "text/plain": [
              "Index(['date_crawled', 'price', 'vehicle_type', 'registration_year', 'gearbox',\n",
              "       'power', 'model', 'kilometer', 'registration_month', 'fuel_type',\n",
              "       'brand', 'not_repaired', 'date_created', 'number_of_pictures',\n",
              "       'postal_code', 'last_seen'],\n",
              "      dtype='object')"
            ]
          },
          "execution_count": 10,
          "metadata": {},
          "output_type": "execute_result"
        }
      ],
      "source": [
        "df.set_axis(['date_crawled', 'price', 'vehicle_type', 'registration_year', 'gearbox', 'power', 'model', 'kilometer', 'registration_month', 'fuel_type', 'brand', 'not_repaired', 'date_created', 'number_of_pictures', 'postal_code', 'last_seen'],\n",
        "            axis='columns' ,inplace=True)\n",
        "\n",
        "\n",
        "df.columns"
      ]
    },
    {
      "cell_type": "markdown",
      "metadata": {
        "id": "JykefHGONSZO"
      },
      "source": [
        "Кроме количества фотографий удалим ещё эти признаки, которые точно не влияют на цену:\n",
        "    \n",
        "1. Почтовый индекс владельца\n",
        "2. Дата скачивания анкеты из базы\n",
        "3. Дата создания анкеты\n",
        "4. Дата последней активности пользователя\n",
        "5. Месяц регистрации автомобиля я бы тоже удалила, т.к. обычно смотрят на год регистрации при купли-продаже"
      ]
    },
    {
      "cell_type": "code",
      "execution_count": null,
      "metadata": {
        "scrolled": true,
        "id": "53o0PpulNSZO",
        "outputId": "453e8c60-a1bd-4437-f305-33d67530124f"
      },
      "outputs": [
        {
          "name": "stdout",
          "output_type": "stream",
          "text": [
            "<class 'pandas.core.frame.DataFrame'>\n",
            "RangeIndex: 354369 entries, 0 to 354368\n",
            "Data columns (total 10 columns):\n",
            " #   Column             Non-Null Count   Dtype \n",
            "---  ------             --------------   ----- \n",
            " 0   price              354369 non-null  int64 \n",
            " 1   vehicle_type       316879 non-null  object\n",
            " 2   registration_year  354369 non-null  int64 \n",
            " 3   gearbox            334536 non-null  object\n",
            " 4   power              354369 non-null  int64 \n",
            " 5   model              334664 non-null  object\n",
            " 6   kilometer          354369 non-null  int64 \n",
            " 7   fuel_type          321474 non-null  object\n",
            " 8   brand              354369 non-null  object\n",
            " 9   not_repaired       283215 non-null  object\n",
            "dtypes: int64(4), object(6)\n",
            "memory usage: 27.0+ MB\n"
          ]
        }
      ],
      "source": [
        "df.drop(['date_crawled', 'registration_month', 'date_created', 'number_of_pictures', 'postal_code', 'last_seen'],\n",
        "        axis=1, inplace=True)\n",
        "\n",
        "df.info()"
      ]
    },
    {
      "cell_type": "markdown",
      "metadata": {
        "id": "2LblAf2UNSZP"
      },
      "source": [
        "Параллельно мы избавились от дат, которые были записаны как object.  \n",
        "Дальше займемся пропусками, они остались в признаках `vehicle_type`, `gearbox`, `model`, `fuel_type`, `not_repaired`\n",
        "  \n",
        "Посмотрим на процентное соотношение"
      ]
    },
    {
      "cell_type": "code",
      "execution_count": null,
      "metadata": {
        "id": "8YzKqDUxNSZP",
        "outputId": "89fedcee-45af-4c73-e475-eb0df0738d90"
      },
      "outputs": [
        {
          "data": {
            "text/plain": [
              "not_repaired         20.08\n",
              "vehicle_type         10.58\n",
              "fuel_type             9.28\n",
              "gearbox               5.60\n",
              "model                 5.56\n",
              "price                 0.00\n",
              "registration_year     0.00\n",
              "power                 0.00\n",
              "kilometer             0.00\n",
              "brand                 0.00\n",
              "dtype: float64"
            ]
          },
          "execution_count": 12,
          "metadata": {},
          "output_type": "execute_result"
        }
      ],
      "source": [
        "(df.isna().sum() / df.shape[0] * 100).round(2).sort_values(ascending=False)"
      ]
    },
    {
      "cell_type": "markdown",
      "metadata": {
        "id": "KjB964BmNSZP"
      },
      "source": [
        "От 5 до 20%. От пропусков в моделях мы избавимся, так как заполнить их грамотно на основании имеющихся данных не получится, а остальные заполним."
      ]
    },
    {
      "cell_type": "code",
      "execution_count": null,
      "metadata": {
        "id": "l6BHgY_UNSZQ",
        "outputId": "0b48a6f1-7b80-46d6-aabe-0b08ce759fa7"
      },
      "outputs": [
        {
          "name": "stdout",
          "output_type": "stream",
          "text": [
            "<class 'pandas.core.frame.DataFrame'>\n",
            "Int64Index: 334664 entries, 0 to 354368\n",
            "Data columns (total 10 columns):\n",
            " #   Column             Non-Null Count   Dtype \n",
            "---  ------             --------------   ----- \n",
            " 0   price              334664 non-null  int64 \n",
            " 1   vehicle_type       304002 non-null  object\n",
            " 2   registration_year  334664 non-null  int64 \n",
            " 3   gearbox            318962 non-null  object\n",
            " 4   power              334664 non-null  int64 \n",
            " 5   model              334664 non-null  object\n",
            " 6   kilometer          334664 non-null  int64 \n",
            " 7   fuel_type          308932 non-null  object\n",
            " 8   brand              334664 non-null  object\n",
            " 9   not_repaired       272564 non-null  object\n",
            "dtypes: int64(4), object(6)\n",
            "memory usage: 28.1+ MB\n"
          ]
        }
      ],
      "source": [
        "df.dropna(subset=['model'], inplace=True)\n",
        "df.info()"
      ]
    },
    {
      "cell_type": "markdown",
      "metadata": {
        "id": "mkR0DtzKNSZQ"
      },
      "source": [
        "Заполнять пропуски в признаках `fuel_type`, `power`, `vehicle_type` будем опираясь на бренд и модель машины. Если соответствий не найдётся, то пропуски заменятся на `other`"
      ]
    },
    {
      "cell_type": "code",
      "execution_count": null,
      "metadata": {
        "id": "qHIoGHfWNSZQ",
        "outputId": "f969d2eb-d79a-4864-ed79-2c551dfdf5f4"
      },
      "outputs": [
        {
          "data": {
            "text/plain": [
              "sedan          100773\n",
              "small           85609\n",
              "wagon           66537\n",
              "bus             31553\n",
              "convertible     19591\n",
              "coupe           15865\n",
              "suv             11907\n",
              "other            2829\n",
              "Name: vehicle_type, dtype: int64"
            ]
          },
          "execution_count": 14,
          "metadata": {},
          "output_type": "execute_result"
        }
      ],
      "source": [
        "df['vehicle_type'] = (df.groupby(['brand','model'])['vehicle_type'].transform(lambda x: x.fillna((x.mode()[0] if not x.mode().empty else \"other\"))))\n",
        "\n",
        "df['vehicle_type'].value_counts()"
      ]
    },
    {
      "cell_type": "code",
      "execution_count": null,
      "metadata": {
        "id": "Ur8_WA8iNSZQ",
        "outputId": "d2448cc0-1631-4c67-d831-0f064a0a54b8"
      },
      "outputs": [
        {
          "data": {
            "text/plain": [
              "petrol      227995\n",
              "gasoline    100756\n",
              "lpg           4962\n",
              "cng            544\n",
              "hybrid         208\n",
              "other          133\n",
              "electric        66\n",
              "Name: fuel_type, dtype: int64"
            ]
          },
          "execution_count": 15,
          "metadata": {},
          "output_type": "execute_result"
        }
      ],
      "source": [
        "df['fuel_type'] = (df.groupby(['brand','model'])['fuel_type'].transform(lambda x: x.fillna((x.mode()[0] if not x.mode().empty else \"other\"))))\n",
        "\n",
        "df['fuel_type'].value_counts()"
      ]
    },
    {
      "cell_type": "markdown",
      "metadata": {
        "id": "1m2tNw2DNSZR"
      },
      "source": [
        "Удивилась, увидев слово газолин, потому что на работе в керше читала, что смесь бензина и газолина — это чуть ли не мошенничество, которое удешевляет топливо и убивает двигатели современных автомобилей, потому что не всякий движок справляется с газолином в принципе.  \n",
        "  \n",
        "Загуглила в чём разница понятий petrol и gasoline в английском языке и оказалось, что дело только в диалектах, одно слово используют британцы, другое американцы. И это, и то бензин. [Пруф](https://www.quora.com/What-is-the-difference-between-gasoline-and-petrol)\n",
        "  \n",
        "Так что будем считать это неявным дубликатом (в признаке изначально были пропуски, поэтому буду считать, что это поле заполнялось вручную продавцами) и дальше при обработке дублей поменяем на `petrol`"
      ]
    },
    {
      "cell_type": "code",
      "execution_count": null,
      "metadata": {
        "id": "5YlDTOKwNSZR",
        "outputId": "ca26e77f-9e5d-432f-ef39-1c907d7f9e36"
      },
      "outputs": [
        {
          "data": {
            "text/plain": [
              "manual    269676\n",
              "auto       64988\n",
              "Name: gearbox, dtype: int64"
            ]
          },
          "execution_count": 16,
          "metadata": {},
          "output_type": "execute_result"
        }
      ],
      "source": [
        "df['gearbox'] = (df.groupby(['brand','model'])['gearbox'].transform(lambda x: x.fillna((x.mode()[0] if not x.mode().empty else \"other\"))))\n",
        "\n",
        "df['gearbox'].value_counts()"
      ]
    },
    {
      "cell_type": "code",
      "execution_count": null,
      "metadata": {
        "id": "IL601q_9NSZR",
        "outputId": "dacdc5f3-7d71-4633-9c06-5e52267c7347"
      },
      "outputs": [
        {
          "data": {
            "text/plain": [
              "price                    0\n",
              "vehicle_type             0\n",
              "registration_year        0\n",
              "gearbox                  0\n",
              "power                    0\n",
              "model                    0\n",
              "kilometer                0\n",
              "fuel_type                0\n",
              "brand                    0\n",
              "not_repaired         62100\n",
              "dtype: int64"
            ]
          },
          "execution_count": 17,
          "metadata": {},
          "output_type": "execute_result"
        }
      ],
      "source": [
        "df.isna().sum()"
      ]
    },
    {
      "cell_type": "markdown",
      "metadata": {
        "id": "_bOi1EdMNSZR"
      },
      "source": [
        "Пропуски в последнем признаке заполню просто на `unknown`"
      ]
    },
    {
      "cell_type": "code",
      "execution_count": null,
      "metadata": {
        "id": "2lGWmXdQNSZR",
        "outputId": "88741787-7433-4425-9362-b0064f752f68"
      },
      "outputs": [
        {
          "data": {
            "text/plain": [
              "no         238855\n",
              "unknown     62100\n",
              "yes         33709\n",
              "Name: not_repaired, dtype: int64"
            ]
          },
          "execution_count": 18,
          "metadata": {},
          "output_type": "execute_result"
        }
      ],
      "source": [
        "df['not_repaired'].fillna('unknown', inplace=True)\n",
        "\n",
        "df['not_repaired'].value_counts()"
      ]
    },
    {
      "cell_type": "code",
      "execution_count": null,
      "metadata": {
        "scrolled": true,
        "id": "xZbWLqa_NSZR",
        "outputId": "9138b932-5cd4-4e40-98de-d5763db41281"
      },
      "outputs": [
        {
          "data": {
            "text/plain": [
              "price                0\n",
              "vehicle_type         0\n",
              "registration_year    0\n",
              "gearbox              0\n",
              "power                0\n",
              "model                0\n",
              "kilometer            0\n",
              "fuel_type            0\n",
              "brand                0\n",
              "not_repaired         0\n",
              "dtype: int64"
            ]
          },
          "execution_count": 19,
          "metadata": {},
          "output_type": "execute_result"
        }
      ],
      "source": [
        "df.isna().sum()"
      ]
    },
    {
      "cell_type": "markdown",
      "metadata": {
        "id": "Q-eFbTiiNSZS"
      },
      "source": [
        "Теперь перейдём к дубликатам. Один неявный дубликат мы уже нашли, поменяем `gazoline` сразу на `petrol`"
      ]
    },
    {
      "cell_type": "code",
      "execution_count": null,
      "metadata": {
        "id": "gMEXGy-wNSZS",
        "outputId": "a7ac0b4b-3f6e-4620-c5f9-076c1fc1b520"
      },
      "outputs": [
        {
          "data": {
            "text/plain": [
              "petrol      227995\n",
              "gasoline    100756\n",
              "lpg           4962\n",
              "cng            544\n",
              "hybrid         208\n",
              "other          133\n",
              "electric        66\n",
              "Name: fuel_type, dtype: int64"
            ]
          },
          "execution_count": 20,
          "metadata": {},
          "output_type": "execute_result"
        }
      ],
      "source": [
        "df.loc[df['fuel_type'] == 'gazoline', 'fuel_type'] = 'petrol'\n",
        "\n",
        "df['fuel_type'].value_counts()"
      ]
    },
    {
      "cell_type": "code",
      "execution_count": null,
      "metadata": {
        "id": "3n-VKVshNSZS",
        "outputId": "c35d5992-d0b0-4ffe-94b0-a0f6ad48a02d"
      },
      "outputs": [
        {
          "data": {
            "text/plain": [
              "47470"
            ]
          },
          "execution_count": 21,
          "metadata": {},
          "output_type": "execute_result"
        }
      ],
      "source": [
        "df.duplicated().sum()"
      ]
    },
    {
      "cell_type": "code",
      "execution_count": null,
      "metadata": {
        "scrolled": true,
        "id": "S6Q2mrFiNSZS",
        "outputId": "d2e21b1b-e2de-4793-c732-8bd6d1c35c39"
      },
      "outputs": [
        {
          "data": {
            "text/plain": [
              "0"
            ]
          },
          "execution_count": 22,
          "metadata": {},
          "output_type": "execute_result"
        }
      ],
      "source": [
        "df = df.drop_duplicates().reset_index(drop = True)\n",
        "df.duplicated().sum()"
      ]
    },
    {
      "cell_type": "markdown",
      "metadata": {
        "id": "JjkYxwLrNSZU"
      },
      "source": [
        "Теперь избавимся от аномальных значений"
      ]
    },
    {
      "cell_type": "code",
      "execution_count": null,
      "metadata": {
        "id": "oApMISsrNSZU"
      },
      "outputs": [],
      "source": [
        "#функция для отрисовки гистограмм, лимиты и корзины буду подбирать вручную к каждой\n",
        "\n",
        "def histogram(df, column, title,\n",
        "                       figsize=(15,10),\n",
        "                       xlabel='', ylabel='', kde=False,\n",
        "                       bins=None, xticks=0, xlim=None, ylim=None):\n",
        "        plt.figure(figsize=figsize)\n",
        "\n",
        "        ax = sns.distplot(df[column], kde=kde, bins=bins)\n",
        "\n",
        "        if (xlim != None):\n",
        "            plt.xlim(xlim)\n",
        "        if (ylim != None):\n",
        "            plt.ylim(ylim)\n",
        "\n",
        "        ax.set(xlabel=xlabel, ylabel=ylabel, title=title)\n",
        "\n",
        "        if xticks != 0:\n",
        "            ax.set(xticks=xticks)\n"
      ]
    },
    {
      "cell_type": "code",
      "execution_count": null,
      "metadata": {
        "scrolled": true,
        "id": "lRCChAxNNSZU",
        "outputId": "02d3c305-c031-4c76-91c1-4065e497761a"
      },
      "outputs": [
        {
          "data": {
            "text/html": [
              "<div>\n",
              "<style scoped>\n",
              "    .dataframe tbody tr th:only-of-type {\n",
              "        vertical-align: middle;\n",
              "    }\n",
              "\n",
              "    .dataframe tbody tr th {\n",
              "        vertical-align: top;\n",
              "    }\n",
              "\n",
              "    .dataframe thead th {\n",
              "        text-align: right;\n",
              "    }\n",
              "</style>\n",
              "<table border=\"1\" class=\"dataframe\">\n",
              "  <thead>\n",
              "    <tr style=\"text-align: right;\">\n",
              "      <th></th>\n",
              "      <th>price</th>\n",
              "      <th>registration_year</th>\n",
              "      <th>power</th>\n",
              "      <th>kilometer</th>\n",
              "    </tr>\n",
              "  </thead>\n",
              "  <tbody>\n",
              "    <tr>\n",
              "      <th>count</th>\n",
              "      <td>287194.000000</td>\n",
              "      <td>287194.000000</td>\n",
              "      <td>287194.000000</td>\n",
              "      <td>287194.000000</td>\n",
              "    </tr>\n",
              "    <tr>\n",
              "      <th>mean</th>\n",
              "      <td>4614.935643</td>\n",
              "      <td>2004.086238</td>\n",
              "      <td>112.858764</td>\n",
              "      <td>127305.793297</td>\n",
              "    </tr>\n",
              "    <tr>\n",
              "      <th>std</th>\n",
              "      <td>4593.288899</td>\n",
              "      <td>74.191536</td>\n",
              "      <td>197.372862</td>\n",
              "      <td>38018.499861</td>\n",
              "    </tr>\n",
              "    <tr>\n",
              "      <th>min</th>\n",
              "      <td>0.000000</td>\n",
              "      <td>1000.000000</td>\n",
              "      <td>0.000000</td>\n",
              "      <td>5000.000000</td>\n",
              "    </tr>\n",
              "    <tr>\n",
              "      <th>25%</th>\n",
              "      <td>1199.000000</td>\n",
              "      <td>1999.000000</td>\n",
              "      <td>72.000000</td>\n",
              "      <td>125000.000000</td>\n",
              "    </tr>\n",
              "    <tr>\n",
              "      <th>50%</th>\n",
              "      <td>2950.000000</td>\n",
              "      <td>2003.000000</td>\n",
              "      <td>105.000000</td>\n",
              "      <td>150000.000000</td>\n",
              "    </tr>\n",
              "    <tr>\n",
              "      <th>75%</th>\n",
              "      <td>6700.000000</td>\n",
              "      <td>2008.000000</td>\n",
              "      <td>143.000000</td>\n",
              "      <td>150000.000000</td>\n",
              "    </tr>\n",
              "    <tr>\n",
              "      <th>max</th>\n",
              "      <td>20000.000000</td>\n",
              "      <td>9999.000000</td>\n",
              "      <td>20000.000000</td>\n",
              "      <td>150000.000000</td>\n",
              "    </tr>\n",
              "  </tbody>\n",
              "</table>\n",
              "</div>"
            ],
            "text/plain": [
              "               price  registration_year          power      kilometer\n",
              "count  287194.000000      287194.000000  287194.000000  287194.000000\n",
              "mean     4614.935643        2004.086238     112.858764  127305.793297\n",
              "std      4593.288899          74.191536     197.372862   38018.499861\n",
              "min         0.000000        1000.000000       0.000000    5000.000000\n",
              "25%      1199.000000        1999.000000      72.000000  125000.000000\n",
              "50%      2950.000000        2003.000000     105.000000  150000.000000\n",
              "75%      6700.000000        2008.000000     143.000000  150000.000000\n",
              "max     20000.000000        9999.000000   20000.000000  150000.000000"
            ]
          },
          "execution_count": 24,
          "metadata": {},
          "output_type": "execute_result"
        }
      ],
      "source": [
        "df.describe()"
      ]
    },
    {
      "cell_type": "markdown",
      "metadata": {
        "id": "Z2lUkdG9NSZU"
      },
      "source": [
        "**Год регистрации**"
      ]
    },
    {
      "cell_type": "code",
      "execution_count": null,
      "metadata": {
        "scrolled": true,
        "id": "eZi8v4GgNSZU",
        "outputId": "66155990-4dbb-4b85-e1fc-343e6ea361f4"
      },
      "outputs": [
        {
          "data": {
            "image/png": "[encoded data removed]",
            "text/plain": [
              "<Figure size 1080x720 with 1 Axes>"
            ]
          },
          "metadata": {
            "needs_background": "light"
          },
          "output_type": "display_data"
        }
      ],
      "source": [
        "histogram(df, 'registration_year', 'Год регистрации', xlabel='Год', ylabel='Количество записей', xlim=(1950, 2050), bins=750)"
      ]
    },
    {
      "cell_type": "markdown",
      "metadata": {
        "id": "J6-h5RFMNSZV"
      },
      "source": [
        "Отсечём значения раньше 1960 года и позже 2016 года, так как данные из базы были выгружены в 2016 году"
      ]
    },
    {
      "cell_type": "code",
      "execution_count": null,
      "metadata": {
        "id": "TIKicr8ENSZV",
        "outputId": "e29ad9b3-5f1f-476d-8c86-0fe6bc794e7d"
      },
      "outputs": [
        {
          "data": {
            "text/plain": [
              "(275636, 10)"
            ]
          },
          "execution_count": 26,
          "metadata": {},
          "output_type": "execute_result"
        }
      ],
      "source": [
        "df = df.query('registration_year >= 1960 and registration_year <= 2016')\n",
        "\n",
        "df.shape"
      ]
    },
    {
      "cell_type": "markdown",
      "metadata": {
        "id": "g8cS6Gm_NSZW"
      },
      "source": [
        "**Цена**"
      ]
    },
    {
      "cell_type": "code",
      "execution_count": null,
      "metadata": {
        "scrolled": false,
        "id": "MZ-7mHJzNSZW",
        "outputId": "75600279-b657-47e5-e530-727f62aa3c2b"
      },
      "outputs": [
        {
          "data": {
            "image/png": "[encoded data removed]",
            "text/plain": [
              "<Figure size 1080x720 with 1 Axes>"
            ]
          },
          "metadata": {
            "needs_background": "light"
          },
          "output_type": "display_data"
        }
      ],
      "source": [
        "histogram(df, 'price', 'Цена', xlabel='Цена', ylabel='Количество записей', xlim=(-10, 2010), bins=1000)"
      ]
    },
    {
      "cell_type": "markdown",
      "metadata": {
        "id": "GwIybfs7NSZW"
      },
      "source": [
        "На гистограмме очень большое количество нулевых значений, я бы их не удаляла, а заменила бы медианными значениями по модели автомобиля."
      ]
    },
    {
      "cell_type": "code",
      "execution_count": null,
      "metadata": {
        "id": "UPKIgkatNSZW",
        "outputId": "35032e24-f510-4405-87c8-5749f3cedecf"
      },
      "outputs": [
        {
          "data": {
            "text/html": [
              "<div>\n",
              "<style scoped>\n",
              "    .dataframe tbody tr th:only-of-type {\n",
              "        vertical-align: middle;\n",
              "    }\n",
              "\n",
              "    .dataframe tbody tr th {\n",
              "        vertical-align: top;\n",
              "    }\n",
              "\n",
              "    .dataframe thead th {\n",
              "        text-align: right;\n",
              "    }\n",
              "</style>\n",
              "<table border=\"1\" class=\"dataframe\">\n",
              "  <thead>\n",
              "    <tr style=\"text-align: right;\">\n",
              "      <th></th>\n",
              "      <th>median</th>\n",
              "      <th>count</th>\n",
              "    </tr>\n",
              "    <tr>\n",
              "      <th>model</th>\n",
              "      <th></th>\n",
              "      <th></th>\n",
              "    </tr>\n",
              "  </thead>\n",
              "  <tbody>\n",
              "    <tr>\n",
              "      <th>100</th>\n",
              "      <td>1100.0</td>\n",
              "      <td>372</td>\n",
              "    </tr>\n",
              "    <tr>\n",
              "      <th>145</th>\n",
              "      <td>500.0</td>\n",
              "      <td>44</td>\n",
              "    </tr>\n",
              "    <tr>\n",
              "      <th>147</th>\n",
              "      <td>1950.0</td>\n",
              "      <td>491</td>\n",
              "    </tr>\n",
              "    <tr>\n",
              "      <th>156</th>\n",
              "      <td>1200.0</td>\n",
              "      <td>555</td>\n",
              "    </tr>\n",
              "    <tr>\n",
              "      <th>159</th>\n",
              "      <td>6499.5</td>\n",
              "      <td>192</td>\n",
              "    </tr>\n",
              "    <tr>\n",
              "      <th>...</th>\n",
              "      <td>...</td>\n",
              "      <td>...</td>\n",
              "    </tr>\n",
              "    <tr>\n",
              "      <th>yaris</th>\n",
              "      <td>3300.0</td>\n",
              "      <td>889</td>\n",
              "    </tr>\n",
              "    <tr>\n",
              "      <th>yeti</th>\n",
              "      <td>12945.0</td>\n",
              "      <td>156</td>\n",
              "    </tr>\n",
              "    <tr>\n",
              "      <th>ypsilon</th>\n",
              "      <td>925.0</td>\n",
              "      <td>178</td>\n",
              "    </tr>\n",
              "    <tr>\n",
              "      <th>z_reihe</th>\n",
              "      <td>9870.0</td>\n",
              "      <td>655</td>\n",
              "    </tr>\n",
              "    <tr>\n",
              "      <th>zafira</th>\n",
              "      <td>2999.0</td>\n",
              "      <td>2383</td>\n",
              "    </tr>\n",
              "  </tbody>\n",
              "</table>\n",
              "<p>250 rows × 2 columns</p>\n",
              "</div>"
            ],
            "text/plain": [
              "          median  count\n",
              "model                  \n",
              "100       1100.0    372\n",
              "145        500.0     44\n",
              "147       1950.0    491\n",
              "156       1200.0    555\n",
              "159       6499.5    192\n",
              "...          ...    ...\n",
              "yaris     3300.0    889\n",
              "yeti     12945.0    156\n",
              "ypsilon    925.0    178\n",
              "z_reihe   9870.0    655\n",
              "zafira    2999.0   2383\n",
              "\n",
              "[250 rows x 2 columns]"
            ]
          },
          "execution_count": 28,
          "metadata": {},
          "output_type": "execute_result"
        }
      ],
      "source": [
        "price_meds = df.pivot_table(index='model', values='price', aggfunc=['median', 'count'])\n",
        "price_meds.columns = ['median', 'count']\n",
        "price_meds"
      ]
    },
    {
      "cell_type": "code",
      "execution_count": null,
      "metadata": {
        "id": "aLP5USVrNSZW"
      },
      "outputs": [],
      "source": [
        "for model in price_meds.index:\n",
        "    df.loc[(df['price'] == 0) & (df['model'] == model), 'price'] = price_meds.loc[model, 'median']"
      ]
    },
    {
      "cell_type": "code",
      "execution_count": null,
      "metadata": {
        "scrolled": false,
        "id": "8ieed6FQNSZW",
        "outputId": "185bcb82-711a-47de-ce10-f392707fbd20"
      },
      "outputs": [
        {
          "data": {
            "text/plain": [
              "count    275636.000000\n",
              "mean       4739.235735\n",
              "std        4587.446724\n",
              "min           1.000000\n",
              "5%          380.000000\n",
              "10%         600.000000\n",
              "15%         800.000000\n",
              "25%        1290.000000\n",
              "50%        3000.000000\n",
              "75%        6850.000000\n",
              "95%       14999.000000\n",
              "max       20000.000000\n",
              "Name: price, dtype: float64"
            ]
          },
          "execution_count": 33,
          "metadata": {},
          "output_type": "execute_result"
        }
      ],
      "source": [
        "df['price'].describe(percentiles=[.05, .1, .15, .25, .5, .75, .95])"
      ]
    },
    {
      "cell_type": "markdown",
      "metadata": {
        "id": "orZAdennNSZW"
      },
      "source": [
        "Для профилактики слишком маленьких значений ограничим распределение 5 перцентилем"
      ]
    },
    {
      "cell_type": "code",
      "execution_count": null,
      "metadata": {
        "id": "m7_KXZnxNSZX"
      },
      "outputs": [],
      "source": [
        "df = df.query('price >= 380')"
      ]
    },
    {
      "cell_type": "code",
      "execution_count": null,
      "metadata": {
        "scrolled": true,
        "id": "aTVaccFkNSZX",
        "outputId": "9de33164-973f-4643-d835-299f63ce0e13"
      },
      "outputs": [
        {
          "data": {
            "text/plain": [
              "(261913, 10)"
            ]
          },
          "execution_count": 36,
          "metadata": {},
          "output_type": "execute_result"
        }
      ],
      "source": [
        "df.shape"
      ]
    },
    {
      "cell_type": "markdown",
      "metadata": {
        "id": "zD4fFbO0NSZX"
      },
      "source": [
        "**Мощность**"
      ]
    },
    {
      "cell_type": "code",
      "execution_count": null,
      "metadata": {
        "id": "wf_mBY6LNSZY",
        "outputId": "f33bb1b2-f584-4c76-e791-939d057bd2c4"
      },
      "outputs": [
        {
          "data": {
            "image/png": "[encoded data removed]",
            "text/plain": [
              "<Figure size 1080x720 with 1 Axes>"
            ]
          },
          "metadata": {
            "needs_background": "light"
          },
          "output_type": "display_data"
        }
      ],
      "source": [
        "histogram(df, 'power', 'Мощность', xlabel='Цена', ylabel='Количество записей', xlim=(-10, 700), bins=500)"
      ]
    },
    {
      "cell_type": "markdown",
      "metadata": {
        "id": "dmd0rlJtNSZY"
      },
      "source": [
        "Здесь тоже есть как нулевые, так и слишком большие значения. За верхнюю границу возьмём 1000 л.с., т.к. автомобили мощностью выше это уже редкость: или это спорткары или какие-нибудь самосвалы"
      ]
    },
    {
      "cell_type": "code",
      "execution_count": null,
      "metadata": {
        "id": "bBCVvhy_NSZY",
        "outputId": "45f638f8-d8ee-45fe-f61f-577f88da8042"
      },
      "outputs": [
        {
          "data": {
            "text/plain": [
              "(239227, 10)"
            ]
          },
          "execution_count": 39,
          "metadata": {},
          "output_type": "execute_result"
        }
      ],
      "source": [
        "df = df.query('power > 0 and power <= 1000')\n",
        "\n",
        "df.shape"
      ]
    },
    {
      "cell_type": "code",
      "execution_count": null,
      "metadata": {
        "scrolled": false,
        "id": "SKWQaxCcNSZY",
        "outputId": "1f2711d2-d457-4da5-ef5b-bede03e553d3"
      },
      "outputs": [
        {
          "data": {
            "text/plain": [
              "count    239227.000000\n",
              "mean        123.587985\n",
              "std          54.654369\n",
              "min           1.000000\n",
              "5%           58.000000\n",
              "10%          60.000000\n",
              "15%          72.000000\n",
              "25%          84.000000\n",
              "50%         116.000000\n",
              "75%         150.000000\n",
              "95%         224.000000\n",
              "max        1000.000000\n",
              "Name: power, dtype: float64"
            ]
          },
          "execution_count": 40,
          "metadata": {},
          "output_type": "execute_result"
        }
      ],
      "source": [
        "df['power'].describe(percentiles=[.05, .1, .15, .25, .5, .75, .95])"
      ]
    },
    {
      "cell_type": "markdown",
      "metadata": {
        "id": "CJ3PCWHeNSZY"
      },
      "source": [
        "Уберём значения, которые меньше 58"
      ]
    },
    {
      "cell_type": "code",
      "execution_count": null,
      "metadata": {
        "id": "G3R9g19zNSZZ",
        "outputId": "c0084715-f1c8-4ab5-a3df-1560eb11effd"
      },
      "outputs": [
        {
          "data": {
            "text/plain": [
              "(227478, 10)"
            ]
          },
          "execution_count": 41,
          "metadata": {},
          "output_type": "execute_result"
        }
      ],
      "source": [
        "df = df.query('power >= 58')\n",
        "\n",
        "df.shape"
      ]
    },
    {
      "cell_type": "markdown",
      "metadata": {
        "id": "mV-5_mNtNSZZ"
      },
      "source": [
        "## Обучение моделей"
      ]
    },
    {
      "cell_type": "markdown",
      "metadata": {
        "id": "9ARVF-iuNSZZ"
      },
      "source": [
        "Для кодирования категориальных признаков воспользуемся техникой прямого кодирования (OHE), чтобы преобразовать категориальные признаки в численные. Также проставим аргумент drop_first = True, чтобы один из столбцов фиктивных переменных для каждого признака был сброшен(это нужно чтобы не угодить в так называемую дамми-ловушку, когда фиктивных признаков слишком много)."
      ]
    },
    {
      "cell_type": "code",
      "execution_count": null,
      "metadata": {
        "scrolled": true,
        "id": "LwbMhL0QNSZa",
        "outputId": "25ef9b6e-fb0b-4245-b5e4-80c2806b5508"
      },
      "outputs": [
        {
          "name": "stdout",
          "output_type": "stream",
          "text": [
            "<class 'pandas.core.frame.DataFrame'>\n",
            "Int64Index: 227478 entries, 1 to 287193\n",
            "Columns: 305 entries, price to not_repaired_yes\n",
            "dtypes: float64(1), int64(3), uint8(301)\n",
            "memory usage: 74.0 MB\n"
          ]
        },
        {
          "data": {
            "text/html": [
              "<div>\n",
              "<style scoped>\n",
              "    .dataframe tbody tr th:only-of-type {\n",
              "        vertical-align: middle;\n",
              "    }\n",
              "\n",
              "    .dataframe tbody tr th {\n",
              "        vertical-align: top;\n",
              "    }\n",
              "\n",
              "    .dataframe thead th {\n",
              "        text-align: right;\n",
              "    }\n",
              "</style>\n",
              "<table border=\"1\" class=\"dataframe\">\n",
              "  <thead>\n",
              "    <tr style=\"text-align: right;\">\n",
              "      <th></th>\n",
              "      <th>price</th>\n",
              "      <th>registration_year</th>\n",
              "      <th>power</th>\n",
              "      <th>kilometer</th>\n",
              "      <th>vehicle_type_convertible</th>\n",
              "      <th>vehicle_type_coupe</th>\n",
              "      <th>vehicle_type_other</th>\n",
              "      <th>vehicle_type_sedan</th>\n",
              "      <th>vehicle_type_small</th>\n",
              "      <th>vehicle_type_suv</th>\n",
              "      <th>...</th>\n",
              "      <th>brand_skoda</th>\n",
              "      <th>brand_smart</th>\n",
              "      <th>brand_subaru</th>\n",
              "      <th>brand_suzuki</th>\n",
              "      <th>brand_toyota</th>\n",
              "      <th>brand_trabant</th>\n",
              "      <th>brand_volkswagen</th>\n",
              "      <th>brand_volvo</th>\n",
              "      <th>not_repaired_unknown</th>\n",
              "      <th>not_repaired_yes</th>\n",
              "    </tr>\n",
              "  </thead>\n",
              "  <tbody>\n",
              "    <tr>\n",
              "      <th>1</th>\n",
              "      <td>9800.0</td>\n",
              "      <td>2004</td>\n",
              "      <td>163</td>\n",
              "      <td>125000</td>\n",
              "      <td>0</td>\n",
              "      <td>0</td>\n",
              "      <td>0</td>\n",
              "      <td>0</td>\n",
              "      <td>0</td>\n",
              "      <td>1</td>\n",
              "      <td>...</td>\n",
              "      <td>0</td>\n",
              "      <td>0</td>\n",
              "      <td>0</td>\n",
              "      <td>0</td>\n",
              "      <td>0</td>\n",
              "      <td>0</td>\n",
              "      <td>0</td>\n",
              "      <td>0</td>\n",
              "      <td>1</td>\n",
              "      <td>0</td>\n",
              "    </tr>\n",
              "    <tr>\n",
              "      <th>2</th>\n",
              "      <td>1500.0</td>\n",
              "      <td>2001</td>\n",
              "      <td>75</td>\n",
              "      <td>150000</td>\n",
              "      <td>0</td>\n",
              "      <td>0</td>\n",
              "      <td>0</td>\n",
              "      <td>0</td>\n",
              "      <td>1</td>\n",
              "      <td>0</td>\n",
              "      <td>...</td>\n",
              "      <td>0</td>\n",
              "      <td>0</td>\n",
              "      <td>0</td>\n",
              "      <td>0</td>\n",
              "      <td>0</td>\n",
              "      <td>0</td>\n",
              "      <td>1</td>\n",
              "      <td>0</td>\n",
              "      <td>0</td>\n",
              "      <td>0</td>\n",
              "    </tr>\n",
              "    <tr>\n",
              "      <th>3</th>\n",
              "      <td>3600.0</td>\n",
              "      <td>2008</td>\n",
              "      <td>69</td>\n",
              "      <td>90000</td>\n",
              "      <td>0</td>\n",
              "      <td>0</td>\n",
              "      <td>0</td>\n",
              "      <td>0</td>\n",
              "      <td>1</td>\n",
              "      <td>0</td>\n",
              "      <td>...</td>\n",
              "      <td>1</td>\n",
              "      <td>0</td>\n",
              "      <td>0</td>\n",
              "      <td>0</td>\n",
              "      <td>0</td>\n",
              "      <td>0</td>\n",
              "      <td>0</td>\n",
              "      <td>0</td>\n",
              "      <td>0</td>\n",
              "      <td>0</td>\n",
              "    </tr>\n",
              "    <tr>\n",
              "      <th>4</th>\n",
              "      <td>650.0</td>\n",
              "      <td>1995</td>\n",
              "      <td>102</td>\n",
              "      <td>150000</td>\n",
              "      <td>0</td>\n",
              "      <td>0</td>\n",
              "      <td>0</td>\n",
              "      <td>1</td>\n",
              "      <td>0</td>\n",
              "      <td>0</td>\n",
              "      <td>...</td>\n",
              "      <td>0</td>\n",
              "      <td>0</td>\n",
              "      <td>0</td>\n",
              "      <td>0</td>\n",
              "      <td>0</td>\n",
              "      <td>0</td>\n",
              "      <td>0</td>\n",
              "      <td>0</td>\n",
              "      <td>0</td>\n",
              "      <td>1</td>\n",
              "    </tr>\n",
              "    <tr>\n",
              "      <th>5</th>\n",
              "      <td>2200.0</td>\n",
              "      <td>2004</td>\n",
              "      <td>109</td>\n",
              "      <td>150000</td>\n",
              "      <td>1</td>\n",
              "      <td>0</td>\n",
              "      <td>0</td>\n",
              "      <td>0</td>\n",
              "      <td>0</td>\n",
              "      <td>0</td>\n",
              "      <td>...</td>\n",
              "      <td>0</td>\n",
              "      <td>0</td>\n",
              "      <td>0</td>\n",
              "      <td>0</td>\n",
              "      <td>0</td>\n",
              "      <td>0</td>\n",
              "      <td>0</td>\n",
              "      <td>0</td>\n",
              "      <td>0</td>\n",
              "      <td>0</td>\n",
              "    </tr>\n",
              "    <tr>\n",
              "      <th>7</th>\n",
              "      <td>14500.0</td>\n",
              "      <td>2014</td>\n",
              "      <td>125</td>\n",
              "      <td>30000</td>\n",
              "      <td>0</td>\n",
              "      <td>0</td>\n",
              "      <td>0</td>\n",
              "      <td>0</td>\n",
              "      <td>0</td>\n",
              "      <td>0</td>\n",
              "      <td>...</td>\n",
              "      <td>0</td>\n",
              "      <td>0</td>\n",
              "      <td>0</td>\n",
              "      <td>0</td>\n",
              "      <td>0</td>\n",
              "      <td>0</td>\n",
              "      <td>0</td>\n",
              "      <td>0</td>\n",
              "      <td>1</td>\n",
              "      <td>0</td>\n",
              "    </tr>\n",
              "    <tr>\n",
              "      <th>8</th>\n",
              "      <td>999.0</td>\n",
              "      <td>1998</td>\n",
              "      <td>101</td>\n",
              "      <td>150000</td>\n",
              "      <td>0</td>\n",
              "      <td>0</td>\n",
              "      <td>0</td>\n",
              "      <td>0</td>\n",
              "      <td>1</td>\n",
              "      <td>0</td>\n",
              "      <td>...</td>\n",
              "      <td>0</td>\n",
              "      <td>0</td>\n",
              "      <td>0</td>\n",
              "      <td>0</td>\n",
              "      <td>0</td>\n",
              "      <td>0</td>\n",
              "      <td>1</td>\n",
              "      <td>0</td>\n",
              "      <td>1</td>\n",
              "      <td>0</td>\n",
              "    </tr>\n",
              "    <tr>\n",
              "      <th>9</th>\n",
              "      <td>2000.0</td>\n",
              "      <td>2004</td>\n",
              "      <td>105</td>\n",
              "      <td>150000</td>\n",
              "      <td>0</td>\n",
              "      <td>0</td>\n",
              "      <td>0</td>\n",
              "      <td>1</td>\n",
              "      <td>0</td>\n",
              "      <td>0</td>\n",
              "      <td>...</td>\n",
              "      <td>0</td>\n",
              "      <td>0</td>\n",
              "      <td>0</td>\n",
              "      <td>0</td>\n",
              "      <td>0</td>\n",
              "      <td>0</td>\n",
              "      <td>0</td>\n",
              "      <td>0</td>\n",
              "      <td>0</td>\n",
              "      <td>0</td>\n",
              "    </tr>\n",
              "    <tr>\n",
              "      <th>10</th>\n",
              "      <td>2799.0</td>\n",
              "      <td>2005</td>\n",
              "      <td>140</td>\n",
              "      <td>150000</td>\n",
              "      <td>0</td>\n",
              "      <td>0</td>\n",
              "      <td>0</td>\n",
              "      <td>0</td>\n",
              "      <td>0</td>\n",
              "      <td>0</td>\n",
              "      <td>...</td>\n",
              "      <td>0</td>\n",
              "      <td>0</td>\n",
              "      <td>0</td>\n",
              "      <td>0</td>\n",
              "      <td>0</td>\n",
              "      <td>0</td>\n",
              "      <td>1</td>\n",
              "      <td>0</td>\n",
              "      <td>0</td>\n",
              "      <td>1</td>\n",
              "    </tr>\n",
              "    <tr>\n",
              "      <th>11</th>\n",
              "      <td>999.0</td>\n",
              "      <td>1995</td>\n",
              "      <td>115</td>\n",
              "      <td>150000</td>\n",
              "      <td>0</td>\n",
              "      <td>0</td>\n",
              "      <td>0</td>\n",
              "      <td>0</td>\n",
              "      <td>0</td>\n",
              "      <td>0</td>\n",
              "      <td>...</td>\n",
              "      <td>0</td>\n",
              "      <td>0</td>\n",
              "      <td>0</td>\n",
              "      <td>0</td>\n",
              "      <td>0</td>\n",
              "      <td>0</td>\n",
              "      <td>1</td>\n",
              "      <td>0</td>\n",
              "      <td>1</td>\n",
              "      <td>0</td>\n",
              "    </tr>\n",
              "  </tbody>\n",
              "</table>\n",
              "<p>10 rows × 305 columns</p>\n",
              "</div>"
            ],
            "text/plain": [
              "      price  registration_year  power  kilometer  vehicle_type_convertible  \\\n",
              "1    9800.0               2004    163     125000                         0   \n",
              "2    1500.0               2001     75     150000                         0   \n",
              "3    3600.0               2008     69      90000                         0   \n",
              "4     650.0               1995    102     150000                         0   \n",
              "5    2200.0               2004    109     150000                         1   \n",
              "7   14500.0               2014    125      30000                         0   \n",
              "8     999.0               1998    101     150000                         0   \n",
              "9    2000.0               2004    105     150000                         0   \n",
              "10   2799.0               2005    140     150000                         0   \n",
              "11    999.0               1995    115     150000                         0   \n",
              "\n",
              "    vehicle_type_coupe  vehicle_type_other  vehicle_type_sedan  \\\n",
              "1                    0                   0                   0   \n",
              "2                    0                   0                   0   \n",
              "3                    0                   0                   0   \n",
              "4                    0                   0                   1   \n",
              "5                    0                   0                   0   \n",
              "7                    0                   0                   0   \n",
              "8                    0                   0                   0   \n",
              "9                    0                   0                   1   \n",
              "10                   0                   0                   0   \n",
              "11                   0                   0                   0   \n",
              "\n",
              "    vehicle_type_small  vehicle_type_suv  ...  brand_skoda  brand_smart  \\\n",
              "1                    0                 1  ...            0            0   \n",
              "2                    1                 0  ...            0            0   \n",
              "3                    1                 0  ...            1            0   \n",
              "4                    0                 0  ...            0            0   \n",
              "5                    0                 0  ...            0            0   \n",
              "7                    0                 0  ...            0            0   \n",
              "8                    1                 0  ...            0            0   \n",
              "9                    0                 0  ...            0            0   \n",
              "10                   0                 0  ...            0            0   \n",
              "11                   0                 0  ...            0            0   \n",
              "\n",
              "    brand_subaru  brand_suzuki  brand_toyota  brand_trabant  brand_volkswagen  \\\n",
              "1              0             0             0              0                 0   \n",
              "2              0             0             0              0                 1   \n",
              "3              0             0             0              0                 0   \n",
              "4              0             0             0              0                 0   \n",
              "5              0             0             0              0                 0   \n",
              "7              0             0             0              0                 0   \n",
              "8              0             0             0              0                 1   \n",
              "9              0             0             0              0                 0   \n",
              "10             0             0             0              0                 1   \n",
              "11             0             0             0              0                 1   \n",
              "\n",
              "    brand_volvo  not_repaired_unknown  not_repaired_yes  \n",
              "1             0                     1                 0  \n",
              "2             0                     0                 0  \n",
              "3             0                     0                 0  \n",
              "4             0                     0                 1  \n",
              "5             0                     0                 0  \n",
              "7             0                     1                 0  \n",
              "8             0                     1                 0  \n",
              "9             0                     0                 0  \n",
              "10            0                     0                 1  \n",
              "11            0                     1                 0  \n",
              "\n",
              "[10 rows x 305 columns]"
            ]
          },
          "execution_count": 42,
          "metadata": {},
          "output_type": "execute_result"
        }
      ],
      "source": [
        "df = pd.get_dummies(df, drop_first=True)\n",
        "\n",
        "df.info()\n",
        "df.head(10)"
      ]
    },
    {
      "cell_type": "markdown",
      "metadata": {
        "id": "VLFVP3dHNSZa"
      },
      "source": [
        "<font color=\"brown\">⚠️ Комментарий ревьювера   \n",
        "Можно использовать OHE. Крайне желательно указывать, какие столбцы ты кодируешь</font>\n"
      ]
    },
    {
      "cell_type": "markdown",
      "metadata": {
        "id": "Io1YffYaNSZa"
      },
      "source": [
        "Разделим датафрейм на признаки и целевой признак."
      ]
    },
    {
      "cell_type": "code",
      "execution_count": null,
      "metadata": {
        "id": "p_dn38zvNSZa"
      },
      "outputs": [],
      "source": [
        "target = df['price']\n",
        "features = df.drop('price', axis=1)"
      ]
    },
    {
      "cell_type": "markdown",
      "metadata": {
        "id": "XDqzj6Z5NSZa"
      },
      "source": [
        "Дальше разделим данные с помощью train_test_split() на выборки: обучающая+валидационная и тестовая. Потом одну из выборки снова разделим на обучающую и валидационную. У нас получится соотношение 3:1:1"
      ]
    },
    {
      "cell_type": "code",
      "execution_count": null,
      "metadata": {
        "id": "B0jhsM59NSZa"
      },
      "outputs": [],
      "source": [
        "df_train_first, df_test = train_test_split(df, test_size=0.2, random_state=12345)"
      ]
    },
    {
      "cell_type": "code",
      "execution_count": null,
      "metadata": {
        "id": "W3KCLGneNSZb"
      },
      "outputs": [],
      "source": [
        "df_train, df_valid = train_test_split(df_train_first, test_size=0.25, random_state=12345)"
      ]
    },
    {
      "cell_type": "code",
      "execution_count": null,
      "metadata": {
        "id": "48W9wzqXNSZb"
      },
      "outputs": [],
      "source": [
        "features_train = df_train.drop(['price'], axis=1)\n",
        "target_train = df_train['price']\n",
        "\n",
        "features_valid = df_valid.drop(['price'], axis=1)\n",
        "target_valid = df_valid['price']\n",
        "\n",
        "features_test = df_test.drop(['price'], axis=1)\n",
        "target_test = df_test['price']"
      ]
    },
    {
      "cell_type": "markdown",
      "metadata": {
        "id": "GUUMddO_NSZb"
      },
      "source": [
        "<font color=\"brown\">⚠️ Комментарий ревьювера   \n",
        "Хорошо бы вывести размерность данных</font>\n"
      ]
    },
    {
      "cell_type": "markdown",
      "metadata": {
        "id": "aYlrQY_kNSZb"
      },
      "source": [
        "Масштабируем признаки"
      ]
    },
    {
      "cell_type": "code",
      "execution_count": null,
      "metadata": {
        "id": "UVUo9400NSZc"
      },
      "outputs": [],
      "source": [
        "columns = ['registration_year','power','kilometer']\n",
        "\n",
        "\n",
        "scaler = StandardScaler()\n",
        "scaler.fit(features_train[columns])\n",
        "\n",
        "features_train[columns] = scaler.transform(features_train[columns])\n",
        "features_valid[columns] = scaler.transform(features_valid[columns])\n",
        "features_test[columns] = scaler.transform(features_test[columns])\n",
        "\n"
      ]
    },
    {
      "cell_type": "markdown",
      "metadata": {
        "id": "Bl1NWdF1NSZc"
      },
      "source": [
        "**Модель LightGBM**"
      ]
    },
    {
      "cell_type": "markdown",
      "metadata": {
        "id": "kyQ3F9uGNSZc"
      },
      "source": [
        "Будем использовать LGBMRegressor. Напишем функцию, которая переберёт гиперпараметры и запишет те, с которыми RMSE принимает наименьшее значение\n",
        "\n",
        "RMSE моделей должно быть меньше 2500"
      ]
    },
    {
      "cell_type": "code",
      "execution_count": null,
      "metadata": {
        "id": "QEkf0Ls_NSZc"
      },
      "outputs": [],
      "source": [
        "def lgbm_f(features_train, target_train, features_valid, target_valid):\n",
        "    for depth in range(3, 13, 5):\n",
        "        best_rmse = 2500\n",
        "        best_fit_time = 0\n",
        "        best_est = 0\n",
        "        best_parameters = ''\n",
        "\n",
        "        for est in range(50, 110, 50):\n",
        "            lgbm = LGBMRegressor(max_depth=depth, n_estimators=est, random_state=12345)\n",
        "\n",
        "            start = time.time()\n",
        "            lgbm.fit(features_train, target_train)\n",
        "            fit_time = time.time() - start\n",
        "            predictions = lgbm.predict(features_valid)\n",
        "\n",
        "            rmse = mean_squared_error(target_valid, predictions)**0.5\n",
        "            #print('Глубина', depth, '- оценщиков' , est, '- RMSE =', rmse)\n",
        "\n",
        "            if best_rmse > rmse:\n",
        "                best_rmse = rmse\n",
        "                best_est = est\n",
        "                best_fit_time = fit_time\n",
        "                best_parameters = 'Глубина', depth, 'Оценщиков', est\n",
        "\n",
        "        print('Наилучший результат при', depth, 'глубине, при', est, 'оценщиках:', best_rmse, 'Время обучения:', best_fit_time, '\\n')"
      ]
    },
    {
      "cell_type": "code",
      "execution_count": null,
      "metadata": {
        "scrolled": true,
        "id": "cghKqsfXNSZc",
        "outputId": "6c7c38e4-520c-4182-a79c-817b227f27e0"
      },
      "outputs": [
        {
          "name": "stdout",
          "output_type": "stream",
          "text": [
            "Наилучший результат при 3 глубине, при 100 оценщиках: 1922.178405829469 Время обучения: 19.306243419647217 \n",
            "\n",
            "Наилучший результат при 8 глубине, при 100 оценщиках: 1725.625059348515 Время обучения: 4.001062393188477 \n",
            "\n",
            "CPU times: user 34.7 s, sys: 1.28 s, total: 35.9 s\n",
            "Wall time: 36.4 s\n"
          ]
        }
      ],
      "source": [
        "%%time\n",
        "\n",
        "lgbm_f(features_train, target_train, features_valid, target_valid)"
      ]
    },
    {
      "cell_type": "markdown",
      "metadata": {
        "id": "YSW9RZk1NSZd"
      },
      "source": [
        "\n",
        "\n",
        "<font color=\"brown\">⚠️ Комментарий ревьювера   \n",
        "В LightGBM и CatBoost также можно использовать встроенное кодирование данных с помощью параметра categorical_feature и переводом данный в тип category, иногда это дает лучший результат :)</font>\n",
        "\n",
        "\n",
        "<font color=\"brown\">⚠️ Комментарий ревьювера     \n",
        "Желательно сохранять полученные данные, в том числе время обучения и предсказания, в список или словарь :)</font>\n"
      ]
    },
    {
      "cell_type": "markdown",
      "metadata": {
        "id": "T7ZvIQuANSZd"
      },
      "source": [
        "**Линейная регрессия**"
      ]
    },
    {
      "cell_type": "markdown",
      "metadata": {
        "id": "680BiBjuNSZd"
      },
      "source": [
        "Второй моделью обучим линейную регрессию и проверим на валидационной выборке"
      ]
    },
    {
      "cell_type": "code",
      "execution_count": null,
      "metadata": {
        "id": "7kbmDvW0NSZe",
        "outputId": "2f2b7ee1-d44f-433a-a302-5e252dff87b6"
      },
      "outputs": [
        {
          "name": "stdout",
          "output_type": "stream",
          "text": [
            "RMSE: 2610.3636506038765 Время обучения: 30.01925039291382\n",
            "CPU times: user 49.6 s, sys: 29.5 s, total: 1min 19s\n",
            "Wall time: 1min 19s\n"
          ]
        }
      ],
      "source": [
        "%%time\n",
        "\n",
        "lr = LinearRegression()\n",
        "score = cross_val_score(lr, features_train, target_train, cv=5, scoring='neg_mean_squared_error').mean()\n",
        "start = time.time()\n",
        "lr.fit(features_train, target_train)\n",
        "fit_time = time.time() - start\n",
        "\n",
        "predictions = lr.predict(features_valid)\n",
        "print('RMSE:', mean_squared_error(target_valid, predictions)**0.5, 'Время обучения:', fit_time)\n"
      ]
    },
    {
      "cell_type": "markdown",
      "metadata": {
        "id": "zJY8slmVNSZf"
      },
      "source": [
        "**CatBoost**"
      ]
    },
    {
      "cell_type": "markdown",
      "metadata": {
        "id": "umSwzuqWNSZf"
      },
      "source": [
        "Для этой модели взяла функцию для LightGBM и поменяла её под нужные параметры"
      ]
    },
    {
      "cell_type": "code",
      "execution_count": null,
      "metadata": {
        "id": "EucTjmP_NSZf"
      },
      "outputs": [],
      "source": [
        "def cat_b(features_train, target_train, features_valid, target_valid):\n",
        "\n",
        "    for depth in range(3, 13, 5):\n",
        "        best_rmse = 2500\n",
        "        best_iterations = 0\n",
        "        best_fit_time = 0\n",
        "        best_parameters = ''\n",
        "\n",
        "        for iteration in range(50, 150, 50):\n",
        "            catboost = CatBoostRegressor(depth=depth, iterations=iteration, random_state=12345)\n",
        "            start = time.time()\n",
        "            catboost.fit(features_train, target_train)\n",
        "            fit_time = time.time() - start\n",
        "            predictions = catboost.predict(features_valid)\n",
        "\n",
        "            rmse = mean_squared_error(target_valid, predictions)**0.5\n",
        "\n",
        "\n",
        "            if best_rmse > rmse:\n",
        "                best_rmse = rmse\n",
        "                best_iterations = iteration\n",
        "                best_fit_time = fit_time\n",
        "                best_parameters = 'Глубина', depth, 'Итераций', iteration\n",
        "\n",
        "        print('Наилучший результат при', depth, 'глубине, при', best_iterations, 'итерациях:', best_rmse, 'Время обучения:', best_fit_time, '\\n')"
      ]
    },
    {
      "cell_type": "code",
      "execution_count": null,
      "metadata": {
        "id": "tglofBVQNSZf",
        "outputId": "25bc2de0-9f46-446c-8ad4-eda0de9ce7dd"
      },
      "outputs": [
        {
          "name": "stdout",
          "output_type": "stream",
          "text": [
            "Learning rate set to 0.5\n",
            "0:\tlearn: 3600.6994608\ttotal: 65.1ms\tremaining: 3.19s\n",
            "1:\tlearn: 3047.4315084\ttotal: 78.8ms\tremaining: 1.89s\n",
            "2:\tlearn: 2737.3044516\ttotal: 91.1ms\tremaining: 1.43s\n",
            "3:\tlearn: 2590.1003710\ttotal: 103ms\tremaining: 1.19s\n",
            "4:\tlearn: 2505.7226061\ttotal: 120ms\tremaining: 1.08s\n",
            "5:\tlearn: 2429.6032245\ttotal: 138ms\tremaining: 1.01s\n",
            "6:\tlearn: 2349.4745909\ttotal: 152ms\tremaining: 935ms\n",
            "7:\tlearn: 2308.8653274\ttotal: 165ms\tremaining: 869ms\n",
            "8:\tlearn: 2262.6260066\ttotal: 179ms\tremaining: 815ms\n",
            "9:\tlearn: 2234.0244975\ttotal: 193ms\tremaining: 772ms\n",
            "10:\tlearn: 2207.3875812\ttotal: 209ms\tremaining: 739ms\n",
            "11:\tlearn: 2187.1770564\ttotal: 221ms\tremaining: 700ms\n",
            "12:\tlearn: 2168.6645232\ttotal: 240ms\tremaining: 682ms\n",
            "13:\tlearn: 2154.0339665\ttotal: 253ms\tremaining: 650ms\n",
            "14:\tlearn: 2138.1079084\ttotal: 266ms\tremaining: 621ms\n",
            "15:\tlearn: 2127.3768819\ttotal: 277ms\tremaining: 590ms\n",
            "16:\tlearn: 2109.5119951\ttotal: 289ms\tremaining: 561ms\n",
            "17:\tlearn: 2100.1680591\ttotal: 300ms\tremaining: 534ms\n",
            "18:\tlearn: 2086.3714153\ttotal: 313ms\tremaining: 511ms\n",
            "19:\tlearn: 2065.1743620\ttotal: 331ms\tremaining: 497ms\n",
            "20:\tlearn: 2052.9181154\ttotal: 345ms\tremaining: 477ms\n",
            "21:\tlearn: 2043.2190160\ttotal: 358ms\tremaining: 455ms\n",
            "22:\tlearn: 2034.3300338\ttotal: 369ms\tremaining: 434ms\n",
            "23:\tlearn: 2026.6476097\ttotal: 381ms\tremaining: 413ms\n",
            "24:\tlearn: 2021.0951238\ttotal: 393ms\tremaining: 393ms\n",
            "25:\tlearn: 2010.4900320\ttotal: 404ms\tremaining: 373ms\n",
            "26:\tlearn: 2000.0093188\ttotal: 416ms\tremaining: 354ms\n",
            "27:\tlearn: 1988.7031059\ttotal: 434ms\tremaining: 341ms\n",
            "28:\tlearn: 1984.5452494\ttotal: 446ms\tremaining: 323ms\n",
            "29:\tlearn: 1975.2192045\ttotal: 459ms\tremaining: 306ms\n",
            "30:\tlearn: 1967.7974883\ttotal: 474ms\tremaining: 290ms\n",
            "31:\tlearn: 1959.8586873\ttotal: 487ms\tremaining: 274ms\n",
            "32:\tlearn: 1955.9481378\ttotal: 499ms\tremaining: 257ms\n",
            "33:\tlearn: 1952.3868235\ttotal: 511ms\tremaining: 241ms\n",
            "34:\tlearn: 1948.2724465\ttotal: 527ms\tremaining: 226ms\n",
            "35:\tlearn: 1943.5215654\ttotal: 539ms\tremaining: 210ms\n",
            "36:\tlearn: 1935.4233719\ttotal: 551ms\tremaining: 194ms\n",
            "37:\tlearn: 1931.8766953\ttotal: 563ms\tremaining: 178ms\n",
            "38:\tlearn: 1926.8380893\ttotal: 575ms\tremaining: 162ms\n",
            "39:\tlearn: 1923.0873353\ttotal: 587ms\tremaining: 147ms\n",
            "40:\tlearn: 1917.7566734\ttotal: 599ms\tremaining: 131ms\n",
            "41:\tlearn: 1909.1460580\ttotal: 615ms\tremaining: 117ms\n",
            "42:\tlearn: 1906.8400182\ttotal: 627ms\tremaining: 102ms\n",
            "43:\tlearn: 1903.3016470\ttotal: 640ms\tremaining: 87.2ms\n",
            "44:\tlearn: 1901.0688652\ttotal: 651ms\tremaining: 72.4ms\n",
            "45:\tlearn: 1898.8638676\ttotal: 663ms\tremaining: 57.7ms\n",
            "46:\tlearn: 1896.6256261\ttotal: 675ms\tremaining: 43.1ms\n",
            "47:\tlearn: 1891.7296430\ttotal: 688ms\tremaining: 28.7ms\n",
            "48:\tlearn: 1888.8880360\ttotal: 706ms\tremaining: 14.4ms\n",
            "49:\tlearn: 1886.2376754\ttotal: 719ms\tremaining: 0us\n",
            "Learning rate set to 0.5\n",
            "0:\tlearn: 3600.6994608\ttotal: 21.2ms\tremaining: 2.1s\n",
            "1:\tlearn: 3047.4315084\ttotal: 36.5ms\tremaining: 1.79s\n",
            "2:\tlearn: 2737.3044516\ttotal: 49.9ms\tremaining: 1.61s\n",
            "3:\tlearn: 2590.1003710\ttotal: 64.5ms\tremaining: 1.55s\n",
            "4:\tlearn: 2505.7226061\ttotal: 78.5ms\tremaining: 1.49s\n",
            "5:\tlearn: 2429.6032245\ttotal: 91.9ms\tremaining: 1.44s\n",
            "6:\tlearn: 2349.4745909\ttotal: 108ms\tremaining: 1.43s\n",
            "7:\tlearn: 2308.8653274\ttotal: 127ms\tremaining: 1.46s\n",
            "8:\tlearn: 2262.6260066\ttotal: 140ms\tremaining: 1.42s\n",
            "9:\tlearn: 2234.0244975\ttotal: 153ms\tremaining: 1.37s\n",
            "10:\tlearn: 2207.3875812\ttotal: 165ms\tremaining: 1.34s\n",
            "11:\tlearn: 2187.1770564\ttotal: 177ms\tremaining: 1.3s\n",
            "12:\tlearn: 2168.6645232\ttotal: 188ms\tremaining: 1.26s\n",
            "13:\tlearn: 2154.0339665\ttotal: 203ms\tremaining: 1.25s\n",
            "14:\tlearn: 2138.1079084\ttotal: 220ms\tremaining: 1.25s\n",
            "15:\tlearn: 2127.3768819\ttotal: 232ms\tremaining: 1.22s\n",
            "16:\tlearn: 2109.5119951\ttotal: 244ms\tremaining: 1.19s\n",
            "17:\tlearn: 2100.1680591\ttotal: 256ms\tremaining: 1.17s\n",
            "18:\tlearn: 2086.3714153\ttotal: 269ms\tremaining: 1.15s\n",
            "19:\tlearn: 2065.1743620\ttotal: 282ms\tremaining: 1.13s\n",
            "20:\tlearn: 2052.9181154\ttotal: 297ms\tremaining: 1.12s\n",
            "21:\tlearn: 2043.2190160\ttotal: 310ms\tremaining: 1.1s\n",
            "22:\tlearn: 2034.3300338\ttotal: 322ms\tremaining: 1.08s\n",
            "23:\tlearn: 2026.6476097\ttotal: 334ms\tremaining: 1.06s\n",
            "24:\tlearn: 2021.0951238\ttotal: 345ms\tremaining: 1.03s\n",
            "25:\tlearn: 2010.4900320\ttotal: 357ms\tremaining: 1.02s\n",
            "26:\tlearn: 2000.0093188\ttotal: 370ms\tremaining: 1000ms\n",
            "27:\tlearn: 1988.7031059\ttotal: 383ms\tremaining: 984ms\n",
            "28:\tlearn: 1984.5452494\ttotal: 396ms\tremaining: 970ms\n",
            "29:\tlearn: 1975.2192045\ttotal: 409ms\tremaining: 955ms\n",
            "30:\tlearn: 1967.7974883\ttotal: 423ms\tremaining: 941ms\n",
            "31:\tlearn: 1959.8586873\ttotal: 435ms\tremaining: 925ms\n",
            "32:\tlearn: 1955.9481378\ttotal: 446ms\tremaining: 906ms\n",
            "33:\tlearn: 1952.3868235\ttotal: 459ms\tremaining: 891ms\n",
            "34:\tlearn: 1948.2724465\ttotal: 476ms\tremaining: 883ms\n",
            "35:\tlearn: 1943.5215654\ttotal: 493ms\tremaining: 877ms\n",
            "36:\tlearn: 1935.4233719\ttotal: 506ms\tremaining: 862ms\n",
            "37:\tlearn: 1931.8766953\ttotal: 518ms\tremaining: 845ms\n",
            "38:\tlearn: 1926.8380893\ttotal: 531ms\tremaining: 830ms\n",
            "39:\tlearn: 1923.0873353\ttotal: 543ms\tremaining: 815ms\n",
            "40:\tlearn: 1917.7566734\ttotal: 556ms\tremaining: 800ms\n",
            "41:\tlearn: 1909.1460580\ttotal: 574ms\tremaining: 792ms\n",
            "42:\tlearn: 1906.8400182\ttotal: 586ms\tremaining: 777ms\n",
            "43:\tlearn: 1903.3016470\ttotal: 599ms\tremaining: 762ms\n",
            "44:\tlearn: 1901.0688652\ttotal: 611ms\tremaining: 747ms\n",
            "45:\tlearn: 1898.8638676\ttotal: 623ms\tremaining: 731ms\n",
            "46:\tlearn: 1896.6256261\ttotal: 635ms\tremaining: 716ms\n",
            "47:\tlearn: 1891.7296430\ttotal: 649ms\tremaining: 704ms\n",
            "48:\tlearn: 1888.8880360\ttotal: 668ms\tremaining: 695ms\n",
            "49:\tlearn: 1886.2376754\ttotal: 681ms\tremaining: 681ms\n",
            "50:\tlearn: 1884.3280798\ttotal: 693ms\tremaining: 666ms\n",
            "51:\tlearn: 1881.2466974\ttotal: 706ms\tremaining: 651ms\n",
            "52:\tlearn: 1879.1698135\ttotal: 717ms\tremaining: 636ms\n",
            "53:\tlearn: 1877.4489024\ttotal: 729ms\tremaining: 621ms\n",
            "54:\tlearn: 1874.0181991\ttotal: 741ms\tremaining: 606ms\n",
            "55:\tlearn: 1872.4515244\ttotal: 752ms\tremaining: 591ms\n",
            "56:\tlearn: 1869.6533106\ttotal: 770ms\tremaining: 581ms\n",
            "57:\tlearn: 1865.6352766\ttotal: 784ms\tremaining: 568ms\n",
            "58:\tlearn: 1864.1389316\ttotal: 800ms\tremaining: 556ms\n",
            "59:\tlearn: 1862.8678754\ttotal: 812ms\tremaining: 541ms\n",
            "60:\tlearn: 1861.6721149\ttotal: 824ms\tremaining: 527ms\n",
            "61:\tlearn: 1859.8923225\ttotal: 837ms\tremaining: 513ms\n",
            "62:\tlearn: 1856.9426132\ttotal: 853ms\tremaining: 501ms\n",
            "63:\tlearn: 1854.1066469\ttotal: 868ms\tremaining: 488ms\n",
            "64:\tlearn: 1851.8128127\ttotal: 881ms\tremaining: 474ms\n",
            "65:\tlearn: 1850.4255457\ttotal: 893ms\tremaining: 460ms\n",
            "66:\tlearn: 1848.2218388\ttotal: 906ms\tremaining: 446ms\n",
            "67:\tlearn: 1845.2851471\ttotal: 918ms\tremaining: 432ms\n",
            "68:\tlearn: 1841.7126347\ttotal: 931ms\tremaining: 418ms\n",
            "69:\tlearn: 1839.8135179\ttotal: 944ms\tremaining: 405ms\n",
            "70:\tlearn: 1836.2302507\ttotal: 960ms\tremaining: 392ms\n",
            "71:\tlearn: 1833.5489162\ttotal: 973ms\tremaining: 378ms\n",
            "72:\tlearn: 1831.4564783\ttotal: 986ms\tremaining: 365ms\n",
            "73:\tlearn: 1829.0213153\ttotal: 999ms\tremaining: 351ms\n",
            "74:\tlearn: 1828.0595510\ttotal: 1.01s\tremaining: 337ms\n",
            "75:\tlearn: 1827.1039473\ttotal: 1.02s\tremaining: 323ms\n",
            "76:\tlearn: 1824.4638928\ttotal: 1.04s\tremaining: 310ms\n",
            "77:\tlearn: 1823.1455400\ttotal: 1.05s\tremaining: 298ms\n",
            "78:\tlearn: 1821.0408450\ttotal: 1.07s\tremaining: 284ms\n",
            "79:\tlearn: 1818.2036998\ttotal: 1.08s\tremaining: 271ms\n",
            "80:\tlearn: 1816.3998967\ttotal: 1.09s\tremaining: 257ms\n",
            "81:\tlearn: 1815.6611336\ttotal: 1.1s\tremaining: 243ms\n",
            "82:\tlearn: 1813.3819243\ttotal: 1.12s\tremaining: 229ms\n",
            "83:\tlearn: 1810.0081762\ttotal: 1.13s\tremaining: 215ms\n",
            "84:\tlearn: 1808.0864788\ttotal: 1.15s\tremaining: 203ms\n",
            "85:\tlearn: 1807.3605252\ttotal: 1.16s\tremaining: 189ms\n",
            "86:\tlearn: 1806.6486407\ttotal: 1.17s\tremaining: 175ms\n",
            "87:\tlearn: 1803.9741466\ttotal: 1.19s\tremaining: 162ms\n",
            "88:\tlearn: 1802.7790158\ttotal: 1.2s\tremaining: 148ms\n",
            "89:\tlearn: 1800.9246902\ttotal: 1.21s\tremaining: 135ms\n",
            "90:\tlearn: 1799.8711311\ttotal: 1.22s\tremaining: 121ms\n",
            "91:\tlearn: 1797.4536093\ttotal: 1.24s\tremaining: 108ms\n",
            "92:\tlearn: 1796.1968482\ttotal: 1.26s\tremaining: 94.6ms\n",
            "93:\tlearn: 1794.9996877\ttotal: 1.27s\tremaining: 81ms\n",
            "94:\tlearn: 1794.2478396\ttotal: 1.28s\tremaining: 67.4ms\n",
            "95:\tlearn: 1793.6513227\ttotal: 1.29s\tremaining: 53.9ms\n",
            "96:\tlearn: 1792.8656765\ttotal: 1.31s\tremaining: 40.4ms\n",
            "97:\tlearn: 1790.9912964\ttotal: 1.32s\tremaining: 26.9ms\n",
            "98:\tlearn: 1789.3468183\ttotal: 1.33s\tremaining: 13.5ms\n",
            "99:\tlearn: 1788.2539278\ttotal: 1.35s\tremaining: 0us\n",
            "Наилучший результат при 3 глубине, при 100 итерациях: 1800.432057599624 Время обучения: 2.643507719039917 \n",
            "\n"
          ]
        },
        {
          "name": "stdout",
          "output_type": "stream",
          "text": [
            "Learning rate set to 0.5\n",
            "0:\tlearn: 3237.0929034\ttotal: 29.2ms\tremaining: 1.43s\n",
            "1:\tlearn: 2601.7837460\ttotal: 52.2ms\tremaining: 1.25s\n",
            "2:\tlearn: 2303.9821511\ttotal: 73.8ms\tremaining: 1.16s\n",
            "3:\tlearn: 2149.9076250\ttotal: 95.7ms\tremaining: 1.1s\n",
            "4:\tlearn: 2066.7772592\ttotal: 124ms\tremaining: 1.11s\n",
            "5:\tlearn: 2004.0755271\ttotal: 144ms\tremaining: 1.06s\n",
            "6:\tlearn: 1970.8827648\ttotal: 165ms\tremaining: 1.01s\n",
            "7:\tlearn: 1943.9194662\ttotal: 184ms\tremaining: 966ms\n",
            "8:\tlearn: 1921.8769063\ttotal: 212ms\tremaining: 966ms\n",
            "9:\tlearn: 1896.6138252\ttotal: 234ms\tremaining: 936ms\n",
            "10:\tlearn: 1879.4909772\ttotal: 255ms\tremaining: 903ms\n",
            "11:\tlearn: 1866.6985294\ttotal: 274ms\tremaining: 869ms\n",
            "12:\tlearn: 1858.3186239\ttotal: 300ms\tremaining: 853ms\n",
            "13:\tlearn: 1846.9959394\ttotal: 322ms\tremaining: 828ms\n",
            "14:\tlearn: 1838.9244973\ttotal: 342ms\tremaining: 797ms\n",
            "15:\tlearn: 1831.9844270\ttotal: 362ms\tremaining: 769ms\n",
            "16:\tlearn: 1818.2007588\ttotal: 384ms\tremaining: 744ms\n",
            "17:\tlearn: 1814.0304505\ttotal: 409ms\tremaining: 728ms\n",
            "18:\tlearn: 1802.1514558\ttotal: 430ms\tremaining: 702ms\n",
            "19:\tlearn: 1794.6159141\ttotal: 454ms\tremaining: 681ms\n",
            "20:\tlearn: 1788.0001212\ttotal: 475ms\tremaining: 655ms\n",
            "21:\tlearn: 1783.3041601\ttotal: 502ms\tremaining: 639ms\n",
            "22:\tlearn: 1778.5318008\ttotal: 522ms\tremaining: 613ms\n",
            "23:\tlearn: 1767.5908233\ttotal: 542ms\tremaining: 587ms\n",
            "24:\tlearn: 1762.9651310\ttotal: 562ms\tremaining: 562ms\n",
            "25:\tlearn: 1757.0457023\ttotal: 584ms\tremaining: 539ms\n",
            "26:\tlearn: 1749.9475324\ttotal: 611ms\tremaining: 520ms\n",
            "27:\tlearn: 1744.7194408\ttotal: 631ms\tremaining: 496ms\n",
            "28:\tlearn: 1737.5054520\ttotal: 652ms\tremaining: 472ms\n",
            "29:\tlearn: 1732.7940417\ttotal: 671ms\tremaining: 447ms\n",
            "30:\tlearn: 1728.9896241\ttotal: 697ms\tremaining: 427ms\n",
            "31:\tlearn: 1726.7633441\ttotal: 717ms\tremaining: 403ms\n",
            "32:\tlearn: 1724.3427611\ttotal: 736ms\tremaining: 379ms\n",
            "33:\tlearn: 1720.0274475\ttotal: 757ms\tremaining: 356ms\n",
            "34:\tlearn: 1715.1773591\ttotal: 784ms\tremaining: 336ms\n",
            "35:\tlearn: 1710.5681177\ttotal: 804ms\tremaining: 313ms\n",
            "36:\tlearn: 1705.3986566\ttotal: 824ms\tremaining: 290ms\n",
            "37:\tlearn: 1701.2126014\ttotal: 844ms\tremaining: 267ms\n",
            "38:\tlearn: 1698.7579122\ttotal: 863ms\tremaining: 243ms\n",
            "39:\tlearn: 1695.3296639\ttotal: 891ms\tremaining: 223ms\n",
            "40:\tlearn: 1690.6296934\ttotal: 912ms\tremaining: 200ms\n",
            "41:\tlearn: 1687.4946687\ttotal: 933ms\tremaining: 178ms\n",
            "42:\tlearn: 1684.6401452\ttotal: 952ms\tremaining: 155ms\n",
            "43:\tlearn: 1680.8661867\ttotal: 982ms\tremaining: 134ms\n",
            "44:\tlearn: 1677.2847396\ttotal: 1s\tremaining: 111ms\n",
            "45:\tlearn: 1673.6976512\ttotal: 1.02s\tremaining: 89ms\n",
            "46:\tlearn: 1671.6288821\ttotal: 1.04s\tremaining: 66.5ms\n",
            "47:\tlearn: 1669.6364934\ttotal: 1.06s\tremaining: 44.3ms\n",
            "48:\tlearn: 1667.2571955\ttotal: 1.09s\tremaining: 22.2ms\n",
            "49:\tlearn: 1664.8225507\ttotal: 1.11s\tremaining: 0us\n",
            "Learning rate set to 0.5\n",
            "0:\tlearn: 3237.0929034\ttotal: 21.7ms\tremaining: 2.15s\n",
            "1:\tlearn: 2601.7837460\ttotal: 49.9ms\tremaining: 2.44s\n",
            "2:\tlearn: 2303.9821511\ttotal: 70.8ms\tremaining: 2.29s\n",
            "3:\tlearn: 2149.9076250\ttotal: 91.4ms\tremaining: 2.19s\n",
            "4:\tlearn: 2066.7772592\ttotal: 114ms\tremaining: 2.17s\n",
            "5:\tlearn: 2004.0755271\ttotal: 142ms\tremaining: 2.22s\n",
            "6:\tlearn: 1970.8827648\ttotal: 162ms\tremaining: 2.15s\n",
            "7:\tlearn: 1943.9194662\ttotal: 181ms\tremaining: 2.09s\n",
            "8:\tlearn: 1921.8769063\ttotal: 202ms\tremaining: 2.04s\n",
            "9:\tlearn: 1896.6138252\ttotal: 232ms\tremaining: 2.08s\n",
            "10:\tlearn: 1879.4909772\ttotal: 252ms\tremaining: 2.04s\n",
            "11:\tlearn: 1866.6985294\ttotal: 272ms\tremaining: 1.99s\n",
            "12:\tlearn: 1858.3186239\ttotal: 290ms\tremaining: 1.94s\n",
            "13:\tlearn: 1846.9959394\ttotal: 309ms\tremaining: 1.9s\n",
            "14:\tlearn: 1838.9244973\ttotal: 333ms\tremaining: 1.89s\n",
            "15:\tlearn: 1831.9844270\ttotal: 352ms\tremaining: 1.85s\n",
            "16:\tlearn: 1818.2007588\ttotal: 373ms\tremaining: 1.82s\n",
            "17:\tlearn: 1814.0304505\ttotal: 393ms\tremaining: 1.79s\n",
            "18:\tlearn: 1802.1514558\ttotal: 423ms\tremaining: 1.8s\n",
            "19:\tlearn: 1794.6159141\ttotal: 444ms\tremaining: 1.78s\n",
            "20:\tlearn: 1788.0001212\ttotal: 465ms\tremaining: 1.75s\n",
            "21:\tlearn: 1783.3041601\ttotal: 484ms\tremaining: 1.72s\n",
            "22:\tlearn: 1778.5318008\ttotal: 506ms\tremaining: 1.69s\n",
            "23:\tlearn: 1767.5908233\ttotal: 528ms\tremaining: 1.67s\n",
            "24:\tlearn: 1762.9651310\ttotal: 547ms\tremaining: 1.64s\n",
            "25:\tlearn: 1757.0457023\ttotal: 567ms\tremaining: 1.61s\n",
            "26:\tlearn: 1749.9475324\ttotal: 588ms\tremaining: 1.59s\n",
            "27:\tlearn: 1744.7194408\ttotal: 616ms\tremaining: 1.58s\n",
            "28:\tlearn: 1737.5054520\ttotal: 638ms\tremaining: 1.56s\n",
            "29:\tlearn: 1732.7940417\ttotal: 657ms\tremaining: 1.53s\n",
            "30:\tlearn: 1728.9896241\ttotal: 677ms\tremaining: 1.51s\n",
            "31:\tlearn: 1726.7633441\ttotal: 702ms\tremaining: 1.49s\n",
            "32:\tlearn: 1724.3427611\ttotal: 721ms\tremaining: 1.46s\n",
            "33:\tlearn: 1720.0274475\ttotal: 741ms\tremaining: 1.44s\n",
            "34:\tlearn: 1715.1773591\ttotal: 760ms\tremaining: 1.41s\n",
            "35:\tlearn: 1710.5681177\ttotal: 780ms\tremaining: 1.39s\n",
            "36:\tlearn: 1705.3986566\ttotal: 808ms\tremaining: 1.38s\n",
            "37:\tlearn: 1701.2126014\ttotal: 829ms\tremaining: 1.35s\n",
            "38:\tlearn: 1698.7579122\ttotal: 848ms\tremaining: 1.32s\n",
            "39:\tlearn: 1695.3296639\ttotal: 868ms\tremaining: 1.3s\n",
            "40:\tlearn: 1690.6296934\ttotal: 894ms\tremaining: 1.29s\n",
            "41:\tlearn: 1687.4946687\ttotal: 915ms\tremaining: 1.26s\n",
            "42:\tlearn: 1684.6401452\ttotal: 935ms\tremaining: 1.24s\n",
            "43:\tlearn: 1680.8661867\ttotal: 957ms\tremaining: 1.22s\n",
            "44:\tlearn: 1677.2847396\ttotal: 976ms\tremaining: 1.19s\n",
            "45:\tlearn: 1673.6976512\ttotal: 1s\tremaining: 1.18s\n",
            "46:\tlearn: 1671.6288821\ttotal: 1.02s\tremaining: 1.15s\n",
            "47:\tlearn: 1669.6364934\ttotal: 1.04s\tremaining: 1.13s\n",
            "48:\tlearn: 1667.2571955\ttotal: 1.06s\tremaining: 1.1s\n",
            "49:\tlearn: 1664.8225507\ttotal: 1.09s\tremaining: 1.09s\n",
            "50:\tlearn: 1662.6984615\ttotal: 1.11s\tremaining: 1.07s\n",
            "51:\tlearn: 1659.5022302\ttotal: 1.13s\tremaining: 1.05s\n",
            "52:\tlearn: 1658.6637148\ttotal: 1.15s\tremaining: 1.02s\n",
            "53:\tlearn: 1656.5222111\ttotal: 1.17s\tremaining: 997ms\n",
            "54:\tlearn: 1653.8191230\ttotal: 1.2s\tremaining: 980ms\n",
            "55:\tlearn: 1652.0335663\ttotal: 1.22s\tremaining: 957ms\n",
            "56:\tlearn: 1649.9664005\ttotal: 1.24s\tremaining: 935ms\n",
            "57:\tlearn: 1646.6663494\ttotal: 1.26s\tremaining: 912ms\n",
            "58:\tlearn: 1643.7460271\ttotal: 1.29s\tremaining: 894ms\n",
            "59:\tlearn: 1642.3333129\ttotal: 1.31s\tremaining: 871ms\n",
            "60:\tlearn: 1639.4379504\ttotal: 1.33s\tremaining: 849ms\n",
            "61:\tlearn: 1637.6218692\ttotal: 1.35s\tremaining: 827ms\n",
            "62:\tlearn: 1635.9057602\ttotal: 1.37s\tremaining: 807ms\n",
            "63:\tlearn: 1633.3082568\ttotal: 1.4s\tremaining: 785ms\n",
            "64:\tlearn: 1630.3060977\ttotal: 1.42s\tremaining: 763ms\n",
            "65:\tlearn: 1627.9338392\ttotal: 1.44s\tremaining: 741ms\n",
            "66:\tlearn: 1626.6307658\ttotal: 1.46s\tremaining: 721ms\n",
            "67:\tlearn: 1624.5423032\ttotal: 1.49s\tremaining: 702ms\n",
            "68:\tlearn: 1622.4320056\ttotal: 1.51s\tremaining: 678ms\n",
            "69:\tlearn: 1621.1648659\ttotal: 1.53s\tremaining: 655ms\n",
            "70:\tlearn: 1619.7803017\ttotal: 1.55s\tremaining: 632ms\n",
            "71:\tlearn: 1617.6270888\ttotal: 1.57s\tremaining: 612ms\n",
            "72:\tlearn: 1615.7709981\ttotal: 1.59s\tremaining: 589ms\n",
            "73:\tlearn: 1613.7148747\ttotal: 1.61s\tremaining: 567ms\n",
            "74:\tlearn: 1612.0202016\ttotal: 1.63s\tremaining: 544ms\n",
            "75:\tlearn: 1610.8479651\ttotal: 1.65s\tremaining: 522ms\n",
            "76:\tlearn: 1609.7291525\ttotal: 1.68s\tremaining: 503ms\n",
            "77:\tlearn: 1608.8387384\ttotal: 1.7s\tremaining: 481ms\n",
            "78:\tlearn: 1606.9644719\ttotal: 1.73s\tremaining: 459ms\n",
            "79:\tlearn: 1605.2672306\ttotal: 1.74s\tremaining: 436ms\n",
            "80:\tlearn: 1603.5158399\ttotal: 1.77s\tremaining: 416ms\n",
            "81:\tlearn: 1602.4620893\ttotal: 1.79s\tremaining: 393ms\n",
            "82:\tlearn: 1601.1300998\ttotal: 1.81s\tremaining: 371ms\n",
            "83:\tlearn: 1599.1450569\ttotal: 1.83s\tremaining: 349ms\n",
            "84:\tlearn: 1597.2683358\ttotal: 1.85s\tremaining: 327ms\n",
            "85:\tlearn: 1595.4988644\ttotal: 1.88s\tremaining: 306ms\n",
            "86:\tlearn: 1594.2369127\ttotal: 1.9s\tremaining: 284ms\n",
            "87:\tlearn: 1593.4681528\ttotal: 1.92s\tremaining: 261ms\n",
            "88:\tlearn: 1592.0246318\ttotal: 1.94s\tremaining: 239ms\n",
            "89:\tlearn: 1591.1723146\ttotal: 1.96s\tremaining: 217ms\n",
            "90:\tlearn: 1589.9962222\ttotal: 1.98s\tremaining: 196ms\n",
            "91:\tlearn: 1588.5291882\ttotal: 2s\tremaining: 174ms\n",
            "92:\tlearn: 1586.5484487\ttotal: 2.02s\tremaining: 152ms\n",
            "93:\tlearn: 1585.2125363\ttotal: 2.04s\tremaining: 130ms\n",
            "94:\tlearn: 1582.5834293\ttotal: 2.07s\tremaining: 109ms\n",
            "95:\tlearn: 1581.3936965\ttotal: 2.09s\tremaining: 87.1ms\n",
            "96:\tlearn: 1580.1359074\ttotal: 2.11s\tremaining: 65.2ms\n",
            "97:\tlearn: 1578.6481255\ttotal: 2.13s\tremaining: 43.5ms\n",
            "98:\tlearn: 1577.9092425\ttotal: 2.16s\tremaining: 21.8ms\n",
            "99:\tlearn: 1576.6311653\ttotal: 2.18s\tremaining: 0us\n",
            "Наилучший результат при 8 глубине, при 100 итерациях: 1657.3549607321418 Время обучения: 3.51528263092041 \n",
            "\n",
            "CPU times: user 8.91 s, sys: 0 ns, total: 8.91 s\n",
            "Wall time: 10.7 s\n"
          ]
        }
      ],
      "source": [
        "%%time\n",
        "\n",
        "cat_b(features_train, target_train, features_valid, target_valid)"
      ]
    },
    {
      "cell_type": "markdown",
      "metadata": {
        "id": "9xOcJKQBNSZf"
      },
      "source": [
        "<font color=\"brown\">⚠️ Комментарий ревьювера     \n",
        "Желательно сделать поиск лучших параметров с помощью цикла или GridSearchCV или RandomSearchCV или HalvingGridSearchCV:)</font>\n"
      ]
    },
    {
      "cell_type": "code",
      "execution_count": null,
      "metadata": {
        "id": "9WXOf6jiNSZg",
        "outputId": "5c6051d4-f612-4f4b-dcd5-7e5943d7a6d0"
      },
      "outputs": [
        {
          "data": {
            "text/html": [
              "<div>\n",
              "<style scoped>\n",
              "    .dataframe tbody tr th:only-of-type {\n",
              "        vertical-align: middle;\n",
              "    }\n",
              "\n",
              "    .dataframe tbody tr th {\n",
              "        vertical-align: top;\n",
              "    }\n",
              "\n",
              "    .dataframe thead th {\n",
              "        text-align: right;\n",
              "    }\n",
              "</style>\n",
              "<table border=\"1\" class=\"dataframe\">\n",
              "  <thead>\n",
              "    <tr style=\"text-align: right;\">\n",
              "      <th></th>\n",
              "      <th>model</th>\n",
              "      <th>rmse</th>\n",
              "      <th>time</th>\n",
              "    </tr>\n",
              "  </thead>\n",
              "  <tbody>\n",
              "    <tr>\n",
              "      <th>0</th>\n",
              "      <td>Линейная регрессия</td>\n",
              "      <td>2610</td>\n",
              "      <td>30.1s</td>\n",
              "    </tr>\n",
              "    <tr>\n",
              "      <th>1</th>\n",
              "      <td>LightGBM</td>\n",
              "      <td>1725</td>\n",
              "      <td>4.0s</td>\n",
              "    </tr>\n",
              "    <tr>\n",
              "      <th>2</th>\n",
              "      <td>CatBoost</td>\n",
              "      <td>1657</td>\n",
              "      <td>3.5s</td>\n",
              "    </tr>\n",
              "  </tbody>\n",
              "</table>\n",
              "</div>"
            ],
            "text/plain": [
              "                model  rmse   time\n",
              "0  Линейная регрессия  2610  30.1s\n",
              "1            LightGBM  1725   4.0s\n",
              "2            CatBoost  1657   3.5s"
            ]
          },
          "execution_count": 59,
          "metadata": {},
          "output_type": "execute_result"
        }
      ],
      "source": [
        "results = {'model': ['Линейная регрессия', 'LightGBM','CatBoost'],\n",
        "           'rmse': [2610, 1725, 1657],\n",
        "           'time': ['30.1s','4.0s','3.5s']\n",
        "          }\n",
        "results = pd.DataFrame(data=results)\n",
        "results"
      ]
    },
    {
      "cell_type": "markdown",
      "metadata": {
        "id": "zEh6aPNqNSZg"
      },
      "source": [
        "**Вывод**"
      ]
    },
    {
      "cell_type": "markdown",
      "metadata": {
        "id": "BPODHB0MNSZg"
      },
      "source": [
        "На валидационной выборке гораздо быстрее себя показала модель CatBoost и она показала лучший результат метрики (1657), на втором месте по качеству LightGBM (1725), а модель линейной регрессии порог RMSE в 2500 не прошла, кроме того она оказалась самой медленной"
      ]
    },
    {
      "cell_type": "markdown",
      "metadata": {
        "id": "EBf7FmYjNSZg"
      },
      "source": [
        "## Анализ моделей"
      ]
    },
    {
      "cell_type": "markdown",
      "metadata": {
        "id": "oUL-Sw-iNSZg"
      },
      "source": [
        "Проверим модели на тестовой выборке"
      ]
    },
    {
      "cell_type": "code",
      "execution_count": null,
      "metadata": {
        "id": "9BeNE6N3NSZg",
        "outputId": "da74d399-0b77-4f00-f584-49400355fefb"
      },
      "outputs": [
        {
          "name": "stdout",
          "output_type": "stream",
          "text": [
            "RMSE = 1746.9085755846195 Время предсказания: 0.5116837024688721\n",
            "CPU times: user 27.7 s, sys: 272 ms, total: 28 s\n",
            "Wall time: 28.2 s\n"
          ]
        }
      ],
      "source": [
        "%%time\n",
        "\n",
        "lgbm = LGBMRegressor(max_depth=8, n_estimators=100, random_state=12345)\n",
        "lgbm.fit(features_train, target_train)\n",
        "start = time.time()\n",
        "predictions = lgbm.predict(features_test)\n",
        "predict_time = time.time() - start\n",
        "\n",
        "rmse = mean_squared_error(target_test, predictions)**0.5\n",
        "print('RMSE =', rmse, 'Время предсказания:', predict_time)"
      ]
    },
    {
      "cell_type": "code",
      "execution_count": null,
      "metadata": {
        "id": "6PGA-XUBNSZg",
        "outputId": "177ac143-4666-4405-b1b3-ad35c89e7258"
      },
      "outputs": [
        {
          "name": "stdout",
          "output_type": "stream",
          "text": [
            "RMSE = 2640.391473753139 Время предсказания: 0.10240745544433594\n",
            "CPU times: user 9.7 s, sys: 5.15 s, total: 14.9 s\n",
            "Wall time: 14.9 s\n"
          ]
        }
      ],
      "source": [
        "%%time\n",
        "lr = LinearRegression()\n",
        "lr.fit(features_train, target_train)\n",
        "start = time.time()\n",
        "predictions = lr.predict(features_test)\n",
        "predict_time = time.time() - start\n",
        "\n",
        "rmse = mean_squared_error(target_test, predictions)**0.5\n",
        "print('RMSE =', rmse, 'Время предсказания:', predict_time)"
      ]
    },
    {
      "cell_type": "code",
      "execution_count": null,
      "metadata": {
        "scrolled": true,
        "id": "Pthoi95CNSZh",
        "outputId": "87f917c6-cd93-43c1-ef87-8201516f1e8a"
      },
      "outputs": [
        {
          "name": "stdout",
          "output_type": "stream",
          "text": [
            "Learning rate set to 0.5\n",
            "0:\tlearn: 3237.0929034\ttotal: 21.1ms\tremaining: 2.09s\n",
            "1:\tlearn: 2601.7837460\ttotal: 42.2ms\tremaining: 2.07s\n",
            "2:\tlearn: 2303.9821511\ttotal: 70.9ms\tremaining: 2.29s\n",
            "3:\tlearn: 2149.9076250\ttotal: 91.1ms\tremaining: 2.19s\n",
            "4:\tlearn: 2066.7772592\ttotal: 111ms\tremaining: 2.11s\n",
            "5:\tlearn: 2004.0755271\ttotal: 131ms\tremaining: 2.05s\n",
            "6:\tlearn: 1970.8827648\ttotal: 157ms\tremaining: 2.08s\n",
            "7:\tlearn: 1943.9194662\ttotal: 177ms\tremaining: 2.03s\n",
            "8:\tlearn: 1921.8769063\ttotal: 196ms\tremaining: 1.98s\n",
            "9:\tlearn: 1896.6138252\ttotal: 218ms\tremaining: 1.97s\n",
            "10:\tlearn: 1879.4909772\ttotal: 239ms\tremaining: 1.93s\n",
            "11:\tlearn: 1866.6985294\ttotal: 268ms\tremaining: 1.96s\n",
            "12:\tlearn: 1858.3186239\ttotal: 287ms\tremaining: 1.92s\n",
            "13:\tlearn: 1846.9959394\ttotal: 306ms\tremaining: 1.88s\n",
            "14:\tlearn: 1838.9244973\ttotal: 325ms\tremaining: 1.84s\n",
            "15:\tlearn: 1831.9844270\ttotal: 350ms\tremaining: 1.84s\n",
            "16:\tlearn: 1818.2007588\ttotal: 371ms\tremaining: 1.81s\n",
            "17:\tlearn: 1814.0304505\ttotal: 389ms\tremaining: 1.77s\n",
            "18:\tlearn: 1802.1514558\ttotal: 409ms\tremaining: 1.74s\n",
            "19:\tlearn: 1794.6159141\ttotal: 430ms\tremaining: 1.72s\n",
            "20:\tlearn: 1788.0001212\ttotal: 457ms\tremaining: 1.72s\n",
            "21:\tlearn: 1783.3041601\ttotal: 478ms\tremaining: 1.69s\n",
            "22:\tlearn: 1778.5318008\ttotal: 498ms\tremaining: 1.67s\n",
            "23:\tlearn: 1767.5908233\ttotal: 519ms\tremaining: 1.64s\n",
            "24:\tlearn: 1762.9651310\ttotal: 546ms\tremaining: 1.64s\n",
            "25:\tlearn: 1757.0457023\ttotal: 565ms\tremaining: 1.61s\n",
            "26:\tlearn: 1749.9475324\ttotal: 584ms\tremaining: 1.58s\n",
            "27:\tlearn: 1744.7194408\ttotal: 603ms\tremaining: 1.55s\n",
            "28:\tlearn: 1737.5054520\ttotal: 624ms\tremaining: 1.53s\n",
            "29:\tlearn: 1732.7940417\ttotal: 650ms\tremaining: 1.52s\n",
            "30:\tlearn: 1728.9896241\ttotal: 668ms\tremaining: 1.49s\n",
            "31:\tlearn: 1726.7633441\ttotal: 686ms\tremaining: 1.46s\n",
            "32:\tlearn: 1724.3427611\ttotal: 704ms\tremaining: 1.43s\n",
            "33:\tlearn: 1720.0274475\ttotal: 724ms\tremaining: 1.41s\n",
            "34:\tlearn: 1715.1773591\ttotal: 750ms\tremaining: 1.39s\n",
            "35:\tlearn: 1710.5681177\ttotal: 770ms\tremaining: 1.37s\n",
            "36:\tlearn: 1705.3986566\ttotal: 791ms\tremaining: 1.35s\n",
            "37:\tlearn: 1701.2126014\ttotal: 811ms\tremaining: 1.32s\n",
            "38:\tlearn: 1698.7579122\ttotal: 838ms\tremaining: 1.31s\n",
            "39:\tlearn: 1695.3296639\ttotal: 861ms\tremaining: 1.29s\n",
            "40:\tlearn: 1690.6296934\ttotal: 881ms\tremaining: 1.27s\n",
            "41:\tlearn: 1687.4946687\ttotal: 901ms\tremaining: 1.24s\n",
            "42:\tlearn: 1684.6401452\ttotal: 923ms\tremaining: 1.22s\n",
            "43:\tlearn: 1680.8661867\ttotal: 949ms\tremaining: 1.21s\n",
            "44:\tlearn: 1677.2847396\ttotal: 970ms\tremaining: 1.19s\n",
            "45:\tlearn: 1673.6976512\ttotal: 989ms\tremaining: 1.16s\n",
            "46:\tlearn: 1671.6288821\ttotal: 1.01s\tremaining: 1.14s\n",
            "47:\tlearn: 1669.6364934\ttotal: 1.03s\tremaining: 1.12s\n",
            "48:\tlearn: 1667.2571955\ttotal: 1.05s\tremaining: 1.1s\n",
            "49:\tlearn: 1664.8225507\ttotal: 1.07s\tremaining: 1.07s\n",
            "50:\tlearn: 1662.6984615\ttotal: 1.09s\tremaining: 1.05s\n",
            "51:\tlearn: 1659.5022302\ttotal: 1.12s\tremaining: 1.03s\n",
            "52:\tlearn: 1658.6637148\ttotal: 1.14s\tremaining: 1.01s\n",
            "53:\tlearn: 1656.5222111\ttotal: 1.16s\tremaining: 986ms\n",
            "54:\tlearn: 1653.8191230\ttotal: 1.18s\tremaining: 963ms\n",
            "55:\tlearn: 1652.0335663\ttotal: 1.2s\tremaining: 940ms\n",
            "56:\tlearn: 1649.9664005\ttotal: 1.23s\tremaining: 926ms\n",
            "57:\tlearn: 1646.6663494\ttotal: 1.25s\tremaining: 903ms\n",
            "58:\tlearn: 1643.7460271\ttotal: 1.26s\tremaining: 879ms\n",
            "59:\tlearn: 1642.3333129\ttotal: 1.28s\tremaining: 856ms\n",
            "60:\tlearn: 1639.4379504\ttotal: 1.31s\tremaining: 837ms\n",
            "61:\tlearn: 1637.6218692\ttotal: 1.33s\tremaining: 817ms\n",
            "62:\tlearn: 1635.9057602\ttotal: 1.35s\tremaining: 794ms\n",
            "63:\tlearn: 1633.3082568\ttotal: 1.37s\tremaining: 771ms\n",
            "64:\tlearn: 1630.3060977\ttotal: 1.39s\tremaining: 749ms\n",
            "65:\tlearn: 1627.9338392\ttotal: 1.42s\tremaining: 731ms\n",
            "66:\tlearn: 1626.6307658\ttotal: 1.44s\tremaining: 708ms\n",
            "67:\tlearn: 1624.5423032\ttotal: 1.46s\tremaining: 687ms\n",
            "68:\tlearn: 1622.4320056\ttotal: 1.48s\tremaining: 665ms\n",
            "69:\tlearn: 1621.1648659\ttotal: 1.5s\tremaining: 644ms\n",
            "70:\tlearn: 1619.7803017\ttotal: 1.52s\tremaining: 623ms\n",
            "71:\tlearn: 1617.6270888\ttotal: 1.55s\tremaining: 602ms\n",
            "72:\tlearn: 1615.7709981\ttotal: 1.57s\tremaining: 580ms\n",
            "73:\tlearn: 1613.7148747\ttotal: 1.59s\tremaining: 558ms\n",
            "74:\tlearn: 1612.0202016\ttotal: 1.62s\tremaining: 539ms\n",
            "75:\tlearn: 1610.8479651\ttotal: 1.64s\tremaining: 517ms\n",
            "76:\tlearn: 1609.7291525\ttotal: 1.66s\tremaining: 495ms\n",
            "77:\tlearn: 1608.8387384\ttotal: 1.68s\tremaining: 473ms\n",
            "78:\tlearn: 1606.9644719\ttotal: 1.7s\tremaining: 453ms\n",
            "79:\tlearn: 1605.2672306\ttotal: 1.72s\tremaining: 431ms\n",
            "80:\tlearn: 1603.5158399\ttotal: 1.74s\tremaining: 409ms\n",
            "81:\tlearn: 1602.4620893\ttotal: 1.76s\tremaining: 387ms\n",
            "82:\tlearn: 1601.1300998\ttotal: 1.78s\tremaining: 365ms\n",
            "83:\tlearn: 1599.1450569\ttotal: 1.81s\tremaining: 345ms\n",
            "84:\tlearn: 1597.2683358\ttotal: 1.83s\tremaining: 323ms\n",
            "85:\tlearn: 1595.4988644\ttotal: 1.85s\tremaining: 302ms\n",
            "86:\tlearn: 1594.2369127\ttotal: 1.87s\tremaining: 280ms\n",
            "87:\tlearn: 1593.4681528\ttotal: 1.9s\tremaining: 259ms\n",
            "88:\tlearn: 1592.0246318\ttotal: 1.92s\tremaining: 238ms\n",
            "89:\tlearn: 1591.1723146\ttotal: 1.94s\tremaining: 216ms\n",
            "90:\tlearn: 1589.9962222\ttotal: 1.96s\tremaining: 194ms\n",
            "91:\tlearn: 1588.5291882\ttotal: 1.98s\tremaining: 172ms\n",
            "92:\tlearn: 1586.5484487\ttotal: 2.01s\tremaining: 151ms\n",
            "93:\tlearn: 1585.2125363\ttotal: 2.03s\tremaining: 129ms\n",
            "94:\tlearn: 1582.5834293\ttotal: 2.05s\tremaining: 108ms\n",
            "95:\tlearn: 1581.3936965\ttotal: 2.07s\tremaining: 86.2ms\n",
            "96:\tlearn: 1580.1359074\ttotal: 2.1s\tremaining: 64.9ms\n",
            "97:\tlearn: 1578.6481255\ttotal: 2.12s\tremaining: 43.2ms\n",
            "98:\tlearn: 1577.9092425\ttotal: 2.14s\tremaining: 21.6ms\n",
            "99:\tlearn: 1576.6311653\ttotal: 2.16s\tremaining: 0us\n",
            "RMSE = 1675.2550329014393 Время предсказания: 0.04649853706359863\n",
            "CPU times: user 3.14 s, sys: 42 ms, total: 3.18 s\n",
            "Wall time: 3.73 s\n"
          ]
        }
      ],
      "source": [
        "%%time\n",
        "catboost = CatBoostRegressor(depth=8, iterations=100, random_state=12345)\n",
        "catboost.fit(features_train, target_train)\n",
        "start = time.time()\n",
        "predictions = catboost.predict(features_test)\n",
        "predict_time = time.time() - start\n",
        "\n",
        "rmse = mean_squared_error(target_test, predictions)**0.5\n",
        "print('RMSE =', rmse, 'Время предсказания:', predict_time)"
      ]
    },
    {
      "cell_type": "markdown",
      "metadata": {
        "id": "dFuQEMH-NSZh"
      },
      "source": [
        "## Вывод"
      ]
    },
    {
      "cell_type": "code",
      "execution_count": null,
      "metadata": {
        "id": "q1Ja9DFnNSZh",
        "outputId": "17c2e1f5-792b-466e-8ab1-80c4383452a2"
      },
      "outputs": [
        {
          "data": {
            "text/html": [
              "<div>\n",
              "<style scoped>\n",
              "    .dataframe tbody tr th:only-of-type {\n",
              "        vertical-align: middle;\n",
              "    }\n",
              "\n",
              "    .dataframe tbody tr th {\n",
              "        vertical-align: top;\n",
              "    }\n",
              "\n",
              "    .dataframe thead th {\n",
              "        text-align: right;\n",
              "    }\n",
              "</style>\n",
              "<table border=\"1\" class=\"dataframe\">\n",
              "  <thead>\n",
              "    <tr style=\"text-align: right;\">\n",
              "      <th></th>\n",
              "      <th>model</th>\n",
              "      <th>rmse</th>\n",
              "      <th>fit_time</th>\n",
              "      <th>predict_time</th>\n",
              "    </tr>\n",
              "  </thead>\n",
              "  <tbody>\n",
              "    <tr>\n",
              "      <th>0</th>\n",
              "      <td>Линейная регрессия</td>\n",
              "      <td>2640</td>\n",
              "      <td>30.1s</td>\n",
              "      <td>14.9s</td>\n",
              "    </tr>\n",
              "    <tr>\n",
              "      <th>1</th>\n",
              "      <td>LightGBM</td>\n",
              "      <td>1746</td>\n",
              "      <td>4.0s</td>\n",
              "      <td>0.5s</td>\n",
              "    </tr>\n",
              "    <tr>\n",
              "      <th>2</th>\n",
              "      <td>CatBoost</td>\n",
              "      <td>1675</td>\n",
              "      <td>3.5s</td>\n",
              "      <td>0.04s</td>\n",
              "    </tr>\n",
              "  </tbody>\n",
              "</table>\n",
              "</div>"
            ],
            "text/plain": [
              "                model  rmse fit_time predict_time\n",
              "0  Линейная регрессия  2640    30.1s        14.9s\n",
              "1            LightGBM  1746     4.0s         0.5s\n",
              "2            CatBoost  1675     3.5s        0.04s"
            ]
          },
          "execution_count": 62,
          "metadata": {},
          "output_type": "execute_result"
        }
      ],
      "source": [
        "results = {'model': ['Линейная регрессия', 'LightGBM','CatBoost'],\n",
        "           'rmse': [2640, 1746, 1675],\n",
        "           'fit_time': ['30.1s','4.0s','3.5s'],\n",
        "           'predict_time': ['14.9s','0.5s','0.04s']\n",
        "          }\n",
        "results = pd.DataFrame(data=results)\n",
        "results"
      ]
    },
    {
      "cell_type": "markdown",
      "metadata": {
        "id": "b2-VV4h-NSZi"
      },
      "source": [
        "1. Наиболее быстрой и качественной показала себя модель CatBoostRegressor. (время обучения 3.5 сек, время предсказания 0.04 сек и RMSE=1675)\n",
        "2. На втором месте модель LGBMRegressor (время обучения 4 сек, время предсказания 0.5 сек и RSME=1746)\n",
        "3. Самой долгой и некачественной у меня получилась модель линейной регрессии: она отработала за 12.8 сек и не смогла получить необходимый размер метрики ни на валидационной выборке, ни на тестовой (2734 вместо требуемых 2500)"
      ]
    }
  ],
  "metadata": {
    "ExecuteTimeLog": [
      {
        "duration": 105,
        "start_time": "2022-07-13T20:23:42.747Z"
      },
      {
        "duration": 1064,
        "start_time": "2022-07-13T20:39:25.958Z"
      },
      {
        "duration": 1051,
        "start_time": "2022-07-13T20:39:27.024Z"
      },
      {
        "duration": 22,
        "start_time": "2022-07-13T20:40:14.952Z"
      },
      {
        "duration": 125,
        "start_time": "2022-07-13T20:40:31.477Z"
      },
      {
        "duration": 87,
        "start_time": "2022-07-13T20:40:34.832Z"
      },
      {
        "duration": 39,
        "start_time": "2022-07-14T09:09:02.340Z"
      },
      {
        "duration": 1217,
        "start_time": "2022-07-14T09:09:15.201Z"
      },
      {
        "duration": 2812,
        "start_time": "2022-07-14T09:09:16.420Z"
      },
      {
        "duration": 20,
        "start_time": "2022-07-14T09:09:19.233Z"
      },
      {
        "duration": 94,
        "start_time": "2022-07-14T09:09:19.255Z"
      },
      {
        "duration": 90,
        "start_time": "2022-07-14T09:09:19.351Z"
      },
      {
        "duration": 3,
        "start_time": "2022-07-14T09:09:23.320Z"
      },
      {
        "duration": 4,
        "start_time": "2022-07-14T09:09:26.363Z"
      },
      {
        "duration": 22,
        "start_time": "2022-07-14T09:17:36.551Z"
      },
      {
        "duration": 86,
        "start_time": "2022-07-14T09:17:46.756Z"
      },
      {
        "duration": 986,
        "start_time": "2022-07-14T09:17:57.243Z"
      },
      {
        "duration": 651,
        "start_time": "2022-07-14T09:17:58.230Z"
      },
      {
        "duration": 23,
        "start_time": "2022-07-14T09:17:58.883Z"
      },
      {
        "duration": 103,
        "start_time": "2022-07-14T09:17:58.908Z"
      },
      {
        "duration": 78,
        "start_time": "2022-07-14T09:17:59.012Z"
      },
      {
        "duration": 3,
        "start_time": "2022-07-14T09:17:59.102Z"
      },
      {
        "duration": 7,
        "start_time": "2022-07-14T09:17:59.107Z"
      },
      {
        "duration": 22,
        "start_time": "2022-07-14T09:17:59.115Z"
      },
      {
        "duration": 86,
        "start_time": "2022-07-14T09:17:59.139Z"
      },
      {
        "duration": 0,
        "start_time": "2022-07-14T09:17:59.227Z"
      },
      {
        "duration": 0,
        "start_time": "2022-07-14T09:17:59.228Z"
      },
      {
        "duration": 0,
        "start_time": "2022-07-14T09:17:59.229Z"
      },
      {
        "duration": 0,
        "start_time": "2022-07-14T09:17:59.230Z"
      },
      {
        "duration": 0,
        "start_time": "2022-07-14T09:17:59.231Z"
      },
      {
        "duration": 0,
        "start_time": "2022-07-14T09:17:59.232Z"
      },
      {
        "duration": 0,
        "start_time": "2022-07-14T09:17:59.233Z"
      },
      {
        "duration": 0,
        "start_time": "2022-07-14T09:17:59.234Z"
      },
      {
        "duration": 0,
        "start_time": "2022-07-14T09:17:59.235Z"
      },
      {
        "duration": 0,
        "start_time": "2022-07-14T09:17:59.236Z"
      },
      {
        "duration": 117,
        "start_time": "2022-07-14T09:18:30.196Z"
      },
      {
        "duration": 916,
        "start_time": "2022-07-14T09:18:36.458Z"
      },
      {
        "duration": 681,
        "start_time": "2022-07-14T09:18:37.377Z"
      },
      {
        "duration": 18,
        "start_time": "2022-07-14T09:18:38.059Z"
      },
      {
        "duration": 104,
        "start_time": "2022-07-14T09:18:38.078Z"
      },
      {
        "duration": 93,
        "start_time": "2022-07-14T09:18:38.184Z"
      },
      {
        "duration": 3,
        "start_time": "2022-07-14T09:18:38.279Z"
      },
      {
        "duration": 23,
        "start_time": "2022-07-14T09:18:38.284Z"
      },
      {
        "duration": 84,
        "start_time": "2022-07-14T09:18:38.308Z"
      },
      {
        "duration": 75,
        "start_time": "2022-07-14T09:18:38.394Z"
      },
      {
        "duration": 0,
        "start_time": "2022-07-14T09:18:38.471Z"
      },
      {
        "duration": 0,
        "start_time": "2022-07-14T09:18:38.472Z"
      },
      {
        "duration": 0,
        "start_time": "2022-07-14T09:18:38.473Z"
      },
      {
        "duration": 0,
        "start_time": "2022-07-14T09:18:38.474Z"
      },
      {
        "duration": 0,
        "start_time": "2022-07-14T09:18:38.475Z"
      },
      {
        "duration": 0,
        "start_time": "2022-07-14T09:18:38.476Z"
      },
      {
        "duration": 0,
        "start_time": "2022-07-14T09:18:38.477Z"
      },
      {
        "duration": 0,
        "start_time": "2022-07-14T09:18:38.478Z"
      },
      {
        "duration": 0,
        "start_time": "2022-07-14T09:18:38.478Z"
      },
      {
        "duration": 0,
        "start_time": "2022-07-14T09:18:38.479Z"
      },
      {
        "duration": 80,
        "start_time": "2022-07-14T09:23:00.040Z"
      },
      {
        "duration": 3,
        "start_time": "2022-07-14T09:24:57.273Z"
      },
      {
        "duration": 86,
        "start_time": "2022-07-14T09:25:06.172Z"
      },
      {
        "duration": 69,
        "start_time": "2022-07-14T09:25:11.998Z"
      },
      {
        "duration": 90,
        "start_time": "2022-07-14T09:28:45.500Z"
      },
      {
        "duration": 71,
        "start_time": "2022-07-14T09:28:51.037Z"
      },
      {
        "duration": 68,
        "start_time": "2022-07-14T09:29:56.000Z"
      },
      {
        "duration": 68,
        "start_time": "2022-07-14T09:30:08.656Z"
      },
      {
        "duration": 1061,
        "start_time": "2022-07-14T09:46:06.580Z"
      },
      {
        "duration": 1056,
        "start_time": "2022-07-14T09:46:07.644Z"
      },
      {
        "duration": 28,
        "start_time": "2022-07-14T09:46:08.702Z"
      },
      {
        "duration": 153,
        "start_time": "2022-07-14T09:46:08.732Z"
      },
      {
        "duration": 96,
        "start_time": "2022-07-14T09:46:08.887Z"
      },
      {
        "duration": 4,
        "start_time": "2022-07-14T09:46:08.984Z"
      },
      {
        "duration": 14,
        "start_time": "2022-07-14T09:46:08.989Z"
      },
      {
        "duration": 117,
        "start_time": "2022-07-14T09:46:09.005Z"
      },
      {
        "duration": 83,
        "start_time": "2022-07-14T09:46:09.124Z"
      },
      {
        "duration": 127,
        "start_time": "2022-07-14T09:46:09.209Z"
      },
      {
        "duration": 59,
        "start_time": "2022-07-14T09:46:09.338Z"
      },
      {
        "duration": 0,
        "start_time": "2022-07-14T09:46:09.399Z"
      },
      {
        "duration": 0,
        "start_time": "2022-07-14T09:46:09.400Z"
      },
      {
        "duration": 0,
        "start_time": "2022-07-14T09:46:09.401Z"
      },
      {
        "duration": 0,
        "start_time": "2022-07-14T09:46:09.402Z"
      },
      {
        "duration": 0,
        "start_time": "2022-07-14T09:46:09.403Z"
      },
      {
        "duration": 0,
        "start_time": "2022-07-14T09:46:09.404Z"
      },
      {
        "duration": 1,
        "start_time": "2022-07-14T09:46:09.405Z"
      },
      {
        "duration": 0,
        "start_time": "2022-07-14T09:46:09.407Z"
      },
      {
        "duration": 0,
        "start_time": "2022-07-14T09:46:09.408Z"
      },
      {
        "duration": 48,
        "start_time": "2022-07-14T10:35:52.365Z"
      },
      {
        "duration": 55,
        "start_time": "2022-07-14T11:49:27.776Z"
      },
      {
        "duration": 55,
        "start_time": "2022-07-14T11:49:39.360Z"
      },
      {
        "duration": 368,
        "start_time": "2022-07-14T11:53:40.060Z"
      },
      {
        "duration": 332,
        "start_time": "2022-07-14T11:54:21.658Z"
      },
      {
        "duration": 1246,
        "start_time": "2022-07-14T11:56:46.657Z"
      },
      {
        "duration": 823,
        "start_time": "2022-07-14T11:56:47.904Z"
      },
      {
        "duration": 21,
        "start_time": "2022-07-14T11:56:48.729Z"
      },
      {
        "duration": 135,
        "start_time": "2022-07-14T11:56:48.751Z"
      },
      {
        "duration": 103,
        "start_time": "2022-07-14T11:56:48.888Z"
      },
      {
        "duration": 4,
        "start_time": "2022-07-14T11:56:48.992Z"
      },
      {
        "duration": 8,
        "start_time": "2022-07-14T11:56:48.998Z"
      },
      {
        "duration": 133,
        "start_time": "2022-07-14T11:56:49.007Z"
      },
      {
        "duration": 89,
        "start_time": "2022-07-14T11:56:49.142Z"
      },
      {
        "duration": 139,
        "start_time": "2022-07-14T11:56:49.232Z"
      },
      {
        "duration": 361,
        "start_time": "2022-07-14T11:56:49.373Z"
      },
      {
        "duration": 349,
        "start_time": "2022-07-14T11:56:49.736Z"
      },
      {
        "duration": 381,
        "start_time": "2022-07-14T11:56:50.087Z"
      },
      {
        "duration": 79,
        "start_time": "2022-07-14T11:56:50.471Z"
      },
      {
        "duration": 59,
        "start_time": "2022-07-14T11:56:50.552Z"
      },
      {
        "duration": 0,
        "start_time": "2022-07-14T11:56:50.613Z"
      },
      {
        "duration": 0,
        "start_time": "2022-07-14T11:56:50.615Z"
      },
      {
        "duration": 0,
        "start_time": "2022-07-14T11:56:50.616Z"
      },
      {
        "duration": 0,
        "start_time": "2022-07-14T11:56:50.618Z"
      },
      {
        "duration": 0,
        "start_time": "2022-07-14T11:56:50.619Z"
      },
      {
        "duration": 0,
        "start_time": "2022-07-14T11:56:50.620Z"
      },
      {
        "duration": 0,
        "start_time": "2022-07-14T11:56:50.622Z"
      },
      {
        "duration": 0,
        "start_time": "2022-07-14T11:56:50.623Z"
      },
      {
        "duration": 17,
        "start_time": "2022-07-14T13:07:04.753Z"
      },
      {
        "duration": 43,
        "start_time": "2022-07-14T13:07:30.311Z"
      },
      {
        "duration": 81,
        "start_time": "2022-07-14T13:07:33.641Z"
      },
      {
        "duration": 89,
        "start_time": "2022-07-14T13:09:50.237Z"
      },
      {
        "duration": 1441,
        "start_time": "2022-07-14T13:10:01.162Z"
      },
      {
        "duration": 1369,
        "start_time": "2022-07-14T13:11:12.769Z"
      },
      {
        "duration": 4,
        "start_time": "2022-07-14T13:16:18.169Z"
      },
      {
        "duration": 804,
        "start_time": "2022-07-14T13:16:27.069Z"
      },
      {
        "duration": 58,
        "start_time": "2022-07-14T13:20:38.865Z"
      },
      {
        "duration": 144,
        "start_time": "2022-07-14T13:40:04.622Z"
      },
      {
        "duration": 288,
        "start_time": "2022-07-14T13:40:38.525Z"
      },
      {
        "duration": 10,
        "start_time": "2022-07-14T14:03:18.753Z"
      },
      {
        "duration": 1570,
        "start_time": "2022-07-14T14:03:52.731Z"
      },
      {
        "duration": 836,
        "start_time": "2022-07-14T14:03:54.303Z"
      },
      {
        "duration": 22,
        "start_time": "2022-07-14T14:03:55.143Z"
      },
      {
        "duration": 139,
        "start_time": "2022-07-14T14:03:55.167Z"
      },
      {
        "duration": 101,
        "start_time": "2022-07-14T14:03:55.307Z"
      },
      {
        "duration": 4,
        "start_time": "2022-07-14T14:03:55.409Z"
      },
      {
        "duration": 8,
        "start_time": "2022-07-14T14:03:55.415Z"
      },
      {
        "duration": 118,
        "start_time": "2022-07-14T14:03:55.425Z"
      },
      {
        "duration": 118,
        "start_time": "2022-07-14T14:03:55.545Z"
      },
      {
        "duration": 133,
        "start_time": "2022-07-14T14:03:55.665Z"
      },
      {
        "duration": 352,
        "start_time": "2022-07-14T14:03:55.800Z"
      },
      {
        "duration": 340,
        "start_time": "2022-07-14T14:03:56.154Z"
      },
      {
        "duration": 411,
        "start_time": "2022-07-14T14:03:56.497Z"
      },
      {
        "duration": 81,
        "start_time": "2022-07-14T14:03:56.910Z"
      },
      {
        "duration": 49,
        "start_time": "2022-07-14T14:03:56.993Z"
      },
      {
        "duration": 84,
        "start_time": "2022-07-14T14:03:57.043Z"
      },
      {
        "duration": 64,
        "start_time": "2022-07-14T14:03:57.128Z"
      },
      {
        "duration": 149,
        "start_time": "2022-07-14T14:03:57.193Z"
      },
      {
        "duration": 338,
        "start_time": "2022-07-14T14:03:57.343Z"
      },
      {
        "duration": 280,
        "start_time": "2022-07-14T14:03:57.683Z"
      },
      {
        "duration": 244,
        "start_time": "2022-07-14T14:04:13.979Z"
      },
      {
        "duration": 650,
        "start_time": "2022-07-14T14:04:20.723Z"
      },
      {
        "duration": 605,
        "start_time": "2022-07-14T14:05:41.658Z"
      },
      {
        "duration": 5683,
        "start_time": "2022-07-14T14:06:06.297Z"
      },
      {
        "duration": 1417,
        "start_time": "2022-07-14T14:06:29.803Z"
      },
      {
        "duration": 851,
        "start_time": "2022-07-14T14:06:31.221Z"
      },
      {
        "duration": 18,
        "start_time": "2022-07-14T14:06:32.073Z"
      },
      {
        "duration": 142,
        "start_time": "2022-07-14T14:06:32.092Z"
      },
      {
        "duration": 90,
        "start_time": "2022-07-14T14:06:32.236Z"
      },
      {
        "duration": 4,
        "start_time": "2022-07-14T14:06:32.327Z"
      },
      {
        "duration": 26,
        "start_time": "2022-07-14T14:06:32.332Z"
      },
      {
        "duration": 116,
        "start_time": "2022-07-14T14:06:32.359Z"
      },
      {
        "duration": 116,
        "start_time": "2022-07-14T14:06:32.477Z"
      },
      {
        "duration": 172,
        "start_time": "2022-07-14T14:06:32.596Z"
      },
      {
        "duration": 340,
        "start_time": "2022-07-14T14:06:32.770Z"
      },
      {
        "duration": 342,
        "start_time": "2022-07-14T14:06:33.111Z"
      },
      {
        "duration": 328,
        "start_time": "2022-07-14T14:06:33.454Z"
      },
      {
        "duration": 86,
        "start_time": "2022-07-14T14:06:33.783Z"
      },
      {
        "duration": 45,
        "start_time": "2022-07-14T14:06:33.870Z"
      },
      {
        "duration": 87,
        "start_time": "2022-07-14T14:06:33.916Z"
      },
      {
        "duration": 59,
        "start_time": "2022-07-14T14:06:34.005Z"
      },
      {
        "duration": 142,
        "start_time": "2022-07-14T14:06:34.066Z"
      },
      {
        "duration": 295,
        "start_time": "2022-07-14T14:06:34.210Z"
      },
      {
        "duration": 5736,
        "start_time": "2022-07-14T14:06:34.507Z"
      },
      {
        "duration": 4,
        "start_time": "2022-07-14T14:10:15.064Z"
      },
      {
        "duration": 115,
        "start_time": "2022-07-14T14:10:32.728Z"
      },
      {
        "duration": 11,
        "start_time": "2022-07-14T14:10:38.862Z"
      },
      {
        "duration": 9,
        "start_time": "2022-07-14T14:11:05.864Z"
      },
      {
        "duration": 4,
        "start_time": "2022-07-14T14:11:18.448Z"
      },
      {
        "duration": 115,
        "start_time": "2022-07-14T14:11:18.835Z"
      },
      {
        "duration": 4,
        "start_time": "2022-07-14T14:12:30.943Z"
      },
      {
        "duration": 115,
        "start_time": "2022-07-14T14:12:31.150Z"
      },
      {
        "duration": 228,
        "start_time": "2022-07-14T14:12:43.173Z"
      },
      {
        "duration": 4,
        "start_time": "2022-07-14T14:12:53.203Z"
      },
      {
        "duration": 149,
        "start_time": "2022-07-14T14:12:54.168Z"
      },
      {
        "duration": 4,
        "start_time": "2022-07-14T14:13:02.953Z"
      },
      {
        "duration": 140,
        "start_time": "2022-07-14T14:13:03.580Z"
      },
      {
        "duration": 143,
        "start_time": "2022-07-14T14:13:30.880Z"
      },
      {
        "duration": 7,
        "start_time": "2022-07-14T14:37:26.836Z"
      },
      {
        "duration": 58,
        "start_time": "2022-07-14T14:38:05.955Z"
      },
      {
        "duration": 1341,
        "start_time": "2022-07-14T15:39:59.937Z"
      },
      {
        "duration": 151,
        "start_time": "2022-07-14T15:40:01.591Z"
      },
      {
        "duration": 10,
        "start_time": "2022-07-14T15:42:49.003Z"
      },
      {
        "duration": 1485,
        "start_time": "2022-07-14T15:43:36.957Z"
      },
      {
        "duration": 1044,
        "start_time": "2022-07-14T15:43:38.444Z"
      },
      {
        "duration": 19,
        "start_time": "2022-07-14T15:43:39.493Z"
      },
      {
        "duration": 182,
        "start_time": "2022-07-14T15:43:39.513Z"
      },
      {
        "duration": 119,
        "start_time": "2022-07-14T15:43:39.697Z"
      },
      {
        "duration": 3,
        "start_time": "2022-07-14T15:43:39.818Z"
      },
      {
        "duration": 19,
        "start_time": "2022-07-14T15:43:39.823Z"
      },
      {
        "duration": 143,
        "start_time": "2022-07-14T15:43:39.844Z"
      },
      {
        "duration": 96,
        "start_time": "2022-07-14T15:43:39.989Z"
      },
      {
        "duration": 163,
        "start_time": "2022-07-14T15:43:40.087Z"
      },
      {
        "duration": 474,
        "start_time": "2022-07-14T15:43:40.252Z"
      },
      {
        "duration": 421,
        "start_time": "2022-07-14T15:43:40.728Z"
      },
      {
        "duration": 400,
        "start_time": "2022-07-14T15:43:41.152Z"
      },
      {
        "duration": 96,
        "start_time": "2022-07-14T15:43:41.553Z"
      },
      {
        "duration": 71,
        "start_time": "2022-07-14T15:43:41.651Z"
      },
      {
        "duration": 100,
        "start_time": "2022-07-14T15:43:41.724Z"
      },
      {
        "duration": 73,
        "start_time": "2022-07-14T15:43:41.826Z"
      },
      {
        "duration": 169,
        "start_time": "2022-07-14T15:43:41.900Z"
      },
      {
        "duration": 371,
        "start_time": "2022-07-14T15:43:42.071Z"
      },
      {
        "duration": 5,
        "start_time": "2022-07-14T15:43:42.444Z"
      },
      {
        "duration": 72,
        "start_time": "2022-07-14T15:43:42.451Z"
      },
      {
        "duration": 1310,
        "start_time": "2022-07-14T15:43:42.526Z"
      },
      {
        "duration": 136,
        "start_time": "2022-07-14T15:43:43.838Z"
      },
      {
        "duration": 141,
        "start_time": "2022-07-14T15:43:43.977Z"
      },
      {
        "duration": 0,
        "start_time": "2022-07-14T15:43:44.120Z"
      },
      {
        "duration": 0,
        "start_time": "2022-07-14T15:43:44.122Z"
      },
      {
        "duration": 40,
        "start_time": "2022-07-14T15:43:50.650Z"
      },
      {
        "duration": 157,
        "start_time": "2022-07-14T15:44:05.669Z"
      },
      {
        "duration": 1308,
        "start_time": "2022-07-14T15:48:54.163Z"
      },
      {
        "duration": 3019,
        "start_time": "2022-07-14T15:49:13.436Z"
      },
      {
        "duration": 3352,
        "start_time": "2022-07-14T15:49:46.825Z"
      },
      {
        "duration": 1757,
        "start_time": "2022-07-14T15:49:56.584Z"
      },
      {
        "duration": 215,
        "start_time": "2022-07-14T15:50:08.799Z"
      },
      {
        "duration": 40,
        "start_time": "2022-07-14T20:39:08.467Z"
      },
      {
        "duration": 28,
        "start_time": "2022-07-14T20:39:16.087Z"
      },
      {
        "duration": 215,
        "start_time": "2022-07-14T20:39:32.462Z"
      },
      {
        "duration": 853,
        "start_time": "2022-07-14T20:46:25.568Z"
      },
      {
        "duration": 667,
        "start_time": "2022-07-14T20:46:46.911Z"
      },
      {
        "duration": 6,
        "start_time": "2022-07-14T20:47:05.607Z"
      },
      {
        "duration": 47,
        "start_time": "2022-07-14T20:47:06.905Z"
      },
      {
        "duration": 1132,
        "start_time": "2022-07-14T20:47:07.690Z"
      },
      {
        "duration": 146,
        "start_time": "2022-07-14T20:47:08.824Z"
      },
      {
        "duration": 8,
        "start_time": "2022-07-14T20:47:20.735Z"
      },
      {
        "duration": 47,
        "start_time": "2022-07-14T20:47:21.266Z"
      },
      {
        "duration": 1090,
        "start_time": "2022-07-14T20:47:23.950Z"
      },
      {
        "duration": 6,
        "start_time": "2022-07-14T20:47:33.369Z"
      },
      {
        "duration": 50,
        "start_time": "2022-07-14T20:47:33.657Z"
      },
      {
        "duration": 1147,
        "start_time": "2022-07-14T20:47:35.273Z"
      },
      {
        "duration": 1300,
        "start_time": "2022-07-14T20:47:46.316Z"
      },
      {
        "duration": 846,
        "start_time": "2022-07-14T20:47:47.619Z"
      },
      {
        "duration": 18,
        "start_time": "2022-07-14T20:47:48.467Z"
      },
      {
        "duration": 156,
        "start_time": "2022-07-14T20:47:48.487Z"
      },
      {
        "duration": 98,
        "start_time": "2022-07-14T20:47:48.646Z"
      },
      {
        "duration": 4,
        "start_time": "2022-07-14T20:47:48.746Z"
      },
      {
        "duration": 6,
        "start_time": "2022-07-14T20:47:48.765Z"
      },
      {
        "duration": 129,
        "start_time": "2022-07-14T20:47:48.772Z"
      },
      {
        "duration": 89,
        "start_time": "2022-07-14T20:47:48.902Z"
      },
      {
        "duration": 148,
        "start_time": "2022-07-14T20:47:48.992Z"
      },
      {
        "duration": 349,
        "start_time": "2022-07-14T20:47:49.142Z"
      },
      {
        "duration": 358,
        "start_time": "2022-07-14T20:47:49.494Z"
      },
      {
        "duration": 342,
        "start_time": "2022-07-14T20:47:49.853Z"
      },
      {
        "duration": 86,
        "start_time": "2022-07-14T20:47:50.199Z"
      },
      {
        "duration": 48,
        "start_time": "2022-07-14T20:47:50.287Z"
      },
      {
        "duration": 105,
        "start_time": "2022-07-14T20:47:50.337Z"
      },
      {
        "duration": 82,
        "start_time": "2022-07-14T20:47:50.444Z"
      },
      {
        "duration": 163,
        "start_time": "2022-07-14T20:47:50.528Z"
      },
      {
        "duration": 335,
        "start_time": "2022-07-14T20:47:50.692Z"
      },
      {
        "duration": 5,
        "start_time": "2022-07-14T20:47:51.029Z"
      },
      {
        "duration": 72,
        "start_time": "2022-07-14T20:47:51.036Z"
      },
      {
        "duration": 1093,
        "start_time": "2022-07-14T20:47:51.110Z"
      },
      {
        "duration": 145,
        "start_time": "2022-07-14T20:47:52.205Z"
      },
      {
        "duration": 33,
        "start_time": "2022-07-14T20:47:52.351Z"
      },
      {
        "duration": 163,
        "start_time": "2022-07-14T20:47:52.385Z"
      },
      {
        "duration": 1451,
        "start_time": "2022-07-14T20:47:52.551Z"
      },
      {
        "duration": 193,
        "start_time": "2022-07-14T20:47:54.004Z"
      },
      {
        "duration": 857,
        "start_time": "2022-07-14T20:47:54.199Z"
      },
      {
        "duration": 157,
        "start_time": "2022-07-14T20:47:55.058Z"
      },
      {
        "duration": 147,
        "start_time": "2022-07-14T20:47:55.217Z"
      },
      {
        "duration": 1384,
        "start_time": "2022-07-14T20:48:22.729Z"
      },
      {
        "duration": 859,
        "start_time": "2022-07-14T20:48:24.115Z"
      },
      {
        "duration": 19,
        "start_time": "2022-07-14T20:48:24.976Z"
      },
      {
        "duration": 149,
        "start_time": "2022-07-14T20:48:24.997Z"
      },
      {
        "duration": 99,
        "start_time": "2022-07-14T20:48:25.148Z"
      },
      {
        "duration": 18,
        "start_time": "2022-07-14T20:48:25.249Z"
      },
      {
        "duration": 9,
        "start_time": "2022-07-14T20:48:25.270Z"
      },
      {
        "duration": 126,
        "start_time": "2022-07-14T20:48:25.281Z"
      },
      {
        "duration": 81,
        "start_time": "2022-07-14T20:48:25.408Z"
      },
      {
        "duration": 152,
        "start_time": "2022-07-14T20:48:25.491Z"
      },
      {
        "duration": 366,
        "start_time": "2022-07-14T20:48:25.645Z"
      },
      {
        "duration": 349,
        "start_time": "2022-07-14T20:48:26.012Z"
      },
      {
        "duration": 345,
        "start_time": "2022-07-14T20:48:26.363Z"
      },
      {
        "duration": 78,
        "start_time": "2022-07-14T20:48:26.712Z"
      },
      {
        "duration": 46,
        "start_time": "2022-07-14T20:48:26.792Z"
      },
      {
        "duration": 92,
        "start_time": "2022-07-14T20:48:26.840Z"
      },
      {
        "duration": 64,
        "start_time": "2022-07-14T20:48:26.934Z"
      },
      {
        "duration": 164,
        "start_time": "2022-07-14T20:48:27.001Z"
      },
      {
        "duration": 318,
        "start_time": "2022-07-14T20:48:27.166Z"
      },
      {
        "duration": 5,
        "start_time": "2022-07-14T20:48:27.486Z"
      },
      {
        "duration": 56,
        "start_time": "2022-07-14T20:48:27.493Z"
      },
      {
        "duration": 1116,
        "start_time": "2022-07-14T20:48:27.563Z"
      },
      {
        "duration": 143,
        "start_time": "2022-07-14T20:48:28.680Z"
      },
      {
        "duration": 39,
        "start_time": "2022-07-14T20:48:28.825Z"
      },
      {
        "duration": 153,
        "start_time": "2022-07-14T20:48:28.866Z"
      },
      {
        "duration": 1463,
        "start_time": "2022-07-14T20:48:29.021Z"
      },
      {
        "duration": 224,
        "start_time": "2022-07-14T20:48:30.486Z"
      },
      {
        "duration": 980,
        "start_time": "2022-07-14T20:48:30.713Z"
      },
      {
        "duration": 156,
        "start_time": "2022-07-14T20:48:31.694Z"
      },
      {
        "duration": 160,
        "start_time": "2022-07-14T20:48:31.852Z"
      },
      {
        "duration": 1334,
        "start_time": "2022-07-14T20:50:24.100Z"
      },
      {
        "duration": 839,
        "start_time": "2022-07-14T20:50:25.436Z"
      },
      {
        "duration": 20,
        "start_time": "2022-07-14T20:50:26.277Z"
      },
      {
        "duration": 151,
        "start_time": "2022-07-14T20:50:26.299Z"
      },
      {
        "duration": 107,
        "start_time": "2022-07-14T20:50:26.465Z"
      },
      {
        "duration": 5,
        "start_time": "2022-07-14T20:50:26.573Z"
      },
      {
        "duration": 8,
        "start_time": "2022-07-14T20:50:26.579Z"
      },
      {
        "duration": 138,
        "start_time": "2022-07-14T20:50:26.589Z"
      },
      {
        "duration": 95,
        "start_time": "2022-07-14T20:50:26.728Z"
      },
      {
        "duration": 150,
        "start_time": "2022-07-14T20:50:26.825Z"
      },
      {
        "duration": 367,
        "start_time": "2022-07-14T20:50:26.977Z"
      },
      {
        "duration": 345,
        "start_time": "2022-07-14T20:50:27.346Z"
      },
      {
        "duration": 352,
        "start_time": "2022-07-14T20:50:27.693Z"
      },
      {
        "duration": 81,
        "start_time": "2022-07-14T20:50:28.048Z"
      },
      {
        "duration": 53,
        "start_time": "2022-07-14T20:50:28.131Z"
      },
      {
        "duration": 87,
        "start_time": "2022-07-14T20:50:28.185Z"
      },
      {
        "duration": 54,
        "start_time": "2022-07-14T20:50:28.274Z"
      },
      {
        "duration": 167,
        "start_time": "2022-07-14T20:50:28.329Z"
      },
      {
        "duration": 299,
        "start_time": "2022-07-14T20:50:28.498Z"
      },
      {
        "duration": 6,
        "start_time": "2022-07-14T20:50:28.798Z"
      },
      {
        "duration": 61,
        "start_time": "2022-07-14T20:50:28.805Z"
      },
      {
        "duration": 1085,
        "start_time": "2022-07-14T20:50:28.868Z"
      },
      {
        "duration": 150,
        "start_time": "2022-07-14T20:50:29.955Z"
      },
      {
        "duration": 25,
        "start_time": "2022-07-14T20:50:30.107Z"
      },
      {
        "duration": 160,
        "start_time": "2022-07-14T20:50:30.134Z"
      },
      {
        "duration": 1590,
        "start_time": "2022-07-14T20:50:30.296Z"
      },
      {
        "duration": 183,
        "start_time": "2022-07-14T20:50:31.888Z"
      },
      {
        "duration": 1017,
        "start_time": "2022-07-14T20:50:32.073Z"
      },
      {
        "duration": 146,
        "start_time": "2022-07-14T20:50:33.092Z"
      },
      {
        "duration": 146,
        "start_time": "2022-07-14T20:50:33.239Z"
      },
      {
        "duration": 125,
        "start_time": "2022-07-14T21:06:04.602Z"
      },
      {
        "duration": 21,
        "start_time": "2022-07-14T21:06:08.935Z"
      },
      {
        "duration": 10,
        "start_time": "2022-07-14T21:06:13.582Z"
      },
      {
        "duration": 1334,
        "start_time": "2022-07-14T21:07:16.723Z"
      },
      {
        "duration": 871,
        "start_time": "2022-07-14T21:07:18.059Z"
      },
      {
        "duration": 17,
        "start_time": "2022-07-14T21:07:18.932Z"
      },
      {
        "duration": 161,
        "start_time": "2022-07-14T21:07:18.950Z"
      },
      {
        "duration": 104,
        "start_time": "2022-07-14T21:07:19.113Z"
      },
      {
        "duration": 4,
        "start_time": "2022-07-14T21:07:19.218Z"
      },
      {
        "duration": 8,
        "start_time": "2022-07-14T21:07:19.224Z"
      },
      {
        "duration": 127,
        "start_time": "2022-07-14T21:07:19.233Z"
      },
      {
        "duration": 123,
        "start_time": "2022-07-14T21:07:19.361Z"
      },
      {
        "duration": 147,
        "start_time": "2022-07-14T21:07:19.486Z"
      },
      {
        "duration": 382,
        "start_time": "2022-07-14T21:07:19.635Z"
      },
      {
        "duration": 369,
        "start_time": "2022-07-14T21:07:20.019Z"
      },
      {
        "duration": 382,
        "start_time": "2022-07-14T21:07:20.390Z"
      },
      {
        "duration": 96,
        "start_time": "2022-07-14T21:07:20.777Z"
      },
      {
        "duration": 45,
        "start_time": "2022-07-14T21:07:20.879Z"
      },
      {
        "duration": 96,
        "start_time": "2022-07-14T21:07:20.926Z"
      },
      {
        "duration": 66,
        "start_time": "2022-07-14T21:07:21.024Z"
      },
      {
        "duration": 154,
        "start_time": "2022-07-14T21:07:21.092Z"
      },
      {
        "duration": 337,
        "start_time": "2022-07-14T21:07:21.248Z"
      },
      {
        "duration": 6,
        "start_time": "2022-07-14T21:07:21.587Z"
      },
      {
        "duration": 50,
        "start_time": "2022-07-14T21:07:21.595Z"
      },
      {
        "duration": 1241,
        "start_time": "2022-07-14T21:07:21.647Z"
      },
      {
        "duration": 135,
        "start_time": "2022-07-14T21:07:22.890Z"
      },
      {
        "duration": 26,
        "start_time": "2022-07-14T21:07:23.027Z"
      },
      {
        "duration": 142,
        "start_time": "2022-07-14T21:07:23.064Z"
      },
      {
        "duration": 1510,
        "start_time": "2022-07-14T21:07:23.208Z"
      },
      {
        "duration": 184,
        "start_time": "2022-07-14T21:07:24.719Z"
      },
      {
        "duration": 928,
        "start_time": "2022-07-14T21:07:24.905Z"
      },
      {
        "duration": 155,
        "start_time": "2022-07-14T21:07:25.835Z"
      },
      {
        "duration": 22,
        "start_time": "2022-07-14T21:07:25.992Z"
      },
      {
        "duration": 137,
        "start_time": "2022-07-14T21:13:02.464Z"
      },
      {
        "duration": 12,
        "start_time": "2022-07-14T21:13:09.549Z"
      },
      {
        "duration": 228,
        "start_time": "2022-07-14T21:18:34.615Z"
      },
      {
        "duration": 17,
        "start_time": "2022-07-14T21:18:51.067Z"
      },
      {
        "duration": 37,
        "start_time": "2022-07-14T21:19:00.537Z"
      },
      {
        "duration": 11,
        "start_time": "2022-07-14T21:20:55.878Z"
      },
      {
        "duration": 788,
        "start_time": "2022-07-14T21:21:05.753Z"
      },
      {
        "duration": 13,
        "start_time": "2022-07-14T21:22:02.601Z"
      },
      {
        "duration": 14,
        "start_time": "2022-07-14T21:22:17.804Z"
      },
      {
        "duration": 35,
        "start_time": "2022-07-14T21:22:59.773Z"
      },
      {
        "duration": 10,
        "start_time": "2022-07-14T21:23:49.231Z"
      },
      {
        "duration": 792,
        "start_time": "2022-07-14T21:25:06.993Z"
      },
      {
        "duration": 1040,
        "start_time": "2022-07-14T21:26:25.300Z"
      },
      {
        "duration": 1335,
        "start_time": "2022-07-14T21:27:29.174Z"
      },
      {
        "duration": 851,
        "start_time": "2022-07-14T21:27:30.511Z"
      },
      {
        "duration": 20,
        "start_time": "2022-07-14T21:27:31.363Z"
      },
      {
        "duration": 148,
        "start_time": "2022-07-14T21:27:31.385Z"
      },
      {
        "duration": 98,
        "start_time": "2022-07-14T21:27:31.534Z"
      },
      {
        "duration": 4,
        "start_time": "2022-07-14T21:27:31.633Z"
      },
      {
        "duration": 15,
        "start_time": "2022-07-14T21:27:31.638Z"
      },
      {
        "duration": 119,
        "start_time": "2022-07-14T21:27:31.654Z"
      },
      {
        "duration": 78,
        "start_time": "2022-07-14T21:27:31.775Z"
      },
      {
        "duration": 130,
        "start_time": "2022-07-14T21:27:31.863Z"
      },
      {
        "duration": 342,
        "start_time": "2022-07-14T21:27:31.995Z"
      },
      {
        "duration": 388,
        "start_time": "2022-07-14T21:27:32.339Z"
      },
      {
        "duration": 327,
        "start_time": "2022-07-14T21:27:32.729Z"
      },
      {
        "duration": 81,
        "start_time": "2022-07-14T21:27:33.057Z"
      },
      {
        "duration": 51,
        "start_time": "2022-07-14T21:27:33.140Z"
      },
      {
        "duration": 85,
        "start_time": "2022-07-14T21:27:33.193Z"
      },
      {
        "duration": 49,
        "start_time": "2022-07-14T21:27:33.280Z"
      },
      {
        "duration": 158,
        "start_time": "2022-07-14T21:27:33.330Z"
      },
      {
        "duration": 287,
        "start_time": "2022-07-14T21:27:33.489Z"
      },
      {
        "duration": 5,
        "start_time": "2022-07-14T21:27:33.777Z"
      },
      {
        "duration": 52,
        "start_time": "2022-07-14T21:27:33.783Z"
      },
      {
        "duration": 1061,
        "start_time": "2022-07-14T21:27:33.836Z"
      },
      {
        "duration": 24,
        "start_time": "2022-07-14T21:27:34.898Z"
      },
      {
        "duration": 1368,
        "start_time": "2022-07-14T21:27:34.924Z"
      },
      {
        "duration": 77,
        "start_time": "2022-07-14T21:27:36.293Z"
      },
      {
        "duration": 3719,
        "start_time": "2022-07-14T21:27:36.372Z"
      },
      {
        "duration": 1444,
        "start_time": "2022-07-14T21:27:40.093Z"
      },
      {
        "duration": 815,
        "start_time": "2022-07-14T21:27:41.540Z"
      },
      {
        "duration": 108,
        "start_time": "2022-07-14T21:27:42.356Z"
      },
      {
        "duration": 0,
        "start_time": "2022-07-14T21:27:42.466Z"
      },
      {
        "duration": 3,
        "start_time": "2022-07-14T21:27:58.120Z"
      },
      {
        "duration": 21,
        "start_time": "2022-07-14T21:28:29.416Z"
      },
      {
        "duration": 12,
        "start_time": "2022-07-14T21:29:31.616Z"
      },
      {
        "duration": 1316,
        "start_time": "2022-07-14T21:29:37.591Z"
      },
      {
        "duration": 802,
        "start_time": "2022-07-14T21:29:38.909Z"
      },
      {
        "duration": 20,
        "start_time": "2022-07-14T21:29:39.713Z"
      },
      {
        "duration": 148,
        "start_time": "2022-07-14T21:29:39.735Z"
      },
      {
        "duration": 102,
        "start_time": "2022-07-14T21:29:39.885Z"
      },
      {
        "duration": 4,
        "start_time": "2022-07-14T21:29:39.989Z"
      },
      {
        "duration": 7,
        "start_time": "2022-07-14T21:29:39.995Z"
      },
      {
        "duration": 127,
        "start_time": "2022-07-14T21:29:40.004Z"
      },
      {
        "duration": 84,
        "start_time": "2022-07-14T21:29:40.133Z"
      },
      {
        "duration": 134,
        "start_time": "2022-07-14T21:29:40.219Z"
      },
      {
        "duration": 380,
        "start_time": "2022-07-14T21:29:40.354Z"
      },
      {
        "duration": 342,
        "start_time": "2022-07-14T21:29:40.737Z"
      },
      {
        "duration": 336,
        "start_time": "2022-07-14T21:29:41.081Z"
      },
      {
        "duration": 78,
        "start_time": "2022-07-14T21:29:41.419Z"
      },
      {
        "duration": 42,
        "start_time": "2022-07-14T21:29:41.498Z"
      },
      {
        "duration": 89,
        "start_time": "2022-07-14T21:29:41.542Z"
      },
      {
        "duration": 60,
        "start_time": "2022-07-14T21:29:41.633Z"
      },
      {
        "duration": 149,
        "start_time": "2022-07-14T21:29:41.695Z"
      },
      {
        "duration": 302,
        "start_time": "2022-07-14T21:29:41.845Z"
      },
      {
        "duration": 4,
        "start_time": "2022-07-14T21:29:42.149Z"
      },
      {
        "duration": 59,
        "start_time": "2022-07-14T21:29:42.154Z"
      },
      {
        "duration": 1087,
        "start_time": "2022-07-14T21:29:42.214Z"
      },
      {
        "duration": 28,
        "start_time": "2022-07-14T21:29:43.303Z"
      },
      {
        "duration": 1357,
        "start_time": "2022-07-14T21:29:43.332Z"
      },
      {
        "duration": 75,
        "start_time": "2022-07-14T21:29:44.690Z"
      },
      {
        "duration": 3646,
        "start_time": "2022-07-14T21:29:44.767Z"
      },
      {
        "duration": 4,
        "start_time": "2022-07-14T21:29:48.415Z"
      },
      {
        "duration": 873,
        "start_time": "2022-07-14T21:29:48.421Z"
      },
      {
        "duration": 27,
        "start_time": "2022-07-14T21:29:49.295Z"
      },
      {
        "duration": 533,
        "start_time": "2022-07-14T21:36:42.269Z"
      },
      {
        "duration": 1351,
        "start_time": "2022-07-14T21:40:20.362Z"
      },
      {
        "duration": 787,
        "start_time": "2022-07-14T21:40:21.716Z"
      },
      {
        "duration": 20,
        "start_time": "2022-07-14T21:40:22.507Z"
      },
      {
        "duration": 175,
        "start_time": "2022-07-14T21:40:22.530Z"
      },
      {
        "duration": 100,
        "start_time": "2022-07-14T21:40:22.707Z"
      },
      {
        "duration": 4,
        "start_time": "2022-07-14T21:40:22.809Z"
      },
      {
        "duration": 7,
        "start_time": "2022-07-14T21:40:22.815Z"
      },
      {
        "duration": 123,
        "start_time": "2022-07-14T21:40:22.823Z"
      },
      {
        "duration": 104,
        "start_time": "2022-07-14T21:40:22.948Z"
      },
      {
        "duration": 152,
        "start_time": "2022-07-14T21:40:23.054Z"
      },
      {
        "duration": 348,
        "start_time": "2022-07-14T21:40:23.207Z"
      },
      {
        "duration": 342,
        "start_time": "2022-07-14T21:40:23.556Z"
      },
      {
        "duration": 336,
        "start_time": "2022-07-14T21:40:23.901Z"
      },
      {
        "duration": 77,
        "start_time": "2022-07-14T21:40:24.239Z"
      },
      {
        "duration": 56,
        "start_time": "2022-07-14T21:40:24.318Z"
      },
      {
        "duration": 96,
        "start_time": "2022-07-14T21:40:24.376Z"
      },
      {
        "duration": 57,
        "start_time": "2022-07-14T21:40:24.473Z"
      },
      {
        "duration": 157,
        "start_time": "2022-07-14T21:40:24.532Z"
      },
      {
        "duration": 293,
        "start_time": "2022-07-14T21:40:24.690Z"
      },
      {
        "duration": 4,
        "start_time": "2022-07-14T21:40:24.985Z"
      },
      {
        "duration": 54,
        "start_time": "2022-07-14T21:40:24.990Z"
      },
      {
        "duration": 1042,
        "start_time": "2022-07-14T21:40:25.045Z"
      },
      {
        "duration": 31,
        "start_time": "2022-07-14T21:40:26.089Z"
      },
      {
        "duration": 1414,
        "start_time": "2022-07-14T21:40:26.121Z"
      },
      {
        "duration": 80,
        "start_time": "2022-07-14T21:40:27.537Z"
      },
      {
        "duration": 3850,
        "start_time": "2022-07-14T21:40:27.619Z"
      },
      {
        "duration": 4,
        "start_time": "2022-07-14T21:40:31.471Z"
      },
      {
        "duration": 706,
        "start_time": "2022-07-14T21:40:31.477Z"
      },
      {
        "duration": 29,
        "start_time": "2022-07-14T21:40:32.185Z"
      },
      {
        "duration": 740,
        "start_time": "2022-07-14T21:40:32.216Z"
      },
      {
        "duration": 97,
        "start_time": "2022-07-14T21:44:47.018Z"
      },
      {
        "duration": 159,
        "start_time": "2022-07-14T21:45:03.353Z"
      },
      {
        "duration": 223,
        "start_time": "2022-07-14T21:45:24.454Z"
      },
      {
        "duration": 116,
        "start_time": "2022-07-14T21:48:02.068Z"
      },
      {
        "duration": 23,
        "start_time": "2022-07-14T21:48:29.465Z"
      },
      {
        "duration": 5,
        "start_time": "2022-07-14T22:04:48.892Z"
      },
      {
        "duration": 12,
        "start_time": "2022-07-14T22:04:56.948Z"
      },
      {
        "duration": 15,
        "start_time": "2022-07-14T22:05:16.616Z"
      },
      {
        "duration": 1362,
        "start_time": "2022-07-14T22:05:45.684Z"
      },
      {
        "duration": 855,
        "start_time": "2022-07-14T22:05:47.048Z"
      },
      {
        "duration": 19,
        "start_time": "2022-07-14T22:05:47.905Z"
      },
      {
        "duration": 157,
        "start_time": "2022-07-14T22:05:47.927Z"
      },
      {
        "duration": 142,
        "start_time": "2022-07-14T22:05:48.086Z"
      },
      {
        "duration": 5,
        "start_time": "2022-07-14T22:05:48.229Z"
      },
      {
        "duration": 8,
        "start_time": "2022-07-14T22:05:48.236Z"
      },
      {
        "duration": 131,
        "start_time": "2022-07-14T22:05:48.246Z"
      },
      {
        "duration": 89,
        "start_time": "2022-07-14T22:05:48.379Z"
      },
      {
        "duration": 141,
        "start_time": "2022-07-14T22:05:48.470Z"
      },
      {
        "duration": 354,
        "start_time": "2022-07-14T22:05:48.613Z"
      },
      {
        "duration": 337,
        "start_time": "2022-07-14T22:05:48.968Z"
      },
      {
        "duration": 334,
        "start_time": "2022-07-14T22:05:49.307Z"
      },
      {
        "duration": 72,
        "start_time": "2022-07-14T22:05:49.645Z"
      },
      {
        "duration": 58,
        "start_time": "2022-07-14T22:05:49.718Z"
      },
      {
        "duration": 77,
        "start_time": "2022-07-14T22:05:49.777Z"
      },
      {
        "duration": 54,
        "start_time": "2022-07-14T22:05:49.864Z"
      },
      {
        "duration": 159,
        "start_time": "2022-07-14T22:05:49.919Z"
      },
      {
        "duration": 314,
        "start_time": "2022-07-14T22:05:50.079Z"
      },
      {
        "duration": 4,
        "start_time": "2022-07-14T22:05:50.396Z"
      },
      {
        "duration": 66,
        "start_time": "2022-07-14T22:05:50.402Z"
      },
      {
        "duration": 1120,
        "start_time": "2022-07-14T22:05:50.470Z"
      },
      {
        "duration": 37,
        "start_time": "2022-07-14T22:05:51.593Z"
      },
      {
        "duration": 1443,
        "start_time": "2022-07-14T22:05:51.632Z"
      },
      {
        "duration": 68,
        "start_time": "2022-07-14T22:05:53.077Z"
      },
      {
        "duration": 3878,
        "start_time": "2022-07-14T22:05:53.147Z"
      },
      {
        "duration": 5,
        "start_time": "2022-07-14T22:05:57.027Z"
      },
      {
        "duration": 907,
        "start_time": "2022-07-14T22:05:57.033Z"
      },
      {
        "duration": 34,
        "start_time": "2022-07-14T22:05:57.942Z"
      },
      {
        "duration": 545,
        "start_time": "2022-07-14T22:05:57.978Z"
      },
      {
        "duration": 165,
        "start_time": "2022-07-14T22:05:58.525Z"
      },
      {
        "duration": 224,
        "start_time": "2022-07-14T22:05:58.692Z"
      },
      {
        "duration": 124,
        "start_time": "2022-07-14T22:05:58.918Z"
      },
      {
        "duration": 4,
        "start_time": "2022-07-14T22:05:59.044Z"
      },
      {
        "duration": 115,
        "start_time": "2022-07-14T22:05:59.050Z"
      },
      {
        "duration": 6,
        "start_time": "2022-07-14T22:07:06.969Z"
      },
      {
        "duration": 80983,
        "start_time": "2022-07-14T22:07:07.747Z"
      },
      {
        "duration": 5,
        "start_time": "2022-07-14T22:10:27.978Z"
      },
      {
        "duration": 945910,
        "start_time": "2022-07-14T22:10:28.271Z"
      },
      {
        "duration": 22,
        "start_time": "2022-07-14T22:26:14.182Z"
      },
      {
        "duration": 11,
        "start_time": "2022-07-14T22:33:05.950Z"
      },
      {
        "duration": 3,
        "start_time": "2022-07-14T22:33:29.580Z"
      },
      {
        "duration": 106,
        "start_time": "2022-07-14T22:37:47.207Z"
      },
      {
        "duration": 79911,
        "start_time": "2022-07-14T22:37:56.085Z"
      },
      {
        "duration": 87939,
        "start_time": "2022-07-14T22:39:45.052Z"
      },
      {
        "duration": 1326,
        "start_time": "2022-07-14T22:42:44.414Z"
      },
      {
        "duration": 785,
        "start_time": "2022-07-14T22:42:45.742Z"
      },
      {
        "duration": 17,
        "start_time": "2022-07-14T22:42:46.529Z"
      },
      {
        "duration": 135,
        "start_time": "2022-07-14T22:42:46.547Z"
      },
      {
        "duration": 89,
        "start_time": "2022-07-14T22:42:46.685Z"
      },
      {
        "duration": 5,
        "start_time": "2022-07-14T22:42:46.776Z"
      },
      {
        "duration": 7,
        "start_time": "2022-07-14T22:42:46.782Z"
      },
      {
        "duration": 127,
        "start_time": "2022-07-14T22:42:46.790Z"
      },
      {
        "duration": 84,
        "start_time": "2022-07-14T22:42:46.918Z"
      },
      {
        "duration": 134,
        "start_time": "2022-07-14T22:42:47.004Z"
      },
      {
        "duration": 341,
        "start_time": "2022-07-14T22:42:47.140Z"
      },
      {
        "duration": 333,
        "start_time": "2022-07-14T22:42:47.483Z"
      },
      {
        "duration": 327,
        "start_time": "2022-07-14T22:42:47.818Z"
      },
      {
        "duration": 78,
        "start_time": "2022-07-14T22:42:48.149Z"
      },
      {
        "duration": 56,
        "start_time": "2022-07-14T22:42:48.229Z"
      },
      {
        "duration": 81,
        "start_time": "2022-07-14T22:42:48.286Z"
      },
      {
        "duration": 48,
        "start_time": "2022-07-14T22:42:48.368Z"
      },
      {
        "duration": 150,
        "start_time": "2022-07-14T22:42:48.418Z"
      },
      {
        "duration": 290,
        "start_time": "2022-07-14T22:42:48.569Z"
      },
      {
        "duration": 4,
        "start_time": "2022-07-14T22:42:48.863Z"
      },
      {
        "duration": 50,
        "start_time": "2022-07-14T22:42:48.869Z"
      },
      {
        "duration": 1050,
        "start_time": "2022-07-14T22:42:48.920Z"
      },
      {
        "duration": 26,
        "start_time": "2022-07-14T22:42:49.972Z"
      },
      {
        "duration": 1375,
        "start_time": "2022-07-14T22:42:50.001Z"
      },
      {
        "duration": 70,
        "start_time": "2022-07-14T22:42:51.388Z"
      },
      {
        "duration": 3677,
        "start_time": "2022-07-14T22:42:51.464Z"
      },
      {
        "duration": 3,
        "start_time": "2022-07-14T22:42:55.143Z"
      },
      {
        "duration": 817,
        "start_time": "2022-07-14T22:42:55.147Z"
      },
      {
        "duration": 23,
        "start_time": "2022-07-14T22:42:55.966Z"
      },
      {
        "duration": 517,
        "start_time": "2022-07-14T22:42:55.990Z"
      },
      {
        "duration": 167,
        "start_time": "2022-07-14T22:42:56.508Z"
      },
      {
        "duration": 4,
        "start_time": "2022-07-14T22:42:56.676Z"
      },
      {
        "duration": 0,
        "start_time": "2022-07-14T22:42:56.681Z"
      },
      {
        "duration": 0,
        "start_time": "2022-07-14T22:42:56.682Z"
      },
      {
        "duration": 0,
        "start_time": "2022-07-14T22:42:56.683Z"
      },
      {
        "duration": 0,
        "start_time": "2022-07-14T22:42:56.684Z"
      },
      {
        "duration": 0,
        "start_time": "2022-07-14T22:42:56.685Z"
      },
      {
        "duration": 226,
        "start_time": "2022-07-14T22:43:04.437Z"
      },
      {
        "duration": 175,
        "start_time": "2022-07-14T22:43:05.443Z"
      },
      {
        "duration": 112,
        "start_time": "2022-07-14T22:43:07.364Z"
      },
      {
        "duration": 1352,
        "start_time": "2022-07-14T22:47:13.408Z"
      },
      {
        "duration": 820,
        "start_time": "2022-07-14T22:47:14.762Z"
      },
      {
        "duration": 17,
        "start_time": "2022-07-14T22:47:15.586Z"
      },
      {
        "duration": 130,
        "start_time": "2022-07-14T22:47:15.605Z"
      },
      {
        "duration": 95,
        "start_time": "2022-07-14T22:47:15.738Z"
      },
      {
        "duration": 3,
        "start_time": "2022-07-14T22:47:15.835Z"
      },
      {
        "duration": 9,
        "start_time": "2022-07-14T22:47:15.840Z"
      },
      {
        "duration": 113,
        "start_time": "2022-07-14T22:47:15.864Z"
      },
      {
        "duration": 91,
        "start_time": "2022-07-14T22:47:15.978Z"
      },
      {
        "duration": 140,
        "start_time": "2022-07-14T22:47:16.070Z"
      },
      {
        "duration": 355,
        "start_time": "2022-07-14T22:47:16.212Z"
      },
      {
        "duration": 350,
        "start_time": "2022-07-14T22:47:16.569Z"
      },
      {
        "duration": 410,
        "start_time": "2022-07-14T22:47:16.920Z"
      },
      {
        "duration": 82,
        "start_time": "2022-07-14T22:47:17.334Z"
      },
      {
        "duration": 49,
        "start_time": "2022-07-14T22:47:17.418Z"
      },
      {
        "duration": 75,
        "start_time": "2022-07-14T22:47:17.469Z"
      },
      {
        "duration": 63,
        "start_time": "2022-07-14T22:47:17.546Z"
      },
      {
        "duration": 156,
        "start_time": "2022-07-14T22:47:17.611Z"
      },
      {
        "duration": 322,
        "start_time": "2022-07-14T22:47:17.769Z"
      },
      {
        "duration": 5,
        "start_time": "2022-07-14T22:47:18.092Z"
      },
      {
        "duration": 60,
        "start_time": "2022-07-14T22:47:18.098Z"
      },
      {
        "duration": 1048,
        "start_time": "2022-07-14T22:47:18.164Z"
      },
      {
        "duration": 24,
        "start_time": "2022-07-14T22:47:19.214Z"
      },
      {
        "duration": 1406,
        "start_time": "2022-07-14T22:47:19.240Z"
      },
      {
        "duration": 84,
        "start_time": "2022-07-14T22:47:20.648Z"
      },
      {
        "duration": 3917,
        "start_time": "2022-07-14T22:47:20.733Z"
      },
      {
        "duration": 5,
        "start_time": "2022-07-14T22:47:24.651Z"
      },
      {
        "duration": 856,
        "start_time": "2022-07-14T22:47:24.663Z"
      },
      {
        "duration": 25,
        "start_time": "2022-07-14T22:47:25.521Z"
      },
      {
        "duration": 551,
        "start_time": "2022-07-14T22:47:25.563Z"
      },
      {
        "duration": 172,
        "start_time": "2022-07-14T22:47:26.115Z"
      },
      {
        "duration": 234,
        "start_time": "2022-07-14T22:47:26.289Z"
      },
      {
        "duration": 186,
        "start_time": "2022-07-14T22:47:26.525Z"
      },
      {
        "duration": 96,
        "start_time": "2022-07-14T22:47:26.713Z"
      },
      {
        "duration": 202,
        "start_time": "2022-07-14T22:47:26.811Z"
      },
      {
        "duration": 0,
        "start_time": "2022-07-14T22:47:27.015Z"
      },
      {
        "duration": 0,
        "start_time": "2022-07-14T22:47:27.016Z"
      },
      {
        "duration": 0,
        "start_time": "2022-07-14T22:47:27.017Z"
      },
      {
        "duration": 1453,
        "start_time": "2022-07-14T22:48:09.138Z"
      },
      {
        "duration": 837,
        "start_time": "2022-07-14T22:48:10.593Z"
      },
      {
        "duration": 17,
        "start_time": "2022-07-14T22:48:11.432Z"
      },
      {
        "duration": 131,
        "start_time": "2022-07-14T22:48:11.451Z"
      },
      {
        "duration": 106,
        "start_time": "2022-07-14T22:48:11.584Z"
      },
      {
        "duration": 4,
        "start_time": "2022-07-14T22:48:11.692Z"
      },
      {
        "duration": 8,
        "start_time": "2022-07-14T22:48:11.698Z"
      },
      {
        "duration": 118,
        "start_time": "2022-07-14T22:48:11.708Z"
      },
      {
        "duration": 91,
        "start_time": "2022-07-14T22:48:11.828Z"
      },
      {
        "duration": 140,
        "start_time": "2022-07-14T22:48:11.921Z"
      },
      {
        "duration": 347,
        "start_time": "2022-07-14T22:48:12.064Z"
      },
      {
        "duration": 388,
        "start_time": "2022-07-14T22:48:12.413Z"
      },
      {
        "duration": 325,
        "start_time": "2022-07-14T22:48:12.803Z"
      },
      {
        "duration": 78,
        "start_time": "2022-07-14T22:48:13.131Z"
      },
      {
        "duration": 54,
        "start_time": "2022-07-14T22:48:13.210Z"
      },
      {
        "duration": 72,
        "start_time": "2022-07-14T22:48:13.266Z"
      },
      {
        "duration": 72,
        "start_time": "2022-07-14T22:48:13.340Z"
      },
      {
        "duration": 151,
        "start_time": "2022-07-14T22:48:13.414Z"
      },
      {
        "duration": 300,
        "start_time": "2022-07-14T22:48:13.566Z"
      },
      {
        "duration": 6,
        "start_time": "2022-07-14T22:48:13.868Z"
      },
      {
        "duration": 54,
        "start_time": "2022-07-14T22:48:13.876Z"
      },
      {
        "duration": 1106,
        "start_time": "2022-07-14T22:48:13.932Z"
      },
      {
        "duration": 41,
        "start_time": "2022-07-14T22:48:15.040Z"
      },
      {
        "duration": 1404,
        "start_time": "2022-07-14T22:48:15.083Z"
      },
      {
        "duration": 85,
        "start_time": "2022-07-14T22:48:16.489Z"
      },
      {
        "duration": 3853,
        "start_time": "2022-07-14T22:48:16.576Z"
      },
      {
        "duration": 4,
        "start_time": "2022-07-14T22:48:20.432Z"
      },
      {
        "duration": 859,
        "start_time": "2022-07-14T22:48:20.437Z"
      },
      {
        "duration": 27,
        "start_time": "2022-07-14T22:48:21.298Z"
      },
      {
        "duration": 535,
        "start_time": "2022-07-14T22:48:21.327Z"
      },
      {
        "duration": 163,
        "start_time": "2022-07-14T22:48:21.864Z"
      },
      {
        "duration": 225,
        "start_time": "2022-07-14T22:48:22.029Z"
      },
      {
        "duration": 182,
        "start_time": "2022-07-14T22:48:22.256Z"
      },
      {
        "duration": 99,
        "start_time": "2022-07-14T22:48:22.440Z"
      },
      {
        "duration": 151,
        "start_time": "2022-07-14T22:48:22.541Z"
      },
      {
        "duration": 4,
        "start_time": "2022-07-14T22:48:22.694Z"
      },
      {
        "duration": 307178,
        "start_time": "2022-07-14T22:48:22.700Z"
      },
      {
        "duration": 74280,
        "start_time": "2022-07-14T22:53:29.884Z"
      },
      {
        "duration": 5116,
        "start_time": "2022-07-14T23:19:49.848Z"
      },
      {
        "duration": 227562,
        "start_time": "2022-07-14T23:20:28.922Z"
      },
      {
        "duration": 35079,
        "start_time": "2022-07-14T23:24:32.491Z"
      },
      {
        "duration": 62,
        "start_time": "2022-07-14T23:28:43.275Z"
      },
      {
        "duration": 63,
        "start_time": "2022-07-14T23:33:15.669Z"
      },
      {
        "duration": 4,
        "start_time": "2022-07-14T23:38:54.416Z"
      },
      {
        "duration": 154,
        "start_time": "2022-07-14T23:38:57.501Z"
      },
      {
        "duration": 4385,
        "start_time": "2022-07-14T23:39:37.401Z"
      },
      {
        "duration": 870,
        "start_time": "2022-07-14T23:39:41.788Z"
      },
      {
        "duration": 18,
        "start_time": "2022-07-14T23:39:42.660Z"
      },
      {
        "duration": 137,
        "start_time": "2022-07-14T23:39:42.680Z"
      },
      {
        "duration": 108,
        "start_time": "2022-07-14T23:39:42.819Z"
      },
      {
        "duration": 4,
        "start_time": "2022-07-14T23:39:42.928Z"
      },
      {
        "duration": 9,
        "start_time": "2022-07-14T23:39:42.933Z"
      },
      {
        "duration": 118,
        "start_time": "2022-07-14T23:39:42.943Z"
      },
      {
        "duration": 81,
        "start_time": "2022-07-14T23:39:43.064Z"
      },
      {
        "duration": 146,
        "start_time": "2022-07-14T23:39:43.147Z"
      },
      {
        "duration": 373,
        "start_time": "2022-07-14T23:39:43.294Z"
      },
      {
        "duration": 337,
        "start_time": "2022-07-14T23:39:43.668Z"
      },
      {
        "duration": 344,
        "start_time": "2022-07-14T23:39:44.006Z"
      },
      {
        "duration": 78,
        "start_time": "2022-07-14T23:39:44.353Z"
      },
      {
        "duration": 57,
        "start_time": "2022-07-14T23:39:44.433Z"
      },
      {
        "duration": 77,
        "start_time": "2022-07-14T23:39:44.492Z"
      },
      {
        "duration": 51,
        "start_time": "2022-07-14T23:39:44.570Z"
      },
      {
        "duration": 174,
        "start_time": "2022-07-14T23:39:44.622Z"
      },
      {
        "duration": 309,
        "start_time": "2022-07-14T23:39:44.798Z"
      },
      {
        "duration": 4,
        "start_time": "2022-07-14T23:39:45.109Z"
      },
      {
        "duration": 56,
        "start_time": "2022-07-14T23:39:45.114Z"
      },
      {
        "duration": 1060,
        "start_time": "2022-07-14T23:39:45.171Z"
      },
      {
        "duration": 34,
        "start_time": "2022-07-14T23:39:46.232Z"
      },
      {
        "duration": 1356,
        "start_time": "2022-07-14T23:39:46.267Z"
      },
      {
        "duration": 81,
        "start_time": "2022-07-14T23:39:47.625Z"
      },
      {
        "duration": 3879,
        "start_time": "2022-07-14T23:39:47.707Z"
      },
      {
        "duration": 4,
        "start_time": "2022-07-14T23:39:51.587Z"
      },
      {
        "duration": 866,
        "start_time": "2022-07-14T23:39:51.592Z"
      },
      {
        "duration": 29,
        "start_time": "2022-07-14T23:39:52.463Z"
      },
      {
        "duration": 566,
        "start_time": "2022-07-14T23:39:52.494Z"
      },
      {
        "duration": 167,
        "start_time": "2022-07-14T23:39:53.063Z"
      },
      {
        "duration": 235,
        "start_time": "2022-07-14T23:39:53.232Z"
      },
      {
        "duration": 181,
        "start_time": "2022-07-14T23:39:53.468Z"
      },
      {
        "duration": 95,
        "start_time": "2022-07-14T23:39:53.651Z"
      },
      {
        "duration": 119,
        "start_time": "2022-07-14T23:39:53.748Z"
      },
      {
        "duration": 5,
        "start_time": "2022-07-14T23:39:53.869Z"
      },
      {
        "duration": 15498,
        "start_time": "2022-07-14T23:39:53.875Z"
      },
      {
        "duration": 1395,
        "start_time": "2022-07-14T23:40:46.582Z"
      },
      {
        "duration": 796,
        "start_time": "2022-07-14T23:40:47.979Z"
      },
      {
        "duration": 18,
        "start_time": "2022-07-14T23:40:48.776Z"
      },
      {
        "duration": 134,
        "start_time": "2022-07-14T23:40:48.796Z"
      },
      {
        "duration": 109,
        "start_time": "2022-07-14T23:40:48.932Z"
      },
      {
        "duration": 5,
        "start_time": "2022-07-14T23:40:49.042Z"
      },
      {
        "duration": 17,
        "start_time": "2022-07-14T23:40:49.048Z"
      },
      {
        "duration": 119,
        "start_time": "2022-07-14T23:40:49.067Z"
      },
      {
        "duration": 87,
        "start_time": "2022-07-14T23:40:49.188Z"
      },
      {
        "duration": 153,
        "start_time": "2022-07-14T23:40:49.277Z"
      },
      {
        "duration": 350,
        "start_time": "2022-07-14T23:40:49.432Z"
      },
      {
        "duration": 347,
        "start_time": "2022-07-14T23:40:49.783Z"
      },
      {
        "duration": 348,
        "start_time": "2022-07-14T23:40:50.132Z"
      },
      {
        "duration": 83,
        "start_time": "2022-07-14T23:40:50.481Z"
      },
      {
        "duration": 44,
        "start_time": "2022-07-14T23:40:50.566Z"
      },
      {
        "duration": 88,
        "start_time": "2022-07-14T23:40:50.611Z"
      },
      {
        "duration": 66,
        "start_time": "2022-07-14T23:40:50.702Z"
      },
      {
        "duration": 148,
        "start_time": "2022-07-14T23:40:50.769Z"
      },
      {
        "duration": 305,
        "start_time": "2022-07-14T23:40:50.918Z"
      },
      {
        "duration": 4,
        "start_time": "2022-07-14T23:40:51.225Z"
      },
      {
        "duration": 58,
        "start_time": "2022-07-14T23:40:51.231Z"
      },
      {
        "duration": 1088,
        "start_time": "2022-07-14T23:40:51.290Z"
      },
      {
        "duration": 30,
        "start_time": "2022-07-14T23:40:52.379Z"
      },
      {
        "duration": 1455,
        "start_time": "2022-07-14T23:40:52.411Z"
      },
      {
        "duration": 75,
        "start_time": "2022-07-14T23:40:53.867Z"
      },
      {
        "duration": 3885,
        "start_time": "2022-07-14T23:40:53.944Z"
      },
      {
        "duration": 4,
        "start_time": "2022-07-14T23:40:57.830Z"
      },
      {
        "duration": 862,
        "start_time": "2022-07-14T23:40:57.837Z"
      },
      {
        "duration": 28,
        "start_time": "2022-07-14T23:40:58.701Z"
      },
      {
        "duration": 588,
        "start_time": "2022-07-14T23:40:58.731Z"
      },
      {
        "duration": 172,
        "start_time": "2022-07-14T23:40:59.321Z"
      },
      {
        "duration": 228,
        "start_time": "2022-07-14T23:40:59.495Z"
      },
      {
        "duration": 182,
        "start_time": "2022-07-14T23:40:59.724Z"
      },
      {
        "duration": 105,
        "start_time": "2022-07-14T23:40:59.908Z"
      },
      {
        "duration": 119,
        "start_time": "2022-07-14T23:41:00.015Z"
      },
      {
        "duration": 5,
        "start_time": "2022-07-14T23:41:00.136Z"
      },
      {
        "duration": 16524,
        "start_time": "2022-07-14T23:41:00.142Z"
      },
      {
        "duration": 66803,
        "start_time": "2022-07-14T23:41:16.667Z"
      },
      {
        "duration": 99,
        "start_time": "2022-07-14T23:42:23.472Z"
      },
      {
        "duration": 24015,
        "start_time": "2022-07-14T23:42:23.573Z"
      },
      {
        "duration": 5283,
        "start_time": "2022-07-14T23:42:47.590Z"
      },
      {
        "duration": 13092,
        "start_time": "2022-07-14T23:42:52.875Z"
      },
      {
        "duration": 4,
        "start_time": "2022-07-14T23:47:23.762Z"
      },
      {
        "duration": 11346,
        "start_time": "2022-07-14T23:47:28.111Z"
      },
      {
        "duration": 4,
        "start_time": "2022-07-14T23:49:00.219Z"
      },
      {
        "duration": 11495,
        "start_time": "2022-07-14T23:49:00.432Z"
      },
      {
        "duration": 1468,
        "start_time": "2022-07-14T23:50:10.430Z"
      },
      {
        "duration": 868,
        "start_time": "2022-07-14T23:50:11.900Z"
      },
      {
        "duration": 17,
        "start_time": "2022-07-14T23:50:12.770Z"
      },
      {
        "duration": 136,
        "start_time": "2022-07-14T23:50:12.789Z"
      },
      {
        "duration": 88,
        "start_time": "2022-07-14T23:50:12.927Z"
      },
      {
        "duration": 3,
        "start_time": "2022-07-14T23:50:13.017Z"
      },
      {
        "duration": 8,
        "start_time": "2022-07-14T23:50:13.022Z"
      },
      {
        "duration": 114,
        "start_time": "2022-07-14T23:50:13.031Z"
      },
      {
        "duration": 83,
        "start_time": "2022-07-14T23:50:13.146Z"
      },
      {
        "duration": 144,
        "start_time": "2022-07-14T23:50:13.231Z"
      },
      {
        "duration": 348,
        "start_time": "2022-07-14T23:50:13.377Z"
      },
      {
        "duration": 342,
        "start_time": "2022-07-14T23:50:13.727Z"
      },
      {
        "duration": 336,
        "start_time": "2022-07-14T23:50:14.071Z"
      },
      {
        "duration": 85,
        "start_time": "2022-07-14T23:50:14.409Z"
      },
      {
        "duration": 44,
        "start_time": "2022-07-14T23:50:14.496Z"
      },
      {
        "duration": 88,
        "start_time": "2022-07-14T23:50:14.542Z"
      },
      {
        "duration": 65,
        "start_time": "2022-07-14T23:50:14.631Z"
      },
      {
        "duration": 148,
        "start_time": "2022-07-14T23:50:14.698Z"
      },
      {
        "duration": 314,
        "start_time": "2022-07-14T23:50:14.847Z"
      },
      {
        "duration": 4,
        "start_time": "2022-07-14T23:50:15.163Z"
      },
      {
        "duration": 55,
        "start_time": "2022-07-14T23:50:15.168Z"
      },
      {
        "duration": 1100,
        "start_time": "2022-07-14T23:50:15.224Z"
      },
      {
        "duration": 28,
        "start_time": "2022-07-14T23:50:16.326Z"
      },
      {
        "duration": 1361,
        "start_time": "2022-07-14T23:50:16.364Z"
      },
      {
        "duration": 81,
        "start_time": "2022-07-14T23:50:17.726Z"
      },
      {
        "duration": 3785,
        "start_time": "2022-07-14T23:50:17.809Z"
      },
      {
        "duration": 4,
        "start_time": "2022-07-14T23:50:21.595Z"
      },
      {
        "duration": 869,
        "start_time": "2022-07-14T23:50:21.604Z"
      },
      {
        "duration": 30,
        "start_time": "2022-07-14T23:50:22.475Z"
      },
      {
        "duration": 546,
        "start_time": "2022-07-14T23:50:22.507Z"
      },
      {
        "duration": 169,
        "start_time": "2022-07-14T23:50:23.055Z"
      },
      {
        "duration": 231,
        "start_time": "2022-07-14T23:50:23.226Z"
      },
      {
        "duration": 192,
        "start_time": "2022-07-14T23:50:23.459Z"
      },
      {
        "duration": 94,
        "start_time": "2022-07-14T23:50:23.653Z"
      },
      {
        "duration": 126,
        "start_time": "2022-07-14T23:50:23.749Z"
      },
      {
        "duration": 5,
        "start_time": "2022-07-14T23:50:23.877Z"
      },
      {
        "duration": 15289,
        "start_time": "2022-07-14T23:50:23.883Z"
      },
      {
        "duration": 63995,
        "start_time": "2022-07-14T23:50:39.174Z"
      },
      {
        "duration": 92,
        "start_time": "2022-07-14T23:51:43.172Z"
      },
      {
        "duration": 11904,
        "start_time": "2022-07-14T23:51:43.266Z"
      },
      {
        "duration": 5102,
        "start_time": "2022-07-14T23:51:55.172Z"
      },
      {
        "duration": 13094,
        "start_time": "2022-07-14T23:52:00.275Z"
      },
      {
        "duration": 314,
        "start_time": "2022-07-14T23:52:13.373Z"
      },
      {
        "duration": 5,
        "start_time": "2022-07-15T00:04:33.402Z"
      },
      {
        "duration": 11055,
        "start_time": "2022-07-15T00:04:33.648Z"
      },
      {
        "duration": 1380,
        "start_time": "2022-07-15T00:04:51.212Z"
      },
      {
        "duration": 792,
        "start_time": "2022-07-15T00:04:52.594Z"
      },
      {
        "duration": 19,
        "start_time": "2022-07-15T00:04:53.388Z"
      },
      {
        "duration": 135,
        "start_time": "2022-07-15T00:04:53.408Z"
      },
      {
        "duration": 90,
        "start_time": "2022-07-15T00:04:53.545Z"
      },
      {
        "duration": 3,
        "start_time": "2022-07-15T00:04:53.637Z"
      },
      {
        "duration": 8,
        "start_time": "2022-07-15T00:04:53.642Z"
      },
      {
        "duration": 112,
        "start_time": "2022-07-15T00:04:53.651Z"
      },
      {
        "duration": 85,
        "start_time": "2022-07-15T00:04:53.765Z"
      },
      {
        "duration": 148,
        "start_time": "2022-07-15T00:04:53.863Z"
      },
      {
        "duration": 364,
        "start_time": "2022-07-15T00:04:54.013Z"
      },
      {
        "duration": 343,
        "start_time": "2022-07-15T00:04:54.379Z"
      },
      {
        "duration": 339,
        "start_time": "2022-07-15T00:04:54.724Z"
      },
      {
        "duration": 75,
        "start_time": "2022-07-15T00:04:55.067Z"
      },
      {
        "duration": 60,
        "start_time": "2022-07-15T00:04:55.144Z"
      },
      {
        "duration": 90,
        "start_time": "2022-07-15T00:04:55.206Z"
      },
      {
        "duration": 52,
        "start_time": "2022-07-15T00:04:55.298Z"
      },
      {
        "duration": 161,
        "start_time": "2022-07-15T00:04:55.352Z"
      },
      {
        "duration": 312,
        "start_time": "2022-07-15T00:04:55.514Z"
      },
      {
        "duration": 4,
        "start_time": "2022-07-15T00:04:55.828Z"
      },
      {
        "duration": 66,
        "start_time": "2022-07-15T00:04:55.834Z"
      },
      {
        "duration": 1134,
        "start_time": "2022-07-15T00:04:55.902Z"
      },
      {
        "duration": 34,
        "start_time": "2022-07-15T00:04:57.037Z"
      },
      {
        "duration": 1378,
        "start_time": "2022-07-15T00:04:57.073Z"
      },
      {
        "duration": 76,
        "start_time": "2022-07-15T00:04:58.453Z"
      },
      {
        "duration": 3931,
        "start_time": "2022-07-15T00:04:58.531Z"
      },
      {
        "duration": 4,
        "start_time": "2022-07-15T00:05:02.464Z"
      },
      {
        "duration": 896,
        "start_time": "2022-07-15T00:05:02.469Z"
      },
      {
        "duration": 30,
        "start_time": "2022-07-15T00:05:03.367Z"
      },
      {
        "duration": 537,
        "start_time": "2022-07-15T00:05:03.398Z"
      },
      {
        "duration": 169,
        "start_time": "2022-07-15T00:05:03.936Z"
      },
      {
        "duration": 228,
        "start_time": "2022-07-15T00:05:04.107Z"
      },
      {
        "duration": 192,
        "start_time": "2022-07-15T00:05:04.337Z"
      },
      {
        "duration": 102,
        "start_time": "2022-07-15T00:05:04.531Z"
      },
      {
        "duration": 115,
        "start_time": "2022-07-15T00:05:04.635Z"
      },
      {
        "duration": 4,
        "start_time": "2022-07-15T00:05:04.753Z"
      },
      {
        "duration": 15311,
        "start_time": "2022-07-15T00:05:04.764Z"
      },
      {
        "duration": 63698,
        "start_time": "2022-07-15T00:05:20.077Z"
      },
      {
        "duration": 89,
        "start_time": "2022-07-15T00:06:23.777Z"
      },
      {
        "duration": 11309,
        "start_time": "2022-07-15T00:06:23.868Z"
      },
      {
        "duration": 4983,
        "start_time": "2022-07-15T00:06:35.182Z"
      },
      {
        "duration": 12813,
        "start_time": "2022-07-15T00:06:40.167Z"
      },
      {
        "duration": 214,
        "start_time": "2022-07-15T00:06:53.065Z"
      },
      {
        "duration": 3783,
        "start_time": "2022-07-15T00:07:30.467Z"
      },
      {
        "duration": 4,
        "start_time": "2022-07-15T00:18:06.829Z"
      },
      {
        "duration": 1394,
        "start_time": "2022-07-15T00:18:07.295Z"
      },
      {
        "duration": 1134,
        "start_time": "2022-07-15T00:18:14.923Z"
      },
      {
        "duration": 4,
        "start_time": "2022-07-15T00:18:50.567Z"
      },
      {
        "duration": 1389,
        "start_time": "2022-07-15T00:18:51.463Z"
      },
      {
        "duration": 1121,
        "start_time": "2022-07-15T00:18:53.806Z"
      },
      {
        "duration": 4,
        "start_time": "2022-07-15T00:19:02.213Z"
      },
      {
        "duration": 1340,
        "start_time": "2022-07-15T00:19:04.032Z"
      },
      {
        "duration": 1101,
        "start_time": "2022-07-15T00:19:05.630Z"
      },
      {
        "duration": 1380,
        "start_time": "2022-07-15T00:19:24.196Z"
      },
      {
        "duration": 788,
        "start_time": "2022-07-15T00:19:25.578Z"
      },
      {
        "duration": 18,
        "start_time": "2022-07-15T00:19:26.368Z"
      },
      {
        "duration": 138,
        "start_time": "2022-07-15T00:19:26.388Z"
      },
      {
        "duration": 97,
        "start_time": "2022-07-15T00:19:26.528Z"
      },
      {
        "duration": 3,
        "start_time": "2022-07-15T00:19:26.627Z"
      },
      {
        "duration": 11,
        "start_time": "2022-07-15T00:19:26.631Z"
      },
      {
        "duration": 108,
        "start_time": "2022-07-15T00:19:26.644Z"
      },
      {
        "duration": 85,
        "start_time": "2022-07-15T00:19:26.754Z"
      },
      {
        "duration": 138,
        "start_time": "2022-07-15T00:19:26.840Z"
      },
      {
        "duration": 358,
        "start_time": "2022-07-15T00:19:26.979Z"
      },
      {
        "duration": 339,
        "start_time": "2022-07-15T00:19:27.339Z"
      },
      {
        "duration": 331,
        "start_time": "2022-07-15T00:19:27.679Z"
      },
      {
        "duration": 83,
        "start_time": "2022-07-15T00:19:28.013Z"
      },
      {
        "duration": 44,
        "start_time": "2022-07-15T00:19:28.098Z"
      },
      {
        "duration": 90,
        "start_time": "2022-07-15T00:19:28.144Z"
      },
      {
        "duration": 55,
        "start_time": "2022-07-15T00:19:28.236Z"
      },
      {
        "duration": 162,
        "start_time": "2022-07-15T00:19:28.293Z"
      },
      {
        "duration": 301,
        "start_time": "2022-07-15T00:19:28.457Z"
      },
      {
        "duration": 5,
        "start_time": "2022-07-15T00:19:28.760Z"
      },
      {
        "duration": 52,
        "start_time": "2022-07-15T00:19:28.766Z"
      },
      {
        "duration": 1084,
        "start_time": "2022-07-15T00:19:28.820Z"
      },
      {
        "duration": 27,
        "start_time": "2022-07-15T00:19:29.906Z"
      },
      {
        "duration": 1464,
        "start_time": "2022-07-15T00:19:29.935Z"
      },
      {
        "duration": 79,
        "start_time": "2022-07-15T00:19:31.401Z"
      },
      {
        "duration": 3777,
        "start_time": "2022-07-15T00:19:31.482Z"
      },
      {
        "duration": 4,
        "start_time": "2022-07-15T00:19:35.260Z"
      },
      {
        "duration": 855,
        "start_time": "2022-07-15T00:19:35.265Z"
      },
      {
        "duration": 25,
        "start_time": "2022-07-15T00:19:36.122Z"
      },
      {
        "duration": 542,
        "start_time": "2022-07-15T00:19:36.149Z"
      },
      {
        "duration": 167,
        "start_time": "2022-07-15T00:19:36.693Z"
      },
      {
        "duration": 229,
        "start_time": "2022-07-15T00:19:36.863Z"
      },
      {
        "duration": 180,
        "start_time": "2022-07-15T00:19:37.093Z"
      },
      {
        "duration": 103,
        "start_time": "2022-07-15T00:19:37.274Z"
      },
      {
        "duration": 115,
        "start_time": "2022-07-15T00:19:37.378Z"
      },
      {
        "duration": 5,
        "start_time": "2022-07-15T00:19:37.495Z"
      },
      {
        "duration": 15263,
        "start_time": "2022-07-15T00:19:37.501Z"
      },
      {
        "duration": 1373,
        "start_time": "2022-07-15T00:20:18.649Z"
      },
      {
        "duration": 805,
        "start_time": "2022-07-15T00:20:20.024Z"
      },
      {
        "duration": 17,
        "start_time": "2022-07-15T00:20:20.831Z"
      },
      {
        "duration": 131,
        "start_time": "2022-07-15T00:20:20.850Z"
      },
      {
        "duration": 100,
        "start_time": "2022-07-15T00:20:20.983Z"
      },
      {
        "duration": 4,
        "start_time": "2022-07-15T00:20:21.085Z"
      },
      {
        "duration": 13,
        "start_time": "2022-07-15T00:20:21.090Z"
      },
      {
        "duration": 110,
        "start_time": "2022-07-15T00:20:21.105Z"
      },
      {
        "duration": 84,
        "start_time": "2022-07-15T00:20:21.217Z"
      },
      {
        "duration": 150,
        "start_time": "2022-07-15T00:20:21.303Z"
      },
      {
        "duration": 330,
        "start_time": "2022-07-15T00:20:21.454Z"
      },
      {
        "duration": 328,
        "start_time": "2022-07-15T00:20:21.785Z"
      },
      {
        "duration": 328,
        "start_time": "2022-07-15T00:20:22.115Z"
      },
      {
        "duration": 85,
        "start_time": "2022-07-15T00:20:22.445Z"
      },
      {
        "duration": 72,
        "start_time": "2022-07-15T00:20:22.533Z"
      },
      {
        "duration": 76,
        "start_time": "2022-07-15T00:20:22.606Z"
      },
      {
        "duration": 54,
        "start_time": "2022-07-15T00:20:22.684Z"
      },
      {
        "duration": 157,
        "start_time": "2022-07-15T00:20:22.740Z"
      },
      {
        "duration": 295,
        "start_time": "2022-07-15T00:20:22.899Z"
      },
      {
        "duration": 4,
        "start_time": "2022-07-15T00:20:23.195Z"
      },
      {
        "duration": 53,
        "start_time": "2022-07-15T00:20:23.200Z"
      },
      {
        "duration": 1081,
        "start_time": "2022-07-15T00:20:23.263Z"
      },
      {
        "duration": 34,
        "start_time": "2022-07-15T00:20:24.345Z"
      },
      {
        "duration": 1449,
        "start_time": "2022-07-15T00:20:24.381Z"
      },
      {
        "duration": 92,
        "start_time": "2022-07-15T00:20:25.831Z"
      },
      {
        "duration": 3871,
        "start_time": "2022-07-15T00:20:25.924Z"
      },
      {
        "duration": 5,
        "start_time": "2022-07-15T00:20:29.796Z"
      },
      {
        "duration": 912,
        "start_time": "2022-07-15T00:20:29.805Z"
      },
      {
        "duration": 30,
        "start_time": "2022-07-15T00:20:30.720Z"
      },
      {
        "duration": 572,
        "start_time": "2022-07-15T00:20:30.764Z"
      },
      {
        "duration": 168,
        "start_time": "2022-07-15T00:20:31.338Z"
      },
      {
        "duration": 222,
        "start_time": "2022-07-15T00:20:31.508Z"
      },
      {
        "duration": 181,
        "start_time": "2022-07-15T00:20:31.732Z"
      },
      {
        "duration": 99,
        "start_time": "2022-07-15T00:20:31.914Z"
      },
      {
        "duration": 118,
        "start_time": "2022-07-15T00:20:32.015Z"
      },
      {
        "duration": 4,
        "start_time": "2022-07-15T00:20:32.135Z"
      },
      {
        "duration": 15433,
        "start_time": "2022-07-15T00:20:32.141Z"
      },
      {
        "duration": 65995,
        "start_time": "2022-07-15T00:20:47.576Z"
      },
      {
        "duration": 92,
        "start_time": "2022-07-15T00:21:53.573Z"
      },
      {
        "duration": 1432,
        "start_time": "2022-07-15T00:22:07.751Z"
      },
      {
        "duration": 799,
        "start_time": "2022-07-15T00:22:09.185Z"
      },
      {
        "duration": 19,
        "start_time": "2022-07-15T00:22:09.986Z"
      },
      {
        "duration": 145,
        "start_time": "2022-07-15T00:22:10.007Z"
      },
      {
        "duration": 91,
        "start_time": "2022-07-15T00:22:10.154Z"
      },
      {
        "duration": 19,
        "start_time": "2022-07-15T00:22:10.246Z"
      },
      {
        "duration": 7,
        "start_time": "2022-07-15T00:22:10.266Z"
      },
      {
        "duration": 124,
        "start_time": "2022-07-15T00:22:10.275Z"
      },
      {
        "duration": 99,
        "start_time": "2022-07-15T00:22:10.401Z"
      },
      {
        "duration": 142,
        "start_time": "2022-07-15T00:22:10.502Z"
      },
      {
        "duration": 383,
        "start_time": "2022-07-15T00:22:10.646Z"
      },
      {
        "duration": 330,
        "start_time": "2022-07-15T00:22:11.030Z"
      },
      {
        "duration": 323,
        "start_time": "2022-07-15T00:22:11.361Z"
      },
      {
        "duration": 81,
        "start_time": "2022-07-15T00:22:11.687Z"
      },
      {
        "duration": 44,
        "start_time": "2022-07-15T00:22:11.769Z"
      },
      {
        "duration": 94,
        "start_time": "2022-07-15T00:22:11.815Z"
      },
      {
        "duration": 55,
        "start_time": "2022-07-15T00:22:11.911Z"
      },
      {
        "duration": 146,
        "start_time": "2022-07-15T00:22:11.968Z"
      },
      {
        "duration": 309,
        "start_time": "2022-07-15T00:22:12.116Z"
      },
      {
        "duration": 5,
        "start_time": "2022-07-15T00:22:12.426Z"
      },
      {
        "duration": 72,
        "start_time": "2022-07-15T00:22:12.432Z"
      },
      {
        "duration": 1100,
        "start_time": "2022-07-15T00:22:12.506Z"
      },
      {
        "duration": 25,
        "start_time": "2022-07-15T00:22:13.608Z"
      },
      {
        "duration": 1375,
        "start_time": "2022-07-15T00:22:13.635Z"
      },
      {
        "duration": 79,
        "start_time": "2022-07-15T00:22:15.012Z"
      },
      {
        "duration": 3763,
        "start_time": "2022-07-15T00:22:15.093Z"
      },
      {
        "duration": 4,
        "start_time": "2022-07-15T00:22:18.857Z"
      },
      {
        "duration": 856,
        "start_time": "2022-07-15T00:22:18.863Z"
      },
      {
        "duration": 24,
        "start_time": "2022-07-15T00:22:19.721Z"
      },
      {
        "duration": 582,
        "start_time": "2022-07-15T00:22:19.747Z"
      },
      {
        "duration": 170,
        "start_time": "2022-07-15T00:22:20.331Z"
      },
      {
        "duration": 235,
        "start_time": "2022-07-15T00:22:20.503Z"
      },
      {
        "duration": 179,
        "start_time": "2022-07-15T00:22:20.740Z"
      },
      {
        "duration": 100,
        "start_time": "2022-07-15T00:22:20.921Z"
      },
      {
        "duration": 116,
        "start_time": "2022-07-15T00:22:21.022Z"
      },
      {
        "duration": 5,
        "start_time": "2022-07-15T00:22:21.139Z"
      },
      {
        "duration": 15424,
        "start_time": "2022-07-15T00:22:21.146Z"
      },
      {
        "duration": 65197,
        "start_time": "2022-07-15T00:22:36.572Z"
      },
      {
        "duration": 93,
        "start_time": "2022-07-15T00:23:41.772Z"
      },
      {
        "duration": 11280,
        "start_time": "2022-07-15T00:23:41.867Z"
      },
      {
        "duration": 4923,
        "start_time": "2022-07-15T00:23:53.150Z"
      },
      {
        "duration": 13193,
        "start_time": "2022-07-15T00:23:58.074Z"
      },
      {
        "duration": 3859,
        "start_time": "2022-07-15T00:24:11.270Z"
      },
      {
        "duration": 163,
        "start_time": "2022-07-15T00:24:32.868Z"
      },
      {
        "duration": 1381,
        "start_time": "2022-07-15T00:24:43.692Z"
      },
      {
        "duration": 791,
        "start_time": "2022-07-15T00:24:45.075Z"
      },
      {
        "duration": 17,
        "start_time": "2022-07-15T00:24:45.868Z"
      },
      {
        "duration": 132,
        "start_time": "2022-07-15T00:24:45.887Z"
      },
      {
        "duration": 91,
        "start_time": "2022-07-15T00:24:46.021Z"
      },
      {
        "duration": 3,
        "start_time": "2022-07-15T00:24:46.114Z"
      },
      {
        "duration": 9,
        "start_time": "2022-07-15T00:24:46.118Z"
      },
      {
        "duration": 177,
        "start_time": "2022-07-15T00:24:46.128Z"
      },
      {
        "duration": 86,
        "start_time": "2022-07-15T00:24:46.307Z"
      },
      {
        "duration": 140,
        "start_time": "2022-07-15T00:24:46.396Z"
      },
      {
        "duration": 338,
        "start_time": "2022-07-15T00:24:46.537Z"
      },
      {
        "duration": 334,
        "start_time": "2022-07-15T00:24:46.877Z"
      },
      {
        "duration": 337,
        "start_time": "2022-07-15T00:24:47.213Z"
      },
      {
        "duration": 74,
        "start_time": "2022-07-15T00:24:47.552Z"
      },
      {
        "duration": 59,
        "start_time": "2022-07-15T00:24:47.628Z"
      },
      {
        "duration": 84,
        "start_time": "2022-07-15T00:24:47.689Z"
      },
      {
        "duration": 53,
        "start_time": "2022-07-15T00:24:47.775Z"
      },
      {
        "duration": 164,
        "start_time": "2022-07-15T00:24:47.830Z"
      },
      {
        "duration": 316,
        "start_time": "2022-07-15T00:24:47.996Z"
      },
      {
        "duration": 4,
        "start_time": "2022-07-15T00:24:48.314Z"
      },
      {
        "duration": 54,
        "start_time": "2022-07-15T00:24:48.319Z"
      },
      {
        "duration": 1063,
        "start_time": "2022-07-15T00:24:48.375Z"
      },
      {
        "duration": 32,
        "start_time": "2022-07-15T00:24:49.440Z"
      },
      {
        "duration": 1378,
        "start_time": "2022-07-15T00:24:49.474Z"
      },
      {
        "duration": 73,
        "start_time": "2022-07-15T00:24:50.854Z"
      },
      {
        "duration": 3757,
        "start_time": "2022-07-15T00:24:50.928Z"
      },
      {
        "duration": 4,
        "start_time": "2022-07-15T00:24:54.687Z"
      },
      {
        "duration": 831,
        "start_time": "2022-07-15T00:24:54.695Z"
      },
      {
        "duration": 27,
        "start_time": "2022-07-15T00:24:55.528Z"
      },
      {
        "duration": 534,
        "start_time": "2022-07-15T00:24:55.564Z"
      },
      {
        "duration": 167,
        "start_time": "2022-07-15T00:24:56.100Z"
      },
      {
        "duration": 226,
        "start_time": "2022-07-15T00:24:56.269Z"
      },
      {
        "duration": 190,
        "start_time": "2022-07-15T00:24:56.496Z"
      },
      {
        "duration": 96,
        "start_time": "2022-07-15T00:24:56.688Z"
      },
      {
        "duration": 112,
        "start_time": "2022-07-15T00:24:56.785Z"
      },
      {
        "duration": 5,
        "start_time": "2022-07-15T00:24:56.899Z"
      },
      {
        "duration": 15168,
        "start_time": "2022-07-15T00:24:56.905Z"
      },
      {
        "duration": 63794,
        "start_time": "2022-07-15T00:25:12.074Z"
      },
      {
        "duration": 94,
        "start_time": "2022-07-15T00:26:15.870Z"
      },
      {
        "duration": 11212,
        "start_time": "2022-07-15T00:26:15.966Z"
      },
      {
        "duration": 5187,
        "start_time": "2022-07-15T00:26:27.180Z"
      },
      {
        "duration": 13397,
        "start_time": "2022-07-15T00:26:32.368Z"
      },
      {
        "duration": 3740,
        "start_time": "2022-07-15T00:26:45.768Z"
      },
      {
        "duration": 1377,
        "start_time": "2022-07-15T21:16:18.435Z"
      },
      {
        "duration": 861,
        "start_time": "2022-07-15T21:16:19.813Z"
      },
      {
        "duration": 18,
        "start_time": "2022-07-15T21:16:20.676Z"
      },
      {
        "duration": 141,
        "start_time": "2022-07-15T21:16:20.695Z"
      },
      {
        "duration": 827,
        "start_time": "2022-07-15T21:16:20.838Z"
      },
      {
        "duration": 4,
        "start_time": "2022-07-15T21:16:21.667Z"
      },
      {
        "duration": 7,
        "start_time": "2022-07-15T21:16:21.672Z"
      },
      {
        "duration": 121,
        "start_time": "2022-07-15T21:16:21.680Z"
      },
      {
        "duration": 81,
        "start_time": "2022-07-15T21:16:21.802Z"
      },
      {
        "duration": 141,
        "start_time": "2022-07-15T21:16:21.885Z"
      },
      {
        "duration": 336,
        "start_time": "2022-07-15T21:16:22.028Z"
      },
      {
        "duration": 371,
        "start_time": "2022-07-15T21:16:22.366Z"
      },
      {
        "duration": 327,
        "start_time": "2022-07-15T21:16:22.739Z"
      },
      {
        "duration": 76,
        "start_time": "2022-07-15T21:16:23.068Z"
      },
      {
        "duration": 60,
        "start_time": "2022-07-15T21:16:23.145Z"
      },
      {
        "duration": 81,
        "start_time": "2022-07-15T21:16:23.207Z"
      },
      {
        "duration": 49,
        "start_time": "2022-07-15T21:16:23.290Z"
      },
      {
        "duration": 155,
        "start_time": "2022-07-15T21:16:23.340Z"
      },
      {
        "duration": 295,
        "start_time": "2022-07-15T21:16:23.497Z"
      },
      {
        "duration": 4,
        "start_time": "2022-07-15T21:16:23.793Z"
      },
      {
        "duration": 50,
        "start_time": "2022-07-15T21:16:23.799Z"
      },
      {
        "duration": 1111,
        "start_time": "2022-07-15T21:16:23.863Z"
      },
      {
        "duration": 30,
        "start_time": "2022-07-15T21:16:24.976Z"
      },
      {
        "duration": 1441,
        "start_time": "2022-07-15T21:16:25.008Z"
      },
      {
        "duration": 79,
        "start_time": "2022-07-15T21:16:26.450Z"
      },
      {
        "duration": 3695,
        "start_time": "2022-07-15T21:16:26.531Z"
      },
      {
        "duration": 4,
        "start_time": "2022-07-15T21:16:30.228Z"
      },
      {
        "duration": 902,
        "start_time": "2022-07-15T21:16:30.235Z"
      },
      {
        "duration": 38,
        "start_time": "2022-07-15T21:16:31.139Z"
      },
      {
        "duration": 589,
        "start_time": "2022-07-15T21:16:31.178Z"
      },
      {
        "duration": 167,
        "start_time": "2022-07-15T21:16:31.768Z"
      },
      {
        "duration": 228,
        "start_time": "2022-07-15T21:16:31.937Z"
      },
      {
        "duration": 186,
        "start_time": "2022-07-15T21:16:32.167Z"
      },
      {
        "duration": 92,
        "start_time": "2022-07-15T21:16:32.355Z"
      },
      {
        "duration": 139,
        "start_time": "2022-07-15T21:16:32.449Z"
      },
      {
        "duration": 6,
        "start_time": "2022-07-15T21:16:32.591Z"
      },
      {
        "duration": 22569,
        "start_time": "2022-07-15T21:16:32.599Z"
      },
      {
        "duration": 68195,
        "start_time": "2022-07-15T21:16:55.170Z"
      },
      {
        "duration": 95,
        "start_time": "2022-07-15T21:18:03.371Z"
      },
      {
        "duration": 11273,
        "start_time": "2022-07-15T21:18:03.468Z"
      },
      {
        "duration": 7434,
        "start_time": "2022-07-15T21:18:14.743Z"
      },
      {
        "duration": 13808,
        "start_time": "2022-07-15T21:18:22.263Z"
      },
      {
        "duration": 3827,
        "start_time": "2022-07-15T21:18:36.074Z"
      },
      {
        "duration": 1366,
        "start_time": "2022-07-15T21:20:20.502Z"
      },
      {
        "duration": 823,
        "start_time": "2022-07-15T21:20:21.870Z"
      },
      {
        "duration": 18,
        "start_time": "2022-07-15T21:20:22.694Z"
      },
      {
        "duration": 149,
        "start_time": "2022-07-15T21:20:22.714Z"
      },
      {
        "duration": 99,
        "start_time": "2022-07-15T21:20:22.865Z"
      },
      {
        "duration": 877,
        "start_time": "2022-07-15T21:20:22.966Z"
      },
      {
        "duration": 4,
        "start_time": "2022-07-15T21:20:23.845Z"
      },
      {
        "duration": 14,
        "start_time": "2022-07-15T21:20:23.850Z"
      },
      {
        "duration": 123,
        "start_time": "2022-07-15T21:20:23.866Z"
      },
      {
        "duration": 88,
        "start_time": "2022-07-15T21:20:23.991Z"
      },
      {
        "duration": 142,
        "start_time": "2022-07-15T21:20:24.080Z"
      },
      {
        "duration": 364,
        "start_time": "2022-07-15T21:20:24.223Z"
      },
      {
        "duration": 499,
        "start_time": "2022-07-15T21:20:24.588Z"
      },
      {
        "duration": 695,
        "start_time": "2022-07-15T21:20:25.089Z"
      },
      {
        "duration": 179,
        "start_time": "2022-07-15T21:20:25.786Z"
      },
      {
        "duration": 100,
        "start_time": "2022-07-15T21:20:25.967Z"
      },
      {
        "duration": 123,
        "start_time": "2022-07-15T21:20:26.069Z"
      },
      {
        "duration": 106,
        "start_time": "2022-07-15T21:20:26.193Z"
      },
      {
        "duration": 288,
        "start_time": "2022-07-15T21:20:26.300Z"
      },
      {
        "duration": 330,
        "start_time": "2022-07-15T21:20:26.590Z"
      },
      {
        "duration": 4,
        "start_time": "2022-07-15T21:20:26.922Z"
      },
      {
        "duration": 64,
        "start_time": "2022-07-15T21:20:26.928Z"
      },
      {
        "duration": 1118,
        "start_time": "2022-07-15T21:20:26.994Z"
      },
      {
        "duration": 29,
        "start_time": "2022-07-15T21:20:28.114Z"
      },
      {
        "duration": 1383,
        "start_time": "2022-07-15T21:20:28.145Z"
      },
      {
        "duration": 82,
        "start_time": "2022-07-15T21:20:29.530Z"
      },
      {
        "duration": 3962,
        "start_time": "2022-07-15T21:20:29.613Z"
      },
      {
        "duration": 4,
        "start_time": "2022-07-15T21:20:33.578Z"
      },
      {
        "duration": 869,
        "start_time": "2022-07-15T21:20:33.584Z"
      },
      {
        "duration": 28,
        "start_time": "2022-07-15T21:20:34.463Z"
      },
      {
        "duration": 535,
        "start_time": "2022-07-15T21:20:34.493Z"
      },
      {
        "duration": 174,
        "start_time": "2022-07-15T21:20:35.030Z"
      },
      {
        "duration": 238,
        "start_time": "2022-07-15T21:20:35.205Z"
      },
      {
        "duration": 191,
        "start_time": "2022-07-15T21:20:35.445Z"
      },
      {
        "duration": 98,
        "start_time": "2022-07-15T21:20:35.638Z"
      },
      {
        "duration": 116,
        "start_time": "2022-07-15T21:20:35.737Z"
      },
      {
        "duration": 8,
        "start_time": "2022-07-15T21:20:35.855Z"
      },
      {
        "duration": 1461,
        "start_time": "2022-07-15T21:25:12.144Z"
      },
      {
        "duration": 816,
        "start_time": "2022-07-15T21:25:13.607Z"
      },
      {
        "duration": 16,
        "start_time": "2022-07-15T21:25:14.425Z"
      },
      {
        "duration": 137,
        "start_time": "2022-07-15T21:25:14.443Z"
      },
      {
        "duration": 100,
        "start_time": "2022-07-15T21:25:14.582Z"
      },
      {
        "duration": 909,
        "start_time": "2022-07-15T21:25:14.684Z"
      },
      {
        "duration": 28,
        "start_time": "2022-07-15T21:25:15.777Z"
      },
      {
        "duration": 26,
        "start_time": "2022-07-15T21:29:57.712Z"
      },
      {
        "duration": 4,
        "start_time": "2022-07-15T21:30:00.784Z"
      },
      {
        "duration": 6,
        "start_time": "2022-07-15T21:30:01.211Z"
      },
      {
        "duration": 94,
        "start_time": "2022-07-15T21:30:03.581Z"
      },
      {
        "duration": 80,
        "start_time": "2022-07-15T21:30:05.947Z"
      },
      {
        "duration": 127,
        "start_time": "2022-07-15T21:30:07.039Z"
      },
      {
        "duration": 336,
        "start_time": "2022-07-15T21:30:08.858Z"
      },
      {
        "duration": 334,
        "start_time": "2022-07-15T21:30:09.195Z"
      },
      {
        "duration": 320,
        "start_time": "2022-07-15T21:30:11.767Z"
      },
      {
        "duration": 77,
        "start_time": "2022-07-15T21:30:12.089Z"
      },
      {
        "duration": 44,
        "start_time": "2022-07-15T21:30:12.351Z"
      },
      {
        "duration": 94,
        "start_time": "2022-07-15T21:30:12.545Z"
      },
      {
        "duration": 51,
        "start_time": "2022-07-15T21:30:14.783Z"
      },
      {
        "duration": 148,
        "start_time": "2022-07-15T21:30:14.999Z"
      },
      {
        "duration": 294,
        "start_time": "2022-07-15T21:30:15.491Z"
      },
      {
        "duration": 5,
        "start_time": "2022-07-15T21:30:18.494Z"
      },
      {
        "duration": 47,
        "start_time": "2022-07-15T21:30:20.749Z"
      },
      {
        "duration": 1071,
        "start_time": "2022-07-15T21:30:23.460Z"
      },
      {
        "duration": 36,
        "start_time": "2022-07-15T21:30:24.536Z"
      },
      {
        "duration": 1437,
        "start_time": "2022-07-15T21:31:00.651Z"
      },
      {
        "duration": 81,
        "start_time": "2022-07-15T21:31:02.090Z"
      },
      {
        "duration": 3771,
        "start_time": "2022-07-15T21:31:02.173Z"
      },
      {
        "duration": 18,
        "start_time": "2022-07-15T21:32:01.684Z"
      },
      {
        "duration": 19,
        "start_time": "2022-07-15T21:37:40.239Z"
      },
      {
        "duration": 17,
        "start_time": "2022-07-15T21:40:19.743Z"
      },
      {
        "duration": 19,
        "start_time": "2022-07-15T21:45:38.337Z"
      },
      {
        "duration": 119,
        "start_time": "2022-07-15T21:49:10.445Z"
      },
      {
        "duration": 29,
        "start_time": "2022-07-15T21:50:35.246Z"
      },
      {
        "duration": 4,
        "start_time": "2022-07-15T21:50:37.759Z"
      },
      {
        "duration": 50,
        "start_time": "2022-07-15T21:53:02.294Z"
      },
      {
        "duration": 878,
        "start_time": "2022-07-15T21:53:46.849Z"
      },
      {
        "duration": 27,
        "start_time": "2022-07-15T21:53:47.729Z"
      },
      {
        "duration": 15,
        "start_time": "2022-07-15T21:53:48.093Z"
      },
      {
        "duration": 25,
        "start_time": "2022-07-15T22:06:03.248Z"
      },
      {
        "duration": 454,
        "start_time": "2022-07-15T22:06:06.796Z"
      },
      {
        "duration": 151,
        "start_time": "2022-07-15T22:06:10.051Z"
      },
      {
        "duration": 232,
        "start_time": "2022-07-15T22:06:10.562Z"
      },
      {
        "duration": 158,
        "start_time": "2022-07-15T22:06:10.976Z"
      },
      {
        "duration": 91,
        "start_time": "2022-07-15T22:06:11.546Z"
      },
      {
        "duration": 102,
        "start_time": "2022-07-15T22:06:14.083Z"
      },
      {
        "duration": 6,
        "start_time": "2022-07-15T22:06:15.675Z"
      },
      {
        "duration": 81,
        "start_time": "2022-07-15T22:06:17.269Z"
      },
      {
        "duration": 4,
        "start_time": "2022-07-15T22:06:58.560Z"
      },
      {
        "duration": 6,
        "start_time": "2022-07-15T22:07:02.933Z"
      },
      {
        "duration": 36360,
        "start_time": "2022-07-15T22:07:03.414Z"
      },
      {
        "duration": 79477,
        "start_time": "2022-07-15T22:08:55.813Z"
      },
      {
        "duration": 5,
        "start_time": "2022-07-15T22:31:48.505Z"
      },
      {
        "duration": 10729,
        "start_time": "2022-07-15T22:31:49.417Z"
      },
      {
        "duration": 28217,
        "start_time": "2022-07-15T22:32:00.149Z"
      },
      {
        "duration": 14904,
        "start_time": "2022-07-15T22:32:28.368Z"
      },
      {
        "duration": 3730,
        "start_time": "2022-07-15T22:32:43.276Z"
      },
      {
        "duration": 8,
        "start_time": "2022-07-15T22:38:38.316Z"
      },
      {
        "duration": 8,
        "start_time": "2022-07-15T22:40:35.082Z"
      },
      {
        "duration": 10,
        "start_time": "2022-07-15T22:42:00.699Z"
      },
      {
        "duration": 10,
        "start_time": "2022-07-15T22:42:18.453Z"
      },
      {
        "duration": 110,
        "start_time": "2022-07-16T04:42:58.917Z"
      }
    ],
    "kernelspec": {
      "display_name": "Python 3 (ipykernel)",
      "language": "python",
      "name": "python3"
    },
    "language_info": {
      "codemirror_mode": {
        "name": "ipython",
        "version": 3
      },
      "file_extension": ".py",
      "mimetype": "text/x-python",
      "name": "python",
      "nbconvert_exporter": "python",
      "pygments_lexer": "ipython3",
      "version": "3.9.5"
    },
    "toc": {
      "base_numbering": 1,
      "nav_menu": {},
      "number_sections": true,
      "sideBar": true,
      "skip_h1_title": true,
      "title_cell": "Table of Contents",
      "title_sidebar": "Contents",
      "toc_cell": false,
      "toc_position": {
        "height": "calc(100% - 180px)",
        "left": "10px",
        "top": "150px",
        "width": "289.6px"
      },
      "toc_section_display": true,
      "toc_window_display": true
    },
    "colab": {
      "provenance": []
    }
  },
  "nbformat": 4,
  "nbformat_minor": 0
}