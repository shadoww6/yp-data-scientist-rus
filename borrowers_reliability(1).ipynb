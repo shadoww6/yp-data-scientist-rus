{
  "cells": [
    {
      "cell_type": "markdown",
      "id": "a1150d37",
      "metadata": {
        "id": "a1150d37"
      },
      "source": [
        "# Исследование надежности заемщиков.\n",
        "\n",
        "---\n",
        "\n"
      ]
    },
    {
      "cell_type": "markdown",
      "id": "232eba1d",
      "metadata": {
        "id": "232eba1d"
      },
      "source": [
        "❗ *Оставлены рекомендации проверившего проект ревьюера*"
      ]
    },
    {
      "cell_type": "markdown",
      "source": [
        "Заказчик — кредитный отдел банка. Нужно разобраться, влияет ли семейное положение и количество детей клиента на факт погашения кредита в срок. Входные данные от банка — статистика о платёжеспособности клиентов.\n",
        "Также помимо главной цели исследования попробуем ответить на вопросы:\n",
        "* Как разные цели кредита влияют на его возврат в срок?\n",
        "* Есть ли зависимость между уровнем дохода и возвратом кредита в срок?\n",
        "* Есть ли зависимость между количеством детей и возвратом кредита в срок?\n",
        "* Есть ли зависимость между семейным положением и возвратом кредита в срок?\n",
        "\n",
        "Результаты исследования будут учтены при построении модели **кредитного скоринга** — специальной системы, которая оценивает способность потенциального заёмщика вернуть кредит банку.\n",
        "\n",
        "Все данные собраны в таблицу и подписаны следующим образом:\n",
        "\n",
        "*children* — количество детей в семье;    \n",
        "*days_employed* — общий трудовой стаж в днях;    \n",
        "*dob_years* — возраст клиента в годах;    \n",
        "*education* — уровень образования клиента;    \n",
        "*education_id* — идентификатор уровня образования;    \n",
        "*family_status* — семейное положение;    \n",
        "*family_status_id* — идентификатор семейного положения;    \n",
        "*gender* — пол клиента;    \n",
        "*income_type* — тип занятости;    \n",
        "*debt* — имел ли задолженность по возврату кредитов;    \n",
        "*total_income* — ежемесячный доход;    \n",
        "*purpose* — цель получения кредита."
      ],
      "metadata": {
        "id": "GHE_AJspfI71"
      },
      "id": "GHE_AJspfI71"
    },
    {
      "cell_type": "markdown",
      "id": "2d66808d",
      "metadata": {
        "id": "2d66808d"
      },
      "source": [
        "### Содержание"
      ]
    },
    {
      "cell_type": "markdown",
      "id": "4302eecc",
      "metadata": {
        "id": "4302eecc"
      },
      "source": [
        "* [Шаг 1. Обзор данных](#1)  \n",
        "* [Шаг 2. Предобработка данных](#2)  \n",
        "  * [Шаг 2.1 Заполнение пропусков](#2.1)\n",
        "  * [Шаг 2.2 Удаление дубликатов](#2.2)\n",
        "  * [Шаг 2.3 Изменение типов данных](#2.3)\n",
        "  * [Шаг 2.4 Проверка данных на аномалии и исправления](#2.4)\n",
        "  * [Шаг 2.5 Формирование дополнительных датафреймов словарей, декомпозиция исходного датафрейма](#2.5)\n",
        "  * [Шаг 2.6 Категоризация дохода](#2.6)\n",
        "  * [Шаг 2.7 Категоризация целей кредита](#2.7)\n",
        "* [Шаг 3. Ответы на вопросы](#3)\n",
        "  * [Есть ли зависимость между количеством детей и возвратом кредита в срок?](#3.1)\n",
        "  * [Есть ли зависимость между семейным положением и возвратом кредита в срок?](#3.2)\n",
        "  * [Есть ли зависимость между уровнем дохода и возвратом кредита в срок?](#3.3)\n",
        "  * [Как разные цели кредита влияют на его возврат в срок?](#3.4)\n",
        "* [Шаг 4. Общий вывод](#4)"
      ]
    },
    {
      "cell_type": "markdown",
      "id": "cb4f4781",
      "metadata": {
        "id": "cb4f4781"
      },
      "source": [
        "<a id='1'></a>"
      ]
    },
    {
      "cell_type": "markdown",
      "id": "6c1b99f8",
      "metadata": {
        "id": "6c1b99f8"
      },
      "source": [
        "### Шаг 1. Обзор данных"
      ]
    },
    {
      "cell_type": "markdown",
      "id": "d370b649",
      "metadata": {
        "id": "d370b649"
      },
      "source": [
        "Импортируем нужные нам для работы библиотеки и читаем файл.\n"
      ]
    },
    {
      "cell_type": "code",
      "execution_count": null,
      "id": "011e4c27",
      "metadata": {
        "id": "011e4c27"
      },
      "outputs": [],
      "source": [
        "import pandas as pd\n",
        "from pymystem3 import Mystem\n",
        "m = Mystem()\n",
        "\n",
        "df = pd.read_csv('/datasets/data.csv')"
      ]
    },
    {
      "cell_type": "markdown",
      "id": "78b68cd1",
      "metadata": {
        "id": "78b68cd1"
      },
      "source": [
        "Выведем первые 10 строк, чтобы посмотреть, как сейчас выглядит таблица."
      ]
    },
    {
      "cell_type": "code",
      "execution_count": null,
      "id": "3f2493c0",
      "metadata": {
        "scrolled": true,
        "id": "3f2493c0",
        "outputId": "c758bbc7-c774-4795-d412-cef225e432de"
      },
      "outputs": [
        {
          "data": {
            "text/html": [
              "<div>\n",
              "<style scoped>\n",
              "    .dataframe tbody tr th:only-of-type {\n",
              "        vertical-align: middle;\n",
              "    }\n",
              "\n",
              "    .dataframe tbody tr th {\n",
              "        vertical-align: top;\n",
              "    }\n",
              "\n",
              "    .dataframe thead th {\n",
              "        text-align: right;\n",
              "    }\n",
              "</style>\n",
              "<table border=\"1\" class=\"dataframe\">\n",
              "  <thead>\n",
              "    <tr style=\"text-align: right;\">\n",
              "      <th></th>\n",
              "      <th>children</th>\n",
              "      <th>days_employed</th>\n",
              "      <th>dob_years</th>\n",
              "      <th>education</th>\n",
              "      <th>education_id</th>\n",
              "      <th>family_status</th>\n",
              "      <th>family_status_id</th>\n",
              "      <th>gender</th>\n",
              "      <th>income_type</th>\n",
              "      <th>debt</th>\n",
              "      <th>total_income</th>\n",
              "      <th>purpose</th>\n",
              "    </tr>\n",
              "  </thead>\n",
              "  <tbody>\n",
              "    <tr>\n",
              "      <th>0</th>\n",
              "      <td>1</td>\n",
              "      <td>-8437.673028</td>\n",
              "      <td>42</td>\n",
              "      <td>высшее</td>\n",
              "      <td>0</td>\n",
              "      <td>женат / замужем</td>\n",
              "      <td>0</td>\n",
              "      <td>F</td>\n",
              "      <td>сотрудник</td>\n",
              "      <td>0</td>\n",
              "      <td>253875.639453</td>\n",
              "      <td>покупка жилья</td>\n",
              "    </tr>\n",
              "    <tr>\n",
              "      <th>1</th>\n",
              "      <td>1</td>\n",
              "      <td>-4024.803754</td>\n",
              "      <td>36</td>\n",
              "      <td>среднее</td>\n",
              "      <td>1</td>\n",
              "      <td>женат / замужем</td>\n",
              "      <td>0</td>\n",
              "      <td>F</td>\n",
              "      <td>сотрудник</td>\n",
              "      <td>0</td>\n",
              "      <td>112080.014102</td>\n",
              "      <td>приобретение автомобиля</td>\n",
              "    </tr>\n",
              "    <tr>\n",
              "      <th>2</th>\n",
              "      <td>0</td>\n",
              "      <td>-5623.422610</td>\n",
              "      <td>33</td>\n",
              "      <td>Среднее</td>\n",
              "      <td>1</td>\n",
              "      <td>женат / замужем</td>\n",
              "      <td>0</td>\n",
              "      <td>M</td>\n",
              "      <td>сотрудник</td>\n",
              "      <td>0</td>\n",
              "      <td>145885.952297</td>\n",
              "      <td>покупка жилья</td>\n",
              "    </tr>\n",
              "    <tr>\n",
              "      <th>3</th>\n",
              "      <td>3</td>\n",
              "      <td>-4124.747207</td>\n",
              "      <td>32</td>\n",
              "      <td>среднее</td>\n",
              "      <td>1</td>\n",
              "      <td>женат / замужем</td>\n",
              "      <td>0</td>\n",
              "      <td>M</td>\n",
              "      <td>сотрудник</td>\n",
              "      <td>0</td>\n",
              "      <td>267628.550329</td>\n",
              "      <td>дополнительное образование</td>\n",
              "    </tr>\n",
              "    <tr>\n",
              "      <th>4</th>\n",
              "      <td>0</td>\n",
              "      <td>340266.072047</td>\n",
              "      <td>53</td>\n",
              "      <td>среднее</td>\n",
              "      <td>1</td>\n",
              "      <td>гражданский брак</td>\n",
              "      <td>1</td>\n",
              "      <td>F</td>\n",
              "      <td>пенсионер</td>\n",
              "      <td>0</td>\n",
              "      <td>158616.077870</td>\n",
              "      <td>сыграть свадьбу</td>\n",
              "    </tr>\n",
              "    <tr>\n",
              "      <th>5</th>\n",
              "      <td>0</td>\n",
              "      <td>-926.185831</td>\n",
              "      <td>27</td>\n",
              "      <td>высшее</td>\n",
              "      <td>0</td>\n",
              "      <td>гражданский брак</td>\n",
              "      <td>1</td>\n",
              "      <td>M</td>\n",
              "      <td>компаньон</td>\n",
              "      <td>0</td>\n",
              "      <td>255763.565419</td>\n",
              "      <td>покупка жилья</td>\n",
              "    </tr>\n",
              "    <tr>\n",
              "      <th>6</th>\n",
              "      <td>0</td>\n",
              "      <td>-2879.202052</td>\n",
              "      <td>43</td>\n",
              "      <td>высшее</td>\n",
              "      <td>0</td>\n",
              "      <td>женат / замужем</td>\n",
              "      <td>0</td>\n",
              "      <td>F</td>\n",
              "      <td>компаньон</td>\n",
              "      <td>0</td>\n",
              "      <td>240525.971920</td>\n",
              "      <td>операции с жильем</td>\n",
              "    </tr>\n",
              "    <tr>\n",
              "      <th>7</th>\n",
              "      <td>0</td>\n",
              "      <td>-152.779569</td>\n",
              "      <td>50</td>\n",
              "      <td>СРЕДНЕЕ</td>\n",
              "      <td>1</td>\n",
              "      <td>женат / замужем</td>\n",
              "      <td>0</td>\n",
              "      <td>M</td>\n",
              "      <td>сотрудник</td>\n",
              "      <td>0</td>\n",
              "      <td>135823.934197</td>\n",
              "      <td>образование</td>\n",
              "    </tr>\n",
              "    <tr>\n",
              "      <th>8</th>\n",
              "      <td>2</td>\n",
              "      <td>-6929.865299</td>\n",
              "      <td>35</td>\n",
              "      <td>ВЫСШЕЕ</td>\n",
              "      <td>0</td>\n",
              "      <td>гражданский брак</td>\n",
              "      <td>1</td>\n",
              "      <td>F</td>\n",
              "      <td>сотрудник</td>\n",
              "      <td>0</td>\n",
              "      <td>95856.832424</td>\n",
              "      <td>на проведение свадьбы</td>\n",
              "    </tr>\n",
              "    <tr>\n",
              "      <th>9</th>\n",
              "      <td>0</td>\n",
              "      <td>-2188.756445</td>\n",
              "      <td>41</td>\n",
              "      <td>среднее</td>\n",
              "      <td>1</td>\n",
              "      <td>женат / замужем</td>\n",
              "      <td>0</td>\n",
              "      <td>M</td>\n",
              "      <td>сотрудник</td>\n",
              "      <td>0</td>\n",
              "      <td>144425.938277</td>\n",
              "      <td>покупка жилья для семьи</td>\n",
              "    </tr>\n",
              "  </tbody>\n",
              "</table>\n",
              "</div>"
            ],
            "text/plain": [
              "   children  days_employed  dob_years education  education_id  \\\n",
              "0         1   -8437.673028         42    высшее             0   \n",
              "1         1   -4024.803754         36   среднее             1   \n",
              "2         0   -5623.422610         33   Среднее             1   \n",
              "3         3   -4124.747207         32   среднее             1   \n",
              "4         0  340266.072047         53   среднее             1   \n",
              "5         0    -926.185831         27    высшее             0   \n",
              "6         0   -2879.202052         43    высшее             0   \n",
              "7         0    -152.779569         50   СРЕДНЕЕ             1   \n",
              "8         2   -6929.865299         35    ВЫСШЕЕ             0   \n",
              "9         0   -2188.756445         41   среднее             1   \n",
              "\n",
              "      family_status  family_status_id gender income_type  debt   total_income  \\\n",
              "0   женат / замужем                 0      F   сотрудник     0  253875.639453   \n",
              "1   женат / замужем                 0      F   сотрудник     0  112080.014102   \n",
              "2   женат / замужем                 0      M   сотрудник     0  145885.952297   \n",
              "3   женат / замужем                 0      M   сотрудник     0  267628.550329   \n",
              "4  гражданский брак                 1      F   пенсионер     0  158616.077870   \n",
              "5  гражданский брак                 1      M   компаньон     0  255763.565419   \n",
              "6   женат / замужем                 0      F   компаньон     0  240525.971920   \n",
              "7   женат / замужем                 0      M   сотрудник     0  135823.934197   \n",
              "8  гражданский брак                 1      F   сотрудник     0   95856.832424   \n",
              "9   женат / замужем                 0      M   сотрудник     0  144425.938277   \n",
              "\n",
              "                      purpose  \n",
              "0               покупка жилья  \n",
              "1     приобретение автомобиля  \n",
              "2               покупка жилья  \n",
              "3  дополнительное образование  \n",
              "4             сыграть свадьбу  \n",
              "5               покупка жилья  \n",
              "6           операции с жильем  \n",
              "7                 образование  \n",
              "8       на проведение свадьбы  \n",
              "9     покупка жилья для семьи  "
            ]
          },
          "execution_count": 2,
          "metadata": {},
          "output_type": "execute_result"
        }
      ],
      "source": [
        "df.head(10)"
      ]
    },
    {
      "cell_type": "markdown",
      "id": "719e67e2",
      "metadata": {
        "id": "719e67e2"
      },
      "source": [
        "Также сразу посмотрим на типы данных методом info() и воспользуемся методом describe(), чтобы посмотреть средние, максимальные и минимальные значения."
      ]
    },
    {
      "cell_type": "code",
      "execution_count": null,
      "id": "ae328132",
      "metadata": {
        "id": "ae328132",
        "outputId": "1dfea80a-cd89-4a83-c702-e811dbf6481c"
      },
      "outputs": [
        {
          "name": "stdout",
          "output_type": "stream",
          "text": [
            "<class 'pandas.core.frame.DataFrame'>\n",
            "RangeIndex: 21525 entries, 0 to 21524\n",
            "Data columns (total 12 columns):\n",
            " #   Column            Non-Null Count  Dtype  \n",
            "---  ------            --------------  -----  \n",
            " 0   children          21525 non-null  int64  \n",
            " 1   days_employed     19351 non-null  float64\n",
            " 2   dob_years         21525 non-null  int64  \n",
            " 3   education         21525 non-null  object \n",
            " 4   education_id      21525 non-null  int64  \n",
            " 5   family_status     21525 non-null  object \n",
            " 6   family_status_id  21525 non-null  int64  \n",
            " 7   gender            21525 non-null  object \n",
            " 8   income_type       21525 non-null  object \n",
            " 9   debt              21525 non-null  int64  \n",
            " 10  total_income      19351 non-null  float64\n",
            " 11  purpose           21525 non-null  object \n",
            "dtypes: float64(2), int64(5), object(5)\n",
            "memory usage: 2.0+ MB\n"
          ]
        }
      ],
      "source": [
        "df.info()"
      ]
    },
    {
      "cell_type": "code",
      "execution_count": null,
      "id": "c2e804d8",
      "metadata": {
        "id": "c2e804d8",
        "outputId": "1ad36bda-447c-47e3-84a9-88cd3f0fa662"
      },
      "outputs": [
        {
          "data": {
            "text/html": [
              "<div>\n",
              "<style scoped>\n",
              "    .dataframe tbody tr th:only-of-type {\n",
              "        vertical-align: middle;\n",
              "    }\n",
              "\n",
              "    .dataframe tbody tr th {\n",
              "        vertical-align: top;\n",
              "    }\n",
              "\n",
              "    .dataframe thead th {\n",
              "        text-align: right;\n",
              "    }\n",
              "</style>\n",
              "<table border=\"1\" class=\"dataframe\">\n",
              "  <thead>\n",
              "    <tr style=\"text-align: right;\">\n",
              "      <th></th>\n",
              "      <th>children</th>\n",
              "      <th>days_employed</th>\n",
              "      <th>dob_years</th>\n",
              "      <th>education_id</th>\n",
              "      <th>family_status_id</th>\n",
              "      <th>debt</th>\n",
              "      <th>total_income</th>\n",
              "    </tr>\n",
              "  </thead>\n",
              "  <tbody>\n",
              "    <tr>\n",
              "      <th>count</th>\n",
              "      <td>21525.000000</td>\n",
              "      <td>19351.000000</td>\n",
              "      <td>21525.000000</td>\n",
              "      <td>21525.000000</td>\n",
              "      <td>21525.000000</td>\n",
              "      <td>21525.000000</td>\n",
              "      <td>1.935100e+04</td>\n",
              "    </tr>\n",
              "    <tr>\n",
              "      <th>mean</th>\n",
              "      <td>0.538908</td>\n",
              "      <td>63046.497661</td>\n",
              "      <td>43.293380</td>\n",
              "      <td>0.817236</td>\n",
              "      <td>0.972544</td>\n",
              "      <td>0.080883</td>\n",
              "      <td>1.674223e+05</td>\n",
              "    </tr>\n",
              "    <tr>\n",
              "      <th>std</th>\n",
              "      <td>1.381587</td>\n",
              "      <td>140827.311974</td>\n",
              "      <td>12.574584</td>\n",
              "      <td>0.548138</td>\n",
              "      <td>1.420324</td>\n",
              "      <td>0.272661</td>\n",
              "      <td>1.029716e+05</td>\n",
              "    </tr>\n",
              "    <tr>\n",
              "      <th>min</th>\n",
              "      <td>-1.000000</td>\n",
              "      <td>-18388.949901</td>\n",
              "      <td>0.000000</td>\n",
              "      <td>0.000000</td>\n",
              "      <td>0.000000</td>\n",
              "      <td>0.000000</td>\n",
              "      <td>2.066726e+04</td>\n",
              "    </tr>\n",
              "    <tr>\n",
              "      <th>25%</th>\n",
              "      <td>0.000000</td>\n",
              "      <td>-2747.423625</td>\n",
              "      <td>33.000000</td>\n",
              "      <td>1.000000</td>\n",
              "      <td>0.000000</td>\n",
              "      <td>0.000000</td>\n",
              "      <td>1.030532e+05</td>\n",
              "    </tr>\n",
              "    <tr>\n",
              "      <th>50%</th>\n",
              "      <td>0.000000</td>\n",
              "      <td>-1203.369529</td>\n",
              "      <td>42.000000</td>\n",
              "      <td>1.000000</td>\n",
              "      <td>0.000000</td>\n",
              "      <td>0.000000</td>\n",
              "      <td>1.450179e+05</td>\n",
              "    </tr>\n",
              "    <tr>\n",
              "      <th>75%</th>\n",
              "      <td>1.000000</td>\n",
              "      <td>-291.095954</td>\n",
              "      <td>53.000000</td>\n",
              "      <td>1.000000</td>\n",
              "      <td>1.000000</td>\n",
              "      <td>0.000000</td>\n",
              "      <td>2.034351e+05</td>\n",
              "    </tr>\n",
              "    <tr>\n",
              "      <th>max</th>\n",
              "      <td>20.000000</td>\n",
              "      <td>401755.400475</td>\n",
              "      <td>75.000000</td>\n",
              "      <td>4.000000</td>\n",
              "      <td>4.000000</td>\n",
              "      <td>1.000000</td>\n",
              "      <td>2.265604e+06</td>\n",
              "    </tr>\n",
              "  </tbody>\n",
              "</table>\n",
              "</div>"
            ],
            "text/plain": [
              "           children  days_employed     dob_years  education_id  \\\n",
              "count  21525.000000   19351.000000  21525.000000  21525.000000   \n",
              "mean       0.538908   63046.497661     43.293380      0.817236   \n",
              "std        1.381587  140827.311974     12.574584      0.548138   \n",
              "min       -1.000000  -18388.949901      0.000000      0.000000   \n",
              "25%        0.000000   -2747.423625     33.000000      1.000000   \n",
              "50%        0.000000   -1203.369529     42.000000      1.000000   \n",
              "75%        1.000000    -291.095954     53.000000      1.000000   \n",
              "max       20.000000  401755.400475     75.000000      4.000000   \n",
              "\n",
              "       family_status_id          debt  total_income  \n",
              "count      21525.000000  21525.000000  1.935100e+04  \n",
              "mean           0.972544      0.080883  1.674223e+05  \n",
              "std            1.420324      0.272661  1.029716e+05  \n",
              "min            0.000000      0.000000  2.066726e+04  \n",
              "25%            0.000000      0.000000  1.030532e+05  \n",
              "50%            0.000000      0.000000  1.450179e+05  \n",
              "75%            1.000000      0.000000  2.034351e+05  \n",
              "max            4.000000      1.000000  2.265604e+06  "
            ]
          },
          "execution_count": 4,
          "metadata": {},
          "output_type": "execute_result"
        }
      ],
      "source": [
        "df.describe()"
      ]
    },
    {
      "cell_type": "markdown",
      "id": "d3ef7cbd",
      "metadata": {
        "id": "d3ef7cbd"
      },
      "source": [
        "<a id='2'></a>"
      ]
    },
    {
      "cell_type": "markdown",
      "id": "66301fef",
      "metadata": {
        "id": "66301fef"
      },
      "source": [
        "**Что видим:**  \n",
        "  \n",
        "1. В столбцах *days_employed* и *total_income* есть пропущенные значения. Их равное количество, есть подозрения, что они в одинаковых строках.\n",
        "2. Минимальное количество детей -1. Такого быть не может: или дети есть или их нет.\n",
        "3. Максимальное количество детей 20. Это может быть правдой, а может быть и опечаткой.\n",
        "4. Отрицательное количество дней трудоустройства, такого быть не может.\n",
        "5. У столбца *total_income* тип данных float64, поэтому он так нечитаемо записан.\n",
        "6. Среднее значение в столбце *days_employed* 63046 дней, это почти 173 года. А максимально кто-то отработал 1100 лет. Такого быть не может, в данных есть выбросы.\n",
        "7. Минимальный возраст — 0. Это не было бы странным, если бы мы не говорили о выдаче кредита, банки обязательно запрашивают возраст. Видимо какие-то данные были потеряны."
      ]
    },
    {
      "cell_type": "markdown",
      "id": "027059e1",
      "metadata": {
        "id": "027059e1"
      },
      "source": [
        "### Шаг 2. Предобработка данных"
      ]
    },
    {
      "cell_type": "markdown",
      "id": "5e5d5de1",
      "metadata": {
        "id": "5e5d5de1"
      },
      "source": [
        "<a id='2.1'></a>"
      ]
    },
    {
      "cell_type": "markdown",
      "id": "74dd4189",
      "metadata": {
        "id": "74dd4189"
      },
      "source": [
        "### Шаг 2.1 Заполнение пропусков"
      ]
    },
    {
      "cell_type": "code",
      "execution_count": null,
      "id": "4d2e9097",
      "metadata": {
        "id": "4d2e9097",
        "outputId": "3638221a-769e-4389-d832-ab63d3aa5c93"
      },
      "outputs": [
        {
          "data": {
            "text/plain": [
              "children               0\n",
              "days_employed       2174\n",
              "dob_years              0\n",
              "education              0\n",
              "education_id           0\n",
              "family_status          0\n",
              "family_status_id       0\n",
              "gender                 0\n",
              "income_type            0\n",
              "debt                   0\n",
              "total_income        2174\n",
              "purpose                0\n",
              "dtype: int64"
            ]
          },
          "execution_count": 5,
          "metadata": {},
          "output_type": "execute_result"
        }
      ],
      "source": [
        "df.isna().sum()"
      ]
    },
    {
      "cell_type": "markdown",
      "id": "bd11d33d",
      "metadata": {
        "id": "bd11d33d"
      },
      "source": [
        "Начнём с заполнения пропусков. Как мы уже выяснили, явные пропущенные значения есть в столбцах days_employed и total_income.  \n",
        "Проверим такую гипотезу:  \n",
        "**Данные в столбце days_employed пропущены в тех же строках, как и данные в total_income.**\n",
        "\n",
        "Это поможет нам определиться, каким образом будем пропуски заполнять.  \n",
        "\n",
        "Для того, чтобы её проверить, посчитаем количество строк, где в обоих столбцах пропущены значения. Если их будет 2174, то гипотеза подтвердится."
      ]
    },
    {
      "cell_type": "code",
      "execution_count": null,
      "id": "417c773d",
      "metadata": {
        "id": "417c773d",
        "outputId": "1ff31ffe-9064-4566-ac99-4b73588837dd"
      },
      "outputs": [
        {
          "data": {
            "text/plain": [
              "(2174, 12)"
            ]
          },
          "execution_count": 6,
          "metadata": {},
          "output_type": "execute_result"
        }
      ],
      "source": [
        "df[(df['days_employed'].isna()) & (df['total_income'].isna())].shape"
      ]
    },
    {
      "cell_type": "markdown",
      "id": "f203eb17",
      "metadata": {
        "id": "f203eb17"
      },
      "source": [
        "<div class=\"alert alert-success\"; style=\"border-left: 7px solid green\">\n",
        "<h3>✔ Комментарий ревьюера</h3>\n",
        "    \n",
        "Можно проверить как `(df['days_employed'].isna() == (df['total_income'].isna()).all()`</div>    \n"
      ]
    },
    {
      "cell_type": "markdown",
      "id": "ce2f882c",
      "metadata": {
        "id": "ce2f882c"
      },
      "source": [
        "Гипотеза подтвердилась.\n",
        "\n",
        "Избавляться от строк с пропусками мы не будем, так как потеряем большой набор данных, будем пропуски заполнять.\n",
        "\n",
        "Сгруппируем данные по типу занятости и заполним пропуски медианами. Среднее здесь не подойдёт, потому что у нас есть выбросы, картина не будет соответствовать действительности.  \n",
        "\n",
        "Начнём с доходов. Я сделаю отдельную табличку с медианными доходами, сгруппированными по типу занятости."
      ]
    },
    {
      "cell_type": "code",
      "execution_count": null,
      "id": "646231d8",
      "metadata": {
        "id": "646231d8",
        "outputId": "d3b4d284-b5ea-4050-e22d-09f62be98346"
      },
      "outputs": [
        {
          "data": {
            "text/html": [
              "<div>\n",
              "<style scoped>\n",
              "    .dataframe tbody tr th:only-of-type {\n",
              "        vertical-align: middle;\n",
              "    }\n",
              "\n",
              "    .dataframe tbody tr th {\n",
              "        vertical-align: top;\n",
              "    }\n",
              "\n",
              "    .dataframe thead th {\n",
              "        text-align: right;\n",
              "    }\n",
              "</style>\n",
              "<table border=\"1\" class=\"dataframe\">\n",
              "  <thead>\n",
              "    <tr style=\"text-align: right;\">\n",
              "      <th></th>\n",
              "      <th>total_income</th>\n",
              "    </tr>\n",
              "    <tr>\n",
              "      <th>income_type</th>\n",
              "      <th></th>\n",
              "    </tr>\n",
              "  </thead>\n",
              "  <tbody>\n",
              "    <tr>\n",
              "      <th>безработный</th>\n",
              "      <td>131339.751676</td>\n",
              "    </tr>\n",
              "    <tr>\n",
              "      <th>в декрете</th>\n",
              "      <td>53829.130729</td>\n",
              "    </tr>\n",
              "    <tr>\n",
              "      <th>госслужащий</th>\n",
              "      <td>150447.935283</td>\n",
              "    </tr>\n",
              "    <tr>\n",
              "      <th>компаньон</th>\n",
              "      <td>172357.950966</td>\n",
              "    </tr>\n",
              "    <tr>\n",
              "      <th>пенсионер</th>\n",
              "      <td>118514.486412</td>\n",
              "    </tr>\n",
              "    <tr>\n",
              "      <th>предприниматель</th>\n",
              "      <td>499163.144947</td>\n",
              "    </tr>\n",
              "    <tr>\n",
              "      <th>сотрудник</th>\n",
              "      <td>142594.396847</td>\n",
              "    </tr>\n",
              "    <tr>\n",
              "      <th>студент</th>\n",
              "      <td>98201.625314</td>\n",
              "    </tr>\n",
              "  </tbody>\n",
              "</table>\n",
              "</div>"
            ],
            "text/plain": [
              "                  total_income\n",
              "income_type                   \n",
              "безработный      131339.751676\n",
              "в декрете         53829.130729\n",
              "госслужащий      150447.935283\n",
              "компаньон        172357.950966\n",
              "пенсионер        118514.486412\n",
              "предприниматель  499163.144947\n",
              "сотрудник        142594.396847\n",
              "студент           98201.625314"
            ]
          },
          "execution_count": 7,
          "metadata": {},
          "output_type": "execute_result"
        }
      ],
      "source": [
        "median_income = df.groupby(['income_type']).agg({'total_income' : 'median'})\n",
        "median_income"
      ]
    },
    {
      "cell_type": "markdown",
      "id": "9d18884a",
      "metadata": {
        "id": "9d18884a"
      },
      "source": [
        "Напишем цикл, который заменит все пропуски медианными значениями из таблицы.\n"
      ]
    },
    {
      "cell_type": "code",
      "execution_count": null,
      "id": "48ca8a8b",
      "metadata": {
        "id": "48ca8a8b",
        "outputId": "706aeaac-c5f2-4acc-d186-c247865a07e6"
      },
      "outputs": [
        {
          "data": {
            "text/plain": [
              "children               0\n",
              "days_employed       2174\n",
              "dob_years              0\n",
              "education              0\n",
              "education_id           0\n",
              "family_status          0\n",
              "family_status_id       0\n",
              "gender                 0\n",
              "income_type            0\n",
              "debt                   0\n",
              "total_income           0\n",
              "purpose                0\n",
              "dtype: int64"
            ]
          },
          "execution_count": 8,
          "metadata": {},
          "output_type": "execute_result"
        }
      ],
      "source": [
        "for income_type in median_income.index:\n",
        "    medians_to_fill = median_income.loc[income_type, 'total_income']\n",
        "    df.loc[df['income_type'] == income_type, 'total_income'] = df.loc[df['income_type'] == income_type, 'total_income'].fillna(medians_to_fill)\n",
        "\n",
        "#проверка на пропуски\n",
        "df.isna().sum()"
      ]
    },
    {
      "cell_type": "markdown",
      "id": "cc35a151",
      "metadata": {
        "id": "cc35a151"
      },
      "source": [
        "<div class=\"alert alert-success\"; style=\"border-left: 7px solid green\">\n",
        "<h3>✔ Комментарий ревьюера</h3>\n",
        "    \n",
        "Хороший способ, можно такое делать как\n",
        "    \n",
        "```python\n",
        "df['total_income'] = df['total_income'].\\\n",
        "                                    fillna(df.groupby('income_type')['total_income'].\\\n",
        "                                    transform(lambda x : x.median()))\n",
        "    \n",
        "```\n",
        "\n",
        "Напишу тут также пару общих слов, на которые при замене стоит обращать внимание. Такая замена работает, только если пропуски распределены случайно, т.е. вероятность пропуска в строке не зависит от других значений в строке. Что если бы все прпоуски в столбце `total_income` были только у людей без образования, а у тех людей без образования, где пропусков нет, доход указан 0? Тогда надо было бы заменить пропуски на 0.\n",
        "    \n",
        "Проверять такое можно по-разному, можно, например, для каждого столбца сравнить распределение значения для среза с прпоусками в `total_income` и среза без пропусков. Сделать это можно через `value_counts(normalize=True)`, либо можно группировать по каждому столбцу и смотреть долю пропусков в каждой группе, если их одинаково пропуски распределены случайно (по крайней мере относительно выбранного столбца).\n",
        "    \n",
        "Подробнее об этом можно почитать тут https://loginom.ru/blog/missing  или посмотреть видео: https://youtu.be/YpqUbirqFxQ\n",
        "\n",
        "</div>    \n"
      ]
    },
    {
      "cell_type": "markdown",
      "id": "b1794095",
      "metadata": {
        "id": "b1794095"
      },
      "source": [
        "Теперь разберёмся с отработанными днями. Но перед этим избавимся от отрицательных значений в столбце. Умножение на -1 не подойдёт, потому что есть и положительные, поэтому нам нужно взять значения по модулю."
      ]
    },
    {
      "cell_type": "code",
      "execution_count": null,
      "id": "0373a35b",
      "metadata": {
        "id": "0373a35b",
        "outputId": "ff32f6fb-2a04-4549-ef55-6aa2bfb7445a"
      },
      "outputs": [
        {
          "data": {
            "text/html": [
              "<div>\n",
              "<style scoped>\n",
              "    .dataframe tbody tr th:only-of-type {\n",
              "        vertical-align: middle;\n",
              "    }\n",
              "\n",
              "    .dataframe tbody tr th {\n",
              "        vertical-align: top;\n",
              "    }\n",
              "\n",
              "    .dataframe thead th {\n",
              "        text-align: right;\n",
              "    }\n",
              "</style>\n",
              "<table border=\"1\" class=\"dataframe\">\n",
              "  <thead>\n",
              "    <tr style=\"text-align: right;\">\n",
              "      <th></th>\n",
              "      <th>children</th>\n",
              "      <th>days_employed</th>\n",
              "      <th>dob_years</th>\n",
              "      <th>education_id</th>\n",
              "      <th>family_status_id</th>\n",
              "      <th>debt</th>\n",
              "      <th>total_income</th>\n",
              "    </tr>\n",
              "  </thead>\n",
              "  <tbody>\n",
              "    <tr>\n",
              "      <th>count</th>\n",
              "      <td>21525.000000</td>\n",
              "      <td>19351.000000</td>\n",
              "      <td>21525.000000</td>\n",
              "      <td>21525.000000</td>\n",
              "      <td>21525.000000</td>\n",
              "      <td>21525.000000</td>\n",
              "      <td>2.152500e+04</td>\n",
              "    </tr>\n",
              "    <tr>\n",
              "      <th>mean</th>\n",
              "      <td>0.538908</td>\n",
              "      <td>66914.728907</td>\n",
              "      <td>43.293380</td>\n",
              "      <td>0.817236</td>\n",
              "      <td>0.972544</td>\n",
              "      <td>0.080883</td>\n",
              "      <td>1.652253e+05</td>\n",
              "    </tr>\n",
              "    <tr>\n",
              "      <th>std</th>\n",
              "      <td>1.381587</td>\n",
              "      <td>139030.880527</td>\n",
              "      <td>12.574584</td>\n",
              "      <td>0.548138</td>\n",
              "      <td>1.420324</td>\n",
              "      <td>0.272661</td>\n",
              "      <td>9.804367e+04</td>\n",
              "    </tr>\n",
              "    <tr>\n",
              "      <th>min</th>\n",
              "      <td>-1.000000</td>\n",
              "      <td>24.141633</td>\n",
              "      <td>0.000000</td>\n",
              "      <td>0.000000</td>\n",
              "      <td>0.000000</td>\n",
              "      <td>0.000000</td>\n",
              "      <td>2.066726e+04</td>\n",
              "    </tr>\n",
              "    <tr>\n",
              "      <th>25%</th>\n",
              "      <td>0.000000</td>\n",
              "      <td>927.009265</td>\n",
              "      <td>33.000000</td>\n",
              "      <td>1.000000</td>\n",
              "      <td>0.000000</td>\n",
              "      <td>0.000000</td>\n",
              "      <td>1.077982e+05</td>\n",
              "    </tr>\n",
              "    <tr>\n",
              "      <th>50%</th>\n",
              "      <td>0.000000</td>\n",
              "      <td>2194.220567</td>\n",
              "      <td>42.000000</td>\n",
              "      <td>1.000000</td>\n",
              "      <td>0.000000</td>\n",
              "      <td>0.000000</td>\n",
              "      <td>1.425944e+05</td>\n",
              "    </tr>\n",
              "    <tr>\n",
              "      <th>75%</th>\n",
              "      <td>1.000000</td>\n",
              "      <td>5537.882441</td>\n",
              "      <td>53.000000</td>\n",
              "      <td>1.000000</td>\n",
              "      <td>1.000000</td>\n",
              "      <td>0.000000</td>\n",
              "      <td>1.955499e+05</td>\n",
              "    </tr>\n",
              "    <tr>\n",
              "      <th>max</th>\n",
              "      <td>20.000000</td>\n",
              "      <td>401755.400475</td>\n",
              "      <td>75.000000</td>\n",
              "      <td>4.000000</td>\n",
              "      <td>4.000000</td>\n",
              "      <td>1.000000</td>\n",
              "      <td>2.265604e+06</td>\n",
              "    </tr>\n",
              "  </tbody>\n",
              "</table>\n",
              "</div>"
            ],
            "text/plain": [
              "           children  days_employed     dob_years  education_id  \\\n",
              "count  21525.000000   19351.000000  21525.000000  21525.000000   \n",
              "mean       0.538908   66914.728907     43.293380      0.817236   \n",
              "std        1.381587  139030.880527     12.574584      0.548138   \n",
              "min       -1.000000      24.141633      0.000000      0.000000   \n",
              "25%        0.000000     927.009265     33.000000      1.000000   \n",
              "50%        0.000000    2194.220567     42.000000      1.000000   \n",
              "75%        1.000000    5537.882441     53.000000      1.000000   \n",
              "max       20.000000  401755.400475     75.000000      4.000000   \n",
              "\n",
              "       family_status_id          debt  total_income  \n",
              "count      21525.000000  21525.000000  2.152500e+04  \n",
              "mean           0.972544      0.080883  1.652253e+05  \n",
              "std            1.420324      0.272661  9.804367e+04  \n",
              "min            0.000000      0.000000  2.066726e+04  \n",
              "25%            0.000000      0.000000  1.077982e+05  \n",
              "50%            0.000000      0.000000  1.425944e+05  \n",
              "75%            1.000000      0.000000  1.955499e+05  \n",
              "max            4.000000      1.000000  2.265604e+06  "
            ]
          },
          "execution_count": 9,
          "metadata": {},
          "output_type": "execute_result"
        }
      ],
      "source": [
        "df['days_employed'] = df['days_employed'].abs()\n",
        "\n",
        "df.describe()"
      ]
    },
    {
      "cell_type": "markdown",
      "id": "26c49d1d",
      "metadata": {
        "id": "26c49d1d"
      },
      "source": [
        "Теперь сделаем такую же табличку с медианными значениями, которыми будем заполнять пропуски по тому же принципу, как и с доходом. Среднее здесь тоже, мне кажется, не подойдёт для заполнения, так как точно есть выбросы плюс стаж у разных людей может сильно различаться."
      ]
    },
    {
      "cell_type": "code",
      "execution_count": null,
      "id": "6555dd94",
      "metadata": {
        "id": "6555dd94",
        "outputId": "017ee7e7-4070-4fc2-d706-3d40c0721fe1"
      },
      "outputs": [
        {
          "data": {
            "text/html": [
              "<div>\n",
              "<style scoped>\n",
              "    .dataframe tbody tr th:only-of-type {\n",
              "        vertical-align: middle;\n",
              "    }\n",
              "\n",
              "    .dataframe tbody tr th {\n",
              "        vertical-align: top;\n",
              "    }\n",
              "\n",
              "    .dataframe thead th {\n",
              "        text-align: right;\n",
              "    }\n",
              "</style>\n",
              "<table border=\"1\" class=\"dataframe\">\n",
              "  <thead>\n",
              "    <tr style=\"text-align: right;\">\n",
              "      <th></th>\n",
              "      <th>days_employed</th>\n",
              "    </tr>\n",
              "    <tr>\n",
              "      <th>income_type</th>\n",
              "      <th></th>\n",
              "    </tr>\n",
              "  </thead>\n",
              "  <tbody>\n",
              "    <tr>\n",
              "      <th>безработный</th>\n",
              "      <td>366413.652744</td>\n",
              "    </tr>\n",
              "    <tr>\n",
              "      <th>в декрете</th>\n",
              "      <td>3296.759962</td>\n",
              "    </tr>\n",
              "    <tr>\n",
              "      <th>госслужащий</th>\n",
              "      <td>2689.368353</td>\n",
              "    </tr>\n",
              "    <tr>\n",
              "      <th>компаньон</th>\n",
              "      <td>1547.382223</td>\n",
              "    </tr>\n",
              "    <tr>\n",
              "      <th>пенсионер</th>\n",
              "      <td>365213.306266</td>\n",
              "    </tr>\n",
              "    <tr>\n",
              "      <th>предприниматель</th>\n",
              "      <td>520.848083</td>\n",
              "    </tr>\n",
              "    <tr>\n",
              "      <th>сотрудник</th>\n",
              "      <td>1574.202821</td>\n",
              "    </tr>\n",
              "    <tr>\n",
              "      <th>студент</th>\n",
              "      <td>578.751554</td>\n",
              "    </tr>\n",
              "  </tbody>\n",
              "</table>\n",
              "</div>"
            ],
            "text/plain": [
              "                 days_employed\n",
              "income_type                   \n",
              "безработный      366413.652744\n",
              "в декрете          3296.759962\n",
              "госслужащий        2689.368353\n",
              "компаньон          1547.382223\n",
              "пенсионер        365213.306266\n",
              "предприниматель     520.848083\n",
              "сотрудник          1574.202821\n",
              "студент             578.751554"
            ]
          },
          "execution_count": 10,
          "metadata": {},
          "output_type": "execute_result"
        }
      ],
      "source": [
        "median_days = df.groupby(['income_type']).agg({'days_employed' : 'median'})\n",
        "median_days"
      ]
    },
    {
      "cell_type": "markdown",
      "id": "b7ee70a7",
      "metadata": {
        "id": "b7ee70a7"
      },
      "source": [
        "Можно заметить, что безработные и пенсионеры отработали просто дикое количество дней.\n",
        "  \n",
        "\n",
        "Если медиана показала такое страшное количество, значит, точно от половины безработных и пенсионеров придётся избавиться, что может повлиять на результаты. Поэтому пока удалять их не буду.  \n",
        "Сначала посмотрю минимальный стаж по группе."
      ]
    },
    {
      "cell_type": "code",
      "execution_count": null,
      "id": "ffce1a87",
      "metadata": {
        "scrolled": true,
        "id": "ffce1a87",
        "outputId": "95fae868-1a06-467f-bfd8-0d269bb603e2"
      },
      "outputs": [
        {
          "data": {
            "text/plain": [
              "337524.4668348471"
            ]
          },
          "execution_count": 11,
          "metadata": {},
          "output_type": "execute_result"
        }
      ],
      "source": [
        "df[df['income_type'] == 'безработный']['days_employed'].min()"
      ]
    },
    {
      "cell_type": "code",
      "execution_count": null,
      "id": "7266c2fc",
      "metadata": {
        "scrolled": true,
        "id": "7266c2fc",
        "outputId": "33c6f19e-b5c4-4f01-d70b-86726fdae6c2"
      },
      "outputs": [
        {
          "data": {
            "text/plain": [
              "328728.72060451825"
            ]
          },
          "execution_count": 12,
          "metadata": {},
          "output_type": "execute_result"
        }
      ],
      "source": [
        "df[df['income_type'] == 'пенсионер']['days_employed'].min()"
      ]
    },
    {
      "cell_type": "markdown",
      "id": "f67f5e16",
      "metadata": {
        "id": "f67f5e16"
      },
      "source": [
        "Не избавляться от данных сразу было хорошим решением: тогда бы нам пришлось потерять полностью две группы заёмщиков.  \n",
        "  \n",
        "  \n",
        "Сделаем так: безработным мы полностью обнулим стаж. Какая разница, сколько ты отработал, если не момент взятия кредита ты был безработным и не имел дохода.  \n",
        "  \n",
        "С пенсионерами поступим немного по-другому: чтобы в России стать пенсионером, нужно отработать не менее 15 лет. Поменяем всем пенисонерам стаж на минимальный — в этом исследовании точное количество отработанных лет нам не понадобится."
      ]
    },
    {
      "cell_type": "code",
      "execution_count": null,
      "id": "ceaf3ea6",
      "metadata": {
        "id": "ceaf3ea6"
      },
      "outputs": [],
      "source": [
        "df.loc[df['income_type'] == 'безработный', 'days_employed'] = 0"
      ]
    },
    {
      "cell_type": "code",
      "execution_count": null,
      "id": "d4776086",
      "metadata": {
        "id": "d4776086"
      },
      "outputs": [],
      "source": [
        "df.loc[df['income_type'] == 'пенсионер', 'days_employed'] = 5475"
      ]
    },
    {
      "cell_type": "markdown",
      "id": "55503008",
      "metadata": {
        "id": "55503008"
      },
      "source": [
        "Теперь можно заполнить пропуски медианами"
      ]
    },
    {
      "cell_type": "code",
      "execution_count": null,
      "id": "83b3e483",
      "metadata": {
        "id": "83b3e483",
        "outputId": "cae64648-4bf4-4be5-b079-0670dda128f0"
      },
      "outputs": [
        {
          "data": {
            "text/plain": [
              "children            0\n",
              "days_employed       0\n",
              "dob_years           0\n",
              "education           0\n",
              "education_id        0\n",
              "family_status       0\n",
              "family_status_id    0\n",
              "gender              0\n",
              "income_type         0\n",
              "debt                0\n",
              "total_income        0\n",
              "purpose             0\n",
              "dtype: int64"
            ]
          },
          "execution_count": 15,
          "metadata": {},
          "output_type": "execute_result"
        }
      ],
      "source": [
        "for income_type in median_days.index:\n",
        "    medians_to_fill = median_days.loc[income_type, 'days_employed']\n",
        "    df.loc[df['income_type'] == income_type, 'days_employed'] = df.loc[df['income_type'] == income_type, 'days_employed'].fillna(medians_to_fill)\n",
        "\n",
        "#проверка на пропуски\n",
        "df.isna().sum()"
      ]
    },
    {
      "cell_type": "markdown",
      "id": "84f74d17",
      "metadata": {
        "id": "84f74d17"
      },
      "source": [
        "Пропусков больше нет.    \n",
        "Мне кажется, что природа появления этих данных — ручная или автоматическая ошибка при вычислении точного количества дней: вышла промашка с запятой, отделяющей дробную часть.  \n",
        "  \n",
        "Можно приступать к удалению дубликатов."
      ]
    },
    {
      "cell_type": "markdown",
      "id": "9517e5e9",
      "metadata": {
        "id": "9517e5e9"
      },
      "source": [
        "<a id='2.2'></a>"
      ]
    },
    {
      "cell_type": "markdown",
      "id": "04fb57c0",
      "metadata": {
        "id": "04fb57c0"
      },
      "source": [
        "### Шаг 2.2 Удаление дубликатов."
      ]
    },
    {
      "cell_type": "markdown",
      "id": "3b4b669a",
      "metadata": {
        "id": "3b4b669a"
      },
      "source": [
        "Приведу значения в столбце education к нижнему регистру, чтобы не пропустить дубликаты. Посчитаем количество дубликатов методом «duplicated()»"
      ]
    },
    {
      "cell_type": "code",
      "execution_count": null,
      "id": "4a9ae6ae",
      "metadata": {
        "id": "4a9ae6ae",
        "outputId": "6611ba61-3fa3-4996-a9ab-26367ba52778"
      },
      "outputs": [
        {
          "data": {
            "text/plain": [
              "71"
            ]
          },
          "execution_count": 16,
          "metadata": {},
          "output_type": "execute_result"
        }
      ],
      "source": [
        "df['education'] = df['education'].str.lower()\n",
        "df.duplicated().sum()"
      ]
    },
    {
      "cell_type": "markdown",
      "id": "4f35b9c4",
      "metadata": {
        "id": "4f35b9c4"
      },
      "source": [
        "Это 0.3% данных, можем смело от них избавиться"
      ]
    },
    {
      "cell_type": "code",
      "execution_count": null,
      "id": "d2ecd026",
      "metadata": {
        "id": "d2ecd026",
        "outputId": "300e6b86-bbb4-4be5-8662-7b1e971d2a04"
      },
      "outputs": [
        {
          "data": {
            "text/plain": [
              "0"
            ]
          },
          "execution_count": 17,
          "metadata": {},
          "output_type": "execute_result"
        }
      ],
      "source": [
        "df = df.drop_duplicates().reset_index(drop = True)\n",
        "df.duplicated().sum()"
      ]
    },
    {
      "cell_type": "markdown",
      "id": "d36b1613",
      "metadata": {
        "id": "d36b1613"
      },
      "source": [
        "Дубликатов в датафрейме больше нет  \n",
        "  \n",
        "Думаю, что причиной их появления может быть ошибочное создание дублей при ручном внесении данных."
      ]
    },
    {
      "cell_type": "markdown",
      "id": "01a1123a",
      "metadata": {
        "id": "01a1123a"
      },
      "source": [
        "<a id='2.3'></a>"
      ]
    },
    {
      "cell_type": "markdown",
      "id": "9fca9324",
      "metadata": {
        "id": "9fca9324"
      },
      "source": [
        "### Шаг 2.3. Изменение типов данных."
      ]
    },
    {
      "cell_type": "code",
      "execution_count": null,
      "id": "4eca3734",
      "metadata": {
        "id": "4eca3734",
        "outputId": "0ac67e34-554d-4bdd-ece4-a08130c0934c"
      },
      "outputs": [
        {
          "name": "stdout",
          "output_type": "stream",
          "text": [
            "<class 'pandas.core.frame.DataFrame'>\n",
            "RangeIndex: 21454 entries, 0 to 21453\n",
            "Data columns (total 12 columns):\n",
            " #   Column            Non-Null Count  Dtype  \n",
            "---  ------            --------------  -----  \n",
            " 0   children          21454 non-null  int64  \n",
            " 1   days_employed     21454 non-null  float64\n",
            " 2   dob_years         21454 non-null  int64  \n",
            " 3   education         21454 non-null  object \n",
            " 4   education_id      21454 non-null  int64  \n",
            " 5   family_status     21454 non-null  object \n",
            " 6   family_status_id  21454 non-null  int64  \n",
            " 7   gender            21454 non-null  object \n",
            " 8   income_type       21454 non-null  object \n",
            " 9   debt              21454 non-null  int64  \n",
            " 10  total_income      21454 non-null  float64\n",
            " 11  purpose           21454 non-null  object \n",
            "dtypes: float64(2), int64(5), object(5)\n",
            "memory usage: 2.0+ MB\n"
          ]
        }
      ],
      "source": [
        "df.info()"
      ]
    },
    {
      "cell_type": "markdown",
      "id": "7ff21233",
      "metadata": {
        "id": "7ff21233"
      },
      "source": [
        "Нам сейчас не особо важна точность значений ежемесячного дохода и общего трудового стажа, поэтому переведём вещественный тип данных этих столбцов в целочисленный. Так будет и нагляднее, и заодно сократится время обработки данных"
      ]
    },
    {
      "cell_type": "code",
      "execution_count": null,
      "id": "864d2118",
      "metadata": {
        "id": "864d2118",
        "outputId": "94b6d386-aa3d-4f6c-eb33-4c0392e5374e"
      },
      "outputs": [
        {
          "name": "stdout",
          "output_type": "stream",
          "text": [
            "<class 'pandas.core.frame.DataFrame'>\n",
            "RangeIndex: 21454 entries, 0 to 21453\n",
            "Data columns (total 12 columns):\n",
            " #   Column            Non-Null Count  Dtype \n",
            "---  ------            --------------  ----- \n",
            " 0   children          21454 non-null  int64 \n",
            " 1   days_employed     21454 non-null  int64 \n",
            " 2   dob_years         21454 non-null  int64 \n",
            " 3   education         21454 non-null  object\n",
            " 4   education_id      21454 non-null  int64 \n",
            " 5   family_status     21454 non-null  object\n",
            " 6   family_status_id  21454 non-null  int64 \n",
            " 7   gender            21454 non-null  object\n",
            " 8   income_type       21454 non-null  object\n",
            " 9   debt              21454 non-null  int64 \n",
            " 10  total_income      21454 non-null  int64 \n",
            " 11  purpose           21454 non-null  object\n",
            "dtypes: int64(7), object(5)\n",
            "memory usage: 2.0+ MB\n"
          ]
        }
      ],
      "source": [
        "df['days_employed'] = df['days_employed'].astype('int')\n",
        "df['total_income'] = df['total_income'].astype('int')\n",
        "\n",
        "df.info()"
      ]
    },
    {
      "cell_type": "markdown",
      "id": "272d0371",
      "metadata": {
        "id": "272d0371"
      },
      "source": [
        "<a id='2.4'></a>"
      ]
    },
    {
      "cell_type": "markdown",
      "id": "25763bfb",
      "metadata": {
        "id": "25763bfb"
      },
      "source": [
        "### Шаг 2.4. Проверка данных на аномалии и исправления."
      ]
    },
    {
      "cell_type": "markdown",
      "id": "96d44c30",
      "metadata": {
        "id": "96d44c30"
      },
      "source": [
        "Аномально большой и отрицательный трудовой стаж я уже обработала при заполнении пропусков, вернёмся к выводам из пункта обзора данных и вспомним, что ещё осталось без внимания.  \n",
        "\n",
        "1. Минимальное количество детей -1.\n",
        "2. Максимальное количество детей 20.\n",
        "3. Минимальный возраст — 0.  \n",
        "  \n",
        "Начнём с минимального возраста. Кредит нельзя взять до совершеннолетия, однако могут бысть исключения, когда лицо могут признать дееспособным ещё до 18 лет. Но это очень редкие случаи, да и сейчас у нас нет возможности проверить каждого такого человека отдельно, поэтому этим пренебрежём и сделаем всех нулевых заёмщиков 18-ти летними."
      ]
    },
    {
      "cell_type": "code",
      "execution_count": null,
      "id": "079c8704",
      "metadata": {
        "id": "079c8704",
        "outputId": "8ad54213-5bca-47dd-a40b-234fd0e677a8"
      },
      "outputs": [
        {
          "data": {
            "text/plain": [
              "18"
            ]
          },
          "execution_count": 20,
          "metadata": {},
          "output_type": "execute_result"
        }
      ],
      "source": [
        "df.loc[df['dob_years'] == 0, 'dob_years'] = 18\n",
        "df['dob_years'].min()"
      ]
    },
    {
      "cell_type": "markdown",
      "id": "62611535",
      "metadata": {
        "id": "62611535"
      },
      "source": [
        "<div class=\"alert alert-success\"; style=\"border-left: 7px solid green\">\n",
        "<h3>✔ Комментарий ревьюера</h3>\n",
        "    \n",
        "Если такие значения распределены равномерно по датасету, то их можно заменять медианой\n",
        "</div>    \n"
      ]
    },
    {
      "cell_type": "markdown",
      "id": "5fffcf31",
      "metadata": {
        "id": "5fffcf31"
      },
      "source": [
        "Проверим на всякий случай, нет ли у нас таких пенсионеров"
      ]
    },
    {
      "cell_type": "code",
      "execution_count": null,
      "id": "192d65eb",
      "metadata": {
        "id": "192d65eb",
        "outputId": "df26f186-7fbd-4030-f486-51e7d7fa3d53"
      },
      "outputs": [
        {
          "data": {
            "text/html": [
              "<div>\n",
              "<style scoped>\n",
              "    .dataframe tbody tr th:only-of-type {\n",
              "        vertical-align: middle;\n",
              "    }\n",
              "\n",
              "    .dataframe tbody tr th {\n",
              "        vertical-align: top;\n",
              "    }\n",
              "\n",
              "    .dataframe thead th {\n",
              "        text-align: right;\n",
              "    }\n",
              "</style>\n",
              "<table border=\"1\" class=\"dataframe\">\n",
              "  <thead>\n",
              "    <tr style=\"text-align: right;\">\n",
              "      <th></th>\n",
              "      <th>children</th>\n",
              "      <th>days_employed</th>\n",
              "      <th>dob_years</th>\n",
              "      <th>education</th>\n",
              "      <th>education_id</th>\n",
              "      <th>family_status</th>\n",
              "      <th>family_status_id</th>\n",
              "      <th>gender</th>\n",
              "      <th>income_type</th>\n",
              "      <th>debt</th>\n",
              "      <th>total_income</th>\n",
              "      <th>purpose</th>\n",
              "    </tr>\n",
              "  </thead>\n",
              "  <tbody>\n",
              "    <tr>\n",
              "      <th>99</th>\n",
              "      <td>0</td>\n",
              "      <td>5475</td>\n",
              "      <td>18</td>\n",
              "      <td>среднее</td>\n",
              "      <td>1</td>\n",
              "      <td>женат / замужем</td>\n",
              "      <td>0</td>\n",
              "      <td>F</td>\n",
              "      <td>пенсионер</td>\n",
              "      <td>0</td>\n",
              "      <td>71291</td>\n",
              "      <td>автомобиль</td>\n",
              "    </tr>\n",
              "    <tr>\n",
              "      <th>578</th>\n",
              "      <td>0</td>\n",
              "      <td>5475</td>\n",
              "      <td>18</td>\n",
              "      <td>среднее</td>\n",
              "      <td>1</td>\n",
              "      <td>женат / замужем</td>\n",
              "      <td>0</td>\n",
              "      <td>F</td>\n",
              "      <td>пенсионер</td>\n",
              "      <td>0</td>\n",
              "      <td>97620</td>\n",
              "      <td>строительство собственной недвижимости</td>\n",
              "    </tr>\n",
              "    <tr>\n",
              "      <th>1175</th>\n",
              "      <td>0</td>\n",
              "      <td>5475</td>\n",
              "      <td>18</td>\n",
              "      <td>среднее</td>\n",
              "      <td>1</td>\n",
              "      <td>женат / замужем</td>\n",
              "      <td>0</td>\n",
              "      <td>F</td>\n",
              "      <td>пенсионер</td>\n",
              "      <td>0</td>\n",
              "      <td>313949</td>\n",
              "      <td>получение дополнительного образования</td>\n",
              "    </tr>\n",
              "    <tr>\n",
              "      <th>1898</th>\n",
              "      <td>0</td>\n",
              "      <td>5475</td>\n",
              "      <td>18</td>\n",
              "      <td>среднее</td>\n",
              "      <td>1</td>\n",
              "      <td>вдовец / вдова</td>\n",
              "      <td>2</td>\n",
              "      <td>F</td>\n",
              "      <td>пенсионер</td>\n",
              "      <td>0</td>\n",
              "      <td>127400</td>\n",
              "      <td>на покупку автомобиля</td>\n",
              "    </tr>\n",
              "    <tr>\n",
              "      <th>2284</th>\n",
              "      <td>0</td>\n",
              "      <td>5475</td>\n",
              "      <td>18</td>\n",
              "      <td>среднее</td>\n",
              "      <td>1</td>\n",
              "      <td>вдовец / вдова</td>\n",
              "      <td>2</td>\n",
              "      <td>F</td>\n",
              "      <td>пенсионер</td>\n",
              "      <td>0</td>\n",
              "      <td>118514</td>\n",
              "      <td>недвижимость</td>\n",
              "    </tr>\n",
              "    <tr>\n",
              "      <th>4918</th>\n",
              "      <td>0</td>\n",
              "      <td>5475</td>\n",
              "      <td>18</td>\n",
              "      <td>высшее</td>\n",
              "      <td>0</td>\n",
              "      <td>вдовец / вдова</td>\n",
              "      <td>2</td>\n",
              "      <td>F</td>\n",
              "      <td>пенсионер</td>\n",
              "      <td>1</td>\n",
              "      <td>183556</td>\n",
              "      <td>свой автомобиль</td>\n",
              "    </tr>\n",
              "    <tr>\n",
              "      <th>6405</th>\n",
              "      <td>0</td>\n",
              "      <td>5475</td>\n",
              "      <td>18</td>\n",
              "      <td>высшее</td>\n",
              "      <td>0</td>\n",
              "      <td>гражданский брак</td>\n",
              "      <td>1</td>\n",
              "      <td>F</td>\n",
              "      <td>пенсионер</td>\n",
              "      <td>0</td>\n",
              "      <td>118514</td>\n",
              "      <td>свадьба</td>\n",
              "    </tr>\n",
              "    <tr>\n",
              "      <th>6664</th>\n",
              "      <td>0</td>\n",
              "      <td>5475</td>\n",
              "      <td>18</td>\n",
              "      <td>высшее</td>\n",
              "      <td>0</td>\n",
              "      <td>в разводе</td>\n",
              "      <td>3</td>\n",
              "      <td>F</td>\n",
              "      <td>пенсионер</td>\n",
              "      <td>0</td>\n",
              "      <td>118514</td>\n",
              "      <td>покупка жилой недвижимости</td>\n",
              "    </tr>\n",
              "    <tr>\n",
              "      <th>7028</th>\n",
              "      <td>0</td>\n",
              "      <td>5475</td>\n",
              "      <td>18</td>\n",
              "      <td>высшее</td>\n",
              "      <td>0</td>\n",
              "      <td>Не женат / не замужем</td>\n",
              "      <td>4</td>\n",
              "      <td>F</td>\n",
              "      <td>пенсионер</td>\n",
              "      <td>0</td>\n",
              "      <td>263121</td>\n",
              "      <td>образование</td>\n",
              "    </tr>\n",
              "    <tr>\n",
              "      <th>8052</th>\n",
              "      <td>0</td>\n",
              "      <td>5475</td>\n",
              "      <td>18</td>\n",
              "      <td>высшее</td>\n",
              "      <td>0</td>\n",
              "      <td>Не женат / не замужем</td>\n",
              "      <td>4</td>\n",
              "      <td>F</td>\n",
              "      <td>пенсионер</td>\n",
              "      <td>0</td>\n",
              "      <td>61804</td>\n",
              "      <td>высшее образование</td>\n",
              "    </tr>\n",
              "    <tr>\n",
              "      <th>10173</th>\n",
              "      <td>0</td>\n",
              "      <td>5475</td>\n",
              "      <td>18</td>\n",
              "      <td>среднее</td>\n",
              "      <td>1</td>\n",
              "      <td>женат / замужем</td>\n",
              "      <td>0</td>\n",
              "      <td>M</td>\n",
              "      <td>пенсионер</td>\n",
              "      <td>0</td>\n",
              "      <td>102621</td>\n",
              "      <td>операции с недвижимостью</td>\n",
              "    </tr>\n",
              "    <tr>\n",
              "      <th>12042</th>\n",
              "      <td>0</td>\n",
              "      <td>5475</td>\n",
              "      <td>18</td>\n",
              "      <td>среднее</td>\n",
              "      <td>1</td>\n",
              "      <td>женат / замужем</td>\n",
              "      <td>0</td>\n",
              "      <td>F</td>\n",
              "      <td>пенсионер</td>\n",
              "      <td>0</td>\n",
              "      <td>206718</td>\n",
              "      <td>покупка жилья</td>\n",
              "    </tr>\n",
              "    <tr>\n",
              "      <th>12707</th>\n",
              "      <td>0</td>\n",
              "      <td>5475</td>\n",
              "      <td>18</td>\n",
              "      <td>среднее</td>\n",
              "      <td>1</td>\n",
              "      <td>вдовец / вдова</td>\n",
              "      <td>2</td>\n",
              "      <td>F</td>\n",
              "      <td>пенсионер</td>\n",
              "      <td>0</td>\n",
              "      <td>54815</td>\n",
              "      <td>образование</td>\n",
              "    </tr>\n",
              "    <tr>\n",
              "      <th>14484</th>\n",
              "      <td>0</td>\n",
              "      <td>5475</td>\n",
              "      <td>18</td>\n",
              "      <td>среднее</td>\n",
              "      <td>1</td>\n",
              "      <td>вдовец / вдова</td>\n",
              "      <td>2</td>\n",
              "      <td>F</td>\n",
              "      <td>пенсионер</td>\n",
              "      <td>0</td>\n",
              "      <td>87215</td>\n",
              "      <td>заняться высшим образованием</td>\n",
              "    </tr>\n",
              "    <tr>\n",
              "      <th>14629</th>\n",
              "      <td>0</td>\n",
              "      <td>5475</td>\n",
              "      <td>18</td>\n",
              "      <td>среднее</td>\n",
              "      <td>1</td>\n",
              "      <td>Не женат / не замужем</td>\n",
              "      <td>4</td>\n",
              "      <td>F</td>\n",
              "      <td>пенсионер</td>\n",
              "      <td>0</td>\n",
              "      <td>34974</td>\n",
              "      <td>жилье</td>\n",
              "    </tr>\n",
              "    <tr>\n",
              "      <th>15851</th>\n",
              "      <td>0</td>\n",
              "      <td>5475</td>\n",
              "      <td>18</td>\n",
              "      <td>среднее</td>\n",
              "      <td>1</td>\n",
              "      <td>женат / замужем</td>\n",
              "      <td>0</td>\n",
              "      <td>F</td>\n",
              "      <td>пенсионер</td>\n",
              "      <td>0</td>\n",
              "      <td>50230</td>\n",
              "      <td>высшее образование</td>\n",
              "    </tr>\n",
              "    <tr>\n",
              "      <th>16822</th>\n",
              "      <td>0</td>\n",
              "      <td>5475</td>\n",
              "      <td>18</td>\n",
              "      <td>среднее</td>\n",
              "      <td>1</td>\n",
              "      <td>в разводе</td>\n",
              "      <td>3</td>\n",
              "      <td>F</td>\n",
              "      <td>пенсионер</td>\n",
              "      <td>0</td>\n",
              "      <td>218284</td>\n",
              "      <td>покупка жилья</td>\n",
              "    </tr>\n",
              "    <tr>\n",
              "      <th>19064</th>\n",
              "      <td>0</td>\n",
              "      <td>5475</td>\n",
              "      <td>18</td>\n",
              "      <td>высшее</td>\n",
              "      <td>0</td>\n",
              "      <td>женат / замужем</td>\n",
              "      <td>0</td>\n",
              "      <td>F</td>\n",
              "      <td>пенсионер</td>\n",
              "      <td>0</td>\n",
              "      <td>91791</td>\n",
              "      <td>покупка коммерческой недвижимости</td>\n",
              "    </tr>\n",
              "    <tr>\n",
              "      <th>20397</th>\n",
              "      <td>0</td>\n",
              "      <td>5475</td>\n",
              "      <td>18</td>\n",
              "      <td>среднее</td>\n",
              "      <td>1</td>\n",
              "      <td>женат / замужем</td>\n",
              "      <td>0</td>\n",
              "      <td>F</td>\n",
              "      <td>пенсионер</td>\n",
              "      <td>0</td>\n",
              "      <td>259193</td>\n",
              "      <td>покупка своего жилья</td>\n",
              "    </tr>\n",
              "    <tr>\n",
              "      <th>20512</th>\n",
              "      <td>0</td>\n",
              "      <td>5475</td>\n",
              "      <td>18</td>\n",
              "      <td>среднее</td>\n",
              "      <td>1</td>\n",
              "      <td>Не женат / не замужем</td>\n",
              "      <td>4</td>\n",
              "      <td>F</td>\n",
              "      <td>пенсионер</td>\n",
              "      <td>0</td>\n",
              "      <td>129788</td>\n",
              "      <td>недвижимость</td>\n",
              "    </tr>\n",
              "  </tbody>\n",
              "</table>\n",
              "</div>"
            ],
            "text/plain": [
              "       children  days_employed  dob_years education  education_id  \\\n",
              "99            0           5475         18   среднее             1   \n",
              "578           0           5475         18   среднее             1   \n",
              "1175          0           5475         18   среднее             1   \n",
              "1898          0           5475         18   среднее             1   \n",
              "2284          0           5475         18   среднее             1   \n",
              "4918          0           5475         18    высшее             0   \n",
              "6405          0           5475         18    высшее             0   \n",
              "6664          0           5475         18    высшее             0   \n",
              "7028          0           5475         18    высшее             0   \n",
              "8052          0           5475         18    высшее             0   \n",
              "10173         0           5475         18   среднее             1   \n",
              "12042         0           5475         18   среднее             1   \n",
              "12707         0           5475         18   среднее             1   \n",
              "14484         0           5475         18   среднее             1   \n",
              "14629         0           5475         18   среднее             1   \n",
              "15851         0           5475         18   среднее             1   \n",
              "16822         0           5475         18   среднее             1   \n",
              "19064         0           5475         18    высшее             0   \n",
              "20397         0           5475         18   среднее             1   \n",
              "20512         0           5475         18   среднее             1   \n",
              "\n",
              "               family_status  family_status_id gender income_type  debt  \\\n",
              "99           женат / замужем                 0      F   пенсионер     0   \n",
              "578          женат / замужем                 0      F   пенсионер     0   \n",
              "1175         женат / замужем                 0      F   пенсионер     0   \n",
              "1898          вдовец / вдова                 2      F   пенсионер     0   \n",
              "2284          вдовец / вдова                 2      F   пенсионер     0   \n",
              "4918          вдовец / вдова                 2      F   пенсионер     1   \n",
              "6405        гражданский брак                 1      F   пенсионер     0   \n",
              "6664               в разводе                 3      F   пенсионер     0   \n",
              "7028   Не женат / не замужем                 4      F   пенсионер     0   \n",
              "8052   Не женат / не замужем                 4      F   пенсионер     0   \n",
              "10173        женат / замужем                 0      M   пенсионер     0   \n",
              "12042        женат / замужем                 0      F   пенсионер     0   \n",
              "12707         вдовец / вдова                 2      F   пенсионер     0   \n",
              "14484         вдовец / вдова                 2      F   пенсионер     0   \n",
              "14629  Не женат / не замужем                 4      F   пенсионер     0   \n",
              "15851        женат / замужем                 0      F   пенсионер     0   \n",
              "16822              в разводе                 3      F   пенсионер     0   \n",
              "19064        женат / замужем                 0      F   пенсионер     0   \n",
              "20397        женат / замужем                 0      F   пенсионер     0   \n",
              "20512  Не женат / не замужем                 4      F   пенсионер     0   \n",
              "\n",
              "       total_income                                 purpose  \n",
              "99            71291                              автомобиль  \n",
              "578           97620  строительство собственной недвижимости  \n",
              "1175         313949   получение дополнительного образования  \n",
              "1898         127400                   на покупку автомобиля  \n",
              "2284         118514                            недвижимость  \n",
              "4918         183556                         свой автомобиль  \n",
              "6405         118514                                 свадьба  \n",
              "6664         118514              покупка жилой недвижимости  \n",
              "7028         263121                             образование  \n",
              "8052          61804                      высшее образование  \n",
              "10173        102621                операции с недвижимостью  \n",
              "12042        206718                           покупка жилья  \n",
              "12707         54815                             образование  \n",
              "14484         87215            заняться высшим образованием  \n",
              "14629         34974                                   жилье  \n",
              "15851         50230                      высшее образование  \n",
              "16822        218284                           покупка жилья  \n",
              "19064         91791       покупка коммерческой недвижимости  \n",
              "20397        259193                    покупка своего жилья  \n",
              "20512        129788                            недвижимость  "
            ]
          },
          "execution_count": 21,
          "metadata": {},
          "output_type": "execute_result"
        }
      ],
      "source": [
        "df[(df['income_type'] == 'пенсионер') & (df['dob_years'] == 18)]"
      ]
    },
    {
      "cell_type": "markdown",
      "id": "19a05d57",
      "metadata": {
        "id": "19a05d57"
      },
      "source": [
        "О нет, есть :(\n",
        "Тогда меняем тактику, всем 18-ти летним пенсионерам заменим возвраст на медианный"
      ]
    },
    {
      "cell_type": "code",
      "execution_count": null,
      "id": "ccfd35fc",
      "metadata": {
        "id": "ccfd35fc",
        "outputId": "2a410a9c-6ccd-4bbe-d7de-1ec9959e6afb"
      },
      "outputs": [
        {
          "data": {
            "text/html": [
              "<div>\n",
              "<style scoped>\n",
              "    .dataframe tbody tr th:only-of-type {\n",
              "        vertical-align: middle;\n",
              "    }\n",
              "\n",
              "    .dataframe tbody tr th {\n",
              "        vertical-align: top;\n",
              "    }\n",
              "\n",
              "    .dataframe thead th {\n",
              "        text-align: right;\n",
              "    }\n",
              "</style>\n",
              "<table border=\"1\" class=\"dataframe\">\n",
              "  <thead>\n",
              "    <tr style=\"text-align: right;\">\n",
              "      <th></th>\n",
              "      <th>children</th>\n",
              "      <th>days_employed</th>\n",
              "      <th>dob_years</th>\n",
              "      <th>education</th>\n",
              "      <th>education_id</th>\n",
              "      <th>family_status</th>\n",
              "      <th>family_status_id</th>\n",
              "      <th>gender</th>\n",
              "      <th>income_type</th>\n",
              "      <th>debt</th>\n",
              "      <th>total_income</th>\n",
              "      <th>purpose</th>\n",
              "    </tr>\n",
              "  </thead>\n",
              "  <tbody>\n",
              "  </tbody>\n",
              "</table>\n",
              "</div>"
            ],
            "text/plain": [
              "Empty DataFrame\n",
              "Columns: [children, days_employed, dob_years, education, education_id, family_status, family_status_id, gender, income_type, debt, total_income, purpose]\n",
              "Index: []"
            ]
          },
          "execution_count": 22,
          "metadata": {},
          "output_type": "execute_result"
        }
      ],
      "source": [
        "df.loc[(df['income_type'] == 'пенсионер') & (df['dob_years'] == 18), 'dob_years'] = df[df['income_type'] == 'пенсионер']['dob_years'].median()\n",
        "df[(df['income_type'] == 'пенсионер') & (df['dob_years'] == 18)]"
      ]
    },
    {
      "cell_type": "markdown",
      "id": "a7bac4b1",
      "metadata": {
        "id": "a7bac4b1"
      },
      "source": [
        "Теперь можно переходить к детям.\n",
        "  \n",
        "Сложно опечататься и написать вместо 1 отрицательное число, так что будем считать , что это машинныая ошибка и заменим всех отрицательных детей на нули."
      ]
    },
    {
      "cell_type": "code",
      "execution_count": null,
      "id": "b910c70d",
      "metadata": {
        "scrolled": true,
        "id": "b910c70d",
        "outputId": "31c07605-6d97-469e-fafa-2656adcecefb"
      },
      "outputs": [
        {
          "data": {
            "text/plain": [
              "0"
            ]
          },
          "execution_count": 23,
          "metadata": {},
          "output_type": "execute_result"
        }
      ],
      "source": [
        "df['children'] = df['children'].replace(-1, 0)\n",
        "df[df['children'] == -1].count()[0]"
      ]
    },
    {
      "cell_type": "markdown",
      "id": "a674934b",
      "metadata": {
        "id": "a674934b"
      },
      "source": [
        "Посчитаем, сколько людей с 20 детьми, чтобы понять, выбросы ли это или всё же есть один счастливчик (в одного ещё можно поверить, в 2 и более уже тяжело)"
      ]
    },
    {
      "cell_type": "code",
      "execution_count": null,
      "id": "a7ab0afe",
      "metadata": {
        "id": "a7ab0afe",
        "outputId": "041e9206-6582-49fa-e700-3dc447847cb2"
      },
      "outputs": [
        {
          "data": {
            "text/plain": [
              "76"
            ]
          },
          "execution_count": 24,
          "metadata": {},
          "output_type": "execute_result"
        }
      ],
      "source": [
        "df[df['children'] == 20].count()[0]"
      ]
    },
    {
      "cell_type": "markdown",
      "id": "863635c6",
      "metadata": {
        "id": "863635c6"
      },
      "source": [
        "Целых 76 штук, это очевидно выбросы. На стандартной клавиатуре 2 и 0 стоят в опасной близости, так что будем считать это опечатками и заменим значения на нули"
      ]
    },
    {
      "cell_type": "code",
      "execution_count": null,
      "id": "1d177aff",
      "metadata": {
        "id": "1d177aff",
        "outputId": "506ff4e1-cf66-43f4-95bc-37721b5fdc70"
      },
      "outputs": [
        {
          "data": {
            "text/plain": [
              "0"
            ]
          },
          "execution_count": 25,
          "metadata": {},
          "output_type": "execute_result"
        }
      ],
      "source": [
        "df.loc[df['children'] == 20, 'children'] = 2\n",
        "df[df['children'] == 20].count()[0]"
      ]
    },
    {
      "cell_type": "markdown",
      "id": "32045b0b",
      "metadata": {
        "id": "32045b0b"
      },
      "source": [
        "<a id='2.5'></a>"
      ]
    },
    {
      "cell_type": "markdown",
      "id": "79e960e7",
      "metadata": {
        "id": "79e960e7"
      },
      "source": [
        "### Шаг 2.5. Формирование дополнительных датафреймов словарей, декомпозиция исходного датафрейма."
      ]
    },
    {
      "cell_type": "markdown",
      "id": "62828835",
      "metadata": {
        "id": "62828835"
      },
      "source": [
        "Создадим два новых датафрейма, в которых:\n",
        "1. Каждому уникальному значению из education соответствует уникальное значение education_id — в первом;\n",
        "2. Каждому уникальному значению из family_status соответствует уникальное значение family_status_id — во втором.\n",
        "\n",
        "А из исходного датафрейма удалим столбцы education и family_status, они нам будут больше не нужны, так как новые таблицы станут словарями, к которым мы сможем обращаться, если потребуется"
      ]
    },
    {
      "cell_type": "code",
      "execution_count": null,
      "id": "3f596278",
      "metadata": {
        "id": "3f596278",
        "outputId": "673a3d81-96d4-4b9f-e417-a22294a72c8f"
      },
      "outputs": [
        {
          "data": {
            "text/html": [
              "<div>\n",
              "<style scoped>\n",
              "    .dataframe tbody tr th:only-of-type {\n",
              "        vertical-align: middle;\n",
              "    }\n",
              "\n",
              "    .dataframe tbody tr th {\n",
              "        vertical-align: top;\n",
              "    }\n",
              "\n",
              "    .dataframe thead th {\n",
              "        text-align: right;\n",
              "    }\n",
              "</style>\n",
              "<table border=\"1\" class=\"dataframe\">\n",
              "  <thead>\n",
              "    <tr style=\"text-align: right;\">\n",
              "      <th></th>\n",
              "      <th>education_id</th>\n",
              "    </tr>\n",
              "    <tr>\n",
              "      <th>education</th>\n",
              "      <th></th>\n",
              "    </tr>\n",
              "  </thead>\n",
              "  <tbody>\n",
              "    <tr>\n",
              "      <th>высшее</th>\n",
              "      <td>0</td>\n",
              "    </tr>\n",
              "    <tr>\n",
              "      <th>начальное</th>\n",
              "      <td>3</td>\n",
              "    </tr>\n",
              "    <tr>\n",
              "      <th>неоконченное высшее</th>\n",
              "      <td>2</td>\n",
              "    </tr>\n",
              "    <tr>\n",
              "      <th>среднее</th>\n",
              "      <td>1</td>\n",
              "    </tr>\n",
              "    <tr>\n",
              "      <th>ученая степень</th>\n",
              "      <td>4</td>\n",
              "    </tr>\n",
              "  </tbody>\n",
              "</table>\n",
              "</div>"
            ],
            "text/plain": [
              "                     education_id\n",
              "education                        \n",
              "высшее                          0\n",
              "начальное                       3\n",
              "неоконченное высшее             2\n",
              "среднее                         1\n",
              "ученая степень                  4"
            ]
          },
          "execution_count": 26,
          "metadata": {},
          "output_type": "execute_result"
        }
      ],
      "source": [
        "education = df.pivot_table(index='education', values='education_id')\n",
        "\n",
        "education"
      ]
    },
    {
      "cell_type": "markdown",
      "id": "016e440e",
      "metadata": {
        "id": "016e440e"
      },
      "source": [
        "<div class=\"alert alert-success\"; style=\"border-left: 7px solid green\">\n",
        "<h3>✔ Комментарий ревьюера</h3>\n",
        "    \n",
        "Решение неплохое через `pivot`, можно также `df[['education','education_id']].drop_duplicates().reset_index()`. В индексах обычно должны всё же `id` стоять :) Также такой `pivot` среднее считает, можно сперва проверить, нет ли у одного `education` два разных `id`\n",
        "</div>    \n"
      ]
    },
    {
      "cell_type": "code",
      "execution_count": null,
      "id": "30a94dd7",
      "metadata": {
        "id": "30a94dd7",
        "outputId": "3242bc2e-5bdd-4b9a-8abd-515aa7e6d953"
      },
      "outputs": [
        {
          "data": {
            "text/html": [
              "<div>\n",
              "<style scoped>\n",
              "    .dataframe tbody tr th:only-of-type {\n",
              "        vertical-align: middle;\n",
              "    }\n",
              "\n",
              "    .dataframe tbody tr th {\n",
              "        vertical-align: top;\n",
              "    }\n",
              "\n",
              "    .dataframe thead th {\n",
              "        text-align: right;\n",
              "    }\n",
              "</style>\n",
              "<table border=\"1\" class=\"dataframe\">\n",
              "  <thead>\n",
              "    <tr style=\"text-align: right;\">\n",
              "      <th></th>\n",
              "      <th>family_status_id</th>\n",
              "    </tr>\n",
              "    <tr>\n",
              "      <th>family_status</th>\n",
              "      <th></th>\n",
              "    </tr>\n",
              "  </thead>\n",
              "  <tbody>\n",
              "    <tr>\n",
              "      <th>Не женат / не замужем</th>\n",
              "      <td>4</td>\n",
              "    </tr>\n",
              "    <tr>\n",
              "      <th>в разводе</th>\n",
              "      <td>3</td>\n",
              "    </tr>\n",
              "    <tr>\n",
              "      <th>вдовец / вдова</th>\n",
              "      <td>2</td>\n",
              "    </tr>\n",
              "    <tr>\n",
              "      <th>гражданский брак</th>\n",
              "      <td>1</td>\n",
              "    </tr>\n",
              "    <tr>\n",
              "      <th>женат / замужем</th>\n",
              "      <td>0</td>\n",
              "    </tr>\n",
              "  </tbody>\n",
              "</table>\n",
              "</div>"
            ],
            "text/plain": [
              "                       family_status_id\n",
              "family_status                          \n",
              "Не женат / не замужем                 4\n",
              "в разводе                             3\n",
              "вдовец / вдова                        2\n",
              "гражданский брак                      1\n",
              "женат / замужем                       0"
            ]
          },
          "execution_count": 27,
          "metadata": {},
          "output_type": "execute_result"
        }
      ],
      "source": [
        "family_status = df.pivot_table(index='family_status', values='family_status_id')\n",
        "\n",
        "family_status"
      ]
    },
    {
      "cell_type": "code",
      "execution_count": null,
      "id": "7ba916c2",
      "metadata": {
        "scrolled": true,
        "id": "7ba916c2",
        "outputId": "6141f2d9-60f5-4e92-e3c0-83cb8a04c5df"
      },
      "outputs": [
        {
          "data": {
            "text/html": [
              "<div>\n",
              "<style scoped>\n",
              "    .dataframe tbody tr th:only-of-type {\n",
              "        vertical-align: middle;\n",
              "    }\n",
              "\n",
              "    .dataframe tbody tr th {\n",
              "        vertical-align: top;\n",
              "    }\n",
              "\n",
              "    .dataframe thead th {\n",
              "        text-align: right;\n",
              "    }\n",
              "</style>\n",
              "<table border=\"1\" class=\"dataframe\">\n",
              "  <thead>\n",
              "    <tr style=\"text-align: right;\">\n",
              "      <th></th>\n",
              "      <th>children</th>\n",
              "      <th>days_employed</th>\n",
              "      <th>dob_years</th>\n",
              "      <th>education</th>\n",
              "      <th>education_id</th>\n",
              "      <th>family_status</th>\n",
              "      <th>family_status_id</th>\n",
              "      <th>gender</th>\n",
              "      <th>income_type</th>\n",
              "      <th>debt</th>\n",
              "      <th>total_income</th>\n",
              "      <th>purpose</th>\n",
              "    </tr>\n",
              "  </thead>\n",
              "  <tbody>\n",
              "    <tr>\n",
              "      <th>0</th>\n",
              "      <td>1</td>\n",
              "      <td>8437</td>\n",
              "      <td>42.0</td>\n",
              "      <td>высшее</td>\n",
              "      <td>0</td>\n",
              "      <td>женат / замужем</td>\n",
              "      <td>0</td>\n",
              "      <td>F</td>\n",
              "      <td>сотрудник</td>\n",
              "      <td>0</td>\n",
              "      <td>253875</td>\n",
              "      <td>покупка жилья</td>\n",
              "    </tr>\n",
              "    <tr>\n",
              "      <th>1</th>\n",
              "      <td>1</td>\n",
              "      <td>4024</td>\n",
              "      <td>36.0</td>\n",
              "      <td>среднее</td>\n",
              "      <td>1</td>\n",
              "      <td>женат / замужем</td>\n",
              "      <td>0</td>\n",
              "      <td>F</td>\n",
              "      <td>сотрудник</td>\n",
              "      <td>0</td>\n",
              "      <td>112080</td>\n",
              "      <td>приобретение автомобиля</td>\n",
              "    </tr>\n",
              "    <tr>\n",
              "      <th>2</th>\n",
              "      <td>0</td>\n",
              "      <td>5623</td>\n",
              "      <td>33.0</td>\n",
              "      <td>среднее</td>\n",
              "      <td>1</td>\n",
              "      <td>женат / замужем</td>\n",
              "      <td>0</td>\n",
              "      <td>M</td>\n",
              "      <td>сотрудник</td>\n",
              "      <td>0</td>\n",
              "      <td>145885</td>\n",
              "      <td>покупка жилья</td>\n",
              "    </tr>\n",
              "    <tr>\n",
              "      <th>3</th>\n",
              "      <td>3</td>\n",
              "      <td>4124</td>\n",
              "      <td>32.0</td>\n",
              "      <td>среднее</td>\n",
              "      <td>1</td>\n",
              "      <td>женат / замужем</td>\n",
              "      <td>0</td>\n",
              "      <td>M</td>\n",
              "      <td>сотрудник</td>\n",
              "      <td>0</td>\n",
              "      <td>267628</td>\n",
              "      <td>дополнительное образование</td>\n",
              "    </tr>\n",
              "    <tr>\n",
              "      <th>4</th>\n",
              "      <td>0</td>\n",
              "      <td>5475</td>\n",
              "      <td>53.0</td>\n",
              "      <td>среднее</td>\n",
              "      <td>1</td>\n",
              "      <td>гражданский брак</td>\n",
              "      <td>1</td>\n",
              "      <td>F</td>\n",
              "      <td>пенсионер</td>\n",
              "      <td>0</td>\n",
              "      <td>158616</td>\n",
              "      <td>сыграть свадьбу</td>\n",
              "    </tr>\n",
              "  </tbody>\n",
              "</table>\n",
              "</div>"
            ],
            "text/plain": [
              "   children  days_employed  dob_years education  education_id  \\\n",
              "0         1           8437       42.0    высшее             0   \n",
              "1         1           4024       36.0   среднее             1   \n",
              "2         0           5623       33.0   среднее             1   \n",
              "3         3           4124       32.0   среднее             1   \n",
              "4         0           5475       53.0   среднее             1   \n",
              "\n",
              "      family_status  family_status_id gender income_type  debt  total_income  \\\n",
              "0   женат / замужем                 0      F   сотрудник     0        253875   \n",
              "1   женат / замужем                 0      F   сотрудник     0        112080   \n",
              "2   женат / замужем                 0      M   сотрудник     0        145885   \n",
              "3   женат / замужем                 0      M   сотрудник     0        267628   \n",
              "4  гражданский брак                 1      F   пенсионер     0        158616   \n",
              "\n",
              "                      purpose  \n",
              "0               покупка жилья  \n",
              "1     приобретение автомобиля  \n",
              "2               покупка жилья  \n",
              "3  дополнительное образование  \n",
              "4             сыграть свадьбу  "
            ]
          },
          "execution_count": 28,
          "metadata": {},
          "output_type": "execute_result"
        }
      ],
      "source": [
        "df.drop(columns=['education', 'family_status'])\n",
        "df.head()"
      ]
    },
    {
      "cell_type": "markdown",
      "id": "b48f78e8",
      "metadata": {
        "id": "b48f78e8"
      },
      "source": [
        "<a id='2.6'></a>"
      ]
    },
    {
      "cell_type": "markdown",
      "id": "85ad8e13",
      "metadata": {
        "id": "85ad8e13"
      },
      "source": [
        "### Шаг 2.6. Категоризация дохода."
      ]
    },
    {
      "cell_type": "markdown",
      "id": "29877f51",
      "metadata": {
        "id": "29877f51"
      },
      "source": [
        "Создадим столбец total_income_category с категориями:\n",
        "\n",
        "    0–30000 — 'E';\n",
        "    30001–50000 — 'D';\n",
        "    50001–200000 — 'C';\n",
        "    200001–1000000 — 'B';\n",
        "    1000001 и выше — 'A'."
      ]
    },
    {
      "cell_type": "code",
      "execution_count": null,
      "id": "02aefe93",
      "metadata": {
        "id": "02aefe93"
      },
      "outputs": [],
      "source": [
        "def income_category(row):\n",
        "\n",
        "    if row <= 30000:\n",
        "        return 'E'\n",
        "\n",
        "    elif  (row >= 30001) and (row <= 50000):\n",
        "        return 'D'\n",
        "\n",
        "    elif  (row >= 50001) and (row <= 200000):\n",
        "        return 'C'\n",
        "\n",
        "    elif (row >= 200001) and (row <= 1000000):\n",
        "        return 'B'\n",
        "\n",
        "    return 'A'"
      ]
    },
    {
      "cell_type": "code",
      "execution_count": null,
      "id": "9dad02a3",
      "metadata": {
        "scrolled": true,
        "id": "9dad02a3",
        "outputId": "f9fc9122-f12b-4c88-b1e9-dd900cd13894"
      },
      "outputs": [
        {
          "data": {
            "text/html": [
              "<div>\n",
              "<style scoped>\n",
              "    .dataframe tbody tr th:only-of-type {\n",
              "        vertical-align: middle;\n",
              "    }\n",
              "\n",
              "    .dataframe tbody tr th {\n",
              "        vertical-align: top;\n",
              "    }\n",
              "\n",
              "    .dataframe thead th {\n",
              "        text-align: right;\n",
              "    }\n",
              "</style>\n",
              "<table border=\"1\" class=\"dataframe\">\n",
              "  <thead>\n",
              "    <tr style=\"text-align: right;\">\n",
              "      <th></th>\n",
              "      <th>children</th>\n",
              "      <th>days_employed</th>\n",
              "      <th>dob_years</th>\n",
              "      <th>education</th>\n",
              "      <th>education_id</th>\n",
              "      <th>family_status</th>\n",
              "      <th>family_status_id</th>\n",
              "      <th>gender</th>\n",
              "      <th>income_type</th>\n",
              "      <th>debt</th>\n",
              "      <th>total_income</th>\n",
              "      <th>purpose</th>\n",
              "      <th>total_income_category</th>\n",
              "    </tr>\n",
              "  </thead>\n",
              "  <tbody>\n",
              "    <tr>\n",
              "      <th>0</th>\n",
              "      <td>1</td>\n",
              "      <td>8437</td>\n",
              "      <td>42.0</td>\n",
              "      <td>высшее</td>\n",
              "      <td>0</td>\n",
              "      <td>женат / замужем</td>\n",
              "      <td>0</td>\n",
              "      <td>F</td>\n",
              "      <td>сотрудник</td>\n",
              "      <td>0</td>\n",
              "      <td>253875</td>\n",
              "      <td>покупка жилья</td>\n",
              "      <td>B</td>\n",
              "    </tr>\n",
              "    <tr>\n",
              "      <th>1</th>\n",
              "      <td>1</td>\n",
              "      <td>4024</td>\n",
              "      <td>36.0</td>\n",
              "      <td>среднее</td>\n",
              "      <td>1</td>\n",
              "      <td>женат / замужем</td>\n",
              "      <td>0</td>\n",
              "      <td>F</td>\n",
              "      <td>сотрудник</td>\n",
              "      <td>0</td>\n",
              "      <td>112080</td>\n",
              "      <td>приобретение автомобиля</td>\n",
              "      <td>C</td>\n",
              "    </tr>\n",
              "    <tr>\n",
              "      <th>2</th>\n",
              "      <td>0</td>\n",
              "      <td>5623</td>\n",
              "      <td>33.0</td>\n",
              "      <td>среднее</td>\n",
              "      <td>1</td>\n",
              "      <td>женат / замужем</td>\n",
              "      <td>0</td>\n",
              "      <td>M</td>\n",
              "      <td>сотрудник</td>\n",
              "      <td>0</td>\n",
              "      <td>145885</td>\n",
              "      <td>покупка жилья</td>\n",
              "      <td>C</td>\n",
              "    </tr>\n",
              "    <tr>\n",
              "      <th>3</th>\n",
              "      <td>3</td>\n",
              "      <td>4124</td>\n",
              "      <td>32.0</td>\n",
              "      <td>среднее</td>\n",
              "      <td>1</td>\n",
              "      <td>женат / замужем</td>\n",
              "      <td>0</td>\n",
              "      <td>M</td>\n",
              "      <td>сотрудник</td>\n",
              "      <td>0</td>\n",
              "      <td>267628</td>\n",
              "      <td>дополнительное образование</td>\n",
              "      <td>B</td>\n",
              "    </tr>\n",
              "    <tr>\n",
              "      <th>4</th>\n",
              "      <td>0</td>\n",
              "      <td>5475</td>\n",
              "      <td>53.0</td>\n",
              "      <td>среднее</td>\n",
              "      <td>1</td>\n",
              "      <td>гражданский брак</td>\n",
              "      <td>1</td>\n",
              "      <td>F</td>\n",
              "      <td>пенсионер</td>\n",
              "      <td>0</td>\n",
              "      <td>158616</td>\n",
              "      <td>сыграть свадьбу</td>\n",
              "      <td>C</td>\n",
              "    </tr>\n",
              "    <tr>\n",
              "      <th>5</th>\n",
              "      <td>0</td>\n",
              "      <td>926</td>\n",
              "      <td>27.0</td>\n",
              "      <td>высшее</td>\n",
              "      <td>0</td>\n",
              "      <td>гражданский брак</td>\n",
              "      <td>1</td>\n",
              "      <td>M</td>\n",
              "      <td>компаньон</td>\n",
              "      <td>0</td>\n",
              "      <td>255763</td>\n",
              "      <td>покупка жилья</td>\n",
              "      <td>B</td>\n",
              "    </tr>\n",
              "    <tr>\n",
              "      <th>6</th>\n",
              "      <td>0</td>\n",
              "      <td>2879</td>\n",
              "      <td>43.0</td>\n",
              "      <td>высшее</td>\n",
              "      <td>0</td>\n",
              "      <td>женат / замужем</td>\n",
              "      <td>0</td>\n",
              "      <td>F</td>\n",
              "      <td>компаньон</td>\n",
              "      <td>0</td>\n",
              "      <td>240525</td>\n",
              "      <td>операции с жильем</td>\n",
              "      <td>B</td>\n",
              "    </tr>\n",
              "    <tr>\n",
              "      <th>7</th>\n",
              "      <td>0</td>\n",
              "      <td>152</td>\n",
              "      <td>50.0</td>\n",
              "      <td>среднее</td>\n",
              "      <td>1</td>\n",
              "      <td>женат / замужем</td>\n",
              "      <td>0</td>\n",
              "      <td>M</td>\n",
              "      <td>сотрудник</td>\n",
              "      <td>0</td>\n",
              "      <td>135823</td>\n",
              "      <td>образование</td>\n",
              "      <td>C</td>\n",
              "    </tr>\n",
              "    <tr>\n",
              "      <th>8</th>\n",
              "      <td>2</td>\n",
              "      <td>6929</td>\n",
              "      <td>35.0</td>\n",
              "      <td>высшее</td>\n",
              "      <td>0</td>\n",
              "      <td>гражданский брак</td>\n",
              "      <td>1</td>\n",
              "      <td>F</td>\n",
              "      <td>сотрудник</td>\n",
              "      <td>0</td>\n",
              "      <td>95856</td>\n",
              "      <td>на проведение свадьбы</td>\n",
              "      <td>C</td>\n",
              "    </tr>\n",
              "    <tr>\n",
              "      <th>9</th>\n",
              "      <td>0</td>\n",
              "      <td>2188</td>\n",
              "      <td>41.0</td>\n",
              "      <td>среднее</td>\n",
              "      <td>1</td>\n",
              "      <td>женат / замужем</td>\n",
              "      <td>0</td>\n",
              "      <td>M</td>\n",
              "      <td>сотрудник</td>\n",
              "      <td>0</td>\n",
              "      <td>144425</td>\n",
              "      <td>покупка жилья для семьи</td>\n",
              "      <td>C</td>\n",
              "    </tr>\n",
              "  </tbody>\n",
              "</table>\n",
              "</div>"
            ],
            "text/plain": [
              "   children  days_employed  dob_years education  education_id  \\\n",
              "0         1           8437       42.0    высшее             0   \n",
              "1         1           4024       36.0   среднее             1   \n",
              "2         0           5623       33.0   среднее             1   \n",
              "3         3           4124       32.0   среднее             1   \n",
              "4         0           5475       53.0   среднее             1   \n",
              "5         0            926       27.0    высшее             0   \n",
              "6         0           2879       43.0    высшее             0   \n",
              "7         0            152       50.0   среднее             1   \n",
              "8         2           6929       35.0    высшее             0   \n",
              "9         0           2188       41.0   среднее             1   \n",
              "\n",
              "      family_status  family_status_id gender income_type  debt  total_income  \\\n",
              "0   женат / замужем                 0      F   сотрудник     0        253875   \n",
              "1   женат / замужем                 0      F   сотрудник     0        112080   \n",
              "2   женат / замужем                 0      M   сотрудник     0        145885   \n",
              "3   женат / замужем                 0      M   сотрудник     0        267628   \n",
              "4  гражданский брак                 1      F   пенсионер     0        158616   \n",
              "5  гражданский брак                 1      M   компаньон     0        255763   \n",
              "6   женат / замужем                 0      F   компаньон     0        240525   \n",
              "7   женат / замужем                 0      M   сотрудник     0        135823   \n",
              "8  гражданский брак                 1      F   сотрудник     0         95856   \n",
              "9   женат / замужем                 0      M   сотрудник     0        144425   \n",
              "\n",
              "                      purpose total_income_category  \n",
              "0               покупка жилья                     B  \n",
              "1     приобретение автомобиля                     C  \n",
              "2               покупка жилья                     C  \n",
              "3  дополнительное образование                     B  \n",
              "4             сыграть свадьбу                     C  \n",
              "5               покупка жилья                     B  \n",
              "6           операции с жильем                     B  \n",
              "7                 образование                     C  \n",
              "8       на проведение свадьбы                     C  \n",
              "9     покупка жилья для семьи                     C  "
            ]
          },
          "execution_count": 30,
          "metadata": {},
          "output_type": "execute_result"
        }
      ],
      "source": [
        "df['total_income_category'] = df['total_income'].apply(income_category)\n",
        "\n",
        "df.head(10)"
      ]
    },
    {
      "cell_type": "markdown",
      "id": "b60ce87e",
      "metadata": {
        "id": "b60ce87e"
      },
      "source": [
        "Теперь от столбца с доходом можно избавиться"
      ]
    },
    {
      "cell_type": "code",
      "execution_count": null,
      "id": "f642e8fd",
      "metadata": {
        "id": "f642e8fd",
        "outputId": "bac73249-4868-43d1-af55-f6a16f7a326b"
      },
      "outputs": [
        {
          "data": {
            "text/html": [
              "<div>\n",
              "<style scoped>\n",
              "    .dataframe tbody tr th:only-of-type {\n",
              "        vertical-align: middle;\n",
              "    }\n",
              "\n",
              "    .dataframe tbody tr th {\n",
              "        vertical-align: top;\n",
              "    }\n",
              "\n",
              "    .dataframe thead th {\n",
              "        text-align: right;\n",
              "    }\n",
              "</style>\n",
              "<table border=\"1\" class=\"dataframe\">\n",
              "  <thead>\n",
              "    <tr style=\"text-align: right;\">\n",
              "      <th></th>\n",
              "      <th>children</th>\n",
              "      <th>days_employed</th>\n",
              "      <th>dob_years</th>\n",
              "      <th>education</th>\n",
              "      <th>education_id</th>\n",
              "      <th>family_status</th>\n",
              "      <th>family_status_id</th>\n",
              "      <th>gender</th>\n",
              "      <th>income_type</th>\n",
              "      <th>debt</th>\n",
              "      <th>purpose</th>\n",
              "      <th>total_income_category</th>\n",
              "    </tr>\n",
              "  </thead>\n",
              "  <tbody>\n",
              "    <tr>\n",
              "      <th>0</th>\n",
              "      <td>1</td>\n",
              "      <td>8437</td>\n",
              "      <td>42.0</td>\n",
              "      <td>высшее</td>\n",
              "      <td>0</td>\n",
              "      <td>женат / замужем</td>\n",
              "      <td>0</td>\n",
              "      <td>F</td>\n",
              "      <td>сотрудник</td>\n",
              "      <td>0</td>\n",
              "      <td>покупка жилья</td>\n",
              "      <td>B</td>\n",
              "    </tr>\n",
              "    <tr>\n",
              "      <th>1</th>\n",
              "      <td>1</td>\n",
              "      <td>4024</td>\n",
              "      <td>36.0</td>\n",
              "      <td>среднее</td>\n",
              "      <td>1</td>\n",
              "      <td>женат / замужем</td>\n",
              "      <td>0</td>\n",
              "      <td>F</td>\n",
              "      <td>сотрудник</td>\n",
              "      <td>0</td>\n",
              "      <td>приобретение автомобиля</td>\n",
              "      <td>C</td>\n",
              "    </tr>\n",
              "    <tr>\n",
              "      <th>2</th>\n",
              "      <td>0</td>\n",
              "      <td>5623</td>\n",
              "      <td>33.0</td>\n",
              "      <td>среднее</td>\n",
              "      <td>1</td>\n",
              "      <td>женат / замужем</td>\n",
              "      <td>0</td>\n",
              "      <td>M</td>\n",
              "      <td>сотрудник</td>\n",
              "      <td>0</td>\n",
              "      <td>покупка жилья</td>\n",
              "      <td>C</td>\n",
              "    </tr>\n",
              "    <tr>\n",
              "      <th>3</th>\n",
              "      <td>3</td>\n",
              "      <td>4124</td>\n",
              "      <td>32.0</td>\n",
              "      <td>среднее</td>\n",
              "      <td>1</td>\n",
              "      <td>женат / замужем</td>\n",
              "      <td>0</td>\n",
              "      <td>M</td>\n",
              "      <td>сотрудник</td>\n",
              "      <td>0</td>\n",
              "      <td>дополнительное образование</td>\n",
              "      <td>B</td>\n",
              "    </tr>\n",
              "    <tr>\n",
              "      <th>4</th>\n",
              "      <td>0</td>\n",
              "      <td>5475</td>\n",
              "      <td>53.0</td>\n",
              "      <td>среднее</td>\n",
              "      <td>1</td>\n",
              "      <td>гражданский брак</td>\n",
              "      <td>1</td>\n",
              "      <td>F</td>\n",
              "      <td>пенсионер</td>\n",
              "      <td>0</td>\n",
              "      <td>сыграть свадьбу</td>\n",
              "      <td>C</td>\n",
              "    </tr>\n",
              "  </tbody>\n",
              "</table>\n",
              "</div>"
            ],
            "text/plain": [
              "   children  days_employed  dob_years education  education_id  \\\n",
              "0         1           8437       42.0    высшее             0   \n",
              "1         1           4024       36.0   среднее             1   \n",
              "2         0           5623       33.0   среднее             1   \n",
              "3         3           4124       32.0   среднее             1   \n",
              "4         0           5475       53.0   среднее             1   \n",
              "\n",
              "      family_status  family_status_id gender income_type  debt  \\\n",
              "0   женат / замужем                 0      F   сотрудник     0   \n",
              "1   женат / замужем                 0      F   сотрудник     0   \n",
              "2   женат / замужем                 0      M   сотрудник     0   \n",
              "3   женат / замужем                 0      M   сотрудник     0   \n",
              "4  гражданский брак                 1      F   пенсионер     0   \n",
              "\n",
              "                      purpose total_income_category  \n",
              "0               покупка жилья                     B  \n",
              "1     приобретение автомобиля                     C  \n",
              "2               покупка жилья                     C  \n",
              "3  дополнительное образование                     B  \n",
              "4             сыграть свадьбу                     C  "
            ]
          },
          "execution_count": 31,
          "metadata": {},
          "output_type": "execute_result"
        }
      ],
      "source": [
        "df.pop('total_income')\n",
        "df.head()"
      ]
    },
    {
      "cell_type": "markdown",
      "id": "c21c30a3",
      "metadata": {
        "id": "c21c30a3"
      },
      "source": [
        "<a id='2.7'></a>"
      ]
    },
    {
      "cell_type": "markdown",
      "id": "d3834716",
      "metadata": {
        "id": "d3834716"
      },
      "source": [
        "### Шаг 2.7. Категоризация целей кредита."
      ]
    },
    {
      "cell_type": "markdown",
      "id": "f3c414f1",
      "metadata": {
        "id": "f3c414f1"
      },
      "source": [
        "Мне заранее известно, на какие категории нужно делить данные:\n",
        "\n",
        "    'операции с автомобилем',\n",
        "    'операции с недвижимостью',\n",
        "    'проведение свадьбы',\n",
        "    'получение образования'\n",
        "    \n",
        "Сначала посмотрим, какие уникальные цели у нас вообще есть."
      ]
    },
    {
      "cell_type": "code",
      "execution_count": null,
      "id": "28b5817d",
      "metadata": {
        "id": "28b5817d",
        "outputId": "cb572b91-a488-4642-bdae-e7323c759cc1"
      },
      "outputs": [
        {
          "data": {
            "text/plain": [
              "свадьба                                   791\n",
              "на проведение свадьбы                     768\n",
              "сыграть свадьбу                           765\n",
              "операции с недвижимостью                  675\n",
              "покупка коммерческой недвижимости         661\n",
              "операции с жильем                         652\n",
              "покупка жилья для сдачи                   651\n",
              "операции с коммерческой недвижимостью     650\n",
              "жилье                                     646\n",
              "покупка жилья                             646\n",
              "покупка жилья для семьи                   638\n",
              "строительство собственной недвижимости    635\n",
              "недвижимость                              633\n",
              "операции со своей недвижимостью           627\n",
              "строительство жилой недвижимости          624\n",
              "покупка недвижимости                      621\n",
              "покупка своего жилья                      620\n",
              "строительство недвижимости                619\n",
              "ремонт жилью                              607\n",
              "покупка жилой недвижимости                606\n",
              "на покупку своего автомобиля              505\n",
              "заняться высшим образованием              496\n",
              "автомобиль                                494\n",
              "сделка с подержанным автомобилем          486\n",
              "на покупку подержанного автомобиля        478\n",
              "свой автомобиль                           478\n",
              "автомобили                                478\n",
              "на покупку автомобиля                     471\n",
              "приобретение автомобиля                   461\n",
              "дополнительное образование                460\n",
              "сделка с автомобилем                      455\n",
              "высшее образование                        452\n",
              "образование                               447\n",
              "получение дополнительного образования     446\n",
              "получение образования                     442\n",
              "профильное образование                    436\n",
              "получение высшего образования             426\n",
              "заняться образованием                     408\n",
              "Name: purpose, dtype: int64"
            ]
          },
          "execution_count": 32,
          "metadata": {},
          "output_type": "execute_result"
        }
      ],
      "source": [
        "df['purpose'].value_counts()"
      ]
    },
    {
      "cell_type": "markdown",
      "id": "37da7836",
      "metadata": {
        "id": "37da7836"
      },
      "source": [
        "Я очень ленивая и мне так не хочется вручную прописывать уникальные цели в условие при категоризации, пусть их и не много. Поэтому я воспользуюсь лемматизацией (приведение слов к первоначальной словарной форме (лемме)):\n",
        "\n",
        "1. Если в цели кредита в столбце будут слова с леммой «автомобиль», то такие цели будут иметь категорию «операции с автомобилем».\n",
        "2. Если будут слова с леммой «недвижимость», «жилье» то такие цели перейдут в категорию «операцции с недвижимостью».\n",
        "3. Леммы «свадьба» — категория «проведение свадьбы».\n",
        "4. Леммы «образование» — категория «получение образования»\n",
        "\n",
        "Если бы у нас было очень много уникальных целей, по которым было бы тяжело пробежаться глазами и выделить ключевые слова, то синонимов было бы больше."
      ]
    },
    {
      "cell_type": "markdown",
      "id": "780b8727",
      "metadata": {
        "id": "780b8727"
      },
      "source": [
        "<div class=\"alert alert-success\"; style=\"border-left: 7px solid green\">\n",
        "<h3>✔ Комментарий ревьюера</h3>\n",
        "    \n",
        "Можно без лемматизации, проверяя просто основу слова, т.е. `if 'свадь' in purpose: ...` и т.п.</div>    \n"
      ]
    },
    {
      "cell_type": "code",
      "execution_count": null,
      "id": "e12a59ad",
      "metadata": {
        "id": "e12a59ad"
      },
      "outputs": [],
      "source": [
        "def purpose_category(row):\n",
        "\n",
        "    lemmas = m.lemmatize(row)\n",
        "\n",
        "    if ('недвижимость' in lemmas) or ('жилье' in lemmas):\n",
        "        return 'операции с недвижимостью'\n",
        "\n",
        "    elif 'образование' in lemmas:\n",
        "        return 'получение образования'\n",
        "\n",
        "    elif 'автомобиль' in lemmas:\n",
        "        return 'операции с автомобилем'\n",
        "\n",
        "    elif 'свадьба' in lemmas:\n",
        "        return 'проведение свадьбы'\n"
      ]
    },
    {
      "cell_type": "code",
      "execution_count": null,
      "id": "967c7aaf",
      "metadata": {
        "id": "967c7aaf",
        "outputId": "260e2fa1-e23f-42ad-ff20-e764dc701c75"
      },
      "outputs": [
        {
          "data": {
            "text/html": [
              "<div>\n",
              "<style scoped>\n",
              "    .dataframe tbody tr th:only-of-type {\n",
              "        vertical-align: middle;\n",
              "    }\n",
              "\n",
              "    .dataframe tbody tr th {\n",
              "        vertical-align: top;\n",
              "    }\n",
              "\n",
              "    .dataframe thead th {\n",
              "        text-align: right;\n",
              "    }\n",
              "</style>\n",
              "<table border=\"1\" class=\"dataframe\">\n",
              "  <thead>\n",
              "    <tr style=\"text-align: right;\">\n",
              "      <th></th>\n",
              "      <th>children</th>\n",
              "      <th>days_employed</th>\n",
              "      <th>dob_years</th>\n",
              "      <th>education</th>\n",
              "      <th>education_id</th>\n",
              "      <th>family_status</th>\n",
              "      <th>family_status_id</th>\n",
              "      <th>gender</th>\n",
              "      <th>income_type</th>\n",
              "      <th>debt</th>\n",
              "      <th>purpose</th>\n",
              "      <th>total_income_category</th>\n",
              "      <th>purpose_category</th>\n",
              "    </tr>\n",
              "  </thead>\n",
              "  <tbody>\n",
              "    <tr>\n",
              "      <th>0</th>\n",
              "      <td>1</td>\n",
              "      <td>8437</td>\n",
              "      <td>42.0</td>\n",
              "      <td>высшее</td>\n",
              "      <td>0</td>\n",
              "      <td>женат / замужем</td>\n",
              "      <td>0</td>\n",
              "      <td>F</td>\n",
              "      <td>сотрудник</td>\n",
              "      <td>0</td>\n",
              "      <td>покупка жилья</td>\n",
              "      <td>B</td>\n",
              "      <td>операции с недвижимостью</td>\n",
              "    </tr>\n",
              "    <tr>\n",
              "      <th>1</th>\n",
              "      <td>1</td>\n",
              "      <td>4024</td>\n",
              "      <td>36.0</td>\n",
              "      <td>среднее</td>\n",
              "      <td>1</td>\n",
              "      <td>женат / замужем</td>\n",
              "      <td>0</td>\n",
              "      <td>F</td>\n",
              "      <td>сотрудник</td>\n",
              "      <td>0</td>\n",
              "      <td>приобретение автомобиля</td>\n",
              "      <td>C</td>\n",
              "      <td>операции с автомобилем</td>\n",
              "    </tr>\n",
              "    <tr>\n",
              "      <th>2</th>\n",
              "      <td>0</td>\n",
              "      <td>5623</td>\n",
              "      <td>33.0</td>\n",
              "      <td>среднее</td>\n",
              "      <td>1</td>\n",
              "      <td>женат / замужем</td>\n",
              "      <td>0</td>\n",
              "      <td>M</td>\n",
              "      <td>сотрудник</td>\n",
              "      <td>0</td>\n",
              "      <td>покупка жилья</td>\n",
              "      <td>C</td>\n",
              "      <td>операции с недвижимостью</td>\n",
              "    </tr>\n",
              "    <tr>\n",
              "      <th>3</th>\n",
              "      <td>3</td>\n",
              "      <td>4124</td>\n",
              "      <td>32.0</td>\n",
              "      <td>среднее</td>\n",
              "      <td>1</td>\n",
              "      <td>женат / замужем</td>\n",
              "      <td>0</td>\n",
              "      <td>M</td>\n",
              "      <td>сотрудник</td>\n",
              "      <td>0</td>\n",
              "      <td>дополнительное образование</td>\n",
              "      <td>B</td>\n",
              "      <td>получение образования</td>\n",
              "    </tr>\n",
              "    <tr>\n",
              "      <th>4</th>\n",
              "      <td>0</td>\n",
              "      <td>5475</td>\n",
              "      <td>53.0</td>\n",
              "      <td>среднее</td>\n",
              "      <td>1</td>\n",
              "      <td>гражданский брак</td>\n",
              "      <td>1</td>\n",
              "      <td>F</td>\n",
              "      <td>пенсионер</td>\n",
              "      <td>0</td>\n",
              "      <td>сыграть свадьбу</td>\n",
              "      <td>C</td>\n",
              "      <td>проведение свадьбы</td>\n",
              "    </tr>\n",
              "    <tr>\n",
              "      <th>5</th>\n",
              "      <td>0</td>\n",
              "      <td>926</td>\n",
              "      <td>27.0</td>\n",
              "      <td>высшее</td>\n",
              "      <td>0</td>\n",
              "      <td>гражданский брак</td>\n",
              "      <td>1</td>\n",
              "      <td>M</td>\n",
              "      <td>компаньон</td>\n",
              "      <td>0</td>\n",
              "      <td>покупка жилья</td>\n",
              "      <td>B</td>\n",
              "      <td>операции с недвижимостью</td>\n",
              "    </tr>\n",
              "    <tr>\n",
              "      <th>6</th>\n",
              "      <td>0</td>\n",
              "      <td>2879</td>\n",
              "      <td>43.0</td>\n",
              "      <td>высшее</td>\n",
              "      <td>0</td>\n",
              "      <td>женат / замужем</td>\n",
              "      <td>0</td>\n",
              "      <td>F</td>\n",
              "      <td>компаньон</td>\n",
              "      <td>0</td>\n",
              "      <td>операции с жильем</td>\n",
              "      <td>B</td>\n",
              "      <td>операции с недвижимостью</td>\n",
              "    </tr>\n",
              "    <tr>\n",
              "      <th>7</th>\n",
              "      <td>0</td>\n",
              "      <td>152</td>\n",
              "      <td>50.0</td>\n",
              "      <td>среднее</td>\n",
              "      <td>1</td>\n",
              "      <td>женат / замужем</td>\n",
              "      <td>0</td>\n",
              "      <td>M</td>\n",
              "      <td>сотрудник</td>\n",
              "      <td>0</td>\n",
              "      <td>образование</td>\n",
              "      <td>C</td>\n",
              "      <td>получение образования</td>\n",
              "    </tr>\n",
              "    <tr>\n",
              "      <th>8</th>\n",
              "      <td>2</td>\n",
              "      <td>6929</td>\n",
              "      <td>35.0</td>\n",
              "      <td>высшее</td>\n",
              "      <td>0</td>\n",
              "      <td>гражданский брак</td>\n",
              "      <td>1</td>\n",
              "      <td>F</td>\n",
              "      <td>сотрудник</td>\n",
              "      <td>0</td>\n",
              "      <td>на проведение свадьбы</td>\n",
              "      <td>C</td>\n",
              "      <td>проведение свадьбы</td>\n",
              "    </tr>\n",
              "    <tr>\n",
              "      <th>9</th>\n",
              "      <td>0</td>\n",
              "      <td>2188</td>\n",
              "      <td>41.0</td>\n",
              "      <td>среднее</td>\n",
              "      <td>1</td>\n",
              "      <td>женат / замужем</td>\n",
              "      <td>0</td>\n",
              "      <td>M</td>\n",
              "      <td>сотрудник</td>\n",
              "      <td>0</td>\n",
              "      <td>покупка жилья для семьи</td>\n",
              "      <td>C</td>\n",
              "      <td>операции с недвижимостью</td>\n",
              "    </tr>\n",
              "    <tr>\n",
              "      <th>10</th>\n",
              "      <td>2</td>\n",
              "      <td>4171</td>\n",
              "      <td>36.0</td>\n",
              "      <td>высшее</td>\n",
              "      <td>0</td>\n",
              "      <td>женат / замужем</td>\n",
              "      <td>0</td>\n",
              "      <td>M</td>\n",
              "      <td>компаньон</td>\n",
              "      <td>0</td>\n",
              "      <td>покупка недвижимости</td>\n",
              "      <td>C</td>\n",
              "      <td>операции с недвижимостью</td>\n",
              "    </tr>\n",
              "    <tr>\n",
              "      <th>11</th>\n",
              "      <td>0</td>\n",
              "      <td>792</td>\n",
              "      <td>40.0</td>\n",
              "      <td>среднее</td>\n",
              "      <td>1</td>\n",
              "      <td>женат / замужем</td>\n",
              "      <td>0</td>\n",
              "      <td>F</td>\n",
              "      <td>сотрудник</td>\n",
              "      <td>0</td>\n",
              "      <td>покупка коммерческой недвижимости</td>\n",
              "      <td>C</td>\n",
              "      <td>операции с недвижимостью</td>\n",
              "    </tr>\n",
              "    <tr>\n",
              "      <th>12</th>\n",
              "      <td>0</td>\n",
              "      <td>5475</td>\n",
              "      <td>65.0</td>\n",
              "      <td>среднее</td>\n",
              "      <td>1</td>\n",
              "      <td>гражданский брак</td>\n",
              "      <td>1</td>\n",
              "      <td>M</td>\n",
              "      <td>пенсионер</td>\n",
              "      <td>0</td>\n",
              "      <td>сыграть свадьбу</td>\n",
              "      <td>C</td>\n",
              "      <td>проведение свадьбы</td>\n",
              "    </tr>\n",
              "    <tr>\n",
              "      <th>13</th>\n",
              "      <td>0</td>\n",
              "      <td>1846</td>\n",
              "      <td>54.0</td>\n",
              "      <td>неоконченное высшее</td>\n",
              "      <td>2</td>\n",
              "      <td>женат / замужем</td>\n",
              "      <td>0</td>\n",
              "      <td>F</td>\n",
              "      <td>сотрудник</td>\n",
              "      <td>0</td>\n",
              "      <td>приобретение автомобиля</td>\n",
              "      <td>C</td>\n",
              "      <td>операции с автомобилем</td>\n",
              "    </tr>\n",
              "    <tr>\n",
              "      <th>14</th>\n",
              "      <td>0</td>\n",
              "      <td>1844</td>\n",
              "      <td>56.0</td>\n",
              "      <td>высшее</td>\n",
              "      <td>0</td>\n",
              "      <td>гражданский брак</td>\n",
              "      <td>1</td>\n",
              "      <td>F</td>\n",
              "      <td>компаньон</td>\n",
              "      <td>1</td>\n",
              "      <td>покупка жилой недвижимости</td>\n",
              "      <td>C</td>\n",
              "      <td>операции с недвижимостью</td>\n",
              "    </tr>\n",
              "    <tr>\n",
              "      <th>15</th>\n",
              "      <td>1</td>\n",
              "      <td>972</td>\n",
              "      <td>26.0</td>\n",
              "      <td>среднее</td>\n",
              "      <td>1</td>\n",
              "      <td>женат / замужем</td>\n",
              "      <td>0</td>\n",
              "      <td>F</td>\n",
              "      <td>сотрудник</td>\n",
              "      <td>0</td>\n",
              "      <td>строительство собственной недвижимости</td>\n",
              "      <td>C</td>\n",
              "      <td>операции с недвижимостью</td>\n",
              "    </tr>\n",
              "    <tr>\n",
              "      <th>16</th>\n",
              "      <td>0</td>\n",
              "      <td>1719</td>\n",
              "      <td>35.0</td>\n",
              "      <td>среднее</td>\n",
              "      <td>1</td>\n",
              "      <td>женат / замужем</td>\n",
              "      <td>0</td>\n",
              "      <td>F</td>\n",
              "      <td>сотрудник</td>\n",
              "      <td>0</td>\n",
              "      <td>недвижимость</td>\n",
              "      <td>B</td>\n",
              "      <td>операции с недвижимостью</td>\n",
              "    </tr>\n",
              "    <tr>\n",
              "      <th>17</th>\n",
              "      <td>0</td>\n",
              "      <td>2369</td>\n",
              "      <td>33.0</td>\n",
              "      <td>высшее</td>\n",
              "      <td>0</td>\n",
              "      <td>гражданский брак</td>\n",
              "      <td>1</td>\n",
              "      <td>M</td>\n",
              "      <td>сотрудник</td>\n",
              "      <td>0</td>\n",
              "      <td>строительство недвижимости</td>\n",
              "      <td>C</td>\n",
              "      <td>операции с недвижимостью</td>\n",
              "    </tr>\n",
              "    <tr>\n",
              "      <th>18</th>\n",
              "      <td>0</td>\n",
              "      <td>5475</td>\n",
              "      <td>53.0</td>\n",
              "      <td>среднее</td>\n",
              "      <td>1</td>\n",
              "      <td>вдовец / вдова</td>\n",
              "      <td>2</td>\n",
              "      <td>F</td>\n",
              "      <td>пенсионер</td>\n",
              "      <td>0</td>\n",
              "      <td>на покупку подержанного автомобиля</td>\n",
              "      <td>C</td>\n",
              "      <td>операции с автомобилем</td>\n",
              "    </tr>\n",
              "    <tr>\n",
              "      <th>19</th>\n",
              "      <td>0</td>\n",
              "      <td>10038</td>\n",
              "      <td>48.0</td>\n",
              "      <td>среднее</td>\n",
              "      <td>1</td>\n",
              "      <td>в разводе</td>\n",
              "      <td>3</td>\n",
              "      <td>F</td>\n",
              "      <td>сотрудник</td>\n",
              "      <td>0</td>\n",
              "      <td>на покупку своего автомобиля</td>\n",
              "      <td>B</td>\n",
              "      <td>операции с автомобилем</td>\n",
              "    </tr>\n",
              "  </tbody>\n",
              "</table>\n",
              "</div>"
            ],
            "text/plain": [
              "    children  days_employed  dob_years            education  education_id  \\\n",
              "0          1           8437       42.0               высшее             0   \n",
              "1          1           4024       36.0              среднее             1   \n",
              "2          0           5623       33.0              среднее             1   \n",
              "3          3           4124       32.0              среднее             1   \n",
              "4          0           5475       53.0              среднее             1   \n",
              "5          0            926       27.0               высшее             0   \n",
              "6          0           2879       43.0               высшее             0   \n",
              "7          0            152       50.0              среднее             1   \n",
              "8          2           6929       35.0               высшее             0   \n",
              "9          0           2188       41.0              среднее             1   \n",
              "10         2           4171       36.0               высшее             0   \n",
              "11         0            792       40.0              среднее             1   \n",
              "12         0           5475       65.0              среднее             1   \n",
              "13         0           1846       54.0  неоконченное высшее             2   \n",
              "14         0           1844       56.0               высшее             0   \n",
              "15         1            972       26.0              среднее             1   \n",
              "16         0           1719       35.0              среднее             1   \n",
              "17         0           2369       33.0               высшее             0   \n",
              "18         0           5475       53.0              среднее             1   \n",
              "19         0          10038       48.0              среднее             1   \n",
              "\n",
              "       family_status  family_status_id gender income_type  debt  \\\n",
              "0    женат / замужем                 0      F   сотрудник     0   \n",
              "1    женат / замужем                 0      F   сотрудник     0   \n",
              "2    женат / замужем                 0      M   сотрудник     0   \n",
              "3    женат / замужем                 0      M   сотрудник     0   \n",
              "4   гражданский брак                 1      F   пенсионер     0   \n",
              "5   гражданский брак                 1      M   компаньон     0   \n",
              "6    женат / замужем                 0      F   компаньон     0   \n",
              "7    женат / замужем                 0      M   сотрудник     0   \n",
              "8   гражданский брак                 1      F   сотрудник     0   \n",
              "9    женат / замужем                 0      M   сотрудник     0   \n",
              "10   женат / замужем                 0      M   компаньон     0   \n",
              "11   женат / замужем                 0      F   сотрудник     0   \n",
              "12  гражданский брак                 1      M   пенсионер     0   \n",
              "13   женат / замужем                 0      F   сотрудник     0   \n",
              "14  гражданский брак                 1      F   компаньон     1   \n",
              "15   женат / замужем                 0      F   сотрудник     0   \n",
              "16   женат / замужем                 0      F   сотрудник     0   \n",
              "17  гражданский брак                 1      M   сотрудник     0   \n",
              "18    вдовец / вдова                 2      F   пенсионер     0   \n",
              "19         в разводе                 3      F   сотрудник     0   \n",
              "\n",
              "                                   purpose total_income_category  \\\n",
              "0                            покупка жилья                     B   \n",
              "1                  приобретение автомобиля                     C   \n",
              "2                            покупка жилья                     C   \n",
              "3               дополнительное образование                     B   \n",
              "4                          сыграть свадьбу                     C   \n",
              "5                            покупка жилья                     B   \n",
              "6                        операции с жильем                     B   \n",
              "7                              образование                     C   \n",
              "8                    на проведение свадьбы                     C   \n",
              "9                  покупка жилья для семьи                     C   \n",
              "10                    покупка недвижимости                     C   \n",
              "11       покупка коммерческой недвижимости                     C   \n",
              "12                         сыграть свадьбу                     C   \n",
              "13                 приобретение автомобиля                     C   \n",
              "14              покупка жилой недвижимости                     C   \n",
              "15  строительство собственной недвижимости                     C   \n",
              "16                            недвижимость                     B   \n",
              "17              строительство недвижимости                     C   \n",
              "18      на покупку подержанного автомобиля                     C   \n",
              "19            на покупку своего автомобиля                     B   \n",
              "\n",
              "            purpose_category  \n",
              "0   операции с недвижимостью  \n",
              "1     операции с автомобилем  \n",
              "2   операции с недвижимостью  \n",
              "3      получение образования  \n",
              "4         проведение свадьбы  \n",
              "5   операции с недвижимостью  \n",
              "6   операции с недвижимостью  \n",
              "7      получение образования  \n",
              "8         проведение свадьбы  \n",
              "9   операции с недвижимостью  \n",
              "10  операции с недвижимостью  \n",
              "11  операции с недвижимостью  \n",
              "12        проведение свадьбы  \n",
              "13    операции с автомобилем  \n",
              "14  операции с недвижимостью  \n",
              "15  операции с недвижимостью  \n",
              "16  операции с недвижимостью  \n",
              "17  операции с недвижимостью  \n",
              "18    операции с автомобилем  \n",
              "19    операции с автомобилем  "
            ]
          },
          "execution_count": 34,
          "metadata": {},
          "output_type": "execute_result"
        }
      ],
      "source": [
        "df['purpose_category'] = df['purpose'].apply(purpose_category)\n",
        "df.head(20)"
      ]
    },
    {
      "cell_type": "markdown",
      "id": "a08d0e99",
      "metadata": {
        "id": "a08d0e99"
      },
      "source": [
        "Можем избавляться от столбца с целями, категорий будет достаточно"
      ]
    },
    {
      "cell_type": "code",
      "execution_count": null,
      "id": "8b3e8c26",
      "metadata": {
        "id": "8b3e8c26",
        "outputId": "548bea5a-1268-4b7b-cb9a-6a0bc07239b0"
      },
      "outputs": [
        {
          "data": {
            "text/html": [
              "<div>\n",
              "<style scoped>\n",
              "    .dataframe tbody tr th:only-of-type {\n",
              "        vertical-align: middle;\n",
              "    }\n",
              "\n",
              "    .dataframe tbody tr th {\n",
              "        vertical-align: top;\n",
              "    }\n",
              "\n",
              "    .dataframe thead th {\n",
              "        text-align: right;\n",
              "    }\n",
              "</style>\n",
              "<table border=\"1\" class=\"dataframe\">\n",
              "  <thead>\n",
              "    <tr style=\"text-align: right;\">\n",
              "      <th></th>\n",
              "      <th>children</th>\n",
              "      <th>days_employed</th>\n",
              "      <th>dob_years</th>\n",
              "      <th>education</th>\n",
              "      <th>education_id</th>\n",
              "      <th>family_status</th>\n",
              "      <th>family_status_id</th>\n",
              "      <th>gender</th>\n",
              "      <th>income_type</th>\n",
              "      <th>debt</th>\n",
              "      <th>total_income_category</th>\n",
              "      <th>purpose_category</th>\n",
              "    </tr>\n",
              "  </thead>\n",
              "  <tbody>\n",
              "    <tr>\n",
              "      <th>0</th>\n",
              "      <td>1</td>\n",
              "      <td>8437</td>\n",
              "      <td>42.0</td>\n",
              "      <td>высшее</td>\n",
              "      <td>0</td>\n",
              "      <td>женат / замужем</td>\n",
              "      <td>0</td>\n",
              "      <td>F</td>\n",
              "      <td>сотрудник</td>\n",
              "      <td>0</td>\n",
              "      <td>B</td>\n",
              "      <td>операции с недвижимостью</td>\n",
              "    </tr>\n",
              "    <tr>\n",
              "      <th>1</th>\n",
              "      <td>1</td>\n",
              "      <td>4024</td>\n",
              "      <td>36.0</td>\n",
              "      <td>среднее</td>\n",
              "      <td>1</td>\n",
              "      <td>женат / замужем</td>\n",
              "      <td>0</td>\n",
              "      <td>F</td>\n",
              "      <td>сотрудник</td>\n",
              "      <td>0</td>\n",
              "      <td>C</td>\n",
              "      <td>операции с автомобилем</td>\n",
              "    </tr>\n",
              "    <tr>\n",
              "      <th>2</th>\n",
              "      <td>0</td>\n",
              "      <td>5623</td>\n",
              "      <td>33.0</td>\n",
              "      <td>среднее</td>\n",
              "      <td>1</td>\n",
              "      <td>женат / замужем</td>\n",
              "      <td>0</td>\n",
              "      <td>M</td>\n",
              "      <td>сотрудник</td>\n",
              "      <td>0</td>\n",
              "      <td>C</td>\n",
              "      <td>операции с недвижимостью</td>\n",
              "    </tr>\n",
              "    <tr>\n",
              "      <th>3</th>\n",
              "      <td>3</td>\n",
              "      <td>4124</td>\n",
              "      <td>32.0</td>\n",
              "      <td>среднее</td>\n",
              "      <td>1</td>\n",
              "      <td>женат / замужем</td>\n",
              "      <td>0</td>\n",
              "      <td>M</td>\n",
              "      <td>сотрудник</td>\n",
              "      <td>0</td>\n",
              "      <td>B</td>\n",
              "      <td>получение образования</td>\n",
              "    </tr>\n",
              "    <tr>\n",
              "      <th>4</th>\n",
              "      <td>0</td>\n",
              "      <td>5475</td>\n",
              "      <td>53.0</td>\n",
              "      <td>среднее</td>\n",
              "      <td>1</td>\n",
              "      <td>гражданский брак</td>\n",
              "      <td>1</td>\n",
              "      <td>F</td>\n",
              "      <td>пенсионер</td>\n",
              "      <td>0</td>\n",
              "      <td>C</td>\n",
              "      <td>проведение свадьбы</td>\n",
              "    </tr>\n",
              "  </tbody>\n",
              "</table>\n",
              "</div>"
            ],
            "text/plain": [
              "   children  days_employed  dob_years education  education_id  \\\n",
              "0         1           8437       42.0    высшее             0   \n",
              "1         1           4024       36.0   среднее             1   \n",
              "2         0           5623       33.0   среднее             1   \n",
              "3         3           4124       32.0   среднее             1   \n",
              "4         0           5475       53.0   среднее             1   \n",
              "\n",
              "      family_status  family_status_id gender income_type  debt  \\\n",
              "0   женат / замужем                 0      F   сотрудник     0   \n",
              "1   женат / замужем                 0      F   сотрудник     0   \n",
              "2   женат / замужем                 0      M   сотрудник     0   \n",
              "3   женат / замужем                 0      M   сотрудник     0   \n",
              "4  гражданский брак                 1      F   пенсионер     0   \n",
              "\n",
              "  total_income_category          purpose_category  \n",
              "0                     B  операции с недвижимостью  \n",
              "1                     C    операции с автомобилем  \n",
              "2                     C  операции с недвижимостью  \n",
              "3                     B     получение образования  \n",
              "4                     C        проведение свадьбы  "
            ]
          },
          "execution_count": 35,
          "metadata": {},
          "output_type": "execute_result"
        }
      ],
      "source": [
        "df.pop('purpose')\n",
        "df.head()"
      ]
    },
    {
      "cell_type": "markdown",
      "id": "339d6b87",
      "metadata": {
        "id": "339d6b87"
      },
      "source": [
        "<a id='3'></a>"
      ]
    },
    {
      "cell_type": "markdown",
      "id": "c01ccc56",
      "metadata": {
        "id": "c01ccc56"
      },
      "source": [
        "### Шаг 3. Ответы на вопросы."
      ]
    },
    {
      "cell_type": "markdown",
      "id": "4caea5a9",
      "metadata": {
        "id": "4caea5a9"
      },
      "source": [
        "<a id='3.1'></a>"
      ]
    },
    {
      "cell_type": "markdown",
      "id": "598d8372",
      "metadata": {
        "id": "598d8372"
      },
      "source": [
        "##### Вопрос 1:"
      ]
    },
    {
      "cell_type": "markdown",
      "id": "23c45ead",
      "metadata": {
        "id": "23c45ead"
      },
      "source": [
        "**Есть ли зависимость между количеством детей и возвратом кредита в срок?**"
      ]
    },
    {
      "cell_type": "markdown",
      "id": "5b7b3436",
      "metadata": {
        "id": "5b7b3436"
      },
      "source": [
        "Чтобы ответить на этот вопрос, данные снова нужно категоризировать :)\n",
        "\n",
        "В России многодетной семьёй считается семья, где 3 и более детей. Поэтому по количеству детей разобью на категории:\n",
        "\n",
        "    «нет детей»;\n",
        "    «1-2 ребенка»;\n",
        "    «многодетные»(>= 3 детей)."
      ]
    },
    {
      "cell_type": "code",
      "execution_count": null,
      "id": "d1c45acb",
      "metadata": {
        "id": "d1c45acb"
      },
      "outputs": [],
      "source": [
        "def children_category(row):\n",
        "    if row == 0:\n",
        "        return 'нет детей'\n",
        "    elif 1 <= row <= 2:\n",
        "        return '1-2 ребенка'\n",
        "    return 'многодетные'"
      ]
    },
    {
      "cell_type": "code",
      "execution_count": null,
      "id": "4ce61fe2",
      "metadata": {
        "scrolled": true,
        "id": "4ce61fe2",
        "outputId": "30fea143-7df9-41df-fad5-6edda2bc576d"
      },
      "outputs": [
        {
          "data": {
            "text/html": [
              "<div>\n",
              "<style scoped>\n",
              "    .dataframe tbody tr th:only-of-type {\n",
              "        vertical-align: middle;\n",
              "    }\n",
              "\n",
              "    .dataframe tbody tr th {\n",
              "        vertical-align: top;\n",
              "    }\n",
              "\n",
              "    .dataframe thead th {\n",
              "        text-align: right;\n",
              "    }\n",
              "</style>\n",
              "<table border=\"1\" class=\"dataframe\">\n",
              "  <thead>\n",
              "    <tr style=\"text-align: right;\">\n",
              "      <th></th>\n",
              "      <th>children</th>\n",
              "      <th>days_employed</th>\n",
              "      <th>dob_years</th>\n",
              "      <th>education</th>\n",
              "      <th>education_id</th>\n",
              "      <th>family_status</th>\n",
              "      <th>family_status_id</th>\n",
              "      <th>gender</th>\n",
              "      <th>income_type</th>\n",
              "      <th>debt</th>\n",
              "      <th>total_income_category</th>\n",
              "      <th>purpose_category</th>\n",
              "      <th>children_category</th>\n",
              "    </tr>\n",
              "  </thead>\n",
              "  <tbody>\n",
              "    <tr>\n",
              "      <th>0</th>\n",
              "      <td>1</td>\n",
              "      <td>8437</td>\n",
              "      <td>42.0</td>\n",
              "      <td>высшее</td>\n",
              "      <td>0</td>\n",
              "      <td>женат / замужем</td>\n",
              "      <td>0</td>\n",
              "      <td>F</td>\n",
              "      <td>сотрудник</td>\n",
              "      <td>0</td>\n",
              "      <td>B</td>\n",
              "      <td>операции с недвижимостью</td>\n",
              "      <td>1-2 ребенка</td>\n",
              "    </tr>\n",
              "    <tr>\n",
              "      <th>1</th>\n",
              "      <td>1</td>\n",
              "      <td>4024</td>\n",
              "      <td>36.0</td>\n",
              "      <td>среднее</td>\n",
              "      <td>1</td>\n",
              "      <td>женат / замужем</td>\n",
              "      <td>0</td>\n",
              "      <td>F</td>\n",
              "      <td>сотрудник</td>\n",
              "      <td>0</td>\n",
              "      <td>C</td>\n",
              "      <td>операции с автомобилем</td>\n",
              "      <td>1-2 ребенка</td>\n",
              "    </tr>\n",
              "    <tr>\n",
              "      <th>2</th>\n",
              "      <td>0</td>\n",
              "      <td>5623</td>\n",
              "      <td>33.0</td>\n",
              "      <td>среднее</td>\n",
              "      <td>1</td>\n",
              "      <td>женат / замужем</td>\n",
              "      <td>0</td>\n",
              "      <td>M</td>\n",
              "      <td>сотрудник</td>\n",
              "      <td>0</td>\n",
              "      <td>C</td>\n",
              "      <td>операции с недвижимостью</td>\n",
              "      <td>нет детей</td>\n",
              "    </tr>\n",
              "    <tr>\n",
              "      <th>3</th>\n",
              "      <td>3</td>\n",
              "      <td>4124</td>\n",
              "      <td>32.0</td>\n",
              "      <td>среднее</td>\n",
              "      <td>1</td>\n",
              "      <td>женат / замужем</td>\n",
              "      <td>0</td>\n",
              "      <td>M</td>\n",
              "      <td>сотрудник</td>\n",
              "      <td>0</td>\n",
              "      <td>B</td>\n",
              "      <td>получение образования</td>\n",
              "      <td>многодетные</td>\n",
              "    </tr>\n",
              "    <tr>\n",
              "      <th>4</th>\n",
              "      <td>0</td>\n",
              "      <td>5475</td>\n",
              "      <td>53.0</td>\n",
              "      <td>среднее</td>\n",
              "      <td>1</td>\n",
              "      <td>гражданский брак</td>\n",
              "      <td>1</td>\n",
              "      <td>F</td>\n",
              "      <td>пенсионер</td>\n",
              "      <td>0</td>\n",
              "      <td>C</td>\n",
              "      <td>проведение свадьбы</td>\n",
              "      <td>нет детей</td>\n",
              "    </tr>\n",
              "    <tr>\n",
              "      <th>5</th>\n",
              "      <td>0</td>\n",
              "      <td>926</td>\n",
              "      <td>27.0</td>\n",
              "      <td>высшее</td>\n",
              "      <td>0</td>\n",
              "      <td>гражданский брак</td>\n",
              "      <td>1</td>\n",
              "      <td>M</td>\n",
              "      <td>компаньон</td>\n",
              "      <td>0</td>\n",
              "      <td>B</td>\n",
              "      <td>операции с недвижимостью</td>\n",
              "      <td>нет детей</td>\n",
              "    </tr>\n",
              "    <tr>\n",
              "      <th>6</th>\n",
              "      <td>0</td>\n",
              "      <td>2879</td>\n",
              "      <td>43.0</td>\n",
              "      <td>высшее</td>\n",
              "      <td>0</td>\n",
              "      <td>женат / замужем</td>\n",
              "      <td>0</td>\n",
              "      <td>F</td>\n",
              "      <td>компаньон</td>\n",
              "      <td>0</td>\n",
              "      <td>B</td>\n",
              "      <td>операции с недвижимостью</td>\n",
              "      <td>нет детей</td>\n",
              "    </tr>\n",
              "    <tr>\n",
              "      <th>7</th>\n",
              "      <td>0</td>\n",
              "      <td>152</td>\n",
              "      <td>50.0</td>\n",
              "      <td>среднее</td>\n",
              "      <td>1</td>\n",
              "      <td>женат / замужем</td>\n",
              "      <td>0</td>\n",
              "      <td>M</td>\n",
              "      <td>сотрудник</td>\n",
              "      <td>0</td>\n",
              "      <td>C</td>\n",
              "      <td>получение образования</td>\n",
              "      <td>нет детей</td>\n",
              "    </tr>\n",
              "    <tr>\n",
              "      <th>8</th>\n",
              "      <td>2</td>\n",
              "      <td>6929</td>\n",
              "      <td>35.0</td>\n",
              "      <td>высшее</td>\n",
              "      <td>0</td>\n",
              "      <td>гражданский брак</td>\n",
              "      <td>1</td>\n",
              "      <td>F</td>\n",
              "      <td>сотрудник</td>\n",
              "      <td>0</td>\n",
              "      <td>C</td>\n",
              "      <td>проведение свадьбы</td>\n",
              "      <td>1-2 ребенка</td>\n",
              "    </tr>\n",
              "    <tr>\n",
              "      <th>9</th>\n",
              "      <td>0</td>\n",
              "      <td>2188</td>\n",
              "      <td>41.0</td>\n",
              "      <td>среднее</td>\n",
              "      <td>1</td>\n",
              "      <td>женат / замужем</td>\n",
              "      <td>0</td>\n",
              "      <td>M</td>\n",
              "      <td>сотрудник</td>\n",
              "      <td>0</td>\n",
              "      <td>C</td>\n",
              "      <td>операции с недвижимостью</td>\n",
              "      <td>нет детей</td>\n",
              "    </tr>\n",
              "  </tbody>\n",
              "</table>\n",
              "</div>"
            ],
            "text/plain": [
              "   children  days_employed  dob_years education  education_id  \\\n",
              "0         1           8437       42.0    высшее             0   \n",
              "1         1           4024       36.0   среднее             1   \n",
              "2         0           5623       33.0   среднее             1   \n",
              "3         3           4124       32.0   среднее             1   \n",
              "4         0           5475       53.0   среднее             1   \n",
              "5         0            926       27.0    высшее             0   \n",
              "6         0           2879       43.0    высшее             0   \n",
              "7         0            152       50.0   среднее             1   \n",
              "8         2           6929       35.0    высшее             0   \n",
              "9         0           2188       41.0   среднее             1   \n",
              "\n",
              "      family_status  family_status_id gender income_type  debt  \\\n",
              "0   женат / замужем                 0      F   сотрудник     0   \n",
              "1   женат / замужем                 0      F   сотрудник     0   \n",
              "2   женат / замужем                 0      M   сотрудник     0   \n",
              "3   женат / замужем                 0      M   сотрудник     0   \n",
              "4  гражданский брак                 1      F   пенсионер     0   \n",
              "5  гражданский брак                 1      M   компаньон     0   \n",
              "6   женат / замужем                 0      F   компаньон     0   \n",
              "7   женат / замужем                 0      M   сотрудник     0   \n",
              "8  гражданский брак                 1      F   сотрудник     0   \n",
              "9   женат / замужем                 0      M   сотрудник     0   \n",
              "\n",
              "  total_income_category          purpose_category children_category  \n",
              "0                     B  операции с недвижимостью       1-2 ребенка  \n",
              "1                     C    операции с автомобилем       1-2 ребенка  \n",
              "2                     C  операции с недвижимостью         нет детей  \n",
              "3                     B     получение образования       многодетные  \n",
              "4                     C        проведение свадьбы         нет детей  \n",
              "5                     B  операции с недвижимостью         нет детей  \n",
              "6                     B  операции с недвижимостью         нет детей  \n",
              "7                     C     получение образования         нет детей  \n",
              "8                     C        проведение свадьбы       1-2 ребенка  \n",
              "9                     C  операции с недвижимостью         нет детей  "
            ]
          },
          "execution_count": 37,
          "metadata": {},
          "output_type": "execute_result"
        }
      ],
      "source": [
        "df['children_category'] = df['children'].apply(children_category)\n",
        "\n",
        "df.head(10)"
      ]
    },
    {
      "cell_type": "markdown",
      "id": "8f97ca5b",
      "metadata": {
        "id": "8f97ca5b"
      },
      "source": [
        "Теперь сделаю таблицу, где отражу количество людей из разных категорий, которые просрочили платеж и среднее по просрочившим."
      ]
    },
    {
      "cell_type": "code",
      "execution_count": null,
      "id": "d6fa18d3",
      "metadata": {
        "id": "d6fa18d3",
        "outputId": "503f7674-ccfc-4b4b-ca2e-d72ba04c5cfc"
      },
      "outputs": [
        {
          "data": {
            "text/html": [
              "<div>\n",
              "<style scoped>\n",
              "    .dataframe tbody tr th:only-of-type {\n",
              "        vertical-align: middle;\n",
              "    }\n",
              "\n",
              "    .dataframe tbody tr th {\n",
              "        vertical-align: top;\n",
              "    }\n",
              "\n",
              "    .dataframe thead tr th {\n",
              "        text-align: left;\n",
              "    }\n",
              "\n",
              "    .dataframe thead tr:last-of-type th {\n",
              "        text-align: right;\n",
              "    }\n",
              "</style>\n",
              "<table border=\"1\" class=\"dataframe\">\n",
              "  <thead>\n",
              "    <tr>\n",
              "      <th></th>\n",
              "      <th>sum</th>\n",
              "      <th>mean</th>\n",
              "    </tr>\n",
              "    <tr>\n",
              "      <th></th>\n",
              "      <th>debt</th>\n",
              "      <th>debt</th>\n",
              "    </tr>\n",
              "    <tr>\n",
              "      <th>children_category</th>\n",
              "      <th></th>\n",
              "      <th></th>\n",
              "    </tr>\n",
              "  </thead>\n",
              "  <tbody>\n",
              "    <tr>\n",
              "      <th>1-2 ребенка</th>\n",
              "      <td>646</td>\n",
              "      <td>0.093137</td>\n",
              "    </tr>\n",
              "    <tr>\n",
              "      <th>многодетные</th>\n",
              "      <td>31</td>\n",
              "      <td>0.081579</td>\n",
              "    </tr>\n",
              "    <tr>\n",
              "      <th>нет детей</th>\n",
              "      <td>1064</td>\n",
              "      <td>0.075258</td>\n",
              "    </tr>\n",
              "  </tbody>\n",
              "</table>\n",
              "</div>"
            ],
            "text/plain": [
              "                    sum      mean\n",
              "                   debt      debt\n",
              "children_category                \n",
              "1-2 ребенка         646  0.093137\n",
              "многодетные          31  0.081579\n",
              "нет детей          1064  0.075258"
            ]
          },
          "execution_count": 38,
          "metadata": {},
          "output_type": "execute_result"
        }
      ],
      "source": [
        "children_pivot = df.pivot_table(index=['children_category'], values='debt', aggfunc=['sum', 'mean'])\n",
        "children_pivot"
      ]
    },
    {
      "cell_type": "markdown",
      "id": "d61f194a",
      "metadata": {
        "id": "d61f194a"
      },
      "source": [
        "Многодетные и бездетные ответственнее относятся к выплатам в срок: всего 7% бездетных и 8% многодетных имеют задолженности по оплате, а доля должников с 1-2 ребёнком — 9%."
      ]
    },
    {
      "cell_type": "markdown",
      "id": "9178b839",
      "metadata": {
        "id": "9178b839"
      },
      "source": [
        "<a id='3.2'></a>"
      ]
    },
    {
      "cell_type": "markdown",
      "id": "27b6dae8",
      "metadata": {
        "id": "27b6dae8"
      },
      "source": [
        "##### Вопрос 2:"
      ]
    },
    {
      "cell_type": "markdown",
      "id": "bf7a678f",
      "metadata": {
        "id": "bf7a678f"
      },
      "source": [
        "**Есть ли зависимость между семейным положением и возвратом кредита в срок?**"
      ]
    },
    {
      "cell_type": "markdown",
      "id": "4ab31739",
      "metadata": {
        "id": "4ab31739"
      },
      "source": [
        "Для создания новой таблички смерджим исходную и словарь, не перезаписывая исходную таблицу, и достанем оттуда названия статусов"
      ]
    },
    {
      "cell_type": "code",
      "execution_count": null,
      "id": "1abee469",
      "metadata": {
        "id": "1abee469",
        "outputId": "826bb24b-305b-4b4d-b87e-f317887abbc4"
      },
      "outputs": [
        {
          "data": {
            "text/html": [
              "<div>\n",
              "<style scoped>\n",
              "    .dataframe tbody tr th:only-of-type {\n",
              "        vertical-align: middle;\n",
              "    }\n",
              "\n",
              "    .dataframe tbody tr th {\n",
              "        vertical-align: top;\n",
              "    }\n",
              "\n",
              "    .dataframe thead tr th {\n",
              "        text-align: left;\n",
              "    }\n",
              "\n",
              "    .dataframe thead tr:last-of-type th {\n",
              "        text-align: right;\n",
              "    }\n",
              "</style>\n",
              "<table border=\"1\" class=\"dataframe\">\n",
              "  <thead>\n",
              "    <tr>\n",
              "      <th></th>\n",
              "      <th>sum</th>\n",
              "      <th>mean</th>\n",
              "    </tr>\n",
              "    <tr>\n",
              "      <th></th>\n",
              "      <th>debt</th>\n",
              "      <th>debt</th>\n",
              "    </tr>\n",
              "    <tr>\n",
              "      <th>family_status</th>\n",
              "      <th></th>\n",
              "      <th></th>\n",
              "    </tr>\n",
              "  </thead>\n",
              "  <tbody>\n",
              "    <tr>\n",
              "      <th>Не женат / не замужем</th>\n",
              "      <td>274</td>\n",
              "      <td>0.097509</td>\n",
              "    </tr>\n",
              "    <tr>\n",
              "      <th>в разводе</th>\n",
              "      <td>85</td>\n",
              "      <td>0.071130</td>\n",
              "    </tr>\n",
              "    <tr>\n",
              "      <th>вдовец / вдова</th>\n",
              "      <td>63</td>\n",
              "      <td>0.065693</td>\n",
              "    </tr>\n",
              "    <tr>\n",
              "      <th>гражданский брак</th>\n",
              "      <td>388</td>\n",
              "      <td>0.093471</td>\n",
              "    </tr>\n",
              "    <tr>\n",
              "      <th>женат / замужем</th>\n",
              "      <td>931</td>\n",
              "      <td>0.075452</td>\n",
              "    </tr>\n",
              "  </tbody>\n",
              "</table>\n",
              "</div>"
            ],
            "text/plain": [
              "                       sum      mean\n",
              "                      debt      debt\n",
              "family_status                       \n",
              "Не женат / не замужем  274  0.097509\n",
              "в разводе               85  0.071130\n",
              "вдовец / вдова          63  0.065693\n",
              "гражданский брак       388  0.093471\n",
              "женат / замужем        931  0.075452"
            ]
          },
          "execution_count": 39,
          "metadata": {},
          "output_type": "execute_result"
        }
      ],
      "source": [
        "famstatus_pivot = df.merge(family_status, on='family_status_id', how='left').pivot_table(index=['family_status'], values='debt', aggfunc=['sum', 'mean'])\n",
        "famstatus_pivot"
      ]
    },
    {
      "cell_type": "markdown",
      "id": "e84964a5",
      "metadata": {
        "id": "e84964a5"
      },
      "source": [
        "Вдовцы реже всех имеют задолженность по выплатам: только 6% из взявших кредит не захотели его возвращать вовремя, а заёмщики, не скованные семейными узами — наоборот, их почти 10%."
      ]
    },
    {
      "cell_type": "markdown",
      "id": "4d726deb",
      "metadata": {
        "id": "4d726deb"
      },
      "source": [
        "<a id='3.3'></a>"
      ]
    },
    {
      "cell_type": "markdown",
      "id": "c078a9c4",
      "metadata": {
        "id": "c078a9c4"
      },
      "source": [
        "##### Вопрос 3:"
      ]
    },
    {
      "cell_type": "markdown",
      "id": "e3809e36",
      "metadata": {
        "id": "e3809e36"
      },
      "source": [
        "**Есть ли зависимость между уровнем дохода и возвратом кредита в срок?**"
      ]
    },
    {
      "cell_type": "code",
      "execution_count": null,
      "id": "08545689",
      "metadata": {
        "scrolled": true,
        "id": "08545689",
        "outputId": "6fff7d8c-f374-4620-c9c7-2d498b096421"
      },
      "outputs": [
        {
          "data": {
            "text/html": [
              "<div>\n",
              "<style scoped>\n",
              "    .dataframe tbody tr th:only-of-type {\n",
              "        vertical-align: middle;\n",
              "    }\n",
              "\n",
              "    .dataframe tbody tr th {\n",
              "        vertical-align: top;\n",
              "    }\n",
              "\n",
              "    .dataframe thead tr th {\n",
              "        text-align: left;\n",
              "    }\n",
              "\n",
              "    .dataframe thead tr:last-of-type th {\n",
              "        text-align: right;\n",
              "    }\n",
              "</style>\n",
              "<table border=\"1\" class=\"dataframe\">\n",
              "  <thead>\n",
              "    <tr>\n",
              "      <th></th>\n",
              "      <th>sum</th>\n",
              "      <th>mean</th>\n",
              "    </tr>\n",
              "    <tr>\n",
              "      <th></th>\n",
              "      <th>debt</th>\n",
              "      <th>debt</th>\n",
              "    </tr>\n",
              "    <tr>\n",
              "      <th>total_income_category</th>\n",
              "      <th></th>\n",
              "      <th></th>\n",
              "    </tr>\n",
              "  </thead>\n",
              "  <tbody>\n",
              "    <tr>\n",
              "      <th>A</th>\n",
              "      <td>2</td>\n",
              "      <td>0.080000</td>\n",
              "    </tr>\n",
              "    <tr>\n",
              "      <th>B</th>\n",
              "      <td>356</td>\n",
              "      <td>0.070607</td>\n",
              "    </tr>\n",
              "    <tr>\n",
              "      <th>C</th>\n",
              "      <td>1360</td>\n",
              "      <td>0.084920</td>\n",
              "    </tr>\n",
              "    <tr>\n",
              "      <th>D</th>\n",
              "      <td>21</td>\n",
              "      <td>0.060000</td>\n",
              "    </tr>\n",
              "    <tr>\n",
              "      <th>E</th>\n",
              "      <td>2</td>\n",
              "      <td>0.090909</td>\n",
              "    </tr>\n",
              "  </tbody>\n",
              "</table>\n",
              "</div>"
            ],
            "text/plain": [
              "                        sum      mean\n",
              "                       debt      debt\n",
              "total_income_category                \n",
              "A                         2  0.080000\n",
              "B                       356  0.070607\n",
              "C                      1360  0.084920\n",
              "D                        21  0.060000\n",
              "E                         2  0.090909"
            ]
          },
          "execution_count": 40,
          "metadata": {},
          "output_type": "execute_result"
        }
      ],
      "source": [
        "income_pivot = df.pivot_table(index=['total_income_category'], values='debt', aggfunc=['sum', 'mean'])\n",
        "income_pivot"
      ]
    },
    {
      "cell_type": "markdown",
      "id": "892ec8f4",
      "metadata": {
        "id": "892ec8f4"
      },
      "source": [
        "Заёмщики с очень большим доходом (категория А) и самым маленьким доходом (категория Е) чаще оплачивают кредит в срок. А вот на заёмщиков со средним доходом (категория С) приходится больше всего должников — 8.4%\n"
      ]
    },
    {
      "cell_type": "markdown",
      "id": "f5a00f72",
      "metadata": {
        "id": "f5a00f72"
      },
      "source": [
        "<a id='3.4'></a>"
      ]
    },
    {
      "cell_type": "markdown",
      "id": "b5fe58fd",
      "metadata": {
        "id": "b5fe58fd"
      },
      "source": [
        "##### Вопрос 4:"
      ]
    },
    {
      "cell_type": "markdown",
      "id": "10380280",
      "metadata": {
        "id": "10380280"
      },
      "source": [
        "**Как разные цели кредита влияют на его возврат в срок?**"
      ]
    },
    {
      "cell_type": "code",
      "execution_count": null,
      "id": "3bc1d6d4",
      "metadata": {
        "scrolled": true,
        "id": "3bc1d6d4",
        "outputId": "deebc6ed-11be-4135-c696-89f7395cada5"
      },
      "outputs": [
        {
          "data": {
            "text/html": [
              "<div>\n",
              "<style scoped>\n",
              "    .dataframe tbody tr th:only-of-type {\n",
              "        vertical-align: middle;\n",
              "    }\n",
              "\n",
              "    .dataframe tbody tr th {\n",
              "        vertical-align: top;\n",
              "    }\n",
              "\n",
              "    .dataframe thead tr th {\n",
              "        text-align: left;\n",
              "    }\n",
              "\n",
              "    .dataframe thead tr:last-of-type th {\n",
              "        text-align: right;\n",
              "    }\n",
              "</style>\n",
              "<table border=\"1\" class=\"dataframe\">\n",
              "  <thead>\n",
              "    <tr>\n",
              "      <th></th>\n",
              "      <th>sum</th>\n",
              "      <th>mean</th>\n",
              "    </tr>\n",
              "    <tr>\n",
              "      <th></th>\n",
              "      <th>debt</th>\n",
              "      <th>debt</th>\n",
              "    </tr>\n",
              "    <tr>\n",
              "      <th>purpose_category</th>\n",
              "      <th></th>\n",
              "      <th></th>\n",
              "    </tr>\n",
              "  </thead>\n",
              "  <tbody>\n",
              "    <tr>\n",
              "      <th>операции с автомобилем</th>\n",
              "      <td>403</td>\n",
              "      <td>0.093590</td>\n",
              "    </tr>\n",
              "    <tr>\n",
              "      <th>операции с недвижимостью</th>\n",
              "      <td>782</td>\n",
              "      <td>0.072334</td>\n",
              "    </tr>\n",
              "    <tr>\n",
              "      <th>получение образования</th>\n",
              "      <td>370</td>\n",
              "      <td>0.092200</td>\n",
              "    </tr>\n",
              "    <tr>\n",
              "      <th>проведение свадьбы</th>\n",
              "      <td>186</td>\n",
              "      <td>0.080034</td>\n",
              "    </tr>\n",
              "  </tbody>\n",
              "</table>\n",
              "</div>"
            ],
            "text/plain": [
              "                          sum      mean\n",
              "                         debt      debt\n",
              "purpose_category                       \n",
              "операции с автомобилем    403  0.093590\n",
              "операции с недвижимостью  782  0.072334\n",
              "получение образования     370  0.092200\n",
              "проведение свадьбы        186  0.080034"
            ]
          },
          "execution_count": 41,
          "metadata": {},
          "output_type": "execute_result"
        }
      ],
      "source": [
        "purpose_pivot = df.pivot_table(index=['purpose_category'], values='debt', aggfunc=['sum', 'mean'])\n",
        "purpose_pivot"
      ]
    },
    {
      "cell_type": "markdown",
      "id": "f0305934",
      "metadata": {
        "id": "f0305934"
      },
      "source": [
        "Заёмщики, берущие кредит для манипуляций с недвижимостью, наиболее ответственны — задолжников всего 7%. А вот те, кто берут кредит на автомобиль или свадьбу, не платят чаще — таких 9%."
      ]
    },
    {
      "cell_type": "markdown",
      "id": "ea0761d8",
      "metadata": {
        "id": "ea0761d8"
      },
      "source": [
        "<a id='4'></a>"
      ]
    },
    {
      "cell_type": "markdown",
      "id": "d252434c",
      "metadata": {
        "id": "d252434c"
      },
      "source": [
        "## Шаг 4. Общий вывод:"
      ]
    },
    {
      "cell_type": "markdown",
      "id": "65fdb123",
      "metadata": {
        "id": "65fdb123"
      },
      "source": [
        "1. Заёмщики, которые в прошлом были в официальном в браке или в официальном браке сейчас ответственнее, чем люди не заводившие официальные отношения. Согласно нашему исследованию только 6% вдовцов и по 7% людей в официальных отношениях и бездетных не выплачивают долг вовремя, а должников, не состоявших в официальном браке, почти 10%.  \n",
        "\n",
        "Могу предположить, что у таких людей, во-первых, меньше инфантилизма и они чувство ответственности не только за себя, но и за партнёра, подталкивает к выполнению обязательств перед банком, а во-вторых, реже бывают проблемы с финансами: у семьи может быть один кредит, который выплачивают вдвоём, а у вдовцов же может остаться финансовая подушка после смерти партнёра.\n",
        "\n",
        "2. Заёмщики, имеющие 1 или 2 детей - менее неответственные, чем бездетные и многодетные: их количество возрасло до 9%. Полагаю, что здесь такая картина:  \n",
        "Дети — это жуткие траты, и если многодетным помогает государство, то семьи с 1-2 детьми вынуждены сами содержать своих чад, поэтому если возникает вопрос недостатка денег, то скорее просрочат кредит и испортят историю, чем сэкономят на ребёнке.\n",
        "\n",
        "\n",
        "3. Банкам следует с осторожностью выдавать кредиты на устройство свадеб и образование — их возвращают гораздо реже: за свадьбу возвращают долг вовремя только 91% заёмщиков, а за обучение — 93%.\n",
        "\n",
        "4. Зато можно не бояться выдавать кредиты клиентам с низким доходом (до 30000 денежных единиц): неплательщиков всего 7% от общего числа заёмщков с таким доходом. Преполагаю, что люди с низкими зарплатами грамотнее распределяют свои расходы и кредиты для них уже привычное дело, поэтому историю портить нежелательно. А вот люди со средним доходом (от 50001 до 200000 денежнх единиц) имеют просрочки по кредитам чаще.\n"
      ]
    }
  ],
  "metadata": {
    "ExecuteTimeLog": [
      {
        "duration": 507,
        "start_time": "2022-03-22T21:48:19.855Z"
      },
      {
        "duration": 60,
        "start_time": "2022-03-22T21:49:35.270Z"
      },
      {
        "duration": 21,
        "start_time": "2022-03-22T21:50:03.577Z"
      },
      {
        "duration": 14,
        "start_time": "2022-03-22T21:50:11.259Z"
      },
      {
        "duration": 493,
        "start_time": "2022-03-22T21:50:16.226Z"
      },
      {
        "duration": 19,
        "start_time": "2022-03-22T21:50:16.721Z"
      },
      {
        "duration": 42,
        "start_time": "2022-03-22T21:50:57.655Z"
      },
      {
        "duration": 16,
        "start_time": "2022-03-22T21:51:10.652Z"
      },
      {
        "duration": 44,
        "start_time": "2022-03-22T21:53:15.308Z"
      },
      {
        "duration": 13,
        "start_time": "2022-03-23T21:34:35.036Z"
      },
      {
        "duration": 7,
        "start_time": "2022-03-23T21:35:39.954Z"
      },
      {
        "duration": 122,
        "start_time": "2022-03-23T21:40:13.906Z"
      },
      {
        "duration": 11,
        "start_time": "2022-03-23T21:43:07.608Z"
      },
      {
        "duration": 52,
        "start_time": "2022-03-24T21:33:26.208Z"
      },
      {
        "duration": 529,
        "start_time": "2022-03-24T21:33:30.761Z"
      },
      {
        "duration": 23,
        "start_time": "2022-03-24T21:33:31.292Z"
      },
      {
        "duration": 22,
        "start_time": "2022-03-24T21:33:31.317Z"
      },
      {
        "duration": 33,
        "start_time": "2022-03-24T21:33:31.341Z"
      },
      {
        "duration": 31,
        "start_time": "2022-03-24T21:33:31.376Z"
      },
      {
        "duration": 15,
        "start_time": "2022-03-24T21:33:31.409Z"
      },
      {
        "duration": 21,
        "start_time": "2022-03-24T21:33:31.426Z"
      },
      {
        "duration": 1977,
        "start_time": "2022-03-24T21:33:31.449Z"
      },
      {
        "duration": 53,
        "start_time": "2022-03-24T21:35:56.957Z"
      },
      {
        "duration": 452,
        "start_time": "2022-03-24T21:36:05.741Z"
      },
      {
        "duration": 21,
        "start_time": "2022-03-24T21:36:06.196Z"
      },
      {
        "duration": 17,
        "start_time": "2022-03-24T21:36:06.219Z"
      },
      {
        "duration": 35,
        "start_time": "2022-03-24T21:36:06.238Z"
      },
      {
        "duration": 42,
        "start_time": "2022-03-24T21:36:06.275Z"
      },
      {
        "duration": 6,
        "start_time": "2022-03-24T21:36:06.319Z"
      },
      {
        "duration": 19,
        "start_time": "2022-03-24T21:36:06.327Z"
      },
      {
        "duration": 1960,
        "start_time": "2022-03-24T21:36:06.348Z"
      },
      {
        "duration": 493,
        "start_time": "2022-03-24T21:37:17.158Z"
      },
      {
        "duration": 23,
        "start_time": "2022-03-24T21:37:17.653Z"
      },
      {
        "duration": 30,
        "start_time": "2022-03-24T21:37:17.679Z"
      },
      {
        "duration": 33,
        "start_time": "2022-03-24T21:37:17.713Z"
      },
      {
        "duration": 11,
        "start_time": "2022-03-24T21:37:17.749Z"
      },
      {
        "duration": 23,
        "start_time": "2022-03-24T21:37:17.762Z"
      },
      {
        "duration": 15,
        "start_time": "2022-03-24T21:37:17.800Z"
      },
      {
        "duration": 44,
        "start_time": "2022-03-24T21:37:17.817Z"
      },
      {
        "duration": 68,
        "start_time": "2022-03-24T21:38:46.313Z"
      },
      {
        "duration": 460,
        "start_time": "2022-03-24T21:38:52.133Z"
      },
      {
        "duration": 21,
        "start_time": "2022-03-24T21:38:52.595Z"
      },
      {
        "duration": 17,
        "start_time": "2022-03-24T21:38:52.617Z"
      },
      {
        "duration": 33,
        "start_time": "2022-03-24T21:38:52.636Z"
      },
      {
        "duration": 36,
        "start_time": "2022-03-24T21:38:52.673Z"
      },
      {
        "duration": 7,
        "start_time": "2022-03-24T21:38:52.712Z"
      },
      {
        "duration": 13,
        "start_time": "2022-03-24T21:38:52.721Z"
      },
      {
        "duration": 76,
        "start_time": "2022-03-24T21:38:52.736Z"
      },
      {
        "duration": 512,
        "start_time": "2022-03-24T21:41:15.982Z"
      },
      {
        "duration": 24,
        "start_time": "2022-03-24T21:41:16.496Z"
      },
      {
        "duration": 17,
        "start_time": "2022-03-24T21:41:16.522Z"
      },
      {
        "duration": 59,
        "start_time": "2022-03-24T21:41:16.542Z"
      },
      {
        "duration": 13,
        "start_time": "2022-03-24T21:41:16.604Z"
      },
      {
        "duration": 11,
        "start_time": "2022-03-24T21:41:16.619Z"
      },
      {
        "duration": 17,
        "start_time": "2022-03-24T21:41:16.631Z"
      },
      {
        "duration": 2024,
        "start_time": "2022-03-24T21:41:16.650Z"
      },
      {
        "duration": 951,
        "start_time": "2022-03-24T21:42:06.287Z"
      },
      {
        "duration": 463,
        "start_time": "2022-03-24T21:42:16.735Z"
      },
      {
        "duration": 23,
        "start_time": "2022-03-24T21:42:17.201Z"
      },
      {
        "duration": 17,
        "start_time": "2022-03-24T21:42:17.226Z"
      },
      {
        "duration": 56,
        "start_time": "2022-03-24T21:42:17.246Z"
      },
      {
        "duration": 12,
        "start_time": "2022-03-24T21:42:17.304Z"
      },
      {
        "duration": 20,
        "start_time": "2022-03-24T21:42:17.318Z"
      },
      {
        "duration": 24,
        "start_time": "2022-03-24T21:42:17.340Z"
      },
      {
        "duration": 1134,
        "start_time": "2022-03-24T21:42:17.366Z"
      },
      {
        "duration": 41,
        "start_time": "2022-03-24T21:42:31.085Z"
      },
      {
        "duration": 41,
        "start_time": "2022-03-24T21:42:50.597Z"
      },
      {
        "duration": 44,
        "start_time": "2022-03-24T21:43:10.047Z"
      },
      {
        "duration": 4,
        "start_time": "2022-03-24T21:46:36.519Z"
      },
      {
        "duration": 1851,
        "start_time": "2022-03-24T21:47:09.816Z"
      },
      {
        "duration": 34,
        "start_time": "2022-03-24T21:47:23.012Z"
      },
      {
        "duration": 11,
        "start_time": "2022-03-24T21:48:56.781Z"
      },
      {
        "duration": 109,
        "start_time": "2022-03-24T21:54:27.306Z"
      },
      {
        "duration": 4,
        "start_time": "2022-03-24T21:59:06.099Z"
      },
      {
        "duration": 8,
        "start_time": "2022-03-24T21:59:12.184Z"
      },
      {
        "duration": 986,
        "start_time": "2022-03-24T21:59:46.808Z"
      },
      {
        "duration": 1937,
        "start_time": "2022-03-24T22:00:02.737Z"
      },
      {
        "duration": 8,
        "start_time": "2022-03-24T22:00:18.347Z"
      },
      {
        "duration": 10,
        "start_time": "2022-03-24T22:00:48.607Z"
      },
      {
        "duration": 14,
        "start_time": "2022-03-24T22:02:52.154Z"
      },
      {
        "duration": 8,
        "start_time": "2022-03-24T22:03:15.569Z"
      },
      {
        "duration": 10,
        "start_time": "2022-03-24T22:04:56.606Z"
      },
      {
        "duration": 7,
        "start_time": "2022-03-24T22:14:13.485Z"
      },
      {
        "duration": 9,
        "start_time": "2022-03-24T22:14:45.044Z"
      },
      {
        "duration": 51,
        "start_time": "2022-04-03T21:38:42.660Z"
      },
      {
        "duration": 456,
        "start_time": "2022-04-03T21:38:49.259Z"
      },
      {
        "duration": 20,
        "start_time": "2022-04-03T21:38:49.717Z"
      },
      {
        "duration": 21,
        "start_time": "2022-04-03T21:38:49.738Z"
      },
      {
        "duration": 34,
        "start_time": "2022-04-03T21:38:49.761Z"
      },
      {
        "duration": 10,
        "start_time": "2022-04-03T21:38:49.797Z"
      },
      {
        "duration": 28,
        "start_time": "2022-04-03T21:38:49.808Z"
      },
      {
        "duration": 22,
        "start_time": "2022-04-03T21:38:49.838Z"
      },
      {
        "duration": 40,
        "start_time": "2022-04-03T21:38:49.861Z"
      },
      {
        "duration": 49,
        "start_time": "2022-04-03T21:38:49.903Z"
      },
      {
        "duration": 11,
        "start_time": "2022-04-03T21:38:49.954Z"
      },
      {
        "duration": 6,
        "start_time": "2022-04-03T21:38:49.967Z"
      },
      {
        "duration": 10,
        "start_time": "2022-04-03T21:38:49.975Z"
      },
      {
        "duration": 99,
        "start_time": "2022-04-03T21:38:49.987Z"
      },
      {
        "duration": 13,
        "start_time": "2022-04-03T21:39:00.711Z"
      },
      {
        "duration": 6,
        "start_time": "2022-04-03T21:39:24.328Z"
      },
      {
        "duration": 5,
        "start_time": "2022-04-03T21:39:29.086Z"
      },
      {
        "duration": 14,
        "start_time": "2022-04-03T21:40:01.268Z"
      },
      {
        "duration": 11,
        "start_time": "2022-04-03T21:41:44.210Z"
      },
      {
        "duration": 12,
        "start_time": "2022-04-03T21:42:46.807Z"
      },
      {
        "duration": 48,
        "start_time": "2022-04-03T21:44:54.283Z"
      },
      {
        "duration": 34,
        "start_time": "2022-04-03T21:47:56.309Z"
      },
      {
        "duration": 46,
        "start_time": "2022-04-03T21:50:01.774Z"
      },
      {
        "duration": 17,
        "start_time": "2022-04-03T22:08:41.728Z"
      },
      {
        "duration": 12,
        "start_time": "2022-04-03T22:10:51.318Z"
      },
      {
        "duration": 21,
        "start_time": "2022-04-03T22:10:58.017Z"
      },
      {
        "duration": 137,
        "start_time": "2022-04-03T22:13:23.262Z"
      },
      {
        "duration": 4,
        "start_time": "2022-04-03T22:19:58.974Z"
      },
      {
        "duration": 6,
        "start_time": "2022-04-03T22:20:27.367Z"
      },
      {
        "duration": 7,
        "start_time": "2022-04-03T22:20:33.554Z"
      },
      {
        "duration": 4,
        "start_time": "2022-04-03T22:24:37.393Z"
      },
      {
        "duration": 4,
        "start_time": "2022-04-03T22:24:49.325Z"
      },
      {
        "duration": 18,
        "start_time": "2022-04-03T22:24:55.587Z"
      },
      {
        "duration": 9,
        "start_time": "2022-04-03T22:25:14.707Z"
      },
      {
        "duration": 10,
        "start_time": "2022-04-03T22:25:20.664Z"
      },
      {
        "duration": 17,
        "start_time": "2022-04-03T22:25:30.925Z"
      },
      {
        "duration": 21,
        "start_time": "2022-04-03T22:26:08.005Z"
      },
      {
        "duration": 17,
        "start_time": "2022-04-03T22:26:17.192Z"
      },
      {
        "duration": 13,
        "start_time": "2022-04-03T22:31:06.143Z"
      },
      {
        "duration": 23,
        "start_time": "2022-04-03T22:31:17.724Z"
      },
      {
        "duration": 6,
        "start_time": "2022-04-03T22:35:35.770Z"
      },
      {
        "duration": 8,
        "start_time": "2022-04-03T22:35:43.249Z"
      },
      {
        "duration": 7,
        "start_time": "2022-04-03T22:35:49.269Z"
      },
      {
        "duration": 9,
        "start_time": "2022-04-03T22:52:55.179Z"
      },
      {
        "duration": 8,
        "start_time": "2022-04-03T22:53:03.243Z"
      },
      {
        "duration": 11,
        "start_time": "2022-04-03T22:53:20.171Z"
      },
      {
        "duration": 7,
        "start_time": "2022-04-03T22:53:28.145Z"
      },
      {
        "duration": 7,
        "start_time": "2022-04-03T22:57:07.962Z"
      },
      {
        "duration": 139,
        "start_time": "2022-04-03T23:13:05.649Z"
      },
      {
        "duration": 21,
        "start_time": "2022-04-03T23:13:14.144Z"
      },
      {
        "duration": 46,
        "start_time": "2022-04-03T23:13:23.926Z"
      },
      {
        "duration": 13,
        "start_time": "2022-04-03T23:17:15.206Z"
      },
      {
        "duration": 5,
        "start_time": "2022-04-03T23:18:07.274Z"
      },
      {
        "duration": 14,
        "start_time": "2022-04-03T23:18:22.519Z"
      },
      {
        "duration": 13,
        "start_time": "2022-04-03T23:18:33.756Z"
      },
      {
        "duration": 4,
        "start_time": "2022-04-03T23:19:20.461Z"
      },
      {
        "duration": 4,
        "start_time": "2022-04-03T23:19:27.356Z"
      },
      {
        "duration": 17,
        "start_time": "2022-04-03T23:23:25.317Z"
      },
      {
        "duration": 17,
        "start_time": "2022-04-03T23:23:38.632Z"
      },
      {
        "duration": 13,
        "start_time": "2022-04-03T23:23:45.895Z"
      },
      {
        "duration": 14,
        "start_time": "2022-04-03T23:24:18.092Z"
      },
      {
        "duration": 14,
        "start_time": "2022-04-03T23:24:47.686Z"
      },
      {
        "duration": 14,
        "start_time": "2022-04-03T23:27:15.385Z"
      },
      {
        "duration": 10,
        "start_time": "2022-04-03T23:27:53.106Z"
      },
      {
        "duration": 15,
        "start_time": "2022-04-03T23:28:02.444Z"
      },
      {
        "duration": 14,
        "start_time": "2022-04-03T23:32:36.576Z"
      },
      {
        "duration": 151,
        "start_time": "2022-04-03T23:45:33.012Z"
      },
      {
        "duration": 3,
        "start_time": "2022-04-03T23:45:38.895Z"
      },
      {
        "duration": 20,
        "start_time": "2022-04-03T23:45:52.008Z"
      },
      {
        "duration": 4,
        "start_time": "2022-04-03T23:46:30.153Z"
      },
      {
        "duration": 21,
        "start_time": "2022-04-03T23:46:32.321Z"
      },
      {
        "duration": 68,
        "start_time": "2022-04-03T23:48:23.084Z"
      },
      {
        "duration": 496,
        "start_time": "2022-04-03T23:48:30.411Z"
      },
      {
        "duration": 20,
        "start_time": "2022-04-03T23:48:30.909Z"
      },
      {
        "duration": 22,
        "start_time": "2022-04-03T23:48:30.931Z"
      },
      {
        "duration": 36,
        "start_time": "2022-04-03T23:48:30.955Z"
      },
      {
        "duration": 11,
        "start_time": "2022-04-03T23:48:30.993Z"
      },
      {
        "duration": 21,
        "start_time": "2022-04-03T23:48:31.006Z"
      },
      {
        "duration": 25,
        "start_time": "2022-04-03T23:48:31.032Z"
      },
      {
        "duration": 48,
        "start_time": "2022-04-03T23:48:31.059Z"
      },
      {
        "duration": 40,
        "start_time": "2022-04-03T23:48:31.109Z"
      },
      {
        "duration": 12,
        "start_time": "2022-04-03T23:48:31.152Z"
      },
      {
        "duration": 18,
        "start_time": "2022-04-03T23:48:31.166Z"
      },
      {
        "duration": 22,
        "start_time": "2022-04-03T23:48:31.186Z"
      },
      {
        "duration": 25,
        "start_time": "2022-04-03T23:48:31.210Z"
      },
      {
        "duration": 33,
        "start_time": "2022-04-03T23:48:31.237Z"
      },
      {
        "duration": 56,
        "start_time": "2022-04-03T23:48:31.272Z"
      },
      {
        "duration": 29,
        "start_time": "2022-04-03T23:48:31.329Z"
      },
      {
        "duration": 35,
        "start_time": "2022-04-03T23:48:31.360Z"
      },
      {
        "duration": 15,
        "start_time": "2022-04-03T23:48:31.396Z"
      },
      {
        "duration": 34,
        "start_time": "2022-04-03T23:48:31.413Z"
      },
      {
        "duration": 8,
        "start_time": "2022-04-03T23:48:31.449Z"
      },
      {
        "duration": 29,
        "start_time": "2022-04-03T23:48:31.459Z"
      },
      {
        "duration": 25,
        "start_time": "2022-04-03T23:48:31.489Z"
      },
      {
        "duration": 17,
        "start_time": "2022-04-03T23:48:31.516Z"
      },
      {
        "duration": 11,
        "start_time": "2022-04-03T23:48:31.535Z"
      },
      {
        "duration": 35,
        "start_time": "2022-04-03T23:48:31.547Z"
      },
      {
        "duration": 20,
        "start_time": "2022-04-03T23:48:31.583Z"
      },
      {
        "duration": 19,
        "start_time": "2022-04-03T23:48:31.605Z"
      },
      {
        "duration": 13,
        "start_time": "2022-04-03T23:48:31.627Z"
      },
      {
        "duration": 9,
        "start_time": "2022-04-03T23:48:31.642Z"
      },
      {
        "duration": 25,
        "start_time": "2022-04-03T23:48:31.653Z"
      },
      {
        "duration": 7,
        "start_time": "2022-04-04T00:13:01.710Z"
      },
      {
        "duration": 4,
        "start_time": "2022-04-04T00:15:21.726Z"
      },
      {
        "duration": 4,
        "start_time": "2022-04-04T00:17:32.466Z"
      },
      {
        "duration": 3274,
        "start_time": "2022-04-04T00:17:35.997Z"
      },
      {
        "duration": 2521,
        "start_time": "2022-04-04T00:17:48.655Z"
      },
      {
        "duration": 19,
        "start_time": "2022-04-04T00:19:30.371Z"
      },
      {
        "duration": 478,
        "start_time": "2022-04-04T00:19:44.141Z"
      },
      {
        "duration": 22,
        "start_time": "2022-04-04T00:19:44.621Z"
      },
      {
        "duration": 18,
        "start_time": "2022-04-04T00:19:44.645Z"
      },
      {
        "duration": 36,
        "start_time": "2022-04-04T00:19:44.665Z"
      },
      {
        "duration": 33,
        "start_time": "2022-04-04T00:19:44.703Z"
      },
      {
        "duration": 11,
        "start_time": "2022-04-04T00:19:44.738Z"
      },
      {
        "duration": 14,
        "start_time": "2022-04-04T00:19:44.751Z"
      },
      {
        "duration": 41,
        "start_time": "2022-04-04T00:19:44.767Z"
      },
      {
        "duration": 54,
        "start_time": "2022-04-04T00:19:44.810Z"
      },
      {
        "duration": 11,
        "start_time": "2022-04-04T00:19:44.867Z"
      },
      {
        "duration": 10,
        "start_time": "2022-04-04T00:19:44.880Z"
      },
      {
        "duration": 14,
        "start_time": "2022-04-04T00:19:44.891Z"
      },
      {
        "duration": 25,
        "start_time": "2022-04-04T00:19:44.907Z"
      },
      {
        "duration": 17,
        "start_time": "2022-04-04T00:19:44.934Z"
      },
      {
        "duration": 44,
        "start_time": "2022-04-04T00:19:44.953Z"
      },
      {
        "duration": 44,
        "start_time": "2022-04-04T00:19:44.999Z"
      },
      {
        "duration": 43,
        "start_time": "2022-04-04T00:19:45.045Z"
      },
      {
        "duration": 16,
        "start_time": "2022-04-04T00:19:45.090Z"
      },
      {
        "duration": 32,
        "start_time": "2022-04-04T00:19:45.108Z"
      },
      {
        "duration": 7,
        "start_time": "2022-04-04T00:19:45.142Z"
      },
      {
        "duration": 28,
        "start_time": "2022-04-04T00:19:45.150Z"
      },
      {
        "duration": 18,
        "start_time": "2022-04-04T00:19:45.180Z"
      },
      {
        "duration": 33,
        "start_time": "2022-04-04T00:19:45.200Z"
      },
      {
        "duration": 9,
        "start_time": "2022-04-04T00:19:45.234Z"
      },
      {
        "duration": 10,
        "start_time": "2022-04-04T00:19:45.245Z"
      },
      {
        "duration": 16,
        "start_time": "2022-04-04T00:19:45.256Z"
      },
      {
        "duration": 14,
        "start_time": "2022-04-04T00:19:45.274Z"
      },
      {
        "duration": 48,
        "start_time": "2022-04-04T00:19:45.292Z"
      },
      {
        "duration": 8,
        "start_time": "2022-04-04T00:19:45.342Z"
      },
      {
        "duration": 25,
        "start_time": "2022-04-04T00:19:45.352Z"
      },
      {
        "duration": 19,
        "start_time": "2022-04-04T00:19:45.379Z"
      },
      {
        "duration": 8,
        "start_time": "2022-04-04T00:19:45.400Z"
      },
      {
        "duration": 5,
        "start_time": "2022-04-04T00:19:45.410Z"
      },
      {
        "duration": 3483,
        "start_time": "2022-04-04T00:19:45.432Z"
      },
      {
        "duration": 14,
        "start_time": "2022-04-04T00:20:45.847Z"
      },
      {
        "duration": 13,
        "start_time": "2022-04-04T00:21:52.285Z"
      },
      {
        "duration": 3,
        "start_time": "2022-04-04T00:24:53.208Z"
      },
      {
        "duration": 71,
        "start_time": "2022-04-04T00:25:36.635Z"
      },
      {
        "duration": 18,
        "start_time": "2022-04-04T00:25:41.470Z"
      },
      {
        "duration": 30,
        "start_time": "2022-04-04T00:28:17.910Z"
      },
      {
        "duration": 8,
        "start_time": "2022-04-04T00:35:59.984Z"
      },
      {
        "duration": 22,
        "start_time": "2022-04-04T00:36:05.844Z"
      },
      {
        "duration": 7,
        "start_time": "2022-04-04T00:38:48.740Z"
      },
      {
        "duration": 15,
        "start_time": "2022-04-04T00:38:56.572Z"
      },
      {
        "duration": 16,
        "start_time": "2022-04-04T00:39:25.356Z"
      },
      {
        "duration": 16,
        "start_time": "2022-04-04T00:40:19.209Z"
      },
      {
        "duration": 500,
        "start_time": "2022-04-04T00:40:36.813Z"
      },
      {
        "duration": 22,
        "start_time": "2022-04-04T00:40:37.315Z"
      },
      {
        "duration": 17,
        "start_time": "2022-04-04T00:40:37.338Z"
      },
      {
        "duration": 35,
        "start_time": "2022-04-04T00:40:37.357Z"
      },
      {
        "duration": 11,
        "start_time": "2022-04-04T00:40:37.393Z"
      },
      {
        "duration": 31,
        "start_time": "2022-04-04T00:40:37.405Z"
      },
      {
        "duration": 11,
        "start_time": "2022-04-04T00:40:37.438Z"
      },
      {
        "duration": 39,
        "start_time": "2022-04-04T00:40:37.451Z"
      },
      {
        "duration": 57,
        "start_time": "2022-04-04T00:40:37.491Z"
      },
      {
        "duration": 10,
        "start_time": "2022-04-04T00:40:37.551Z"
      },
      {
        "duration": 6,
        "start_time": "2022-04-04T00:40:37.563Z"
      },
      {
        "duration": 10,
        "start_time": "2022-04-04T00:40:37.571Z"
      },
      {
        "duration": 5,
        "start_time": "2022-04-04T00:40:37.583Z"
      },
      {
        "duration": 6,
        "start_time": "2022-04-04T00:40:37.590Z"
      },
      {
        "duration": 71,
        "start_time": "2022-04-04T00:40:37.597Z"
      },
      {
        "duration": 30,
        "start_time": "2022-04-04T00:40:37.670Z"
      },
      {
        "duration": 56,
        "start_time": "2022-04-04T00:40:37.702Z"
      },
      {
        "duration": 15,
        "start_time": "2022-04-04T00:40:37.760Z"
      },
      {
        "duration": 16,
        "start_time": "2022-04-04T00:40:37.777Z"
      },
      {
        "duration": 6,
        "start_time": "2022-04-04T00:40:37.795Z"
      },
      {
        "duration": 43,
        "start_time": "2022-04-04T00:40:37.803Z"
      },
      {
        "duration": 16,
        "start_time": "2022-04-04T00:40:37.848Z"
      },
      {
        "duration": 6,
        "start_time": "2022-04-04T00:40:37.866Z"
      },
      {
        "duration": 7,
        "start_time": "2022-04-04T00:40:37.874Z"
      },
      {
        "duration": 9,
        "start_time": "2022-04-04T00:40:37.883Z"
      },
      {
        "duration": 49,
        "start_time": "2022-04-04T00:40:37.893Z"
      },
      {
        "duration": 14,
        "start_time": "2022-04-04T00:40:37.944Z"
      },
      {
        "duration": 14,
        "start_time": "2022-04-04T00:40:37.961Z"
      },
      {
        "duration": 5,
        "start_time": "2022-04-04T00:40:37.977Z"
      },
      {
        "duration": 52,
        "start_time": "2022-04-04T00:40:37.983Z"
      },
      {
        "duration": 13,
        "start_time": "2022-04-04T00:40:38.037Z"
      },
      {
        "duration": 10,
        "start_time": "2022-04-04T00:40:38.052Z"
      },
      {
        "duration": 6,
        "start_time": "2022-04-04T00:40:38.064Z"
      },
      {
        "duration": 3269,
        "start_time": "2022-04-04T00:40:38.072Z"
      },
      {
        "duration": 15,
        "start_time": "2022-04-04T00:40:41.342Z"
      },
      {
        "duration": 4,
        "start_time": "2022-04-04T00:40:41.359Z"
      },
      {
        "duration": 21,
        "start_time": "2022-04-04T00:40:41.365Z"
      },
      {
        "duration": 53,
        "start_time": "2022-04-04T00:40:41.387Z"
      },
      {
        "duration": 22,
        "start_time": "2022-04-04T00:40:41.441Z"
      },
      {
        "duration": 13,
        "start_time": "2022-04-04T00:40:41.465Z"
      },
      {
        "duration": 474,
        "start_time": "2022-04-04T00:41:46.257Z"
      },
      {
        "duration": 21,
        "start_time": "2022-04-04T00:41:46.733Z"
      },
      {
        "duration": 22,
        "start_time": "2022-04-04T00:41:46.756Z"
      },
      {
        "duration": 41,
        "start_time": "2022-04-04T00:41:46.780Z"
      },
      {
        "duration": 19,
        "start_time": "2022-04-04T00:41:46.822Z"
      },
      {
        "duration": 12,
        "start_time": "2022-04-04T00:41:46.842Z"
      },
      {
        "duration": 29,
        "start_time": "2022-04-04T00:41:46.855Z"
      },
      {
        "duration": 53,
        "start_time": "2022-04-04T00:41:46.886Z"
      },
      {
        "duration": 33,
        "start_time": "2022-04-04T00:41:46.940Z"
      },
      {
        "duration": 12,
        "start_time": "2022-04-04T00:41:46.975Z"
      },
      {
        "duration": 14,
        "start_time": "2022-04-04T00:41:46.988Z"
      },
      {
        "duration": 23,
        "start_time": "2022-04-04T00:41:47.004Z"
      },
      {
        "duration": 10,
        "start_time": "2022-04-04T00:41:47.028Z"
      },
      {
        "duration": 22,
        "start_time": "2022-04-04T00:41:47.040Z"
      },
      {
        "duration": 47,
        "start_time": "2022-04-04T00:41:47.064Z"
      },
      {
        "duration": 29,
        "start_time": "2022-04-04T00:41:47.112Z"
      },
      {
        "duration": 35,
        "start_time": "2022-04-04T00:41:47.142Z"
      },
      {
        "duration": 15,
        "start_time": "2022-04-04T00:41:47.179Z"
      },
      {
        "duration": 38,
        "start_time": "2022-04-04T00:41:47.196Z"
      },
      {
        "duration": 6,
        "start_time": "2022-04-04T00:41:47.236Z"
      },
      {
        "duration": 18,
        "start_time": "2022-04-04T00:41:47.244Z"
      },
      {
        "duration": 17,
        "start_time": "2022-04-04T00:41:47.264Z"
      },
      {
        "duration": 6,
        "start_time": "2022-04-04T00:41:47.283Z"
      },
      {
        "duration": 45,
        "start_time": "2022-04-04T00:41:47.291Z"
      },
      {
        "duration": 6,
        "start_time": "2022-04-04T00:41:47.338Z"
      },
      {
        "duration": 21,
        "start_time": "2022-04-04T00:41:47.346Z"
      },
      {
        "duration": 14,
        "start_time": "2022-04-04T00:41:47.368Z"
      },
      {
        "duration": 14,
        "start_time": "2022-04-04T00:41:47.385Z"
      },
      {
        "duration": 32,
        "start_time": "2022-04-04T00:41:47.401Z"
      },
      {
        "duration": 24,
        "start_time": "2022-04-04T00:41:47.435Z"
      },
      {
        "duration": 17,
        "start_time": "2022-04-04T00:41:47.461Z"
      },
      {
        "duration": 14,
        "start_time": "2022-04-04T00:41:47.479Z"
      },
      {
        "duration": 19,
        "start_time": "2022-04-04T00:41:47.494Z"
      },
      {
        "duration": 3464,
        "start_time": "2022-04-04T00:41:47.515Z"
      },
      {
        "duration": 16,
        "start_time": "2022-04-04T00:41:50.981Z"
      },
      {
        "duration": 5,
        "start_time": "2022-04-04T00:41:50.999Z"
      },
      {
        "duration": 43,
        "start_time": "2022-04-04T00:41:51.006Z"
      },
      {
        "duration": 30,
        "start_time": "2022-04-04T00:41:51.051Z"
      },
      {
        "duration": 22,
        "start_time": "2022-04-04T00:41:51.083Z"
      },
      {
        "duration": 44,
        "start_time": "2022-04-04T00:44:35.856Z"
      },
      {
        "duration": 80,
        "start_time": "2022-04-04T00:47:48.086Z"
      },
      {
        "duration": 23,
        "start_time": "2022-04-04T00:48:23.138Z"
      },
      {
        "duration": 26,
        "start_time": "2022-04-04T00:52:21.754Z"
      },
      {
        "duration": 504,
        "start_time": "2022-04-14T18:13:24.608Z"
      },
      {
        "duration": 29,
        "start_time": "2022-04-14T18:13:25.114Z"
      },
      {
        "duration": 24,
        "start_time": "2022-04-14T18:13:25.145Z"
      },
      {
        "duration": 51,
        "start_time": "2022-04-14T18:13:25.172Z"
      },
      {
        "duration": 16,
        "start_time": "2022-04-14T18:13:25.226Z"
      },
      {
        "duration": 10,
        "start_time": "2022-04-14T18:13:25.245Z"
      },
      {
        "duration": 14,
        "start_time": "2022-04-14T18:13:25.257Z"
      },
      {
        "duration": 81,
        "start_time": "2022-04-14T18:13:25.274Z"
      },
      {
        "duration": 61,
        "start_time": "2022-04-14T18:13:25.357Z"
      },
      {
        "duration": 17,
        "start_time": "2022-04-14T18:13:25.424Z"
      },
      {
        "duration": 9,
        "start_time": "2022-04-14T18:13:25.445Z"
      },
      {
        "duration": 15,
        "start_time": "2022-04-14T18:13:25.456Z"
      },
      {
        "duration": 7,
        "start_time": "2022-04-14T18:13:25.474Z"
      },
      {
        "duration": 40,
        "start_time": "2022-04-14T18:13:25.483Z"
      },
      {
        "duration": 56,
        "start_time": "2022-04-14T18:13:25.525Z"
      },
      {
        "duration": 30,
        "start_time": "2022-04-14T18:13:25.583Z"
      },
      {
        "duration": 59,
        "start_time": "2022-04-14T18:13:25.615Z"
      },
      {
        "duration": 22,
        "start_time": "2022-04-14T18:13:25.677Z"
      },
      {
        "duration": 34,
        "start_time": "2022-04-14T18:13:25.720Z"
      },
      {
        "duration": 13,
        "start_time": "2022-04-14T18:13:25.756Z"
      },
      {
        "duration": 26,
        "start_time": "2022-04-14T18:13:25.771Z"
      },
      {
        "duration": 26,
        "start_time": "2022-04-14T18:13:25.824Z"
      },
      {
        "duration": 11,
        "start_time": "2022-04-14T18:13:25.852Z"
      },
      {
        "duration": 16,
        "start_time": "2022-04-14T18:13:25.866Z"
      },
      {
        "duration": 14,
        "start_time": "2022-04-14T18:13:25.884Z"
      },
      {
        "duration": 25,
        "start_time": "2022-04-14T18:13:25.920Z"
      },
      {
        "duration": 21,
        "start_time": "2022-04-14T18:13:25.949Z"
      },
      {
        "duration": 49,
        "start_time": "2022-04-14T18:13:25.975Z"
      },
      {
        "duration": 9,
        "start_time": "2022-04-14T18:13:26.028Z"
      },
      {
        "duration": 35,
        "start_time": "2022-04-14T18:13:26.039Z"
      },
      {
        "duration": 23,
        "start_time": "2022-04-14T18:13:26.076Z"
      },
      {
        "duration": 16,
        "start_time": "2022-04-14T18:13:26.101Z"
      },
      {
        "duration": 20,
        "start_time": "2022-04-14T18:13:26.121Z"
      },
      {
        "duration": 5028,
        "start_time": "2022-04-14T18:13:26.144Z"
      },
      {
        "duration": 59,
        "start_time": "2022-04-14T18:13:31.174Z"
      },
      {
        "duration": 47,
        "start_time": "2022-04-14T18:13:31.235Z"
      },
      {
        "duration": 57,
        "start_time": "2022-04-14T18:13:31.285Z"
      },
      {
        "duration": 45,
        "start_time": "2022-04-14T18:13:31.343Z"
      },
      {
        "duration": 48,
        "start_time": "2022-04-14T18:13:31.389Z"
      },
      {
        "duration": 26,
        "start_time": "2022-04-14T18:13:31.439Z"
      },
      {
        "duration": 68,
        "start_time": "2022-04-14T18:13:31.466Z"
      },
      {
        "duration": 86,
        "start_time": "2022-04-15T17:19:03.453Z"
      }
    ],
    "kernelspec": {
      "display_name": "Python 3 (ipykernel)",
      "language": "python",
      "name": "python3"
    },
    "language_info": {
      "codemirror_mode": {
        "name": "ipython",
        "version": 3
      },
      "file_extension": ".py",
      "mimetype": "text/x-python",
      "name": "python",
      "nbconvert_exporter": "python",
      "pygments_lexer": "ipython3",
      "version": "3.9.5"
    },
    "toc": {
      "base_numbering": 1,
      "nav_menu": {},
      "number_sections": false,
      "sideBar": true,
      "skip_h1_title": false,
      "title_cell": "Table of Contents",
      "title_sidebar": "Contents",
      "toc_cell": false,
      "toc_position": {
        "height": "calc(100% - 180px)",
        "left": "10px",
        "top": "150px",
        "width": "366.4px"
      },
      "toc_section_display": true,
      "toc_window_display": false
    },
    "colab": {
      "provenance": []
    }
  },
  "nbformat": 4,
  "nbformat_minor": 5
}