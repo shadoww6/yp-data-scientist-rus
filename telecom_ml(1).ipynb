{
  "cells": [
    {
      "cell_type": "markdown",
      "source": [
        "❗ Оставлены рекомендации ревьюера\n"
      ],
      "metadata": {
        "id": "eCNVVYxj0a7h"
      }
    },
    {
      "cell_type": "markdown",
      "metadata": {
        "id": "LA3RUbQF0ZUX"
      },
      "source": [
        "# Рекомендация тарифов"
      ]
    },
    {
      "cell_type": "markdown",
      "metadata": {
        "id": "DKuGSdPV0ZUX"
      },
      "source": [
        "**Задача:**\n",
        "\n",
        "В вашем распоряжении данные о поведении клиентов, которые уже перешли на эти тарифы (из проекта курса «Статистический анализ данных»). Нужно построить модель для задачи классификации, которая выберет подходящий тариф. Предобработка данных не понадобится — вы её уже сделали.\n",
        "\n",
        "Постройте модель с максимально большим значением *accuracy*. Чтобы сдать проект успешно, нужно довести долю правильных ответов по крайней мере до 0.75. Проверьте *accuracy* на тестовой выборке самостоятельно."
      ]
    },
    {
      "cell_type": "markdown",
      "metadata": {
        "id": "-SGjNK3J0ZUY"
      },
      "source": [
        "## Откройте и изучите файл"
      ]
    },
    {
      "cell_type": "code",
      "execution_count": null,
      "metadata": {
        "id": "9FWFaDWE0ZUY"
      },
      "outputs": [],
      "source": [
        "import pandas as pd\n",
        "import numpy as np\n",
        "import random\n",
        "\n",
        "from sklearn.model_selection import train_test_split\n",
        "from sklearn.tree import DecisionTreeClassifier\n",
        "from sklearn.ensemble import RandomForestClassifier\n",
        "from sklearn.linear_model import LogisticRegression\n",
        "from sklearn.dummy import DummyClassifier\n",
        "from sklearn.metrics import accuracy_score\n",
        "\n",
        "\n",
        "df = pd.read_csv('/datasets/users_behavior.csv')"
      ]
    },
    {
      "cell_type": "code",
      "execution_count": null,
      "metadata": {
        "scrolled": true,
        "id": "vIwZQsaJ0ZUa",
        "outputId": "3a3930ee-e39f-4bac-deec-67afed6789ed"
      },
      "outputs": [
        {
          "data": {
            "text/html": [
              "<div>\n",
              "<style scoped>\n",
              "    .dataframe tbody tr th:only-of-type {\n",
              "        vertical-align: middle;\n",
              "    }\n",
              "\n",
              "    .dataframe tbody tr th {\n",
              "        vertical-align: top;\n",
              "    }\n",
              "\n",
              "    .dataframe thead th {\n",
              "        text-align: right;\n",
              "    }\n",
              "</style>\n",
              "<table border=\"1\" class=\"dataframe\">\n",
              "  <thead>\n",
              "    <tr style=\"text-align: right;\">\n",
              "      <th></th>\n",
              "      <th>calls</th>\n",
              "      <th>minutes</th>\n",
              "      <th>messages</th>\n",
              "      <th>mb_used</th>\n",
              "      <th>is_ultra</th>\n",
              "    </tr>\n",
              "  </thead>\n",
              "  <tbody>\n",
              "    <tr>\n",
              "      <th>0</th>\n",
              "      <td>40.0</td>\n",
              "      <td>311.90</td>\n",
              "      <td>83.0</td>\n",
              "      <td>19915.42</td>\n",
              "      <td>0</td>\n",
              "    </tr>\n",
              "    <tr>\n",
              "      <th>1</th>\n",
              "      <td>85.0</td>\n",
              "      <td>516.75</td>\n",
              "      <td>56.0</td>\n",
              "      <td>22696.96</td>\n",
              "      <td>0</td>\n",
              "    </tr>\n",
              "    <tr>\n",
              "      <th>2</th>\n",
              "      <td>77.0</td>\n",
              "      <td>467.66</td>\n",
              "      <td>86.0</td>\n",
              "      <td>21060.45</td>\n",
              "      <td>0</td>\n",
              "    </tr>\n",
              "    <tr>\n",
              "      <th>3</th>\n",
              "      <td>106.0</td>\n",
              "      <td>745.53</td>\n",
              "      <td>81.0</td>\n",
              "      <td>8437.39</td>\n",
              "      <td>1</td>\n",
              "    </tr>\n",
              "    <tr>\n",
              "      <th>4</th>\n",
              "      <td>66.0</td>\n",
              "      <td>418.74</td>\n",
              "      <td>1.0</td>\n",
              "      <td>14502.75</td>\n",
              "      <td>0</td>\n",
              "    </tr>\n",
              "    <tr>\n",
              "      <th>5</th>\n",
              "      <td>58.0</td>\n",
              "      <td>344.56</td>\n",
              "      <td>21.0</td>\n",
              "      <td>15823.37</td>\n",
              "      <td>0</td>\n",
              "    </tr>\n",
              "    <tr>\n",
              "      <th>6</th>\n",
              "      <td>57.0</td>\n",
              "      <td>431.64</td>\n",
              "      <td>20.0</td>\n",
              "      <td>3738.90</td>\n",
              "      <td>1</td>\n",
              "    </tr>\n",
              "    <tr>\n",
              "      <th>7</th>\n",
              "      <td>15.0</td>\n",
              "      <td>132.40</td>\n",
              "      <td>6.0</td>\n",
              "      <td>21911.60</td>\n",
              "      <td>0</td>\n",
              "    </tr>\n",
              "    <tr>\n",
              "      <th>8</th>\n",
              "      <td>7.0</td>\n",
              "      <td>43.39</td>\n",
              "      <td>3.0</td>\n",
              "      <td>2538.67</td>\n",
              "      <td>1</td>\n",
              "    </tr>\n",
              "    <tr>\n",
              "      <th>9</th>\n",
              "      <td>90.0</td>\n",
              "      <td>665.41</td>\n",
              "      <td>38.0</td>\n",
              "      <td>17358.61</td>\n",
              "      <td>0</td>\n",
              "    </tr>\n",
              "    <tr>\n",
              "      <th>10</th>\n",
              "      <td>82.0</td>\n",
              "      <td>560.51</td>\n",
              "      <td>20.0</td>\n",
              "      <td>9619.53</td>\n",
              "      <td>1</td>\n",
              "    </tr>\n",
              "    <tr>\n",
              "      <th>11</th>\n",
              "      <td>45.0</td>\n",
              "      <td>344.32</td>\n",
              "      <td>13.0</td>\n",
              "      <td>19898.81</td>\n",
              "      <td>0</td>\n",
              "    </tr>\n",
              "    <tr>\n",
              "      <th>12</th>\n",
              "      <td>51.0</td>\n",
              "      <td>437.13</td>\n",
              "      <td>61.0</td>\n",
              "      <td>21523.58</td>\n",
              "      <td>0</td>\n",
              "    </tr>\n",
              "    <tr>\n",
              "      <th>13</th>\n",
              "      <td>56.0</td>\n",
              "      <td>433.07</td>\n",
              "      <td>16.0</td>\n",
              "      <td>16702.36</td>\n",
              "      <td>0</td>\n",
              "    </tr>\n",
              "    <tr>\n",
              "      <th>14</th>\n",
              "      <td>108.0</td>\n",
              "      <td>587.90</td>\n",
              "      <td>0.0</td>\n",
              "      <td>14406.50</td>\n",
              "      <td>1</td>\n",
              "    </tr>\n",
              "    <tr>\n",
              "      <th>15</th>\n",
              "      <td>6.0</td>\n",
              "      <td>22.13</td>\n",
              "      <td>0.0</td>\n",
              "      <td>2710.09</td>\n",
              "      <td>0</td>\n",
              "    </tr>\n",
              "    <tr>\n",
              "      <th>16</th>\n",
              "      <td>2.0</td>\n",
              "      <td>18.73</td>\n",
              "      <td>0.0</td>\n",
              "      <td>588.89</td>\n",
              "      <td>0</td>\n",
              "    </tr>\n",
              "    <tr>\n",
              "      <th>17</th>\n",
              "      <td>26.0</td>\n",
              "      <td>163.62</td>\n",
              "      <td>4.0</td>\n",
              "      <td>16870.34</td>\n",
              "      <td>0</td>\n",
              "    </tr>\n",
              "    <tr>\n",
              "      <th>18</th>\n",
              "      <td>79.0</td>\n",
              "      <td>532.62</td>\n",
              "      <td>90.0</td>\n",
              "      <td>19908.31</td>\n",
              "      <td>0</td>\n",
              "    </tr>\n",
              "    <tr>\n",
              "      <th>19</th>\n",
              "      <td>49.0</td>\n",
              "      <td>341.67</td>\n",
              "      <td>81.0</td>\n",
              "      <td>11770.28</td>\n",
              "      <td>1</td>\n",
              "    </tr>\n",
              "  </tbody>\n",
              "</table>\n",
              "</div>"
            ],
            "text/plain": [
              "    calls  minutes  messages   mb_used  is_ultra\n",
              "0    40.0   311.90      83.0  19915.42         0\n",
              "1    85.0   516.75      56.0  22696.96         0\n",
              "2    77.0   467.66      86.0  21060.45         0\n",
              "3   106.0   745.53      81.0   8437.39         1\n",
              "4    66.0   418.74       1.0  14502.75         0\n",
              "5    58.0   344.56      21.0  15823.37         0\n",
              "6    57.0   431.64      20.0   3738.90         1\n",
              "7    15.0   132.40       6.0  21911.60         0\n",
              "8     7.0    43.39       3.0   2538.67         1\n",
              "9    90.0   665.41      38.0  17358.61         0\n",
              "10   82.0   560.51      20.0   9619.53         1\n",
              "11   45.0   344.32      13.0  19898.81         0\n",
              "12   51.0   437.13      61.0  21523.58         0\n",
              "13   56.0   433.07      16.0  16702.36         0\n",
              "14  108.0   587.90       0.0  14406.50         1\n",
              "15    6.0    22.13       0.0   2710.09         0\n",
              "16    2.0    18.73       0.0    588.89         0\n",
              "17   26.0   163.62       4.0  16870.34         0\n",
              "18   79.0   532.62      90.0  19908.31         0\n",
              "19   49.0   341.67      81.0  11770.28         1"
            ]
          },
          "execution_count": 2,
          "metadata": {},
          "output_type": "execute_result"
        }
      ],
      "source": [
        "df.head(20)"
      ]
    },
    {
      "cell_type": "markdown",
      "metadata": {
        "id": "X4A_D1600ZUa"
      },
      "source": [
        "Данные по столбцам:\n",
        "\n",
        "1. сalls — количество звонков,\n",
        "2. minutes — суммарная длительность звонков в минутах,\n",
        "3. messages — количество sms-сообщений,\n",
        "4. mb_used — израсходованный интернет-трафик в Мб,\n",
        "5. is_ultra — каким тарифом пользовался в течение месяца («Ультра» — 1, «Смарт» — 0)."
      ]
    },
    {
      "cell_type": "code",
      "execution_count": null,
      "metadata": {
        "id": "jZxKfDp20ZUb",
        "outputId": "93a2468d-03d6-4e4e-e9b5-7b7dc5a5465a"
      },
      "outputs": [
        {
          "name": "stdout",
          "output_type": "stream",
          "text": [
            "<class 'pandas.core.frame.DataFrame'>\n",
            "RangeIndex: 3214 entries, 0 to 3213\n",
            "Data columns (total 5 columns):\n",
            " #   Column    Non-Null Count  Dtype  \n",
            "---  ------    --------------  -----  \n",
            " 0   calls     3214 non-null   float64\n",
            " 1   minutes   3214 non-null   float64\n",
            " 2   messages  3214 non-null   float64\n",
            " 3   mb_used   3214 non-null   float64\n",
            " 4   is_ultra  3214 non-null   int64  \n",
            "dtypes: float64(4), int64(1)\n",
            "memory usage: 125.7 KB\n"
          ]
        }
      ],
      "source": [
        "df.info()"
      ]
    },
    {
      "cell_type": "markdown",
      "metadata": {
        "id": "NOscIPdh0ZUc"
      },
      "source": [
        "Пропусков в таблице нет. Звонки и сообщения переведу в целочисленный формат, количество звонков и сообщений дробным быть не может. Плюс мне кажется, что целочисленный формат обрабатывается быстрее (поправьте пж если это не так)  \n",
        "Последний столбец делать булевым не будем, целочисленный формат подйдёт."
      ]
    },
    {
      "cell_type": "code",
      "execution_count": null,
      "metadata": {
        "id": "jWy4jw8b0ZUc",
        "outputId": "04154748-6b5d-49f4-bcc2-eddbba919d77"
      },
      "outputs": [
        {
          "name": "stdout",
          "output_type": "stream",
          "text": [
            "<class 'pandas.core.frame.DataFrame'>\n",
            "RangeIndex: 3214 entries, 0 to 3213\n",
            "Data columns (total 5 columns):\n",
            " #   Column    Non-Null Count  Dtype  \n",
            "---  ------    --------------  -----  \n",
            " 0   calls     3214 non-null   int64  \n",
            " 1   minutes   3214 non-null   float64\n",
            " 2   messages  3214 non-null   int64  \n",
            " 3   mb_used   3214 non-null   float64\n",
            " 4   is_ultra  3214 non-null   int64  \n",
            "dtypes: float64(2), int64(3)\n",
            "memory usage: 125.7 KB\n"
          ]
        }
      ],
      "source": [
        "df['calls'] = df['calls'].astype('int')\n",
        "df['messages'] = df['messages'].astype('int')\n",
        "\n",
        "df.info()"
      ]
    },
    {
      "cell_type": "code",
      "execution_count": null,
      "metadata": {
        "id": "dM1UhG9y0ZUd",
        "outputId": "9d111aee-9b86-48ff-e6dd-7be66a0a830d"
      },
      "outputs": [
        {
          "data": {
            "text/html": [
              "<div>\n",
              "<style scoped>\n",
              "    .dataframe tbody tr th:only-of-type {\n",
              "        vertical-align: middle;\n",
              "    }\n",
              "\n",
              "    .dataframe tbody tr th {\n",
              "        vertical-align: top;\n",
              "    }\n",
              "\n",
              "    .dataframe thead th {\n",
              "        text-align: right;\n",
              "    }\n",
              "</style>\n",
              "<table border=\"1\" class=\"dataframe\">\n",
              "  <thead>\n",
              "    <tr style=\"text-align: right;\">\n",
              "      <th></th>\n",
              "      <th>calls</th>\n",
              "      <th>minutes</th>\n",
              "      <th>messages</th>\n",
              "      <th>mb_used</th>\n",
              "      <th>is_ultra</th>\n",
              "    </tr>\n",
              "  </thead>\n",
              "  <tbody>\n",
              "    <tr>\n",
              "      <th>count</th>\n",
              "      <td>3214.000000</td>\n",
              "      <td>3214.000000</td>\n",
              "      <td>3214.000000</td>\n",
              "      <td>3214.000000</td>\n",
              "      <td>3214.000000</td>\n",
              "    </tr>\n",
              "    <tr>\n",
              "      <th>mean</th>\n",
              "      <td>63.038892</td>\n",
              "      <td>438.208787</td>\n",
              "      <td>38.281269</td>\n",
              "      <td>17207.673836</td>\n",
              "      <td>0.306472</td>\n",
              "    </tr>\n",
              "    <tr>\n",
              "      <th>std</th>\n",
              "      <td>33.236368</td>\n",
              "      <td>234.569872</td>\n",
              "      <td>36.148326</td>\n",
              "      <td>7570.968246</td>\n",
              "      <td>0.461100</td>\n",
              "    </tr>\n",
              "    <tr>\n",
              "      <th>min</th>\n",
              "      <td>0.000000</td>\n",
              "      <td>0.000000</td>\n",
              "      <td>0.000000</td>\n",
              "      <td>0.000000</td>\n",
              "      <td>0.000000</td>\n",
              "    </tr>\n",
              "    <tr>\n",
              "      <th>25%</th>\n",
              "      <td>40.000000</td>\n",
              "      <td>274.575000</td>\n",
              "      <td>9.000000</td>\n",
              "      <td>12491.902500</td>\n",
              "      <td>0.000000</td>\n",
              "    </tr>\n",
              "    <tr>\n",
              "      <th>50%</th>\n",
              "      <td>62.000000</td>\n",
              "      <td>430.600000</td>\n",
              "      <td>30.000000</td>\n",
              "      <td>16943.235000</td>\n",
              "      <td>0.000000</td>\n",
              "    </tr>\n",
              "    <tr>\n",
              "      <th>75%</th>\n",
              "      <td>82.000000</td>\n",
              "      <td>571.927500</td>\n",
              "      <td>57.000000</td>\n",
              "      <td>21424.700000</td>\n",
              "      <td>1.000000</td>\n",
              "    </tr>\n",
              "    <tr>\n",
              "      <th>max</th>\n",
              "      <td>244.000000</td>\n",
              "      <td>1632.060000</td>\n",
              "      <td>224.000000</td>\n",
              "      <td>49745.730000</td>\n",
              "      <td>1.000000</td>\n",
              "    </tr>\n",
              "  </tbody>\n",
              "</table>\n",
              "</div>"
            ],
            "text/plain": [
              "             calls      minutes     messages       mb_used     is_ultra\n",
              "count  3214.000000  3214.000000  3214.000000   3214.000000  3214.000000\n",
              "mean     63.038892   438.208787    38.281269  17207.673836     0.306472\n",
              "std      33.236368   234.569872    36.148326   7570.968246     0.461100\n",
              "min       0.000000     0.000000     0.000000      0.000000     0.000000\n",
              "25%      40.000000   274.575000     9.000000  12491.902500     0.000000\n",
              "50%      62.000000   430.600000    30.000000  16943.235000     0.000000\n",
              "75%      82.000000   571.927500    57.000000  21424.700000     1.000000\n",
              "max     244.000000  1632.060000   224.000000  49745.730000     1.000000"
            ]
          },
          "execution_count": 5,
          "metadata": {},
          "output_type": "execute_result"
        }
      ],
      "source": [
        "df.describe()"
      ]
    },
    {
      "cell_type": "markdown",
      "metadata": {
        "id": "d6HrREac0ZUd"
      },
      "source": [
        "Предобработка данных действительно не требуется, все данные выглядят адекватно"
      ]
    },
    {
      "cell_type": "markdown",
      "metadata": {
        "id": "51V1W-lb0ZUd"
      },
      "source": [
        "\n",
        "<div class=\"alert alert-info\">\n",
        "    \n",
        "<b>Совет</b>\n",
        "Также важно изучить корреляции в данных. Так мы можем оценить взаимосвязи в данных и влияние параметров на целевой признак. Рекомендую посмотреть метод `sns.pairplot` с параметром hue, в который мы передаем целевой признак. Будет здорово, если ты сможешь это реализовать в текущем или последующих проектах. </div>\n"
      ]
    },
    {
      "cell_type": "markdown",
      "metadata": {
        "id": "wh2jwpAA0ZUe"
      },
      "source": [
        "## Разбейте данные на выборки"
      ]
    },
    {
      "cell_type": "markdown",
      "metadata": {
        "id": "yfWPHhNB0ZUe"
      },
      "source": [
        "**Задача:**  \n",
        "Разделить исходные данные на обучающую, валидационную и тестовую выборки.\n",
        "\n",
        "У нас нет отдельной тестовой выборки, значит, данные нужно разбить на три части. Размеры тестового и валидационного наборов обычно равны, разобьём исходные данные в соотношении 3:1:1.  \n",
        "\n",
        "Для этого мы разделим данные с помощью train_test_split() два раза. Сначала мы получим обучающую и тестовые выборки. Затем второй раз поделим обучающую снова и получим валидационную и окончательную обучающую выборки."
      ]
    },
    {
      "cell_type": "code",
      "execution_count": null,
      "metadata": {
        "id": "GwS3AIQq0ZUe"
      },
      "outputs": [],
      "source": [
        "df_train_first, df_valid = train_test_split(df, test_size=0.2, random_state=12345)"
      ]
    },
    {
      "cell_type": "code",
      "execution_count": null,
      "metadata": {
        "id": "rJ49i25P0ZUf",
        "outputId": "adba4df2-51ba-4184-b33d-e98ec94d9fb3"
      },
      "outputs": [
        {
          "data": {
            "text/plain": [
              "(2571, 5)"
            ]
          },
          "execution_count": 7,
          "metadata": {},
          "output_type": "execute_result"
        }
      ],
      "source": [
        "df_train_first.shape"
      ]
    },
    {
      "cell_type": "code",
      "execution_count": null,
      "metadata": {
        "id": "_mpaF9Dh0ZUf",
        "outputId": "d36ba568-c244-4696-b0d6-49578125318e"
      },
      "outputs": [
        {
          "data": {
            "text/plain": [
              "(643, 5)"
            ]
          },
          "execution_count": 8,
          "metadata": {},
          "output_type": "execute_result"
        }
      ],
      "source": [
        "df_valid.shape"
      ]
    },
    {
      "cell_type": "markdown",
      "metadata": {
        "id": "Z1yaRRQR0ZUf"
      },
      "source": [
        "Всего у нас 3214 строки. Валидационная выборка — 20%, остальное приходится на обучающую."
      ]
    },
    {
      "cell_type": "code",
      "execution_count": null,
      "metadata": {
        "id": "DzPtfp1B0ZUf"
      },
      "outputs": [],
      "source": [
        "df_train, df_test = train_test_split(df_train_first, test_size=0.2, random_state=12345)"
      ]
    },
    {
      "cell_type": "code",
      "execution_count": null,
      "metadata": {
        "scrolled": true,
        "id": "AIFuCm4_0ZUf",
        "outputId": "b031f306-5771-4aa9-e0b6-70c551b6ad9a"
      },
      "outputs": [
        {
          "data": {
            "text/plain": [
              "(2056, 5)"
            ]
          },
          "execution_count": 10,
          "metadata": {},
          "output_type": "execute_result"
        }
      ],
      "source": [
        "df_train.shape"
      ]
    },
    {
      "cell_type": "code",
      "execution_count": null,
      "metadata": {
        "id": "uNrAnH_c0ZUg",
        "outputId": "f2a25ec0-3c3e-4b36-cdd1-967dc044d1dc"
      },
      "outputs": [
        {
          "data": {
            "text/plain": [
              "(515, 5)"
            ]
          },
          "execution_count": 11,
          "metadata": {},
          "output_type": "execute_result"
        }
      ],
      "source": [
        "df_test.shape"
      ]
    },
    {
      "cell_type": "markdown",
      "metadata": {
        "id": "fVEGVkxj0ZUg"
      },
      "source": [
        "Теперь на обучающую выборку приходится 60%, на тестовую и валидацонную по 20%.  \n",
        "\n",
        "Дальше мы объявим переменные с признаками для обучения (target_train  и  features_train) и для проверки на валидационной выборке (target_valid и features_valid). Целевой признак — is_ultra, нам нужно, чтобы модель предлагала тариф исходя из поведения пользователей."
      ]
    },
    {
      "cell_type": "code",
      "execution_count": null,
      "metadata": {
        "id": "itzR-dAr0ZUg"
      },
      "outputs": [],
      "source": [
        "features_train = df_train.drop(['is_ultra'], axis=1)\n",
        "target_train = df_train['is_ultra']\n",
        "\n",
        "features_valid = df_valid.drop(['is_ultra'], axis=1)\n",
        "target_valid = df_valid['is_ultra']"
      ]
    },
    {
      "cell_type": "markdown",
      "metadata": {
        "id": "gVUi6ITK0ZUh"
      },
      "source": [
        "## Исследуйте модели"
      ]
    },
    {
      "cell_type": "markdown",
      "metadata": {
        "id": "IfczivJh0ZUh"
      },
      "source": [
        "### Решающее дерево"
      ]
    },
    {
      "cell_type": "markdown",
      "metadata": {
        "id": "kUn5KUqm0ZUh"
      },
      "source": [
        "Сначала исследуем модель — решающее дерево. Чтобы определить наилучшую модель, будем изменять гиперпараметр max_depth. Попробуем поменять его от 1 до 20, перебрав эти значения в цикле"
      ]
    },
    {
      "cell_type": "code",
      "execution_count": null,
      "metadata": {
        "id": "u6F201M90ZUi",
        "outputId": "8f4d1fc3-a376-474e-d8e5-37f925191b2e"
      },
      "outputs": [
        {
          "name": "stdout",
          "output_type": "stream",
          "text": [
            "max_depth = 1 : 0.7480559875583204\n",
            "max_depth = 2 : 0.7838258164852255\n",
            "max_depth = 3 : 0.7869362363919129\n",
            "max_depth = 4 : 0.7931570762052877\n",
            "max_depth = 5 : 0.7931570762052877\n",
            "max_depth = 6 : 0.7931570762052877\n",
            "max_depth = 7 : 0.7978227060653188\n",
            "max_depth = 8 : 0.7993779160186625\n",
            "max_depth = 9 : 0.7993779160186625\n",
            "max_depth = 10 : 0.7993779160186625\n",
            "max_depth = 11 : 0.7993779160186625\n",
            "max_depth = 12 : 0.7978227060653188\n",
            "max_depth = 13 : 0.7978227060653188\n",
            "max_depth = 14 : 0.7978227060653188\n",
            "max_depth = 15 : 0.7978227060653188\n",
            "max_depth = 16 : 0.7978227060653188\n",
            "max_depth = 17 : 0.7978227060653188\n",
            "max_depth = 18 : 0.7978227060653188\n",
            "max_depth = 19 : 0.7978227060653188\n",
            "max_depth = 20 : 0.7978227060653188\n"
          ]
        }
      ],
      "source": [
        "for depth in range(1, 21):\n",
        "    model_tree = DecisionTreeClassifier(random_state=12345, max_depth=depth, min_samples_split= 100)\n",
        "    model_tree.fit(features_train, target_train)\n",
        "    predictions_valid = model_tree.predict(features_valid)\n",
        "    print(\"max_depth =\", depth, \": \", end='')\n",
        "    print(accuracy_score(target_valid, predictions_valid))"
      ]
    },
    {
      "cell_type": "markdown",
      "metadata": {
        "id": "CiX_irZ20ZUi"
      },
      "source": [
        "Наилучший результат: max_depth = 9, дальше видно, что качество модели снижается: accuracy становится меньше. На всякий случай увеличим глубину до 100 и посмотрим, найдётся ли модель лучше."
      ]
    },
    {
      "cell_type": "code",
      "execution_count": null,
      "metadata": {
        "scrolled": true,
        "id": "GOoGNV3_0ZUi",
        "outputId": "ef2f432d-ed9b-4330-8708-5e419fa23213"
      },
      "outputs": [
        {
          "name": "stdout",
          "output_type": "stream",
          "text": [
            "Accuracy наилучшей модели на валидационной выборке: 0.7993779160186625\n"
          ]
        }
      ],
      "source": [
        "\n",
        "best_tree_model = None\n",
        "best_tree_result = 0\n",
        "\n",
        "for depth in range(1, 50, 7):\n",
        "    model_tree = DecisionTreeClassifier(random_state=12345, max_depth=depth, min_samples_split=100)\n",
        "    model_tree.fit(features_train, target_train)\n",
        "    predictions_valid = model_tree.predict(features_valid)\n",
        "    tree_result = accuracy_score(target_valid, predictions_valid)\n",
        "    if tree_result > best_tree_result:\n",
        "        best_tree_model = model_tree\n",
        "        best_tree_result = tree_result\n",
        "\n",
        "print(\"Accuracy наилучшей модели на валидационной выборке:\", best_tree_result)"
      ]
    },
    {
      "cell_type": "markdown",
      "metadata": {
        "id": "23IwkD2k0ZUi"
      },
      "source": [
        "Не нашлась — дальше уже качество модели снижается."
      ]
    },
    {
      "cell_type": "markdown",
      "metadata": {
        "id": "jGiLHaAl0ZUi"
      },
      "source": [
        "### Случайный лес"
      ]
    },
    {
      "cell_type": "markdown",
      "metadata": {
        "id": "quo5Yiic0ZUj"
      },
      "source": [
        "Теперь посмотрим на другой алгоритм классификации — случайный лес, возможно, он окажется более точным.  \n",
        "\n",
        "Напишем цикл, который переберёт гиперпараметры: глубину и количество деревьев, и выдаст нам наилучшую accuracy."
      ]
    },
    {
      "cell_type": "code",
      "execution_count": null,
      "metadata": {
        "id": "lefE-Qej0ZUj",
        "outputId": "c1f8cbf8-0520-4784-f8e6-fb217b006291"
      },
      "outputs": [
        {
          "name": "stdout",
          "output_type": "stream",
          "text": [
            "Доля правильных ответов выборки для RandomForestClassifier: 0.8055987558320373\n",
            "Оптимальная глубина деревьев: 10\n",
            "Оптимальное количество деревьев: 24\n"
          ]
        }
      ],
      "source": [
        "best_result = 0\n",
        "best_depth = 0\n",
        "best_est = 0\n",
        "\n",
        "for depth in range(1, 16):\n",
        "    for est in range(1, 100):\n",
        "        forest_model = RandomForestClassifier(n_estimators=est, max_depth=depth, random_state=12345, min_samples_split= 100)\n",
        "        forest_model.fit(features_train, target_train)\n",
        "        result = forest_model.score(features_valid, target_valid)\n",
        "        if result > best_result:\n",
        "            best_depth = depth # наилучшая глубина\n",
        "            best_result = result\n",
        "            best_est = est # наилучшее количество деревьев\n",
        "\n",
        "\n",
        "print('Доля правильных ответов выборки для RandomForestClassifier:', best_result)\n",
        "print('Оптимальная глубина деревьев:', best_depth)\n",
        "print('Оптимальное количество деревьев:', best_est)"
      ]
    },
    {
      "cell_type": "markdown",
      "metadata": {
        "id": "L_xwGpto0ZUj"
      },
      "source": [
        "Результат лучше на 1%, чем у модели дерева принятия решений."
      ]
    },
    {
      "cell_type": "markdown",
      "metadata": {
        "id": "5jEN1H3A0ZUj"
      },
      "source": [
        "*P.S. Этот цикл у меня ооочень долго отрабатывает, около пары минут. Ок ли это при ручном подборе параметров или нужно урезать количество перебираемых значений?*"
      ]
    },
    {
      "cell_type": "markdown",
      "metadata": {
        "id": "neRjwtgn0ZUj"
      },
      "source": [
        "<div class=\"alert alert-block alert-success\">\n",
        "\n",
        "<b>Ответ:</b> Ручной подбор считается довольно быстрым методом, поэтому тут дело в перебираемых значений. Отличный способ это использовать шаг, `range(1, 100)` переберет **100 значений**, а `range(1, 100, 10)` с шагом переберет **10 значений** в том же диапазоне\n"
      ]
    },
    {
      "cell_type": "markdown",
      "metadata": {
        "id": "6UDs9Bt50ZUj"
      },
      "source": [
        "### Логистическая регрессия"
      ]
    },
    {
      "cell_type": "markdown",
      "metadata": {
        "id": "G9aZoprU0ZUk"
      },
      "source": [
        "Перейдем к логистической регрессии:"
      ]
    },
    {
      "cell_type": "markdown",
      "metadata": {
        "id": "G2Yr77DR0ZUk"
      },
      "source": [
        "Здесь будем перебирать только один гиперпараметр max_iter (максимальное количество итераций обучения)."
      ]
    },
    {
      "cell_type": "code",
      "execution_count": null,
      "metadata": {
        "id": "vQztKNMc0ZUk",
        "outputId": "240bb896-9d6c-466a-ea70-fcb5551525ca"
      },
      "outputs": [
        {
          "name": "stdout",
          "output_type": "stream",
          "text": [
            "Доля правильных ответов выборки для LogisticRegression: 0.76049766718507\n",
            "Оптимальное количество итераций: 100\n"
          ]
        }
      ],
      "source": [
        "best_log_model = None\n",
        "best_log_result = 0\n",
        "best_iteration = 0\n",
        "\n",
        "for iteration in range(100, 1001):\n",
        "    log_model = LogisticRegression(random_state=12345, solver='lbfgs', max_iter=iteration)\n",
        "    log_model.fit(features_train, target_train)\n",
        "    log_result = log_model.score(features_valid, target_valid)\n",
        "    if log_result > best_log_result:\n",
        "        best_log_model = log_model\n",
        "        best_log_result = log_result\n",
        "        best_iteration = iteration\n",
        "\n",
        "print(\"Доля правильных ответов выборки для LogisticRegression:\", best_log_result)\n",
        "print('Оптимальное количество итераций:', best_iteration)"
      ]
    },
    {
      "cell_type": "markdown",
      "metadata": {
        "id": "1nLoBVdu0ZUk"
      },
      "source": [
        "Здесь результат получился хуже, чем и у случайного леса, и у дерева принятия решений, эту модель на тестовой выборке проверять точно не будем."
      ]
    },
    {
      "cell_type": "markdown",
      "metadata": {
        "id": "F8uMLMWf0ZUk"
      },
      "source": [
        "### Вывод"
      ]
    },
    {
      "cell_type": "markdown",
      "metadata": {
        "id": "dDGU_pU90ZUl"
      },
      "source": [
        "1. Обучили дерево принятия решений и выбрали лучшие с максимальной глубиной 9.\n",
        "2. Обучили модель случайного леса, и выбрали лучшую с количеством деревьев 24 и глубиной 10. Эта модель оказалась самой точной (доля правильных ответов 80%), поэтому её мы будем проверять на тестовой выборке.\n",
        "3. Обучили модель логистической регресии и получили долю правильных ответов на 3% хуже чем у дерева принятия решений и на 4% хуже, чем у модели случайного леса\n",
        "\n",
        "\n"
      ]
    },
    {
      "cell_type": "markdown",
      "metadata": {
        "id": "HszFrKL00ZUl"
      },
      "source": [
        "<div class=\"alert alert-block alert-info\">\n",
        "\n",
        "<b>Совет:</b> Обрати также внимание на GridSearchCv и RandomizedSearchCV, эти инструменты могут быть удобными, когда большое количество параметров, уменьшает количество необходимых выборок, и делает код более лаконичным.\n",
        "</div>"
      ]
    },
    {
      "cell_type": "markdown",
      "metadata": {
        "id": "PiqMi0I00ZUl"
      },
      "source": [
        "## Проверьте модель на тестовой выборке"
      ]
    },
    {
      "cell_type": "markdown",
      "metadata": {
        "id": "xqG_OImj0ZUl"
      },
      "source": [
        "Объявим переменные с признаками для тестовой выборки (target_test и features_test) и проверим модель на выборке, указав гиперпараметры: n_estimators=24, max_depth=10"
      ]
    },
    {
      "cell_type": "code",
      "execution_count": null,
      "metadata": {
        "id": "vMfzhv7v0ZUl"
      },
      "outputs": [],
      "source": [
        "features_test = df_test.drop(['is_ultra'], axis=1)\n",
        "target_test = df_test['is_ultra']"
      ]
    },
    {
      "cell_type": "code",
      "execution_count": null,
      "metadata": {
        "id": "mxptAN1-0ZUm",
        "outputId": "e41e9990-8ea1-4318-eaa5-81fcc57b0c45"
      },
      "outputs": [
        {
          "name": "stdout",
          "output_type": "stream",
          "text": [
            "Доля правильных ответов тестовой выборки: 0.7864077669902912\n"
          ]
        }
      ],
      "source": [
        "# Создаём модель случайного леса\n",
        "model = RandomForestClassifier(random_state=12345, n_estimators=24, max_depth=10)\n",
        "\n",
        "# Обучаем\n",
        "model.fit(features_train, target_train)\n",
        "\n",
        "# Предсказываем целевой признак\n",
        "predictions = model.predict(features_test)\n",
        "\n",
        "# Считаем долю правильных ответов\n",
        "accuracy = accuracy_score(target_test, predictions)\n",
        "\n",
        "print('Доля правильных ответов тестовой выборки:', accuracy)"
      ]
    },
    {
      "cell_type": "markdown",
      "metadata": {
        "id": "E234b9Ko0ZUm"
      },
      "source": [
        "### Вывод"
      ]
    },
    {
      "cell_type": "markdown",
      "metadata": {
        "id": "Uvo5FXDY0ZUm"
      },
      "source": [
        "На тестовой выборке модель случайного леса показала результат на 1% процент хуже, чем на валидационной. Тем не менее порог доли правильных ответов равный 0.75 она прошла."
      ]
    },
    {
      "cell_type": "markdown",
      "metadata": {
        "id": "goI5UByZ0ZUm"
      },
      "source": [
        "\n",
        "<div class=\"alert alert-block alert-info\">\n",
        "\n",
        "<b>Совет:</b>  Перед тестированием можно объединять валидационную и тренировочную выборку в одну обучающую, это может дать нам немного качества\n",
        "</div>\n"
      ]
    },
    {
      "cell_type": "markdown",
      "metadata": {
        "id": "uoqNuIYW0ZUm"
      },
      "source": [
        "## (бонус) Проверьте модели на адекватность"
      ]
    },
    {
      "cell_type": "markdown",
      "metadata": {
        "id": "56uqwUrr0ZUm"
      },
      "source": [
        "Для проверки на адекватность мы сравним нашу модель с моделью, которая игнорирует входные данные (DummyClassifier)."
      ]
    },
    {
      "cell_type": "code",
      "execution_count": null,
      "metadata": {
        "id": "x1X0ulQs0ZUm",
        "outputId": "30661f3e-ee9e-4dca-bee7-198d9f3880c4"
      },
      "outputs": [
        {
          "name": "stdout",
          "output_type": "stream",
          "text": [
            "Доля правильных ответов при проверке на адекватность: 0.6757281553398058\n"
          ]
        }
      ],
      "source": [
        "dummy_clf = DummyClassifier(strategy=\"most_frequent\", random_state=12345)\n",
        "\n",
        "dummy_clf.fit(features_train, target_train)\n",
        "\n",
        "dummy_predictions = dummy_clf.predict(features_test)\n",
        "\n",
        "accuracy = accuracy_score(target_test, dummy_predictions)\n",
        "\n",
        "print('Доля правильных ответов при проверке на адекватность:', accuracy)"
      ]
    },
    {
      "cell_type": "markdown",
      "metadata": {
        "id": "Avav6jMg0ZUm"
      },
      "source": [
        "### Вывод"
      ]
    },
    {
      "cell_type": "markdown",
      "metadata": {
        "id": "7FZ8PXvE0ZUm"
      },
      "source": [
        "Наша модель ошибается реже — в 22% случаев, в то время как модель, которая игнорирует входные данные — в 33% случаев. Думаю, можно сказать, что наша модель проверку на адекватность прошла."
      ]
    }
  ],
  "metadata": {
    "ExecuteTimeLog": [
      {
        "duration": 14,
        "start_time": "2022-05-16T18:34:29.831Z"
      },
      {
        "duration": 19,
        "start_time": "2022-05-16T18:35:01.378Z"
      },
      {
        "duration": 12,
        "start_time": "2022-05-16T18:35:04.181Z"
      },
      {
        "duration": 23,
        "start_time": "2022-05-16T18:35:05.812Z"
      },
      {
        "duration": 11,
        "start_time": "2022-05-16T21:22:48.481Z"
      },
      {
        "duration": 8,
        "start_time": "2022-05-16T21:22:57.719Z"
      },
      {
        "duration": 13,
        "start_time": "2022-05-16T21:23:02.786Z"
      },
      {
        "duration": 12,
        "start_time": "2022-05-16T21:23:19.000Z"
      },
      {
        "duration": 1194,
        "start_time": "2022-05-18T20:25:43.912Z"
      },
      {
        "duration": 816,
        "start_time": "2022-05-18T20:40:18.791Z"
      },
      {
        "duration": 19,
        "start_time": "2022-05-18T20:40:19.609Z"
      },
      {
        "duration": 10,
        "start_time": "2022-05-18T20:40:19.630Z"
      },
      {
        "duration": 39,
        "start_time": "2022-05-18T20:40:19.646Z"
      },
      {
        "duration": 23,
        "start_time": "2022-05-18T20:40:19.686Z"
      },
      {
        "duration": 4,
        "start_time": "2022-05-18T20:40:19.711Z"
      },
      {
        "duration": 15,
        "start_time": "2022-05-18T20:41:15.062Z"
      },
      {
        "duration": 113,
        "start_time": "2022-05-18T20:41:45.395Z"
      },
      {
        "duration": 3,
        "start_time": "2022-05-18T20:41:49.500Z"
      },
      {
        "duration": 14,
        "start_time": "2022-05-18T20:42:02.176Z"
      },
      {
        "duration": 7,
        "start_time": "2022-05-18T20:44:31.376Z"
      },
      {
        "duration": 4,
        "start_time": "2022-05-18T20:44:31.768Z"
      },
      {
        "duration": 11,
        "start_time": "2022-05-18T20:44:45.039Z"
      },
      {
        "duration": 4,
        "start_time": "2022-05-18T20:44:45.378Z"
      },
      {
        "duration": 6,
        "start_time": "2022-05-18T23:34:36.890Z"
      },
      {
        "duration": 12,
        "start_time": "2022-05-18T23:40:59.637Z"
      },
      {
        "duration": 112,
        "start_time": "2022-05-18T23:41:07.641Z"
      },
      {
        "duration": 83,
        "start_time": "2022-05-18T23:41:11.965Z"
      },
      {
        "duration": 119,
        "start_time": "2022-05-18T23:41:29.103Z"
      },
      {
        "duration": 152,
        "start_time": "2022-05-18T23:43:27.450Z"
      },
      {
        "duration": 178,
        "start_time": "2022-05-18T23:43:43.243Z"
      },
      {
        "duration": 39,
        "start_time": "2022-05-18T23:44:20.938Z"
      },
      {
        "duration": 995,
        "start_time": "2022-05-18T23:59:41.143Z"
      },
      {
        "duration": 995,
        "start_time": "2022-05-18T23:59:50.160Z"
      },
      {
        "duration": 176,
        "start_time": "2022-05-19T00:02:13.860Z"
      },
      {
        "duration": 43,
        "start_time": "2022-05-19T00:04:26.947Z"
      },
      {
        "duration": 34,
        "start_time": "2022-05-19T00:05:34.308Z"
      },
      {
        "duration": 12,
        "start_time": "2022-05-19T00:08:41.444Z"
      },
      {
        "duration": 10,
        "start_time": "2022-05-19T00:12:16.464Z"
      },
      {
        "duration": 1035,
        "start_time": "2022-05-19T00:12:25.236Z"
      },
      {
        "duration": 20,
        "start_time": "2022-05-19T00:12:26.273Z"
      },
      {
        "duration": 11,
        "start_time": "2022-05-19T00:12:26.294Z"
      },
      {
        "duration": 12,
        "start_time": "2022-05-19T00:12:26.307Z"
      },
      {
        "duration": 27,
        "start_time": "2022-05-19T00:12:26.320Z"
      },
      {
        "duration": 6,
        "start_time": "2022-05-19T00:12:26.349Z"
      },
      {
        "duration": 7,
        "start_time": "2022-05-19T00:12:26.357Z"
      },
      {
        "duration": 6,
        "start_time": "2022-05-19T00:12:26.366Z"
      },
      {
        "duration": 6,
        "start_time": "2022-05-19T00:12:26.374Z"
      },
      {
        "duration": 4,
        "start_time": "2022-05-19T00:12:26.383Z"
      },
      {
        "duration": 6,
        "start_time": "2022-05-19T00:12:26.388Z"
      },
      {
        "duration": 9,
        "start_time": "2022-05-19T00:12:26.395Z"
      },
      {
        "duration": 237,
        "start_time": "2022-05-19T00:12:26.405Z"
      },
      {
        "duration": 1126,
        "start_time": "2022-05-19T00:12:26.644Z"
      },
      {
        "duration": 117,
        "start_time": "2022-05-19T00:12:27.772Z"
      },
      {
        "duration": 0,
        "start_time": "2022-05-19T00:12:27.890Z"
      },
      {
        "duration": 0,
        "start_time": "2022-05-19T00:12:27.892Z"
      },
      {
        "duration": 0,
        "start_time": "2022-05-19T00:12:27.892Z"
      },
      {
        "duration": 569,
        "start_time": "2022-05-19T00:12:47.937Z"
      },
      {
        "duration": 630,
        "start_time": "2022-05-19T00:13:03.109Z"
      },
      {
        "duration": 10,
        "start_time": "2022-05-19T00:13:57.602Z"
      },
      {
        "duration": 9,
        "start_time": "2022-05-19T00:14:10.614Z"
      },
      {
        "duration": 633,
        "start_time": "2022-05-19T00:19:00.897Z"
      },
      {
        "duration": 660,
        "start_time": "2022-05-19T00:19:14.871Z"
      },
      {
        "duration": 10,
        "start_time": "2022-05-19T00:28:39.385Z"
      },
      {
        "duration": 10,
        "start_time": "2022-05-19T00:28:49.290Z"
      },
      {
        "duration": 797,
        "start_time": "2022-05-19T00:31:12.723Z"
      },
      {
        "duration": 934,
        "start_time": "2022-05-19T00:34:56.638Z"
      },
      {
        "duration": 914,
        "start_time": "2022-05-19T00:45:24.746Z"
      },
      {
        "duration": 928,
        "start_time": "2022-05-19T00:46:04.050Z"
      },
      {
        "duration": 1039,
        "start_time": "2022-05-19T00:46:09.180Z"
      },
      {
        "duration": 21030,
        "start_time": "2022-05-19T00:46:18.409Z"
      },
      {
        "duration": 5535,
        "start_time": "2022-05-19T00:46:52.660Z"
      },
      {
        "duration": 2246,
        "start_time": "2022-05-19T00:47:14.144Z"
      },
      {
        "duration": 938,
        "start_time": "2022-05-19T00:47:24.153Z"
      },
      {
        "duration": 802,
        "start_time": "2022-05-19T00:48:37.126Z"
      },
      {
        "duration": 14,
        "start_time": "2022-05-19T00:49:13.574Z"
      },
      {
        "duration": 948,
        "start_time": "2022-05-19T00:53:30.555Z"
      },
      {
        "duration": 6271,
        "start_time": "2022-05-19T00:56:37.355Z"
      },
      {
        "duration": 9215,
        "start_time": "2022-05-19T00:57:00.882Z"
      },
      {
        "duration": 416,
        "start_time": "2022-05-19T00:59:05.625Z"
      },
      {
        "duration": 902,
        "start_time": "2022-05-19T00:59:11.296Z"
      },
      {
        "duration": 948,
        "start_time": "2022-05-19T00:59:19.987Z"
      },
      {
        "duration": 662,
        "start_time": "2022-05-19T00:59:30.324Z"
      },
      {
        "duration": 639,
        "start_time": "2022-05-19T01:00:02.785Z"
      },
      {
        "duration": 608,
        "start_time": "2022-05-19T01:00:15.658Z"
      },
      {
        "duration": 638,
        "start_time": "2022-05-19T01:00:22.139Z"
      },
      {
        "duration": 3561,
        "start_time": "2022-05-19T01:00:47.861Z"
      },
      {
        "duration": 5096,
        "start_time": "2022-05-19T01:01:00.077Z"
      },
      {
        "duration": 5520,
        "start_time": "2022-05-19T01:01:10.670Z"
      },
      {
        "duration": 666,
        "start_time": "2022-05-19T01:01:26.442Z"
      },
      {
        "duration": 9,
        "start_time": "2022-05-19T01:04:04.812Z"
      },
      {
        "duration": 207414,
        "start_time": "2022-05-19T01:07:21.652Z"
      },
      {
        "duration": 206575,
        "start_time": "2022-05-19T01:11:00.670Z"
      },
      {
        "duration": 838,
        "start_time": "2022-05-19T01:16:38.041Z"
      },
      {
        "duration": 181,
        "start_time": "2022-05-19T01:16:49.600Z"
      },
      {
        "duration": 100,
        "start_time": "2022-05-19T01:17:34.742Z"
      },
      {
        "duration": 175,
        "start_time": "2022-05-19T01:17:47.848Z"
      },
      {
        "duration": 84,
        "start_time": "2022-05-19T01:17:55.508Z"
      },
      {
        "duration": 149,
        "start_time": "2022-05-19T01:19:47.061Z"
      },
      {
        "duration": 233,
        "start_time": "2022-05-19T01:19:57.833Z"
      },
      {
        "duration": 277,
        "start_time": "2022-05-19T01:20:14.181Z"
      },
      {
        "duration": 162,
        "start_time": "2022-05-19T01:20:25.831Z"
      },
      {
        "duration": 864,
        "start_time": "2022-05-19T01:20:44.963Z"
      },
      {
        "duration": 73,
        "start_time": "2022-05-19T01:24:06.928Z"
      },
      {
        "duration": 1007,
        "start_time": "2022-05-19T01:25:42.596Z"
      },
      {
        "duration": 19,
        "start_time": "2022-05-19T01:25:43.605Z"
      },
      {
        "duration": 12,
        "start_time": "2022-05-19T01:25:43.625Z"
      },
      {
        "duration": 14,
        "start_time": "2022-05-19T01:25:43.639Z"
      },
      {
        "duration": 23,
        "start_time": "2022-05-19T01:25:43.655Z"
      },
      {
        "duration": 4,
        "start_time": "2022-05-19T01:25:43.680Z"
      },
      {
        "duration": 8,
        "start_time": "2022-05-19T01:25:43.686Z"
      },
      {
        "duration": 8,
        "start_time": "2022-05-19T01:25:43.696Z"
      },
      {
        "duration": 14,
        "start_time": "2022-05-19T01:25:43.706Z"
      },
      {
        "duration": 4,
        "start_time": "2022-05-19T01:25:43.742Z"
      },
      {
        "duration": 5,
        "start_time": "2022-05-19T01:25:43.749Z"
      },
      {
        "duration": 10,
        "start_time": "2022-05-19T01:25:43.756Z"
      },
      {
        "duration": 187,
        "start_time": "2022-05-19T01:25:43.767Z"
      },
      {
        "duration": 861,
        "start_time": "2022-05-19T01:25:43.955Z"
      },
      {
        "duration": 132,
        "start_time": "2022-05-19T01:25:44.818Z"
      },
      {
        "duration": 0,
        "start_time": "2022-05-19T01:25:44.952Z"
      },
      {
        "duration": 189458,
        "start_time": "2022-05-19T01:26:01.656Z"
      },
      {
        "duration": 27421,
        "start_time": "2022-05-19T01:35:22.981Z"
      },
      {
        "duration": 949,
        "start_time": "2022-05-19T01:43:02.768Z"
      },
      {
        "duration": 19,
        "start_time": "2022-05-19T01:43:03.719Z"
      },
      {
        "duration": 11,
        "start_time": "2022-05-19T01:43:03.739Z"
      },
      {
        "duration": 12,
        "start_time": "2022-05-19T01:43:03.752Z"
      },
      {
        "duration": 22,
        "start_time": "2022-05-19T01:43:03.766Z"
      },
      {
        "duration": 4,
        "start_time": "2022-05-19T01:43:03.790Z"
      },
      {
        "duration": 9,
        "start_time": "2022-05-19T01:43:03.795Z"
      },
      {
        "duration": 5,
        "start_time": "2022-05-19T01:43:03.805Z"
      },
      {
        "duration": 5,
        "start_time": "2022-05-19T01:43:03.841Z"
      },
      {
        "duration": 5,
        "start_time": "2022-05-19T01:43:03.848Z"
      },
      {
        "duration": 5,
        "start_time": "2022-05-19T01:43:03.855Z"
      },
      {
        "duration": 6,
        "start_time": "2022-05-19T01:43:03.862Z"
      },
      {
        "duration": 192,
        "start_time": "2022-05-19T01:43:03.869Z"
      },
      {
        "duration": 859,
        "start_time": "2022-05-19T01:43:04.063Z"
      },
      {
        "duration": 189234,
        "start_time": "2022-05-19T01:43:04.924Z"
      },
      {
        "duration": 26879,
        "start_time": "2022-05-19T01:46:14.160Z"
      },
      {
        "duration": 116,
        "start_time": "2022-05-19T01:46:41.041Z"
      },
      {
        "duration": 4,
        "start_time": "2022-05-19T01:53:21.350Z"
      },
      {
        "duration": 82,
        "start_time": "2022-05-19T01:56:22.269Z"
      },
      {
        "duration": 53,
        "start_time": "2022-05-19T01:59:27.418Z"
      },
      {
        "duration": 2,
        "start_time": "2022-05-19T02:01:09.009Z"
      },
      {
        "duration": 29,
        "start_time": "2022-05-19T02:04:06.206Z"
      },
      {
        "duration": 10,
        "start_time": "2022-05-19T02:09:57.130Z"
      },
      {
        "duration": 9,
        "start_time": "2022-05-19T02:10:26.214Z"
      },
      {
        "duration": 13,
        "start_time": "2022-05-19T02:13:23.813Z"
      },
      {
        "duration": 9,
        "start_time": "2022-05-19T02:16:00.262Z"
      },
      {
        "duration": 28,
        "start_time": "2022-05-19T02:16:41.011Z"
      },
      {
        "duration": 11,
        "start_time": "2022-05-19T02:16:48.839Z"
      },
      {
        "duration": 13,
        "start_time": "2022-05-19T02:17:07.038Z"
      },
      {
        "duration": 13,
        "start_time": "2022-05-19T02:17:34.883Z"
      },
      {
        "duration": 958,
        "start_time": "2022-05-19T02:19:25.045Z"
      },
      {
        "duration": 18,
        "start_time": "2022-05-19T02:19:26.005Z"
      },
      {
        "duration": 10,
        "start_time": "2022-05-19T02:19:26.025Z"
      },
      {
        "duration": 10,
        "start_time": "2022-05-19T02:19:26.037Z"
      },
      {
        "duration": 22,
        "start_time": "2022-05-19T02:19:26.049Z"
      },
      {
        "duration": 4,
        "start_time": "2022-05-19T02:19:26.072Z"
      },
      {
        "duration": 5,
        "start_time": "2022-05-19T02:19:26.077Z"
      },
      {
        "duration": 5,
        "start_time": "2022-05-19T02:19:26.084Z"
      },
      {
        "duration": 11,
        "start_time": "2022-05-19T02:19:26.090Z"
      },
      {
        "duration": 4,
        "start_time": "2022-05-19T02:19:26.103Z"
      },
      {
        "duration": 6,
        "start_time": "2022-05-19T02:19:26.108Z"
      },
      {
        "duration": 5,
        "start_time": "2022-05-19T02:19:26.140Z"
      },
      {
        "duration": 172,
        "start_time": "2022-05-19T02:19:26.147Z"
      },
      {
        "duration": 857,
        "start_time": "2022-05-19T02:19:26.322Z"
      },
      {
        "duration": 186653,
        "start_time": "2022-05-19T02:19:27.181Z"
      },
      {
        "duration": 26437,
        "start_time": "2022-05-19T02:22:33.841Z"
      },
      {
        "duration": 4,
        "start_time": "2022-05-19T02:23:00.279Z"
      },
      {
        "duration": 100,
        "start_time": "2022-05-19T02:23:00.285Z"
      },
      {
        "duration": 101,
        "start_time": "2022-05-19T02:23:00.387Z"
      },
      {
        "duration": 27,
        "start_time": "2022-05-19T02:28:06.997Z"
      },
      {
        "duration": 6,
        "start_time": "2022-05-19T02:31:03.122Z"
      }
    ],
    "kernelspec": {
      "display_name": "Python 3 (ipykernel)",
      "language": "python",
      "name": "python3"
    },
    "language_info": {
      "codemirror_mode": {
        "name": "ipython",
        "version": 3
      },
      "file_extension": ".py",
      "mimetype": "text/x-python",
      "name": "python",
      "nbconvert_exporter": "python",
      "pygments_lexer": "ipython3",
      "version": "3.9.5"
    },
    "toc": {
      "base_numbering": 1,
      "nav_menu": {},
      "number_sections": true,
      "sideBar": true,
      "skip_h1_title": true,
      "title_cell": "Table of Contents",
      "title_sidebar": "Contents",
      "toc_cell": false,
      "toc_position": {},
      "toc_section_display": true,
      "toc_window_display": true
    },
    "colab": {
      "provenance": []
    }
  },
  "nbformat": 4,
  "nbformat_minor": 0
}