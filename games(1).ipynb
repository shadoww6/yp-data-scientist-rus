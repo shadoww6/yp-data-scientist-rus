{
  "cells": [
    {
      "cell_type": "markdown",
      "source": [
        "❗ Оставлены рекомендации ревьюера"
      ],
      "metadata": {
        "id": "0_VZWci72c13"
      }
    },
    {
      "cell_type": "markdown",
      "metadata": {
        "id": "InHjHsYk1icz"
      },
      "source": [
        "# Сборный проект 1. Изучение закономерностей, определяющих успешность игр"
      ]
    },
    {
      "cell_type": "markdown",
      "metadata": {
        "id": "l43XeCQT1ic0"
      },
      "source": [
        "Исследуем данные до 2016 года о продажах игр, оценках пользователей и экспертов, жанров, пдатформ из открытых источников для интернет-магазина «Стримчик», который продаёт по всему миру компьютерные игры.\n",
        "Представим, что сейчас декабрь 2016 г., и мы планируем кампанию на 2017-й. Нам нужно выявить определяющие успешность игры закономерности. Это позволит сделать ставку на потенциально популярный продукт и спланировать рекламные кампании.  \n",
        "\n",
        "**Описание данных**:\n",
        "1. *Name* — название игры\n",
        "2. *Platform* — платформа\n",
        "3. Year_of_Release — год выпуска\n",
        "4. Genre — жанр игры\n",
        "5. NA_sales — продажи в Северной Америке (миллионы проданных копий)\n",
        "6. EU_sales — продажи в Европе (миллионы проданных копий)\n",
        "7. JP_sales — продажи в Японии (миллионы проданных копий)\n",
        "8. Other_sales — продажи в других странах (миллионы проданных копий)\n",
        "9. Critic_Score — оценка критиков (максимум 100)\n",
        "10. User_Score — оценка пользователей (максимум 10)\n",
        "11. Rating — рейтинг от организации ESRB (англ. Entertainment Software Rating Board). Эта ассоциация определяет рейтинг компьютерных игр и присваивает им подходящую возрастную категорию, например, «Для взрослых», «Для детей младшего возраста» или «Для подростков».  \n",
        "\n",
        "**Задачи**:\n",
        "- Подготовить данные.\n",
        "  * Заменить названия столбцов\n",
        "  * Привести данные к нужным типам\n",
        "  * Посчитать суммарные продажи во всех регионах и записать их в отдельный столбец\n",
        "- Провести исследовательский анализ данных.\n",
        "  * Посмотреть, сколько игр выпускалось в разные годы. Важны ли данные за все периоды?\n",
        "  * Посмотреть, как менялись продажи по платформам. Выбрать платформы с наибольшими суммарными продажами и постройте распределение по годам. За какой характерный срок появляются новые и исчезают старые платформы?\n",
        "  * Взять данные за соответствующий актуальный период. Актуальный период определить самостоятельно в результате исследования предыдущих вопросов. Основной фактор — эти данные помогут построить прогноз на 2017 год. Не учитывать в работе данные за предыдущие годы.\n",
        "  * Какие платформы лидируют по продажам, растут или падают? Выбрать несколько потенциально прибыльных платформ.\n",
        "  * Построить график «ящик с усами» по глобальным продажам игр в разбивке по платформам. Описать результат.\n",
        "  * Посмотреть, как влияют на продажи внутри одной популярной платформы отзывы пользователей и критиков. Построить диаграмму рассеяния и посчитать корреляцию между отзывами и продажами. Сформулировать выводы.\n",
        "  * Соотнести выводы с продажами игр на других платформах.\n",
        "  * Посмотреть на общее распределение игр по жанрам. Что можно сказать о самых прибыльных жанрах? Выделяются ли жанры с высокими и низкими продажами?\n",
        "- Определить для пользователей каждого региона(NA, EU, JP):\n",
        "   * Самые популярные платформы (топ-5). Опишите различия в долях продаж.\n",
        "   * Самые популярные жанры (топ-5). Поясните разницу.\n",
        "   * Влияет ли рейтинг ESRB на продажи в отдельном регионе?\n",
        "- Проверить гипотезы:\n",
        "   * Средние пользовательские рейтинги платформ Xbox One и PC одинаковые;\n",
        "   * Средние пользовательские рейтинги жанров Action (англ. «действие», экшен-игры) и Sports (англ. «спортивные соревнования») разные.\n"
      ]
    },
    {
      "cell_type": "markdown",
      "metadata": {
        "toc": true,
        "id": "qmfYOxgP1icy"
      },
      "source": [
        "<h1>Оглавление<span class=\"tocSkip\"></span></h1>\n",
        "<div class=\"toc\"><ul class=\"toc-item\"><li><span><a href=\"#Описание-данных\" data-toc-modified-id=\"Описание-данных-1\"><span class=\"toc-item-num\">1&nbsp;&nbsp;</span>Описание данных</a></span></li><li><span><a href=\"#Предобработка-данных\" data-toc-modified-id=\"Предобработка-данных-2\"><span class=\"toc-item-num\">2&nbsp;&nbsp;</span>Предобработка данных</a></span><ul class=\"toc-item\"><li><span><a href=\"#Приведение-названий-столбцов-к-нижнему-регистру\" data-toc-modified-id=\"Приведение-названий-столбцов-к-нижнему-регистру-2.1\"><span class=\"toc-item-num\">2.1&nbsp;&nbsp;</span>Приведение названий столбцов к нижнему регистру</a></span></li><li><span><a href=\"#Обработка-пропусков\" data-toc-modified-id=\"Обработка-пропусков-2.2\"><span class=\"toc-item-num\">2.2&nbsp;&nbsp;</span>Обработка пропусков</a></span></li><li><span><a href=\"#Преобразование-данных-в-нужные-типы\" data-toc-modified-id=\"Преобразование-данных-в-нужные-типы-2.3\"><span class=\"toc-item-num\">2.3&nbsp;&nbsp;</span>Преобразование данных в нужные типы</a></span></li><li><span><a href=\"#Добавление-столбца-с-количеством-продаж-во-всех-регионах\" data-toc-modified-id=\"Добавление-столбца-с-количеством-продаж-во-всех-регионах-2.4\"><span class=\"toc-item-num\">2.4&nbsp;&nbsp;</span>Добавление столбца с количеством продаж во всех регионах</a></span></li><li><span><a href=\"#Вывод\" data-toc-modified-id=\"Вывод-2.5\"><span class=\"toc-item-num\">2.5&nbsp;&nbsp;</span>Вывод</a></span></li></ul></li><li><span><a href=\"#Анализ-данных\" data-toc-modified-id=\"Анализ-данных-3\"><span class=\"toc-item-num\">3&nbsp;&nbsp;</span>Анализ данных</a></span><ul class=\"toc-item\"><li><span><a href=\"#Сколько-игр-выпускалось-в-разные-годы\" data-toc-modified-id=\"Сколько-игр-выпускалось-в-разные-годы-3.1\"><span class=\"toc-item-num\">3.1&nbsp;&nbsp;</span>Сколько игр выпускалось в разные годы</a></span></li><li><span><a href=\"#Продажи-по-платформам-в-разные-годы\" data-toc-modified-id=\"Продажи-по-платформам-в-разные-годы-3.2\"><span class=\"toc-item-num\">3.2&nbsp;&nbsp;</span>Продажи по платформам в разные годы</a></span></li><li><span><a href=\"#Анализ-актуального-периода\" data-toc-modified-id=\"Анализ-актуального-периода-3.3\"><span class=\"toc-item-num\">3.3&nbsp;&nbsp;</span>Анализ актуального периода</a></span></li><li><span><a href=\"#Глобальные-продажи-всех-игр-по-платформам-за-актуальный-период\" data-toc-modified-id=\"Глобальные-продажи-всех-игр-по-платформам-за-актуальный-период-3.4\"><span class=\"toc-item-num\">3.4&nbsp;&nbsp;</span>Глобальные продажи всех игр по платформам за актуальный период</a></span></li><li><span><a href=\"#Влияние-отзывов-игроков-и-критиков-на-продажи-PS4\" data-toc-modified-id=\"Влияние-отзывов-игроков-и-критиков-на-продажи-PS4-3.5\"><span class=\"toc-item-num\">3.5&nbsp;&nbsp;</span>Влияние отзывов игроков и критиков на продажи PS4</a></span></li><li><span><a href=\"#Сравнение-выводов-для-PS4-с-продажами-игр-для-других-платформ:\" data-toc-modified-id=\"Сравнение-выводов-для-PS4-с-продажами-игр-для-других-платформ:-3.6\"><span class=\"toc-item-num\">3.6&nbsp;&nbsp;</span>Сравнение выводов для PS4 с продажами игр для других платформ:</a></span></li><li><span><a href=\"#Распределение-игр-по-жанрам\" data-toc-modified-id=\"Распределение-игр-по-жанрам-3.7\"><span class=\"toc-item-num\">3.7&nbsp;&nbsp;</span>Распределение игр по жанрам</a></span></li><li><span><a href=\"#Составление-портрета-для-пользователей-каждого-региона-(NA,-EU,-JP)\" data-toc-modified-id=\"Составление-портрета-для-пользователей-каждого-региона-(NA,-EU,-JP)-3.8\"><span class=\"toc-item-num\">3.8&nbsp;&nbsp;</span>Составление портрета для пользователей каждого региона (NA, EU, JP)</a></span></li><li><span><a href=\"#Самые-популярные-платформы-(топ-5)\" data-toc-modified-id=\"Самые-популярные-платформы-(топ-5)-3.9\"><span class=\"toc-item-num\">3.9&nbsp;&nbsp;</span>Самые популярные платформы (топ-5)</a></span></li><li><span><a href=\"#Самые-популярные-жанры-(топ-5)\" data-toc-modified-id=\"Самые-популярные-жанры-(топ-5)-3.10\"><span class=\"toc-item-num\">3.10&nbsp;&nbsp;</span>Самые популярные жанры (топ-5)</a></span></li><li><span><a href=\"#Влияет-ли-рейтинг-ESRB-на-продажи-в-отдельном-регионе\" data-toc-modified-id=\"Влияет-ли-рейтинг-ESRB-на-продажи-в-отдельном-регионе-3.11\"><span class=\"toc-item-num\">3.11&nbsp;&nbsp;</span>Влияет ли рейтинг ESRB на продажи в отдельном регионе</a></span></li><li><span><a href=\"#Вывод-по-портретам-пользователей-регионов\" data-toc-modified-id=\"Вывод-по-портретам-пользователей-регионов-3.12\"><span class=\"toc-item-num\">3.12&nbsp;&nbsp;</span>Вывод по портретам пользователей регионов</a></span></li></ul></li><li><span><a href=\"#Проверка-гипотез\" data-toc-modified-id=\"Проверка-гипотез-4\"><span class=\"toc-item-num\">4&nbsp;&nbsp;</span>Проверка гипотез</a></span><ul class=\"toc-item\"><li><span><a href=\"#Гипотеза-1\" data-toc-modified-id=\"Гипотеза-1-4.1\"><span class=\"toc-item-num\">4.1&nbsp;&nbsp;</span>Гипотеза 1</a></span></li><li><span><a href=\"#Гипотеза-2\" data-toc-modified-id=\"Гипотеза-2-4.2\"><span class=\"toc-item-num\">4.2&nbsp;&nbsp;</span>Гипотеза 2</a></span></li></ul></li><li><span><a href=\"#Общий-вывод\" data-toc-modified-id=\"Общий-вывод-5\"><span class=\"toc-item-num\">5&nbsp;&nbsp;</span>Общий вывод</a></span></li></ul></div>"
      ]
    },
    {
      "cell_type": "markdown",
      "metadata": {
        "id": "1rICAlv71ic1"
      },
      "source": [
        "## Описание данных"
      ]
    },
    {
      "cell_type": "code",
      "execution_count": null,
      "metadata": {
        "id": "rAoQmXcL1ic1"
      },
      "outputs": [],
      "source": [
        "import pandas as pd\n",
        "import numpy as np\n",
        "import matplotlib.pyplot as plt\n",
        "import seaborn as sns\n",
        "\n",
        "from datetime import datetime\n",
        "from scipy import stats as st"
      ]
    },
    {
      "cell_type": "code",
      "execution_count": null,
      "metadata": {
        "id": "1UawLS0f1ic2",
        "outputId": "f53f785e-9a56-4d82-93a3-7bf56eb7117b"
      },
      "outputs": [
        {
          "data": {
            "text/html": [
              "<div>\n",
              "<style scoped>\n",
              "    .dataframe tbody tr th:only-of-type {\n",
              "        vertical-align: middle;\n",
              "    }\n",
              "\n",
              "    .dataframe tbody tr th {\n",
              "        vertical-align: top;\n",
              "    }\n",
              "\n",
              "    .dataframe thead th {\n",
              "        text-align: right;\n",
              "    }\n",
              "</style>\n",
              "<table border=\"1\" class=\"dataframe\">\n",
              "  <thead>\n",
              "    <tr style=\"text-align: right;\">\n",
              "      <th></th>\n",
              "      <th>Name</th>\n",
              "      <th>Platform</th>\n",
              "      <th>Year_of_Release</th>\n",
              "      <th>Genre</th>\n",
              "      <th>NA_sales</th>\n",
              "      <th>EU_sales</th>\n",
              "      <th>JP_sales</th>\n",
              "      <th>Other_sales</th>\n",
              "      <th>Critic_Score</th>\n",
              "      <th>User_Score</th>\n",
              "      <th>Rating</th>\n",
              "    </tr>\n",
              "  </thead>\n",
              "  <tbody>\n",
              "    <tr>\n",
              "      <th>0</th>\n",
              "      <td>Wii Sports</td>\n",
              "      <td>Wii</td>\n",
              "      <td>2006.0</td>\n",
              "      <td>Sports</td>\n",
              "      <td>41.36</td>\n",
              "      <td>28.96</td>\n",
              "      <td>3.77</td>\n",
              "      <td>8.45</td>\n",
              "      <td>76.0</td>\n",
              "      <td>8</td>\n",
              "      <td>E</td>\n",
              "    </tr>\n",
              "    <tr>\n",
              "      <th>1</th>\n",
              "      <td>Super Mario Bros.</td>\n",
              "      <td>NES</td>\n",
              "      <td>1985.0</td>\n",
              "      <td>Platform</td>\n",
              "      <td>29.08</td>\n",
              "      <td>3.58</td>\n",
              "      <td>6.81</td>\n",
              "      <td>0.77</td>\n",
              "      <td>NaN</td>\n",
              "      <td>NaN</td>\n",
              "      <td>NaN</td>\n",
              "    </tr>\n",
              "    <tr>\n",
              "      <th>2</th>\n",
              "      <td>Mario Kart Wii</td>\n",
              "      <td>Wii</td>\n",
              "      <td>2008.0</td>\n",
              "      <td>Racing</td>\n",
              "      <td>15.68</td>\n",
              "      <td>12.76</td>\n",
              "      <td>3.79</td>\n",
              "      <td>3.29</td>\n",
              "      <td>82.0</td>\n",
              "      <td>8.3</td>\n",
              "      <td>E</td>\n",
              "    </tr>\n",
              "    <tr>\n",
              "      <th>3</th>\n",
              "      <td>Wii Sports Resort</td>\n",
              "      <td>Wii</td>\n",
              "      <td>2009.0</td>\n",
              "      <td>Sports</td>\n",
              "      <td>15.61</td>\n",
              "      <td>10.93</td>\n",
              "      <td>3.28</td>\n",
              "      <td>2.95</td>\n",
              "      <td>80.0</td>\n",
              "      <td>8</td>\n",
              "      <td>E</td>\n",
              "    </tr>\n",
              "    <tr>\n",
              "      <th>4</th>\n",
              "      <td>Pokemon Red/Pokemon Blue</td>\n",
              "      <td>GB</td>\n",
              "      <td>1996.0</td>\n",
              "      <td>Role-Playing</td>\n",
              "      <td>11.27</td>\n",
              "      <td>8.89</td>\n",
              "      <td>10.22</td>\n",
              "      <td>1.00</td>\n",
              "      <td>NaN</td>\n",
              "      <td>NaN</td>\n",
              "      <td>NaN</td>\n",
              "    </tr>\n",
              "    <tr>\n",
              "      <th>5</th>\n",
              "      <td>Tetris</td>\n",
              "      <td>GB</td>\n",
              "      <td>1989.0</td>\n",
              "      <td>Puzzle</td>\n",
              "      <td>23.20</td>\n",
              "      <td>2.26</td>\n",
              "      <td>4.22</td>\n",
              "      <td>0.58</td>\n",
              "      <td>NaN</td>\n",
              "      <td>NaN</td>\n",
              "      <td>NaN</td>\n",
              "    </tr>\n",
              "    <tr>\n",
              "      <th>6</th>\n",
              "      <td>New Super Mario Bros.</td>\n",
              "      <td>DS</td>\n",
              "      <td>2006.0</td>\n",
              "      <td>Platform</td>\n",
              "      <td>11.28</td>\n",
              "      <td>9.14</td>\n",
              "      <td>6.50</td>\n",
              "      <td>2.88</td>\n",
              "      <td>89.0</td>\n",
              "      <td>8.5</td>\n",
              "      <td>E</td>\n",
              "    </tr>\n",
              "    <tr>\n",
              "      <th>7</th>\n",
              "      <td>Wii Play</td>\n",
              "      <td>Wii</td>\n",
              "      <td>2006.0</td>\n",
              "      <td>Misc</td>\n",
              "      <td>13.96</td>\n",
              "      <td>9.18</td>\n",
              "      <td>2.93</td>\n",
              "      <td>2.84</td>\n",
              "      <td>58.0</td>\n",
              "      <td>6.6</td>\n",
              "      <td>E</td>\n",
              "    </tr>\n",
              "    <tr>\n",
              "      <th>8</th>\n",
              "      <td>New Super Mario Bros. Wii</td>\n",
              "      <td>Wii</td>\n",
              "      <td>2009.0</td>\n",
              "      <td>Platform</td>\n",
              "      <td>14.44</td>\n",
              "      <td>6.94</td>\n",
              "      <td>4.70</td>\n",
              "      <td>2.24</td>\n",
              "      <td>87.0</td>\n",
              "      <td>8.4</td>\n",
              "      <td>E</td>\n",
              "    </tr>\n",
              "    <tr>\n",
              "      <th>9</th>\n",
              "      <td>Duck Hunt</td>\n",
              "      <td>NES</td>\n",
              "      <td>1984.0</td>\n",
              "      <td>Shooter</td>\n",
              "      <td>26.93</td>\n",
              "      <td>0.63</td>\n",
              "      <td>0.28</td>\n",
              "      <td>0.47</td>\n",
              "      <td>NaN</td>\n",
              "      <td>NaN</td>\n",
              "      <td>NaN</td>\n",
              "    </tr>\n",
              "    <tr>\n",
              "      <th>10</th>\n",
              "      <td>Nintendogs</td>\n",
              "      <td>DS</td>\n",
              "      <td>2005.0</td>\n",
              "      <td>Simulation</td>\n",
              "      <td>9.05</td>\n",
              "      <td>10.95</td>\n",
              "      <td>1.93</td>\n",
              "      <td>2.74</td>\n",
              "      <td>NaN</td>\n",
              "      <td>NaN</td>\n",
              "      <td>NaN</td>\n",
              "    </tr>\n",
              "    <tr>\n",
              "      <th>11</th>\n",
              "      <td>Mario Kart DS</td>\n",
              "      <td>DS</td>\n",
              "      <td>2005.0</td>\n",
              "      <td>Racing</td>\n",
              "      <td>9.71</td>\n",
              "      <td>7.47</td>\n",
              "      <td>4.13</td>\n",
              "      <td>1.90</td>\n",
              "      <td>91.0</td>\n",
              "      <td>8.6</td>\n",
              "      <td>E</td>\n",
              "    </tr>\n",
              "    <tr>\n",
              "      <th>12</th>\n",
              "      <td>Pokemon Gold/Pokemon Silver</td>\n",
              "      <td>GB</td>\n",
              "      <td>1999.0</td>\n",
              "      <td>Role-Playing</td>\n",
              "      <td>9.00</td>\n",
              "      <td>6.18</td>\n",
              "      <td>7.20</td>\n",
              "      <td>0.71</td>\n",
              "      <td>NaN</td>\n",
              "      <td>NaN</td>\n",
              "      <td>NaN</td>\n",
              "    </tr>\n",
              "    <tr>\n",
              "      <th>13</th>\n",
              "      <td>Wii Fit</td>\n",
              "      <td>Wii</td>\n",
              "      <td>2007.0</td>\n",
              "      <td>Sports</td>\n",
              "      <td>8.92</td>\n",
              "      <td>8.03</td>\n",
              "      <td>3.60</td>\n",
              "      <td>2.15</td>\n",
              "      <td>80.0</td>\n",
              "      <td>7.7</td>\n",
              "      <td>E</td>\n",
              "    </tr>\n",
              "    <tr>\n",
              "      <th>14</th>\n",
              "      <td>Kinect Adventures!</td>\n",
              "      <td>X360</td>\n",
              "      <td>2010.0</td>\n",
              "      <td>Misc</td>\n",
              "      <td>15.00</td>\n",
              "      <td>4.89</td>\n",
              "      <td>0.24</td>\n",
              "      <td>1.69</td>\n",
              "      <td>61.0</td>\n",
              "      <td>6.3</td>\n",
              "      <td>E</td>\n",
              "    </tr>\n",
              "    <tr>\n",
              "      <th>15</th>\n",
              "      <td>Wii Fit Plus</td>\n",
              "      <td>Wii</td>\n",
              "      <td>2009.0</td>\n",
              "      <td>Sports</td>\n",
              "      <td>9.01</td>\n",
              "      <td>8.49</td>\n",
              "      <td>2.53</td>\n",
              "      <td>1.77</td>\n",
              "      <td>80.0</td>\n",
              "      <td>7.4</td>\n",
              "      <td>E</td>\n",
              "    </tr>\n",
              "    <tr>\n",
              "      <th>16</th>\n",
              "      <td>Grand Theft Auto V</td>\n",
              "      <td>PS3</td>\n",
              "      <td>2013.0</td>\n",
              "      <td>Action</td>\n",
              "      <td>7.02</td>\n",
              "      <td>9.09</td>\n",
              "      <td>0.98</td>\n",
              "      <td>3.96</td>\n",
              "      <td>97.0</td>\n",
              "      <td>8.2</td>\n",
              "      <td>M</td>\n",
              "    </tr>\n",
              "    <tr>\n",
              "      <th>17</th>\n",
              "      <td>Grand Theft Auto: San Andreas</td>\n",
              "      <td>PS2</td>\n",
              "      <td>2004.0</td>\n",
              "      <td>Action</td>\n",
              "      <td>9.43</td>\n",
              "      <td>0.40</td>\n",
              "      <td>0.41</td>\n",
              "      <td>10.57</td>\n",
              "      <td>95.0</td>\n",
              "      <td>9</td>\n",
              "      <td>M</td>\n",
              "    </tr>\n",
              "    <tr>\n",
              "      <th>18</th>\n",
              "      <td>Super Mario World</td>\n",
              "      <td>SNES</td>\n",
              "      <td>1990.0</td>\n",
              "      <td>Platform</td>\n",
              "      <td>12.78</td>\n",
              "      <td>3.75</td>\n",
              "      <td>3.54</td>\n",
              "      <td>0.55</td>\n",
              "      <td>NaN</td>\n",
              "      <td>NaN</td>\n",
              "      <td>NaN</td>\n",
              "    </tr>\n",
              "    <tr>\n",
              "      <th>19</th>\n",
              "      <td>Brain Age: Train Your Brain in Minutes a Day</td>\n",
              "      <td>DS</td>\n",
              "      <td>2005.0</td>\n",
              "      <td>Misc</td>\n",
              "      <td>4.74</td>\n",
              "      <td>9.20</td>\n",
              "      <td>4.16</td>\n",
              "      <td>2.04</td>\n",
              "      <td>77.0</td>\n",
              "      <td>7.9</td>\n",
              "      <td>E</td>\n",
              "    </tr>\n",
              "  </tbody>\n",
              "</table>\n",
              "</div>"
            ],
            "text/plain": [
              "                                            Name Platform  Year_of_Release  \\\n",
              "0                                     Wii Sports      Wii           2006.0   \n",
              "1                              Super Mario Bros.      NES           1985.0   \n",
              "2                                 Mario Kart Wii      Wii           2008.0   \n",
              "3                              Wii Sports Resort      Wii           2009.0   \n",
              "4                       Pokemon Red/Pokemon Blue       GB           1996.0   \n",
              "5                                         Tetris       GB           1989.0   \n",
              "6                          New Super Mario Bros.       DS           2006.0   \n",
              "7                                       Wii Play      Wii           2006.0   \n",
              "8                      New Super Mario Bros. Wii      Wii           2009.0   \n",
              "9                                      Duck Hunt      NES           1984.0   \n",
              "10                                    Nintendogs       DS           2005.0   \n",
              "11                                 Mario Kart DS       DS           2005.0   \n",
              "12                   Pokemon Gold/Pokemon Silver       GB           1999.0   \n",
              "13                                       Wii Fit      Wii           2007.0   \n",
              "14                            Kinect Adventures!     X360           2010.0   \n",
              "15                                  Wii Fit Plus      Wii           2009.0   \n",
              "16                            Grand Theft Auto V      PS3           2013.0   \n",
              "17                 Grand Theft Auto: San Andreas      PS2           2004.0   \n",
              "18                             Super Mario World     SNES           1990.0   \n",
              "19  Brain Age: Train Your Brain in Minutes a Day       DS           2005.0   \n",
              "\n",
              "           Genre  NA_sales  EU_sales  JP_sales  Other_sales  Critic_Score  \\\n",
              "0         Sports     41.36     28.96      3.77         8.45          76.0   \n",
              "1       Platform     29.08      3.58      6.81         0.77           NaN   \n",
              "2         Racing     15.68     12.76      3.79         3.29          82.0   \n",
              "3         Sports     15.61     10.93      3.28         2.95          80.0   \n",
              "4   Role-Playing     11.27      8.89     10.22         1.00           NaN   \n",
              "5         Puzzle     23.20      2.26      4.22         0.58           NaN   \n",
              "6       Platform     11.28      9.14      6.50         2.88          89.0   \n",
              "7           Misc     13.96      9.18      2.93         2.84          58.0   \n",
              "8       Platform     14.44      6.94      4.70         2.24          87.0   \n",
              "9        Shooter     26.93      0.63      0.28         0.47           NaN   \n",
              "10    Simulation      9.05     10.95      1.93         2.74           NaN   \n",
              "11        Racing      9.71      7.47      4.13         1.90          91.0   \n",
              "12  Role-Playing      9.00      6.18      7.20         0.71           NaN   \n",
              "13        Sports      8.92      8.03      3.60         2.15          80.0   \n",
              "14          Misc     15.00      4.89      0.24         1.69          61.0   \n",
              "15        Sports      9.01      8.49      2.53         1.77          80.0   \n",
              "16        Action      7.02      9.09      0.98         3.96          97.0   \n",
              "17        Action      9.43      0.40      0.41        10.57          95.0   \n",
              "18      Platform     12.78      3.75      3.54         0.55           NaN   \n",
              "19          Misc      4.74      9.20      4.16         2.04          77.0   \n",
              "\n",
              "   User_Score Rating  \n",
              "0           8      E  \n",
              "1         NaN    NaN  \n",
              "2         8.3      E  \n",
              "3           8      E  \n",
              "4         NaN    NaN  \n",
              "5         NaN    NaN  \n",
              "6         8.5      E  \n",
              "7         6.6      E  \n",
              "8         8.4      E  \n",
              "9         NaN    NaN  \n",
              "10        NaN    NaN  \n",
              "11        8.6      E  \n",
              "12        NaN    NaN  \n",
              "13        7.7      E  \n",
              "14        6.3      E  \n",
              "15        7.4      E  \n",
              "16        8.2      M  \n",
              "17          9      M  \n",
              "18        NaN    NaN  \n",
              "19        7.9      E  "
            ]
          },
          "execution_count": 2,
          "metadata": {},
          "output_type": "execute_result"
        }
      ],
      "source": [
        "df = pd.read_csv('/datasets/games.csv')\n",
        "df.head(20)"
      ]
    },
    {
      "cell_type": "code",
      "execution_count": null,
      "metadata": {
        "scrolled": true,
        "id": "rV1EAyNY1ic2",
        "outputId": "eb85aa72-4d43-4e12-ae8b-fa8d784a8205"
      },
      "outputs": [
        {
          "data": {
            "text/html": [
              "<div>\n",
              "<style scoped>\n",
              "    .dataframe tbody tr th:only-of-type {\n",
              "        vertical-align: middle;\n",
              "    }\n",
              "\n",
              "    .dataframe tbody tr th {\n",
              "        vertical-align: top;\n",
              "    }\n",
              "\n",
              "    .dataframe thead th {\n",
              "        text-align: right;\n",
              "    }\n",
              "</style>\n",
              "<table border=\"1\" class=\"dataframe\">\n",
              "  <thead>\n",
              "    <tr style=\"text-align: right;\">\n",
              "      <th></th>\n",
              "      <th>Year_of_Release</th>\n",
              "      <th>NA_sales</th>\n",
              "      <th>EU_sales</th>\n",
              "      <th>JP_sales</th>\n",
              "      <th>Other_sales</th>\n",
              "      <th>Critic_Score</th>\n",
              "    </tr>\n",
              "  </thead>\n",
              "  <tbody>\n",
              "    <tr>\n",
              "      <th>count</th>\n",
              "      <td>16446.000000</td>\n",
              "      <td>16715.000000</td>\n",
              "      <td>16715.000000</td>\n",
              "      <td>16715.000000</td>\n",
              "      <td>16715.000000</td>\n",
              "      <td>8137.000000</td>\n",
              "    </tr>\n",
              "    <tr>\n",
              "      <th>mean</th>\n",
              "      <td>2006.484616</td>\n",
              "      <td>0.263377</td>\n",
              "      <td>0.145060</td>\n",
              "      <td>0.077617</td>\n",
              "      <td>0.047342</td>\n",
              "      <td>68.967679</td>\n",
              "    </tr>\n",
              "    <tr>\n",
              "      <th>std</th>\n",
              "      <td>5.877050</td>\n",
              "      <td>0.813604</td>\n",
              "      <td>0.503339</td>\n",
              "      <td>0.308853</td>\n",
              "      <td>0.186731</td>\n",
              "      <td>13.938165</td>\n",
              "    </tr>\n",
              "    <tr>\n",
              "      <th>min</th>\n",
              "      <td>1980.000000</td>\n",
              "      <td>0.000000</td>\n",
              "      <td>0.000000</td>\n",
              "      <td>0.000000</td>\n",
              "      <td>0.000000</td>\n",
              "      <td>13.000000</td>\n",
              "    </tr>\n",
              "    <tr>\n",
              "      <th>25%</th>\n",
              "      <td>2003.000000</td>\n",
              "      <td>0.000000</td>\n",
              "      <td>0.000000</td>\n",
              "      <td>0.000000</td>\n",
              "      <td>0.000000</td>\n",
              "      <td>60.000000</td>\n",
              "    </tr>\n",
              "    <tr>\n",
              "      <th>50%</th>\n",
              "      <td>2007.000000</td>\n",
              "      <td>0.080000</td>\n",
              "      <td>0.020000</td>\n",
              "      <td>0.000000</td>\n",
              "      <td>0.010000</td>\n",
              "      <td>71.000000</td>\n",
              "    </tr>\n",
              "    <tr>\n",
              "      <th>75%</th>\n",
              "      <td>2010.000000</td>\n",
              "      <td>0.240000</td>\n",
              "      <td>0.110000</td>\n",
              "      <td>0.040000</td>\n",
              "      <td>0.030000</td>\n",
              "      <td>79.000000</td>\n",
              "    </tr>\n",
              "    <tr>\n",
              "      <th>max</th>\n",
              "      <td>2016.000000</td>\n",
              "      <td>41.360000</td>\n",
              "      <td>28.960000</td>\n",
              "      <td>10.220000</td>\n",
              "      <td>10.570000</td>\n",
              "      <td>98.000000</td>\n",
              "    </tr>\n",
              "  </tbody>\n",
              "</table>\n",
              "</div>"
            ],
            "text/plain": [
              "       Year_of_Release      NA_sales      EU_sales      JP_sales  \\\n",
              "count     16446.000000  16715.000000  16715.000000  16715.000000   \n",
              "mean       2006.484616      0.263377      0.145060      0.077617   \n",
              "std           5.877050      0.813604      0.503339      0.308853   \n",
              "min        1980.000000      0.000000      0.000000      0.000000   \n",
              "25%        2003.000000      0.000000      0.000000      0.000000   \n",
              "50%        2007.000000      0.080000      0.020000      0.000000   \n",
              "75%        2010.000000      0.240000      0.110000      0.040000   \n",
              "max        2016.000000     41.360000     28.960000     10.220000   \n",
              "\n",
              "        Other_sales  Critic_Score  \n",
              "count  16715.000000   8137.000000  \n",
              "mean       0.047342     68.967679  \n",
              "std        0.186731     13.938165  \n",
              "min        0.000000     13.000000  \n",
              "25%        0.000000     60.000000  \n",
              "50%        0.010000     71.000000  \n",
              "75%        0.030000     79.000000  \n",
              "max       10.570000     98.000000  "
            ]
          },
          "execution_count": 3,
          "metadata": {},
          "output_type": "execute_result"
        }
      ],
      "source": [
        "df.describe()"
      ]
    },
    {
      "cell_type": "code",
      "execution_count": null,
      "metadata": {
        "scrolled": true,
        "id": "_Pb6y-6K1ic3",
        "outputId": "79ad8bd3-12dc-4b77-9876-bf935529b7cd"
      },
      "outputs": [
        {
          "name": "stdout",
          "output_type": "stream",
          "text": [
            "<class 'pandas.core.frame.DataFrame'>\n",
            "RangeIndex: 16715 entries, 0 to 16714\n",
            "Data columns (total 11 columns):\n",
            " #   Column           Non-Null Count  Dtype  \n",
            "---  ------           --------------  -----  \n",
            " 0   Name             16713 non-null  object \n",
            " 1   Platform         16715 non-null  object \n",
            " 2   Year_of_Release  16446 non-null  float64\n",
            " 3   Genre            16713 non-null  object \n",
            " 4   NA_sales         16715 non-null  float64\n",
            " 5   EU_sales         16715 non-null  float64\n",
            " 6   JP_sales         16715 non-null  float64\n",
            " 7   Other_sales      16715 non-null  float64\n",
            " 8   Critic_Score     8137 non-null   float64\n",
            " 9   User_Score       10014 non-null  object \n",
            " 10  Rating           9949 non-null   object \n",
            "dtypes: float64(6), object(5)\n",
            "memory usage: 1.4+ MB\n"
          ]
        }
      ],
      "source": [
        "df.info()"
      ]
    },
    {
      "cell_type": "markdown",
      "metadata": {
        "id": "eCg6A9NP1ic4"
      },
      "source": [
        "**Вывод**"
      ]
    },
    {
      "cell_type": "markdown",
      "metadata": {
        "id": "wv3CfwSp1ic4"
      },
      "source": [
        "1. Минимальные значения продаж нулевые — есть игры, которые не продавались в определённых регионах. Возможно, это какие-то региональные эксклюзивы, либо просто данных по продажам в общем доступе нет.\n",
        "2. Некоторых оценок и значений рейтинга не хватает. Скорее всего этих оценок просто нет в общем доступе, а, может, и вообще.\n",
        "3. Названия столбцов разного регистра.\n",
        "4. Столбец с пользовательскими оценками в формате 'object', это может нам потом помешать считать средние рейтинги\n",
        "5. Год релиза типа float, его нужно перевести в целочисленный. Отсутствуют также несколько строчек с годами выпуска. Заполним их маркерами потом, чтобы не мешали столбцу быть целочисленным."
      ]
    },
    {
      "cell_type": "markdown",
      "metadata": {
        "id": "lL-AQrcq1ic5"
      },
      "source": [
        "## Предобработка данных"
      ]
    },
    {
      "cell_type": "markdown",
      "metadata": {
        "id": "7gpjo39v1ic5"
      },
      "source": [
        "**Задачи:**\n",
        "    \n",
        "- Приводим названия столбцов к нижнему регистру.\n",
        "- Обрабатываем пропуски в данных по необходимости.\n",
        "- Приведём данные к нужным типам.\n",
        "- Посчитаем количество продаж во всех регионах и запишем в отдельный столбец."
      ]
    },
    {
      "cell_type": "markdown",
      "metadata": {
        "id": "K56iYGRL1ic6"
      },
      "source": [
        "### Приведение названий столбцов к нижнему регистру"
      ]
    },
    {
      "cell_type": "code",
      "execution_count": null,
      "metadata": {
        "id": "0AtoIl7m1ic6"
      },
      "outputs": [],
      "source": [
        "df.columns = df.columns.str.lower()"
      ]
    },
    {
      "cell_type": "markdown",
      "metadata": {
        "id": "wkZQ1-W51ic6"
      },
      "source": [
        "Заодно на всякий случай и все строчные значения к нижнему регистру приведём для профилактики возникновения дубликатов."
      ]
    },
    {
      "cell_type": "code",
      "execution_count": null,
      "metadata": {
        "id": "pCllKt461ic7"
      },
      "outputs": [],
      "source": [
        "df['name'] = df['name'].str.lower()\n",
        "df['platform'] = df['platform'].str.lower()\n",
        "df['genre'] = df['genre'].str.lower()\n",
        "df['rating'] = df['rating'].str.lower()"
      ]
    },
    {
      "cell_type": "code",
      "execution_count": null,
      "metadata": {
        "id": "_GPFUGWl1ic7",
        "outputId": "bae66d53-4f2f-4821-f701-efbb566d49f4"
      },
      "outputs": [
        {
          "data": {
            "text/plain": [
              "0"
            ]
          },
          "execution_count": 7,
          "metadata": {},
          "output_type": "execute_result"
        }
      ],
      "source": [
        "df.duplicated().sum()"
      ]
    },
    {
      "cell_type": "markdown",
      "metadata": {
        "id": "P1Y9Sqpw1ic7"
      },
      "source": [
        "### Обработка пропусков"
      ]
    },
    {
      "cell_type": "markdown",
      "metadata": {
        "id": "ETv3bb2w1ic7"
      },
      "source": [
        "Пропуски у нас есть в столбцах: 'Name', 'Year_of_Release', 'Genre', 'Critic_Score', 'User_Score', 'Rating'.  \n",
        "\n",
        "Те строки, где нет названий игр, мы не сможем заполнить, поэтому они нам не нужны. Как продавать и рекламировать игры без названия?"
      ]
    },
    {
      "cell_type": "code",
      "execution_count": null,
      "metadata": {
        "id": "_HYF-4VU1ic7"
      },
      "outputs": [],
      "source": [
        "df.dropna(subset=['name'], inplace=True)"
      ]
    },
    {
      "cell_type": "code",
      "execution_count": null,
      "metadata": {
        "id": "ZU6auvy11ic8",
        "outputId": "1f343b15-be1e-4e7e-e027-bfa5b4ec8547"
      },
      "outputs": [
        {
          "name": "stdout",
          "output_type": "stream",
          "text": [
            "<class 'pandas.core.frame.DataFrame'>\n",
            "Int64Index: 16713 entries, 0 to 16714\n",
            "Data columns (total 11 columns):\n",
            " #   Column           Non-Null Count  Dtype  \n",
            "---  ------           --------------  -----  \n",
            " 0   name             16713 non-null  object \n",
            " 1   platform         16713 non-null  object \n",
            " 2   year_of_release  16444 non-null  float64\n",
            " 3   genre            16713 non-null  object \n",
            " 4   na_sales         16713 non-null  float64\n",
            " 5   eu_sales         16713 non-null  float64\n",
            " 6   jp_sales         16713 non-null  float64\n",
            " 7   other_sales      16713 non-null  float64\n",
            " 8   critic_score     8137 non-null   float64\n",
            " 9   user_score       10014 non-null  object \n",
            " 10  rating           9949 non-null   object \n",
            "dtypes: float64(6), object(5)\n",
            "memory usage: 1.5+ MB\n"
          ]
        }
      ],
      "source": [
        "df.info()"
      ]
    },
    {
      "cell_type": "markdown",
      "metadata": {
        "id": "-3GvlVby1ic9"
      },
      "source": [
        "Вместе с играми как раз ушли и пропуски в жанрах.  \n",
        "\n",
        "Интересно, почему у столбцов с рейтингом формат 'object', посмотрим уникальные значения."
      ]
    },
    {
      "cell_type": "code",
      "execution_count": null,
      "metadata": {
        "id": "_oTKzLfy1ic9",
        "outputId": "4cebfebe-ea15-4ddf-81ea-7e7fcc968d0f"
      },
      "outputs": [
        {
          "data": {
            "text/plain": [
              "array(['8', nan, '8.3', '8.5', '6.6', '8.4', '8.6', '7.7', '6.3', '7.4',\n",
              "       '8.2', '9', '7.9', '8.1', '8.7', '7.1', '3.4', '5.3', '4.8', '3.2',\n",
              "       '8.9', '6.4', '7.8', '7.5', '2.6', '7.2', '9.2', '7', '7.3', '4.3',\n",
              "       '7.6', '5.7', '5', '9.1', '6.5', 'tbd', '8.8', '6.9', '9.4', '6.8',\n",
              "       '6.1', '6.7', '5.4', '4', '4.9', '4.5', '9.3', '6.2', '4.2', '6',\n",
              "       '3.7', '4.1', '5.8', '5.6', '5.5', '4.4', '4.6', '5.9', '3.9',\n",
              "       '3.1', '2.9', '5.2', '3.3', '4.7', '5.1', '3.5', '2.5', '1.9', '3',\n",
              "       '2.7', '2.2', '2', '9.5', '2.1', '3.6', '2.8', '1.8', '3.8', '0',\n",
              "       '1.6', '9.6', '2.4', '1.7', '1.1', '0.3', '1.5', '0.7', '1.2',\n",
              "       '2.3', '0.5', '1.3', '0.2', '0.6', '1.4', '0.9', '1', '9.7'],\n",
              "      dtype=object)"
            ]
          },
          "execution_count": 10,
          "metadata": {},
          "output_type": "execute_result"
        }
      ],
      "source": [
        "df['user_score'].unique()"
      ]
    },
    {
      "cell_type": "markdown",
      "metadata": {
        "id": "fPmhEjgL1ic9"
      },
      "source": [
        "tbd — это аббревиатура от To Be Determined. Пишется тогда, когда игра имеет недостаточное количество отзывов (менее 4) для подсчета рейтинга пользователей и его публикации.  \n",
        "Либо игры с такой оценкой непопулярны, либо только-только вышли.  \n",
        "\n",
        "По сути это то же самое, что и пропущенное значение. Заменим все пропуски и tbd на маркер -1"
      ]
    },
    {
      "cell_type": "code",
      "execution_count": null,
      "metadata": {
        "id": "S0hAB_Qp1ic9",
        "outputId": "32e033a6-9b8b-4951-beeb-422db294f614"
      },
      "outputs": [
        {
          "name": "stdout",
          "output_type": "stream",
          "text": [
            "<class 'pandas.core.frame.DataFrame'>\n",
            "Int64Index: 16713 entries, 0 to 16714\n",
            "Data columns (total 11 columns):\n",
            " #   Column           Non-Null Count  Dtype  \n",
            "---  ------           --------------  -----  \n",
            " 0   name             16713 non-null  object \n",
            " 1   platform         16713 non-null  object \n",
            " 2   year_of_release  16444 non-null  float64\n",
            " 3   genre            16713 non-null  object \n",
            " 4   na_sales         16713 non-null  float64\n",
            " 5   eu_sales         16713 non-null  float64\n",
            " 6   jp_sales         16713 non-null  float64\n",
            " 7   other_sales      16713 non-null  float64\n",
            " 8   critic_score     8137 non-null   float64\n",
            " 9   user_score       16713 non-null  object \n",
            " 10  rating           9949 non-null   object \n",
            "dtypes: float64(6), object(5)\n",
            "memory usage: 1.5+ MB\n"
          ]
        }
      ],
      "source": [
        "df.loc[(df['user_score'] == 'tbd') | (df['user_score'].isna()), 'user_score'] = -1\n",
        "\n",
        "df.info()"
      ]
    },
    {
      "cell_type": "markdown",
      "metadata": {
        "id": "vl4yaUG51ic-"
      },
      "source": [
        "<div class=\"alert alert-warning\">\n",
        "<font size=\"5\"><b>Комментарий ревьюера</b></font>\n",
        "\n",
        "Совет:\n",
        "\n",
        "Заменить nan на зуглушку можно, но есть неудобный момент. Смотри, этот -1 - не реальные данные, это заглушка, в итоге при анализе данных столбцов мы должны каждый раз отфильтровывать такие значения, т.к. анализировать их не надо. В итоге, в одном из пунктов можно забыть про такие значения и случайно включить маркерные значения в анализ, что вызовет ошибку в результатах. А с nan не возникнет проблем ни при расчете корреляции, ни при проверке гипотез.\n",
        "\n",
        "\n",
        "</div>"
      ]
    },
    {
      "cell_type": "markdown",
      "metadata": {
        "id": "0EFnggSo1ic-"
      },
      "source": [
        "Посмотрим, какие есть категории в столбце с рейтингом."
      ]
    },
    {
      "cell_type": "code",
      "execution_count": null,
      "metadata": {
        "id": "vg1fMNUi1ic-",
        "outputId": "bc10ca91-0c63-46d7-d45a-8c9a72b86ee4"
      },
      "outputs": [
        {
          "data": {
            "text/plain": [
              "array(['e', nan, 'm', 't', 'e10+', 'k-a', 'ao', 'ec', 'rp'], dtype=object)"
            ]
          },
          "execution_count": 12,
          "metadata": {},
          "output_type": "execute_result"
        }
      ],
      "source": [
        "df['rating'].unique()"
      ]
    },
    {
      "cell_type": "markdown",
      "metadata": {
        "id": "cqyQbeL31ic-"
      },
      "source": [
        "«EC» («Early childhood») — «Для детей младшего возраста»: Игра подходит для детей от 3 лет и старше и не содержит материалов, которые родители могли бы счесть неподходящими.  \n",
        "\n",
        "«E» («Everyone») — «Для всех»: Содержание вполне подходит для возрастной категории от 6 лет и старше; такие игры могут понравиться и взрослым.  \n",
        "\n",
        "«E10+» («Everyone 10 and older») — «Для всех от 10 лет и старше».  \n",
        "\n",
        "«T» («Teen») — «Подросткам»: Игра подходит для лиц от 13 лет и старше.  \n",
        "\n",
        "«M» («Mature») — «Для взрослых»: Материалы игры не подходят для подростков младше 17 лет.  \n",
        "\n",
        "«AO» («Adults Only 18+») — «Только для взрослых»: Содержание игры только для взрослых старше 18 лет.  \n",
        "\n",
        "«RP» («Rating Pending») — «Рейтинг ожидается»: Продукт был отправлен в ESRB и ожидает присвоения рейтинга.  \n",
        "\n",
        "«K-A» («Kids to Adults»)— «Для детей и взрослых»: Содержание игры вполне подходит для возрастной категории от 6 лет и старше."
      ]
    },
    {
      "cell_type": "markdown",
      "metadata": {
        "id": "JafzYhmz1ic_"
      },
      "source": [
        "Пропуски скорее всего вызваны тем, что такие игры не продавались на американском рынке. Заполним их значениями RP, он тоже означает отсутствие рейтинга"
      ]
    },
    {
      "cell_type": "code",
      "execution_count": null,
      "metadata": {
        "id": "vtvnOyZv1ic_"
      },
      "outputs": [],
      "source": [
        "df['rating'] = df['rating'].fillna('RP')"
      ]
    },
    {
      "cell_type": "markdown",
      "metadata": {
        "id": "dm541cuB1idA"
      },
      "source": [
        "Удалим строки с пропущенным годом."
      ]
    },
    {
      "cell_type": "code",
      "execution_count": null,
      "metadata": {
        "id": "bN-FJ1z41idA"
      },
      "outputs": [],
      "source": [
        "df.dropna(subset = ['year_of_release'], inplace = True)"
      ]
    },
    {
      "cell_type": "markdown",
      "metadata": {
        "id": "6oKu_L1u1idB"
      },
      "source": [
        "<div class=\"alert alert-warning\">\n",
        "<font size=\"5\"><b>Комментарий ревьюера</b></font>\n",
        "\n",
        "Совет:\n",
        "\n",
        "\n",
        "Что можно было сделать еще?\n",
        "\n",
        "Заняться неявными дубликатами в рейтингах и названиях игр. Данные стали бы чуть чуть чище.\n",
        "\n",
        "\n",
        "На примере рейтингов это могло выглядеть так:\n",
        "\n",
        "1. Используем value_counts() к rating и обнаруживаем небольшое число у K-A и EC.\n",
        "2. Гуглим и обнаруживаем что это старая версия E.\n",
        "3. Делаем замены. Такой вариант работы с неявными дубликатами.\n",
        "\n",
        "С именами сложней, тут бы помогли регулярные выражения.\n",
        "</div>\n",
        "\n"
      ]
    },
    {
      "cell_type": "markdown",
      "metadata": {
        "id": "zJRYalwh1idB"
      },
      "source": [
        "### Преобразование данных в нужные типы"
      ]
    },
    {
      "cell_type": "code",
      "execution_count": null,
      "metadata": {
        "id": "2zuun11r1idB"
      },
      "outputs": [],
      "source": [
        "df['year_of_release'] = df['year_of_release'].astype('int')\n",
        "df['user_score'] = df['user_score'].astype('float')"
      ]
    },
    {
      "cell_type": "code",
      "execution_count": null,
      "metadata": {
        "id": "36KFouNK1idB",
        "outputId": "6889e738-1f0a-4973-c625-9aff105e0f63"
      },
      "outputs": [
        {
          "name": "stdout",
          "output_type": "stream",
          "text": [
            "<class 'pandas.core.frame.DataFrame'>\n",
            "Int64Index: 16444 entries, 0 to 16714\n",
            "Data columns (total 11 columns):\n",
            " #   Column           Non-Null Count  Dtype  \n",
            "---  ------           --------------  -----  \n",
            " 0   name             16444 non-null  object \n",
            " 1   platform         16444 non-null  object \n",
            " 2   year_of_release  16444 non-null  int64  \n",
            " 3   genre            16444 non-null  object \n",
            " 4   na_sales         16444 non-null  float64\n",
            " 5   eu_sales         16444 non-null  float64\n",
            " 6   jp_sales         16444 non-null  float64\n",
            " 7   other_sales      16444 non-null  float64\n",
            " 8   critic_score     7983 non-null   float64\n",
            " 9   user_score       16444 non-null  float64\n",
            " 10  rating           16444 non-null  object \n",
            "dtypes: float64(6), int64(1), object(4)\n",
            "memory usage: 1.5+ MB\n"
          ]
        }
      ],
      "source": [
        "df.info()"
      ]
    },
    {
      "cell_type": "markdown",
      "metadata": {
        "id": "KFKdKQED1idB"
      },
      "source": [
        "### Добавление столбца с количеством продаж во всех регионах"
      ]
    },
    {
      "cell_type": "code",
      "execution_count": null,
      "metadata": {
        "id": "MEoZNl6R1idB",
        "outputId": "30f80419-6806-4d6e-d0c9-7852aa29110f"
      },
      "outputs": [
        {
          "data": {
            "text/html": [
              "<div>\n",
              "<style scoped>\n",
              "    .dataframe tbody tr th:only-of-type {\n",
              "        vertical-align: middle;\n",
              "    }\n",
              "\n",
              "    .dataframe tbody tr th {\n",
              "        vertical-align: top;\n",
              "    }\n",
              "\n",
              "    .dataframe thead th {\n",
              "        text-align: right;\n",
              "    }\n",
              "</style>\n",
              "<table border=\"1\" class=\"dataframe\">\n",
              "  <thead>\n",
              "    <tr style=\"text-align: right;\">\n",
              "      <th></th>\n",
              "      <th>name</th>\n",
              "      <th>platform</th>\n",
              "      <th>year_of_release</th>\n",
              "      <th>genre</th>\n",
              "      <th>na_sales</th>\n",
              "      <th>eu_sales</th>\n",
              "      <th>jp_sales</th>\n",
              "      <th>other_sales</th>\n",
              "      <th>critic_score</th>\n",
              "      <th>user_score</th>\n",
              "      <th>rating</th>\n",
              "      <th>total_sales</th>\n",
              "    </tr>\n",
              "  </thead>\n",
              "  <tbody>\n",
              "    <tr>\n",
              "      <th>0</th>\n",
              "      <td>wii sports</td>\n",
              "      <td>wii</td>\n",
              "      <td>2006</td>\n",
              "      <td>sports</td>\n",
              "      <td>41.36</td>\n",
              "      <td>28.96</td>\n",
              "      <td>3.77</td>\n",
              "      <td>8.45</td>\n",
              "      <td>76.0</td>\n",
              "      <td>8.0</td>\n",
              "      <td>e</td>\n",
              "      <td>82.54</td>\n",
              "    </tr>\n",
              "    <tr>\n",
              "      <th>1</th>\n",
              "      <td>super mario bros.</td>\n",
              "      <td>nes</td>\n",
              "      <td>1985</td>\n",
              "      <td>platform</td>\n",
              "      <td>29.08</td>\n",
              "      <td>3.58</td>\n",
              "      <td>6.81</td>\n",
              "      <td>0.77</td>\n",
              "      <td>NaN</td>\n",
              "      <td>-1.0</td>\n",
              "      <td>RP</td>\n",
              "      <td>40.24</td>\n",
              "    </tr>\n",
              "    <tr>\n",
              "      <th>2</th>\n",
              "      <td>mario kart wii</td>\n",
              "      <td>wii</td>\n",
              "      <td>2008</td>\n",
              "      <td>racing</td>\n",
              "      <td>15.68</td>\n",
              "      <td>12.76</td>\n",
              "      <td>3.79</td>\n",
              "      <td>3.29</td>\n",
              "      <td>82.0</td>\n",
              "      <td>8.3</td>\n",
              "      <td>e</td>\n",
              "      <td>35.52</td>\n",
              "    </tr>\n",
              "    <tr>\n",
              "      <th>3</th>\n",
              "      <td>wii sports resort</td>\n",
              "      <td>wii</td>\n",
              "      <td>2009</td>\n",
              "      <td>sports</td>\n",
              "      <td>15.61</td>\n",
              "      <td>10.93</td>\n",
              "      <td>3.28</td>\n",
              "      <td>2.95</td>\n",
              "      <td>80.0</td>\n",
              "      <td>8.0</td>\n",
              "      <td>e</td>\n",
              "      <td>32.77</td>\n",
              "    </tr>\n",
              "    <tr>\n",
              "      <th>4</th>\n",
              "      <td>pokemon red/pokemon blue</td>\n",
              "      <td>gb</td>\n",
              "      <td>1996</td>\n",
              "      <td>role-playing</td>\n",
              "      <td>11.27</td>\n",
              "      <td>8.89</td>\n",
              "      <td>10.22</td>\n",
              "      <td>1.00</td>\n",
              "      <td>NaN</td>\n",
              "      <td>-1.0</td>\n",
              "      <td>RP</td>\n",
              "      <td>31.38</td>\n",
              "    </tr>\n",
              "  </tbody>\n",
              "</table>\n",
              "</div>"
            ],
            "text/plain": [
              "                       name platform  year_of_release         genre  na_sales  \\\n",
              "0                wii sports      wii             2006        sports     41.36   \n",
              "1         super mario bros.      nes             1985      platform     29.08   \n",
              "2            mario kart wii      wii             2008        racing     15.68   \n",
              "3         wii sports resort      wii             2009        sports     15.61   \n",
              "4  pokemon red/pokemon blue       gb             1996  role-playing     11.27   \n",
              "\n",
              "   eu_sales  jp_sales  other_sales  critic_score  user_score rating  \\\n",
              "0     28.96      3.77         8.45          76.0         8.0      e   \n",
              "1      3.58      6.81         0.77           NaN        -1.0     RP   \n",
              "2     12.76      3.79         3.29          82.0         8.3      e   \n",
              "3     10.93      3.28         2.95          80.0         8.0      e   \n",
              "4      8.89     10.22         1.00           NaN        -1.0     RP   \n",
              "\n",
              "   total_sales  \n",
              "0        82.54  \n",
              "1        40.24  \n",
              "2        35.52  \n",
              "3        32.77  \n",
              "4        31.38  "
            ]
          },
          "execution_count": 46,
          "metadata": {},
          "output_type": "execute_result"
        }
      ],
      "source": [
        "df[['na_sales','eu_sales','jp_sales', 'other_sales']].sum(axis = 1)\n",
        "df.head()"
      ]
    },
    {
      "cell_type": "markdown",
      "metadata": {
        "id": "eBI0Lhrg1idC"
      },
      "source": [
        "<div class=\"alert alert-warning\">\n",
        "<font size=\"5\"><b>Комментарий ревьюера</b></font>\n",
        "\n",
        "Совет:\n",
        "\n",
        "Твой код отработал норамально, но есть более \"пандовский\" вариант\n",
        "```\n",
        "df[['na_sales','eu_sales','jp_sales', 'other_sales']].sum(axis = 1)\n",
        "```\n",
        "где axis = 1 означает что мы считаем по горизонтали, axis = 0 по вертикали.\n",
        "\n",
        "</div>\n"
      ]
    },
    {
      "cell_type": "code",
      "execution_count": null,
      "metadata": {
        "id": "OMXZp2vB1idC",
        "outputId": "e9c8f4e6-14b9-4859-be4d-29bb18722c44"
      },
      "outputs": [
        {
          "data": {
            "text/plain": [
              "array(['e', 'RP', 'm', 't', 'e10+', 'k-a', 'ao', 'ec', 'rp'], dtype=object)"
            ]
          },
          "execution_count": 18,
          "metadata": {},
          "output_type": "execute_result"
        }
      ],
      "source": [
        "df['rating'].unique()"
      ]
    },
    {
      "cell_type": "markdown",
      "metadata": {
        "id": "6zziIdRn1idC"
      },
      "source": [
        "### Вывод"
      ]
    },
    {
      "cell_type": "markdown",
      "metadata": {
        "id": "aBo9kWDJ1idC"
      },
      "source": [
        "Обработали пропуски:\n",
        "1. В столбцах с оценками пользователей и годом заполнили пропуски маркером -1.\n",
        "2. В столбце с возрастной категорией тоже заполнили пропускимаркером no_rating.\n",
        "3. Строки с пропущенными играми удалили, с ними удалились и пропуски в жанрах. Скорее всего какая-то ошибка при выгрузке денных.  \n",
        "\n",
        "Преобразовали данные:\n",
        "1. Столбец с годом в целочисленный формат (дата тут неполная, нет смысла переводить в datetime)\n",
        "2. Пользовательский рейтинг из строкового типа в численный.\n",
        "\n",
        "Добавили столбец с количеством продаж во всех регионах."
      ]
    },
    {
      "cell_type": "markdown",
      "metadata": {
        "id": "9PpVAV3V1idD"
      },
      "source": [
        "## Анализ данных"
      ]
    },
    {
      "cell_type": "markdown",
      "metadata": {
        "id": "dp_P8-eS1idD"
      },
      "source": [
        "**Задачи**:\n",
        "    \n",
        "1. Посмотреть, сколько игр выпускалось в разные годы. Важны ли данные за все периоды?\n",
        "2. Посмотреть, как менялись продажи по платформам. Выбрать платформы с наибольшими суммарными продажами и постройте распределение по годам. За какой характерный срок появляются новые и исчезают старые платформы?\n",
        "3. Взять данные за соответствующий актуальный период. Актуальный период определить самостоятельно в результате исследования предыдущих вопросов. Основной фактор — эти данные помогут построить прогноз на 2017 год. Не учитывать в работе данные за предыдущие годы.\n",
        "4. Какие платформы лидируют по продажам, растут или падают? Выбрать несколько потенциально прибыльных платформ.\n",
        "5. Построить график «ящик с усами» по глобальным продажам игр в разбивке по платформам. Описать результат.\n",
        "6. Посмотреть, как влияют на продажи внутри одной популярной платформы отзывы пользователей и критиков. Построить диаграмму рассеяния и посчитать корреляцию между отзывами и продажами. Сформулировать выводы.\n",
        "7. Соотнести выводы с продажами игр на других платформах.\n",
        "8. Посмотреть на общее распределение игр по жанрам. Что можно сказать о самых прибыльных жанрах? Выделяются ли жанры с высокими и низкими продажами?\n",
        "9. Составить портрет для пользователей каждого региона.\n"
      ]
    },
    {
      "cell_type": "markdown",
      "metadata": {
        "id": "t1W9qgsD1idD"
      },
      "source": [
        "### Сколько игр выпускалось в разные годы"
      ]
    },
    {
      "cell_type": "code",
      "execution_count": null,
      "metadata": {
        "id": "3a7XgUo81idD",
        "outputId": "07ee1331-1748-4c68-c93e-9c3a64662dbd"
      },
      "outputs": [
        {
          "data": {
            "image/png": "[encoded data removed]",
            "text/plain": [
              "<Figure size 1080x720 with 1 Axes>"
            ]
          },
          "metadata": {
            "needs_background": "light"
          },
          "output_type": "display_data"
        }
      ],
      "source": [
        "df[df['year_of_release'] != -1]['year_of_release'].plot(kind='hist', bins=40, figsize=(15,10))\n",
        "plt.title('Распределение по годам релиза')\n",
        "plt.xlabel('Годы')\n",
        "plt.ylabel('Количество игр')\n",
        "plt.show()"
      ]
    },
    {
      "cell_type": "markdown",
      "metadata": {
        "id": "EU1CNjy61idE"
      },
      "source": [
        "С 95-года видим рост количество видеоигр: в это время довольно быстро менялись начинки устройств, они становились мощнее, соответственно график релизов тоже рос.  \n",
        "\n",
        "С 2010 года идёт спад из-за насыщения рынка, также начало выходить больше ААА-проектов, над которыми работа идёт по несколько лет, а более простые и быстрые игры перешли на мобильные платформы.\n",
        "\n",
        "Данные за все периоды нам не важны, т.к. консоли стремительно менялись и некоторые уже давно даже не выпускаются. В качестве актуального периода возьмём возьмём период с 2013 по 2016 год. Почему: в 2013 вышла PS4, которая занимает значительный сегмент рынка до сих пор."
      ]
    },
    {
      "cell_type": "markdown",
      "metadata": {
        "id": "2BFVLO161idE"
      },
      "source": [
        "### Продажи по платформам в разные годы"
      ]
    },
    {
      "cell_type": "markdown",
      "metadata": {
        "id": "r09LL2kD1idE"
      },
      "source": [
        "Теперь посмотрим, как менялись продажи по платформам, выберем платформы с наибольшими суммарными продажами и построим распределение по годам.\n",
        "В этом пункте я хочу посмотреть на все данные, не только за актуальный период. Так можно увидеть больше появившихся и исчезнувших платформ, чтобы ответить на вопрос про срок их жизни."
      ]
    },
    {
      "cell_type": "markdown",
      "metadata": {
        "id": "6ENuWJWr1idE"
      },
      "source": [
        "Табличка с топ-10 продажами по платформам."
      ]
    },
    {
      "cell_type": "code",
      "execution_count": null,
      "metadata": {
        "id": "kmsbL_Nf1idF",
        "outputId": "506ca6ea-da16-44a6-a9a1-fc8262c48d77"
      },
      "outputs": [
        {
          "data": {
            "text/html": [
              "<div>\n",
              "<style scoped>\n",
              "    .dataframe tbody tr th:only-of-type {\n",
              "        vertical-align: middle;\n",
              "    }\n",
              "\n",
              "    .dataframe tbody tr th {\n",
              "        vertical-align: top;\n",
              "    }\n",
              "\n",
              "    .dataframe thead th {\n",
              "        text-align: right;\n",
              "    }\n",
              "</style>\n",
              "<table border=\"1\" class=\"dataframe\">\n",
              "  <thead>\n",
              "    <tr style=\"text-align: right;\">\n",
              "      <th></th>\n",
              "      <th>total_sales</th>\n",
              "    </tr>\n",
              "    <tr>\n",
              "      <th>platform</th>\n",
              "      <th></th>\n",
              "    </tr>\n",
              "  </thead>\n",
              "  <tbody>\n",
              "    <tr>\n",
              "      <th>ps2</th>\n",
              "      <td>1233.56</td>\n",
              "    </tr>\n",
              "    <tr>\n",
              "      <th>x360</th>\n",
              "      <td>961.24</td>\n",
              "    </tr>\n",
              "    <tr>\n",
              "      <th>ps3</th>\n",
              "      <td>931.34</td>\n",
              "    </tr>\n",
              "    <tr>\n",
              "      <th>wii</th>\n",
              "      <td>891.18</td>\n",
              "    </tr>\n",
              "    <tr>\n",
              "      <th>ds</th>\n",
              "      <td>802.78</td>\n",
              "    </tr>\n",
              "    <tr>\n",
              "      <th>ps</th>\n",
              "      <td>727.58</td>\n",
              "    </tr>\n",
              "    <tr>\n",
              "      <th>ps4</th>\n",
              "      <td>314.14</td>\n",
              "    </tr>\n",
              "    <tr>\n",
              "      <th>gba</th>\n",
              "      <td>312.88</td>\n",
              "    </tr>\n",
              "    <tr>\n",
              "      <th>psp</th>\n",
              "      <td>289.53</td>\n",
              "    </tr>\n",
              "    <tr>\n",
              "      <th>3ds</th>\n",
              "      <td>257.81</td>\n",
              "    </tr>\n",
              "  </tbody>\n",
              "</table>\n",
              "</div>"
            ],
            "text/plain": [
              "          total_sales\n",
              "platform             \n",
              "ps2           1233.56\n",
              "x360           961.24\n",
              "ps3            931.34\n",
              "wii            891.18\n",
              "ds             802.78\n",
              "ps             727.58\n",
              "ps4            314.14\n",
              "gba            312.88\n",
              "psp            289.53\n",
              "3ds            257.81"
            ]
          },
          "execution_count": 20,
          "metadata": {},
          "output_type": "execute_result"
        }
      ],
      "source": [
        "top10_platforms = df.pivot_table(index='platform', values='total_sales', aggfunc='sum').nlargest(10, 'total_sales')\n",
        "top10_platforms"
      ]
    },
    {
      "cell_type": "markdown",
      "metadata": {
        "id": "_XplnXX_1idF"
      },
      "source": [
        "Сводная табличка продаж по годам для каждой успешной платформы."
      ]
    },
    {
      "cell_type": "code",
      "execution_count": null,
      "metadata": {
        "id": "B7hnoDPV1idF"
      },
      "outputs": [],
      "source": [
        "top10_sales = df.query(\"platform in @top10_platforms.index\").pivot_table(index = 'year_of_release', columns = 'platform', values = 'total_sales', aggfunc = 'sum')\n",
        "\n",
        "# КОД РЕВЬЮЕРА\n",
        "# top10_sales = df[df['year_of_release'] != -1].query(\"platform in @top10_platforms.index\").pivot_table(index = 'year_of_release', columns = 'platform', values = 'total_sales', aggfunc = 'sum')"
      ]
    },
    {
      "cell_type": "code",
      "execution_count": null,
      "metadata": {
        "id": "IiLq6lXx1idG",
        "outputId": "ee8cca13-1607-401e-a2b7-2e89d2ab806b"
      },
      "outputs": [
        {
          "data": {
            "image/png": "[encoded data removed]",
            "text/plain": [
              "<Figure size 1080x720 with 1 Axes>"
            ]
          },
          "metadata": {
            "needs_background": "light"
          },
          "output_type": "display_data"
        }
      ],
      "source": [
        "top10_sales.plot(figsize=(15,10))\n",
        "plt.title('Количество продаж самых успешных платформ по годам')\n",
        "plt.xlabel('Годы')\n",
        "plt.ylabel('Сумма продаж')\n",
        "plt.show()"
      ]
    },
    {
      "cell_type": "markdown",
      "metadata": {
        "id": "dIP_GUHH1idG"
      },
      "source": [
        "PS2 продавалась с 2000 до 2011 года - 11 лет;  \n",
        "PS3 - с 2006 по настоящее время ещё живёт, но продажи движутся к нулевому значению, она начала сильно сдавать позиции в 2013 году, скорее всего из-за выхода PS4;  \n",
        "DS - вышла в 2004 году, пик популярности пришёл в 2008, конец срока службы - 2013 год - 8 лет жизни;  \n",
        "Wii - с 2006 по нынешний день, но в 2016 продажи почти нулевые -  10 лет.  \n",
        "PS - прожила с 1994 года до 2003, почти 10 лет;  \n",
        "x360 — появилась в 2005 году, в 2016 почти не продается — 9 лет;  \n",
        "GBA — с 2000 до 2007 — 7 лет;  \n",
        "PSP - 2004 до 2015 — 11 лет:  \n",
        "PS4 — появилась в 2013 и продается до сих пор;  \n",
        "PC — бессметрная платформа, аналогов которой нет.  \n",
        "\n",
        "На основании этого графика можно сказать, что **консоль живет в среднем 10 лет**. Почти каждые 10 лет выходит новая платформа, заменяющая старую."
      ]
    },
    {
      "cell_type": "markdown",
      "metadata": {
        "id": "U9Pd4_XW1idG"
      },
      "source": [
        "### Анализ актуального периода"
      ]
    },
    {
      "cell_type": "markdown",
      "metadata": {
        "id": "W1HMxU3Z1idG"
      },
      "source": [
        "Рассмотрим данные за актуальный период. Мы договорились, что это 2013-2016 г."
      ]
    },
    {
      "cell_type": "code",
      "execution_count": null,
      "metadata": {
        "id": "zEwtPgB_1idH",
        "outputId": "2523ed50-3439-4af4-e64f-b8f3cedccf78"
      },
      "outputs": [
        {
          "data": {
            "text/html": [
              "<div>\n",
              "<style scoped>\n",
              "    .dataframe tbody tr th:only-of-type {\n",
              "        vertical-align: middle;\n",
              "    }\n",
              "\n",
              "    .dataframe tbody tr th {\n",
              "        vertical-align: top;\n",
              "    }\n",
              "\n",
              "    .dataframe thead th {\n",
              "        text-align: right;\n",
              "    }\n",
              "</style>\n",
              "<table border=\"1\" class=\"dataframe\">\n",
              "  <thead>\n",
              "    <tr style=\"text-align: right;\">\n",
              "      <th></th>\n",
              "      <th>total_sales</th>\n",
              "    </tr>\n",
              "    <tr>\n",
              "      <th>platform</th>\n",
              "      <th></th>\n",
              "    </tr>\n",
              "  </thead>\n",
              "  <tbody>\n",
              "    <tr>\n",
              "      <th>ps4</th>\n",
              "      <td>314.14</td>\n",
              "    </tr>\n",
              "    <tr>\n",
              "      <th>ps3</th>\n",
              "      <td>181.43</td>\n",
              "    </tr>\n",
              "    <tr>\n",
              "      <th>xone</th>\n",
              "      <td>159.32</td>\n",
              "    </tr>\n",
              "    <tr>\n",
              "      <th>3ds</th>\n",
              "      <td>143.25</td>\n",
              "    </tr>\n",
              "    <tr>\n",
              "      <th>x360</th>\n",
              "      <td>136.80</td>\n",
              "    </tr>\n",
              "    <tr>\n",
              "      <th>wiiu</th>\n",
              "      <td>64.63</td>\n",
              "    </tr>\n",
              "    <tr>\n",
              "      <th>pc</th>\n",
              "      <td>39.43</td>\n",
              "    </tr>\n",
              "    <tr>\n",
              "      <th>psv</th>\n",
              "      <td>32.99</td>\n",
              "    </tr>\n",
              "    <tr>\n",
              "      <th>wii</th>\n",
              "      <td>13.66</td>\n",
              "    </tr>\n",
              "    <tr>\n",
              "      <th>psp</th>\n",
              "      <td>3.50</td>\n",
              "    </tr>\n",
              "  </tbody>\n",
              "</table>\n",
              "</div>"
            ],
            "text/plain": [
              "          total_sales\n",
              "platform             \n",
              "ps4            314.14\n",
              "ps3            181.43\n",
              "xone           159.32\n",
              "3ds            143.25\n",
              "x360           136.80\n",
              "wiiu            64.63\n",
              "pc              39.43\n",
              "psv             32.99\n",
              "wii             13.66\n",
              "psp              3.50"
            ]
          },
          "execution_count": 23,
          "metadata": {},
          "output_type": "execute_result"
        }
      ],
      "source": [
        "top10_platforms_actual = df.query(\"year_of_release >= 2013\").pivot_table(index='platform', values='total_sales', aggfunc='sum').nlargest(10, 'total_sales')\n",
        "top10_platforms_actual"
      ]
    },
    {
      "cell_type": "code",
      "execution_count": null,
      "metadata": {
        "id": "Z_xjrn8u1idH"
      },
      "outputs": [],
      "source": [
        "top10_sales_actual = df.query(\"(year_of_release >= 2013) and (platform in @top10_platforms_actual.index)\").pivot_table(index = 'year_of_release', columns = 'platform', values = 'total_sales', aggfunc = 'sum')"
      ]
    },
    {
      "cell_type": "code",
      "execution_count": null,
      "metadata": {
        "scrolled": false,
        "id": "rUhhTh3Q1idH",
        "outputId": "f67d67a4-e135-47d5-f2f4-1f163134e543"
      },
      "outputs": [
        {
          "data": {
            "image/png": "[encoded data removed]",
            "text/plain": [
              "<Figure size 1080x720 with 1 Axes>"
            ]
          },
          "metadata": {
            "needs_background": "light"
          },
          "output_type": "display_data"
        }
      ],
      "source": [
        "top10_sales_actual.plot(kind='bar', figsize=(15,10))\n",
        "plt.title('Количество продаж самых успешных платформ 2013-2016 гг.')\n",
        "plt.xlabel('Годы')\n",
        "plt.ylabel('Сумма продаж')\n",
        "plt.show()"
      ]
    },
    {
      "cell_type": "markdown",
      "metadata": {
        "id": "3qjiws6Q1idH"
      },
      "source": [
        "С 2014 большая доля продаж у PS4, XOne — её главный конкурент. А лидеры по продажам 2013 года: PS3 и X360, — к 2015-2016 гг. уже исчерпали свой коммерческий ресурс, продажи же PSP (грущу 🥺) и Wii совсем почти прекратились."
      ]
    },
    {
      "cell_type": "markdown",
      "metadata": {
        "id": "Y5dRDjBc1idI"
      },
      "source": [
        "### Глобальные продажи всех игр по платформам за актуальный период"
      ]
    },
    {
      "cell_type": "markdown",
      "metadata": {
        "id": "hcFLrxOw1idI"
      },
      "source": [
        "Теперь посмотрим глобальные продажи всех игр по платформам за актуальный период и построим ящик с усами в разбивке по платформам."
      ]
    },
    {
      "cell_type": "code",
      "execution_count": null,
      "metadata": {
        "id": "tzrX3Qcc1idI",
        "outputId": "eecd2658-b7f4-4719-9cb7-ac2694710dca"
      },
      "outputs": [
        {
          "data": {
            "text/plain": [
              "(0.0, 2.0)"
            ]
          },
          "execution_count": 26,
          "metadata": {},
          "output_type": "execute_result"
        },
        {
          "data": {
            "image/png": "[encoded data removed]",
            "text/plain": [
              "<Figure size 864x432 with 1 Axes>"
            ]
          },
          "metadata": {
            "needs_background": "light"
          },
          "output_type": "display_data"
        }
      ],
      "source": [
        "actual_games = df.query('year_of_release >= 2013')\n",
        "\n",
        "\n",
        "sns.catplot(x=\"platform\",\n",
        "            y='total_sales',\n",
        "            kind=\"box\",\n",
        "            data=actual_games,\n",
        "            orient='v',\n",
        "            height=6,\n",
        "            aspect=2)\n",
        "plt.title('Количество продаж 2013-2016 гг.')\n",
        "plt.ylim(0, 2)"
      ]
    },
    {
      "cell_type": "markdown",
      "metadata": {
        "id": "rw1AjISu1idI"
      },
      "source": [
        "<div class=\"alert alert-success\">\n",
        "<font size=\"5\"><b>Комментарий ревьюера</b></font>\n",
        "\n",
        "\n",
        "Успех:\n",
        "\n",
        "plt.ylim(0, 2) - правильно сделала, подумав о лучшей визуализаци boxplot. По твоему графику видны различия и по медиане и по квантилям и присутствует важная информация по выбросам. Молодец.\n",
        "    \n",
        "Еще лучше было построить 2 графика:\n",
        "    \n",
        "1. с ограниченными данными (без выбросов, чтобы оценить квартили по платформам)\n",
        "    \n",
        "2. с выбросами (именно выбросы вытягивают вверх средние продажи по платформам)\n",
        "\n",
        "\n",
        "</div>"
      ]
    },
    {
      "cell_type": "markdown",
      "metadata": {
        "id": "okMCIc9c1idI"
      },
      "source": [
        "Медиана на ящиках всех платформ находится ближе к нижнему квантилю, это значит, что преобладают игры с небольшими продажами. Это не обязательно малопопулярные игры, могут быть дорогие эксклюзивы, например.\n",
        "\n",
        "Выбросами же могут быть как мегапопулярные игры, так и какие-то мелкие, но очень дешёвые."
      ]
    },
    {
      "cell_type": "code",
      "execution_count": null,
      "metadata": {
        "id": "QIxcyZWa1idJ",
        "outputId": "7d49072b-5514-4212-ae41-1c8618404167"
      },
      "outputs": [
        {
          "data": {
            "text/html": [
              "<div>\n",
              "<style scoped>\n",
              "    .dataframe tbody tr th:only-of-type {\n",
              "        vertical-align: middle;\n",
              "    }\n",
              "\n",
              "    .dataframe tbody tr th {\n",
              "        vertical-align: top;\n",
              "    }\n",
              "\n",
              "    .dataframe thead th {\n",
              "        text-align: right;\n",
              "    }\n",
              "</style>\n",
              "<table border=\"1\" class=\"dataframe\">\n",
              "  <thead>\n",
              "    <tr style=\"text-align: right;\">\n",
              "      <th></th>\n",
              "      <th>total_sales</th>\n",
              "    </tr>\n",
              "    <tr>\n",
              "      <th>platform</th>\n",
              "      <th></th>\n",
              "    </tr>\n",
              "  </thead>\n",
              "  <tbody>\n",
              "    <tr>\n",
              "      <th>ps4</th>\n",
              "      <td>314.14</td>\n",
              "    </tr>\n",
              "    <tr>\n",
              "      <th>ps3</th>\n",
              "      <td>181.43</td>\n",
              "    </tr>\n",
              "    <tr>\n",
              "      <th>xone</th>\n",
              "      <td>159.32</td>\n",
              "    </tr>\n",
              "    <tr>\n",
              "      <th>3ds</th>\n",
              "      <td>143.25</td>\n",
              "    </tr>\n",
              "    <tr>\n",
              "      <th>x360</th>\n",
              "      <td>136.80</td>\n",
              "    </tr>\n",
              "    <tr>\n",
              "      <th>wiiu</th>\n",
              "      <td>64.63</td>\n",
              "    </tr>\n",
              "    <tr>\n",
              "      <th>pc</th>\n",
              "      <td>39.43</td>\n",
              "    </tr>\n",
              "    <tr>\n",
              "      <th>psv</th>\n",
              "      <td>32.99</td>\n",
              "    </tr>\n",
              "    <tr>\n",
              "      <th>wii</th>\n",
              "      <td>13.66</td>\n",
              "    </tr>\n",
              "    <tr>\n",
              "      <th>psp</th>\n",
              "      <td>3.50</td>\n",
              "    </tr>\n",
              "  </tbody>\n",
              "</table>\n",
              "</div>"
            ],
            "text/plain": [
              "          total_sales\n",
              "platform             \n",
              "ps4            314.14\n",
              "ps3            181.43\n",
              "xone           159.32\n",
              "3ds            143.25\n",
              "x360           136.80\n",
              "wiiu            64.63\n",
              "pc              39.43\n",
              "psv             32.99\n",
              "wii             13.66\n",
              "psp              3.50"
            ]
          },
          "execution_count": 27,
          "metadata": {},
          "output_type": "execute_result"
        }
      ],
      "source": [
        "top10_platforms_actual"
      ]
    },
    {
      "cell_type": "markdown",
      "metadata": {
        "id": "ocO8gobx1idJ"
      },
      "source": [
        "Лидеры по продажам за актуальный период: PS4, PS3 и XOne. Доходы от продаж игр на PSP (10 место) составляют лишь 1.1% от лидера — PS4.\n",
        "\n",
        "Мне кажется, главная причина этому — лёгкость установки пиратской прошивки."
      ]
    },
    {
      "cell_type": "markdown",
      "metadata": {
        "id": "UXFp5BGw1idK"
      },
      "source": [
        "### Влияние отзывов игроков и критиков на продажи PS4"
      ]
    },
    {
      "cell_type": "markdown",
      "metadata": {
        "id": "ZADFf0F_1idK"
      },
      "source": [
        "Рассмотрим влияние отзывов пользователей и критиков на продажи игр на примере платформы PS4 - лидера по продажам в актуальный период"
      ]
    },
    {
      "cell_type": "code",
      "execution_count": null,
      "metadata": {
        "scrolled": true,
        "id": "yk1wk4_K1idK",
        "outputId": "daa8113b-5602-4bd2-cfbe-289b39bc376c"
      },
      "outputs": [
        {
          "data": {
            "text/html": [
              "<div>\n",
              "<style scoped>\n",
              "    .dataframe tbody tr th:only-of-type {\n",
              "        vertical-align: middle;\n",
              "    }\n",
              "\n",
              "    .dataframe tbody tr th {\n",
              "        vertical-align: top;\n",
              "    }\n",
              "\n",
              "    .dataframe thead th {\n",
              "        text-align: right;\n",
              "    }\n",
              "</style>\n",
              "<table border=\"1\" class=\"dataframe\">\n",
              "  <thead>\n",
              "    <tr style=\"text-align: right;\">\n",
              "      <th></th>\n",
              "      <th>name</th>\n",
              "      <th>platform</th>\n",
              "      <th>year_of_release</th>\n",
              "      <th>genre</th>\n",
              "      <th>na_sales</th>\n",
              "      <th>eu_sales</th>\n",
              "      <th>jp_sales</th>\n",
              "      <th>other_sales</th>\n",
              "      <th>critic_score</th>\n",
              "      <th>user_score</th>\n",
              "      <th>rating</th>\n",
              "      <th>total_sales</th>\n",
              "    </tr>\n",
              "  </thead>\n",
              "  <tbody>\n",
              "    <tr>\n",
              "      <th>42</th>\n",
              "      <td>grand theft auto v</td>\n",
              "      <td>ps4</td>\n",
              "      <td>2014</td>\n",
              "      <td>action</td>\n",
              "      <td>3.96</td>\n",
              "      <td>6.31</td>\n",
              "      <td>0.38</td>\n",
              "      <td>1.97</td>\n",
              "      <td>97.0</td>\n",
              "      <td>8.3</td>\n",
              "      <td>m</td>\n",
              "      <td>12.62</td>\n",
              "    </tr>\n",
              "    <tr>\n",
              "      <th>77</th>\n",
              "      <td>fifa 16</td>\n",
              "      <td>ps4</td>\n",
              "      <td>2015</td>\n",
              "      <td>sports</td>\n",
              "      <td>1.12</td>\n",
              "      <td>6.12</td>\n",
              "      <td>0.06</td>\n",
              "      <td>1.28</td>\n",
              "      <td>82.0</td>\n",
              "      <td>4.3</td>\n",
              "      <td>e</td>\n",
              "      <td>8.58</td>\n",
              "    </tr>\n",
              "    <tr>\n",
              "      <th>92</th>\n",
              "      <td>call of duty: advanced warfare</td>\n",
              "      <td>ps4</td>\n",
              "      <td>2014</td>\n",
              "      <td>shooter</td>\n",
              "      <td>2.81</td>\n",
              "      <td>3.48</td>\n",
              "      <td>0.14</td>\n",
              "      <td>1.23</td>\n",
              "      <td>83.0</td>\n",
              "      <td>5.7</td>\n",
              "      <td>m</td>\n",
              "      <td>7.66</td>\n",
              "    </tr>\n",
              "    <tr>\n",
              "      <th>94</th>\n",
              "      <td>fifa 17</td>\n",
              "      <td>ps4</td>\n",
              "      <td>2016</td>\n",
              "      <td>sports</td>\n",
              "      <td>0.66</td>\n",
              "      <td>5.75</td>\n",
              "      <td>0.08</td>\n",
              "      <td>1.11</td>\n",
              "      <td>85.0</td>\n",
              "      <td>5.0</td>\n",
              "      <td>e</td>\n",
              "      <td>7.60</td>\n",
              "    </tr>\n",
              "    <tr>\n",
              "      <th>105</th>\n",
              "      <td>fallout 4</td>\n",
              "      <td>ps4</td>\n",
              "      <td>2015</td>\n",
              "      <td>role-playing</td>\n",
              "      <td>2.53</td>\n",
              "      <td>3.27</td>\n",
              "      <td>0.24</td>\n",
              "      <td>1.13</td>\n",
              "      <td>87.0</td>\n",
              "      <td>6.5</td>\n",
              "      <td>m</td>\n",
              "      <td>7.17</td>\n",
              "    </tr>\n",
              "    <tr>\n",
              "      <th>143</th>\n",
              "      <td>fifa 15</td>\n",
              "      <td>ps4</td>\n",
              "      <td>2014</td>\n",
              "      <td>sports</td>\n",
              "      <td>0.80</td>\n",
              "      <td>4.33</td>\n",
              "      <td>0.05</td>\n",
              "      <td>0.90</td>\n",
              "      <td>82.0</td>\n",
              "      <td>5.7</td>\n",
              "      <td>e</td>\n",
              "      <td>6.08</td>\n",
              "    </tr>\n",
              "    <tr>\n",
              "      <th>154</th>\n",
              "      <td>destiny</td>\n",
              "      <td>ps4</td>\n",
              "      <td>2014</td>\n",
              "      <td>shooter</td>\n",
              "      <td>2.49</td>\n",
              "      <td>2.07</td>\n",
              "      <td>0.16</td>\n",
              "      <td>0.92</td>\n",
              "      <td>76.0</td>\n",
              "      <td>6.1</td>\n",
              "      <td>t</td>\n",
              "      <td>5.64</td>\n",
              "    </tr>\n",
              "    <tr>\n",
              "      <th>171</th>\n",
              "      <td>uncharted 4: a thief's end</td>\n",
              "      <td>ps4</td>\n",
              "      <td>2016</td>\n",
              "      <td>shooter</td>\n",
              "      <td>1.85</td>\n",
              "      <td>2.50</td>\n",
              "      <td>0.19</td>\n",
              "      <td>0.85</td>\n",
              "      <td>93.0</td>\n",
              "      <td>7.9</td>\n",
              "      <td>t</td>\n",
              "      <td>5.39</td>\n",
              "    </tr>\n",
              "    <tr>\n",
              "      <th>231</th>\n",
              "      <td>uncharted: the nathan drake collection</td>\n",
              "      <td>ps4</td>\n",
              "      <td>2015</td>\n",
              "      <td>action</td>\n",
              "      <td>2.07</td>\n",
              "      <td>1.71</td>\n",
              "      <td>0.08</td>\n",
              "      <td>0.76</td>\n",
              "      <td>86.0</td>\n",
              "      <td>8.1</td>\n",
              "      <td>t</td>\n",
              "      <td>4.62</td>\n",
              "    </tr>\n",
              "    <tr>\n",
              "      <th>245</th>\n",
              "      <td>call of duty: infinite warfare</td>\n",
              "      <td>ps4</td>\n",
              "      <td>2016</td>\n",
              "      <td>shooter</td>\n",
              "      <td>1.61</td>\n",
              "      <td>2.00</td>\n",
              "      <td>0.15</td>\n",
              "      <td>0.71</td>\n",
              "      <td>77.0</td>\n",
              "      <td>3.4</td>\n",
              "      <td>m</td>\n",
              "      <td>4.47</td>\n",
              "    </tr>\n",
              "  </tbody>\n",
              "</table>\n",
              "</div>"
            ],
            "text/plain": [
              "                                       name platform  year_of_release  \\\n",
              "42                       grand theft auto v      ps4             2014   \n",
              "77                                  fifa 16      ps4             2015   \n",
              "92           call of duty: advanced warfare      ps4             2014   \n",
              "94                                  fifa 17      ps4             2016   \n",
              "105                               fallout 4      ps4             2015   \n",
              "143                                 fifa 15      ps4             2014   \n",
              "154                                 destiny      ps4             2014   \n",
              "171              uncharted 4: a thief's end      ps4             2016   \n",
              "231  uncharted: the nathan drake collection      ps4             2015   \n",
              "245          call of duty: infinite warfare      ps4             2016   \n",
              "\n",
              "            genre  na_sales  eu_sales  jp_sales  other_sales  critic_score  \\\n",
              "42         action      3.96      6.31      0.38         1.97          97.0   \n",
              "77         sports      1.12      6.12      0.06         1.28          82.0   \n",
              "92        shooter      2.81      3.48      0.14         1.23          83.0   \n",
              "94         sports      0.66      5.75      0.08         1.11          85.0   \n",
              "105  role-playing      2.53      3.27      0.24         1.13          87.0   \n",
              "143        sports      0.80      4.33      0.05         0.90          82.0   \n",
              "154       shooter      2.49      2.07      0.16         0.92          76.0   \n",
              "171       shooter      1.85      2.50      0.19         0.85          93.0   \n",
              "231        action      2.07      1.71      0.08         0.76          86.0   \n",
              "245       shooter      1.61      2.00      0.15         0.71          77.0   \n",
              "\n",
              "     user_score rating  total_sales  \n",
              "42          8.3      m        12.62  \n",
              "77          4.3      e         8.58  \n",
              "92          5.7      m         7.66  \n",
              "94          5.0      e         7.60  \n",
              "105         6.5      m         7.17  \n",
              "143         5.7      e         6.08  \n",
              "154         6.1      t         5.64  \n",
              "171         7.9      t         5.39  \n",
              "231         8.1      t         4.62  \n",
              "245         3.4      m         4.47  "
            ]
          },
          "execution_count": 28,
          "metadata": {},
          "output_type": "execute_result"
        }
      ],
      "source": [
        "ps4 = actual_games.query('platform == \"ps4\" and (user_score != -1) and (critic_score != -1)')\n",
        "ps4.head(10)"
      ]
    },
    {
      "cell_type": "code",
      "execution_count": null,
      "metadata": {
        "id": "T7hFg2Ix1idK",
        "outputId": "18b354ec-c4de-4ca1-b275-69a4e0c60812"
      },
      "outputs": [
        {
          "name": "stdout",
          "output_type": "stream",
          "text": [
            "-0.03\n",
            "0.41\n"
          ]
        }
      ],
      "source": [
        "for column in ['user_score', 'critic_score']:\n",
        "    print(round(ps4[column].corr(ps4['total_sales']), 2))"
      ]
    },
    {
      "cell_type": "code",
      "execution_count": null,
      "metadata": {
        "id": "Nyq1VOiK1idL",
        "outputId": "c8aa3b70-81bb-4b1e-eab0-930e1079fb41"
      },
      "outputs": [
        {
          "data": {
            "text/plain": [
              "Text(0.5, 1.0, 'Влияние отзывов критиков на продажи')"
            ]
          },
          "execution_count": 30,
          "metadata": {},
          "output_type": "execute_result"
        },
        {
          "data": {
            "image/png": "[encoded data removed]",
            "text/plain": [
              "<Figure size 360x360 with 1 Axes>"
            ]
          },
          "metadata": {
            "needs_background": "light"
          },
          "output_type": "display_data"
        },
        {
          "data": {
            "image/png": "[encoded data removed]",
            "text/plain": [
              "<Figure size 360x360 with 1 Axes>"
            ]
          },
          "metadata": {
            "needs_background": "light"
          },
          "output_type": "display_data"
        }
      ],
      "source": [
        "sns.relplot(x='user_score', y=\"total_sales\", data=ps4)\n",
        "plt.title('Влияние отзывов пользователей на продажи')\n",
        "\n",
        "sns.relplot(x='critic_score', y=\"total_sales\", data=ps4)\n",
        "plt.title('Влияние отзывов критиков на продажи')"
      ]
    },
    {
      "cell_type": "markdown",
      "metadata": {
        "id": "rVKOc4sm1idL"
      },
      "source": [
        "У отзывов пользователей отрицательная корреляция, но она настолько мала, что можно сказать, что они никак не влияют на продажи игр.\n",
        "А вот отзывы критиков, наоборот, имеют некоторый вес в продажах: чем лучше отзывы, тем больше продаж."
      ]
    },
    {
      "cell_type": "markdown",
      "metadata": {
        "id": "zi4yUk3-1idL"
      },
      "source": [
        "### Сравнение выводов для PS4 с продажами игр для других платформ:"
      ]
    },
    {
      "cell_type": "code",
      "execution_count": null,
      "metadata": {
        "id": "7bWYhhRO1idL",
        "outputId": "18e67fa8-3727-4328-ddfe-d4e5592a8784"
      },
      "outputs": [
        {
          "data": {
            "text/html": [
              "<div>\n",
              "<style scoped>\n",
              "    .dataframe tbody tr th:only-of-type {\n",
              "        vertical-align: middle;\n",
              "    }\n",
              "\n",
              "    .dataframe tbody tr th {\n",
              "        vertical-align: top;\n",
              "    }\n",
              "\n",
              "    .dataframe thead th {\n",
              "        text-align: right;\n",
              "    }\n",
              "</style>\n",
              "<table border=\"1\" class=\"dataframe\">\n",
              "  <thead>\n",
              "    <tr style=\"text-align: right;\">\n",
              "      <th></th>\n",
              "      <th>total_sales</th>\n",
              "    </tr>\n",
              "    <tr>\n",
              "      <th>platform</th>\n",
              "      <th></th>\n",
              "    </tr>\n",
              "  </thead>\n",
              "  <tbody>\n",
              "    <tr>\n",
              "      <th>ps4</th>\n",
              "      <td>314.14</td>\n",
              "    </tr>\n",
              "    <tr>\n",
              "      <th>ps3</th>\n",
              "      <td>181.43</td>\n",
              "    </tr>\n",
              "    <tr>\n",
              "      <th>xone</th>\n",
              "      <td>159.32</td>\n",
              "    </tr>\n",
              "    <tr>\n",
              "      <th>3ds</th>\n",
              "      <td>143.25</td>\n",
              "    </tr>\n",
              "    <tr>\n",
              "      <th>x360</th>\n",
              "      <td>136.80</td>\n",
              "    </tr>\n",
              "    <tr>\n",
              "      <th>wiiu</th>\n",
              "      <td>64.63</td>\n",
              "    </tr>\n",
              "    <tr>\n",
              "      <th>pc</th>\n",
              "      <td>39.43</td>\n",
              "    </tr>\n",
              "    <tr>\n",
              "      <th>psv</th>\n",
              "      <td>32.99</td>\n",
              "    </tr>\n",
              "    <tr>\n",
              "      <th>wii</th>\n",
              "      <td>13.66</td>\n",
              "    </tr>\n",
              "    <tr>\n",
              "      <th>psp</th>\n",
              "      <td>3.50</td>\n",
              "    </tr>\n",
              "  </tbody>\n",
              "</table>\n",
              "</div>"
            ],
            "text/plain": [
              "          total_sales\n",
              "platform             \n",
              "ps4            314.14\n",
              "ps3            181.43\n",
              "xone           159.32\n",
              "3ds            143.25\n",
              "x360           136.80\n",
              "wiiu            64.63\n",
              "pc              39.43\n",
              "psv             32.99\n",
              "wii             13.66\n",
              "psp              3.50"
            ]
          },
          "execution_count": 31,
          "metadata": {},
          "output_type": "execute_result"
        }
      ],
      "source": [
        "top10_platforms_actual"
      ]
    },
    {
      "cell_type": "code",
      "execution_count": null,
      "metadata": {
        "id": "0q2QqaQY1idM",
        "outputId": "52a07350-021f-4596-917f-285bd816dcc2"
      },
      "outputs": [
        {
          "name": "stdout",
          "output_type": "stream",
          "text": [
            "ps3\n",
            "Коэффициент корреляции user_score и total_sales: 0.0\n",
            "Коэффициент корреляции critic_score и total_sales: 0.33\n",
            "xone\n",
            "Коэффициент корреляции user_score и total_sales: -0.07\n",
            "Коэффициент корреляции critic_score и total_sales: 0.41\n",
            "x360\n",
            "Коэффициент корреляции user_score и total_sales: -0.01\n",
            "Коэффициент корреляции critic_score и total_sales: 0.35\n",
            "wiiu\n",
            "Коэффициент корреляции user_score и total_sales: 0.42\n",
            "Коэффициент корреляции critic_score и total_sales: 0.38\n",
            "psp\n",
            "Коэффициент корреляции user_score и total_sales: -1.0\n",
            "Коэффициент корреляции critic_score и total_sales: nan\n"
          ]
        },
        {
          "name": "stderr",
          "output_type": "stream",
          "text": [
            "/opt/conda/lib/python3.9/site-packages/numpy/lib/function_base.py:2683: RuntimeWarning: Degrees of freedom <= 0 for slice\n",
            "  c = cov(x, y, rowvar, dtype=dtype)\n",
            "/opt/conda/lib/python3.9/site-packages/numpy/lib/function_base.py:2542: RuntimeWarning: divide by zero encountered in true_divide\n",
            "  c *= np.true_divide(1, fact)\n"
          ]
        },
        {
          "name": "stdout",
          "output_type": "stream",
          "text": [
            "pc\n",
            "Коэффициент корреляции user_score и total_sales: -0.09\n",
            "Коэффициент корреляции critic_score и total_sales: 0.19\n",
            "3ds\n",
            "Коэффициент корреляции user_score и total_sales: 0.24\n",
            "Коэффициент корреляции critic_score и total_sales: 0.34\n",
            "psv\n",
            "Коэффициент корреляции user_score и total_sales: 0.0\n",
            "Коэффициент корреляции critic_score и total_sales: 0.25\n",
            "wii\n",
            "Коэффициент корреляции user_score и total_sales: 0.68\n",
            "Коэффициент корреляции critic_score и total_sales: nan\n"
          ]
        },
        {
          "data": {
            "image/png": "[encoded data removed]",
            "text/plain": [
              "<Figure size 360x360 with 1 Axes>"
            ]
          },
          "metadata": {
            "needs_background": "light"
          },
          "output_type": "display_data"
        },
        {
          "data": {
            "image/png": "[encoded data removed]",
            "text/plain": [
              "<Figure size 360x360 with 1 Axes>"
            ]
          },
          "metadata": {
            "needs_background": "light"
          },
          "output_type": "display_data"
        },
        {
          "data": {
            "image/png": "[encoded data removed]",
            "text/plain": [
              "<Figure size 360x360 with 1 Axes>"
            ]
          },
          "metadata": {
            "needs_background": "light"
          },
          "output_type": "display_data"
        },
        {
          "data": {
            "image/png": "[encoded data removed]",
            "text/plain": [
              "<Figure size 360x360 with 1 Axes>"
            ]
          },
          "metadata": {
            "needs_background": "light"
          },
          "output_type": "display_data"
        },
        {
          "data": {
            "image/png": "[encoded data removed]",
            "text/plain": [
              "<Figure size 360x360 with 1 Axes>"
            ]
          },
          "metadata": {
            "needs_background": "light"
          },
          "output_type": "display_data"
        },
        {
          "data": {
            "image/png": "[encoded data removed]",
            "text/plain": [
              "<Figure size 360x360 with 1 Axes>"
            ]
          },
          "metadata": {
            "needs_background": "light"
          },
          "output_type": "display_data"
        },
        {
          "data": {
            "image/png": "[encoded data removed]",
            "text/plain": [
              "<Figure size 360x360 with 1 Axes>"
            ]
          },
          "metadata": {
            "needs_background": "light"
          },
          "output_type": "display_data"
        },
        {
          "data": {
            "image/png": "[encoded data removed]",
            "text/plain": [
              "<Figure size 360x360 with 1 Axes>"
            ]
          },
          "metadata": {
            "needs_background": "light"
          },
          "output_type": "display_data"
        },
        {
          "data": {
            "image/png": "[encoded data removed]",
            "text/plain": [
              "<Figure size 360x360 with 1 Axes>"
            ]
          },
          "metadata": {
            "needs_background": "light"
          },
          "output_type": "display_data"
        },
        {
          "data": {
            "image/png": "[encoded data removed]",
            "text/plain": [
              "<Figure size 360x360 with 1 Axes>"
            ]
          },
          "metadata": {
            "needs_background": "light"
          },
          "output_type": "display_data"
        },
        {
          "data": {
            "image/png": "[encoded data removed]",
            "text/plain": [
              "<Figure size 360x360 with 1 Axes>"
            ]
          },
          "metadata": {
            "needs_background": "light"
          },
          "output_type": "display_data"
        },
        {
          "data": {
            "image/png": "[encoded data removed]",
            "text/plain": [
              "<Figure size 360x360 with 1 Axes>"
            ]
          },
          "metadata": {
            "needs_background": "light"
          },
          "output_type": "display_data"
        },
        {
          "data": {
            "image/png": "[encoded data removed]",
            "text/plain": [
              "<Figure size 360x360 with 1 Axes>"
            ]
          },
          "metadata": {
            "needs_background": "light"
          },
          "output_type": "display_data"
        },
        {
          "data": {
            "image/png": "[encoded data removed]",
            "text/plain": [
              "<Figure size 360x360 with 1 Axes>"
            ]
          },
          "metadata": {
            "needs_background": "light"
          },
          "output_type": "display_data"
        },
        {
          "data": {
            "image/png": "[encoded data removed]",
            "text/plain": [
              "<Figure size 360x360 with 1 Axes>"
            ]
          },
          "metadata": {
            "needs_background": "light"
          },
          "output_type": "display_data"
        },
        {
          "data": {
            "image/png": "[encoded data removed]",
            "text/plain": [
              "<Figure size 360x360 with 1 Axes>"
            ]
          },
          "metadata": {
            "needs_background": "light"
          },
          "output_type": "display_data"
        },
        {
          "data": {
            "image/png": "[encoded data removed]",
            "text/plain": [
              "<Figure size 360x360 with 1 Axes>"
            ]
          },
          "metadata": {
            "needs_background": "light"
          },
          "output_type": "display_data"
        },
        {
          "data": {
            "image/png": "[encoded data removed]",
            "text/plain": [
              "<Figure size 360x360 with 1 Axes>"
            ]
          },
          "metadata": {
            "needs_background": "light"
          },
          "output_type": "display_data"
        }
      ],
      "source": [
        "for platform in ['ps3', 'xone', 'x360', 'wiiu', 'psp', 'pc', '3ds', 'psv','wii']:\n",
        "    print(platform)\n",
        "    for column in ['user_score', 'critic_score']:\n",
        "        oth_plat = actual_games.query('platform == @platform and (user_score != -1) and (critic_score != -1)')\n",
        "        print('Коэффициент корреляции {0} и total_sales: {1}'.\\\n",
        "              format(column, round(oth_plat[column].corr(oth_plat['total_sales']), 2)))\n",
        "        sns.relplot(x=column, y=\"total_sales\", data=oth_plat)\n",
        "        plt.title(platform)"
      ]
    },
    {
      "cell_type": "markdown",
      "metadata": {
        "id": "hfwue29e1idM"
      },
      "source": [
        "Какие-то данные потерялись, это значит, что для игр этих платформ не было информации по рейтингам.  \n",
        "\n",
        "По графикам примерно такая же картина: отзывы пользователей не влияют на продажи, а отзывы критиков — наоборот.\n",
        "\n",
        "Возможно, это связано с авторитетом автора отзыва или же с субьективновстью: обычный юзер, если ему не нравится, опишет, почему игра не очень, и вряд ли продолжит играть дальше, а критик обязан рассмотреть игру в целом и развёрнуто написать о том, что в игре сделано хорошо, а что плохо.\n",
        "\n",
        "*Интересно было бы посмотреть современные данные, изменилось ли что-нибудь. Если раньше отзывы критиков были более-менее независимы, то сейчас очевидно сильнее на них влияют занесённые деньги и текущая повесточка*"
      ]
    },
    {
      "cell_type": "markdown",
      "metadata": {
        "id": "8t27u_VC1idM"
      },
      "source": [
        "### Распределение игр по жанрам"
      ]
    },
    {
      "cell_type": "code",
      "execution_count": null,
      "metadata": {
        "id": "SuI82sZk1idM",
        "outputId": "442ea71d-7fba-432b-f8d0-e19a67400236"
      },
      "outputs": [
        {
          "data": {
            "text/html": [
              "<div>\n",
              "<style scoped>\n",
              "    .dataframe tbody tr th:only-of-type {\n",
              "        vertical-align: middle;\n",
              "    }\n",
              "\n",
              "    .dataframe tbody tr th {\n",
              "        vertical-align: top;\n",
              "    }\n",
              "\n",
              "    .dataframe thead th {\n",
              "        text-align: right;\n",
              "    }\n",
              "</style>\n",
              "<table border=\"1\" class=\"dataframe\">\n",
              "  <thead>\n",
              "    <tr style=\"text-align: right;\">\n",
              "      <th></th>\n",
              "      <th>total_sales</th>\n",
              "    </tr>\n",
              "    <tr>\n",
              "      <th>genre</th>\n",
              "      <th></th>\n",
              "    </tr>\n",
              "  </thead>\n",
              "  <tbody>\n",
              "    <tr>\n",
              "      <th>action</th>\n",
              "      <td>321.87</td>\n",
              "    </tr>\n",
              "    <tr>\n",
              "      <th>shooter</th>\n",
              "      <td>232.98</td>\n",
              "    </tr>\n",
              "    <tr>\n",
              "      <th>sports</th>\n",
              "      <td>150.65</td>\n",
              "    </tr>\n",
              "    <tr>\n",
              "      <th>role-playing</th>\n",
              "      <td>145.89</td>\n",
              "    </tr>\n",
              "    <tr>\n",
              "      <th>misc</th>\n",
              "      <td>62.82</td>\n",
              "    </tr>\n",
              "    <tr>\n",
              "      <th>platform</th>\n",
              "      <td>42.63</td>\n",
              "    </tr>\n",
              "    <tr>\n",
              "      <th>racing</th>\n",
              "      <td>39.89</td>\n",
              "    </tr>\n",
              "    <tr>\n",
              "      <th>fighting</th>\n",
              "      <td>35.31</td>\n",
              "    </tr>\n",
              "    <tr>\n",
              "      <th>adventure</th>\n",
              "      <td>23.64</td>\n",
              "    </tr>\n",
              "    <tr>\n",
              "      <th>simulation</th>\n",
              "      <td>21.76</td>\n",
              "    </tr>\n",
              "    <tr>\n",
              "      <th>strategy</th>\n",
              "      <td>10.08</td>\n",
              "    </tr>\n",
              "    <tr>\n",
              "      <th>puzzle</th>\n",
              "      <td>3.17</td>\n",
              "    </tr>\n",
              "  </tbody>\n",
              "</table>\n",
              "</div>"
            ],
            "text/plain": [
              "              total_sales\n",
              "genre                    \n",
              "action             321.87\n",
              "shooter            232.98\n",
              "sports             150.65\n",
              "role-playing       145.89\n",
              "misc                62.82\n",
              "platform            42.63\n",
              "racing              39.89\n",
              "fighting            35.31\n",
              "adventure           23.64\n",
              "simulation          21.76\n",
              "strategy            10.08\n",
              "puzzle               3.17"
            ]
          },
          "execution_count": 33,
          "metadata": {},
          "output_type": "execute_result"
        }
      ],
      "source": [
        "genre_sales = actual_games.pivot_table(index='genre', values='total_sales', aggfunc='sum')\n",
        "genre_sales.sort_values('total_sales', ascending=False)"
      ]
    },
    {
      "cell_type": "code",
      "execution_count": null,
      "metadata": {
        "id": "fH-L2gEL1idM",
        "outputId": "3f78da2e-cd2b-44c6-ba83-d969bd9bdbde"
      },
      "outputs": [
        {
          "data": {
            "text/plain": [
              "(0.0, 3.5)"
            ]
          },
          "execution_count": 34,
          "metadata": {},
          "output_type": "execute_result"
        },
        {
          "data": {
            "image/png": "[encoded data removed]",
            "text/plain": [
              "<Figure size 864x432 with 1 Axes>"
            ]
          },
          "metadata": {
            "needs_background": "light"
          },
          "output_type": "display_data"
        }
      ],
      "source": [
        "sns.catplot(x=\"genre\",\n",
        "            y='total_sales',\n",
        "            kind=\"box\",\n",
        "            data=actual_games,\n",
        "            orient='v',\n",
        "            height=6,\n",
        "            aspect=2)\n",
        "plt.title('Количество продаж игр по жанрам 2013-2016 гг.')\n",
        "plt.ylim(0, 3.5)"
      ]
    },
    {
      "cell_type": "markdown",
      "metadata": {
        "id": "ElnEGkrB1idN"
      },
      "source": [
        "Больше всего продаж у жанра экшн. По средним продажам лидирует по сравнению с остальными жанрами игр шутер, а экшен, наоборот, отстает, но является в целом популярным жанром из-за наибольшего объема продаж. Адвенчуры и головоломки не пользуются большой популярностью: их абсолютные и средние продажи одни из самых низких среди всех жанров.\n",
        "\n",
        "Эти жанры в актуальном периоде начали кочевать на мобильные телефоны и планшеты и живут в основном за счёт внутриигровых покупок, а сами условно бесплатны."
      ]
    },
    {
      "cell_type": "markdown",
      "metadata": {
        "id": "hcxjg-Y81idN"
      },
      "source": [
        "<div class=\"alert alert-success\"> Успех:\n",
        "\n",
        "Правильно использовала два вида показателей (абсолютный и относительный). Хорошее пользование всеми возможными графиками чтобы ответить на поставленный вопрос.\n",
        "\n",
        "Медианные (средние) для анализа важней, потому что на какие на какие множители можно разложить суммарный результат? Это средняя продажа игр в этом жанре на количество игр в этом жанре. То есть за высокими продажами какого-то жанра могут скрываться множество мелких игры, с низкими продажами. А за низкими суммарными продажами в жанре может скрываться небольшое число игры, но каждая из которых имеет высокие доходы.\n",
        "\n",
        "Небольшой вопрос \"на подумать\", как должен выглядеть boxplot (помимо высокой медианы) идеального жанра, чтобы минимизировать риск неудачного выбора игры?\n",
        "\n",
        "</div>\n"
      ]
    },
    {
      "cell_type": "markdown",
      "metadata": {
        "id": "WqI3PBhI1idN"
      },
      "source": [
        "### Составление портрета для пользователей каждого региона (NA, EU, JP)"
      ]
    },
    {
      "cell_type": "markdown",
      "metadata": {
        "id": "ZrX-nQsm1idN"
      },
      "source": [
        "Что определяем:\n",
        "- Самые популярные платформы (топ-5).\n",
        "- Самые популярные жанры (топ-5).\n",
        "- Влияет ли рейтинг ESRB на продажи в отдельном регионе."
      ]
    },
    {
      "cell_type": "markdown",
      "metadata": {
        "id": "k-mT0aFE1idN"
      },
      "source": [
        "### Самые популярные платформы (топ-5)"
      ]
    },
    {
      "cell_type": "code",
      "execution_count": null,
      "metadata": {
        "id": "XFo3nwqp1idN",
        "outputId": "7c5089a0-b693-4195-d76f-0aa01f65d1c4"
      },
      "outputs": [
        {
          "name": "stdout",
          "output_type": "stream",
          "text": [
            "          na_sales\n",
            "platform          \n",
            "ps4         108.74\n",
            "xone         93.12\n",
            "x360         81.66\n",
            "ps3          63.50\n",
            "3ds          38.20\n",
            "          eu_sales\n",
            "platform          \n",
            "ps4         141.09\n",
            "ps3          67.81\n",
            "xone         51.59\n",
            "x360         42.52\n",
            "3ds          30.96\n",
            "          jp_sales\n",
            "platform          \n",
            "3ds          67.81\n",
            "ps3          23.35\n",
            "psv          18.59\n",
            "ps4          15.96\n",
            "wiiu         10.88\n"
          ]
        }
      ],
      "source": [
        "for column in ['na_sales', 'eu_sales', 'jp_sales']:\n",
        "    region = actual_games.pivot_table(index='platform', values=column, aggfunc='sum').\\\n",
        "    sort_values(column, ascending=False)\n",
        "    print(region.nlargest(5, column))"
      ]
    },
    {
      "cell_type": "markdown",
      "metadata": {
        "id": "QH1hRdXs1idO"
      },
      "source": [
        "В американском и европейском секторе топ5 платформ занимают: PS4, XONE, X360, PS3, 3DS, причём PS4 везде лидирует. А в Японии картина совсем иная: первое место занимает 3DS, а PS4 спустилась почти на последнее место."
      ]
    },
    {
      "cell_type": "markdown",
      "metadata": {
        "id": "ijse5nzs1idO"
      },
      "source": [
        "<div class=\"alert alert-warning\">\n",
        "<font size=\"5\"><b>Комментарий ревьюера</b></font>\n",
        "\n",
        "Совет:\n",
        "\n",
        "    \n",
        "Тут бы неплохо смотрелся график pie. Красивые графики вообще могут привлечь внимание, пользуйся этим.\n",
        "    \n",
        "Если надумаешь дам совет - когда ты строишь несколько однотипных графика, то можно использовать [subplots](https://matplotlib.org/stable/gallery/subplots_axes_and_figures/subplots_demo.html)\n",
        "\n",
        "Это когда мы берем один \"холст\" на котором размещаем нужные нам графики рядом друг с другом. Это и визуально выглядит лучше и возможность строить однотипные графики в цикле.\n",
        "\n",
        "\n",
        "\n",
        "</div>\n"
      ]
    },
    {
      "cell_type": "markdown",
      "metadata": {
        "id": "i7xqp8bB1idO"
      },
      "source": [
        "### Самые популярные жанры (топ-5)"
      ]
    },
    {
      "cell_type": "code",
      "execution_count": null,
      "metadata": {
        "id": "Z7QvPWZG1idO",
        "outputId": "41da531d-a729-4e71-a431-097c5ffb3352"
      },
      "outputs": [
        {
          "name": "stdout",
          "output_type": "stream",
          "text": [
            "              na_sales\n",
            "genre                 \n",
            "action          126.05\n",
            "shooter         109.74\n",
            "sports           65.27\n",
            "role-playing     46.40\n",
            "misc             27.49\n",
            "              eu_sales\n",
            "genre                 \n",
            "action          118.13\n",
            "shooter          87.86\n",
            "sports           60.52\n",
            "role-playing     36.97\n",
            "racing           20.19\n",
            "              jp_sales\n",
            "genre                 \n",
            "role-playing     51.04\n",
            "action           40.49\n",
            "misc              9.20\n",
            "fighting          7.65\n",
            "shooter           6.61\n"
          ]
        }
      ],
      "source": [
        "for column in ['na_sales', 'eu_sales', 'jp_sales']:\n",
        "    region = actual_games.pivot_table(index='genre', values=column, aggfunc='sum').\\\n",
        "    sort_values(column, ascending=False)\n",
        "    print(region.nlargest(5, column))"
      ]
    },
    {
      "cell_type": "markdown",
      "metadata": {
        "id": "4bSHDD4q1idP"
      },
      "source": [
        "Жанр Action на первых местах на Западе, в Японии занимает первое место жанр Role-Playing. Топ5 жанров по продажам в Америке и Европе отличаются лишь 5 местом: Misc в Америке и Racing в Европе. Отличительная особенность Европы - включение Racing в топ5, в Японии такой особенностью является популярность Fighting (4 место)."
      ]
    },
    {
      "cell_type": "markdown",
      "metadata": {
        "id": "nDXTrjFc1idP"
      },
      "source": [
        "### Влияет ли рейтинг ESRB на продажи в отдельном регионе"
      ]
    },
    {
      "cell_type": "code",
      "execution_count": null,
      "metadata": {
        "id": "YThalgVi1idP",
        "outputId": "91f2a27d-4c76-4389-f8df-dc7e3108a3a7"
      },
      "outputs": [
        {
          "name": "stdout",
          "output_type": "stream",
          "text": [
            "        na_sales\n",
            "rating          \n",
            "m         165.21\n",
            "RP         89.42\n",
            "e          79.05\n",
            "e10+       54.24\n",
            "t          49.79\n",
            "        eu_sales\n",
            "rating          \n",
            "m         145.32\n",
            "e          83.36\n",
            "RP         78.91\n",
            "e10+       42.69\n",
            "t          41.95\n",
            "        jp_sales\n",
            "rating          \n",
            "RP         85.05\n",
            "t          20.59\n",
            "e          15.14\n",
            "m          14.11\n",
            "e10+        5.89\n"
          ]
        }
      ],
      "source": [
        "for column in ['na_sales', 'eu_sales', 'jp_sales']:\n",
        "    region = (actual_games[(actual_games['rating'] != -1)].\n",
        "              pivot_table(index='rating', values=column, aggfunc='sum').\n",
        "              sort_values(column, ascending=False))\n",
        "    print(region)"
      ]
    },
    {
      "cell_type": "markdown",
      "metadata": {
        "id": "RNImVuOd1idP"
      },
      "source": [
        "Вспомним, что значат эти аббревиатуры.  \n",
        "\n",
        "E - 6+ лет  \n",
        "E10+ - 10+ лет  \n",
        "T - 13+ лет  \n",
        "M - 17+ лет  \n",
        "\n",
        "На Западе популярностью пользуются игры для людей старше 17 лет, тогда как на Востоке первое место по продажам принадлежит играм для подростков (от 13 лет и старше).\n",
        "Однако мы не можем точно говорить о том, что на Западе чаще всего играют люди более взрослые, потому что неизвестно, соответствует ли возраст игроков разрешенному рейтингу.\n",
        "В Японии игры для взрослых занимают всего лишь третье место по популярности. Игры для лиц от 6 лет и в Европе, и в Америке занимают 2 место."
      ]
    },
    {
      "cell_type": "markdown",
      "metadata": {
        "id": "tYv0Jauu1idP"
      },
      "source": [
        "### Вывод по портретам пользователей регионов"
      ]
    },
    {
      "cell_type": "markdown",
      "metadata": {
        "id": "bzkZu3Zs1idQ"
      },
      "source": [
        "В Японии картина популярности видеоигр кардинально отличатся от западной, тогда как в Америке и в Европе интересы аудитории похожи.\n",
        "Первое место по консолям в Японии занимает Nintendo 3DS, в то время как на Западе — PS4.  \n",
        "\n",
        "Думаю, это из-за того, что в Японии большое количество времени люди проводят на работе, поэтому время поиграть есть в дороге. Плюс там очень популярна гик-культура, и увлечённые ей люди любят коллекционировать картриджи, что повышает объем продаж. Кроме того на портавные консоли большинство игр имеет рейтинг как раз 6-10+, что обусловливает их бешеную популярность.\n",
        "  \n",
        "В стационарные консоли в Японии же чаще играют дома и в одиночестве, у них не принято играть компанией, отсюда такая большая популярность жанра Role-playing. Даже в файтингах (мой любимый Tekken, к примеру), есть сюжетная линия и довольно умный ИИ.\n",
        "\n",
        "На Западе же в стационарные консоли играют и дома, и в больших компаниях, предпочитая соревновательные игры, отсюда высокая популярность таких консолей и жанра Action и Shooter.\n"
      ]
    },
    {
      "cell_type": "markdown",
      "metadata": {
        "id": "2XA-nRCk1idQ"
      },
      "source": [
        "## Проверка гипотез"
      ]
    },
    {
      "cell_type": "markdown",
      "metadata": {
        "id": "7By70AyV1idQ"
      },
      "source": [
        "Какие гипотезы проверяем:\n",
        "1. Средние пользовательские рейтинги платформ Xbox One и PC одинаковые\n",
        "2. Средние пользовательские рейтинги жанров Action и Sports разные.\n",
        "\n",
        "H₀ всегда формулируется так, чтобы использовать знак равенства, а исходя из H₀ формулируется альтернативная гипотеза H₁.\n",
        "\n",
        "Поэтому по первому пункту:  \n",
        "H₀: Средние пользовательские рейтинги платформ Xbox One и PC одинаковые.  \n",
        "H₁: Средние пользовательские рейтинги платформ Xbox One и PC разные.  \n",
        "\n",
        "По второму пункту:  \n",
        "H₀: Средние пользовательские рейтинги жанров Action и Sports одинаковые.  \n",
        "H₁: Средние пользовательские рейтинги жанров Action и Sports разные.  \n",
        "\n",
        "alpha = .05"
      ]
    },
    {
      "cell_type": "markdown",
      "metadata": {
        "id": "Q7BK-ywT1idQ"
      },
      "source": [
        "### Гипотеза 1"
      ]
    },
    {
      "cell_type": "markdown",
      "metadata": {
        "id": "tW15f_3p1idR"
      },
      "source": [
        "H₀: Средние пользовательские рейтинги платформ Xbox One и PC одинаковые.  \n",
        "H₁: Средние пользовательские рейтинги платформ Xbox One и PC разные.  \n",
        "  \n",
        "Выборки:"
      ]
    },
    {
      "cell_type": "code",
      "execution_count": null,
      "metadata": {
        "id": "xSLV0yye1idR"
      },
      "outputs": [],
      "source": [
        "xone = actual_games[(actual_games['platform'] == 'xone') & (actual_games['user_score'] > -1)]['user_score']\n",
        "pc = actual_games[(actual_games['platform'] == 'pc') & (actual_games['user_score'] > -1)]['user_score']"
      ]
    },
    {
      "cell_type": "markdown",
      "metadata": {
        "id": "w7uWRRUY1idR"
      },
      "source": [
        "Произведём проверку равенства дисперсий выборок, чтобы понять с каким параметром equal_var использовать метод проверки ttest_ind. Воспользуемся стат. тестом Левене"
      ]
    },
    {
      "cell_type": "code",
      "execution_count": null,
      "metadata": {
        "id": "YyrrHh4r1idR",
        "outputId": "d230704d-e0a5-4ff6-a38f-03491e2c573e"
      },
      "outputs": [
        {
          "data": {
            "text/plain": [
              "0.003897553110130418"
            ]
          },
          "execution_count": 39,
          "metadata": {},
          "output_type": "execute_result"
        }
      ],
      "source": [
        "alpha = 0.05\n",
        "\n",
        "results = st.levene(xone, pc)\n",
        "\n",
        "results.pvalue"
      ]
    },
    {
      "cell_type": "markdown",
      "metadata": {
        "id": "kzOzwArc1idR"
      },
      "source": [
        "Полученное число меньше 0.05, значит, дисперсии не равны и мы возьмём equal_var=False"
      ]
    },
    {
      "cell_type": "code",
      "execution_count": null,
      "metadata": {
        "id": "qMD4Kgva1idR",
        "outputId": "e738c837-295c-4901-eb40-cfe6e487392e"
      },
      "outputs": [
        {
          "name": "stdout",
          "output_type": "stream",
          "text": [
            "p-значение: 0.14759594013430463\n",
            "Не получилось отвергнуть нулевую гипотезу\n"
          ]
        }
      ],
      "source": [
        "alpha = .05\n",
        "\n",
        "results = st.ttest_ind(\n",
        "    xone,\n",
        "    pc,\n",
        "    equal_var=False)\n",
        "\n",
        "print('p-значение:', results.pvalue)\n",
        "\n",
        "if (results.pvalue < alpha):\n",
        "    print(\"Отвергаем нулевую гипотезу\")\n",
        "else:\n",
        "    print(\"Не получилось отвергнуть нулевую гипотезу\")"
      ]
    },
    {
      "cell_type": "code",
      "execution_count": null,
      "metadata": {
        "id": "g8lts6Xb1idR",
        "outputId": "d4324754-83ad-483b-b0e3-ceab1473e03e"
      },
      "outputs": [
        {
          "data": {
            "text/html": [
              "<div>\n",
              "<style scoped>\n",
              "    .dataframe tbody tr th:only-of-type {\n",
              "        vertical-align: middle;\n",
              "    }\n",
              "\n",
              "    .dataframe tbody tr th {\n",
              "        vertical-align: top;\n",
              "    }\n",
              "\n",
              "    .dataframe thead th {\n",
              "        text-align: right;\n",
              "    }\n",
              "</style>\n",
              "<table border=\"1\" class=\"dataframe\">\n",
              "  <thead>\n",
              "    <tr style=\"text-align: right;\">\n",
              "      <th></th>\n",
              "      <th>user_score</th>\n",
              "    </tr>\n",
              "    <tr>\n",
              "      <th>platform</th>\n",
              "      <th></th>\n",
              "    </tr>\n",
              "  </thead>\n",
              "  <tbody>\n",
              "    <tr>\n",
              "      <th>pc</th>\n",
              "      <td>4.961905</td>\n",
              "    </tr>\n",
              "    <tr>\n",
              "      <th>xone</th>\n",
              "      <td>4.542105</td>\n",
              "    </tr>\n",
              "  </tbody>\n",
              "</table>\n",
              "</div>"
            ],
            "text/plain": [
              "          user_score\n",
              "platform            \n",
              "pc          4.961905\n",
              "xone        4.542105"
            ]
          },
          "execution_count": 41,
          "metadata": {},
          "output_type": "execute_result"
        }
      ],
      "source": [
        "xone_pc = actual_games.query('platform == \"xone\" or platform == \"pc\"')\n",
        "xone_pc.pivot_table(index='platform', values='user_score', aggfunc='mean')"
      ]
    },
    {
      "cell_type": "markdown",
      "metadata": {
        "id": "dMmsbX511idR"
      },
      "source": [
        "Гипотезу о равенстве среднего пользовательского рейтинга для XOne и PC не получилось отвергнуть: значения отличаются всего лишь на несколько десятых.  \n",
        "  \n",
        "Мне кажется, что это из-за того, что одни и те же игры выходили на обеих платформах. Есть различия в графике, управлении, фпс (на консолях всё это обычно хуже имхо), но в целом игры ничем не отличаются."
      ]
    },
    {
      "cell_type": "markdown",
      "metadata": {
        "id": "2XzLmoK-1idS"
      },
      "source": [
        "### Гипотеза 2"
      ]
    },
    {
      "cell_type": "markdown",
      "metadata": {
        "id": "kygqldUJ1idS"
      },
      "source": [
        "H₀: Средние пользовательские рейтинги жанров Action и Sports одинаковые.  \n",
        "H₁: Средние пользовательские рейтинги жанров Action и Sports разные."
      ]
    },
    {
      "cell_type": "code",
      "execution_count": null,
      "metadata": {
        "id": "OWIgFgEZ1idS"
      },
      "outputs": [],
      "source": [
        "action = actual_games[(actual_games['genre'] == 'action') & (actual_games['user_score'] > -1)]['user_score']\n",
        "sports = actual_games[(actual_games['genre'] == 'sports') & (actual_games['user_score'] > -1)]['user_score']"
      ]
    },
    {
      "cell_type": "code",
      "execution_count": null,
      "metadata": {
        "id": "S9EbI6EW1idS",
        "outputId": "c78a67b4-7338-4895-db91-59b1de01c559"
      },
      "outputs": [
        {
          "data": {
            "text/plain": [
              "0.003897553110130418"
            ]
          },
          "execution_count": 43,
          "metadata": {},
          "output_type": "execute_result"
        }
      ],
      "source": [
        "alpha = 0.05\n",
        "\n",
        "results = st.levene(xone, pc)\n",
        "\n",
        "results.pvalue"
      ]
    },
    {
      "cell_type": "markdown",
      "metadata": {
        "id": "4R_rvqYU1idS"
      },
      "source": [
        "Полученное число меньше 0.05, значит, дисперсии не равны и мы возьмём equal_var=False"
      ]
    },
    {
      "cell_type": "code",
      "execution_count": null,
      "metadata": {
        "id": "V4Ri5aTN1idS",
        "outputId": "f98eab27-5101-459d-b86f-3f1e3f61e31f"
      },
      "outputs": [
        {
          "name": "stdout",
          "output_type": "stream",
          "text": [
            "p-значение: 1.4460039700704315e-20\n",
            "Отвергаем нулевую гипотезу\n"
          ]
        }
      ],
      "source": [
        "alpha = .05\n",
        "\n",
        "results = st.ttest_ind(\n",
        "    action,\n",
        "    sports,\n",
        "    equal_var=False)\n",
        "\n",
        "print('p-значение:', results.pvalue)\n",
        "\n",
        "if (results.pvalue < alpha):\n",
        "    print(\"Отвергаем нулевую гипотезу\")\n",
        "else:\n",
        "    print(\"Не получилось отвергнуть нулевую гипотезу\")"
      ]
    },
    {
      "cell_type": "code",
      "execution_count": null,
      "metadata": {
        "id": "bPndJ4P51idT",
        "outputId": "05a93c9e-5749-40f1-f066-0ca96f8ac79a"
      },
      "outputs": [
        {
          "data": {
            "text/html": [
              "<div>\n",
              "<style scoped>\n",
              "    .dataframe tbody tr th:only-of-type {\n",
              "        vertical-align: middle;\n",
              "    }\n",
              "\n",
              "    .dataframe tbody tr th {\n",
              "        vertical-align: top;\n",
              "    }\n",
              "\n",
              "    .dataframe thead th {\n",
              "        text-align: right;\n",
              "    }\n",
              "</style>\n",
              "<table border=\"1\" class=\"dataframe\">\n",
              "  <thead>\n",
              "    <tr style=\"text-align: right;\">\n",
              "      <th></th>\n",
              "      <th>user_score</th>\n",
              "    </tr>\n",
              "    <tr>\n",
              "      <th>genre</th>\n",
              "      <th></th>\n",
              "    </tr>\n",
              "  </thead>\n",
              "  <tbody>\n",
              "    <tr>\n",
              "      <th>action</th>\n",
              "      <td>2.980157</td>\n",
              "    </tr>\n",
              "    <tr>\n",
              "      <th>sports</th>\n",
              "      <td>3.664019</td>\n",
              "    </tr>\n",
              "  </tbody>\n",
              "</table>\n",
              "</div>"
            ],
            "text/plain": [
              "        user_score\n",
              "genre             \n",
              "action    2.980157\n",
              "sports    3.664019"
            ]
          },
          "execution_count": 45,
          "metadata": {},
          "output_type": "execute_result"
        }
      ],
      "source": [
        "action_sports = actual_games.query('genre == \"action\" or genre == \"sports\"')\n",
        "action_sports.pivot_table(index='genre', values='user_score', aggfunc='mean')"
      ]
    },
    {
      "cell_type": "markdown",
      "metadata": {
        "id": "bRVdOpW01idT"
      },
      "source": [
        "Исходная гипотеза не подтвердилась: можно утверждать, что средние пользовательские рейтинги для жанров Action и Sports различаются. При выборе между рекламой и продажей игр двух жанров, при прочих равных условиях лучше отдать предпочтение жанру Sports"
      ]
    },
    {
      "cell_type": "markdown",
      "metadata": {
        "id": "UMicn7RV1idT"
      },
      "source": [
        "<div class=\"alert alert-warning\">\n",
        "<font size=\"5\"><b>Комментарий ревьюера</b></font>\n",
        "\n",
        "Совет:\n",
        "\n",
        "Не стоит на основе проверки гипотезы писать что средние оценки пользователей у А и Б не одинаковые или одинаковые, это слишком сильное утверждение. Стоит использовать оборот \"средние пользовательские рейтинги жанров А и Б статистически значимо различаются/статистически значимо не различаются\".\n",
        "\n",
        "Почему? Потому что мы понятия не имеем какие действительно средние оценки по жанрам (у нас нет всех оценок, а только выборка - неполные данные), мы можем только посмотреть на сколько отличаются средние в выборках и оценить насколько может быть случайна такой разницы, приняв гипотезу что они равны.\n",
        "\n",
        "\n",
        "\n",
        "Тема проверка гипотез вызывает много вопросов у студентов, тут главное понять. Мне помогло это [видео](https://www.youtube.com/watch?v=SmReaN-Kn-g&ab_channel=%D0%93%D0%BB%D0%B5%D0%B1%D0%9C%D0%B8%D1%85%D0%B0%D0%B9%D0%BB%D0%BE%D0%B2), первые 20 минут о p-value. Я понял суть и дальше все потихоньку раскрутилось.  \n",
        "\n",
        "\n",
        "\n",
        "\n",
        "</div>\n",
        "\n",
        "\n",
        "\n"
      ]
    },
    {
      "cell_type": "markdown",
      "metadata": {
        "id": "DaNCqQYh1idT"
      },
      "source": [
        "## Общий вывод"
      ]
    },
    {
      "cell_type": "markdown",
      "metadata": {
        "id": "xzzUVd751idT"
      },
      "source": [
        "**Обработка:**\n",
        "1. Избавились от пропусков в столбцах с рейтингом игроков и рейтингом критиков. Скорее всего, они туда попали потому, что на некоторые игры не было информации об оценках в общем доступе, либо игра не особо популярная.\n",
        "2. Избавились от пропусков в годах, заполнив их маркерами. Возможно у некоторых игр нет официального года выпуска, поэтому эти данные не подтянулись.\n",
        "3. Удалили строки с пропусками в столбце с названиями игр, вместе с ними ушли и жанры — было всего 2 строчки.\n",
        "4. Пропуски в столбце с категорией возрастов трогать не стали — заполнение их RP испортит реальную статистику. Игры, где нет информации о рейтинге, могли и не отправляться в ESRB.\n",
        "5. Столбец с оценкой пользователей в сырых данных был строкового типа данных из-за аббревиатуры tbd. Это аббревиатура от To Be Determined. Пишется тогда, когда игра имеет недостаточное количество отзывов (менее 4) для подсчета рейтинга пользователей и его публикации. Либо игры с такой оценкой непопулярны, либо только-только вышли. По сути это то же самое, что и пропущенное значение, поэтому заменили его на маркер вместе с пропусками.\n",
        "\n",
        "**Выводы по исследованию:**  \n",
        "На графике с 95-года мы видим рост количества видеоигр: это ожидаемо, так как в это время довольно быстро развивалась отрасль, выпускали большое количество устройств, которые с каждым разом становились мощнее. Соответственно график релизов тоже рос.   \n",
        "С 2010 года количество выпускаемых игр идёт на спад, для ПК и консолей начало выходить большое количество ААА-проектов, над которыми работа идёт по несколько лет, а более простые и быстрые игры перешли на мобильные платформы.  \n",
        "\n",
        "За актуальный период для проведения исследования мы взяли период с 2013 по 2016 год, потому что в 2013 вышла PS4, которая в последствии заняла значительный сегмент рынка и оставалась популярной до 2016 года и дальше.\n",
        "За этот период PS4, PS3 и ХОne — тройка самых прибыльных платформ. Вообще примерный срок жизни платформы — 10 лет, ровно через столько выходит новая версия, однако PS3 удавалось держать такие высокие позиции из-за того, что обратной совместимости с PS4 не было и не все игры были перевыпущены на новую версию. **Стоит это учесть и оставить в продаже для PS3 только те игры, перевыпуска которых нет на PS4**.\n",
        "\n",
        "Мы выяснили, что оценки и отзывы пользователей на популярность видеоигр практически не влияют, наверное, всему виной их субъективность. Зато к отзывам критиков игроки прислушиваются — они более авторитетный источник и рассматривают игру в целом, а не по собственным ощущениям. Хотя не секрет, что критиков можно подкупить, поэтому пользовательские отзывы со счетов сбрасывать тоже не стоит. **Нужно обращать внимание на те игры, на которые много положительных оценок критиков. Но не стоит забывать сравнивать их с пользовательскими оценками — если между ними большая пропасть, значит, что-то тут не так и давать рекламу этой игре пока не стоит**.  \n",
        "\n",
        "Ещё обратим внимание на жанры игр, которые мы хотим выгодно продать. **Жанры Action, Shooter и Sports — самые выгодные, если мы хотим вести бизнес с западными покупателями. А если мы хотим привлечь и покупателей с Востока, то нужно обратить внимания на игры жанра Role-playing.**  \n",
        "  \n",
        "**Чтобы охватить как можно больше покупателей, стоит продавать и продвигать игры как для стационарных консолей, так и для портативных**. Возраст аудитории при этом можно не учитывать. Дело в том, что на портативные консоли большинство игр имеет рейтинг 13+.\n",
        "Популярность портативных консолей в японском сегменте рынка вызвана тем, что люди в Японии много работают, поэтому возможность поиграть на ходу очень сильно ценится. А в стационарные консоли они играют в основном дома, в одиночестве, что обуславливает популярность ролевых игр. На Западе же в стационарные консоли играют и дома, и в больших компаниях, предпочитая соревновательные игры, отсюда высокая популярность таких консолей и жанра Action и Shooter.\n",
        "\n",
        "\n",
        "В исследовании мы не смогли опровергнуть теорию о том, что средние пользовательские рейтинги платформ Xbox One и PC одинаковые. **Поэтому при выборе при прочих равных между играми на эти платформы, стоит посмотреть на отзывы на предмет описания платформенных багов, например, и на их основании принять решение, какой процент игр будем закупать и продвигать для каждой из платформ**.  \n",
        "\n",
        "Зато получилось опровергнуть теорию о том, что средние пользовательские рейтинги для жанров Action и Sports одинаковы. **При выборе между рекламой и продажей игр двух жанров, при прочих равных условиях лучше отдать предпочтение жанру Sports**."
      ]
    },
    {
      "cell_type": "code",
      "execution_count": null,
      "metadata": {
        "id": "_Ll5L8mY1idU"
      },
      "outputs": [],
      "source": []
    }
  ],
  "metadata": {
    "ExecuteTimeLog": [
      {
        "duration": 48,
        "start_time": "2022-05-02T19:17:33.114Z"
      },
      {
        "duration": 81,
        "start_time": "2022-05-08T16:48:37.251Z"
      },
      {
        "duration": 1374,
        "start_time": "2022-05-08T16:48:39.081Z"
      },
      {
        "duration": 62,
        "start_time": "2022-05-08T16:48:40.457Z"
      },
      {
        "duration": 73,
        "start_time": "2022-05-08T17:26:22.792Z"
      },
      {
        "duration": 48,
        "start_time": "2022-05-08T17:26:41.170Z"
      },
      {
        "duration": 14,
        "start_time": "2022-05-08T17:26:42.153Z"
      },
      {
        "duration": 142,
        "start_time": "2022-05-08T17:48:21.710Z"
      },
      {
        "duration": 4,
        "start_time": "2022-05-08T17:51:47.777Z"
      },
      {
        "duration": 36,
        "start_time": "2022-05-08T17:56:33.378Z"
      },
      {
        "duration": 10,
        "start_time": "2022-05-08T17:56:43.930Z"
      },
      {
        "duration": 19,
        "start_time": "2022-05-08T17:56:50.541Z"
      },
      {
        "duration": 11,
        "start_time": "2022-05-08T18:09:17.147Z"
      },
      {
        "duration": 16,
        "start_time": "2022-05-08T18:09:17.878Z"
      },
      {
        "duration": 6,
        "start_time": "2022-05-08T19:09:31.556Z"
      },
      {
        "duration": 10,
        "start_time": "2022-05-08T19:15:37.770Z"
      },
      {
        "duration": 6,
        "start_time": "2022-05-08T19:15:43.709Z"
      },
      {
        "duration": 13,
        "start_time": "2022-05-08T19:15:53.790Z"
      },
      {
        "duration": 16,
        "start_time": "2022-05-08T19:15:59.411Z"
      },
      {
        "duration": 5,
        "start_time": "2022-05-08T19:16:44.278Z"
      },
      {
        "duration": 4,
        "start_time": "2022-05-08T19:18:28.799Z"
      },
      {
        "duration": 2,
        "start_time": "2022-05-08T19:19:01.756Z"
      },
      {
        "duration": 7,
        "start_time": "2022-05-08T19:19:40.704Z"
      },
      {
        "duration": 15,
        "start_time": "2022-05-08T19:19:51.698Z"
      },
      {
        "duration": 17,
        "start_time": "2022-05-08T19:20:49.608Z"
      },
      {
        "duration": 52,
        "start_time": "2022-05-10T17:30:15.345Z"
      },
      {
        "duration": 7,
        "start_time": "2022-05-10T17:30:25.645Z"
      },
      {
        "duration": 1259,
        "start_time": "2022-05-10T17:30:31.110Z"
      },
      {
        "duration": 57,
        "start_time": "2022-05-10T17:30:32.373Z"
      },
      {
        "duration": 27,
        "start_time": "2022-05-10T17:30:32.432Z"
      },
      {
        "duration": 14,
        "start_time": "2022-05-10T17:30:32.472Z"
      },
      {
        "duration": 5,
        "start_time": "2022-05-10T17:30:32.487Z"
      },
      {
        "duration": 32,
        "start_time": "2022-05-10T17:30:32.494Z"
      },
      {
        "duration": 16,
        "start_time": "2022-05-10T17:30:32.528Z"
      },
      {
        "duration": 8,
        "start_time": "2022-05-10T17:30:32.546Z"
      },
      {
        "duration": 28,
        "start_time": "2022-05-10T17:30:32.555Z"
      },
      {
        "duration": 5,
        "start_time": "2022-05-10T17:30:32.585Z"
      },
      {
        "duration": 18,
        "start_time": "2022-05-10T17:30:32.592Z"
      },
      {
        "duration": 5,
        "start_time": "2022-05-10T17:30:32.611Z"
      },
      {
        "duration": 10,
        "start_time": "2022-05-10T17:30:32.617Z"
      },
      {
        "duration": 14,
        "start_time": "2022-05-10T17:30:32.628Z"
      },
      {
        "duration": 32,
        "start_time": "2022-05-10T17:30:32.644Z"
      },
      {
        "duration": 17,
        "start_time": "2022-05-10T17:30:32.678Z"
      },
      {
        "duration": 201,
        "start_time": "2022-05-10T17:30:32.696Z"
      },
      {
        "duration": 3,
        "start_time": "2022-05-10T17:30:32.898Z"
      },
      {
        "duration": 188,
        "start_time": "2022-05-10T17:31:31.856Z"
      },
      {
        "duration": 160,
        "start_time": "2022-05-10T17:31:37.811Z"
      },
      {
        "duration": 231,
        "start_time": "2022-05-10T17:31:43.519Z"
      },
      {
        "duration": 183,
        "start_time": "2022-05-10T17:31:48.878Z"
      },
      {
        "duration": 153,
        "start_time": "2022-05-10T17:31:54.635Z"
      },
      {
        "duration": 265,
        "start_time": "2022-05-10T17:32:05.748Z"
      },
      {
        "duration": 107,
        "start_time": "2022-05-10T17:38:14.188Z"
      },
      {
        "duration": 21,
        "start_time": "2022-05-10T17:38:21.109Z"
      },
      {
        "duration": 9,
        "start_time": "2022-05-10T18:15:40.160Z"
      },
      {
        "duration": 20,
        "start_time": "2022-05-10T18:15:49.050Z"
      },
      {
        "duration": 273,
        "start_time": "2022-05-10T18:22:40.996Z"
      },
      {
        "duration": 3,
        "start_time": "2022-05-10T18:49:55.611Z"
      },
      {
        "duration": 85,
        "start_time": "2022-05-10T19:00:12.395Z"
      },
      {
        "duration": 18,
        "start_time": "2022-05-10T19:14:45.578Z"
      },
      {
        "duration": 17,
        "start_time": "2022-05-10T19:15:00.361Z"
      },
      {
        "duration": 282,
        "start_time": "2022-05-10T19:15:12.329Z"
      },
      {
        "duration": 519,
        "start_time": "2022-05-10T19:31:09.942Z"
      },
      {
        "duration": 9,
        "start_time": "2022-05-10T19:31:58.709Z"
      },
      {
        "duration": 32,
        "start_time": "2022-05-10T19:42:22.706Z"
      },
      {
        "duration": 6,
        "start_time": "2022-05-10T19:42:46.323Z"
      },
      {
        "duration": 575,
        "start_time": "2022-05-10T19:42:54.517Z"
      },
      {
        "duration": 32,
        "start_time": "2022-05-10T19:49:37.426Z"
      },
      {
        "duration": 9,
        "start_time": "2022-05-10T19:53:35.709Z"
      },
      {
        "duration": 5471,
        "start_time": "2022-05-10T19:54:16.356Z"
      },
      {
        "duration": 23,
        "start_time": "2022-05-10T20:10:01.134Z"
      },
      {
        "duration": 456,
        "start_time": "2022-05-10T20:10:01.878Z"
      },
      {
        "duration": 30,
        "start_time": "2022-05-10T20:16:59.543Z"
      },
      {
        "duration": 28,
        "start_time": "2022-05-10T20:17:37.776Z"
      },
      {
        "duration": 28,
        "start_time": "2022-05-10T20:18:05.731Z"
      },
      {
        "duration": 77,
        "start_time": "2022-05-10T20:18:16.138Z"
      },
      {
        "duration": 14,
        "start_time": "2022-05-10T20:26:38.959Z"
      },
      {
        "duration": 59,
        "start_time": "2022-05-10T20:26:43.382Z"
      },
      {
        "duration": 44,
        "start_time": "2022-05-10T20:27:00.157Z"
      },
      {
        "duration": 3,
        "start_time": "2022-05-10T20:33:41.896Z"
      },
      {
        "duration": 10,
        "start_time": "2022-05-10T20:38:16.728Z"
      },
      {
        "duration": 7,
        "start_time": "2022-05-10T20:38:22.143Z"
      },
      {
        "duration": 6,
        "start_time": "2022-05-10T20:38:23.638Z"
      },
      {
        "duration": 928,
        "start_time": "2022-05-10T20:38:52.546Z"
      },
      {
        "duration": 5,
        "start_time": "2022-05-10T20:39:30.989Z"
      },
      {
        "duration": 15,
        "start_time": "2022-05-10T20:40:39.436Z"
      },
      {
        "duration": 5,
        "start_time": "2022-05-10T20:46:02.768Z"
      },
      {
        "duration": 7,
        "start_time": "2022-05-10T20:46:15.975Z"
      },
      {
        "duration": 6,
        "start_time": "2022-05-10T20:46:16.762Z"
      },
      {
        "duration": 4,
        "start_time": "2022-05-10T20:46:37.751Z"
      },
      {
        "duration": 16,
        "start_time": "2022-05-10T20:46:47.345Z"
      },
      {
        "duration": 1246,
        "start_time": "2022-05-11T04:40:04.477Z"
      },
      {
        "duration": 68,
        "start_time": "2022-05-11T04:40:05.725Z"
      },
      {
        "duration": 36,
        "start_time": "2022-05-11T04:40:05.795Z"
      },
      {
        "duration": 15,
        "start_time": "2022-05-11T04:40:05.833Z"
      },
      {
        "duration": 3,
        "start_time": "2022-05-11T04:40:05.850Z"
      },
      {
        "duration": 25,
        "start_time": "2022-05-11T04:40:05.855Z"
      },
      {
        "duration": 41,
        "start_time": "2022-05-11T04:40:05.882Z"
      },
      {
        "duration": 8,
        "start_time": "2022-05-11T04:40:05.924Z"
      },
      {
        "duration": 14,
        "start_time": "2022-05-11T04:40:05.933Z"
      },
      {
        "duration": 5,
        "start_time": "2022-05-11T04:40:05.949Z"
      },
      {
        "duration": 17,
        "start_time": "2022-05-11T04:40:05.956Z"
      },
      {
        "duration": 5,
        "start_time": "2022-05-11T04:40:06.007Z"
      },
      {
        "duration": 7,
        "start_time": "2022-05-11T04:40:06.014Z"
      },
      {
        "duration": 9,
        "start_time": "2022-05-11T04:40:06.022Z"
      },
      {
        "duration": 15,
        "start_time": "2022-05-11T04:40:06.032Z"
      },
      {
        "duration": 17,
        "start_time": "2022-05-11T04:40:06.048Z"
      },
      {
        "duration": 243,
        "start_time": "2022-05-11T04:40:06.066Z"
      },
      {
        "duration": 16,
        "start_time": "2022-05-11T04:40:06.311Z"
      },
      {
        "duration": 19,
        "start_time": "2022-05-11T04:40:06.329Z"
      },
      {
        "duration": 308,
        "start_time": "2022-05-11T04:40:06.350Z"
      },
      {
        "duration": 17,
        "start_time": "2022-05-11T04:40:06.660Z"
      },
      {
        "duration": 33,
        "start_time": "2022-05-11T04:40:06.679Z"
      },
      {
        "duration": 596,
        "start_time": "2022-05-11T04:40:06.714Z"
      },
      {
        "duration": 802,
        "start_time": "2022-05-11T04:40:07.312Z"
      },
      {
        "duration": 7,
        "start_time": "2022-05-11T04:40:08.116Z"
      },
      {
        "duration": 23,
        "start_time": "2022-05-11T04:40:08.125Z"
      },
      {
        "duration": 59,
        "start_time": "2022-05-11T04:40:08.149Z"
      },
      {
        "duration": 711,
        "start_time": "2022-05-11T04:40:08.212Z"
      },
      {
        "duration": 7,
        "start_time": "2022-05-11T04:40:08.924Z"
      },
      {
        "duration": 5559,
        "start_time": "2022-05-11T04:40:08.933Z"
      },
      {
        "duration": 24,
        "start_time": "2022-05-11T04:40:14.494Z"
      },
      {
        "duration": 487,
        "start_time": "2022-05-11T04:40:14.520Z"
      },
      {
        "duration": 30,
        "start_time": "2022-05-11T04:40:15.009Z"
      },
      {
        "duration": 52,
        "start_time": "2022-05-11T04:40:15.041Z"
      },
      {
        "duration": 43,
        "start_time": "2022-05-11T04:40:15.095Z"
      },
      {
        "duration": 7,
        "start_time": "2022-05-11T04:40:15.140Z"
      },
      {
        "duration": 39,
        "start_time": "2022-05-11T04:40:15.148Z"
      },
      {
        "duration": 29,
        "start_time": "2022-05-11T04:40:15.188Z"
      },
      {
        "duration": 48,
        "start_time": "2022-05-11T04:40:15.219Z"
      },
      {
        "duration": 24,
        "start_time": "2022-05-11T04:40:15.269Z"
      },
      {
        "duration": 22,
        "start_time": "2022-05-11T04:40:15.295Z"
      },
      {
        "duration": 23,
        "start_time": "2022-05-11T04:40:15.319Z"
      },
      {
        "duration": 39,
        "start_time": "2022-05-11T04:40:15.345Z"
      },
      {
        "duration": 5,
        "start_time": "2022-05-11T04:41:05.988Z"
      },
      {
        "duration": 69,
        "start_time": "2022-05-11T04:47:20.949Z"
      },
      {
        "duration": 67,
        "start_time": "2022-05-11T04:47:31.130Z"
      },
      {
        "duration": 25,
        "start_time": "2022-05-11T04:47:34.643Z"
      },
      {
        "duration": 23,
        "start_time": "2022-05-11T04:47:39.954Z"
      },
      {
        "duration": 326,
        "start_time": "2022-05-11T04:47:43.242Z"
      },
      {
        "duration": 20,
        "start_time": "2022-05-11T04:48:30.922Z"
      },
      {
        "duration": 399,
        "start_time": "2022-05-11T04:48:33.001Z"
      },
      {
        "duration": 1297,
        "start_time": "2022-05-11T05:20:49.506Z"
      },
      {
        "duration": 59,
        "start_time": "2022-05-11T05:20:50.806Z"
      },
      {
        "duration": 30,
        "start_time": "2022-05-11T05:20:50.866Z"
      },
      {
        "duration": 15,
        "start_time": "2022-05-11T05:20:50.908Z"
      },
      {
        "duration": 3,
        "start_time": "2022-05-11T05:20:50.925Z"
      },
      {
        "duration": 24,
        "start_time": "2022-05-11T05:20:50.929Z"
      },
      {
        "duration": 19,
        "start_time": "2022-05-11T05:20:50.955Z"
      },
      {
        "duration": 39,
        "start_time": "2022-05-11T05:20:50.975Z"
      },
      {
        "duration": 15,
        "start_time": "2022-05-11T05:20:51.015Z"
      },
      {
        "duration": 6,
        "start_time": "2022-05-11T05:20:51.032Z"
      },
      {
        "duration": 18,
        "start_time": "2022-05-11T05:20:51.039Z"
      },
      {
        "duration": 5,
        "start_time": "2022-05-11T05:20:51.059Z"
      },
      {
        "duration": 5,
        "start_time": "2022-05-11T05:20:51.065Z"
      },
      {
        "duration": 38,
        "start_time": "2022-05-11T05:20:51.072Z"
      },
      {
        "duration": 15,
        "start_time": "2022-05-11T05:20:51.112Z"
      },
      {
        "duration": 17,
        "start_time": "2022-05-11T05:20:51.128Z"
      },
      {
        "duration": 5,
        "start_time": "2022-05-11T05:20:51.147Z"
      },
      {
        "duration": 228,
        "start_time": "2022-05-11T05:20:51.153Z"
      },
      {
        "duration": 26,
        "start_time": "2022-05-11T05:20:51.382Z"
      },
      {
        "duration": 20,
        "start_time": "2022-05-11T05:20:51.410Z"
      },
      {
        "duration": 298,
        "start_time": "2022-05-11T05:20:51.431Z"
      },
      {
        "duration": 19,
        "start_time": "2022-05-11T05:20:51.730Z"
      },
      {
        "duration": 17,
        "start_time": "2022-05-11T05:20:51.750Z"
      },
      {
        "duration": 326,
        "start_time": "2022-05-11T05:20:51.768Z"
      },
      {
        "duration": 484,
        "start_time": "2022-05-11T05:20:52.096Z"
      },
      {
        "duration": 7,
        "start_time": "2022-05-11T05:20:52.582Z"
      },
      {
        "duration": 30,
        "start_time": "2022-05-11T05:20:52.591Z"
      },
      {
        "duration": 5,
        "start_time": "2022-05-11T05:20:52.624Z"
      },
      {
        "duration": 594,
        "start_time": "2022-05-11T05:20:52.630Z"
      },
      {
        "duration": 7,
        "start_time": "2022-05-11T05:20:53.226Z"
      },
      {
        "duration": 5607,
        "start_time": "2022-05-11T05:20:53.235Z"
      },
      {
        "duration": 15,
        "start_time": "2022-05-11T05:20:58.844Z"
      },
      {
        "duration": 510,
        "start_time": "2022-05-11T05:20:58.862Z"
      },
      {
        "duration": 45,
        "start_time": "2022-05-11T05:20:59.374Z"
      },
      {
        "duration": 29,
        "start_time": "2022-05-11T05:20:59.421Z"
      },
      {
        "duration": 29,
        "start_time": "2022-05-11T05:20:59.451Z"
      },
      {
        "duration": 31,
        "start_time": "2022-05-11T05:20:59.482Z"
      },
      {
        "duration": 8,
        "start_time": "2022-05-11T05:20:59.515Z"
      },
      {
        "duration": 4,
        "start_time": "2022-05-11T05:20:59.525Z"
      },
      {
        "duration": 16,
        "start_time": "2022-05-11T05:20:59.531Z"
      },
      {
        "duration": 6,
        "start_time": "2022-05-11T05:20:59.549Z"
      },
      {
        "duration": 22,
        "start_time": "2022-05-11T05:20:59.557Z"
      },
      {
        "duration": 29,
        "start_time": "2022-05-11T05:20:59.581Z"
      },
      {
        "duration": 17,
        "start_time": "2022-05-11T05:20:59.612Z"
      }
    ],
    "kernelspec": {
      "display_name": "Python 3 (ipykernel)",
      "language": "python",
      "name": "python3"
    },
    "language_info": {
      "codemirror_mode": {
        "name": "ipython",
        "version": 3
      },
      "file_extension": ".py",
      "mimetype": "text/x-python",
      "name": "python",
      "nbconvert_exporter": "python",
      "pygments_lexer": "ipython3",
      "version": "3.9.5"
    },
    "toc": {
      "base_numbering": 1,
      "nav_menu": {},
      "number_sections": true,
      "sideBar": true,
      "skip_h1_title": true,
      "title_cell": "Оглавление",
      "title_sidebar": "Contents",
      "toc_cell": true,
      "toc_position": {
        "height": "calc(100% - 180px)",
        "left": "10px",
        "top": "150px",
        "width": "289.6px"
      },
      "toc_section_display": true,
      "toc_window_display": true
    },
    "colab": {
      "provenance": []
    }
  },
  "nbformat": 4,
  "nbformat_minor": 0
}