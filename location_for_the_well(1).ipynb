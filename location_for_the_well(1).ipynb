{
  "cells": [
    {
      "cell_type": "markdown",
      "source": [
        "❗ Оставлены рекомендации ревьюера"
      ],
      "metadata": {
        "id": "j1rRDvX8GkGi"
      }
    },
    {
      "cell_type": "markdown",
      "metadata": {
        "id": "tnkX1ZVUF7r5"
      },
      "source": [
        "# Выбор локации для скважины"
      ]
    },
    {
      "cell_type": "markdown",
      "metadata": {
        "id": "W7iPT8-mF7r6"
      },
      "source": [
        "Вы работаете в добывающей компании «ГлавРосГосНефть». Нужно решить, где бурить новую скважину.\n",
        "\n",
        "Вам предоставлены пробы нефти в трёх регионах: в каждом 10 000 месторождений, где измерили качество нефти и объём её запасов. Постройте модель машинного обучения, которая поможет определить регион, где добыча принесёт наибольшую прибыль. Проанализируйте возможную прибыль и риски техникой *Bootstrap.*\n",
        "\n",
        "Шаги для выбора локации:\n",
        "\n",
        "- В избранном регионе ищут месторождения, для каждого определяют значения признаков;\n",
        "- Строят модель и оценивают объём запасов;\n",
        "- Выбирают месторождения с самым высокими оценками значений. Количество месторождений зависит от бюджета компании и стоимости разработки одной скважины;\n",
        "- Прибыль равна суммарной прибыли отобранных месторождений."
      ]
    },
    {
      "cell_type": "markdown",
      "metadata": {
        "id": "7scO9QThF7r6"
      },
      "source": [
        "## Описание данных"
      ]
    },
    {
      "cell_type": "markdown",
      "metadata": {
        "id": "tsVjouRXF7r6"
      },
      "source": [
        "* id — уникальный идентификатор скважины;\n",
        "* f0, f1, f2 — три признака точек (неважно, что они означают, но сами признаки значимы);\n",
        "* product — объём запасов в скважине (тыс. баррелей).\n",
        "\n",
        "**Условия задачи:**\n",
        "1. Для обучения модели подходит только линейная регрессия (остальные — недостаточно предсказуемые).\n",
        "2. При разведке региона исследуют 500 точек, из которых с помощью машинного обучения выбирают 200 лучших для разработки.\n",
        "3. Бюджет на разработку скважин в регионе — 10 млрд рублей.\n",
        "4. При нынешних ценах один баррель сырья приносит 450 рублей дохода. Доход с каждой единицы продукта составляет 450 тыс. рублей, поскольку объём указан в тысячах баррелей.\n",
        "5. После оценки рисков нужно оставить лишь те регионы, в которых вероятность убытков меньше 2.5%. Среди них выбирают регион с наибольшей средней прибылью.\n",
        "\n",
        "*Данные синтетические: детали контрактов и характеристики месторождений не разглашаются.*\n"
      ]
    },
    {
      "cell_type": "markdown",
      "metadata": {
        "toc": true,
        "id": "RK23PWCiF7r4"
      },
      "source": [
        "<h1>Содержание<span class=\"tocSkip\"></span></h1>\n",
        "<div class=\"toc\"><ul class=\"toc-item\"><li><span><a href=\"#Описание-данных\" data-toc-modified-id=\"Описание-данных-1\"><span class=\"toc-item-num\">1&nbsp;&nbsp;</span>Описание данных</a></span></li><li><span><a href=\"#Загрузка-и-подготовка-данных\" data-toc-modified-id=\"Загрузка-и-подготовка-данных-2\"><span class=\"toc-item-num\">2&nbsp;&nbsp;</span>Загрузка и подготовка данных</a></span></li><li><span><a href=\"#Обучение-и-проверка-модели\" data-toc-modified-id=\"Обучение-и-проверка-модели-3\"><span class=\"toc-item-num\">3&nbsp;&nbsp;</span>Обучение и проверка модели</a></span></li><li><span><a href=\"#Подготовка-к-расчёту-прибыли\" data-toc-modified-id=\"Подготовка-к-расчёту-прибыли-4\"><span class=\"toc-item-num\">4&nbsp;&nbsp;</span>Подготовка к расчёту прибыли</a></span><ul class=\"toc-item\"><li><span><a href=\"#Вывод\" data-toc-modified-id=\"Вывод-4.1\"><span class=\"toc-item-num\">4.1&nbsp;&nbsp;</span>Вывод</a></span></li></ul></li><li><span><a href=\"#Расчёт-прибыли-и-рисков\" data-toc-modified-id=\"Расчёт-прибыли-и-рисков-5\"><span class=\"toc-item-num\">5&nbsp;&nbsp;</span>Расчёт прибыли и рисков</a></span><ul class=\"toc-item\"><li><span><a href=\"#Прибыль\" data-toc-modified-id=\"Прибыль-5.1\"><span class=\"toc-item-num\">5.1&nbsp;&nbsp;</span>Прибыль</a></span></li><li><span><a href=\"#Риски\" data-toc-modified-id=\"Риски-5.2\"><span class=\"toc-item-num\">5.2&nbsp;&nbsp;</span>Риски</a></span></li></ul></li><li><span><a href=\"#Вывод\" data-toc-modified-id=\"Вывод-6\"><span class=\"toc-item-num\">6&nbsp;&nbsp;</span>Вывод</a></span></li><li><span><a href=\"#Чек-лист-готовности-проекта\" data-toc-modified-id=\"Чек-лист-готовности-проекта-7\"><span class=\"toc-item-num\">7&nbsp;&nbsp;</span>Чек-лист готовности проекта</a></span></li></ul></div>"
      ]
    },
    {
      "cell_type": "markdown",
      "metadata": {
        "id": "np_e_qEDF7r6"
      },
      "source": [
        "## Загрузка и подготовка данных"
      ]
    },
    {
      "cell_type": "code",
      "execution_count": null,
      "metadata": {
        "id": "F-qOQwzGF7r8"
      },
      "outputs": [],
      "source": [
        "import pandas as pd\n",
        "import sklearn\n",
        "import numpy as np\n",
        "\n",
        "\n",
        "\n",
        "from sklearn.model_selection import train_test_split\n",
        "from sklearn.linear_model import LinearRegression\n",
        "from sklearn.metrics import mean_squared_error\n",
        "\n",
        "\n",
        "region_0 = pd.read_csv('/datasets/geo_data_0.csv')\n",
        "region_1 = pd.read_csv('/datasets/geo_data_1.csv')\n",
        "region_2 = pd.read_csv('/datasets/geo_data_2.csv')"
      ]
    },
    {
      "cell_type": "code",
      "execution_count": null,
      "metadata": {
        "id": "1AZpKLljF7r8",
        "outputId": "9fe2176d-060c-44ef-b462-2178eb52eb11"
      },
      "outputs": [
        {
          "data": {
            "text/html": [
              "<div>\n",
              "<style scoped>\n",
              "    .dataframe tbody tr th:only-of-type {\n",
              "        vertical-align: middle;\n",
              "    }\n",
              "\n",
              "    .dataframe tbody tr th {\n",
              "        vertical-align: top;\n",
              "    }\n",
              "\n",
              "    .dataframe thead th {\n",
              "        text-align: right;\n",
              "    }\n",
              "</style>\n",
              "<table border=\"1\" class=\"dataframe\">\n",
              "  <thead>\n",
              "    <tr style=\"text-align: right;\">\n",
              "      <th></th>\n",
              "      <th>id</th>\n",
              "      <th>f0</th>\n",
              "      <th>f1</th>\n",
              "      <th>f2</th>\n",
              "      <th>product</th>\n",
              "    </tr>\n",
              "  </thead>\n",
              "  <tbody>\n",
              "    <tr>\n",
              "      <th>0</th>\n",
              "      <td>txEyH</td>\n",
              "      <td>0.705745</td>\n",
              "      <td>-0.497823</td>\n",
              "      <td>1.221170</td>\n",
              "      <td>105.280062</td>\n",
              "    </tr>\n",
              "    <tr>\n",
              "      <th>1</th>\n",
              "      <td>2acmU</td>\n",
              "      <td>1.334711</td>\n",
              "      <td>-0.340164</td>\n",
              "      <td>4.365080</td>\n",
              "      <td>73.037750</td>\n",
              "    </tr>\n",
              "    <tr>\n",
              "      <th>2</th>\n",
              "      <td>409Wp</td>\n",
              "      <td>1.022732</td>\n",
              "      <td>0.151990</td>\n",
              "      <td>1.419926</td>\n",
              "      <td>85.265647</td>\n",
              "    </tr>\n",
              "    <tr>\n",
              "      <th>3</th>\n",
              "      <td>iJLyR</td>\n",
              "      <td>-0.032172</td>\n",
              "      <td>0.139033</td>\n",
              "      <td>2.978566</td>\n",
              "      <td>168.620776</td>\n",
              "    </tr>\n",
              "    <tr>\n",
              "      <th>4</th>\n",
              "      <td>Xdl7t</td>\n",
              "      <td>1.988431</td>\n",
              "      <td>0.155413</td>\n",
              "      <td>4.751769</td>\n",
              "      <td>154.036647</td>\n",
              "    </tr>\n",
              "    <tr>\n",
              "      <th>5</th>\n",
              "      <td>wX4Hy</td>\n",
              "      <td>0.969570</td>\n",
              "      <td>0.489775</td>\n",
              "      <td>-0.735383</td>\n",
              "      <td>64.741541</td>\n",
              "    </tr>\n",
              "    <tr>\n",
              "      <th>6</th>\n",
              "      <td>tL6pL</td>\n",
              "      <td>0.645075</td>\n",
              "      <td>0.530656</td>\n",
              "      <td>1.780266</td>\n",
              "      <td>49.055285</td>\n",
              "    </tr>\n",
              "    <tr>\n",
              "      <th>7</th>\n",
              "      <td>BYPU6</td>\n",
              "      <td>-0.400648</td>\n",
              "      <td>0.808337</td>\n",
              "      <td>-5.624670</td>\n",
              "      <td>72.943292</td>\n",
              "    </tr>\n",
              "    <tr>\n",
              "      <th>8</th>\n",
              "      <td>j9Oui</td>\n",
              "      <td>0.643105</td>\n",
              "      <td>-0.551583</td>\n",
              "      <td>2.372141</td>\n",
              "      <td>113.356160</td>\n",
              "    </tr>\n",
              "    <tr>\n",
              "      <th>9</th>\n",
              "      <td>OLuZU</td>\n",
              "      <td>2.173381</td>\n",
              "      <td>0.563698</td>\n",
              "      <td>9.441852</td>\n",
              "      <td>127.910945</td>\n",
              "    </tr>\n",
              "  </tbody>\n",
              "</table>\n",
              "</div>"
            ],
            "text/plain": [
              "      id        f0        f1        f2     product\n",
              "0  txEyH  0.705745 -0.497823  1.221170  105.280062\n",
              "1  2acmU  1.334711 -0.340164  4.365080   73.037750\n",
              "2  409Wp  1.022732  0.151990  1.419926   85.265647\n",
              "3  iJLyR -0.032172  0.139033  2.978566  168.620776\n",
              "4  Xdl7t  1.988431  0.155413  4.751769  154.036647\n",
              "5  wX4Hy  0.969570  0.489775 -0.735383   64.741541\n",
              "6  tL6pL  0.645075  0.530656  1.780266   49.055285\n",
              "7  BYPU6 -0.400648  0.808337 -5.624670   72.943292\n",
              "8  j9Oui  0.643105 -0.551583  2.372141  113.356160\n",
              "9  OLuZU  2.173381  0.563698  9.441852  127.910945"
            ]
          },
          "execution_count": 2,
          "metadata": {},
          "output_type": "execute_result"
        }
      ],
      "source": [
        "region_0.head(10)"
      ]
    },
    {
      "cell_type": "code",
      "execution_count": null,
      "metadata": {
        "id": "Zz_EP5VmF7r9",
        "outputId": "50f7e24e-f5ef-4d5d-f013-f0b218c3fc27"
      },
      "outputs": [
        {
          "name": "stdout",
          "output_type": "stream",
          "text": [
            "<class 'pandas.core.frame.DataFrame'>\n",
            "RangeIndex: 100000 entries, 0 to 99999\n",
            "Data columns (total 5 columns):\n",
            " #   Column   Non-Null Count   Dtype  \n",
            "---  ------   --------------   -----  \n",
            " 0   id       100000 non-null  object \n",
            " 1   f0       100000 non-null  float64\n",
            " 2   f1       100000 non-null  float64\n",
            " 3   f2       100000 non-null  float64\n",
            " 4   product  100000 non-null  float64\n",
            "dtypes: float64(4), object(1)\n",
            "memory usage: 3.8+ MB\n"
          ]
        }
      ],
      "source": [
        "region_0.info()"
      ]
    },
    {
      "cell_type": "code",
      "execution_count": null,
      "metadata": {
        "scrolled": false,
        "id": "QxDxED-_F7r9",
        "outputId": "77cea860-52bd-4bcb-a0df-9b3c998d0659"
      },
      "outputs": [
        {
          "data": {
            "text/html": [
              "<div>\n",
              "<style scoped>\n",
              "    .dataframe tbody tr th:only-of-type {\n",
              "        vertical-align: middle;\n",
              "    }\n",
              "\n",
              "    .dataframe tbody tr th {\n",
              "        vertical-align: top;\n",
              "    }\n",
              "\n",
              "    .dataframe thead th {\n",
              "        text-align: right;\n",
              "    }\n",
              "</style>\n",
              "<table border=\"1\" class=\"dataframe\">\n",
              "  <thead>\n",
              "    <tr style=\"text-align: right;\">\n",
              "      <th></th>\n",
              "      <th>f0</th>\n",
              "      <th>f1</th>\n",
              "      <th>f2</th>\n",
              "      <th>product</th>\n",
              "    </tr>\n",
              "  </thead>\n",
              "  <tbody>\n",
              "    <tr>\n",
              "      <th>count</th>\n",
              "      <td>100000.000000</td>\n",
              "      <td>100000.000000</td>\n",
              "      <td>100000.000000</td>\n",
              "      <td>100000.000000</td>\n",
              "    </tr>\n",
              "    <tr>\n",
              "      <th>mean</th>\n",
              "      <td>0.500419</td>\n",
              "      <td>0.250143</td>\n",
              "      <td>2.502647</td>\n",
              "      <td>92.500000</td>\n",
              "    </tr>\n",
              "    <tr>\n",
              "      <th>std</th>\n",
              "      <td>0.871832</td>\n",
              "      <td>0.504433</td>\n",
              "      <td>3.248248</td>\n",
              "      <td>44.288691</td>\n",
              "    </tr>\n",
              "    <tr>\n",
              "      <th>min</th>\n",
              "      <td>-1.408605</td>\n",
              "      <td>-0.848218</td>\n",
              "      <td>-12.088328</td>\n",
              "      <td>0.000000</td>\n",
              "    </tr>\n",
              "    <tr>\n",
              "      <th>25%</th>\n",
              "      <td>-0.072580</td>\n",
              "      <td>-0.200881</td>\n",
              "      <td>0.287748</td>\n",
              "      <td>56.497507</td>\n",
              "    </tr>\n",
              "    <tr>\n",
              "      <th>50%</th>\n",
              "      <td>0.502360</td>\n",
              "      <td>0.250252</td>\n",
              "      <td>2.515969</td>\n",
              "      <td>91.849972</td>\n",
              "    </tr>\n",
              "    <tr>\n",
              "      <th>75%</th>\n",
              "      <td>1.073581</td>\n",
              "      <td>0.700646</td>\n",
              "      <td>4.715088</td>\n",
              "      <td>128.564089</td>\n",
              "    </tr>\n",
              "    <tr>\n",
              "      <th>max</th>\n",
              "      <td>2.362331</td>\n",
              "      <td>1.343769</td>\n",
              "      <td>16.003790</td>\n",
              "      <td>185.364347</td>\n",
              "    </tr>\n",
              "  </tbody>\n",
              "</table>\n",
              "</div>"
            ],
            "text/plain": [
              "                  f0             f1             f2        product\n",
              "count  100000.000000  100000.000000  100000.000000  100000.000000\n",
              "mean        0.500419       0.250143       2.502647      92.500000\n",
              "std         0.871832       0.504433       3.248248      44.288691\n",
              "min        -1.408605      -0.848218     -12.088328       0.000000\n",
              "25%        -0.072580      -0.200881       0.287748      56.497507\n",
              "50%         0.502360       0.250252       2.515969      91.849972\n",
              "75%         1.073581       0.700646       4.715088     128.564089\n",
              "max         2.362331       1.343769      16.003790     185.364347"
            ]
          },
          "execution_count": 4,
          "metadata": {},
          "output_type": "execute_result"
        }
      ],
      "source": [
        "region_0.describe()"
      ]
    },
    {
      "cell_type": "code",
      "execution_count": null,
      "metadata": {
        "id": "MKFmvmxRF7r-",
        "outputId": "d817383e-d437-4ea8-f89d-e0238f2147a3"
      },
      "outputs": [
        {
          "data": {
            "text/plain": [
              "0"
            ]
          },
          "execution_count": 5,
          "metadata": {},
          "output_type": "execute_result"
        }
      ],
      "source": [
        "region_0.duplicated().sum()"
      ]
    },
    {
      "cell_type": "markdown",
      "metadata": {
        "id": "-YmrVM1bF7r_"
      },
      "source": [
        "В этой таблице пропусков и дубликатов нет, данные выглядят адекватно. Обработка не понадобится."
      ]
    },
    {
      "cell_type": "code",
      "execution_count": null,
      "metadata": {
        "id": "6W6JIQy9F7r_",
        "outputId": "2bc16431-7aa2-451b-f677-7707e2354e22"
      },
      "outputs": [
        {
          "data": {
            "text/html": [
              "<div>\n",
              "<style scoped>\n",
              "    .dataframe tbody tr th:only-of-type {\n",
              "        vertical-align: middle;\n",
              "    }\n",
              "\n",
              "    .dataframe tbody tr th {\n",
              "        vertical-align: top;\n",
              "    }\n",
              "\n",
              "    .dataframe thead th {\n",
              "        text-align: right;\n",
              "    }\n",
              "</style>\n",
              "<table border=\"1\" class=\"dataframe\">\n",
              "  <thead>\n",
              "    <tr style=\"text-align: right;\">\n",
              "      <th></th>\n",
              "      <th>id</th>\n",
              "      <th>f0</th>\n",
              "      <th>f1</th>\n",
              "      <th>f2</th>\n",
              "      <th>product</th>\n",
              "    </tr>\n",
              "  </thead>\n",
              "  <tbody>\n",
              "    <tr>\n",
              "      <th>0</th>\n",
              "      <td>kBEdx</td>\n",
              "      <td>-15.001348</td>\n",
              "      <td>-8.276000</td>\n",
              "      <td>-0.005876</td>\n",
              "      <td>3.179103</td>\n",
              "    </tr>\n",
              "    <tr>\n",
              "      <th>1</th>\n",
              "      <td>62mP7</td>\n",
              "      <td>14.272088</td>\n",
              "      <td>-3.475083</td>\n",
              "      <td>0.999183</td>\n",
              "      <td>26.953261</td>\n",
              "    </tr>\n",
              "    <tr>\n",
              "      <th>2</th>\n",
              "      <td>vyE1P</td>\n",
              "      <td>6.263187</td>\n",
              "      <td>-5.948386</td>\n",
              "      <td>5.001160</td>\n",
              "      <td>134.766305</td>\n",
              "    </tr>\n",
              "    <tr>\n",
              "      <th>3</th>\n",
              "      <td>KcrkZ</td>\n",
              "      <td>-13.081196</td>\n",
              "      <td>-11.506057</td>\n",
              "      <td>4.999415</td>\n",
              "      <td>137.945408</td>\n",
              "    </tr>\n",
              "    <tr>\n",
              "      <th>4</th>\n",
              "      <td>AHL4O</td>\n",
              "      <td>12.702195</td>\n",
              "      <td>-8.147433</td>\n",
              "      <td>5.004363</td>\n",
              "      <td>134.766305</td>\n",
              "    </tr>\n",
              "    <tr>\n",
              "      <th>5</th>\n",
              "      <td>HHckp</td>\n",
              "      <td>-3.327590</td>\n",
              "      <td>-2.205276</td>\n",
              "      <td>3.003647</td>\n",
              "      <td>84.038886</td>\n",
              "    </tr>\n",
              "    <tr>\n",
              "      <th>6</th>\n",
              "      <td>h5Ujo</td>\n",
              "      <td>-11.142655</td>\n",
              "      <td>-10.133399</td>\n",
              "      <td>4.002382</td>\n",
              "      <td>110.992147</td>\n",
              "    </tr>\n",
              "    <tr>\n",
              "      <th>7</th>\n",
              "      <td>muH9x</td>\n",
              "      <td>4.234715</td>\n",
              "      <td>-0.001354</td>\n",
              "      <td>2.004588</td>\n",
              "      <td>53.906522</td>\n",
              "    </tr>\n",
              "    <tr>\n",
              "      <th>8</th>\n",
              "      <td>YiRkx</td>\n",
              "      <td>13.355129</td>\n",
              "      <td>-0.332068</td>\n",
              "      <td>4.998647</td>\n",
              "      <td>134.766305</td>\n",
              "    </tr>\n",
              "    <tr>\n",
              "      <th>9</th>\n",
              "      <td>jG6Gi</td>\n",
              "      <td>1.069227</td>\n",
              "      <td>-11.025667</td>\n",
              "      <td>4.997844</td>\n",
              "      <td>137.945408</td>\n",
              "    </tr>\n",
              "  </tbody>\n",
              "</table>\n",
              "</div>"
            ],
            "text/plain": [
              "      id         f0         f1        f2     product\n",
              "0  kBEdx -15.001348  -8.276000 -0.005876    3.179103\n",
              "1  62mP7  14.272088  -3.475083  0.999183   26.953261\n",
              "2  vyE1P   6.263187  -5.948386  5.001160  134.766305\n",
              "3  KcrkZ -13.081196 -11.506057  4.999415  137.945408\n",
              "4  AHL4O  12.702195  -8.147433  5.004363  134.766305\n",
              "5  HHckp  -3.327590  -2.205276  3.003647   84.038886\n",
              "6  h5Ujo -11.142655 -10.133399  4.002382  110.992147\n",
              "7  muH9x   4.234715  -0.001354  2.004588   53.906522\n",
              "8  YiRkx  13.355129  -0.332068  4.998647  134.766305\n",
              "9  jG6Gi   1.069227 -11.025667  4.997844  137.945408"
            ]
          },
          "execution_count": 6,
          "metadata": {},
          "output_type": "execute_result"
        }
      ],
      "source": [
        "region_1.head(10)"
      ]
    },
    {
      "cell_type": "code",
      "execution_count": null,
      "metadata": {
        "scrolled": true,
        "id": "u70iM4e5F7r_",
        "outputId": "b9302842-520c-4735-9b88-e6c1c3daf2e1"
      },
      "outputs": [
        {
          "name": "stdout",
          "output_type": "stream",
          "text": [
            "<class 'pandas.core.frame.DataFrame'>\n",
            "RangeIndex: 100000 entries, 0 to 99999\n",
            "Data columns (total 5 columns):\n",
            " #   Column   Non-Null Count   Dtype  \n",
            "---  ------   --------------   -----  \n",
            " 0   id       100000 non-null  object \n",
            " 1   f0       100000 non-null  float64\n",
            " 2   f1       100000 non-null  float64\n",
            " 3   f2       100000 non-null  float64\n",
            " 4   product  100000 non-null  float64\n",
            "dtypes: float64(4), object(1)\n",
            "memory usage: 3.8+ MB\n"
          ]
        }
      ],
      "source": [
        "region_1.info()"
      ]
    },
    {
      "cell_type": "code",
      "execution_count": null,
      "metadata": {
        "scrolled": true,
        "id": "bKIuRDu-F7sA",
        "outputId": "bbe004db-4798-4b00-8709-d3aa813df09a"
      },
      "outputs": [
        {
          "data": {
            "text/html": [
              "<div>\n",
              "<style scoped>\n",
              "    .dataframe tbody tr th:only-of-type {\n",
              "        vertical-align: middle;\n",
              "    }\n",
              "\n",
              "    .dataframe tbody tr th {\n",
              "        vertical-align: top;\n",
              "    }\n",
              "\n",
              "    .dataframe thead th {\n",
              "        text-align: right;\n",
              "    }\n",
              "</style>\n",
              "<table border=\"1\" class=\"dataframe\">\n",
              "  <thead>\n",
              "    <tr style=\"text-align: right;\">\n",
              "      <th></th>\n",
              "      <th>f0</th>\n",
              "      <th>f1</th>\n",
              "      <th>f2</th>\n",
              "      <th>product</th>\n",
              "    </tr>\n",
              "  </thead>\n",
              "  <tbody>\n",
              "    <tr>\n",
              "      <th>count</th>\n",
              "      <td>100000.000000</td>\n",
              "      <td>100000.000000</td>\n",
              "      <td>100000.000000</td>\n",
              "      <td>100000.000000</td>\n",
              "    </tr>\n",
              "    <tr>\n",
              "      <th>mean</th>\n",
              "      <td>1.141296</td>\n",
              "      <td>-4.796579</td>\n",
              "      <td>2.494541</td>\n",
              "      <td>68.825000</td>\n",
              "    </tr>\n",
              "    <tr>\n",
              "      <th>std</th>\n",
              "      <td>8.965932</td>\n",
              "      <td>5.119872</td>\n",
              "      <td>1.703572</td>\n",
              "      <td>45.944423</td>\n",
              "    </tr>\n",
              "    <tr>\n",
              "      <th>min</th>\n",
              "      <td>-31.609576</td>\n",
              "      <td>-26.358598</td>\n",
              "      <td>-0.018144</td>\n",
              "      <td>0.000000</td>\n",
              "    </tr>\n",
              "    <tr>\n",
              "      <th>25%</th>\n",
              "      <td>-6.298551</td>\n",
              "      <td>-8.267985</td>\n",
              "      <td>1.000021</td>\n",
              "      <td>26.953261</td>\n",
              "    </tr>\n",
              "    <tr>\n",
              "      <th>50%</th>\n",
              "      <td>1.153055</td>\n",
              "      <td>-4.813172</td>\n",
              "      <td>2.011479</td>\n",
              "      <td>57.085625</td>\n",
              "    </tr>\n",
              "    <tr>\n",
              "      <th>75%</th>\n",
              "      <td>8.621015</td>\n",
              "      <td>-1.332816</td>\n",
              "      <td>3.999904</td>\n",
              "      <td>107.813044</td>\n",
              "    </tr>\n",
              "    <tr>\n",
              "      <th>max</th>\n",
              "      <td>29.421755</td>\n",
              "      <td>18.734063</td>\n",
              "      <td>5.019721</td>\n",
              "      <td>137.945408</td>\n",
              "    </tr>\n",
              "  </tbody>\n",
              "</table>\n",
              "</div>"
            ],
            "text/plain": [
              "                  f0             f1             f2        product\n",
              "count  100000.000000  100000.000000  100000.000000  100000.000000\n",
              "mean        1.141296      -4.796579       2.494541      68.825000\n",
              "std         8.965932       5.119872       1.703572      45.944423\n",
              "min       -31.609576     -26.358598      -0.018144       0.000000\n",
              "25%        -6.298551      -8.267985       1.000021      26.953261\n",
              "50%         1.153055      -4.813172       2.011479      57.085625\n",
              "75%         8.621015      -1.332816       3.999904     107.813044\n",
              "max        29.421755      18.734063       5.019721     137.945408"
            ]
          },
          "execution_count": 8,
          "metadata": {},
          "output_type": "execute_result"
        }
      ],
      "source": [
        "region_1.describe()"
      ]
    },
    {
      "cell_type": "code",
      "execution_count": null,
      "metadata": {
        "id": "NDX-xWTSF7sA",
        "outputId": "1078eb0e-0411-4f2e-e9e8-e13419c8de82"
      },
      "outputs": [
        {
          "data": {
            "text/plain": [
              "0"
            ]
          },
          "execution_count": 9,
          "metadata": {},
          "output_type": "execute_result"
        }
      ],
      "source": [
        "region_1.duplicated().sum()"
      ]
    },
    {
      "cell_type": "markdown",
      "metadata": {
        "id": "4PrD5IqyF7sB"
      },
      "source": [
        "С этой таблицей тоже всё хорошо. Кстати, можем заметить, что есть скважины совсем без сырья."
      ]
    },
    {
      "cell_type": "code",
      "execution_count": null,
      "metadata": {
        "id": "bVnnGPU9F7sB",
        "outputId": "9ef4d7a3-68f1-405c-8a9c-a07047aa87a5"
      },
      "outputs": [
        {
          "data": {
            "text/html": [
              "<div>\n",
              "<style scoped>\n",
              "    .dataframe tbody tr th:only-of-type {\n",
              "        vertical-align: middle;\n",
              "    }\n",
              "\n",
              "    .dataframe tbody tr th {\n",
              "        vertical-align: top;\n",
              "    }\n",
              "\n",
              "    .dataframe thead th {\n",
              "        text-align: right;\n",
              "    }\n",
              "</style>\n",
              "<table border=\"1\" class=\"dataframe\">\n",
              "  <thead>\n",
              "    <tr style=\"text-align: right;\">\n",
              "      <th></th>\n",
              "      <th>id</th>\n",
              "      <th>f0</th>\n",
              "      <th>f1</th>\n",
              "      <th>f2</th>\n",
              "      <th>product</th>\n",
              "    </tr>\n",
              "  </thead>\n",
              "  <tbody>\n",
              "    <tr>\n",
              "      <th>0</th>\n",
              "      <td>fwXo0</td>\n",
              "      <td>-1.146987</td>\n",
              "      <td>0.963328</td>\n",
              "      <td>-0.828965</td>\n",
              "      <td>27.758673</td>\n",
              "    </tr>\n",
              "    <tr>\n",
              "      <th>1</th>\n",
              "      <td>WJtFt</td>\n",
              "      <td>0.262778</td>\n",
              "      <td>0.269839</td>\n",
              "      <td>-2.530187</td>\n",
              "      <td>56.069697</td>\n",
              "    </tr>\n",
              "    <tr>\n",
              "      <th>2</th>\n",
              "      <td>ovLUW</td>\n",
              "      <td>0.194587</td>\n",
              "      <td>0.289035</td>\n",
              "      <td>-5.586433</td>\n",
              "      <td>62.871910</td>\n",
              "    </tr>\n",
              "    <tr>\n",
              "      <th>3</th>\n",
              "      <td>q6cA6</td>\n",
              "      <td>2.236060</td>\n",
              "      <td>-0.553760</td>\n",
              "      <td>0.930038</td>\n",
              "      <td>114.572842</td>\n",
              "    </tr>\n",
              "    <tr>\n",
              "      <th>4</th>\n",
              "      <td>WPMUX</td>\n",
              "      <td>-0.515993</td>\n",
              "      <td>1.716266</td>\n",
              "      <td>5.899011</td>\n",
              "      <td>149.600746</td>\n",
              "    </tr>\n",
              "    <tr>\n",
              "      <th>5</th>\n",
              "      <td>LzZXx</td>\n",
              "      <td>-0.758092</td>\n",
              "      <td>0.710691</td>\n",
              "      <td>2.585887</td>\n",
              "      <td>90.222465</td>\n",
              "    </tr>\n",
              "    <tr>\n",
              "      <th>6</th>\n",
              "      <td>WBHRv</td>\n",
              "      <td>-0.574891</td>\n",
              "      <td>0.317727</td>\n",
              "      <td>1.773745</td>\n",
              "      <td>45.641478</td>\n",
              "    </tr>\n",
              "    <tr>\n",
              "      <th>7</th>\n",
              "      <td>XO8fn</td>\n",
              "      <td>-1.906649</td>\n",
              "      <td>-2.458350</td>\n",
              "      <td>-0.177097</td>\n",
              "      <td>72.480640</td>\n",
              "    </tr>\n",
              "    <tr>\n",
              "      <th>8</th>\n",
              "      <td>ybmQ5</td>\n",
              "      <td>1.776292</td>\n",
              "      <td>-0.279356</td>\n",
              "      <td>3.004156</td>\n",
              "      <td>106.616832</td>\n",
              "    </tr>\n",
              "    <tr>\n",
              "      <th>9</th>\n",
              "      <td>OilcN</td>\n",
              "      <td>-1.214452</td>\n",
              "      <td>-0.439314</td>\n",
              "      <td>5.922514</td>\n",
              "      <td>52.954532</td>\n",
              "    </tr>\n",
              "  </tbody>\n",
              "</table>\n",
              "</div>"
            ],
            "text/plain": [
              "      id        f0        f1        f2     product\n",
              "0  fwXo0 -1.146987  0.963328 -0.828965   27.758673\n",
              "1  WJtFt  0.262778  0.269839 -2.530187   56.069697\n",
              "2  ovLUW  0.194587  0.289035 -5.586433   62.871910\n",
              "3  q6cA6  2.236060 -0.553760  0.930038  114.572842\n",
              "4  WPMUX -0.515993  1.716266  5.899011  149.600746\n",
              "5  LzZXx -0.758092  0.710691  2.585887   90.222465\n",
              "6  WBHRv -0.574891  0.317727  1.773745   45.641478\n",
              "7  XO8fn -1.906649 -2.458350 -0.177097   72.480640\n",
              "8  ybmQ5  1.776292 -0.279356  3.004156  106.616832\n",
              "9  OilcN -1.214452 -0.439314  5.922514   52.954532"
            ]
          },
          "execution_count": 10,
          "metadata": {},
          "output_type": "execute_result"
        }
      ],
      "source": [
        "region_2.head(10)"
      ]
    },
    {
      "cell_type": "code",
      "execution_count": null,
      "metadata": {
        "id": "RarErXTDF7sB",
        "outputId": "a8997952-438e-436b-a9a9-494da2b80ee0"
      },
      "outputs": [
        {
          "name": "stdout",
          "output_type": "stream",
          "text": [
            "<class 'pandas.core.frame.DataFrame'>\n",
            "RangeIndex: 100000 entries, 0 to 99999\n",
            "Data columns (total 5 columns):\n",
            " #   Column   Non-Null Count   Dtype  \n",
            "---  ------   --------------   -----  \n",
            " 0   id       100000 non-null  object \n",
            " 1   f0       100000 non-null  float64\n",
            " 2   f1       100000 non-null  float64\n",
            " 3   f2       100000 non-null  float64\n",
            " 4   product  100000 non-null  float64\n",
            "dtypes: float64(4), object(1)\n",
            "memory usage: 3.8+ MB\n"
          ]
        }
      ],
      "source": [
        "region_2.info()"
      ]
    },
    {
      "cell_type": "code",
      "execution_count": null,
      "metadata": {
        "scrolled": true,
        "id": "e5QONSK3F7sB",
        "outputId": "91635568-7217-425b-cd0b-6abee1b11019"
      },
      "outputs": [
        {
          "data": {
            "text/html": [
              "<div>\n",
              "<style scoped>\n",
              "    .dataframe tbody tr th:only-of-type {\n",
              "        vertical-align: middle;\n",
              "    }\n",
              "\n",
              "    .dataframe tbody tr th {\n",
              "        vertical-align: top;\n",
              "    }\n",
              "\n",
              "    .dataframe thead th {\n",
              "        text-align: right;\n",
              "    }\n",
              "</style>\n",
              "<table border=\"1\" class=\"dataframe\">\n",
              "  <thead>\n",
              "    <tr style=\"text-align: right;\">\n",
              "      <th></th>\n",
              "      <th>f0</th>\n",
              "      <th>f1</th>\n",
              "      <th>f2</th>\n",
              "      <th>product</th>\n",
              "    </tr>\n",
              "  </thead>\n",
              "  <tbody>\n",
              "    <tr>\n",
              "      <th>count</th>\n",
              "      <td>100000.000000</td>\n",
              "      <td>100000.000000</td>\n",
              "      <td>100000.000000</td>\n",
              "      <td>100000.000000</td>\n",
              "    </tr>\n",
              "    <tr>\n",
              "      <th>mean</th>\n",
              "      <td>0.002023</td>\n",
              "      <td>-0.002081</td>\n",
              "      <td>2.495128</td>\n",
              "      <td>95.000000</td>\n",
              "    </tr>\n",
              "    <tr>\n",
              "      <th>std</th>\n",
              "      <td>1.732045</td>\n",
              "      <td>1.730417</td>\n",
              "      <td>3.473445</td>\n",
              "      <td>44.749921</td>\n",
              "    </tr>\n",
              "    <tr>\n",
              "      <th>min</th>\n",
              "      <td>-8.760004</td>\n",
              "      <td>-7.084020</td>\n",
              "      <td>-11.970335</td>\n",
              "      <td>0.000000</td>\n",
              "    </tr>\n",
              "    <tr>\n",
              "      <th>25%</th>\n",
              "      <td>-1.162288</td>\n",
              "      <td>-1.174820</td>\n",
              "      <td>0.130359</td>\n",
              "      <td>59.450441</td>\n",
              "    </tr>\n",
              "    <tr>\n",
              "      <th>50%</th>\n",
              "      <td>0.009424</td>\n",
              "      <td>-0.009482</td>\n",
              "      <td>2.484236</td>\n",
              "      <td>94.925613</td>\n",
              "    </tr>\n",
              "    <tr>\n",
              "      <th>75%</th>\n",
              "      <td>1.158535</td>\n",
              "      <td>1.163678</td>\n",
              "      <td>4.858794</td>\n",
              "      <td>130.595027</td>\n",
              "    </tr>\n",
              "    <tr>\n",
              "      <th>max</th>\n",
              "      <td>7.238262</td>\n",
              "      <td>7.844801</td>\n",
              "      <td>16.739402</td>\n",
              "      <td>190.029838</td>\n",
              "    </tr>\n",
              "  </tbody>\n",
              "</table>\n",
              "</div>"
            ],
            "text/plain": [
              "                  f0             f1             f2        product\n",
              "count  100000.000000  100000.000000  100000.000000  100000.000000\n",
              "mean        0.002023      -0.002081       2.495128      95.000000\n",
              "std         1.732045       1.730417       3.473445      44.749921\n",
              "min        -8.760004      -7.084020     -11.970335       0.000000\n",
              "25%        -1.162288      -1.174820       0.130359      59.450441\n",
              "50%         0.009424      -0.009482       2.484236      94.925613\n",
              "75%         1.158535       1.163678       4.858794     130.595027\n",
              "max         7.238262       7.844801      16.739402     190.029838"
            ]
          },
          "execution_count": 12,
          "metadata": {},
          "output_type": "execute_result"
        }
      ],
      "source": [
        "region_2.describe()"
      ]
    },
    {
      "cell_type": "code",
      "execution_count": null,
      "metadata": {
        "scrolled": true,
        "id": "p2hOa_rbF7sD",
        "outputId": "4a257dd7-bcdc-4e61-b4b6-23fe792499d5"
      },
      "outputs": [
        {
          "data": {
            "text/plain": [
              "0"
            ]
          },
          "execution_count": 13,
          "metadata": {},
          "output_type": "execute_result"
        }
      ],
      "source": [
        "region_2.duplicated().sum()"
      ]
    },
    {
      "cell_type": "markdown",
      "metadata": {
        "id": "elA9g_OgF7sD"
      },
      "source": [
        "И тут всё нормально. С типами данных тоже порядок, ничего заменять не требуется.\n",
        "  \n",
        "Так как в признаках у нас встречаются и отрицательные, и положительные значения разной величины, то можно сделать вывод, что  признаки уже масштабированы."
      ]
    },
    {
      "cell_type": "markdown",
      "metadata": {
        "id": "CCz8UzHfF7sD"
      },
      "source": [
        "## Обучение и проверка модели"
      ]
    },
    {
      "cell_type": "markdown",
      "metadata": {
        "id": "YzBenEd_F7sD"
      },
      "source": [
        "Разделим данные на признаки и целевой признак"
      ]
    },
    {
      "cell_type": "code",
      "execution_count": null,
      "metadata": {
        "id": "fv8h6KBHF7sE"
      },
      "outputs": [],
      "source": [
        "feature_names = ['f0', 'f1', 'f2']\n",
        "\n",
        "features_0 = region_0[feature_names]\n",
        "target_0 = region_0['product']\n",
        "features_1 = region_1[feature_names]\n",
        "target_1 = region_1['product']\n",
        "features_2 = region_2[feature_names]\n",
        "target_2 = region_2['product']"
      ]
    },
    {
      "cell_type": "markdown",
      "metadata": {
        "id": "-kFYI4FoF7sE"
      },
      "source": [
        "Разделим данные на обучающую и валидационную выборки"
      ]
    },
    {
      "cell_type": "code",
      "execution_count": null,
      "metadata": {
        "id": "lKFbrXHPF7sE"
      },
      "outputs": [],
      "source": [
        "features_0_train, features_0_valid, target_0_train, target_0_valid = train_test_split(\n",
        "    features_0, target_0, test_size=0.25, random_state=12345)\n",
        "\n",
        "features_1_train, features_1_valid, target_1_train, target_1_valid = train_test_split(\n",
        "    features_1, target_1, test_size=0.25, random_state=12345)\n",
        "\n",
        "features_2_train, features_2_valid, target_2_train, target_2_valid = train_test_split(\n",
        "    features_2, target_2, test_size=0.25, random_state=12345)"
      ]
    },
    {
      "cell_type": "markdown",
      "metadata": {
        "id": "B1vmT6UCF7sE"
      },
      "source": [
        "Обучим модель линейной регресии для каждого региона, выведем оценку RMSE и средний запас предсказанного сырья в месторождении."
      ]
    },
    {
      "cell_type": "code",
      "execution_count": null,
      "metadata": {
        "id": "q35KE_J_F7sE",
        "outputId": "b0eaac47-6277-47fe-8c20-202fb4f26aa8"
      },
      "outputs": [
        {
          "name": "stdout",
          "output_type": "stream",
          "text": [
            "RMSE: 37.579\n",
            "Cредний запас предсказанного сырья: 92.593\n"
          ]
        }
      ],
      "source": [
        "model_lr_0 = LinearRegression().fit(features_0_train, target_0_train)\n",
        "\n",
        "\n",
        "predictions_0 = model_lr_0.predict(features_0_valid)\n",
        "\n",
        "\n",
        "print('RMSE:','{:.3f}'.format(mean_squared_error(target_0_valid,predictions_0)**0.5))\n",
        "print('Cредний запас предсказанного сырья: {:.3f}'.format(predictions_0.mean()))"
      ]
    },
    {
      "cell_type": "code",
      "execution_count": null,
      "metadata": {
        "id": "gIw9ifWzF7sF",
        "outputId": "3586af27-1067-4711-93d5-c010fae34835"
      },
      "outputs": [
        {
          "name": "stdout",
          "output_type": "stream",
          "text": [
            "RMSE: 0.893\n",
            "Cредний запас предсказанного сырья: 68.729\n"
          ]
        }
      ],
      "source": [
        "model_lr_1 = LinearRegression().fit(features_1_train, target_1_train)\n",
        "\n",
        "\n",
        "predictions_1 = model_lr_1.predict(features_1_valid)\n",
        "\n",
        "\n",
        "print('RMSE:','{:.3f}'.format(mean_squared_error(target_1_valid,predictions_1)**0.5))\n",
        "print('Cредний запас предсказанного сырья: {:.3f}'.format(predictions_1.mean()))"
      ]
    },
    {
      "cell_type": "code",
      "execution_count": null,
      "metadata": {
        "id": "8uJbesGXF7sF",
        "outputId": "d0749382-ac49-4fcd-aa66-cbf234647a61"
      },
      "outputs": [
        {
          "name": "stdout",
          "output_type": "stream",
          "text": [
            "RMSE: 40.030\n",
            "Cредний запас предсказанного сырья: 94.965\n"
          ]
        }
      ],
      "source": [
        "model_lr_2 = LinearRegression().fit(features_2_train, target_2_train)\n",
        "\n",
        "\n",
        "predictions_2 = model_lr_2.predict(features_2_valid)\n",
        "\n",
        "\n",
        "print('RMSE:','{:.3f}'.format(mean_squared_error(target_2_valid,predictions_2)**0.5))\n",
        "print('Cредний запас предсказанного сырья: {:.3f}'.format(predictions_2.mean()))"
      ]
    },
    {
      "cell_type": "markdown",
      "metadata": {
        "id": "b9TfW7ujF7sF"
      },
      "source": [
        "Сразу бросается в глаза, что у второго региона RMSE стремится к нулю. Это говорит о точности предсказаний и качестве построенной модели. Однако средний запас нефти в этом регионе меньше почти на 30 тыс. баррелей, чем в остальных."
      ]
    },
    {
      "cell_type": "markdown",
      "metadata": {
        "id": "4exVWqrKF7sF"
      },
      "source": [
        "## Подготовка к расчёту прибыли"
      ]
    },
    {
      "cell_type": "markdown",
      "metadata": {
        "id": "gWmTbHYwF7sF"
      },
      "source": [
        "**Задачи:**\n",
        "\n",
        "1. Рассчитать достаточный объём сырья для безубыточной разработки новой скважины.\n",
        "2. Сравнить полученный объём сырья со средним запасом в каждом регионе.\n",
        "3. Написать функцию для расчёта прибыли по выбранным скважинам и предсказаниям модели\n",
        "\n",
        "Сохраним в отдельных переменных все ключевые значения для расчета прибыли и рисков.\n",
        "\n",
        "*budget* — Бюджет на разработку скважин в регионе — 10 млрд рублей  \n",
        "*top_wells* — 200 лучших скважин в регионе  \n",
        "*oil_wells* — выборка из 500 скважин в регионе  \n",
        "*unit_income* — доход с каждой единицы продукта  "
      ]
    },
    {
      "cell_type": "code",
      "execution_count": null,
      "metadata": {
        "id": "psO42Qm4F7sF"
      },
      "outputs": [],
      "source": [
        "budget = 10**10\n",
        "top_wells = 200\n",
        "oil_wells = 500\n",
        "unit_income = 450000"
      ]
    },
    {
      "cell_type": "markdown",
      "metadata": {
        "id": "sYwQHU4ZF7sF"
      },
      "source": [
        "<div class=\"alert alert-warning\">\n",
        "<b>⚠️ Комментарий ревьювера:</b> Константы принято записывать заглавными буквами. Это общепринятый стандарт у программистов:\n",
        "    \n",
        "https://pythonworld.ru/osnovy/pep-8-rukovodstvo-po-napisaniyu-koda-na-python.html\n",
        "    \n",
        "Для удобства расчет можно вести в млн. рублей.\n",
        "</div>"
      ]
    },
    {
      "cell_type": "markdown",
      "metadata": {
        "id": "ucUjpradF7sF"
      },
      "source": [
        "Дальше посчитаем минимальный объём продукта с одной скважины для безубыточной разработки. Для этого мы посчитаем, сколько денег минимально получим с лучших скважин и разделим на эту сумму сумму всего бюджета."
      ]
    },
    {
      "cell_type": "code",
      "execution_count": null,
      "metadata": {
        "scrolled": true,
        "id": "-eaiHhPRF7sF",
        "outputId": "f1151b5d-58cb-4872-ab1e-c95fbf080ab4"
      },
      "outputs": [
        {
          "data": {
            "text/plain": [
              "111.11111111111111"
            ]
          },
          "execution_count": 20,
          "metadata": {},
          "output_type": "execute_result"
        }
      ],
      "source": [
        "minimal_size = budget / (top_wells * unit_income)\n",
        "minimal_size"
      ]
    },
    {
      "cell_type": "markdown",
      "metadata": {
        "id": "_tO7ZBRCF7sF"
      },
      "source": [
        "### Вывод"
      ]
    },
    {
      "cell_type": "markdown",
      "metadata": {
        "id": "nFWe0uyIF7sH"
      },
      "source": [
        "1. Минимальный объём продукта для безубыточной разработки составляет 111.11 тыс. баррелей.\n",
        "2. Это значение превышает средние значения запасов скважин по всем регионам."
      ]
    },
    {
      "cell_type": "markdown",
      "metadata": {
        "id": "SefkevdwF7sH"
      },
      "source": [
        "## Расчёт прибыли и рисков"
      ]
    },
    {
      "cell_type": "markdown",
      "metadata": {
        "id": "MtSZZkgMF7sH"
      },
      "source": [
        "### Прибыль"
      ]
    },
    {
      "cell_type": "markdown",
      "metadata": {
        "id": "5B_Oz4-pF7sH"
      },
      "source": [
        "Напишем функцию для расчёта прибыли по выбранным скважинам и предсказаниям модели:\n",
        "\n",
        "1. Выберем скважины с максимальными значениями предсказаний. Количество скважин зависит от бюджета компании и стоимости разработки одной скважины. В нашем случае выберем случайно 500 точек и отберём 200 с максимальным показателем объёма сырья\n",
        "2. Просуммируем целевое значение объёма сырья, соответствующее этим предсказаниям.\n",
        "3. Рассчитаем прибыль для полученного объёма сырья."
      ]
    },
    {
      "cell_type": "code",
      "execution_count": null,
      "metadata": {
        "id": "pw9gcWb2F7sH"
      },
      "outputs": [],
      "source": [
        "target_0_valid = pd.Series(target_0_valid).reset_index(drop=True)\n",
        "target_1_valid = pd.Series(target_1_valid).reset_index(drop=True)\n",
        "target_2_valid = pd.Series(target_2_valid).reset_index(drop=True)"
      ]
    },
    {
      "cell_type": "code",
      "execution_count": null,
      "metadata": {
        "id": "fogINDa8F7sH"
      },
      "outputs": [],
      "source": [
        "predictions_0 = pd.Series(predictions_0)\n",
        "predictions_1 = pd.Series(predictions_1)\n",
        "predictions_2 = pd.Series(predictions_2)"
      ]
    },
    {
      "cell_type": "markdown",
      "metadata": {
        "id": "Pz_Wy0IsF7sH"
      },
      "source": [
        "Функция берёт выборку размера oil_wells, выбирает top_wells из самых больших значений и считает суммарный целевой объём сырья и прибыль для полученного объёма сырья.  \n",
        "Если show_res=True, то функция выведет текст с результатами, а если False, то просто вернёт значение прибыли. Результаты мы выведем в этом пункте, а просто прибыль нам будет нужна при подсчёте рисков"
      ]
    },
    {
      "cell_type": "code",
      "execution_count": null,
      "metadata": {
        "id": "hxUQfpE5F7sI"
      },
      "outputs": [],
      "source": [
        "state = 12345\n",
        "def income(target, predictions, region, state, show_res=True):\n",
        "\n",
        "    sample_preds = predictions.sample(n=oil_wells, random_state=state)\n",
        "    top_preds = sample_preds.sort_values(ascending=False)[:top_wells]\n",
        "    top_targets = target[top_preds.index]\n",
        "    volume = sum(top_targets)\n",
        "    income = volume * unit_income - budget\n",
        "    if show_res:\n",
        "        print(region)\n",
        "        print('Суммарный целевой объём сырья: {:.2f}'.format(volume))\n",
        "        print('Прибыль для полученного объёма сырья: {:.2f}'.format(income))\n",
        "    else:\n",
        "        return income"
      ]
    },
    {
      "cell_type": "code",
      "execution_count": null,
      "metadata": {
        "id": "dBUNcxQtF7sI",
        "outputId": "d7b6d47f-66b3-42a0-d772-cac689848fd8"
      },
      "outputs": [
        {
          "name": "stdout",
          "output_type": "stream",
          "text": [
            "Регион 0\n",
            "Суммарный целевой объём сырья: 23731.26\n",
            "Прибыль для полученного объёма сырья: 679068857.89\n"
          ]
        }
      ],
      "source": [
        "income(target_0_valid, predictions_0, 'Регион 0', state, show_res=True)"
      ]
    },
    {
      "cell_type": "code",
      "execution_count": null,
      "metadata": {
        "id": "oLePyHd_F7sI",
        "outputId": "6b550e03-595a-45db-e743-5943dbaa753a"
      },
      "outputs": [
        {
          "name": "stdout",
          "output_type": "stream",
          "text": [
            "Регион 1\n",
            "Суммарный целевой объём сырья: 23954.40\n",
            "Прибыль для полученного объёма сырья: 779479884.18\n"
          ]
        }
      ],
      "source": [
        "income(target_1_valid, predictions_1, 'Регион 1', state, show_res=True)"
      ]
    },
    {
      "cell_type": "code",
      "execution_count": null,
      "metadata": {
        "scrolled": true,
        "id": "wLTMgPoLF7sI",
        "outputId": "c46ded95-68c1-4823-c92e-df749ef1bb3c"
      },
      "outputs": [
        {
          "name": "stdout",
          "output_type": "stream",
          "text": [
            "Регион 2\n",
            "Суммарный целевой объём сырья: 23199.98\n",
            "Прибыль для полученного объёма сырья: 439990143.02\n"
          ]
        }
      ],
      "source": [
        "income(target_2_valid, predictions_2, 'Регион 2', state, show_res=True)"
      ]
    },
    {
      "cell_type": "markdown",
      "metadata": {
        "id": "HUMtU_CTF7sI"
      },
      "source": [
        "### Риски"
      ]
    },
    {
      "cell_type": "markdown",
      "metadata": {
        "id": "LkWRK-b-F7sJ"
      },
      "source": [
        "**Задачи:**\n",
        "\n",
        "1. Применим технику Bootstrap с 1000 выборок, чтобы найти распределение прибыли.\n",
        "2. Найдём среднюю прибыль, 95%-й доверительный интервал и риск убытков. Убыток — это отрицательная прибыль."
      ]
    },
    {
      "cell_type": "code",
      "execution_count": null,
      "metadata": {
        "id": "qNEzHZWlF7sJ"
      },
      "outputs": [],
      "source": [
        "def bootstrap(predictions, region, target):\n",
        "    state = np.random.RandomState(12345)\n",
        "    values = []\n",
        "\n",
        "\n",
        "    for i in range(1000):\n",
        "        #income = income(target, predicts, region, state, replace=True, show_res=False)\n",
        "        values.append(income(target, predictions, region, state, show_res=False))\n",
        "\n",
        "    # находим доверительный интервал и риск убытков\n",
        "    values = pd.Series(values)\n",
        "    lower = values.quantile(0.025)\n",
        "    upper = values.quantile(0.975)\n",
        "    risk = len(values[values<0])/len(values)\n",
        "\n",
        "    print(region)\n",
        "    print('Средняя прибыль:','{:.2f}'.format(values.mean()))\n",
        "    print('Начало доверительного интервала:','{:.4f}'.format(lower))\n",
        "    print('Конец доверительного интервала:','{:.4f}'.format(upper))\n",
        "    print('Риск убытков: {:.2f} %'.format(risk * 100))"
      ]
    },
    {
      "cell_type": "code",
      "execution_count": null,
      "metadata": {
        "scrolled": false,
        "id": "qZhmbaDUF7sJ",
        "outputId": "b188c512-ded8-48da-90ba-d293c7701f2c"
      },
      "outputs": [
        {
          "name": "stdout",
          "output_type": "stream",
          "text": [
            "Регион 0\n",
            "Средняя прибыль: 380710890.71\n",
            "Начало доверительного интервала: -126947638.0318\n",
            "Конец доверительного интервала: 879613967.8478\n",
            "Риск убытков: 7.20 %\n"
          ]
        }
      ],
      "source": [
        "values = bootstrap(predictions_0, 'Регион 0', target_0_valid)"
      ]
    },
    {
      "cell_type": "code",
      "execution_count": null,
      "metadata": {
        "id": "SlFWTsQoF7sJ",
        "outputId": "e9a38694-1976-4130-fddc-6d95dbf835e0"
      },
      "outputs": [
        {
          "name": "stdout",
          "output_type": "stream",
          "text": [
            "Регион 1\n",
            "Средняя прибыль: 448231065.15\n",
            "Начало доверительного интервала: 70899384.9354\n",
            "Конец доверительного интервала: 892985249.7001\n",
            "Риск убытков: 1.40 %\n"
          ]
        }
      ],
      "source": [
        "values = bootstrap(predictions_1, 'Регион 1', target_1_valid)"
      ]
    },
    {
      "cell_type": "code",
      "execution_count": null,
      "metadata": {
        "scrolled": true,
        "id": "7a6th_1TF7sJ",
        "outputId": "4f0d9ad8-1906-4fe9-f975-9736b87af14b"
      },
      "outputs": [
        {
          "name": "stdout",
          "output_type": "stream",
          "text": [
            "Регион 2\n",
            "Средняя прибыль: 402796587.17\n",
            "Начало доверительного интервала: -143659306.8483\n",
            "Конец доверительного интервала: 963026154.4863\n",
            "Риск убытков: 7.10 %\n"
          ]
        }
      ],
      "source": [
        "values = bootstrap(predictions_2, 'Регион 2', target_2_valid)"
      ]
    },
    {
      "cell_type": "markdown",
      "metadata": {
        "id": "qhur9Qr1F7sJ"
      },
      "source": [
        "<div class=\"alert alert-success\">\n",
        "<b> ✔️ Комментарий ревьювера:</b>\n",
        "    \n",
        "Вот небольшая статья по бутстрэпу в том числе, вдруг заинтересует:\n",
        "\n",
        "https://habr.com/ru/company/ods/blog/324402/\n",
        "    \n",
        "</div>"
      ]
    },
    {
      "cell_type": "markdown",
      "metadata": {
        "id": "jPqCbEk7F7sK"
      },
      "source": [
        "## Вывод"
      ]
    },
    {
      "cell_type": "markdown",
      "metadata": {
        "id": "qM7jUQ9uF7sK"
      },
      "source": [
        "Бурить скважину лучше в регионе 1, так как:\n",
        "\n",
        "1. Из всех регионов максимальная прибыль именно в нём (448.23 млн против 380 млн и 402 млн).\n",
        "2. Только регион 1 прогнозирует прибыльную разработку по 95% доверительному интервалу.\n",
        "3. Риск убытков для региона 1 самый минимальный — 1.4%, он почти на 6% ниже, чем в 0 и 2 регионах.\n"
      ]
    }
  ],
  "metadata": {
    "ExecuteTimeLog": [
      {
        "duration": 2156,
        "start_time": "2022-05-24T20:44:13.202Z"
      },
      {
        "duration": 15,
        "start_time": "2022-05-24T20:49:30.849Z"
      },
      {
        "duration": 14,
        "start_time": "2022-05-24T23:14:37.979Z"
      },
      {
        "duration": 42,
        "start_time": "2022-05-24T23:14:43.823Z"
      },
      {
        "duration": 34,
        "start_time": "2022-05-24T23:15:32.044Z"
      },
      {
        "duration": 12,
        "start_time": "2022-05-24T23:15:37.088Z"
      },
      {
        "duration": 17,
        "start_time": "2022-05-24T23:15:37.910Z"
      },
      {
        "duration": 36,
        "start_time": "2022-05-24T23:15:38.443Z"
      },
      {
        "duration": 31,
        "start_time": "2022-05-24T23:16:44.970Z"
      },
      {
        "duration": 10,
        "start_time": "2022-05-24T23:16:51.609Z"
      },
      {
        "duration": 15,
        "start_time": "2022-05-24T23:16:52.277Z"
      },
      {
        "duration": 36,
        "start_time": "2022-05-24T23:16:55.762Z"
      },
      {
        "duration": 66,
        "start_time": "2022-05-24T23:26:30.502Z"
      },
      {
        "duration": 42,
        "start_time": "2022-05-24T23:26:54.359Z"
      },
      {
        "duration": 89,
        "start_time": "2022-05-24T23:27:01.983Z"
      },
      {
        "duration": 33,
        "start_time": "2022-05-24T23:27:13.994Z"
      },
      {
        "duration": 12,
        "start_time": "2022-05-25T00:29:28.473Z"
      },
      {
        "duration": 467,
        "start_time": "2022-05-25T00:30:08.943Z"
      },
      {
        "duration": 12,
        "start_time": "2022-05-25T00:32:50.448Z"
      },
      {
        "duration": 12,
        "start_time": "2022-05-25T00:33:18.524Z"
      },
      {
        "duration": 56,
        "start_time": "2022-05-25T00:34:22.534Z"
      },
      {
        "duration": 387,
        "start_time": "2022-05-25T00:34:59.407Z"
      },
      {
        "duration": 64,
        "start_time": "2022-05-25T00:37:48.955Z"
      },
      {
        "duration": 156,
        "start_time": "2022-05-25T00:45:54.624Z"
      },
      {
        "duration": 1534,
        "start_time": "2022-05-25T00:47:39.102Z"
      },
      {
        "duration": 13,
        "start_time": "2022-05-25T00:47:40.637Z"
      },
      {
        "duration": 13,
        "start_time": "2022-05-25T00:47:40.651Z"
      },
      {
        "duration": 32,
        "start_time": "2022-05-25T00:47:40.666Z"
      },
      {
        "duration": 56,
        "start_time": "2022-05-25T00:47:40.700Z"
      },
      {
        "duration": 9,
        "start_time": "2022-05-25T00:47:40.758Z"
      },
      {
        "duration": 16,
        "start_time": "2022-05-25T00:47:40.769Z"
      },
      {
        "duration": 54,
        "start_time": "2022-05-25T00:47:40.786Z"
      },
      {
        "duration": 34,
        "start_time": "2022-05-25T00:47:40.842Z"
      },
      {
        "duration": 9,
        "start_time": "2022-05-25T00:47:40.878Z"
      },
      {
        "duration": 18,
        "start_time": "2022-05-25T00:47:40.888Z"
      },
      {
        "duration": 50,
        "start_time": "2022-05-25T00:47:40.907Z"
      },
      {
        "duration": 40,
        "start_time": "2022-05-25T00:47:40.959Z"
      },
      {
        "duration": 27,
        "start_time": "2022-05-25T00:47:41.000Z"
      },
      {
        "duration": 19,
        "start_time": "2022-05-25T00:47:41.029Z"
      },
      {
        "duration": 45,
        "start_time": "2022-05-25T00:47:41.049Z"
      },
      {
        "duration": 141,
        "start_time": "2022-05-25T00:47:41.096Z"
      },
      {
        "duration": 1521,
        "start_time": "2022-05-25T00:53:30.451Z"
      },
      {
        "duration": 14,
        "start_time": "2022-05-25T00:53:31.974Z"
      },
      {
        "duration": 20,
        "start_time": "2022-05-25T00:53:31.990Z"
      },
      {
        "duration": 47,
        "start_time": "2022-05-25T00:53:32.012Z"
      },
      {
        "duration": 44,
        "start_time": "2022-05-25T00:53:32.060Z"
      },
      {
        "duration": 23,
        "start_time": "2022-05-25T00:53:32.106Z"
      },
      {
        "duration": 18,
        "start_time": "2022-05-25T00:53:32.131Z"
      },
      {
        "duration": 32,
        "start_time": "2022-05-25T00:53:32.151Z"
      },
      {
        "duration": 58,
        "start_time": "2022-05-25T00:53:32.185Z"
      },
      {
        "duration": 10,
        "start_time": "2022-05-25T00:53:32.245Z"
      },
      {
        "duration": 19,
        "start_time": "2022-05-25T00:53:32.256Z"
      },
      {
        "duration": 38,
        "start_time": "2022-05-25T00:53:32.276Z"
      },
      {
        "duration": 49,
        "start_time": "2022-05-25T00:53:32.315Z"
      },
      {
        "duration": 133,
        "start_time": "2022-05-25T00:53:32.366Z"
      },
      {
        "duration": 0,
        "start_time": "2022-05-25T00:53:32.500Z"
      },
      {
        "duration": 0,
        "start_time": "2022-05-25T00:53:32.501Z"
      },
      {
        "duration": 10,
        "start_time": "2022-05-25T00:54:12.567Z"
      },
      {
        "duration": 31,
        "start_time": "2022-05-25T00:54:13.714Z"
      },
      {
        "duration": 111,
        "start_time": "2022-05-25T00:54:16.118Z"
      },
      {
        "duration": 20,
        "start_time": "2022-05-25T00:56:10.432Z"
      },
      {
        "duration": 13,
        "start_time": "2022-05-25T00:57:29.828Z"
      },
      {
        "duration": 15,
        "start_time": "2022-05-25T00:57:30.238Z"
      },
      {
        "duration": 9,
        "start_time": "2022-05-25T01:16:26.866Z"
      },
      {
        "duration": 3,
        "start_time": "2022-05-25T01:16:30.221Z"
      },
      {
        "duration": 3,
        "start_time": "2022-05-25T01:16:31.219Z"
      },
      {
        "duration": 3,
        "start_time": "2022-05-25T01:16:39.498Z"
      },
      {
        "duration": 45,
        "start_time": "2022-05-25T01:26:54.729Z"
      },
      {
        "duration": 42,
        "start_time": "2022-05-25T01:57:20.482Z"
      },
      {
        "duration": 3,
        "start_time": "2022-05-25T02:30:57.296Z"
      },
      {
        "duration": 4,
        "start_time": "2022-05-25T02:30:58.147Z"
      },
      {
        "duration": 9,
        "start_time": "2022-05-25T02:31:26.690Z"
      },
      {
        "duration": 9,
        "start_time": "2022-05-25T02:31:39.620Z"
      },
      {
        "duration": 3,
        "start_time": "2022-05-25T02:34:32.344Z"
      },
      {
        "duration": 247,
        "start_time": "2022-05-25T02:34:33.402Z"
      },
      {
        "duration": 5,
        "start_time": "2022-05-25T02:34:55.530Z"
      },
      {
        "duration": 5,
        "start_time": "2022-05-25T02:35:04.898Z"
      },
      {
        "duration": 5,
        "start_time": "2022-05-25T02:35:06.802Z"
      },
      {
        "duration": 6,
        "start_time": "2022-05-25T02:35:07.324Z"
      },
      {
        "duration": 12,
        "start_time": "2022-05-25T02:35:11.434Z"
      },
      {
        "duration": 18,
        "start_time": "2022-05-25T02:35:26.764Z"
      },
      {
        "duration": 6,
        "start_time": "2022-05-25T02:35:52.016Z"
      },
      {
        "duration": 7,
        "start_time": "2022-05-25T02:35:53.575Z"
      },
      {
        "duration": 5,
        "start_time": "2022-05-25T02:37:11.493Z"
      },
      {
        "duration": 8,
        "start_time": "2022-05-25T02:37:13.277Z"
      },
      {
        "duration": 5,
        "start_time": "2022-05-25T02:38:06.718Z"
      },
      {
        "duration": 7,
        "start_time": "2022-05-25T02:38:06.987Z"
      },
      {
        "duration": 6,
        "start_time": "2022-05-25T02:38:14.013Z"
      },
      {
        "duration": 6,
        "start_time": "2022-05-25T02:38:14.437Z"
      },
      {
        "duration": 4,
        "start_time": "2022-05-25T02:38:39.271Z"
      },
      {
        "duration": 5,
        "start_time": "2022-05-25T02:45:14.264Z"
      },
      {
        "duration": 7,
        "start_time": "2022-05-25T02:45:14.779Z"
      },
      {
        "duration": 5,
        "start_time": "2022-05-25T02:45:26.053Z"
      },
      {
        "duration": 7,
        "start_time": "2022-05-25T02:45:26.521Z"
      },
      {
        "duration": 4,
        "start_time": "2022-05-25T02:46:34.110Z"
      },
      {
        "duration": 5,
        "start_time": "2022-05-25T02:46:34.434Z"
      },
      {
        "duration": 1631,
        "start_time": "2022-05-25T02:53:42.237Z"
      },
      {
        "duration": 14,
        "start_time": "2022-05-25T02:53:43.871Z"
      },
      {
        "duration": 28,
        "start_time": "2022-05-25T02:53:43.889Z"
      },
      {
        "duration": 46,
        "start_time": "2022-05-25T02:53:43.928Z"
      },
      {
        "duration": 43,
        "start_time": "2022-05-25T02:53:43.976Z"
      },
      {
        "duration": 22,
        "start_time": "2022-05-25T02:53:44.020Z"
      },
      {
        "duration": 15,
        "start_time": "2022-05-25T02:53:44.044Z"
      },
      {
        "duration": 35,
        "start_time": "2022-05-25T02:53:44.061Z"
      },
      {
        "duration": 69,
        "start_time": "2022-05-25T02:53:44.097Z"
      },
      {
        "duration": 10,
        "start_time": "2022-05-25T02:53:44.168Z"
      },
      {
        "duration": 16,
        "start_time": "2022-05-25T02:53:44.180Z"
      },
      {
        "duration": 65,
        "start_time": "2022-05-25T02:53:44.198Z"
      },
      {
        "duration": 47,
        "start_time": "2022-05-25T02:53:44.265Z"
      },
      {
        "duration": 21,
        "start_time": "2022-05-25T02:53:44.313Z"
      },
      {
        "duration": 42,
        "start_time": "2022-05-25T02:53:44.337Z"
      },
      {
        "duration": 51,
        "start_time": "2022-05-25T02:53:44.381Z"
      },
      {
        "duration": 105,
        "start_time": "2022-05-25T02:53:44.434Z"
      },
      {
        "duration": 103,
        "start_time": "2022-05-25T02:53:44.544Z"
      },
      {
        "duration": 211,
        "start_time": "2022-05-25T02:53:44.652Z"
      },
      {
        "duration": 19,
        "start_time": "2022-05-25T02:53:44.865Z"
      },
      {
        "duration": 21,
        "start_time": "2022-05-25T02:53:44.886Z"
      },
      {
        "duration": 32,
        "start_time": "2022-05-25T02:53:44.908Z"
      },
      {
        "duration": 16,
        "start_time": "2022-05-25T02:53:44.943Z"
      },
      {
        "duration": 37,
        "start_time": "2022-05-25T02:53:44.960Z"
      },
      {
        "duration": 56,
        "start_time": "2022-05-25T02:53:44.999Z"
      },
      {
        "duration": 64,
        "start_time": "2022-05-25T02:53:45.057Z"
      },
      {
        "duration": 5,
        "start_time": "2022-05-25T02:59:26.890Z"
      },
      {
        "duration": 7,
        "start_time": "2022-05-25T02:59:27.248Z"
      },
      {
        "duration": 5,
        "start_time": "2022-05-25T02:59:27.707Z"
      },
      {
        "duration": 7,
        "start_time": "2022-05-25T02:59:28.179Z"
      },
      {
        "duration": 2,
        "start_time": "2022-05-25T03:05:42.941Z"
      },
      {
        "duration": 3,
        "start_time": "2022-05-25T03:19:29.346Z"
      },
      {
        "duration": 34,
        "start_time": "2022-05-25T03:19:29.534Z"
      },
      {
        "duration": 31,
        "start_time": "2022-05-25T03:19:52.843Z"
      },
      {
        "duration": 117,
        "start_time": "2022-05-25T03:20:02.210Z"
      },
      {
        "duration": 4,
        "start_time": "2022-05-25T03:20:26.744Z"
      },
      {
        "duration": 15,
        "start_time": "2022-05-25T03:20:27.083Z"
      },
      {
        "duration": 7,
        "start_time": "2022-05-25T03:20:37.435Z"
      },
      {
        "duration": 12,
        "start_time": "2022-05-25T03:20:37.879Z"
      },
      {
        "duration": 3,
        "start_time": "2022-05-25T03:21:21.664Z"
      },
      {
        "duration": 10,
        "start_time": "2022-05-25T03:21:21.915Z"
      },
      {
        "duration": 1605,
        "start_time": "2022-05-25T03:21:28.340Z"
      },
      {
        "duration": 13,
        "start_time": "2022-05-25T03:21:29.948Z"
      },
      {
        "duration": 13,
        "start_time": "2022-05-25T03:21:29.963Z"
      },
      {
        "duration": 55,
        "start_time": "2022-05-25T03:21:29.978Z"
      },
      {
        "duration": 48,
        "start_time": "2022-05-25T03:21:30.035Z"
      },
      {
        "duration": 10,
        "start_time": "2022-05-25T03:21:30.085Z"
      },
      {
        "duration": 36,
        "start_time": "2022-05-25T03:21:30.097Z"
      },
      {
        "duration": 42,
        "start_time": "2022-05-25T03:21:30.135Z"
      },
      {
        "duration": 40,
        "start_time": "2022-05-25T03:21:30.179Z"
      },
      {
        "duration": 13,
        "start_time": "2022-05-25T03:21:30.226Z"
      },
      {
        "duration": 22,
        "start_time": "2022-05-25T03:21:30.240Z"
      },
      {
        "duration": 39,
        "start_time": "2022-05-25T03:21:30.264Z"
      },
      {
        "duration": 66,
        "start_time": "2022-05-25T03:21:30.304Z"
      },
      {
        "duration": 9,
        "start_time": "2022-05-25T03:21:30.373Z"
      },
      {
        "duration": 56,
        "start_time": "2022-05-25T03:21:30.383Z"
      },
      {
        "duration": 23,
        "start_time": "2022-05-25T03:21:30.441Z"
      },
      {
        "duration": 23,
        "start_time": "2022-05-25T03:21:30.528Z"
      },
      {
        "duration": 124,
        "start_time": "2022-05-25T03:21:30.630Z"
      },
      {
        "duration": 95,
        "start_time": "2022-05-25T03:21:30.756Z"
      },
      {
        "duration": 33,
        "start_time": "2022-05-25T03:21:30.939Z"
      },
      {
        "duration": 71,
        "start_time": "2022-05-25T03:21:30.974Z"
      },
      {
        "duration": 45,
        "start_time": "2022-05-25T03:21:31.047Z"
      },
      {
        "duration": 26,
        "start_time": "2022-05-25T03:21:31.094Z"
      },
      {
        "duration": 144,
        "start_time": "2022-05-25T03:21:31.121Z"
      },
      {
        "duration": 0,
        "start_time": "2022-05-25T03:21:31.267Z"
      },
      {
        "duration": 0,
        "start_time": "2022-05-25T03:21:31.269Z"
      },
      {
        "duration": 0,
        "start_time": "2022-05-25T03:21:31.270Z"
      },
      {
        "duration": 0,
        "start_time": "2022-05-25T03:21:31.272Z"
      },
      {
        "duration": 0,
        "start_time": "2022-05-25T03:21:31.273Z"
      },
      {
        "duration": 7,
        "start_time": "2022-05-25T03:22:01.882Z"
      },
      {
        "duration": 6,
        "start_time": "2022-05-25T03:22:03.404Z"
      },
      {
        "duration": 5,
        "start_time": "2022-05-25T03:22:03.687Z"
      },
      {
        "duration": 28,
        "start_time": "2022-05-25T03:24:22.418Z"
      },
      {
        "duration": 3,
        "start_time": "2022-05-25T03:25:29.152Z"
      },
      {
        "duration": 4,
        "start_time": "2022-05-25T03:29:51.147Z"
      },
      {
        "duration": 1270,
        "start_time": "2022-05-25T03:31:05.866Z"
      },
      {
        "duration": 1134,
        "start_time": "2022-05-25T03:31:51.826Z"
      },
      {
        "duration": 7,
        "start_time": "2022-05-25T03:38:56.874Z"
      },
      {
        "duration": 14,
        "start_time": "2022-05-25T03:38:57.394Z"
      },
      {
        "duration": 5,
        "start_time": "2022-05-25T03:42:44.969Z"
      },
      {
        "duration": 12,
        "start_time": "2022-05-25T03:42:45.699Z"
      },
      {
        "duration": 5,
        "start_time": "2022-05-25T03:42:53.731Z"
      },
      {
        "duration": 13,
        "start_time": "2022-05-25T03:42:54.339Z"
      },
      {
        "duration": 5,
        "start_time": "2022-05-25T03:43:28.631Z"
      },
      {
        "duration": 12,
        "start_time": "2022-05-25T03:43:28.995Z"
      },
      {
        "duration": 3,
        "start_time": "2022-05-25T03:43:39.609Z"
      },
      {
        "duration": 4,
        "start_time": "2022-05-25T03:43:39.877Z"
      },
      {
        "duration": 1151,
        "start_time": "2022-05-25T03:43:41.251Z"
      },
      {
        "duration": 7,
        "start_time": "2022-05-25T03:43:55.144Z"
      },
      {
        "duration": 1188,
        "start_time": "2022-05-25T03:43:55.691Z"
      },
      {
        "duration": 1249,
        "start_time": "2022-05-25T03:44:05.422Z"
      },
      {
        "duration": 1136,
        "start_time": "2022-05-25T03:44:19.798Z"
      },
      {
        "duration": 1669,
        "start_time": "2022-05-25T03:45:00.964Z"
      },
      {
        "duration": 14,
        "start_time": "2022-05-25T03:45:02.635Z"
      },
      {
        "duration": 22,
        "start_time": "2022-05-25T03:45:02.651Z"
      },
      {
        "duration": 36,
        "start_time": "2022-05-25T03:45:02.674Z"
      },
      {
        "duration": 58,
        "start_time": "2022-05-25T03:45:02.712Z"
      },
      {
        "duration": 10,
        "start_time": "2022-05-25T03:45:02.772Z"
      },
      {
        "duration": 20,
        "start_time": "2022-05-25T03:45:02.784Z"
      },
      {
        "duration": 48,
        "start_time": "2022-05-25T03:45:02.806Z"
      },
      {
        "duration": 39,
        "start_time": "2022-05-25T03:45:02.856Z"
      },
      {
        "duration": 10,
        "start_time": "2022-05-25T03:45:02.897Z"
      },
      {
        "duration": 13,
        "start_time": "2022-05-25T03:45:02.928Z"
      },
      {
        "duration": 40,
        "start_time": "2022-05-25T03:45:02.943Z"
      },
      {
        "duration": 62,
        "start_time": "2022-05-25T03:45:02.986Z"
      },
      {
        "duration": 10,
        "start_time": "2022-05-25T03:45:03.049Z"
      },
      {
        "duration": 37,
        "start_time": "2022-05-25T03:45:03.061Z"
      },
      {
        "duration": 31,
        "start_time": "2022-05-25T03:45:03.100Z"
      },
      {
        "duration": 201,
        "start_time": "2022-05-25T03:45:03.133Z"
      },
      {
        "duration": 110,
        "start_time": "2022-05-25T03:45:03.336Z"
      },
      {
        "duration": 180,
        "start_time": "2022-05-25T03:45:03.448Z"
      },
      {
        "duration": 9,
        "start_time": "2022-05-25T03:45:03.631Z"
      },
      {
        "duration": 9,
        "start_time": "2022-05-25T03:45:03.641Z"
      },
      {
        "duration": 11,
        "start_time": "2022-05-25T03:45:03.651Z"
      },
      {
        "duration": 5,
        "start_time": "2022-05-25T03:45:03.663Z"
      },
      {
        "duration": 8,
        "start_time": "2022-05-25T03:45:03.669Z"
      },
      {
        "duration": 10,
        "start_time": "2022-05-25T03:45:03.678Z"
      },
      {
        "duration": 6,
        "start_time": "2022-05-25T03:45:03.689Z"
      },
      {
        "duration": 6,
        "start_time": "2022-05-25T03:45:03.697Z"
      },
      {
        "duration": 5,
        "start_time": "2022-05-25T03:45:03.705Z"
      },
      {
        "duration": 1221,
        "start_time": "2022-05-25T03:45:03.712Z"
      },
      {
        "duration": 1210,
        "start_time": "2022-05-25T03:45:04.935Z"
      },
      {
        "duration": 1282,
        "start_time": "2022-05-25T03:45:06.146Z"
      },
      {
        "duration": 6,
        "start_time": "2022-05-25T03:46:37.514Z"
      },
      {
        "duration": 1148,
        "start_time": "2022-05-25T03:46:38.021Z"
      },
      {
        "duration": 1165,
        "start_time": "2022-05-25T03:46:40.559Z"
      },
      {
        "duration": 1183,
        "start_time": "2022-05-25T03:46:44.732Z"
      },
      {
        "duration": 1618,
        "start_time": "2022-05-25T03:47:34.171Z"
      },
      {
        "duration": 15,
        "start_time": "2022-05-25T03:47:35.791Z"
      },
      {
        "duration": 27,
        "start_time": "2022-05-25T03:47:35.808Z"
      },
      {
        "duration": 36,
        "start_time": "2022-05-25T03:47:35.837Z"
      },
      {
        "duration": 56,
        "start_time": "2022-05-25T03:47:35.874Z"
      },
      {
        "duration": 9,
        "start_time": "2022-05-25T03:47:35.932Z"
      },
      {
        "duration": 17,
        "start_time": "2022-05-25T03:47:35.942Z"
      },
      {
        "duration": 32,
        "start_time": "2022-05-25T03:47:35.961Z"
      },
      {
        "duration": 66,
        "start_time": "2022-05-25T03:47:35.995Z"
      },
      {
        "duration": 9,
        "start_time": "2022-05-25T03:47:36.063Z"
      },
      {
        "duration": 15,
        "start_time": "2022-05-25T03:47:36.073Z"
      },
      {
        "duration": 55,
        "start_time": "2022-05-25T03:47:36.090Z"
      },
      {
        "duration": 51,
        "start_time": "2022-05-25T03:47:36.147Z"
      },
      {
        "duration": 27,
        "start_time": "2022-05-25T03:47:36.200Z"
      },
      {
        "duration": 39,
        "start_time": "2022-05-25T03:47:36.230Z"
      },
      {
        "duration": 58,
        "start_time": "2022-05-25T03:47:36.271Z"
      },
      {
        "duration": 104,
        "start_time": "2022-05-25T03:47:36.331Z"
      },
      {
        "duration": 194,
        "start_time": "2022-05-25T03:47:36.436Z"
      },
      {
        "duration": 91,
        "start_time": "2022-05-25T03:47:36.637Z"
      },
      {
        "duration": 14,
        "start_time": "2022-05-25T03:47:36.730Z"
      },
      {
        "duration": 21,
        "start_time": "2022-05-25T03:47:36.746Z"
      },
      {
        "duration": 7,
        "start_time": "2022-05-25T03:47:36.768Z"
      },
      {
        "duration": 6,
        "start_time": "2022-05-25T03:47:36.776Z"
      },
      {
        "duration": 9,
        "start_time": "2022-05-25T03:47:36.783Z"
      },
      {
        "duration": 6,
        "start_time": "2022-05-25T03:47:36.794Z"
      },
      {
        "duration": 8,
        "start_time": "2022-05-25T03:47:36.802Z"
      },
      {
        "duration": 5,
        "start_time": "2022-05-25T03:47:36.812Z"
      },
      {
        "duration": 10,
        "start_time": "2022-05-25T03:47:36.820Z"
      },
      {
        "duration": 1246,
        "start_time": "2022-05-25T03:47:36.831Z"
      },
      {
        "duration": 1165,
        "start_time": "2022-05-25T03:47:38.078Z"
      },
      {
        "duration": 1195,
        "start_time": "2022-05-25T03:47:39.245Z"
      },
      {
        "duration": 3,
        "start_time": "2022-05-25T03:48:20.422Z"
      },
      {
        "duration": 5,
        "start_time": "2022-05-25T03:48:20.726Z"
      },
      {
        "duration": 1179,
        "start_time": "2022-05-25T03:48:21.216Z"
      },
      {
        "duration": 1189,
        "start_time": "2022-05-25T03:48:22.397Z"
      },
      {
        "duration": 1173,
        "start_time": "2022-05-25T03:48:23.588Z"
      },
      {
        "duration": 4,
        "start_time": "2022-05-25T03:50:21.099Z"
      },
      {
        "duration": 1152,
        "start_time": "2022-05-25T03:50:21.511Z"
      },
      {
        "duration": 1203,
        "start_time": "2022-05-25T03:50:22.665Z"
      },
      {
        "duration": 1197,
        "start_time": "2022-05-25T03:50:26.586Z"
      },
      {
        "duration": 3,
        "start_time": "2022-05-25T03:53:34.516Z"
      },
      {
        "duration": 4,
        "start_time": "2022-05-25T03:53:35.452Z"
      },
      {
        "duration": 5,
        "start_time": "2022-05-25T03:53:36.050Z"
      },
      {
        "duration": 7,
        "start_time": "2022-05-25T03:53:36.401Z"
      },
      {
        "duration": 6,
        "start_time": "2022-05-25T03:53:36.736Z"
      },
      {
        "duration": 3,
        "start_time": "2022-05-25T03:53:43.850Z"
      },
      {
        "duration": 4,
        "start_time": "2022-05-25T03:53:47.235Z"
      },
      {
        "duration": 1111,
        "start_time": "2022-05-25T03:53:47.928Z"
      },
      {
        "duration": 1141,
        "start_time": "2022-05-25T03:53:49.161Z"
      },
      {
        "duration": 1237,
        "start_time": "2022-05-25T03:53:50.304Z"
      },
      {
        "duration": 5,
        "start_time": "2022-05-25T03:54:02.993Z"
      },
      {
        "duration": 1189,
        "start_time": "2022-05-25T03:54:04.455Z"
      },
      {
        "duration": 1249,
        "start_time": "2022-05-25T03:54:05.646Z"
      },
      {
        "duration": 1232,
        "start_time": "2022-05-25T03:54:06.897Z"
      },
      {
        "duration": 45,
        "start_time": "2022-05-25T03:58:53.026Z"
      },
      {
        "duration": 20,
        "start_time": "2022-05-25T03:59:19.350Z"
      },
      {
        "duration": 20,
        "start_time": "2022-05-25T03:59:25.161Z"
      },
      {
        "duration": 23,
        "start_time": "2022-05-25T03:59:29.030Z"
      },
      {
        "duration": 1686,
        "start_time": "2022-05-25T04:00:02.800Z"
      },
      {
        "duration": 15,
        "start_time": "2022-05-25T04:00:04.488Z"
      },
      {
        "duration": 25,
        "start_time": "2022-05-25T04:00:04.506Z"
      },
      {
        "duration": 37,
        "start_time": "2022-05-25T04:00:04.533Z"
      },
      {
        "duration": 59,
        "start_time": "2022-05-25T04:00:04.571Z"
      },
      {
        "duration": 9,
        "start_time": "2022-05-25T04:00:04.632Z"
      },
      {
        "duration": 20,
        "start_time": "2022-05-25T04:00:04.643Z"
      },
      {
        "duration": 57,
        "start_time": "2022-05-25T04:00:04.665Z"
      },
      {
        "duration": 43,
        "start_time": "2022-05-25T04:00:04.723Z"
      },
      {
        "duration": 11,
        "start_time": "2022-05-25T04:00:04.769Z"
      },
      {
        "duration": 19,
        "start_time": "2022-05-25T04:00:04.782Z"
      },
      {
        "duration": 59,
        "start_time": "2022-05-25T04:00:04.803Z"
      },
      {
        "duration": 50,
        "start_time": "2022-05-25T04:00:04.864Z"
      },
      {
        "duration": 10,
        "start_time": "2022-05-25T04:00:04.927Z"
      },
      {
        "duration": 37,
        "start_time": "2022-05-25T04:00:04.939Z"
      },
      {
        "duration": 149,
        "start_time": "2022-05-25T04:00:04.978Z"
      },
      {
        "duration": 16,
        "start_time": "2022-05-25T04:00:05.129Z"
      },
      {
        "duration": 191,
        "start_time": "2022-05-25T04:00:05.148Z"
      },
      {
        "duration": 3,
        "start_time": "2022-05-25T04:00:05.341Z"
      },
      {
        "duration": 85,
        "start_time": "2022-05-25T04:00:05.346Z"
      },
      {
        "duration": 96,
        "start_time": "2022-05-25T04:00:05.433Z"
      },
      {
        "duration": 20,
        "start_time": "2022-05-25T04:00:05.531Z"
      },
      {
        "duration": 13,
        "start_time": "2022-05-25T04:00:05.554Z"
      },
      {
        "duration": 0,
        "start_time": "2022-05-25T04:00:05.569Z"
      },
      {
        "duration": 0,
        "start_time": "2022-05-25T04:00:05.570Z"
      },
      {
        "duration": 0,
        "start_time": "2022-05-25T04:00:05.571Z"
      },
      {
        "duration": 0,
        "start_time": "2022-05-25T04:00:05.572Z"
      },
      {
        "duration": 0,
        "start_time": "2022-05-25T04:00:05.574Z"
      },
      {
        "duration": 0,
        "start_time": "2022-05-25T04:00:05.575Z"
      },
      {
        "duration": 0,
        "start_time": "2022-05-25T04:00:05.576Z"
      },
      {
        "duration": 0,
        "start_time": "2022-05-25T04:00:05.577Z"
      },
      {
        "duration": 5,
        "start_time": "2022-05-25T04:00:33.911Z"
      },
      {
        "duration": 32,
        "start_time": "2022-05-25T04:01:37.983Z"
      },
      {
        "duration": 25,
        "start_time": "2022-05-25T04:01:58.311Z"
      },
      {
        "duration": 106,
        "start_time": "2022-05-25T04:01:59.384Z"
      },
      {
        "duration": 33,
        "start_time": "2022-05-25T04:02:39.649Z"
      },
      {
        "duration": 5,
        "start_time": "2022-05-25T04:02:57.292Z"
      },
      {
        "duration": 5,
        "start_time": "2022-05-25T04:02:58.875Z"
      },
      {
        "duration": 6,
        "start_time": "2022-05-25T04:03:02.859Z"
      },
      {
        "duration": 5,
        "start_time": "2022-05-25T04:03:03.682Z"
      },
      {
        "duration": 4,
        "start_time": "2022-05-25T04:03:14.386Z"
      },
      {
        "duration": 12,
        "start_time": "2022-05-25T04:03:15.127Z"
      },
      {
        "duration": 6,
        "start_time": "2022-05-25T04:03:39.508Z"
      },
      {
        "duration": 17,
        "start_time": "2022-05-25T04:03:42.770Z"
      },
      {
        "duration": 2,
        "start_time": "2022-05-25T04:03:53.755Z"
      },
      {
        "duration": 5,
        "start_time": "2022-05-25T04:03:54.263Z"
      },
      {
        "duration": 13,
        "start_time": "2022-05-25T04:03:54.712Z"
      },
      {
        "duration": 4,
        "start_time": "2022-05-25T04:06:09.796Z"
      },
      {
        "duration": 1283,
        "start_time": "2022-05-25T04:06:10.361Z"
      },
      {
        "duration": 10,
        "start_time": "2022-05-25T04:06:16.936Z"
      },
      {
        "duration": 1281,
        "start_time": "2022-05-25T04:06:41.623Z"
      },
      {
        "duration": 1287,
        "start_time": "2022-05-25T04:06:42.906Z"
      },
      {
        "duration": 42,
        "start_time": "2022-05-25T04:09:55.552Z"
      },
      {
        "duration": 6,
        "start_time": "2022-05-25T04:10:03.961Z"
      },
      {
        "duration": 1172,
        "start_time": "2022-05-25T04:10:04.696Z"
      },
      {
        "duration": 0,
        "start_time": "2022-05-25T04:10:05.870Z"
      },
      {
        "duration": 0,
        "start_time": "2022-05-25T04:10:05.872Z"
      },
      {
        "duration": 5,
        "start_time": "2022-05-25T04:10:34.417Z"
      },
      {
        "duration": 1156,
        "start_time": "2022-05-25T04:10:35.707Z"
      },
      {
        "duration": 1107,
        "start_time": "2022-05-25T04:10:41.097Z"
      },
      {
        "duration": 1071,
        "start_time": "2022-05-25T04:10:42.206Z"
      },
      {
        "duration": 4,
        "start_time": "2022-05-25T04:12:55.402Z"
      },
      {
        "duration": 1243,
        "start_time": "2022-05-25T04:12:55.662Z"
      },
      {
        "duration": 1245,
        "start_time": "2022-05-25T04:12:56.908Z"
      },
      {
        "duration": 1099,
        "start_time": "2022-05-25T04:12:58.160Z"
      },
      {
        "duration": 8,
        "start_time": "2022-05-25T04:23:16.473Z"
      },
      {
        "duration": 1306,
        "start_time": "2022-05-25T04:23:16.798Z"
      },
      {
        "duration": 1246,
        "start_time": "2022-05-25T04:23:18.109Z"
      },
      {
        "duration": 1123,
        "start_time": "2022-05-25T04:23:19.359Z"
      },
      {
        "duration": 1403,
        "start_time": "2022-05-25T04:28:26.066Z"
      },
      {
        "duration": 76,
        "start_time": "2022-05-25T04:28:27.471Z"
      },
      {
        "duration": 35,
        "start_time": "2022-05-25T04:28:27.549Z"
      },
      {
        "duration": 37,
        "start_time": "2022-05-25T04:28:27.586Z"
      },
      {
        "duration": 56,
        "start_time": "2022-05-25T04:28:27.633Z"
      },
      {
        "duration": 9,
        "start_time": "2022-05-25T04:28:27.691Z"
      },
      {
        "duration": 30,
        "start_time": "2022-05-25T04:28:27.701Z"
      },
      {
        "duration": 42,
        "start_time": "2022-05-25T04:28:27.733Z"
      },
      {
        "duration": 59,
        "start_time": "2022-05-25T04:28:27.777Z"
      },
      {
        "duration": 11,
        "start_time": "2022-05-25T04:28:27.840Z"
      },
      {
        "duration": 17,
        "start_time": "2022-05-25T04:28:27.853Z"
      },
      {
        "duration": 35,
        "start_time": "2022-05-25T04:28:27.872Z"
      },
      {
        "duration": 61,
        "start_time": "2022-05-25T04:28:27.909Z"
      },
      {
        "duration": 9,
        "start_time": "2022-05-25T04:28:27.971Z"
      },
      {
        "duration": 58,
        "start_time": "2022-05-25T04:28:27.981Z"
      },
      {
        "duration": 88,
        "start_time": "2022-05-25T04:28:28.046Z"
      },
      {
        "duration": 98,
        "start_time": "2022-05-25T04:28:28.138Z"
      },
      {
        "duration": 118,
        "start_time": "2022-05-25T04:28:28.238Z"
      },
      {
        "duration": 174,
        "start_time": "2022-05-25T04:28:28.358Z"
      },
      {
        "duration": 30,
        "start_time": "2022-05-25T04:28:28.534Z"
      },
      {
        "duration": 7,
        "start_time": "2022-05-25T04:28:28.566Z"
      },
      {
        "duration": 8,
        "start_time": "2022-05-25T04:28:28.575Z"
      },
      {
        "duration": 7,
        "start_time": "2022-05-25T04:28:28.585Z"
      },
      {
        "duration": 8,
        "start_time": "2022-05-25T04:28:28.593Z"
      },
      {
        "duration": 8,
        "start_time": "2022-05-25T04:28:28.603Z"
      },
      {
        "duration": 9,
        "start_time": "2022-05-25T04:28:28.612Z"
      },
      {
        "duration": 7,
        "start_time": "2022-05-25T04:28:28.622Z"
      },
      {
        "duration": 1120,
        "start_time": "2022-05-25T04:28:28.638Z"
      },
      {
        "duration": 1023,
        "start_time": "2022-05-25T04:28:29.760Z"
      },
      {
        "duration": 1207,
        "start_time": "2022-05-25T04:28:30.784Z"
      },
      {
        "duration": 12,
        "start_time": "2022-05-25T04:29:56.547Z"
      },
      {
        "duration": 1081,
        "start_time": "2022-05-25T04:29:56.852Z"
      },
      {
        "duration": 1037,
        "start_time": "2022-05-25T04:29:57.959Z"
      },
      {
        "duration": 1068,
        "start_time": "2022-05-25T04:29:58.998Z"
      },
      {
        "duration": 2663,
        "start_time": "2022-05-25T08:43:59.516Z"
      },
      {
        "duration": 78,
        "start_time": "2022-05-25T08:44:02.181Z"
      },
      {
        "duration": 20,
        "start_time": "2022-05-25T08:44:02.261Z"
      },
      {
        "duration": 46,
        "start_time": "2022-05-25T08:44:02.283Z"
      },
      {
        "duration": 54,
        "start_time": "2022-05-25T08:44:02.331Z"
      },
      {
        "duration": 10,
        "start_time": "2022-05-25T08:44:02.386Z"
      },
      {
        "duration": 26,
        "start_time": "2022-05-25T08:44:02.397Z"
      },
      {
        "duration": 45,
        "start_time": "2022-05-25T08:44:02.424Z"
      },
      {
        "duration": 55,
        "start_time": "2022-05-25T08:44:02.471Z"
      },
      {
        "duration": 19,
        "start_time": "2022-05-25T08:44:02.530Z"
      },
      {
        "duration": 22,
        "start_time": "2022-05-25T08:44:02.552Z"
      },
      {
        "duration": 56,
        "start_time": "2022-05-25T08:44:02.575Z"
      },
      {
        "duration": 54,
        "start_time": "2022-05-25T08:44:02.633Z"
      },
      {
        "duration": 9,
        "start_time": "2022-05-25T08:44:02.690Z"
      },
      {
        "duration": 86,
        "start_time": "2022-05-25T08:44:02.701Z"
      },
      {
        "duration": 137,
        "start_time": "2022-05-25T08:44:02.788Z"
      },
      {
        "duration": 121,
        "start_time": "2022-05-25T08:44:02.927Z"
      },
      {
        "duration": 185,
        "start_time": "2022-05-25T08:44:03.050Z"
      },
      {
        "duration": 13,
        "start_time": "2022-05-25T08:44:03.247Z"
      },
      {
        "duration": 22,
        "start_time": "2022-05-25T08:44:03.330Z"
      },
      {
        "duration": 7,
        "start_time": "2022-05-25T08:44:03.354Z"
      },
      {
        "duration": 6,
        "start_time": "2022-05-25T08:44:03.362Z"
      },
      {
        "duration": 11,
        "start_time": "2022-05-25T08:44:03.369Z"
      },
      {
        "duration": 7,
        "start_time": "2022-05-25T08:44:03.382Z"
      },
      {
        "duration": 5,
        "start_time": "2022-05-25T08:44:03.390Z"
      },
      {
        "duration": 5,
        "start_time": "2022-05-25T08:44:03.397Z"
      },
      {
        "duration": 4,
        "start_time": "2022-05-25T08:44:03.404Z"
      },
      {
        "duration": 152,
        "start_time": "2022-05-25T08:44:03.411Z"
      },
      {
        "duration": 0,
        "start_time": "2022-05-25T08:44:03.565Z"
      },
      {
        "duration": 0,
        "start_time": "2022-05-25T08:44:03.566Z"
      },
      {
        "duration": 18,
        "start_time": "2022-05-25T08:48:36.663Z"
      },
      {
        "duration": 18,
        "start_time": "2022-05-25T08:48:37.864Z"
      },
      {
        "duration": 1542,
        "start_time": "2022-05-25T08:48:50.241Z"
      },
      {
        "duration": 98,
        "start_time": "2022-05-25T08:48:51.785Z"
      },
      {
        "duration": 16,
        "start_time": "2022-05-25T08:48:51.886Z"
      },
      {
        "duration": 63,
        "start_time": "2022-05-25T08:48:51.904Z"
      },
      {
        "duration": 50,
        "start_time": "2022-05-25T08:48:51.968Z"
      },
      {
        "duration": 23,
        "start_time": "2022-05-25T08:48:52.027Z"
      },
      {
        "duration": 17,
        "start_time": "2022-05-25T08:48:52.052Z"
      },
      {
        "duration": 35,
        "start_time": "2022-05-25T08:48:52.071Z"
      },
      {
        "duration": 67,
        "start_time": "2022-05-25T08:48:52.108Z"
      },
      {
        "duration": 10,
        "start_time": "2022-05-25T08:48:52.178Z"
      },
      {
        "duration": 18,
        "start_time": "2022-05-25T08:48:52.189Z"
      },
      {
        "duration": 56,
        "start_time": "2022-05-25T08:48:52.208Z"
      },
      {
        "duration": 40,
        "start_time": "2022-05-25T08:48:52.265Z"
      },
      {
        "duration": 29,
        "start_time": "2022-05-25T08:48:52.307Z"
      },
      {
        "duration": 43,
        "start_time": "2022-05-25T08:48:52.340Z"
      },
      {
        "duration": 65,
        "start_time": "2022-05-25T08:48:52.384Z"
      },
      {
        "duration": 90,
        "start_time": "2022-05-25T08:48:52.453Z"
      },
      {
        "duration": 226,
        "start_time": "2022-05-25T08:48:52.545Z"
      },
      {
        "duration": 155,
        "start_time": "2022-05-25T08:48:52.773Z"
      },
      {
        "duration": 48,
        "start_time": "2022-05-25T08:48:52.930Z"
      },
      {
        "duration": 7,
        "start_time": "2022-05-25T08:48:52.979Z"
      },
      {
        "duration": 9,
        "start_time": "2022-05-25T08:48:52.987Z"
      },
      {
        "duration": 5,
        "start_time": "2022-05-25T08:48:52.998Z"
      },
      {
        "duration": 7,
        "start_time": "2022-05-25T08:48:53.005Z"
      },
      {
        "duration": 6,
        "start_time": "2022-05-25T08:48:53.014Z"
      },
      {
        "duration": 10,
        "start_time": "2022-05-25T08:48:53.022Z"
      },
      {
        "duration": 28,
        "start_time": "2022-05-25T08:48:53.034Z"
      },
      {
        "duration": 207,
        "start_time": "2022-05-25T08:48:53.065Z"
      },
      {
        "duration": 0,
        "start_time": "2022-05-25T08:48:53.324Z"
      },
      {
        "duration": 0,
        "start_time": "2022-05-25T08:48:53.326Z"
      },
      {
        "duration": 433,
        "start_time": "2022-05-25T08:54:21.251Z"
      },
      {
        "duration": 10,
        "start_time": "2022-05-25T08:54:21.686Z"
      },
      {
        "duration": 28,
        "start_time": "2022-05-25T08:54:21.697Z"
      },
      {
        "duration": 37,
        "start_time": "2022-05-25T08:54:21.842Z"
      },
      {
        "duration": 48,
        "start_time": "2022-05-25T08:54:21.970Z"
      },
      {
        "duration": 11,
        "start_time": "2022-05-25T08:54:22.258Z"
      },
      {
        "duration": 16,
        "start_time": "2022-05-25T08:54:22.387Z"
      },
      {
        "duration": 42,
        "start_time": "2022-05-25T08:54:22.563Z"
      },
      {
        "duration": 58,
        "start_time": "2022-05-25T08:54:22.715Z"
      },
      {
        "duration": 11,
        "start_time": "2022-05-25T08:54:23.010Z"
      },
      {
        "duration": 17,
        "start_time": "2022-05-25T08:54:23.651Z"
      },
      {
        "duration": 37,
        "start_time": "2022-05-25T08:54:23.852Z"
      },
      {
        "duration": 42,
        "start_time": "2022-05-25T08:54:24.046Z"
      },
      {
        "duration": 10,
        "start_time": "2022-05-25T08:54:24.818Z"
      },
      {
        "duration": 24,
        "start_time": "2022-05-25T08:54:25.142Z"
      },
      {
        "duration": 17,
        "start_time": "2022-05-25T08:54:25.651Z"
      },
      {
        "duration": 14,
        "start_time": "2022-05-25T08:54:25.890Z"
      },
      {
        "duration": 18,
        "start_time": "2022-05-25T08:54:26.750Z"
      },
      {
        "duration": 2,
        "start_time": "2022-05-25T08:54:29.179Z"
      },
      {
        "duration": 4,
        "start_time": "2022-05-25T08:54:30.050Z"
      },
      {
        "duration": 4,
        "start_time": "2022-05-25T08:54:33.306Z"
      },
      {
        "duration": 3,
        "start_time": "2022-05-25T08:54:34.186Z"
      },
      {
        "duration": 6,
        "start_time": "2022-05-25T08:54:39.306Z"
      },
      {
        "duration": 5,
        "start_time": "2022-05-25T08:54:43.951Z"
      },
      {
        "duration": 5,
        "start_time": "2022-05-25T08:59:19.644Z"
      },
      {
        "duration": 1081,
        "start_time": "2022-05-25T08:59:20.309Z"
      },
      {
        "duration": 1135,
        "start_time": "2022-05-25T08:59:22.945Z"
      },
      {
        "duration": 1127,
        "start_time": "2022-05-25T08:59:24.686Z"
      },
      {
        "duration": 4,
        "start_time": "2022-05-25T08:59:41.758Z"
      },
      {
        "duration": 21,
        "start_time": "2022-05-25T08:59:42.110Z"
      },
      {
        "duration": 5,
        "start_time": "2022-05-25T09:01:31.772Z"
      },
      {
        "duration": 26,
        "start_time": "2022-05-25T09:01:31.964Z"
      },
      {
        "duration": 4,
        "start_time": "2022-05-25T09:01:48.380Z"
      },
      {
        "duration": 6,
        "start_time": "2022-05-25T09:01:48.642Z"
      },
      {
        "duration": 5,
        "start_time": "2022-05-25T09:01:56.447Z"
      },
      {
        "duration": 7,
        "start_time": "2022-05-25T09:01:56.755Z"
      },
      {
        "duration": 4,
        "start_time": "2022-05-25T09:02:16.746Z"
      },
      {
        "duration": 7,
        "start_time": "2022-05-25T09:02:17.764Z"
      },
      {
        "duration": 5,
        "start_time": "2022-05-25T09:02:44.143Z"
      },
      {
        "duration": 1180,
        "start_time": "2022-05-25T09:02:44.442Z"
      },
      {
        "duration": 1021,
        "start_time": "2022-05-25T09:02:45.625Z"
      },
      {
        "duration": 1019,
        "start_time": "2022-05-25T09:02:46.647Z"
      },
      {
        "duration": 5,
        "start_time": "2022-05-25T11:24:15.561Z"
      },
      {
        "duration": 1565,
        "start_time": "2022-05-25T11:24:20.539Z"
      },
      {
        "duration": 78,
        "start_time": "2022-05-25T11:24:22.106Z"
      },
      {
        "duration": 30,
        "start_time": "2022-05-25T11:24:22.185Z"
      },
      {
        "duration": 45,
        "start_time": "2022-05-25T11:24:22.217Z"
      },
      {
        "duration": 48,
        "start_time": "2022-05-25T11:24:22.263Z"
      },
      {
        "duration": 21,
        "start_time": "2022-05-25T11:24:22.313Z"
      },
      {
        "duration": 34,
        "start_time": "2022-05-25T11:24:22.336Z"
      },
      {
        "duration": 36,
        "start_time": "2022-05-25T11:24:22.371Z"
      },
      {
        "duration": 40,
        "start_time": "2022-05-25T11:24:22.409Z"
      },
      {
        "duration": 12,
        "start_time": "2022-05-25T11:24:22.451Z"
      },
      {
        "duration": 44,
        "start_time": "2022-05-25T11:24:22.465Z"
      },
      {
        "duration": 71,
        "start_time": "2022-05-25T11:24:22.511Z"
      },
      {
        "duration": 61,
        "start_time": "2022-05-25T11:24:22.583Z"
      },
      {
        "duration": 22,
        "start_time": "2022-05-25T11:24:22.646Z"
      },
      {
        "duration": 49,
        "start_time": "2022-05-25T11:24:22.669Z"
      },
      {
        "duration": 18,
        "start_time": "2022-05-25T11:24:22.720Z"
      },
      {
        "duration": 199,
        "start_time": "2022-05-25T11:24:22.740Z"
      },
      {
        "duration": 200,
        "start_time": "2022-05-25T11:24:22.944Z"
      },
      {
        "duration": 190,
        "start_time": "2022-05-25T11:24:23.147Z"
      },
      {
        "duration": 19,
        "start_time": "2022-05-25T11:24:23.338Z"
      },
      {
        "duration": 24,
        "start_time": "2022-05-25T11:24:23.359Z"
      },
      {
        "duration": 7,
        "start_time": "2022-05-25T11:24:23.385Z"
      },
      {
        "duration": 17,
        "start_time": "2022-05-25T11:24:23.393Z"
      },
      {
        "duration": 20,
        "start_time": "2022-05-25T11:24:23.412Z"
      },
      {
        "duration": 21,
        "start_time": "2022-05-25T11:24:23.433Z"
      },
      {
        "duration": 14,
        "start_time": "2022-05-25T11:24:23.456Z"
      },
      {
        "duration": 11,
        "start_time": "2022-05-25T11:24:23.472Z"
      },
      {
        "duration": 134,
        "start_time": "2022-05-25T11:24:23.486Z"
      },
      {
        "duration": 0,
        "start_time": "2022-05-25T11:24:23.622Z"
      },
      {
        "duration": 0,
        "start_time": "2022-05-25T11:24:23.622Z"
      },
      {
        "duration": 1241,
        "start_time": "2022-05-25T11:25:37.675Z"
      },
      {
        "duration": 71,
        "start_time": "2022-05-25T11:25:38.918Z"
      },
      {
        "duration": 15,
        "start_time": "2022-05-25T11:25:38.991Z"
      },
      {
        "duration": 50,
        "start_time": "2022-05-25T11:25:39.007Z"
      },
      {
        "duration": 45,
        "start_time": "2022-05-25T11:25:39.059Z"
      },
      {
        "duration": 28,
        "start_time": "2022-05-25T11:25:39.106Z"
      },
      {
        "duration": 33,
        "start_time": "2022-05-25T11:25:39.136Z"
      },
      {
        "duration": 54,
        "start_time": "2022-05-25T11:25:39.171Z"
      },
      {
        "duration": 47,
        "start_time": "2022-05-25T11:25:39.227Z"
      },
      {
        "duration": 11,
        "start_time": "2022-05-25T11:25:39.277Z"
      },
      {
        "duration": 26,
        "start_time": "2022-05-25T11:25:39.289Z"
      },
      {
        "duration": 49,
        "start_time": "2022-05-25T11:25:39.317Z"
      },
      {
        "duration": 42,
        "start_time": "2022-05-25T11:25:39.368Z"
      },
      {
        "duration": 10,
        "start_time": "2022-05-25T11:25:39.426Z"
      },
      {
        "duration": 34,
        "start_time": "2022-05-25T11:25:39.438Z"
      },
      {
        "duration": 56,
        "start_time": "2022-05-25T11:25:39.474Z"
      },
      {
        "duration": 106,
        "start_time": "2022-05-25T11:25:39.532Z"
      },
      {
        "duration": 204,
        "start_time": "2022-05-25T11:25:39.640Z"
      },
      {
        "duration": 186,
        "start_time": "2022-05-25T11:25:39.846Z"
      },
      {
        "duration": 27,
        "start_time": "2022-05-25T11:25:40.034Z"
      },
      {
        "duration": 17,
        "start_time": "2022-05-25T11:25:40.063Z"
      },
      {
        "duration": 13,
        "start_time": "2022-05-25T11:25:40.081Z"
      },
      {
        "duration": 17,
        "start_time": "2022-05-25T11:25:40.096Z"
      },
      {
        "duration": 11,
        "start_time": "2022-05-25T11:25:40.115Z"
      },
      {
        "duration": 6,
        "start_time": "2022-05-25T11:25:40.128Z"
      },
      {
        "duration": 18,
        "start_time": "2022-05-25T11:25:40.135Z"
      },
      {
        "duration": 7,
        "start_time": "2022-05-25T11:25:40.154Z"
      },
      {
        "duration": 126,
        "start_time": "2022-05-25T11:25:40.164Z"
      },
      {
        "duration": 0,
        "start_time": "2022-05-25T11:25:40.292Z"
      },
      {
        "duration": 0,
        "start_time": "2022-05-25T11:25:40.293Z"
      },
      {
        "duration": 8,
        "start_time": "2022-05-25T11:35:49.292Z"
      },
      {
        "duration": 20,
        "start_time": "2022-05-25T11:35:49.736Z"
      },
      {
        "duration": 1219,
        "start_time": "2022-05-25T11:35:58.849Z"
      },
      {
        "duration": 81,
        "start_time": "2022-05-25T11:36:00.070Z"
      },
      {
        "duration": 14,
        "start_time": "2022-05-25T11:36:00.156Z"
      },
      {
        "duration": 75,
        "start_time": "2022-05-25T11:36:00.171Z"
      },
      {
        "duration": 47,
        "start_time": "2022-05-25T11:36:00.247Z"
      },
      {
        "duration": 9,
        "start_time": "2022-05-25T11:36:00.296Z"
      },
      {
        "duration": 32,
        "start_time": "2022-05-25T11:36:00.307Z"
      },
      {
        "duration": 38,
        "start_time": "2022-05-25T11:36:00.341Z"
      },
      {
        "duration": 58,
        "start_time": "2022-05-25T11:36:00.382Z"
      },
      {
        "duration": 10,
        "start_time": "2022-05-25T11:36:00.442Z"
      },
      {
        "duration": 25,
        "start_time": "2022-05-25T11:36:00.453Z"
      },
      {
        "duration": 49,
        "start_time": "2022-05-25T11:36:00.479Z"
      },
      {
        "duration": 46,
        "start_time": "2022-05-25T11:36:00.529Z"
      },
      {
        "duration": 11,
        "start_time": "2022-05-25T11:36:00.577Z"
      },
      {
        "duration": 53,
        "start_time": "2022-05-25T11:36:00.590Z"
      },
      {
        "duration": 84,
        "start_time": "2022-05-25T11:36:00.645Z"
      },
      {
        "duration": 101,
        "start_time": "2022-05-25T11:36:00.730Z"
      },
      {
        "duration": 215,
        "start_time": "2022-05-25T11:36:00.833Z"
      },
      {
        "duration": 179,
        "start_time": "2022-05-25T11:36:01.051Z"
      },
      {
        "duration": 20,
        "start_time": "2022-05-25T11:36:01.232Z"
      },
      {
        "duration": 22,
        "start_time": "2022-05-25T11:36:01.254Z"
      },
      {
        "duration": 17,
        "start_time": "2022-05-25T11:36:01.278Z"
      },
      {
        "duration": 27,
        "start_time": "2022-05-25T11:36:01.297Z"
      },
      {
        "duration": 21,
        "start_time": "2022-05-25T11:36:01.326Z"
      },
      {
        "duration": 14,
        "start_time": "2022-05-25T11:36:01.349Z"
      },
      {
        "duration": 32,
        "start_time": "2022-05-25T11:36:01.365Z"
      },
      {
        "duration": 34,
        "start_time": "2022-05-25T11:36:01.401Z"
      },
      {
        "duration": 128,
        "start_time": "2022-05-25T11:36:01.437Z"
      },
      {
        "duration": 0,
        "start_time": "2022-05-25T11:36:01.567Z"
      },
      {
        "duration": 0,
        "start_time": "2022-05-25T11:36:01.568Z"
      },
      {
        "duration": 4,
        "start_time": "2022-05-25T11:46:39.780Z"
      },
      {
        "duration": 18,
        "start_time": "2022-05-25T11:46:40.094Z"
      },
      {
        "duration": 4,
        "start_time": "2022-05-25T11:47:40.027Z"
      },
      {
        "duration": 13,
        "start_time": "2022-05-25T11:47:40.433Z"
      },
      {
        "duration": 4,
        "start_time": "2022-05-25T11:49:14.818Z"
      },
      {
        "duration": 13,
        "start_time": "2022-05-25T11:49:15.490Z"
      },
      {
        "duration": 5,
        "start_time": "2022-05-25T11:50:24.465Z"
      },
      {
        "duration": 14,
        "start_time": "2022-05-25T11:50:29.088Z"
      },
      {
        "duration": 5,
        "start_time": "2022-05-25T11:56:27.309Z"
      },
      {
        "duration": 11,
        "start_time": "2022-05-25T11:56:27.735Z"
      },
      {
        "duration": 4,
        "start_time": "2022-05-25T11:56:34.661Z"
      },
      {
        "duration": 1163,
        "start_time": "2022-05-25T11:56:34.854Z"
      },
      {
        "duration": 1066,
        "start_time": "2022-05-25T11:56:36.019Z"
      },
      {
        "duration": 975,
        "start_time": "2022-05-25T11:56:37.087Z"
      }
    ],
    "kernelspec": {
      "display_name": "Python 3 (ipykernel)",
      "language": "python",
      "name": "python3"
    },
    "language_info": {
      "codemirror_mode": {
        "name": "ipython",
        "version": 3
      },
      "file_extension": ".py",
      "mimetype": "text/x-python",
      "name": "python",
      "nbconvert_exporter": "python",
      "pygments_lexer": "ipython3",
      "version": "3.9.5"
    },
    "toc": {
      "base_numbering": 1,
      "nav_menu": {},
      "number_sections": true,
      "sideBar": true,
      "skip_h1_title": true,
      "title_cell": "Table of Contents",
      "title_sidebar": "Contents",
      "toc_cell": true,
      "toc_position": {
        "height": "calc(100% - 180px)",
        "left": "10px",
        "top": "150px",
        "width": "366.4px"
      },
      "toc_section_display": true,
      "toc_window_display": true
    },
    "colab": {
      "provenance": []
    }
  },
  "nbformat": 4,
  "nbformat_minor": 0
}