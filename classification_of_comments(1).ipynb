{
  "cells": [
    {
      "cell_type": "markdown",
      "source": [
        "❗ Оставлены рекомендации ревьюера"
      ],
      "metadata": {
        "id": "Ey6pQoO-PlCR"
      }
    },
    {
      "cell_type": "markdown",
      "metadata": {
        "id": "eidtYO31PW4r"
      },
      "source": [
        "# Проект для «Викишоп»"
      ]
    },
    {
      "cell_type": "markdown",
      "metadata": {
        "id": "RMSQW7pTPW4r"
      },
      "source": [
        "Интернет-магазин «Викишоп» запускает новый сервис. Теперь пользователи могут редактировать и дополнять описания товаров, как в вики-сообществах. То есть клиенты предлагают свои правки и комментируют изменения других. Магазину нужен инструмент, который будет искать токсичные комментарии и отправлять их на модерацию.\n",
        "\n",
        "Обучите модель классифицировать комментарии на позитивные и негативные. В вашем распоряжении набор данных с разметкой о токсичности правок.\n",
        "\n",
        "Постройте модель со значением метрики качества *F1* не меньше 0.75.\n",
        "\n",
        "**Задачи**\n",
        "\n",
        "1. Загрузить и подготовить данные.\n",
        "2. Обучить разные модели.\n",
        "3. Сделать выводы."
      ]
    },
    {
      "cell_type": "markdown",
      "metadata": {
        "id": "W3FKAbzgPW4r"
      },
      "source": [
        "## Подготовка"
      ]
    },
    {
      "cell_type": "code",
      "execution_count": null,
      "metadata": {
        "id": "c5rzUog6PW4r"
      },
      "outputs": [],
      "source": [
        "import pandas as pd\n",
        "import sklearn\n",
        "import numpy as np\n",
        "\n",
        "import sys\n",
        "\n",
        "import warnings\n",
        "warnings.filterwarnings('ignore')\n",
        "\n",
        "import re\n",
        "\n",
        "\n",
        "import nltk\n",
        "from nltk.corpus import stopwords\n",
        "from nltk.corpus import wordnet\n",
        "\n",
        "\n",
        "\n",
        "\n",
        "from sklearn.linear_model import SGDClassifier\n",
        "from sklearn.linear_model import LogisticRegression\n",
        "from sklearn.ensemble import RandomForestClassifier\n",
        "from sklearn.tree import DecisionTreeClassifier\n",
        "from sklearn.metrics import f1_score\n",
        "from sklearn.model_selection import cross_val_score\n",
        "from sklearn.model_selection import train_test_split\n",
        "from sklearn.feature_extraction.text import TfidfVectorizer\n",
        "from sklearn.model_selection import GridSearchCV\n"
      ]
    },
    {
      "cell_type": "code",
      "execution_count": null,
      "metadata": {
        "id": "VNHbSUhJPW4s",
        "outputId": "d0f84c6e-74f1-41b1-d08a-4e96b79db581"
      },
      "outputs": [
        {
          "name": "stdout",
          "output_type": "stream",
          "text": [
            "Requirement already satisfied: nltk in /opt/conda/lib/python3.9/site-packages (3.6.1)\r\n",
            "Requirement already satisfied: tqdm in /opt/conda/lib/python3.9/site-packages (from nltk) (4.61.2)\r\n",
            "Requirement already satisfied: joblib in /opt/conda/lib/python3.9/site-packages (from nltk) (1.1.0)\r\n",
            "Requirement already satisfied: regex in /opt/conda/lib/python3.9/site-packages (from nltk) (2022.4.24)\r\n",
            "Requirement already satisfied: click in /opt/conda/lib/python3.9/site-packages (from nltk) (8.1.3)\r\n"
          ]
        }
      ],
      "source": [
        "!pip install nltk"
      ]
    },
    {
      "cell_type": "code",
      "execution_count": null,
      "metadata": {
        "id": "2KcF14jpPW4t"
      },
      "outputs": [],
      "source": [
        "from nltk.stem import WordNetLemmatizer"
      ]
    },
    {
      "cell_type": "code",
      "execution_count": null,
      "metadata": {
        "scrolled": true,
        "id": "b5cJgeP8PW4v",
        "outputId": "58df475b-9c02-46c8-b057-2463ac245e62"
      },
      "outputs": [
        {
          "name": "stderr",
          "output_type": "stream",
          "text": [
            "[nltk_data] Downloading package averaged_perceptron_tagger to\n",
            "[nltk_data]     /home/jovyan/nltk_data...\n",
            "[nltk_data]   Package averaged_perceptron_tagger is already up-to-\n",
            "[nltk_data]       date!\n"
          ]
        },
        {
          "data": {
            "text/plain": [
              "True"
            ]
          },
          "execution_count": 4,
          "metadata": {},
          "output_type": "execute_result"
        }
      ],
      "source": [
        "nltk.download('averaged_perceptron_tagger')"
      ]
    },
    {
      "cell_type": "code",
      "execution_count": null,
      "metadata": {
        "id": "6A6ZB-JoPW4v",
        "outputId": "aec74385-43e8-4233-eb1d-8f5be0eb901b"
      },
      "outputs": [
        {
          "name": "stderr",
          "output_type": "stream",
          "text": [
            "[nltk_data] Downloading package wordnet to /home/jovyan/nltk_data...\n",
            "[nltk_data]   Package wordnet is already up-to-date!\n"
          ]
        },
        {
          "data": {
            "text/plain": [
              "True"
            ]
          },
          "execution_count": 5,
          "metadata": {},
          "output_type": "execute_result"
        }
      ],
      "source": [
        "nltk.download('wordnet')"
      ]
    },
    {
      "cell_type": "code",
      "execution_count": null,
      "metadata": {
        "scrolled": true,
        "id": "yYfXjBZTPW4w",
        "outputId": "71f9bcc1-fdbb-478f-db7f-a63d83a9a431"
      },
      "outputs": [
        {
          "name": "stderr",
          "output_type": "stream",
          "text": [
            "[nltk_data] Downloading package stopwords to /home/jovyan/nltk_data...\n",
            "[nltk_data]   Package stopwords is already up-to-date!\n"
          ]
        },
        {
          "data": {
            "text/plain": [
              "True"
            ]
          },
          "execution_count": 6,
          "metadata": {},
          "output_type": "execute_result"
        }
      ],
      "source": [
        "nltk.download('stopwords')"
      ]
    },
    {
      "cell_type": "code",
      "execution_count": null,
      "metadata": {
        "id": "dgc4TgSAPW4w"
      },
      "outputs": [],
      "source": [
        "try:\n",
        "    df = pd.read_csv('/datasets/toxic_comments.csv')\n",
        "except:\n",
        "    df = pd.read_csv('C:\\\\Users\\\\HARD_REBOOT\\\\Downloads\\\\toxic_comments.csv')"
      ]
    },
    {
      "cell_type": "code",
      "execution_count": null,
      "metadata": {
        "scrolled": true,
        "id": "xaV1ScL0PW4w",
        "outputId": "23fff65f-65ab-43ff-f4e2-b0dff0fe0ec0"
      },
      "outputs": [
        {
          "data": {
            "text/html": [
              "<div>\n",
              "<style scoped>\n",
              "    .dataframe tbody tr th:only-of-type {\n",
              "        vertical-align: middle;\n",
              "    }\n",
              "\n",
              "    .dataframe tbody tr th {\n",
              "        vertical-align: top;\n",
              "    }\n",
              "\n",
              "    .dataframe thead th {\n",
              "        text-align: right;\n",
              "    }\n",
              "</style>\n",
              "<table border=\"1\" class=\"dataframe\">\n",
              "  <thead>\n",
              "    <tr style=\"text-align: right;\">\n",
              "      <th></th>\n",
              "      <th>text</th>\n",
              "      <th>toxic</th>\n",
              "    </tr>\n",
              "  </thead>\n",
              "  <tbody>\n",
              "    <tr>\n",
              "      <th>0</th>\n",
              "      <td>Explanation\\nWhy the edits made under my usern...</td>\n",
              "      <td>0</td>\n",
              "    </tr>\n",
              "    <tr>\n",
              "      <th>1</th>\n",
              "      <td>D'aww! He matches this background colour I'm s...</td>\n",
              "      <td>0</td>\n",
              "    </tr>\n",
              "    <tr>\n",
              "      <th>2</th>\n",
              "      <td>Hey man, I'm really not trying to edit war. It...</td>\n",
              "      <td>0</td>\n",
              "    </tr>\n",
              "    <tr>\n",
              "      <th>3</th>\n",
              "      <td>\"\\nMore\\nI can't make any real suggestions on ...</td>\n",
              "      <td>0</td>\n",
              "    </tr>\n",
              "    <tr>\n",
              "      <th>4</th>\n",
              "      <td>You, sir, are my hero. Any chance you remember...</td>\n",
              "      <td>0</td>\n",
              "    </tr>\n",
              "    <tr>\n",
              "      <th>5</th>\n",
              "      <td>\"\\n\\nCongratulations from me as well, use the ...</td>\n",
              "      <td>0</td>\n",
              "    </tr>\n",
              "    <tr>\n",
              "      <th>6</th>\n",
              "      <td>COCKSUCKER BEFORE YOU PISS AROUND ON MY WORK</td>\n",
              "      <td>1</td>\n",
              "    </tr>\n",
              "    <tr>\n",
              "      <th>7</th>\n",
              "      <td>Your vandalism to the Matt Shirvington article...</td>\n",
              "      <td>0</td>\n",
              "    </tr>\n",
              "    <tr>\n",
              "      <th>8</th>\n",
              "      <td>Sorry if the word 'nonsense' was offensive to ...</td>\n",
              "      <td>0</td>\n",
              "    </tr>\n",
              "    <tr>\n",
              "      <th>9</th>\n",
              "      <td>alignment on this subject and which are contra...</td>\n",
              "      <td>0</td>\n",
              "    </tr>\n",
              "  </tbody>\n",
              "</table>\n",
              "</div>"
            ],
            "text/plain": [
              "                                                text  toxic\n",
              "0  Explanation\\nWhy the edits made under my usern...      0\n",
              "1  D'aww! He matches this background colour I'm s...      0\n",
              "2  Hey man, I'm really not trying to edit war. It...      0\n",
              "3  \"\\nMore\\nI can't make any real suggestions on ...      0\n",
              "4  You, sir, are my hero. Any chance you remember...      0\n",
              "5  \"\\n\\nCongratulations from me as well, use the ...      0\n",
              "6       COCKSUCKER BEFORE YOU PISS AROUND ON MY WORK      1\n",
              "7  Your vandalism to the Matt Shirvington article...      0\n",
              "8  Sorry if the word 'nonsense' was offensive to ...      0\n",
              "9  alignment on this subject and which are contra...      0"
            ]
          },
          "execution_count": 8,
          "metadata": {},
          "output_type": "execute_result"
        }
      ],
      "source": [
        "df.head(10)"
      ]
    },
    {
      "cell_type": "markdown",
      "metadata": {
        "id": "A_6w7Y8DPW4w"
      },
      "source": [
        "В столбце text — текст комментария, а toxic — целевой признак."
      ]
    },
    {
      "cell_type": "code",
      "execution_count": null,
      "metadata": {
        "id": "dtGia9zpPW4x",
        "outputId": "463bd102-054e-4a87-f89e-7a7d6ceeb451"
      },
      "outputs": [
        {
          "name": "stdout",
          "output_type": "stream",
          "text": [
            "<class 'pandas.core.frame.DataFrame'>\n",
            "RangeIndex: 159571 entries, 0 to 159570\n",
            "Data columns (total 2 columns):\n",
            " #   Column  Non-Null Count   Dtype \n",
            "---  ------  --------------   ----- \n",
            " 0   text    159571 non-null  object\n",
            " 1   toxic   159571 non-null  int64 \n",
            "dtypes: int64(1), object(1)\n",
            "memory usage: 2.4+ MB\n"
          ]
        }
      ],
      "source": [
        "df.info()"
      ]
    },
    {
      "cell_type": "code",
      "execution_count": null,
      "metadata": {
        "scrolled": false,
        "id": "oNPO79msPW4x",
        "outputId": "28d35f26-bdbe-4a17-b69b-74d4ab42af46"
      },
      "outputs": [
        {
          "data": {
            "text/html": [
              "<div>\n",
              "<style scoped>\n",
              "    .dataframe tbody tr th:only-of-type {\n",
              "        vertical-align: middle;\n",
              "    }\n",
              "\n",
              "    .dataframe tbody tr th {\n",
              "        vertical-align: top;\n",
              "    }\n",
              "\n",
              "    .dataframe thead th {\n",
              "        text-align: right;\n",
              "    }\n",
              "</style>\n",
              "<table border=\"1\" class=\"dataframe\">\n",
              "  <thead>\n",
              "    <tr style=\"text-align: right;\">\n",
              "      <th></th>\n",
              "      <th>toxic</th>\n",
              "    </tr>\n",
              "  </thead>\n",
              "  <tbody>\n",
              "    <tr>\n",
              "      <th>count</th>\n",
              "      <td>159571.000000</td>\n",
              "    </tr>\n",
              "    <tr>\n",
              "      <th>mean</th>\n",
              "      <td>0.101679</td>\n",
              "    </tr>\n",
              "    <tr>\n",
              "      <th>std</th>\n",
              "      <td>0.302226</td>\n",
              "    </tr>\n",
              "    <tr>\n",
              "      <th>min</th>\n",
              "      <td>0.000000</td>\n",
              "    </tr>\n",
              "    <tr>\n",
              "      <th>25%</th>\n",
              "      <td>0.000000</td>\n",
              "    </tr>\n",
              "    <tr>\n",
              "      <th>50%</th>\n",
              "      <td>0.000000</td>\n",
              "    </tr>\n",
              "    <tr>\n",
              "      <th>75%</th>\n",
              "      <td>0.000000</td>\n",
              "    </tr>\n",
              "    <tr>\n",
              "      <th>max</th>\n",
              "      <td>1.000000</td>\n",
              "    </tr>\n",
              "  </tbody>\n",
              "</table>\n",
              "</div>"
            ],
            "text/plain": [
              "               toxic\n",
              "count  159571.000000\n",
              "mean        0.101679\n",
              "std         0.302226\n",
              "min         0.000000\n",
              "25%         0.000000\n",
              "50%         0.000000\n",
              "75%         0.000000\n",
              "max         1.000000"
            ]
          },
          "execution_count": 10,
          "metadata": {},
          "output_type": "execute_result"
        }
      ],
      "source": [
        "df.describe()"
      ]
    },
    {
      "cell_type": "code",
      "execution_count": null,
      "metadata": {
        "id": "6vc9vuuHPW4y",
        "outputId": "efa0e23a-210c-48b7-b669-efce21e172f7"
      },
      "outputs": [
        {
          "data": {
            "text/plain": [
              "0"
            ]
          },
          "execution_count": 11,
          "metadata": {},
          "output_type": "execute_result"
        }
      ],
      "source": [
        "df.duplicated().sum()"
      ]
    },
    {
      "cell_type": "markdown",
      "metadata": {
        "id": "F2bZO2nIPW4y"
      },
      "source": [
        "Данные выглядят адекватно, пропусков и дубликатов нет.  \n",
        "Посмотрим на распределение целевого признака"
      ]
    },
    {
      "cell_type": "code",
      "execution_count": null,
      "metadata": {
        "id": "ocEX-AtiPW4y",
        "outputId": "30b24e2e-0aaa-4b73-9452-72405202201e"
      },
      "outputs": [
        {
          "data": {
            "text/plain": [
              "0    143346\n",
              "1     16225\n",
              "Name: toxic, dtype: int64"
            ]
          },
          "execution_count": 12,
          "metadata": {},
          "output_type": "execute_result"
        }
      ],
      "source": [
        "df['toxic'].value_counts()"
      ]
    },
    {
      "cell_type": "code",
      "execution_count": null,
      "metadata": {
        "id": "_-FDagdoPW4z",
        "outputId": "137243c6-d9f5-4069-d986-aed52a083528"
      },
      "outputs": [
        {
          "data": {
            "text/plain": [
              "<AxesSubplot:>"
            ]
          },
          "execution_count": 13,
          "metadata": {},
          "output_type": "execute_result"
        },
        {
          "data": {
            "image/png": "[encoded data removed]",
            "text/plain": [
              "<Figure size 432x288 with 1 Axes>"
            ]
          },
          "metadata": {
            "needs_background": "light"
          },
          "output_type": "display_data"
        }
      ],
      "source": [
        "df['toxic'].hist()"
      ]
    },
    {
      "cell_type": "markdown",
      "metadata": {
        "id": "NiJ4NCRZPW4z"
      },
      "source": [
        "Есть дисбаланс, попроьуем обучить модели с ним\n",
        "  \n",
        "Приведём весь текст в комментариях к нижнему регистру."
      ]
    },
    {
      "cell_type": "code",
      "execution_count": null,
      "metadata": {
        "scrolled": true,
        "id": "cdUhIdjSPW4z",
        "outputId": "8f72f0e4-4a3f-45cf-de18-fdceb51e9a18"
      },
      "outputs": [
        {
          "data": {
            "text/html": [
              "<div>\n",
              "<style scoped>\n",
              "    .dataframe tbody tr th:only-of-type {\n",
              "        vertical-align: middle;\n",
              "    }\n",
              "\n",
              "    .dataframe tbody tr th {\n",
              "        vertical-align: top;\n",
              "    }\n",
              "\n",
              "    .dataframe thead th {\n",
              "        text-align: right;\n",
              "    }\n",
              "</style>\n",
              "<table border=\"1\" class=\"dataframe\">\n",
              "  <thead>\n",
              "    <tr style=\"text-align: right;\">\n",
              "      <th></th>\n",
              "      <th>text</th>\n",
              "      <th>toxic</th>\n",
              "    </tr>\n",
              "  </thead>\n",
              "  <tbody>\n",
              "    <tr>\n",
              "      <th>0</th>\n",
              "      <td>explanation\\nwhy the edits made under my usern...</td>\n",
              "      <td>0</td>\n",
              "    </tr>\n",
              "    <tr>\n",
              "      <th>1</th>\n",
              "      <td>d'aww! he matches this background colour i'm s...</td>\n",
              "      <td>0</td>\n",
              "    </tr>\n",
              "    <tr>\n",
              "      <th>2</th>\n",
              "      <td>hey man, i'm really not trying to edit war. it...</td>\n",
              "      <td>0</td>\n",
              "    </tr>\n",
              "    <tr>\n",
              "      <th>3</th>\n",
              "      <td>\"\\nmore\\ni can't make any real suggestions on ...</td>\n",
              "      <td>0</td>\n",
              "    </tr>\n",
              "    <tr>\n",
              "      <th>4</th>\n",
              "      <td>you, sir, are my hero. any chance you remember...</td>\n",
              "      <td>0</td>\n",
              "    </tr>\n",
              "    <tr>\n",
              "      <th>5</th>\n",
              "      <td>\"\\n\\ncongratulations from me as well, use the ...</td>\n",
              "      <td>0</td>\n",
              "    </tr>\n",
              "    <tr>\n",
              "      <th>6</th>\n",
              "      <td>cocksucker before you piss around on my work</td>\n",
              "      <td>1</td>\n",
              "    </tr>\n",
              "    <tr>\n",
              "      <th>7</th>\n",
              "      <td>your vandalism to the matt shirvington article...</td>\n",
              "      <td>0</td>\n",
              "    </tr>\n",
              "    <tr>\n",
              "      <th>8</th>\n",
              "      <td>sorry if the word 'nonsense' was offensive to ...</td>\n",
              "      <td>0</td>\n",
              "    </tr>\n",
              "    <tr>\n",
              "      <th>9</th>\n",
              "      <td>alignment on this subject and which are contra...</td>\n",
              "      <td>0</td>\n",
              "    </tr>\n",
              "  </tbody>\n",
              "</table>\n",
              "</div>"
            ],
            "text/plain": [
              "                                                text  toxic\n",
              "0  explanation\\nwhy the edits made under my usern...      0\n",
              "1  d'aww! he matches this background colour i'm s...      0\n",
              "2  hey man, i'm really not trying to edit war. it...      0\n",
              "3  \"\\nmore\\ni can't make any real suggestions on ...      0\n",
              "4  you, sir, are my hero. any chance you remember...      0\n",
              "5  \"\\n\\ncongratulations from me as well, use the ...      0\n",
              "6       cocksucker before you piss around on my work      1\n",
              "7  your vandalism to the matt shirvington article...      0\n",
              "8  sorry if the word 'nonsense' was offensive to ...      0\n",
              "9  alignment on this subject and which are contra...      0"
            ]
          },
          "execution_count": 14,
          "metadata": {},
          "output_type": "execute_result"
        }
      ],
      "source": [
        "df['text'] = df['text'].astype(str).str.lower()\n",
        "\n",
        "df.head(10)"
      ]
    },
    {
      "cell_type": "markdown",
      "metadata": {
        "id": "JZU-lpJrPW40"
      },
      "source": [
        "Перед лемматизацией, чтобы долго не ждать, уменьшим датасет на 50% нетоксичных комментариев"
      ]
    },
    {
      "cell_type": "code",
      "execution_count": null,
      "metadata": {
        "scrolled": true,
        "id": "JTSPr1UHPW40"
      },
      "outputs": [],
      "source": [
        "#df = df.drop(df.query('toxic == 0').sample(frac=.5).index)"
      ]
    },
    {
      "cell_type": "markdown",
      "metadata": {
        "id": "SreSSZN1PW40"
      },
      "source": [
        "<div class=\"alert alert-block alert-danger\">\n",
        "<b>Комментарий от ревьюера v2</b>\n",
        "    \n",
        "❌ Тестовая выборка должна иметь такое же распределение, как и основной датасет(иначе исказится оценка модели). Поэтому уменьшать количество строк необходимо либо только на тренировочной выборке, либо уменьшать пропорционально балансу классов.\n",
        "</div>\n"
      ]
    },
    {
      "cell_type": "markdown",
      "metadata": {
        "id": "YheCjOcFPW41"
      },
      "source": [
        "<div class=\"alert alert-info\"> <b>ℹ️ Комментарий студента: </b> Я решила ничего не уменьшать в итоге, почему-то сильно режется качество, а целый датасет не сильно дольше лемматизируется 😅  </div>"
      ]
    },
    {
      "cell_type": "markdown",
      "metadata": {
        "id": "Cbbz4Ha4PW41"
      },
      "source": [
        "<div class=\"alert alert-block alert-success\">\n",
        "<b>Комментарий от ревьюера v3</b>\n",
        "    \n",
        "✔️ Ну и отлично)\n",
        "</div>"
      ]
    },
    {
      "cell_type": "code",
      "execution_count": null,
      "metadata": {
        "id": "KZU17ZnRPW41"
      },
      "outputs": [],
      "source": [
        "#df['toxic'].value_counts()"
      ]
    },
    {
      "cell_type": "markdown",
      "metadata": {
        "id": "zckWLt4ZPW41"
      },
      "source": [
        "Напишем функции очистки текста и лемматизации. Перед лемматизацией текст очистим"
      ]
    },
    {
      "cell_type": "code",
      "execution_count": null,
      "metadata": {
        "id": "3GfJVI14PW41"
      },
      "outputs": [],
      "source": [
        "def get_wordnet_pos(word):\n",
        "    tag = nltk.pos_tag([word])[0][1][0].upper()\n",
        "    tag_dict = {\"J\": wordnet.ADJ,\n",
        "                \"N\": wordnet.NOUN,\n",
        "                \"V\": wordnet.VERB,\n",
        "                \"R\": wordnet.ADV}\n",
        "    return tag_dict.get(tag, wordnet.NOUN)"
      ]
    },
    {
      "cell_type": "code",
      "execution_count": null,
      "metadata": {
        "id": "1_H-Nwu7PW42"
      },
      "outputs": [],
      "source": [
        "def lemmatize(text):\n",
        "    lemmatizer = WordNetLemmatizer()\n",
        "    lemm_list = nltk.word_tokenize(text)\n",
        "    lemmas = ' '.join([lemmatizer.lemmatize(w, get_wordnet_pos(w)) for w in lemm_list])\n",
        "    return lemmas"
      ]
    },
    {
      "cell_type": "code",
      "execution_count": null,
      "metadata": {
        "id": "zR_lx4UkPW42"
      },
      "outputs": [],
      "source": [
        "def clear_text(text):\n",
        "    clear_text = re.sub(r'[^a-zA-Z]', ' ', text)\n",
        "    clear_text = clear_text.lower().split()\n",
        "    return ' '.join(clear_text)"
      ]
    },
    {
      "cell_type": "code",
      "execution_count": null,
      "metadata": {
        "scrolled": true,
        "id": "jNxhD50FPW42",
        "outputId": "f451bab8-abd3-4f97-ec47-be164d8e16f6"
      },
      "outputs": [
        {
          "name": "stdout",
          "output_type": "stream",
          "text": [
            "CPU times: user 17min 52s, sys: 1min 44s, total: 19min 36s\n",
            "Wall time: 19min 36s\n"
          ]
        }
      ],
      "source": [
        "%%time\n",
        "df['lemmas'] = df['text'].apply(lambda text: lemmatize(clear_text(text)))"
      ]
    },
    {
      "cell_type": "markdown",
      "metadata": {
        "id": "j6lyXLQAPW42"
      },
      "source": [
        "<div class=\"alert alert-block alert-danger\">\n",
        "<b>Комментарий от ревьюера v1</b>\n",
        "    \n",
        "❌ Твоя лемматизация отрабатывает не совсем верно. WordNetLemmatizer - требует указания POS-tag для каждого слова, иначе все слова обрабатываются как существительные.\n",
        "    \n",
        "В этой статье https://webdevblog.ru/podhody-lemmatizacii-s-primerami-v-python/ ты можешь увидеть основные подходы к лемматизации текстов, я бы рекомендовал тебе использовать spaCy - это быстрая библиотека, которая не требует проставления POS-tag.    \n",
        "   \n",
        "</div>\n"
      ]
    },
    {
      "cell_type": "markdown",
      "metadata": {
        "id": "X-YEtm16PW42"
      },
      "source": [
        "<div class=\"alert alert-info\"> <b>ℹ️ Комментарий студента: </b> Я попробовала spaCy, но всё равно даже с сокращением датасета почти в 2 раза лемматизация шла больше 8 часов, я так и не дождалась. Я потом свой код поменяла на код наставника из треда прямо дословно, и всё равно ничего не поменялось. Не поняла короче, что это было 😅 Оставила в итоге WordNetLemmatizer с пос-тегами </div>"
      ]
    },
    {
      "cell_type": "markdown",
      "metadata": {
        "id": "9SYk5yt9PW43"
      },
      "source": [
        "<div class=\"alert alert-block alert-success\">\n",
        "<b>Комментарий от ревьюера v2</b>\n",
        "    \n",
        "✔️ Теперь у тебя все отлично. Очень странно, что spaCy работал так долго, обычно он быстрее, чем WordNet, если скинешь код, то я попробую подсказать, что с ним не так)\n",
        "</div>"
      ]
    },
    {
      "cell_type": "markdown",
      "metadata": {
        "id": "M7s5APZaPW43"
      },
      "source": [
        "<div class=\"alert alert-info\"> <b>ℹ️ Комментарий студента: </b> Делала вот так:  \n",
        "  \n",
        "```\n",
        "def lemmatize_text(text):\n",
        "    nlp = spacy.load('en_core_web_sm', disable=['parser', 'ner'])\n",
        "    doc = nlp(text)\n",
        "    return \" \".join([token.lemma_ for token in doc])\n",
        "\n",
        "df['text'] = df['text'].apply(clear_text)\n",
        "df['lemm_text'] = df['text'].apply(lemmatize_text)\n",
        "```\n",
        "</div>"
      ]
    },
    {
      "cell_type": "markdown",
      "metadata": {
        "id": "hOqdZcv6PW43"
      },
      "source": [
        "<div class=\"alert alert-block alert-success\">\n",
        "<b>Комментарий от ревьюера v3</b>\n",
        "    \n",
        "✔️ Если ты вынесешь nlp = spacy.load('en_core_web_sm', disable=['parser', 'ner']) из функции, то лемматизация будет выполняться на порядок быстрее. Сейчас у тебя для каждого текста инициализируется новый объект nlp, а зачастую это отнимает больше времени, чем сам процесс лемматизации.\n",
        "</div>"
      ]
    },
    {
      "cell_type": "code",
      "execution_count": null,
      "metadata": {
        "scrolled": true,
        "id": "T75IvPRwPW43",
        "outputId": "57135130-decb-47f2-f366-1d27fb742f16"
      },
      "outputs": [
        {
          "data": {
            "text/html": [
              "<div>\n",
              "<style scoped>\n",
              "    .dataframe tbody tr th:only-of-type {\n",
              "        vertical-align: middle;\n",
              "    }\n",
              "\n",
              "    .dataframe tbody tr th {\n",
              "        vertical-align: top;\n",
              "    }\n",
              "\n",
              "    .dataframe thead th {\n",
              "        text-align: right;\n",
              "    }\n",
              "</style>\n",
              "<table border=\"1\" class=\"dataframe\">\n",
              "  <thead>\n",
              "    <tr style=\"text-align: right;\">\n",
              "      <th></th>\n",
              "      <th>text</th>\n",
              "      <th>toxic</th>\n",
              "      <th>lemmas</th>\n",
              "    </tr>\n",
              "  </thead>\n",
              "  <tbody>\n",
              "    <tr>\n",
              "      <th>0</th>\n",
              "      <td>explanation\\nwhy the edits made under my usern...</td>\n",
              "      <td>0</td>\n",
              "      <td>explanation why the edits make under my userna...</td>\n",
              "    </tr>\n",
              "    <tr>\n",
              "      <th>1</th>\n",
              "      <td>d'aww! he matches this background colour i'm s...</td>\n",
              "      <td>0</td>\n",
              "      <td>d aww he match this background colour i m seem...</td>\n",
              "    </tr>\n",
              "    <tr>\n",
              "      <th>2</th>\n",
              "      <td>hey man, i'm really not trying to edit war. it...</td>\n",
              "      <td>0</td>\n",
              "      <td>hey man i m really not try to edit war it s ju...</td>\n",
              "    </tr>\n",
              "    <tr>\n",
              "      <th>3</th>\n",
              "      <td>\"\\nmore\\ni can't make any real suggestions on ...</td>\n",
              "      <td>0</td>\n",
              "      <td>more i can t make any real suggestion on impro...</td>\n",
              "    </tr>\n",
              "    <tr>\n",
              "      <th>4</th>\n",
              "      <td>you, sir, are my hero. any chance you remember...</td>\n",
              "      <td>0</td>\n",
              "      <td>you sir be my hero any chance you remember wha...</td>\n",
              "    </tr>\n",
              "  </tbody>\n",
              "</table>\n",
              "</div>"
            ],
            "text/plain": [
              "                                                text  toxic  \\\n",
              "0  explanation\\nwhy the edits made under my usern...      0   \n",
              "1  d'aww! he matches this background colour i'm s...      0   \n",
              "2  hey man, i'm really not trying to edit war. it...      0   \n",
              "3  \"\\nmore\\ni can't make any real suggestions on ...      0   \n",
              "4  you, sir, are my hero. any chance you remember...      0   \n",
              "\n",
              "                                              lemmas  \n",
              "0  explanation why the edits make under my userna...  \n",
              "1  d aww he match this background colour i m seem...  \n",
              "2  hey man i m really not try to edit war it s ju...  \n",
              "3  more i can t make any real suggestion on impro...  \n",
              "4  you sir be my hero any chance you remember wha...  "
            ]
          },
          "execution_count": 21,
          "metadata": {},
          "output_type": "execute_result"
        }
      ],
      "source": [
        "df.head()"
      ]
    },
    {
      "cell_type": "markdown",
      "metadata": {
        "id": "pwRDMDa0PW44"
      },
      "source": [
        "## Обучение"
      ]
    },
    {
      "cell_type": "markdown",
      "metadata": {
        "id": "74em9sIHPW44"
      },
      "source": [
        "Разделим данные на обучающую, валидационную и тестовую выборки, выделим признаки"
      ]
    },
    {
      "cell_type": "code",
      "execution_count": null,
      "metadata": {
        "id": "AWL9sxpxPW45"
      },
      "outputs": [],
      "source": [
        "df_train, df_valid_1 = train_test_split(df, shuffle=False, test_size=0.2, random_state=42)\n",
        "\n",
        "df_valid, df_test = train_test_split(df_valid_1, shuffle=False, test_size=0.50, random_state=42)"
      ]
    },
    {
      "cell_type": "code",
      "execution_count": null,
      "metadata": {
        "id": "xzULPHQgPW45"
      },
      "outputs": [],
      "source": [
        "features_train = df_train['lemmas']\n",
        "target_train = df_train['toxic']\n",
        "\n",
        "features_valid = df_valid['lemmas']\n",
        "target_valid = df_valid['toxic']\n",
        "\n",
        "features_test = df_test['lemmas']\n",
        "target_test = df_test['toxic']"
      ]
    },
    {
      "cell_type": "markdown",
      "metadata": {
        "id": "c6guEa28PW45"
      },
      "source": [
        "Создадим матрицу TF-IDF"
      ]
    },
    {
      "cell_type": "code",
      "execution_count": null,
      "metadata": {
        "id": "DJ7qbvAKPW46"
      },
      "outputs": [],
      "source": [
        "from nltk.corpus import stopwords as nltk_stopwords\n",
        "stopwords = set(nltk_stopwords.words('english'))\n",
        "\n",
        "count_tf_idf = TfidfVectorizer(stop_words=stopwords)"
      ]
    },
    {
      "cell_type": "code",
      "execution_count": null,
      "metadata": {
        "id": "cBxwBmOvPW46"
      },
      "outputs": [],
      "source": [
        "features_train_tf = count_tf_idf.fit_transform(features_train)\n",
        "features_test_tf = count_tf_idf.transform(features_test)\n",
        "features_valid_tf = count_tf_idf.transform(features_valid)"
      ]
    },
    {
      "cell_type": "markdown",
      "metadata": {
        "id": "uPN0FR65PW46"
      },
      "source": [
        "**Логистическая регрессия**"
      ]
    },
    {
      "cell_type": "code",
      "execution_count": null,
      "metadata": {
        "id": "mxl3aCuLPW46",
        "outputId": "248082f8-d50f-4abe-acaa-93e76cd5d01a"
      },
      "outputs": [
        {
          "name": "stdout",
          "output_type": "stream",
          "text": [
            "0.7603498572264666\n",
            "10\n",
            "CPU times: user 2min 50s, sys: 6min 8s, total: 8min 58s\n",
            "Wall time: 8min 59s\n"
          ]
        }
      ],
      "source": [
        "%%time\n",
        "\n",
        "best_C = 0\n",
        "best_score = 0\n",
        "\n",
        "for C in [0.01, 0.1, 1, 10]:\n",
        "\n",
        "    model_lr = LogisticRegression(class_weight = 'balanced', random_state=42, C=C)\n",
        "    score = cross_val_score(model_lr, features_train_tf, target_train, cv=4, scoring='f1').mean()\n",
        "    model_lr.fit(features_train_tf, target_train)\n",
        "    if score > best_score:\n",
        "        best_score = score\n",
        "        best_C = C\n",
        "\n",
        "print(best_score)\n",
        "print(best_C)"
      ]
    },
    {
      "cell_type": "markdown",
      "metadata": {
        "id": "kC46afpxPW46"
      },
      "source": [
        "<div class=\"alert alert-block alert-success\">\n",
        "<b>Комментарий от ревьюера v1</b>\n",
        "    \n",
        "✔️ Очень круто, что ты получаешь оценку на кросс-валидации, она более устойчива, чем просто оценка на валидационной выборке. Для улучшения результата я бы предложил перебрать гиперпараметр C в диапазоне [0.01, 0.1, 1, 10].\n",
        "</div>"
      ]
    },
    {
      "cell_type": "markdown",
      "metadata": {
        "id": "sNfJu2JUPW47"
      },
      "source": [
        "**Дерево решений**"
      ]
    },
    {
      "cell_type": "code",
      "execution_count": null,
      "metadata": {
        "id": "rcZdN47CPW47",
        "outputId": "778679ea-eabf-48d5-b989-c276c3471554"
      },
      "outputs": [
        {
          "name": "stdout",
          "output_type": "stream",
          "text": [
            "Наилучший F1: 0.7073256221521205\n",
            "('Глубина', 91)\n"
          ]
        }
      ],
      "source": [
        "best_tree_model = None\n",
        "best_tree_result = 0\n",
        "best_parameters = ''\n",
        "\n",
        "for depth in range(1, 100, 10):\n",
        "    model_tree = DecisionTreeClassifier(random_state=42, max_depth=depth, min_samples_split=100)\n",
        "    model_tree.fit(features_train_tf, target_train)\n",
        "    predictions = model_tree.predict(features_valid_tf)\n",
        "    tree_result = f1_score(target_valid, predictions)\n",
        "    if tree_result > best_tree_result:\n",
        "        best_tree_model = model_tree\n",
        "        best_tree_result = tree_result\n",
        "        best_parameters = 'Глубина', depth\n",
        "\n",
        "print(\"Наилучший F1:\", best_tree_result)\n",
        "print(best_parameters)"
      ]
    },
    {
      "cell_type": "markdown",
      "metadata": {
        "id": "duXqBH6QPW48"
      },
      "source": [
        "**Случайный лес**"
      ]
    },
    {
      "cell_type": "code",
      "execution_count": null,
      "metadata": {
        "id": "p1klRcviPW48",
        "outputId": "069079c9-8792-4813-da90-94ab5e3f5e78"
      },
      "outputs": [
        {
          "name": "stdout",
          "output_type": "stream",
          "text": [
            "Наилучший F1: 0.13144475920679885\n",
            "est: 1 depth: 29\n",
            "CPU times: user 1min 58s, sys: 901 ms, total: 1min 59s\n",
            "Wall time: 1min 59s\n"
          ]
        }
      ],
      "source": [
        "%%time\n",
        "\n",
        "best_result = 0\n",
        "best_depth = 0\n",
        "best_est = 0\n",
        "\n",
        "for depth in range(1, 30, 7):\n",
        "    for est in range(1, 250, 50):\n",
        "        forest_model = RandomForestClassifier(n_estimators=est, max_depth=depth, random_state=42, min_samples_split= 100)\n",
        "        forest_model.fit(features_train_tf, target_train)\n",
        "        predictions = forest_model.predict(features_valid_tf)\n",
        "        result = f1_score(target_valid, predictions)\n",
        "        if result > best_result:\n",
        "            best_depth = depth # наилучшая глубина\n",
        "            best_result = result\n",
        "            best_est = est # наилучшее количество деревьев\n",
        "\n",
        "\n",
        "print('Наилучший F1:', best_result)\n",
        "print('est:', best_est, 'depth:', best_depth)"
      ]
    },
    {
      "cell_type": "markdown",
      "metadata": {
        "id": "qhfS-umjPW48"
      },
      "source": [
        "**SGDClassifier**"
      ]
    },
    {
      "cell_type": "code",
      "execution_count": null,
      "metadata": {
        "id": "vKvJEtJWPW49",
        "outputId": "68cca189-9301-45b7-ef8e-337338efe6d6"
      },
      "outputs": [
        {
          "name": "stdout",
          "output_type": "stream",
          "text": [
            "CPU times: user 1.53 s, sys: 566 ms, total: 2.1 s\n",
            "Wall time: 2.1 s\n"
          ]
        },
        {
          "data": {
            "text/plain": [
              "0.6278070534119399"
            ]
          },
          "execution_count": 29,
          "metadata": {},
          "output_type": "execute_result"
        }
      ],
      "source": [
        "%%time\n",
        "\n",
        "model_sgd = SGDClassifier(max_iter = 1000, n_jobs=-1)\n",
        "score = cross_val_score(model_sgd, features_train_tf, target_train,cv=4,scoring='f1').mean()\n",
        "model_sgd.fit(features_train_tf, target_train)\n",
        "\n",
        "score"
      ]
    },
    {
      "cell_type": "markdown",
      "metadata": {
        "id": "irpuQzPzPW49"
      },
      "source": [
        "На валидационной выборке наилучший результат показала модель логистической регрессии (0,76) и дерева решений (0.70). Проверим работу этих моделей на тестовой выборке"
      ]
    },
    {
      "cell_type": "markdown",
      "metadata": {
        "id": "Rsqr_jE8PW49"
      },
      "source": [
        "**Логистическая регрессия**"
      ]
    },
    {
      "cell_type": "code",
      "execution_count": null,
      "metadata": {
        "id": "3Byr8QgdPW49",
        "outputId": "d2bf7e87-45bc-4576-af96-ef2d7010fb3a"
      },
      "outputs": [
        {
          "name": "stdout",
          "output_type": "stream",
          "text": [
            "CPU times: user 15 s, sys: 30.7 s, total: 45.7 s\n",
            "Wall time: 45.8 s\n"
          ]
        },
        {
          "data": {
            "text/plain": [
              "0.7617971178298955"
            ]
          },
          "execution_count": 30,
          "metadata": {},
          "output_type": "execute_result"
        }
      ],
      "source": [
        "%%time\n",
        "\n",
        "model_lr = LogisticRegression(class_weight = 'balanced', random_state=42, C=10)\n",
        "model_lr.fit(features_train_tf, target_train)\n",
        "predictions = model_lr.predict(features_test_tf)\n",
        "\n",
        "f1_score(target_test, predictions)"
      ]
    },
    {
      "cell_type": "markdown",
      "metadata": {
        "id": "tzpwP-AYPW49"
      },
      "source": [
        "**Дерево решений**"
      ]
    },
    {
      "cell_type": "code",
      "execution_count": null,
      "metadata": {
        "id": "rxyWR3_VPW4-",
        "outputId": "65611240-5555-4a9a-f31c-7e852829d26f"
      },
      "outputs": [
        {
          "data": {
            "text/plain": [
              "0.7225201072386058"
            ]
          },
          "execution_count": 31,
          "metadata": {},
          "output_type": "execute_result"
        }
      ],
      "source": [
        "model_tree = DecisionTreeClassifier(random_state=42, max_depth=91, min_samples_split=100)\n",
        "model_tree.fit(features_train_tf, target_train)\n",
        "predictions = model_tree.predict(features_test_tf)\n",
        "\n",
        "f1_score(target_test, predictions)"
      ]
    },
    {
      "cell_type": "markdown",
      "metadata": {
        "id": "WSfprChvPW4-"
      },
      "source": [
        "## Выводы"
      ]
    },
    {
      "cell_type": "markdown",
      "metadata": {
        "id": "j4q6k9oHPW4-"
      },
      "source": [
        "Логистическая регрессия достигла порога значения метрики в 0.75, а дерево решений — нет"
      ]
    },
    {
      "cell_type": "markdown",
      "metadata": {
        "id": "v81WthVMPW4-"
      },
      "source": [
        "<div class=\"alert alert-block alert-success\">\n",
        "Комментарий от ревьюера v1\n",
        "    \n",
        "# Общий вывод\n",
        "    \n",
        "✔️ Спасибо за работу, у тебя получился хороший проект. Ты правильно выполнила кодирование текстовых данных и подготовила выборки для обучения моделей.\n",
        "    \n",
        "Ты не используешь GridSearchCV в этой работе, но он и не дал бы нам адекватного результата, так как без использования pipeline он сильно переобучался бы. Pipeline позволяет объединять предобработку признаков, поиск оптимальных параметров и позволяет избежать утечку таргета при кодировании всей выборки. Тут есть краткий пример того, как можно построить pipeline.\n",
        "    https://scikit-learn.ru/example/sample-pipeline-for-text-feature-extraction-and-evaluation/\n",
        "    \n",
        "</div>\n",
        "\n"
      ]
    }
  ],
  "metadata": {
    "ExecuteTimeLog": [
      {
        "duration": 1069,
        "start_time": "2022-07-17T21:47:24.056Z"
      },
      {
        "duration": 2342,
        "start_time": "2022-07-17T21:47:25.127Z"
      },
      {
        "duration": 14,
        "start_time": "2022-07-17T22:09:43.400Z"
      },
      {
        "duration": 35,
        "start_time": "2022-07-17T22:09:43.830Z"
      },
      {
        "duration": 18,
        "start_time": "2022-07-17T22:09:44.383Z"
      },
      {
        "duration": 47,
        "start_time": "2022-07-17T22:29:00.449Z"
      },
      {
        "duration": 315,
        "start_time": "2022-07-17T22:30:56.116Z"
      },
      {
        "duration": 630,
        "start_time": "2022-07-17T22:31:25.376Z"
      },
      {
        "duration": 504,
        "start_time": "2022-07-17T22:31:38.765Z"
      },
      {
        "duration": 7,
        "start_time": "2022-07-17T22:31:57.078Z"
      },
      {
        "duration": 191,
        "start_time": "2022-07-17T22:33:56.132Z"
      },
      {
        "duration": 203,
        "start_time": "2022-07-17T22:34:49.371Z"
      },
      {
        "duration": 273,
        "start_time": "2022-07-17T23:01:51.780Z"
      },
      {
        "duration": 1311,
        "start_time": "2022-07-17T23:01:56.962Z"
      },
      {
        "duration": 836,
        "start_time": "2022-07-17T23:01:58.275Z"
      },
      {
        "duration": 14,
        "start_time": "2022-07-17T23:01:59.113Z"
      },
      {
        "duration": 41,
        "start_time": "2022-07-17T23:01:59.129Z"
      },
      {
        "duration": 14,
        "start_time": "2022-07-17T23:01:59.172Z"
      },
      {
        "duration": 238,
        "start_time": "2022-07-17T23:01:59.188Z"
      },
      {
        "duration": 6,
        "start_time": "2022-07-17T23:01:59.427Z"
      },
      {
        "duration": 306,
        "start_time": "2022-07-17T23:01:59.434Z"
      },
      {
        "duration": 433,
        "start_time": "2022-07-17T23:16:56.292Z"
      },
      {
        "duration": 1231,
        "start_time": "2022-07-17T23:17:50.319Z"
      },
      {
        "duration": 196,
        "start_time": "2022-07-17T23:17:51.552Z"
      },
      {
        "duration": 830,
        "start_time": "2022-07-17T23:17:51.749Z"
      },
      {
        "duration": 13,
        "start_time": "2022-07-17T23:17:52.581Z"
      },
      {
        "duration": 39,
        "start_time": "2022-07-17T23:17:52.596Z"
      },
      {
        "duration": 33,
        "start_time": "2022-07-17T23:17:52.636Z"
      },
      {
        "duration": 227,
        "start_time": "2022-07-17T23:17:52.670Z"
      },
      {
        "duration": 6,
        "start_time": "2022-07-17T23:17:52.898Z"
      },
      {
        "duration": 309,
        "start_time": "2022-07-17T23:17:52.905Z"
      },
      {
        "duration": 292,
        "start_time": "2022-07-17T23:27:14.133Z"
      },
      {
        "duration": 887,
        "start_time": "2022-07-17T23:30:26.828Z"
      },
      {
        "duration": 1409,
        "start_time": "2022-07-17T23:30:43.561Z"
      },
      {
        "duration": 0,
        "start_time": "2022-07-17T23:30:44.972Z"
      },
      {
        "duration": 0,
        "start_time": "2022-07-17T23:30:44.973Z"
      },
      {
        "duration": 0,
        "start_time": "2022-07-17T23:30:44.975Z"
      },
      {
        "duration": 0,
        "start_time": "2022-07-17T23:30:44.976Z"
      },
      {
        "duration": 0,
        "start_time": "2022-07-17T23:30:44.977Z"
      },
      {
        "duration": 0,
        "start_time": "2022-07-17T23:30:44.978Z"
      },
      {
        "duration": 0,
        "start_time": "2022-07-17T23:30:44.979Z"
      },
      {
        "duration": 0,
        "start_time": "2022-07-17T23:30:44.980Z"
      },
      {
        "duration": 0,
        "start_time": "2022-07-17T23:30:44.981Z"
      },
      {
        "duration": 1492,
        "start_time": "2022-07-17T23:32:07.022Z"
      },
      {
        "duration": 6,
        "start_time": "2022-07-17T23:32:08.516Z"
      },
      {
        "duration": 854,
        "start_time": "2022-07-17T23:32:08.524Z"
      },
      {
        "duration": 10,
        "start_time": "2022-07-17T23:32:09.380Z"
      },
      {
        "duration": 37,
        "start_time": "2022-07-17T23:32:09.392Z"
      },
      {
        "duration": 34,
        "start_time": "2022-07-17T23:32:09.431Z"
      },
      {
        "duration": 239,
        "start_time": "2022-07-17T23:32:09.466Z"
      },
      {
        "duration": 6,
        "start_time": "2022-07-17T23:32:09.707Z"
      },
      {
        "duration": 321,
        "start_time": "2022-07-17T23:32:09.715Z"
      },
      {
        "duration": 315,
        "start_time": "2022-07-17T23:32:10.037Z"
      },
      {
        "duration": 168,
        "start_time": "2022-07-17T23:35:10.786Z"
      },
      {
        "duration": 3,
        "start_time": "2022-07-17T23:35:16.492Z"
      },
      {
        "duration": 3,
        "start_time": "2022-07-17T23:35:16.867Z"
      },
      {
        "duration": 57,
        "start_time": "2022-07-17T23:35:17.254Z"
      },
      {
        "duration": 81227,
        "start_time": "2022-07-17T23:36:38.465Z"
      },
      {
        "duration": 1737,
        "start_time": "2022-07-17T23:44:21.010Z"
      },
      {
        "duration": 218,
        "start_time": "2022-07-17T23:48:06.272Z"
      },
      {
        "duration": 1873,
        "start_time": "2022-07-17T23:48:22.517Z"
      },
      {
        "duration": 5,
        "start_time": "2022-07-18T00:02:46.720Z"
      },
      {
        "duration": 801,
        "start_time": "2022-07-18T00:03:50.118Z"
      },
      {
        "duration": 1329,
        "start_time": "2022-07-18T00:04:21.381Z"
      },
      {
        "duration": 172,
        "start_time": "2022-07-18T00:04:22.712Z"
      },
      {
        "duration": 843,
        "start_time": "2022-07-18T00:04:22.886Z"
      },
      {
        "duration": 9,
        "start_time": "2022-07-18T00:04:23.731Z"
      },
      {
        "duration": 42,
        "start_time": "2022-07-18T00:04:23.742Z"
      },
      {
        "duration": 17,
        "start_time": "2022-07-18T00:04:23.786Z"
      },
      {
        "duration": 244,
        "start_time": "2022-07-18T00:04:23.805Z"
      },
      {
        "duration": 15,
        "start_time": "2022-07-18T00:04:24.050Z"
      },
      {
        "duration": 316,
        "start_time": "2022-07-18T00:04:24.067Z"
      },
      {
        "duration": 312,
        "start_time": "2022-07-18T00:04:24.385Z"
      },
      {
        "duration": 1816,
        "start_time": "2022-07-18T00:04:24.699Z"
      },
      {
        "duration": 2368,
        "start_time": "2022-07-18T00:04:26.516Z"
      },
      {
        "duration": 3,
        "start_time": "2022-07-18T00:04:28.886Z"
      },
      {
        "duration": 19903,
        "start_time": "2022-07-18T00:04:28.891Z"
      },
      {
        "duration": 13,
        "start_time": "2022-07-18T00:04:58.644Z"
      },
      {
        "duration": 1343,
        "start_time": "2022-07-18T00:06:10.035Z"
      },
      {
        "duration": 178,
        "start_time": "2022-07-18T00:06:11.380Z"
      },
      {
        "duration": 842,
        "start_time": "2022-07-18T00:06:11.560Z"
      },
      {
        "duration": 11,
        "start_time": "2022-07-18T00:06:12.405Z"
      },
      {
        "duration": 47,
        "start_time": "2022-07-18T00:06:12.417Z"
      },
      {
        "duration": 17,
        "start_time": "2022-07-18T00:06:12.466Z"
      },
      {
        "duration": 256,
        "start_time": "2022-07-18T00:06:12.484Z"
      },
      {
        "duration": 5,
        "start_time": "2022-07-18T00:06:12.741Z"
      },
      {
        "duration": 326,
        "start_time": "2022-07-18T00:06:12.748Z"
      },
      {
        "duration": 297,
        "start_time": "2022-07-18T00:06:13.077Z"
      },
      {
        "duration": 1833,
        "start_time": "2022-07-18T00:06:13.376Z"
      },
      {
        "duration": 3,
        "start_time": "2022-07-18T00:06:15.211Z"
      },
      {
        "duration": 1014,
        "start_time": "2022-07-18T00:06:15.216Z"
      },
      {
        "duration": 2311,
        "start_time": "2022-07-18T00:06:16.232Z"
      },
      {
        "duration": 12,
        "start_time": "2022-07-18T00:06:18.545Z"
      },
      {
        "duration": 1323,
        "start_time": "2022-07-18T00:06:58.144Z"
      },
      {
        "duration": 185,
        "start_time": "2022-07-18T00:06:59.468Z"
      },
      {
        "duration": 856,
        "start_time": "2022-07-18T00:06:59.654Z"
      },
      {
        "duration": 10,
        "start_time": "2022-07-18T00:07:00.512Z"
      },
      {
        "duration": 47,
        "start_time": "2022-07-18T00:07:00.524Z"
      },
      {
        "duration": 19,
        "start_time": "2022-07-18T00:07:00.573Z"
      },
      {
        "duration": 253,
        "start_time": "2022-07-18T00:07:00.593Z"
      },
      {
        "duration": 20,
        "start_time": "2022-07-18T00:07:00.848Z"
      },
      {
        "duration": 331,
        "start_time": "2022-07-18T00:07:00.869Z"
      },
      {
        "duration": 334,
        "start_time": "2022-07-18T00:07:01.203Z"
      },
      {
        "duration": 3,
        "start_time": "2022-07-18T00:07:01.539Z"
      },
      {
        "duration": 38,
        "start_time": "2022-07-18T00:07:01.543Z"
      },
      {
        "duration": 1278,
        "start_time": "2022-07-18T00:09:01.977Z"
      },
      {
        "duration": 220,
        "start_time": "2022-07-18T00:09:03.257Z"
      },
      {
        "duration": 834,
        "start_time": "2022-07-18T00:09:03.478Z"
      },
      {
        "duration": 10,
        "start_time": "2022-07-18T00:09:04.314Z"
      },
      {
        "duration": 48,
        "start_time": "2022-07-18T00:09:04.327Z"
      },
      {
        "duration": 16,
        "start_time": "2022-07-18T00:09:04.377Z"
      },
      {
        "duration": 241,
        "start_time": "2022-07-18T00:09:04.394Z"
      },
      {
        "duration": 6,
        "start_time": "2022-07-18T00:09:04.636Z"
      },
      {
        "duration": 345,
        "start_time": "2022-07-18T00:09:04.644Z"
      },
      {
        "duration": 299,
        "start_time": "2022-07-18T00:09:04.990Z"
      },
      {
        "duration": 3,
        "start_time": "2022-07-18T00:09:05.291Z"
      },
      {
        "duration": 15,
        "start_time": "2022-07-18T00:09:05.295Z"
      },
      {
        "duration": 148856,
        "start_time": "2022-07-18T00:09:05.311Z"
      },
      {
        "duration": 3974,
        "start_time": "2022-07-18T00:11:34.170Z"
      },
      {
        "duration": 18,
        "start_time": "2022-07-18T00:11:38.146Z"
      },
      {
        "duration": 1225,
        "start_time": "2022-07-18T00:14:49.019Z"
      },
      {
        "duration": 174,
        "start_time": "2022-07-18T00:14:50.246Z"
      },
      {
        "duration": 819,
        "start_time": "2022-07-18T00:14:50.422Z"
      },
      {
        "duration": 10,
        "start_time": "2022-07-18T00:14:51.242Z"
      },
      {
        "duration": 36,
        "start_time": "2022-07-18T00:14:51.263Z"
      },
      {
        "duration": 16,
        "start_time": "2022-07-18T00:14:51.301Z"
      },
      {
        "duration": 263,
        "start_time": "2022-07-18T00:14:51.318Z"
      },
      {
        "duration": 7,
        "start_time": "2022-07-18T00:14:51.583Z"
      },
      {
        "duration": 327,
        "start_time": "2022-07-18T00:14:51.592Z"
      },
      {
        "duration": 314,
        "start_time": "2022-07-18T00:14:51.921Z"
      },
      {
        "duration": 1810,
        "start_time": "2022-07-18T00:14:52.237Z"
      },
      {
        "duration": 3,
        "start_time": "2022-07-18T00:14:54.049Z"
      },
      {
        "duration": 152246,
        "start_time": "2022-07-18T00:14:54.053Z"
      },
      {
        "duration": 4308,
        "start_time": "2022-07-18T00:17:26.302Z"
      },
      {
        "duration": 17,
        "start_time": "2022-07-18T00:17:30.612Z"
      },
      {
        "duration": 1266,
        "start_time": "2022-07-18T00:19:34.490Z"
      },
      {
        "duration": 169,
        "start_time": "2022-07-18T00:19:35.758Z"
      },
      {
        "duration": 837,
        "start_time": "2022-07-18T00:19:35.929Z"
      },
      {
        "duration": 10,
        "start_time": "2022-07-18T00:19:36.768Z"
      },
      {
        "duration": 38,
        "start_time": "2022-07-18T00:19:36.780Z"
      },
      {
        "duration": 17,
        "start_time": "2022-07-18T00:19:36.819Z"
      },
      {
        "duration": 252,
        "start_time": "2022-07-18T00:19:36.837Z"
      },
      {
        "duration": 6,
        "start_time": "2022-07-18T00:19:37.091Z"
      },
      {
        "duration": 318,
        "start_time": "2022-07-18T00:19:37.098Z"
      },
      {
        "duration": 300,
        "start_time": "2022-07-18T00:19:37.418Z"
      },
      {
        "duration": 1764,
        "start_time": "2022-07-18T00:19:37.719Z"
      },
      {
        "duration": 3,
        "start_time": "2022-07-18T00:19:39.485Z"
      },
      {
        "duration": 31914,
        "start_time": "2022-07-18T00:19:39.489Z"
      },
      {
        "duration": 2003,
        "start_time": "2022-07-18T00:20:11.405Z"
      },
      {
        "duration": 16,
        "start_time": "2022-07-18T00:20:13.410Z"
      },
      {
        "duration": 1294,
        "start_time": "2022-07-18T00:36:25.877Z"
      },
      {
        "duration": 214,
        "start_time": "2022-07-18T00:36:27.173Z"
      },
      {
        "duration": 844,
        "start_time": "2022-07-18T00:36:27.389Z"
      },
      {
        "duration": 10,
        "start_time": "2022-07-18T00:36:28.235Z"
      },
      {
        "duration": 48,
        "start_time": "2022-07-18T00:36:28.246Z"
      },
      {
        "duration": 16,
        "start_time": "2022-07-18T00:36:28.296Z"
      },
      {
        "duration": 248,
        "start_time": "2022-07-18T00:36:28.314Z"
      },
      {
        "duration": 7,
        "start_time": "2022-07-18T00:36:28.564Z"
      },
      {
        "duration": 331,
        "start_time": "2022-07-18T00:36:28.573Z"
      },
      {
        "duration": 321,
        "start_time": "2022-07-18T00:36:28.907Z"
      },
      {
        "duration": 1908,
        "start_time": "2022-07-18T00:36:29.230Z"
      },
      {
        "duration": 3,
        "start_time": "2022-07-18T00:36:31.140Z"
      },
      {
        "duration": 30985,
        "start_time": "2022-07-18T00:36:31.145Z"
      },
      {
        "duration": 2010,
        "start_time": "2022-07-18T00:37:02.132Z"
      },
      {
        "duration": 21,
        "start_time": "2022-07-18T00:37:04.144Z"
      },
      {
        "duration": 51,
        "start_time": "2022-07-18T00:41:56.126Z"
      },
      {
        "duration": 952,
        "start_time": "2022-07-18T00:44:28.236Z"
      },
      {
        "duration": 1250,
        "start_time": "2022-07-18T00:44:38.813Z"
      },
      {
        "duration": 218,
        "start_time": "2022-07-18T00:44:40.065Z"
      },
      {
        "duration": 869,
        "start_time": "2022-07-18T00:44:40.284Z"
      },
      {
        "duration": 14,
        "start_time": "2022-07-18T00:44:41.155Z"
      },
      {
        "duration": 32,
        "start_time": "2022-07-18T00:44:41.170Z"
      },
      {
        "duration": 16,
        "start_time": "2022-07-18T00:44:41.204Z"
      },
      {
        "duration": 253,
        "start_time": "2022-07-18T00:44:41.222Z"
      },
      {
        "duration": 6,
        "start_time": "2022-07-18T00:44:41.477Z"
      },
      {
        "duration": 310,
        "start_time": "2022-07-18T00:44:41.484Z"
      },
      {
        "duration": 327,
        "start_time": "2022-07-18T00:44:41.797Z"
      },
      {
        "duration": 1805,
        "start_time": "2022-07-18T00:44:42.126Z"
      },
      {
        "duration": 3,
        "start_time": "2022-07-18T00:44:43.933Z"
      },
      {
        "duration": 30725,
        "start_time": "2022-07-18T00:44:43.937Z"
      },
      {
        "duration": 1942,
        "start_time": "2022-07-18T00:45:14.664Z"
      },
      {
        "duration": 13,
        "start_time": "2022-07-18T00:45:16.608Z"
      },
      {
        "duration": 14,
        "start_time": "2022-07-18T00:45:16.623Z"
      },
      {
        "duration": 123,
        "start_time": "2022-07-18T00:45:16.639Z"
      },
      {
        "duration": 0,
        "start_time": "2022-07-18T00:45:16.764Z"
      },
      {
        "duration": 0,
        "start_time": "2022-07-18T00:45:16.765Z"
      },
      {
        "duration": 40,
        "start_time": "2022-07-18T00:46:08.334Z"
      },
      {
        "duration": 32,
        "start_time": "2022-07-18T00:46:19.138Z"
      },
      {
        "duration": 14,
        "start_time": "2022-07-18T00:46:19.871Z"
      },
      {
        "duration": 4,
        "start_time": "2022-07-18T00:47:26.676Z"
      },
      {
        "duration": 49,
        "start_time": "2022-07-18T00:48:02.911Z"
      },
      {
        "duration": 44,
        "start_time": "2022-07-18T00:48:08.835Z"
      },
      {
        "duration": 16,
        "start_time": "2022-07-18T00:50:15.853Z"
      },
      {
        "duration": 933,
        "start_time": "2022-07-18T00:51:16.832Z"
      },
      {
        "duration": 22,
        "start_time": "2022-07-18T00:51:17.767Z"
      },
      {
        "duration": 21,
        "start_time": "2022-07-18T00:51:37.245Z"
      },
      {
        "duration": 15,
        "start_time": "2022-07-18T00:51:37.846Z"
      },
      {
        "duration": 10,
        "start_time": "2022-07-18T00:52:18.453Z"
      },
      {
        "duration": 1351,
        "start_time": "2022-07-18T00:52:57.530Z"
      },
      {
        "duration": 218,
        "start_time": "2022-07-18T00:52:58.883Z"
      },
      {
        "duration": 2324,
        "start_time": "2022-07-18T00:52:59.102Z"
      },
      {
        "duration": 12,
        "start_time": "2022-07-18T00:53:01.428Z"
      },
      {
        "duration": 58,
        "start_time": "2022-07-18T00:53:01.441Z"
      },
      {
        "duration": 32,
        "start_time": "2022-07-18T00:53:01.501Z"
      },
      {
        "duration": 235,
        "start_time": "2022-07-18T00:53:01.536Z"
      },
      {
        "duration": 6,
        "start_time": "2022-07-18T00:53:01.773Z"
      },
      {
        "duration": 325,
        "start_time": "2022-07-18T00:53:01.780Z"
      },
      {
        "duration": 314,
        "start_time": "2022-07-18T00:53:02.108Z"
      },
      {
        "duration": 1756,
        "start_time": "2022-07-18T00:53:02.423Z"
      },
      {
        "duration": 3,
        "start_time": "2022-07-18T00:53:04.181Z"
      },
      {
        "duration": 31108,
        "start_time": "2022-07-18T00:53:04.186Z"
      },
      {
        "duration": 2014,
        "start_time": "2022-07-18T00:53:35.296Z"
      },
      {
        "duration": 14,
        "start_time": "2022-07-18T00:53:37.312Z"
      },
      {
        "duration": 9,
        "start_time": "2022-07-18T00:53:37.328Z"
      },
      {
        "duration": 49,
        "start_time": "2022-07-18T00:53:37.338Z"
      },
      {
        "duration": 877,
        "start_time": "2022-07-18T00:53:37.389Z"
      },
      {
        "duration": 0,
        "start_time": "2022-07-18T00:53:38.268Z"
      },
      {
        "duration": 959,
        "start_time": "2022-07-18T00:54:19.635Z"
      },
      {
        "duration": 16,
        "start_time": "2022-07-18T00:54:20.596Z"
      },
      {
        "duration": 1338,
        "start_time": "2022-07-18T00:58:01.322Z"
      },
      {
        "duration": 143,
        "start_time": "2022-07-18T00:58:02.662Z"
      },
      {
        "duration": 832,
        "start_time": "2022-07-18T00:58:02.807Z"
      },
      {
        "duration": 10,
        "start_time": "2022-07-18T00:58:03.641Z"
      },
      {
        "duration": 44,
        "start_time": "2022-07-18T00:58:03.653Z"
      },
      {
        "duration": 15,
        "start_time": "2022-07-18T00:58:03.698Z"
      },
      {
        "duration": 250,
        "start_time": "2022-07-18T00:58:03.714Z"
      },
      {
        "duration": 6,
        "start_time": "2022-07-18T00:58:03.966Z"
      },
      {
        "duration": 320,
        "start_time": "2022-07-18T00:58:03.973Z"
      },
      {
        "duration": 324,
        "start_time": "2022-07-18T00:58:04.295Z"
      },
      {
        "duration": 1748,
        "start_time": "2022-07-18T00:58:04.620Z"
      },
      {
        "duration": 3,
        "start_time": "2022-07-18T00:58:06.370Z"
      },
      {
        "duration": 30885,
        "start_time": "2022-07-18T00:58:06.374Z"
      },
      {
        "duration": 1948,
        "start_time": "2022-07-18T00:58:37.261Z"
      },
      {
        "duration": 14,
        "start_time": "2022-07-18T00:58:39.211Z"
      },
      {
        "duration": 6,
        "start_time": "2022-07-18T00:58:39.227Z"
      },
      {
        "duration": 51,
        "start_time": "2022-07-18T00:58:39.234Z"
      },
      {
        "duration": 838,
        "start_time": "2022-07-18T00:58:39.287Z"
      },
      {
        "duration": 0,
        "start_time": "2022-07-18T00:58:40.126Z"
      },
      {
        "duration": 951,
        "start_time": "2022-07-18T00:59:31.080Z"
      },
      {
        "duration": 16,
        "start_time": "2022-07-18T00:59:32.665Z"
      },
      {
        "duration": 15,
        "start_time": "2022-07-18T01:03:20.495Z"
      },
      {
        "duration": 3,
        "start_time": "2022-07-18T01:07:15.212Z"
      },
      {
        "duration": 14,
        "start_time": "2022-07-18T01:07:56.323Z"
      },
      {
        "duration": 3,
        "start_time": "2022-07-18T01:09:20.670Z"
      },
      {
        "duration": 6011,
        "start_time": "2022-07-18T01:09:20.957Z"
      },
      {
        "duration": 53,
        "start_time": "2022-07-18T01:10:14.279Z"
      },
      {
        "duration": 73,
        "start_time": "2022-07-18T01:11:47.686Z"
      },
      {
        "duration": 4,
        "start_time": "2022-07-18T01:12:31.215Z"
      },
      {
        "duration": 262419,
        "start_time": "2022-07-18T01:12:36.846Z"
      },
      {
        "duration": 647,
        "start_time": "2022-07-18T01:22:39.578Z"
      },
      {
        "duration": 1210,
        "start_time": "2022-07-18T01:27:03.983Z"
      },
      {
        "duration": 167,
        "start_time": "2022-07-18T01:27:05.195Z"
      },
      {
        "duration": 816,
        "start_time": "2022-07-18T01:27:05.371Z"
      },
      {
        "duration": 11,
        "start_time": "2022-07-18T01:27:06.189Z"
      },
      {
        "duration": 33,
        "start_time": "2022-07-18T01:27:06.201Z"
      },
      {
        "duration": 37,
        "start_time": "2022-07-18T01:27:06.236Z"
      },
      {
        "duration": 231,
        "start_time": "2022-07-18T01:27:06.275Z"
      },
      {
        "duration": 6,
        "start_time": "2022-07-18T01:27:06.508Z"
      },
      {
        "duration": 303,
        "start_time": "2022-07-18T01:27:06.516Z"
      },
      {
        "duration": 309,
        "start_time": "2022-07-18T01:27:06.822Z"
      },
      {
        "duration": 1723,
        "start_time": "2022-07-18T01:27:07.132Z"
      },
      {
        "duration": 8,
        "start_time": "2022-07-18T01:27:08.856Z"
      },
      {
        "duration": 30657,
        "start_time": "2022-07-18T01:27:08.866Z"
      },
      {
        "duration": 1933,
        "start_time": "2022-07-18T01:27:39.525Z"
      },
      {
        "duration": 14,
        "start_time": "2022-07-18T01:27:41.460Z"
      },
      {
        "duration": 5,
        "start_time": "2022-07-18T01:27:41.476Z"
      },
      {
        "duration": 33,
        "start_time": "2022-07-18T01:27:41.483Z"
      },
      {
        "duration": 983,
        "start_time": "2022-07-18T01:27:41.518Z"
      },
      {
        "duration": 11,
        "start_time": "2022-07-18T01:27:42.503Z"
      },
      {
        "duration": 6147,
        "start_time": "2022-07-18T01:27:42.516Z"
      },
      {
        "duration": 259500,
        "start_time": "2022-07-18T01:27:48.666Z"
      },
      {
        "duration": 299,
        "start_time": "2022-07-18T01:32:08.168Z"
      },
      {
        "duration": 0,
        "start_time": "2022-07-18T01:32:08.469Z"
      },
      {
        "duration": 179,
        "start_time": "2022-07-18T01:32:46.212Z"
      },
      {
        "duration": 236814,
        "start_time": "2022-07-18T01:34:30.836Z"
      },
      {
        "duration": 94850,
        "start_time": "2022-07-18T01:38:27.652Z"
      },
      {
        "duration": 54378,
        "start_time": "2022-07-18T06:12:57.586Z"
      },
      {
        "duration": 7,
        "start_time": "2022-07-18T06:15:47.163Z"
      },
      {
        "duration": 91,
        "start_time": "2022-07-18T06:16:30.450Z"
      },
      {
        "duration": 1696,
        "start_time": "2022-07-18T06:17:55.113Z"
      },
      {
        "duration": 2139,
        "start_time": "2022-07-18T06:18:27.108Z"
      },
      {
        "duration": 31,
        "start_time": "2022-07-18T06:19:15.038Z"
      },
      {
        "duration": 55,
        "start_time": "2022-07-18T06:21:45.485Z"
      },
      {
        "duration": 1408,
        "start_time": "2022-07-18T06:26:55.291Z"
      },
      {
        "duration": 232,
        "start_time": "2022-07-18T06:26:56.701Z"
      },
      {
        "duration": 1284,
        "start_time": "2022-07-18T06:26:56.934Z"
      },
      {
        "duration": 9,
        "start_time": "2022-07-18T06:26:58.220Z"
      },
      {
        "duration": 34,
        "start_time": "2022-07-18T06:26:58.231Z"
      },
      {
        "duration": 15,
        "start_time": "2022-07-18T06:26:58.267Z"
      },
      {
        "duration": 233,
        "start_time": "2022-07-18T06:26:58.284Z"
      },
      {
        "duration": 5,
        "start_time": "2022-07-18T06:26:58.519Z"
      },
      {
        "duration": 370,
        "start_time": "2022-07-18T06:26:58.526Z"
      },
      {
        "duration": 308,
        "start_time": "2022-07-18T06:26:58.899Z"
      },
      {
        "duration": 1718,
        "start_time": "2022-07-18T06:26:59.209Z"
      },
      {
        "duration": 4,
        "start_time": "2022-07-18T06:27:00.929Z"
      },
      {
        "duration": 31257,
        "start_time": "2022-07-18T06:27:00.935Z"
      },
      {
        "duration": 1980,
        "start_time": "2022-07-18T06:27:32.194Z"
      },
      {
        "duration": 14,
        "start_time": "2022-07-18T06:27:34.176Z"
      },
      {
        "duration": 5,
        "start_time": "2022-07-18T06:27:34.191Z"
      },
      {
        "duration": 34,
        "start_time": "2022-07-18T06:27:34.198Z"
      },
      {
        "duration": 957,
        "start_time": "2022-07-18T06:27:34.233Z"
      },
      {
        "duration": 8,
        "start_time": "2022-07-18T06:27:35.192Z"
      },
      {
        "duration": 6617,
        "start_time": "2022-07-18T06:27:35.201Z"
      },
      {
        "duration": 220654,
        "start_time": "2022-07-18T06:27:41.819Z"
      },
      {
        "duration": 251738,
        "start_time": "2022-07-18T06:31:22.568Z"
      },
      {
        "duration": 100612,
        "start_time": "2022-07-18T06:35:34.308Z"
      },
      {
        "duration": 2224,
        "start_time": "2022-07-18T06:37:14.923Z"
      },
      {
        "duration": 261475,
        "start_time": "2022-07-18T06:37:31.281Z"
      },
      {
        "duration": 101768,
        "start_time": "2022-07-18T06:41:52.763Z"
      },
      {
        "duration": 6,
        "start_time": "2022-07-18T06:49:13.710Z"
      },
      {
        "duration": 8,
        "start_time": "2022-07-18T06:49:59.564Z"
      },
      {
        "duration": 179,
        "start_time": "2022-07-18T06:50:47.393Z"
      },
      {
        "duration": 84,
        "start_time": "2022-07-18T06:51:24.762Z"
      },
      {
        "duration": 5,
        "start_time": "2022-07-18T06:52:12.234Z"
      },
      {
        "duration": 1394,
        "start_time": "2022-07-18T07:02:10.196Z"
      },
      {
        "duration": 224,
        "start_time": "2022-07-18T07:02:11.593Z"
      },
      {
        "duration": 901,
        "start_time": "2022-07-18T07:02:11.819Z"
      },
      {
        "duration": 11,
        "start_time": "2022-07-18T07:02:12.723Z"
      },
      {
        "duration": 57,
        "start_time": "2022-07-18T07:02:12.736Z"
      },
      {
        "duration": 18,
        "start_time": "2022-07-18T07:02:12.796Z"
      },
      {
        "duration": 265,
        "start_time": "2022-07-18T07:02:12.816Z"
      },
      {
        "duration": 5,
        "start_time": "2022-07-18T07:02:13.083Z"
      },
      {
        "duration": 397,
        "start_time": "2022-07-18T07:02:13.090Z"
      },
      {
        "duration": 331,
        "start_time": "2022-07-18T07:02:13.489Z"
      },
      {
        "duration": 1727,
        "start_time": "2022-07-18T07:02:13.822Z"
      },
      {
        "duration": 3,
        "start_time": "2022-07-18T07:02:15.550Z"
      },
      {
        "duration": 34989,
        "start_time": "2022-07-18T07:02:15.563Z"
      },
      {
        "duration": 2320,
        "start_time": "2022-07-18T07:02:50.554Z"
      },
      {
        "duration": 27,
        "start_time": "2022-07-18T07:02:52.878Z"
      },
      {
        "duration": 4,
        "start_time": "2022-07-18T07:02:52.908Z"
      },
      {
        "duration": 59,
        "start_time": "2022-07-18T07:02:52.915Z"
      },
      {
        "duration": 1132,
        "start_time": "2022-07-18T07:02:52.976Z"
      },
      {
        "duration": 5,
        "start_time": "2022-07-18T07:02:54.110Z"
      },
      {
        "duration": 7084,
        "start_time": "2022-07-18T07:02:54.117Z"
      },
      {
        "duration": 227575,
        "start_time": "2022-07-18T07:03:01.204Z"
      },
      {
        "duration": 81,
        "start_time": "2022-07-18T07:06:48.786Z"
      },
      {
        "duration": 672581,
        "start_time": "2022-07-18T07:06:48.869Z"
      },
      {
        "duration": 208,
        "start_time": "2022-07-18T07:18:01.452Z"
      },
      {
        "duration": 16,
        "start_time": "2022-07-18T07:18:01.662Z"
      },
      {
        "duration": 11370,
        "start_time": "2022-07-18T07:18:01.687Z"
      },
      {
        "duration": 2123,
        "start_time": "2022-07-18T07:18:13.059Z"
      },
      {
        "duration": 264,
        "start_time": "2022-07-18T07:18:15.193Z"
      },
      {
        "duration": 215366,
        "start_time": "2022-07-18T07:18:22.867Z"
      },
      {
        "duration": 1434,
        "start_time": "2022-07-18T07:31:56.265Z"
      },
      {
        "duration": 214,
        "start_time": "2022-07-18T07:31:57.701Z"
      },
      {
        "duration": 824,
        "start_time": "2022-07-18T07:31:57.917Z"
      },
      {
        "duration": 8,
        "start_time": "2022-07-18T07:31:58.743Z"
      },
      {
        "duration": 40,
        "start_time": "2022-07-18T07:31:58.753Z"
      },
      {
        "duration": 16,
        "start_time": "2022-07-18T07:31:58.794Z"
      },
      {
        "duration": 265,
        "start_time": "2022-07-18T07:31:58.812Z"
      },
      {
        "duration": 6,
        "start_time": "2022-07-18T07:31:59.079Z"
      },
      {
        "duration": 373,
        "start_time": "2022-07-18T07:31:59.086Z"
      },
      {
        "duration": 335,
        "start_time": "2022-07-18T07:31:59.460Z"
      },
      {
        "duration": 1778,
        "start_time": "2022-07-18T07:31:59.797Z"
      },
      {
        "duration": 5,
        "start_time": "2022-07-18T07:32:01.577Z"
      },
      {
        "duration": 33493,
        "start_time": "2022-07-18T07:32:01.584Z"
      },
      {
        "duration": 1993,
        "start_time": "2022-07-18T07:32:35.081Z"
      },
      {
        "duration": 14,
        "start_time": "2022-07-18T07:32:37.077Z"
      },
      {
        "duration": 6,
        "start_time": "2022-07-18T07:32:37.093Z"
      },
      {
        "duration": 38,
        "start_time": "2022-07-18T07:32:37.101Z"
      },
      {
        "duration": 1012,
        "start_time": "2022-07-18T07:32:37.140Z"
      },
      {
        "duration": 11,
        "start_time": "2022-07-18T07:32:38.154Z"
      },
      {
        "duration": 6728,
        "start_time": "2022-07-18T07:32:38.167Z"
      },
      {
        "duration": 215572,
        "start_time": "2022-07-18T07:32:44.896Z"
      },
      {
        "duration": 773,
        "start_time": "2022-07-18T07:36:20.470Z"
      },
      {
        "duration": 0,
        "start_time": "2022-07-18T07:36:21.245Z"
      },
      {
        "duration": 0,
        "start_time": "2022-07-18T07:36:21.246Z"
      },
      {
        "duration": 0,
        "start_time": "2022-07-18T07:36:21.248Z"
      },
      {
        "duration": 255865,
        "start_time": "2022-07-18T07:40:45.492Z"
      },
      {
        "duration": 111147,
        "start_time": "2022-07-18T07:45:01.363Z"
      },
      {
        "duration": 2133,
        "start_time": "2022-07-18T07:46:52.513Z"
      },
      {
        "duration": 1277,
        "start_time": "2022-08-18T14:57:26.636Z"
      },
      {
        "duration": 40749,
        "start_time": "2022-08-18T14:57:27.914Z"
      },
      {
        "duration": 470,
        "start_time": "2022-08-18T14:58:08.666Z"
      },
      {
        "duration": 2325,
        "start_time": "2022-08-18T14:58:09.137Z"
      },
      {
        "duration": 13,
        "start_time": "2022-08-18T14:58:11.465Z"
      },
      {
        "duration": 34,
        "start_time": "2022-08-18T14:58:11.480Z"
      },
      {
        "duration": 15,
        "start_time": "2022-08-18T14:58:11.515Z"
      },
      {
        "duration": 244,
        "start_time": "2022-08-18T14:58:11.532Z"
      },
      {
        "duration": 7,
        "start_time": "2022-08-18T14:58:11.778Z"
      },
      {
        "duration": 1293,
        "start_time": "2022-08-18T14:58:28.439Z"
      },
      {
        "duration": 2071,
        "start_time": "2022-08-18T14:58:45.516Z"
      },
      {
        "duration": 43955,
        "start_time": "2022-08-18T14:58:56.292Z"
      },
      {
        "duration": 3,
        "start_time": "2022-08-18T15:02:04.796Z"
      },
      {
        "duration": 178,
        "start_time": "2022-08-18T15:02:17.951Z"
      },
      {
        "duration": 756,
        "start_time": "2022-08-18T15:02:18.301Z"
      },
      {
        "duration": 12,
        "start_time": "2022-08-18T15:02:19.928Z"
      },
      {
        "duration": 24,
        "start_time": "2022-08-18T15:02:22.144Z"
      },
      {
        "duration": 17,
        "start_time": "2022-08-18T15:02:22.391Z"
      },
      {
        "duration": 222,
        "start_time": "2022-08-18T15:02:22.959Z"
      },
      {
        "duration": 6,
        "start_time": "2022-08-18T15:02:25.528Z"
      },
      {
        "duration": 347,
        "start_time": "2022-08-18T15:02:26.736Z"
      },
      {
        "duration": 240,
        "start_time": "2022-08-18T15:02:29.397Z"
      },
      {
        "duration": 1415,
        "start_time": "2022-08-18T15:03:00.668Z"
      },
      {
        "duration": 4,
        "start_time": "2022-08-18T15:07:45.347Z"
      },
      {
        "duration": 1461,
        "start_time": "2022-08-18T15:07:48.815Z"
      },
      {
        "duration": 3,
        "start_time": "2022-08-18T15:08:07.597Z"
      },
      {
        "duration": 3,
        "start_time": "2022-08-18T15:08:08.082Z"
      },
      {
        "duration": 1327,
        "start_time": "2022-08-18T15:08:31.479Z"
      },
      {
        "duration": 2078,
        "start_time": "2022-08-18T15:08:32.953Z"
      },
      {
        "duration": 50718,
        "start_time": "2022-08-18T15:08:36.899Z"
      },
      {
        "duration": 118584,
        "start_time": "2022-08-18T15:09:27.619Z"
      },
      {
        "duration": 197,
        "start_time": "2022-08-18T15:11:26.204Z"
      },
      {
        "duration": 760,
        "start_time": "2022-08-18T15:11:26.402Z"
      },
      {
        "duration": 10,
        "start_time": "2022-08-18T15:11:27.164Z"
      },
      {
        "duration": 39,
        "start_time": "2022-08-18T15:11:27.176Z"
      },
      {
        "duration": 16,
        "start_time": "2022-08-18T15:11:27.216Z"
      },
      {
        "duration": 247,
        "start_time": "2022-08-18T15:11:27.234Z"
      },
      {
        "duration": 7,
        "start_time": "2022-08-18T15:11:27.483Z"
      },
      {
        "duration": 360,
        "start_time": "2022-08-18T15:11:27.493Z"
      },
      {
        "duration": 247,
        "start_time": "2022-08-18T15:11:27.855Z"
      },
      {
        "duration": 1410,
        "start_time": "2022-08-18T15:11:28.103Z"
      },
      {
        "duration": 3,
        "start_time": "2022-08-18T15:11:29.515Z"
      },
      {
        "duration": 1930,
        "start_time": "2022-08-18T15:11:29.520Z"
      },
      {
        "duration": 453,
        "start_time": "2022-08-18T15:19:50.425Z"
      },
      {
        "duration": 734,
        "start_time": "2022-08-18T15:21:00.624Z"
      },
      {
        "duration": 1799,
        "start_time": "2022-08-18T17:06:02.240Z"
      },
      {
        "duration": 1245,
        "start_time": "2022-08-18T17:06:15.169Z"
      },
      {
        "duration": 217,
        "start_time": "2022-08-18T17:06:17.915Z"
      },
      {
        "duration": 807,
        "start_time": "2022-08-18T17:06:18.278Z"
      },
      {
        "duration": 9,
        "start_time": "2022-08-18T17:06:22.395Z"
      },
      {
        "duration": 25,
        "start_time": "2022-08-18T17:06:24.308Z"
      },
      {
        "duration": 15,
        "start_time": "2022-08-18T17:06:24.586Z"
      },
      {
        "duration": 220,
        "start_time": "2022-08-18T17:06:25.052Z"
      },
      {
        "duration": 6,
        "start_time": "2022-08-18T17:06:27.109Z"
      },
      {
        "duration": 316,
        "start_time": "2022-08-18T17:06:27.378Z"
      },
      {
        "duration": 219,
        "start_time": "2022-08-18T17:06:30.345Z"
      },
      {
        "duration": 1390,
        "start_time": "2022-08-18T17:06:34.333Z"
      },
      {
        "duration": 4,
        "start_time": "2022-08-18T17:06:38.628Z"
      },
      {
        "duration": 3,
        "start_time": "2022-08-18T17:06:39.026Z"
      },
      {
        "duration": 697,
        "start_time": "2022-08-18T17:06:43.007Z"
      },
      {
        "duration": 3,
        "start_time": "2022-08-18T17:07:33.915Z"
      },
      {
        "duration": 431,
        "start_time": "2022-08-18T17:07:35.374Z"
      },
      {
        "duration": 39,
        "start_time": "2022-08-18T17:12:08.717Z"
      },
      {
        "duration": 1256,
        "start_time": "2022-08-18T17:13:36.572Z"
      },
      {
        "duration": 1017,
        "start_time": "2022-08-18T17:13:37.830Z"
      },
      {
        "duration": 3,
        "start_time": "2022-08-18T17:13:38.848Z"
      },
      {
        "duration": 820,
        "start_time": "2022-08-18T17:13:38.853Z"
      },
      {
        "duration": 9,
        "start_time": "2022-08-18T17:13:39.675Z"
      },
      {
        "duration": 30,
        "start_time": "2022-08-18T17:13:39.685Z"
      },
      {
        "duration": 15,
        "start_time": "2022-08-18T17:13:39.717Z"
      },
      {
        "duration": 242,
        "start_time": "2022-08-18T17:13:39.733Z"
      },
      {
        "duration": 5,
        "start_time": "2022-08-18T17:13:39.976Z"
      },
      {
        "duration": 328,
        "start_time": "2022-08-18T17:13:39.983Z"
      },
      {
        "duration": 215,
        "start_time": "2022-08-18T17:13:40.312Z"
      },
      {
        "duration": 1443,
        "start_time": "2022-08-18T17:13:40.528Z"
      },
      {
        "duration": 3,
        "start_time": "2022-08-18T17:13:41.972Z"
      },
      {
        "duration": 6,
        "start_time": "2022-08-18T17:13:41.977Z"
      },
      {
        "duration": 160,
        "start_time": "2022-08-18T17:13:41.990Z"
      },
      {
        "duration": 0,
        "start_time": "2022-08-18T17:13:42.151Z"
      },
      {
        "duration": 0,
        "start_time": "2022-08-18T17:13:42.152Z"
      },
      {
        "duration": 0,
        "start_time": "2022-08-18T17:13:42.152Z"
      },
      {
        "duration": 0,
        "start_time": "2022-08-18T17:13:42.154Z"
      },
      {
        "duration": 0,
        "start_time": "2022-08-18T17:13:42.155Z"
      },
      {
        "duration": 0,
        "start_time": "2022-08-18T17:13:42.156Z"
      },
      {
        "duration": 0,
        "start_time": "2022-08-18T17:13:42.157Z"
      },
      {
        "duration": 0,
        "start_time": "2022-08-18T17:13:42.158Z"
      },
      {
        "duration": 0,
        "start_time": "2022-08-18T17:13:42.159Z"
      },
      {
        "duration": 0,
        "start_time": "2022-08-18T17:13:42.160Z"
      },
      {
        "duration": 0,
        "start_time": "2022-08-18T17:13:42.161Z"
      },
      {
        "duration": 0,
        "start_time": "2022-08-18T17:13:42.162Z"
      },
      {
        "duration": 0,
        "start_time": "2022-08-18T17:13:42.163Z"
      },
      {
        "duration": 326,
        "start_time": "2022-08-18T17:14:11.709Z"
      },
      {
        "duration": 2,
        "start_time": "2022-08-18T17:14:15.616Z"
      },
      {
        "duration": 955,
        "start_time": "2022-08-18T17:14:15.953Z"
      },
      {
        "duration": 8,
        "start_time": "2022-08-18T17:14:16.927Z"
      },
      {
        "duration": 25,
        "start_time": "2022-08-18T17:14:17.254Z"
      },
      {
        "duration": 14,
        "start_time": "2022-08-18T17:14:18.567Z"
      },
      {
        "duration": 214,
        "start_time": "2022-08-18T17:14:18.736Z"
      },
      {
        "duration": 6,
        "start_time": "2022-08-18T17:14:19.273Z"
      },
      {
        "duration": 121,
        "start_time": "2022-08-18T17:14:20.767Z"
      },
      {
        "duration": 214,
        "start_time": "2022-08-18T17:14:21.281Z"
      },
      {
        "duration": 1461,
        "start_time": "2022-08-18T17:14:26.663Z"
      },
      {
        "duration": 4,
        "start_time": "2022-08-18T17:14:28.125Z"
      },
      {
        "duration": 3,
        "start_time": "2022-08-18T17:14:29.366Z"
      },
      {
        "duration": 121,
        "start_time": "2022-08-18T17:14:29.720Z"
      },
      {
        "duration": 1270,
        "start_time": "2022-08-18T19:08:33.778Z"
      },
      {
        "duration": 211,
        "start_time": "2022-08-18T19:08:41.045Z"
      },
      {
        "duration": 27,
        "start_time": "2022-08-18T19:08:41.391Z"
      },
      {
        "duration": 6,
        "start_time": "2022-08-18T19:08:46.853Z"
      },
      {
        "duration": 2,
        "start_time": "2022-08-18T19:08:48.341Z"
      },
      {
        "duration": 837,
        "start_time": "2022-08-18T19:08:49.057Z"
      },
      {
        "duration": 8,
        "start_time": "2022-08-18T19:08:50.945Z"
      },
      {
        "duration": 26,
        "start_time": "2022-08-18T19:08:51.587Z"
      },
      {
        "duration": 14,
        "start_time": "2022-08-18T19:08:51.777Z"
      },
      {
        "duration": 228,
        "start_time": "2022-08-18T19:08:51.961Z"
      },
      {
        "duration": 5,
        "start_time": "2022-08-18T19:08:54.057Z"
      },
      {
        "duration": 302,
        "start_time": "2022-08-18T19:08:55.473Z"
      },
      {
        "duration": 234,
        "start_time": "2022-08-18T19:08:56.849Z"
      },
      {
        "duration": 1473,
        "start_time": "2022-08-18T19:08:59.545Z"
      },
      {
        "duration": 3,
        "start_time": "2022-08-18T19:09:16.859Z"
      },
      {
        "duration": 3,
        "start_time": "2022-08-18T19:09:17.866Z"
      },
      {
        "duration": 246,
        "start_time": "2022-08-18T19:09:18.453Z"
      },
      {
        "duration": 1199,
        "start_time": "2022-08-18T19:10:25.353Z"
      },
      {
        "duration": 209,
        "start_time": "2022-08-18T19:10:36.138Z"
      },
      {
        "duration": 5,
        "start_time": "2022-08-18T19:10:36.529Z"
      },
      {
        "duration": 2095,
        "start_time": "2022-08-18T19:10:38.945Z"
      },
      {
        "duration": 36997,
        "start_time": "2022-08-18T19:10:43.941Z"
      },
      {
        "duration": 58216,
        "start_time": "2022-08-18T19:16:19.933Z"
      },
      {
        "duration": 772,
        "start_time": "2022-08-18T19:17:18.151Z"
      },
      {
        "duration": 11,
        "start_time": "2022-08-18T19:17:18.925Z"
      },
      {
        "duration": 22,
        "start_time": "2022-08-18T19:17:18.938Z"
      },
      {
        "duration": 18,
        "start_time": "2022-08-18T19:17:18.961Z"
      },
      {
        "duration": 240,
        "start_time": "2022-08-18T19:17:18.981Z"
      },
      {
        "duration": 6,
        "start_time": "2022-08-18T19:17:19.223Z"
      },
      {
        "duration": 307,
        "start_time": "2022-08-18T19:17:19.231Z"
      },
      {
        "duration": 233,
        "start_time": "2022-08-18T19:17:19.540Z"
      },
      {
        "duration": 1399,
        "start_time": "2022-08-18T19:17:19.775Z"
      },
      {
        "duration": 3,
        "start_time": "2022-08-18T19:19:10.941Z"
      },
      {
        "duration": 1239,
        "start_time": "2022-08-18T19:19:16.649Z"
      },
      {
        "duration": 3,
        "start_time": "2022-08-18T19:19:46.361Z"
      },
      {
        "duration": 436,
        "start_time": "2022-08-18T19:19:46.756Z"
      },
      {
        "duration": 761,
        "start_time": "2022-08-18T19:20:15.896Z"
      },
      {
        "duration": 735,
        "start_time": "2022-08-18T19:21:45.899Z"
      },
      {
        "duration": 4,
        "start_time": "2022-08-18T19:31:01.941Z"
      },
      {
        "duration": 855,
        "start_time": "2022-08-18T19:31:08.179Z"
      },
      {
        "duration": 52,
        "start_time": "2022-08-18T19:32:01.595Z"
      },
      {
        "duration": 440,
        "start_time": "2022-08-18T19:32:10.477Z"
      },
      {
        "duration": 448,
        "start_time": "2022-08-18T19:32:37.330Z"
      },
      {
        "duration": 448,
        "start_time": "2022-08-18T19:34:15.546Z"
      },
      {
        "duration": 471,
        "start_time": "2022-08-18T19:35:14.256Z"
      },
      {
        "duration": 1390,
        "start_time": "2022-08-18T19:35:37.498Z"
      },
      {
        "duration": 204,
        "start_time": "2022-08-18T19:35:40.577Z"
      },
      {
        "duration": 28,
        "start_time": "2022-08-18T19:35:40.783Z"
      },
      {
        "duration": 6,
        "start_time": "2022-08-18T19:35:40.923Z"
      },
      {
        "duration": 2118,
        "start_time": "2022-08-18T19:35:41.123Z"
      },
      {
        "duration": 32003,
        "start_time": "2022-08-18T19:35:43.244Z"
      },
      {
        "duration": 47406,
        "start_time": "2022-08-18T19:36:15.249Z"
      },
      {
        "duration": 3,
        "start_time": "2022-08-18T19:37:02.657Z"
      },
      {
        "duration": 851,
        "start_time": "2022-08-18T19:37:02.662Z"
      },
      {
        "duration": 10,
        "start_time": "2022-08-18T19:37:03.515Z"
      },
      {
        "duration": 28,
        "start_time": "2022-08-18T19:37:03.526Z"
      },
      {
        "duration": 18,
        "start_time": "2022-08-18T19:37:03.556Z"
      },
      {
        "duration": 245,
        "start_time": "2022-08-18T19:37:03.575Z"
      },
      {
        "duration": 6,
        "start_time": "2022-08-18T19:37:03.821Z"
      },
      {
        "duration": 307,
        "start_time": "2022-08-18T19:37:03.829Z"
      },
      {
        "duration": 249,
        "start_time": "2022-08-18T19:37:04.138Z"
      },
      {
        "duration": 3,
        "start_time": "2022-08-18T19:37:04.388Z"
      },
      {
        "duration": 5,
        "start_time": "2022-08-18T19:37:52.521Z"
      },
      {
        "duration": 1381,
        "start_time": "2022-08-18T19:37:59.989Z"
      },
      {
        "duration": 508,
        "start_time": "2022-08-18T19:38:14.240Z"
      },
      {
        "duration": 933,
        "start_time": "2022-08-18T19:38:27.034Z"
      },
      {
        "duration": 2896933,
        "start_time": "2022-08-18T19:38:40.490Z"
      },
      {
        "duration": 3,
        "start_time": "2022-08-18T20:27:07.357Z"
      },
      {
        "duration": 1203189,
        "start_time": "2022-08-18T20:27:39.950Z"
      },
      {
        "duration": 2,
        "start_time": "2022-08-18T20:48:43.096Z"
      },
      {
        "duration": 3,
        "start_time": "2022-08-18T20:48:43.498Z"
      },
      {
        "duration": 4028,
        "start_time": "2022-08-18T20:48:45.044Z"
      },
      {
        "duration": 4,
        "start_time": "2022-08-18T20:49:47.434Z"
      },
      {
        "duration": 2,
        "start_time": "2022-08-18T20:49:47.639Z"
      },
      {
        "duration": 1142,
        "start_time": "2022-08-18T20:56:21.262Z"
      },
      {
        "duration": 128,
        "start_time": "2022-08-18T20:56:32.126Z"
      },
      {
        "duration": 30,
        "start_time": "2022-08-18T20:56:32.504Z"
      },
      {
        "duration": 5,
        "start_time": "2022-08-18T20:56:34.580Z"
      },
      {
        "duration": 1987,
        "start_time": "2022-08-18T20:56:37.127Z"
      },
      {
        "duration": 44426,
        "start_time": "2022-08-18T20:56:39.116Z"
      },
      {
        "duration": 51470,
        "start_time": "2022-08-18T20:57:23.544Z"
      },
      {
        "duration": 774,
        "start_time": "2022-08-18T20:58:15.016Z"
      },
      {
        "duration": 10,
        "start_time": "2022-08-18T20:58:15.792Z"
      },
      {
        "duration": 24,
        "start_time": "2022-08-18T20:58:15.810Z"
      },
      {
        "duration": 15,
        "start_time": "2022-08-18T20:58:15.835Z"
      },
      {
        "duration": 250,
        "start_time": "2022-08-18T20:58:15.851Z"
      },
      {
        "duration": 6,
        "start_time": "2022-08-18T20:58:16.110Z"
      },
      {
        "duration": 295,
        "start_time": "2022-08-18T20:58:16.117Z"
      },
      {
        "duration": 116,
        "start_time": "2022-08-18T21:05:10.986Z"
      },
      {
        "duration": 227,
        "start_time": "2022-08-18T21:05:13.195Z"
      },
      {
        "duration": 57,
        "start_time": "2022-08-18T21:05:33.931Z"
      },
      {
        "duration": 6,
        "start_time": "2022-08-18T21:05:49.358Z"
      },
      {
        "duration": 36,
        "start_time": "2022-08-18T21:06:06.458Z"
      },
      {
        "duration": 6,
        "start_time": "2022-08-18T21:06:07.455Z"
      },
      {
        "duration": 1305,
        "start_time": "2022-08-18T21:07:04.473Z"
      },
      {
        "duration": 196,
        "start_time": "2022-08-18T21:07:05.780Z"
      },
      {
        "duration": 27,
        "start_time": "2022-08-18T21:07:06.759Z"
      },
      {
        "duration": 5,
        "start_time": "2022-08-18T21:07:07.121Z"
      },
      {
        "duration": 2199,
        "start_time": "2022-08-18T21:07:07.477Z"
      },
      {
        "duration": 1370,
        "start_time": "2022-08-18T21:07:42.339Z"
      },
      {
        "duration": 201,
        "start_time": "2022-08-18T21:07:43.985Z"
      },
      {
        "duration": 27,
        "start_time": "2022-08-18T21:07:44.187Z"
      },
      {
        "duration": 5,
        "start_time": "2022-08-18T21:07:44.318Z"
      },
      {
        "duration": 2026,
        "start_time": "2022-08-18T21:07:44.496Z"
      },
      {
        "duration": 36240,
        "start_time": "2022-08-18T21:07:46.525Z"
      },
      {
        "duration": 66295,
        "start_time": "2022-08-18T21:08:22.768Z"
      },
      {
        "duration": 804,
        "start_time": "2022-08-18T21:09:29.065Z"
      },
      {
        "duration": 11,
        "start_time": "2022-08-18T21:09:29.871Z"
      },
      {
        "duration": 46,
        "start_time": "2022-08-18T21:09:29.884Z"
      },
      {
        "duration": 16,
        "start_time": "2022-08-18T21:09:29.932Z"
      },
      {
        "duration": 254,
        "start_time": "2022-08-18T21:09:29.950Z"
      },
      {
        "duration": 5,
        "start_time": "2022-08-18T21:09:30.206Z"
      },
      {
        "duration": 288,
        "start_time": "2022-08-18T21:09:30.214Z"
      },
      {
        "duration": 248,
        "start_time": "2022-08-18T21:09:30.504Z"
      },
      {
        "duration": 68,
        "start_time": "2022-08-18T21:09:30.754Z"
      },
      {
        "duration": 8,
        "start_time": "2022-08-18T21:09:30.823Z"
      },
      {
        "duration": 3,
        "start_time": "2022-08-18T21:11:05.512Z"
      },
      {
        "duration": 4,
        "start_time": "2022-08-18T21:11:07.858Z"
      },
      {
        "duration": 1227,
        "start_time": "2022-08-18T22:32:59.077Z"
      },
      {
        "duration": 152,
        "start_time": "2022-08-18T22:33:00.306Z"
      },
      {
        "duration": 27,
        "start_time": "2022-08-18T22:33:00.460Z"
      },
      {
        "duration": 6,
        "start_time": "2022-08-18T22:33:00.489Z"
      },
      {
        "duration": 2024,
        "start_time": "2022-08-18T22:33:00.497Z"
      },
      {
        "duration": 30940,
        "start_time": "2022-08-18T22:33:02.524Z"
      },
      {
        "duration": 61285,
        "start_time": "2022-08-18T22:33:33.466Z"
      },
      {
        "duration": 762,
        "start_time": "2022-08-18T22:34:34.753Z"
      },
      {
        "duration": 10,
        "start_time": "2022-08-18T22:34:35.516Z"
      },
      {
        "duration": 25,
        "start_time": "2022-08-18T22:34:35.528Z"
      },
      {
        "duration": 15,
        "start_time": "2022-08-18T22:34:35.555Z"
      },
      {
        "duration": 254,
        "start_time": "2022-08-18T22:34:35.572Z"
      },
      {
        "duration": 6,
        "start_time": "2022-08-18T22:34:35.828Z"
      },
      {
        "duration": 289,
        "start_time": "2022-08-18T22:34:35.836Z"
      },
      {
        "duration": 237,
        "start_time": "2022-08-18T22:34:36.127Z"
      },
      {
        "duration": 59,
        "start_time": "2022-08-18T22:34:36.365Z"
      },
      {
        "duration": 5,
        "start_time": "2022-08-18T22:34:36.426Z"
      },
      {
        "duration": 2,
        "start_time": "2022-08-18T22:35:32.488Z"
      },
      {
        "duration": 3,
        "start_time": "2022-08-18T22:35:32.890Z"
      },
      {
        "duration": 1949,
        "start_time": "2022-08-18T22:35:33.759Z"
      },
      {
        "duration": 35016073,
        "start_time": "2022-08-18T22:35:40.970Z"
      },
      {
        "duration": 1313,
        "start_time": "2022-08-19T08:25:48.145Z"
      },
      {
        "duration": 2,
        "start_time": "2022-08-19T08:25:50.712Z"
      },
      {
        "duration": 197,
        "start_time": "2022-08-19T08:25:50.998Z"
      },
      {
        "duration": 28,
        "start_time": "2022-08-19T08:25:51.196Z"
      },
      {
        "duration": 5,
        "start_time": "2022-08-19T08:25:51.347Z"
      },
      {
        "duration": 2150,
        "start_time": "2022-08-19T08:25:51.534Z"
      },
      {
        "duration": 39900,
        "start_time": "2022-08-19T08:25:54.628Z"
      },
      {
        "duration": 61494,
        "start_time": "2022-08-19T08:26:34.531Z"
      },
      {
        "duration": 794,
        "start_time": "2022-08-19T08:27:36.026Z"
      },
      {
        "duration": 10,
        "start_time": "2022-08-19T08:27:36.822Z"
      },
      {
        "duration": 33,
        "start_time": "2022-08-19T08:27:36.833Z"
      },
      {
        "duration": 15,
        "start_time": "2022-08-19T08:27:36.867Z"
      },
      {
        "duration": 248,
        "start_time": "2022-08-19T08:27:36.883Z"
      },
      {
        "duration": 5,
        "start_time": "2022-08-19T08:27:37.133Z"
      },
      {
        "duration": 293,
        "start_time": "2022-08-19T08:27:37.139Z"
      },
      {
        "duration": 263,
        "start_time": "2022-08-19T08:27:37.434Z"
      },
      {
        "duration": 66,
        "start_time": "2022-08-19T08:27:37.698Z"
      },
      {
        "duration": 3,
        "start_time": "2022-08-19T08:27:37.766Z"
      },
      {
        "duration": 6,
        "start_time": "2022-08-19T08:27:37.771Z"
      },
      {
        "duration": 5,
        "start_time": "2022-08-19T08:27:37.778Z"
      },
      {
        "duration": 917,
        "start_time": "2022-08-19T08:27:37.785Z"
      },
      {
        "duration": 4,
        "start_time": "2022-08-19T08:28:34.936Z"
      },
      {
        "duration": 2265,
        "start_time": "2022-08-19T08:28:35.951Z"
      },
      {
        "duration": 1284,
        "start_time": "2022-08-19T08:28:45.007Z"
      },
      {
        "duration": 1974,
        "start_time": "2022-08-19T08:28:47.808Z"
      },
      {
        "duration": 3,
        "start_time": "2022-08-19T08:28:50.723Z"
      },
      {
        "duration": 161,
        "start_time": "2022-08-19T08:28:52.880Z"
      },
      {
        "duration": 29,
        "start_time": "2022-08-19T08:28:55.864Z"
      },
      {
        "duration": 5,
        "start_time": "2022-08-19T08:28:57.556Z"
      },
      {
        "duration": 884,
        "start_time": "2022-08-19T08:29:03.791Z"
      },
      {
        "duration": 11,
        "start_time": "2022-08-19T08:29:04.857Z"
      },
      {
        "duration": 29,
        "start_time": "2022-08-19T08:29:05.223Z"
      },
      {
        "duration": 17,
        "start_time": "2022-08-19T08:29:05.428Z"
      },
      {
        "duration": 235,
        "start_time": "2022-08-19T08:29:07.702Z"
      },
      {
        "duration": 6,
        "start_time": "2022-08-19T08:29:08.762Z"
      },
      {
        "duration": 372,
        "start_time": "2022-08-19T08:29:09.115Z"
      },
      {
        "duration": 243,
        "start_time": "2022-08-19T08:29:12.268Z"
      },
      {
        "duration": 123,
        "start_time": "2022-08-19T08:29:17.121Z"
      },
      {
        "duration": 3,
        "start_time": "2022-08-19T08:29:18.253Z"
      },
      {
        "duration": 3,
        "start_time": "2022-08-19T08:29:19.002Z"
      },
      {
        "duration": 2,
        "start_time": "2022-08-19T08:29:24.551Z"
      },
      {
        "duration": 540,
        "start_time": "2022-08-19T08:29:26.009Z"
      },
      {
        "duration": 4,
        "start_time": "2022-08-19T08:31:13.843Z"
      },
      {
        "duration": 608485,
        "start_time": "2022-08-19T08:31:24.563Z"
      },
      {
        "duration": 5,
        "start_time": "2022-08-19T09:00:52.332Z"
      },
      {
        "duration": 977,
        "start_time": "2022-08-19T09:10:48.854Z"
      },
      {
        "duration": 9,
        "start_time": "2022-08-19T09:11:11.261Z"
      },
      {
        "duration": 1259,
        "start_time": "2022-08-19T09:11:45.147Z"
      },
      {
        "duration": 2066,
        "start_time": "2022-08-19T09:11:46.407Z"
      },
      {
        "duration": 3,
        "start_time": "2022-08-19T09:11:48.474Z"
      },
      {
        "duration": 248,
        "start_time": "2022-08-19T09:11:48.479Z"
      },
      {
        "duration": 29,
        "start_time": "2022-08-19T09:11:48.728Z"
      },
      {
        "duration": 5,
        "start_time": "2022-08-19T09:11:48.758Z"
      },
      {
        "duration": 913,
        "start_time": "2022-08-19T09:11:48.764Z"
      },
      {
        "duration": 11,
        "start_time": "2022-08-19T09:11:49.678Z"
      },
      {
        "duration": 44,
        "start_time": "2022-08-19T09:11:49.690Z"
      },
      {
        "duration": 22,
        "start_time": "2022-08-19T09:11:49.737Z"
      },
      {
        "duration": 241,
        "start_time": "2022-08-19T09:11:49.761Z"
      },
      {
        "duration": 18,
        "start_time": "2022-08-19T09:11:50.004Z"
      },
      {
        "duration": 334,
        "start_time": "2022-08-19T09:11:50.023Z"
      },
      {
        "duration": 275,
        "start_time": "2022-08-19T09:11:50.359Z"
      },
      {
        "duration": 135,
        "start_time": "2022-08-19T09:11:50.635Z"
      },
      {
        "duration": 5,
        "start_time": "2022-08-19T09:11:50.771Z"
      },
      {
        "duration": 14,
        "start_time": "2022-08-19T09:11:50.777Z"
      },
      {
        "duration": 14,
        "start_time": "2022-08-19T09:11:50.792Z"
      },
      {
        "duration": 32,
        "start_time": "2022-08-19T09:11:50.808Z"
      },
      {
        "duration": 1855,
        "start_time": "2022-08-19T09:11:50.842Z"
      },
      {
        "duration": 12,
        "start_time": "2022-08-19T09:11:52.699Z"
      },
      {
        "duration": 0,
        "start_time": "2022-08-19T09:11:52.713Z"
      },
      {
        "duration": 0,
        "start_time": "2022-08-19T09:11:52.714Z"
      },
      {
        "duration": 0,
        "start_time": "2022-08-19T09:11:52.715Z"
      },
      {
        "duration": 0,
        "start_time": "2022-08-19T09:11:52.716Z"
      },
      {
        "duration": 0,
        "start_time": "2022-08-19T09:11:52.717Z"
      },
      {
        "duration": 0,
        "start_time": "2022-08-19T09:11:52.718Z"
      },
      {
        "duration": 0,
        "start_time": "2022-08-19T09:11:52.719Z"
      },
      {
        "duration": 0,
        "start_time": "2022-08-19T09:11:52.720Z"
      },
      {
        "duration": 0,
        "start_time": "2022-08-19T09:11:52.720Z"
      },
      {
        "duration": 0,
        "start_time": "2022-08-19T09:11:52.721Z"
      },
      {
        "duration": 0,
        "start_time": "2022-08-19T09:11:52.722Z"
      },
      {
        "duration": 3,
        "start_time": "2022-08-19T09:12:06.907Z"
      },
      {
        "duration": 3,
        "start_time": "2022-08-19T09:12:07.255Z"
      },
      {
        "duration": 638673,
        "start_time": "2022-08-19T09:12:07.513Z"
      },
      {
        "duration": 10,
        "start_time": "2022-08-19T09:22:50.298Z"
      },
      {
        "duration": 1877,
        "start_time": "2022-08-19T09:23:16.959Z"
      },
      {
        "duration": 12,
        "start_time": "2022-08-19T09:23:23.152Z"
      },
      {
        "duration": 3,
        "start_time": "2022-08-19T09:24:26.829Z"
      },
      {
        "duration": 13,
        "start_time": "2022-08-19T09:24:27.655Z"
      },
      {
        "duration": 885,
        "start_time": "2022-08-19T09:24:30.090Z"
      },
      {
        "duration": 1263,
        "start_time": "2022-08-19T09:34:59.971Z"
      },
      {
        "duration": 2116,
        "start_time": "2022-08-19T09:35:01.236Z"
      },
      {
        "duration": 3,
        "start_time": "2022-08-19T09:35:03.354Z"
      },
      {
        "duration": 216,
        "start_time": "2022-08-19T09:35:03.360Z"
      },
      {
        "duration": 28,
        "start_time": "2022-08-19T09:35:03.578Z"
      },
      {
        "duration": 6,
        "start_time": "2022-08-19T09:35:03.607Z"
      },
      {
        "duration": 881,
        "start_time": "2022-08-19T09:35:03.614Z"
      },
      {
        "duration": 17,
        "start_time": "2022-08-19T09:35:04.498Z"
      },
      {
        "duration": 29,
        "start_time": "2022-08-19T09:35:04.516Z"
      },
      {
        "duration": 20,
        "start_time": "2022-08-19T09:35:04.548Z"
      },
      {
        "duration": 286,
        "start_time": "2022-08-19T09:35:04.570Z"
      },
      {
        "duration": 5,
        "start_time": "2022-08-19T09:35:04.858Z"
      },
      {
        "duration": 363,
        "start_time": "2022-08-19T09:35:04.865Z"
      },
      {
        "duration": 262,
        "start_time": "2022-08-19T09:35:05.229Z"
      },
      {
        "duration": 145,
        "start_time": "2022-08-19T09:35:05.495Z"
      },
      {
        "duration": 8,
        "start_time": "2022-08-19T09:35:05.642Z"
      },
      {
        "duration": 10,
        "start_time": "2022-08-19T09:35:05.651Z"
      },
      {
        "duration": 5,
        "start_time": "2022-08-19T09:35:05.663Z"
      },
      {
        "duration": 3,
        "start_time": "2022-08-19T09:35:09.721Z"
      },
      {
        "duration": 604093,
        "start_time": "2022-08-19T09:35:09.987Z"
      },
      {
        "duration": 1949,
        "start_time": "2022-08-19T09:45:14.082Z"
      },
      {
        "duration": 11,
        "start_time": "2022-08-19T09:45:16.032Z"
      },
      {
        "duration": 25,
        "start_time": "2022-08-19T09:45:16.046Z"
      },
      {
        "duration": 4,
        "start_time": "2022-08-19T09:45:16.073Z"
      },
      {
        "duration": 3,
        "start_time": "2022-08-19T10:06:03.226Z"
      },
      {
        "duration": 130,
        "start_time": "2022-08-19T10:09:00.059Z"
      },
      {
        "duration": 14,
        "start_time": "2022-08-19T10:09:27.785Z"
      },
      {
        "duration": 21,
        "start_time": "2022-08-19T10:10:55.048Z"
      },
      {
        "duration": 1194,
        "start_time": "2022-08-19T10:20:24.318Z"
      },
      {
        "duration": 1996,
        "start_time": "2022-08-19T10:20:27.974Z"
      },
      {
        "duration": 3,
        "start_time": "2022-08-19T10:20:29.972Z"
      },
      {
        "duration": 132,
        "start_time": "2022-08-19T10:20:29.976Z"
      },
      {
        "duration": 27,
        "start_time": "2022-08-19T10:20:30.110Z"
      },
      {
        "duration": 5,
        "start_time": "2022-08-19T10:20:30.138Z"
      },
      {
        "duration": 885,
        "start_time": "2022-08-19T10:20:32.527Z"
      },
      {
        "duration": 9,
        "start_time": "2022-08-19T10:20:33.414Z"
      },
      {
        "duration": 28,
        "start_time": "2022-08-19T10:20:35.557Z"
      },
      {
        "duration": 15,
        "start_time": "2022-08-19T10:20:35.898Z"
      },
      {
        "duration": 231,
        "start_time": "2022-08-19T10:20:36.347Z"
      },
      {
        "duration": 5,
        "start_time": "2022-08-19T10:20:40.059Z"
      },
      {
        "duration": 346,
        "start_time": "2022-08-19T10:20:40.367Z"
      },
      {
        "duration": 227,
        "start_time": "2022-08-19T10:20:43.029Z"
      },
      {
        "duration": 123,
        "start_time": "2022-08-19T10:20:46.665Z"
      },
      {
        "duration": 6,
        "start_time": "2022-08-19T10:20:46.998Z"
      },
      {
        "duration": 4,
        "start_time": "2022-08-19T10:20:50.954Z"
      },
      {
        "duration": 3,
        "start_time": "2022-08-19T10:20:56.917Z"
      },
      {
        "duration": 3,
        "start_time": "2022-08-19T10:21:01.578Z"
      },
      {
        "duration": 602951,
        "start_time": "2022-08-19T10:21:01.936Z"
      },
      {
        "duration": 8,
        "start_time": "2022-08-19T10:31:04.888Z"
      },
      {
        "duration": 16,
        "start_time": "2022-08-19T11:00:24.258Z"
      },
      {
        "duration": 4,
        "start_time": "2022-08-19T11:00:26.436Z"
      },
      {
        "duration": 5,
        "start_time": "2022-08-19T11:00:28.837Z"
      },
      {
        "duration": 3380,
        "start_time": "2022-08-19T11:00:39.512Z"
      },
      {
        "duration": 106572,
        "start_time": "2022-08-19T11:01:03.442Z"
      },
      {
        "duration": 112809,
        "start_time": "2022-08-19T11:02:50.016Z"
      },
      {
        "duration": 59059,
        "start_time": "2022-08-19T11:04:42.827Z"
      },
      {
        "duration": 1257,
        "start_time": "2022-08-19T11:08:55.061Z"
      },
      {
        "duration": 112021,
        "start_time": "2022-08-19T11:14:06.408Z"
      },
      {
        "duration": 59310,
        "start_time": "2022-08-19T11:17:44.127Z"
      },
      {
        "duration": 62972,
        "start_time": "2022-08-19T11:23:04.911Z"
      },
      {
        "duration": 235,
        "start_time": "2022-08-19T11:25:52.357Z"
      },
      {
        "duration": 124,
        "start_time": "2022-08-19T11:26:16.359Z"
      },
      {
        "duration": 21120,
        "start_time": "2022-08-19T11:27:09.266Z"
      },
      {
        "duration": 26295,
        "start_time": "2022-08-19T11:27:53.618Z"
      },
      {
        "duration": 172,
        "start_time": "2022-08-19T11:28:19.915Z"
      },
      {
        "duration": 1235,
        "start_time": "2022-08-19T11:31:13.381Z"
      },
      {
        "duration": 1951,
        "start_time": "2022-08-19T11:31:14.618Z"
      },
      {
        "duration": 5,
        "start_time": "2022-08-19T11:31:16.571Z"
      },
      {
        "duration": 140,
        "start_time": "2022-08-19T11:31:16.577Z"
      },
      {
        "duration": 31,
        "start_time": "2022-08-19T11:31:16.718Z"
      },
      {
        "duration": 5,
        "start_time": "2022-08-19T11:31:16.750Z"
      },
      {
        "duration": 829,
        "start_time": "2022-08-19T11:31:16.756Z"
      },
      {
        "duration": 10,
        "start_time": "2022-08-19T11:31:17.587Z"
      },
      {
        "duration": 36,
        "start_time": "2022-08-19T11:31:17.598Z"
      },
      {
        "duration": 15,
        "start_time": "2022-08-19T11:31:17.636Z"
      },
      {
        "duration": 252,
        "start_time": "2022-08-19T11:31:17.652Z"
      },
      {
        "duration": 6,
        "start_time": "2022-08-19T11:31:17.906Z"
      },
      {
        "duration": 310,
        "start_time": "2022-08-19T11:31:17.914Z"
      },
      {
        "duration": 229,
        "start_time": "2022-08-19T11:31:18.225Z"
      },
      {
        "duration": 129,
        "start_time": "2022-08-19T11:31:18.456Z"
      },
      {
        "duration": 5,
        "start_time": "2022-08-19T11:31:18.586Z"
      },
      {
        "duration": 5,
        "start_time": "2022-08-19T11:31:18.593Z"
      },
      {
        "duration": 13,
        "start_time": "2022-08-19T11:31:18.599Z"
      },
      {
        "duration": 5,
        "start_time": "2022-08-19T11:31:18.613Z"
      },
      {
        "duration": 597909,
        "start_time": "2022-08-19T11:31:18.619Z"
      },
      {
        "duration": 1852,
        "start_time": "2022-08-19T11:41:16.530Z"
      },
      {
        "duration": 19,
        "start_time": "2022-08-19T11:41:18.384Z"
      },
      {
        "duration": 30,
        "start_time": "2022-08-19T11:41:18.404Z"
      },
      {
        "duration": 3,
        "start_time": "2022-08-19T11:41:18.436Z"
      },
      {
        "duration": 26,
        "start_time": "2022-08-19T11:41:18.441Z"
      },
      {
        "duration": 3211,
        "start_time": "2022-08-19T11:41:18.468Z"
      },
      {
        "duration": 116033,
        "start_time": "2022-08-19T11:41:21.681Z"
      },
      {
        "duration": 113392,
        "start_time": "2022-08-19T11:43:17.717Z"
      },
      {
        "duration": 63372,
        "start_time": "2022-08-19T11:45:11.110Z"
      },
      {
        "duration": 1329,
        "start_time": "2022-08-19T11:46:14.484Z"
      },
      {
        "duration": 28702,
        "start_time": "2022-08-19T11:46:15.815Z"
      },
      {
        "duration": 21565,
        "start_time": "2022-08-19T11:46:44.519Z"
      },
      {
        "duration": 1285,
        "start_time": "2022-08-19T11:48:56.624Z"
      },
      {
        "duration": 1935,
        "start_time": "2022-08-19T11:48:57.910Z"
      },
      {
        "duration": 3,
        "start_time": "2022-08-19T11:48:59.847Z"
      },
      {
        "duration": 207,
        "start_time": "2022-08-19T11:48:59.852Z"
      },
      {
        "duration": 27,
        "start_time": "2022-08-19T11:49:00.061Z"
      },
      {
        "duration": 4,
        "start_time": "2022-08-19T11:49:00.090Z"
      },
      {
        "duration": 914,
        "start_time": "2022-08-19T11:49:00.095Z"
      },
      {
        "duration": 12,
        "start_time": "2022-08-19T11:49:01.010Z"
      },
      {
        "duration": 28,
        "start_time": "2022-08-19T11:49:01.023Z"
      },
      {
        "duration": 15,
        "start_time": "2022-08-19T11:49:01.052Z"
      },
      {
        "duration": 260,
        "start_time": "2022-08-19T11:49:01.068Z"
      },
      {
        "duration": 6,
        "start_time": "2022-08-19T11:49:01.329Z"
      },
      {
        "duration": 344,
        "start_time": "2022-08-19T11:49:01.337Z"
      },
      {
        "duration": 259,
        "start_time": "2022-08-19T11:49:01.682Z"
      },
      {
        "duration": 136,
        "start_time": "2022-08-19T11:49:01.942Z"
      },
      {
        "duration": 6,
        "start_time": "2022-08-19T11:49:02.079Z"
      },
      {
        "duration": 3,
        "start_time": "2022-08-19T11:49:02.086Z"
      },
      {
        "duration": 20,
        "start_time": "2022-08-19T11:49:02.091Z"
      },
      {
        "duration": 11,
        "start_time": "2022-08-19T11:49:02.112Z"
      },
      {
        "duration": 599915,
        "start_time": "2022-08-19T11:49:02.124Z"
      },
      {
        "duration": 7,
        "start_time": "2022-08-19T11:59:02.041Z"
      },
      {
        "duration": 35,
        "start_time": "2022-08-19T11:59:02.049Z"
      },
      {
        "duration": 4,
        "start_time": "2022-08-19T11:59:02.085Z"
      },
      {
        "duration": 10,
        "start_time": "2022-08-19T11:59:02.090Z"
      },
      {
        "duration": 3361,
        "start_time": "2022-08-19T11:59:02.101Z"
      },
      {
        "duration": 100056,
        "start_time": "2022-08-19T11:59:05.464Z"
      },
      {
        "duration": 111995,
        "start_time": "2022-08-19T12:00:45.611Z"
      },
      {
        "duration": 63285,
        "start_time": "2022-08-19T12:02:37.608Z"
      },
      {
        "duration": 1300,
        "start_time": "2022-08-19T12:03:40.895Z"
      },
      {
        "duration": 27519,
        "start_time": "2022-08-19T12:03:42.197Z"
      },
      {
        "duration": 21573,
        "start_time": "2022-08-19T12:04:09.718Z"
      },
      {
        "duration": 1388,
        "start_time": "2022-08-19T20:02:19.432Z"
      },
      {
        "duration": 2399,
        "start_time": "2022-08-19T20:02:20.822Z"
      },
      {
        "duration": 3,
        "start_time": "2022-08-19T20:02:23.223Z"
      },
      {
        "duration": 805,
        "start_time": "2022-08-19T20:02:23.229Z"
      },
      {
        "duration": 25,
        "start_time": "2022-08-19T20:02:24.036Z"
      },
      {
        "duration": 315,
        "start_time": "2022-08-19T20:02:24.063Z"
      },
      {
        "duration": 3361,
        "start_time": "2022-08-19T20:02:24.380Z"
      },
      {
        "duration": 13,
        "start_time": "2022-08-19T20:02:27.743Z"
      },
      {
        "duration": 37,
        "start_time": "2022-08-19T20:02:27.758Z"
      },
      {
        "duration": 22,
        "start_time": "2022-08-19T20:02:27.798Z"
      },
      {
        "duration": 267,
        "start_time": "2022-08-19T20:02:27.846Z"
      },
      {
        "duration": 6,
        "start_time": "2022-08-19T20:02:28.115Z"
      },
      {
        "duration": 635,
        "start_time": "2022-08-19T20:02:28.122Z"
      },
      {
        "duration": 316,
        "start_time": "2022-08-19T20:02:28.759Z"
      },
      {
        "duration": 3,
        "start_time": "2022-08-19T20:02:29.077Z"
      },
      {
        "duration": 7,
        "start_time": "2022-08-19T20:02:29.082Z"
      },
      {
        "duration": 7,
        "start_time": "2022-08-19T20:02:29.091Z"
      },
      {
        "duration": 8,
        "start_time": "2022-08-19T20:02:29.100Z"
      },
      {
        "duration": 12,
        "start_time": "2022-08-19T20:02:29.110Z"
      },
      {
        "duration": 265785,
        "start_time": "2022-08-19T20:02:29.124Z"
      },
      {
        "duration": 7,
        "start_time": "2022-08-19T20:06:54.911Z"
      },
      {
        "duration": 24,
        "start_time": "2022-08-19T20:06:54.919Z"
      },
      {
        "duration": 1569,
        "start_time": "2022-08-19T20:06:54.945Z"
      },
      {
        "duration": 0,
        "start_time": "2022-08-19T20:06:56.516Z"
      },
      {
        "duration": 0,
        "start_time": "2022-08-19T20:06:56.517Z"
      },
      {
        "duration": 0,
        "start_time": "2022-08-19T20:06:56.518Z"
      },
      {
        "duration": 0,
        "start_time": "2022-08-19T20:06:56.519Z"
      },
      {
        "duration": 0,
        "start_time": "2022-08-19T20:06:56.520Z"
      },
      {
        "duration": 0,
        "start_time": "2022-08-19T20:06:56.522Z"
      },
      {
        "duration": 0,
        "start_time": "2022-08-19T20:06:56.523Z"
      },
      {
        "duration": 0,
        "start_time": "2022-08-19T20:06:56.524Z"
      },
      {
        "duration": 0,
        "start_time": "2022-08-19T20:06:56.528Z"
      },
      {
        "duration": 3200,
        "start_time": "2022-08-19T20:07:29.443Z"
      },
      {
        "duration": 1299,
        "start_time": "2022-08-19T20:08:34.183Z"
      },
      {
        "duration": 2042,
        "start_time": "2022-08-19T20:08:35.484Z"
      },
      {
        "duration": 3,
        "start_time": "2022-08-19T20:08:37.531Z"
      },
      {
        "duration": 262,
        "start_time": "2022-08-19T20:08:37.536Z"
      },
      {
        "duration": 28,
        "start_time": "2022-08-19T20:08:37.800Z"
      },
      {
        "duration": 6,
        "start_time": "2022-08-19T20:08:37.830Z"
      },
      {
        "duration": 797,
        "start_time": "2022-08-19T20:08:37.838Z"
      },
      {
        "duration": 19,
        "start_time": "2022-08-19T20:08:38.637Z"
      },
      {
        "duration": 33,
        "start_time": "2022-08-19T20:08:38.659Z"
      },
      {
        "duration": 16,
        "start_time": "2022-08-19T20:08:38.694Z"
      },
      {
        "duration": 261,
        "start_time": "2022-08-19T20:08:38.712Z"
      },
      {
        "duration": 6,
        "start_time": "2022-08-19T20:08:38.975Z"
      },
      {
        "duration": 356,
        "start_time": "2022-08-19T20:08:38.983Z"
      },
      {
        "duration": 277,
        "start_time": "2022-08-19T20:08:39.340Z"
      },
      {
        "duration": 2,
        "start_time": "2022-08-19T20:08:39.619Z"
      },
      {
        "duration": 10,
        "start_time": "2022-08-19T20:08:39.623Z"
      },
      {
        "duration": 12,
        "start_time": "2022-08-19T20:08:39.635Z"
      },
      {
        "duration": 9,
        "start_time": "2022-08-19T20:08:39.648Z"
      },
      {
        "duration": 11,
        "start_time": "2022-08-19T20:08:39.658Z"
      },
      {
        "duration": 1167962,
        "start_time": "2022-08-19T20:08:39.671Z"
      },
      {
        "duration": 5817,
        "start_time": "2022-08-19T20:28:07.635Z"
      },
      {
        "duration": 4000,
        "start_time": "2022-08-19T20:28:13.455Z"
      },
      {
        "duration": 9,
        "start_time": "2022-08-19T20:28:17.458Z"
      },
      {
        "duration": 27,
        "start_time": "2022-08-19T20:28:17.469Z"
      },
      {
        "duration": 4,
        "start_time": "2022-08-19T20:28:17.498Z"
      },
      {
        "duration": 11,
        "start_time": "2022-08-19T20:28:17.505Z"
      },
      {
        "duration": 370,
        "start_time": "2022-08-19T20:28:17.520Z"
      },
      {
        "duration": 0,
        "start_time": "2022-08-19T20:28:17.892Z"
      },
      {
        "duration": 0,
        "start_time": "2022-08-19T20:28:17.894Z"
      },
      {
        "duration": 0,
        "start_time": "2022-08-19T20:28:17.895Z"
      },
      {
        "duration": 0,
        "start_time": "2022-08-19T20:28:17.897Z"
      },
      {
        "duration": 0,
        "start_time": "2022-08-19T20:28:17.898Z"
      },
      {
        "duration": 0,
        "start_time": "2022-08-19T20:28:17.900Z"
      },
      {
        "duration": 1359,
        "start_time": "2022-08-19T21:28:03.708Z"
      },
      {
        "duration": 2092,
        "start_time": "2022-08-19T21:28:05.069Z"
      },
      {
        "duration": 3,
        "start_time": "2022-08-19T21:28:07.163Z"
      },
      {
        "duration": 259,
        "start_time": "2022-08-19T21:28:07.168Z"
      },
      {
        "duration": 28,
        "start_time": "2022-08-19T21:28:07.430Z"
      },
      {
        "duration": 6,
        "start_time": "2022-08-19T21:28:07.459Z"
      },
      {
        "duration": 882,
        "start_time": "2022-08-19T21:28:07.467Z"
      },
      {
        "duration": 12,
        "start_time": "2022-08-19T21:28:08.351Z"
      },
      {
        "duration": 35,
        "start_time": "2022-08-19T21:28:08.365Z"
      },
      {
        "duration": 17,
        "start_time": "2022-08-19T21:28:08.401Z"
      },
      {
        "duration": 263,
        "start_time": "2022-08-19T21:28:08.420Z"
      },
      {
        "duration": 6,
        "start_time": "2022-08-19T21:28:08.685Z"
      },
      {
        "duration": 370,
        "start_time": "2022-08-19T21:28:08.693Z"
      },
      {
        "duration": 310,
        "start_time": "2022-08-19T21:28:09.066Z"
      },
      {
        "duration": 2,
        "start_time": "2022-08-19T21:28:09.378Z"
      },
      {
        "duration": 9,
        "start_time": "2022-08-19T21:28:09.381Z"
      },
      {
        "duration": 122,
        "start_time": "2022-08-19T21:28:09.392Z"
      },
      {
        "duration": 9,
        "start_time": "2022-08-19T21:28:09.516Z"
      },
      {
        "duration": 5,
        "start_time": "2022-08-19T21:28:09.526Z"
      },
      {
        "duration": 1196419,
        "start_time": "2022-08-19T21:28:09.533Z"
      },
      {
        "duration": 8,
        "start_time": "2022-08-19T21:48:05.953Z"
      },
      {
        "duration": 49,
        "start_time": "2022-08-19T21:48:05.962Z"
      },
      {
        "duration": 4,
        "start_time": "2022-08-19T21:48:06.013Z"
      },
      {
        "duration": 27,
        "start_time": "2022-08-19T21:48:06.019Z"
      },
      {
        "duration": 6876,
        "start_time": "2022-08-19T21:48:06.048Z"
      },
      {
        "duration": 216523,
        "start_time": "2022-08-19T21:48:12.926Z"
      },
      {
        "duration": 243325,
        "start_time": "2022-08-19T21:51:49.451Z"
      },
      {
        "duration": 116669,
        "start_time": "2022-08-19T21:55:52.778Z"
      },
      {
        "duration": 2061,
        "start_time": "2022-08-19T21:57:49.448Z"
      },
      {
        "duration": 44436,
        "start_time": "2022-08-19T21:57:51.510Z"
      },
      {
        "duration": 46787,
        "start_time": "2022-08-19T21:58:35.948Z"
      },
      {
        "duration": 4,
        "start_time": "2022-08-19T22:02:00.144Z"
      },
      {
        "duration": 541309,
        "start_time": "2022-08-19T22:09:42.646Z"
      },
      {
        "duration": 237,
        "start_time": "2022-08-19T22:19:47.094Z"
      },
      {
        "duration": 47299,
        "start_time": "2022-08-19T22:19:58.346Z"
      },
      {
        "duration": 1363,
        "start_time": "2022-08-19T22:24:09.482Z"
      },
      {
        "duration": 2180,
        "start_time": "2022-08-19T22:24:10.847Z"
      },
      {
        "duration": 3,
        "start_time": "2022-08-19T22:24:13.029Z"
      },
      {
        "duration": 199,
        "start_time": "2022-08-19T22:24:13.035Z"
      },
      {
        "duration": 27,
        "start_time": "2022-08-19T22:24:13.236Z"
      },
      {
        "duration": 4,
        "start_time": "2022-08-19T22:24:13.265Z"
      },
      {
        "duration": 856,
        "start_time": "2022-08-19T22:24:13.271Z"
      },
      {
        "duration": 19,
        "start_time": "2022-08-19T22:24:14.128Z"
      },
      {
        "duration": 34,
        "start_time": "2022-08-19T22:24:14.149Z"
      },
      {
        "duration": 29,
        "start_time": "2022-08-19T22:24:14.185Z"
      },
      {
        "duration": 280,
        "start_time": "2022-08-19T22:24:14.216Z"
      },
      {
        "duration": 6,
        "start_time": "2022-08-19T22:24:14.498Z"
      },
      {
        "duration": 405,
        "start_time": "2022-08-19T22:24:14.506Z"
      },
      {
        "duration": 328,
        "start_time": "2022-08-19T22:24:14.913Z"
      },
      {
        "duration": 3,
        "start_time": "2022-08-19T22:24:15.245Z"
      },
      {
        "duration": 20,
        "start_time": "2022-08-19T22:24:15.250Z"
      },
      {
        "duration": 9,
        "start_time": "2022-08-19T22:24:15.273Z"
      },
      {
        "duration": 7,
        "start_time": "2022-08-19T22:24:15.284Z"
      },
      {
        "duration": 23,
        "start_time": "2022-08-19T22:24:15.292Z"
      },
      {
        "duration": 1176974,
        "start_time": "2022-08-19T22:24:15.316Z"
      },
      {
        "duration": 8,
        "start_time": "2022-08-19T22:43:52.292Z"
      },
      {
        "duration": 58,
        "start_time": "2022-08-19T22:43:52.302Z"
      },
      {
        "duration": 4,
        "start_time": "2022-08-19T22:43:52.362Z"
      },
      {
        "duration": 6,
        "start_time": "2022-08-19T22:43:52.368Z"
      },
      {
        "duration": 6934,
        "start_time": "2022-08-19T22:43:52.375Z"
      },
      {
        "duration": 539148,
        "start_time": "2022-08-19T22:43:59.312Z"
      },
      {
        "duration": 243614,
        "start_time": "2022-08-19T22:52:58.548Z"
      },
      {
        "duration": 119306,
        "start_time": "2022-08-19T22:57:02.165Z"
      },
      {
        "duration": 2110,
        "start_time": "2022-08-19T22:59:01.473Z"
      },
      {
        "duration": 45862,
        "start_time": "2022-08-19T22:59:03.585Z"
      },
      {
        "duration": 47125,
        "start_time": "2022-08-19T22:59:49.449Z"
      }
    ],
    "kernelspec": {
      "display_name": "Python 3 (ipykernel)",
      "language": "python",
      "name": "python3"
    },
    "language_info": {
      "codemirror_mode": {
        "name": "ipython",
        "version": 3
      },
      "file_extension": ".py",
      "mimetype": "text/x-python",
      "name": "python",
      "nbconvert_exporter": "python",
      "pygments_lexer": "ipython3",
      "version": "3.9.5"
    },
    "toc": {
      "base_numbering": 1,
      "nav_menu": {},
      "number_sections": true,
      "sideBar": true,
      "skip_h1_title": true,
      "title_cell": "Содержание",
      "title_sidebar": "Contents",
      "toc_cell": true,
      "toc_position": {
        "height": "calc(100% - 180px)",
        "left": "10px",
        "top": "150px",
        "width": "302.391px"
      },
      "toc_section_display": true,
      "toc_window_display": false
    },
    "colab": {
      "provenance": []
    }
  },
  "nbformat": 4,
  "nbformat_minor": 0
}